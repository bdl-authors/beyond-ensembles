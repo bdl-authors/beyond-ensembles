{
 "cells": [
  {
   "cell_type": "code",
   "execution_count": 1,
   "metadata": {},
   "outputs": [
    {
     "name": "stderr",
     "output_type": "stream",
     "text": [
      "Failed to detect the name of this notebook, you can set it manually with the WANDB_NOTEBOOK_NAME environment variable to enable code saving.\n"
     ]
    },
    {
     "data": {
      "text/plain": []
     },
     "execution_count": 1,
     "metadata": {},
     "output_type": "execute_result"
    }
   ],
   "source": [
    "%load_ext autoreload\n",
    "%autoreload 2\n",
    "\n",
    "import torch\n",
    "import torch.nn as nn\n",
    "import torch.nn.functional as F\n",
    "import math\n",
    "\n",
    "#DATA_PATH = \"/mnt/d/Uni/Bachelorarbeit/linux/data\"\n",
    "DATA_PATH = \"./data/\"\n",
    "#MODELS_PATH = \"/mnt/d/Uni/Bachelorarbeit/linux/huggingface\"\n",
    "MODELS_PATH = \"./data/huggingface\"\n",
    "\n",
    "if torch.cuda.is_available():\n",
    "    device = torch.device(\"cuda\")\n",
    "else:\n",
    "    device = torch.device(\"cpu\")\n",
    "\n",
    "from src.log_mock import PrintLog\n",
    "log = PrintLog()\n",
    "\n",
    "import wandb\n",
    "\n",
    "wandb.init(mode=\"disabled\")"
   ]
  },
  {
   "cell_type": "code",
   "execution_count": 2,
   "metadata": {},
   "outputs": [],
   "source": [
    "wapi = wandb.Api()\n",
    "runs = wapi.runs(\"foobar/civil\")"
   ]
  },
  {
   "cell_type": "code",
   "execution_count": 3,
   "metadata": {},
   "outputs": [],
   "source": [
    "def create_reliability_plot(results):\n",
    "    print(f\"sECE: {results['sece']:.4f}, ECE: {results['ece']:.4f}\")\n",
    "    bins = list(filter(lambda x: x[0] > 0, zip(results[\"bin_confidences\"], results[\"bin_accuracies\"], results[\"bin_counts\"])))\n",
    "\n",
    "    print(\"\\\\begin{tikzpicture}\")\n",
    "    print(\"    \\\\begin{axis}[calstyle, xmin=0, xmax=1, ymin=0, ymax=1]\")\n",
    "    print(\"        \\\\addplot[dashed, color=black] coordinates {(0,0) (1,1)};\")\n",
    "    print(\"        \\\\addplot[calline] coordinates {\" + \" \".join(map(lambda x: f\"({x[0]}, {x[1]})\", bins)) + \"};\")\n",
    "    for conf, acc, count in list(bins):\n",
    "        print(f\"        \\\\node[above, anchor=south west, rotate=60, font=\\\\tiny] at (axis cs:{conf}, 1.0) {{{count}}};\")\n",
    "        print(f\"        \\\\draw[dotted, color=black] (axis cs:{conf}, {acc}) -- (axis cs:{conf}, 1.0);\")\n",
    "    print(\"    \\\\end{axis}\")\n",
    "    print(\"\\\\end{tikzpicture}\")"
   ]
  },
  {
   "cell_type": "code",
   "execution_count": 4,
   "metadata": {},
   "outputs": [],
   "source": [
    "import plotly.express as px\n",
    "import pandas as pd\n",
    "import dateutil\n",
    "import datetime\n",
    "import json\n",
    "\n",
    "def create_plot_data_for_run(run):\n",
    "    lowest_sece = 1\n",
    "    lowest_sece_group = \"None\"\n",
    "    highest_sece = -1\n",
    "    highest_sece_group = \"None\"\n",
    "    worst_acc = 1\n",
    "    worst_acc_group = \"None\"\n",
    "    print(run.name)\n",
    "    for name, results in run.summary[\"test_results\"].items():\n",
    "        if \"toxic\" in name:\n",
    "            if results[\"sece\"] < lowest_sece:\n",
    "                lowest_sece = results[\"sece\"]\n",
    "                lowest_sece_group = name\n",
    "            if results[\"sece\"] > highest_sece:\n",
    "                highest_sece = results[\"sece\"]\n",
    "                highest_sece_group = name\n",
    "            if results[\"accuracy\"] < worst_acc:\n",
    "                worst_acc = results[\"accuracy\"]\n",
    "                worst_acc_group = name\n",
    "\n",
    "    create_reliability_plot(run.summary[\"test_results\"][lowest_sece_group])\n",
    "\n",
    "    model_name = run.name.split(\"-\")[0]\n",
    "    return {\n",
    "        \"model\": model_name + \"-\" + run.name.split(\"-\")[2] if \"drop-rates\" in run.tags else model_name,\n",
    "        \"worst_acc\": worst_acc_group,\n",
    "        \"worst_acc accuracy\": worst_acc, #run.summary[\"test_results\"][\"worst group accuracy\"],\n",
    "        \"worst_acc sece\": run.summary[\"test_results\"][worst_acc_group][\"sece\"],\n",
    "        \"worst_acc ece\": run.summary[\"test_results\"][worst_acc_group][\"ece\"],\n",
    "\n",
    "        \"lowest_sece\": lowest_sece_group,\n",
    "        \"lowest_sece accuracy\": run.summary[\"test_results\"][lowest_sece_group][\"accuracy\"],\n",
    "        \"lowest_sece sece\": lowest_sece,\n",
    "\n",
    "        \"highest_sece\": highest_sece_group,\n",
    "        \"highest_sece accuracy\": run.summary[\"test_results\"][highest_sece_group][\"accuracy\"],\n",
    "        \"highest_sece sece\": highest_sece,\n",
    "\n",
    "        \"all accuracy\": run.summary[\"test_results\"][\"all\"][\"accuracy\"],\n",
    "        \"all sece\": run.summary[\"test_results\"][\"all\"][\"sece\"],\n",
    "        \"all ece\": run.summary[\"test_results\"][\"all\"][\"ece\"],\n",
    "    }\n",
    "\n",
    "def plot(data, value):\n",
    "    plot = px.box(data, x=\"model\", y=value, color=\"model\")\n",
    "    return plot\n",
    "\n",
    "def pareto_plot(data, group, ece=False):\n",
    "    if ece:\n",
    "        plot = px.scatter(data, x=f\"{group} accuracy\", error_x=f\"{group} accuracy_std\", y=f\"{group} ece\", error_y=f\"{group} ece_std\", color=\"model\")\n",
    "    else:\n",
    "        plot = px.scatter(data, x=f\"{group} accuracy\", error_x=f\"{group} accuracy_std\", y=f\"{group} sece\", error_y=f\"{group} sece_std\", color=\"model\")\n",
    "    return plot\n",
    "\n",
    "def build_data(runs):\n",
    "    rows = []\n",
    "    for run in runs:\n",
    "        if dateutil.parser.parse(run.created_at) < datetime.datetime(2023, 3, 10, 10, 0):\n",
    "            continue\n",
    "        if run.state != \"finished\":\n",
    "            continue\n",
    "        if \"old\" in run.tags:\n",
    "            print(run.name)\n",
    "            continue\n",
    "        print(run.summary.keys())\n",
    "        rows.append(create_plot_data_for_run(run))\n",
    "    return pd.DataFrame.from_dict(rows)\n",
    "\n",
    "def aggregate_data(data):\n",
    "    aggregated_data = data.groupby([\"model\"]).agg({\n",
    "        \"model\": \"first\",\n",
    "        \"worst_acc accuracy\": [\"mean\", \"sem\"], \n",
    "        \"worst_acc sece\": [\"mean\", \"sem\"],\n",
    "        \"worst_acc ece\": [\"mean\", \"sem\"],\n",
    "        \"lowest_sece accuracy\": [\"mean\", \"sem\"], \n",
    "        \"lowest_sece sece\": [\"mean\", \"sem\"],\n",
    "        \"highest_sece accuracy\": [\"mean\", \"sem\"], \n",
    "        \"highest_sece sece\": [\"mean\", \"sem\"],\n",
    "        \"all accuracy\": [\"mean\", \"sem\"], \n",
    "        \"all sece\": [\"mean\", \"sem\"],\n",
    "        \"all ece\": [\"mean\", \"sem\"],\n",
    "    })\n",
    "    aggregated_data.columns = [a[0] + \"_std\" if a[1] == \"sem\" else a[0] for a in aggregated_data.columns.to_flat_index()]\n",
    "    aggregated_data[\"worst_acc accuracy_std\"] *= 2.0\n",
    "    aggregated_data[\"worst_acc sece_std\"] *= 2.0\n",
    "    aggregated_data[\"worst_acc ece_std\"] *= 2.0\n",
    "    aggregated_data[\"lowest_sece accuracy_std\"] *= 2.0\n",
    "    aggregated_data[\"lowest_sece sece_std\"] *= 2.0\n",
    "    aggregated_data[\"highest_sece accuracy_std\"] *= 2.0\n",
    "    aggregated_data[\"highest_sece sece_std\"] *= 2.0\n",
    "    aggregated_data[\"all accuracy_std\"] *= 2.0\n",
    "    aggregated_data[\"all sece_std\"] *= 2.0\n",
    "    aggregated_data[\"all ece_std\"] *= 2.0\n",
    "    return aggregated_data"
   ]
  },
  {
   "cell_type": "code",
   "execution_count": 5,
   "metadata": {},
   "outputs": [
    {
     "name": "stdout",
     "output_type": "stream",
     "text": [
      "dict_keys(['_step', '_wandb', '_runtime', 'train_loss', 'other_religion-toxic', 'black-non-toxic', 'female-non-toxic', 'other_religion-non-toxic', 'all', 'male-toxic', 'white-toxic', 'female-toxic', 'male-non-toxic', 'christian-toxic', 'muslim-non-toxic', 'christian-non-toxic', 'all-toxic', '_timestamp', 'black-toxic', 'test_results', 'all-non-toxic', 'lgbtq-toxic', 'muslim-toxic', 'lgbtq-non-toxic', 'white-non-toxic', 'worst group accuracy'])\n",
      "ll_svgd-2\n",
      "sECE: -0.3798, ECE: 0.3798\n",
      "\\begin{tikzpicture}\n",
      "    \\begin{axis}[calstyle, xmin=0, xmax=1, ymin=0, ymax=1]\n",
      "        \\addplot[dashed, color=black] coordinates {(0,0) (1,1)};\n",
      "        \\addplot[calline] coordinates {(0.5515111684799194, 0.44255319237709045) (0.6487820744514465, 0.4377880096435547) (0.7487647533416748, 0.4919354915618897) (0.8525769114494324, 0.481203019618988) (0.9580023288726808, 0.12585033476352692)};\n",
      "        \\node[above, anchor=south west, rotate=60, font=\\tiny] at (axis cs:0.5515111684799194, 1.0) {235};\n",
      "        \\draw[dotted, color=black] (axis cs:0.5515111684799194, 0.44255319237709045) -- (axis cs:0.5515111684799194, 1.0);\n",
      "        \\node[above, anchor=south west, rotate=60, font=\\tiny] at (axis cs:0.6487820744514465, 1.0) {217};\n",
      "        \\draw[dotted, color=black] (axis cs:0.6487820744514465, 0.4377880096435547) -- (axis cs:0.6487820744514465, 1.0);\n",
      "        \\node[above, anchor=south west, rotate=60, font=\\tiny] at (axis cs:0.7487647533416748, 1.0) {248};\n",
      "        \\draw[dotted, color=black] (axis cs:0.7487647533416748, 0.4919354915618897) -- (axis cs:0.7487647533416748, 1.0);\n",
      "        \\node[above, anchor=south west, rotate=60, font=\\tiny] at (axis cs:0.8525769114494324, 1.0) {266};\n",
      "        \\draw[dotted, color=black] (axis cs:0.8525769114494324, 0.481203019618988) -- (axis cs:0.8525769114494324, 1.0);\n",
      "        \\node[above, anchor=south west, rotate=60, font=\\tiny] at (axis cs:0.9580023288726808, 1.0) {294};\n",
      "        \\draw[dotted, color=black] (axis cs:0.9580023288726808, 0.12585033476352692) -- (axis cs:0.9580023288726808, 1.0);\n",
      "    \\end{axis}\n",
      "\\end{tikzpicture}\n",
      "dict_keys(['female-non-toxic', 'worst group accuracy', 'other_religion-non-toxic', 'lgbtq-toxic', 'female-toxic', 'black-non-toxic', 'lgbtq-non-toxic', '_step', 'all-toxic', 'male-toxic', 'train_loss', 'white-non-toxic', 'muslim-non-toxic', 'christian-non-toxic', 'other_religion-toxic', 'all', '_wandb', 'white-toxic', 'christian-toxic', 'test_results', 'all-non-toxic', 'male-non-toxic', '_runtime', '_timestamp', 'black-toxic', 'muslim-toxic'])\n",
      "ll_svgd-1\n",
      "sECE: -0.3626, ECE: 0.3626\n",
      "\\begin{tikzpicture}\n",
      "    \\begin{axis}[calstyle, xmin=0, xmax=1, ymin=0, ymax=1]\n",
      "        \\addplot[dashed, color=black] coordinates {(0,0) (1,1)};\n",
      "        \\addplot[calline] coordinates {(0.5493186712265015, 0.47641509771347046) (0.6497082114219666, 0.49504950642585754) (0.7493205070495605, 0.4739130437374115) (0.8537126183509827, 0.5316901206970215) (0.9558385014533995, 0.1867469847202301)};\n",
      "        \\node[above, anchor=south west, rotate=60, font=\\tiny] at (axis cs:0.5493186712265015, 1.0) {212};\n",
      "        \\draw[dotted, color=black] (axis cs:0.5493186712265015, 0.47641509771347046) -- (axis cs:0.5493186712265015, 1.0);\n",
      "        \\node[above, anchor=south west, rotate=60, font=\\tiny] at (axis cs:0.6497082114219666, 1.0) {202};\n",
      "        \\draw[dotted, color=black] (axis cs:0.6497082114219666, 0.49504950642585754) -- (axis cs:0.6497082114219666, 1.0);\n",
      "        \\node[above, anchor=south west, rotate=60, font=\\tiny] at (axis cs:0.7493205070495605, 1.0) {230};\n",
      "        \\draw[dotted, color=black] (axis cs:0.7493205070495605, 0.4739130437374115) -- (axis cs:0.7493205070495605, 1.0);\n",
      "        \\node[above, anchor=south west, rotate=60, font=\\tiny] at (axis cs:0.8537126183509827, 1.0) {284};\n",
      "        \\draw[dotted, color=black] (axis cs:0.8537126183509827, 0.5316901206970215) -- (axis cs:0.8537126183509827, 1.0);\n",
      "        \\node[above, anchor=south west, rotate=60, font=\\tiny] at (axis cs:0.9558385014533995, 1.0) {332};\n",
      "        \\draw[dotted, color=black] (axis cs:0.9558385014533995, 0.1867469847202301) -- (axis cs:0.9558385014533995, 1.0);\n",
      "    \\end{axis}\n",
      "\\end{tikzpicture}\n",
      "dict_keys(['_step', '_timestamp', 'train_loss', 'white-toxic', 'all-non-toxic', 'male-non-toxic', 'lgbtq-non-toxic', 'all', '_wandb', 'all-toxic', 'lgbtq-toxic', 'black-non-toxic', 'white-non-toxic', 'christian-non-toxic', 'muslim-toxic', 'muslim-non-toxic', 'other_religion-non-toxic', 'other_religion-toxic', '_runtime', 'male-toxic', 'black-toxic', 'female-toxic', 'test_results', 'christian-toxic', 'female-non-toxic', 'worst group accuracy'])\n",
      "ll_svgd-4\n",
      "sECE: -0.3468, ECE: 0.3468\n",
      "\\begin{tikzpicture}\n",
      "    \\begin{axis}[calstyle, xmin=0, xmax=1, ymin=0, ymax=1]\n",
      "        \\addplot[dashed, color=black] coordinates {(0,0) (1,1)};\n",
      "        \\addplot[calline] coordinates {(0.5523449778556824, 0.460829496383667) (0.649767279624939, 0.49295774102211) (0.7524080276489258, 0.49065420031547546) (0.8521106839179993, 0.5656565427780151) (0.9547473788261414, 0.19435736536979675)};\n",
      "        \\node[above, anchor=south west, rotate=60, font=\\tiny] at (axis cs:0.5523449778556824, 1.0) {217};\n",
      "        \\draw[dotted, color=black] (axis cs:0.5523449778556824, 0.460829496383667) -- (axis cs:0.5523449778556824, 1.0);\n",
      "        \\node[above, anchor=south west, rotate=60, font=\\tiny] at (axis cs:0.649767279624939, 1.0) {213};\n",
      "        \\draw[dotted, color=black] (axis cs:0.649767279624939, 0.49295774102211) -- (axis cs:0.649767279624939, 1.0);\n",
      "        \\node[above, anchor=south west, rotate=60, font=\\tiny] at (axis cs:0.7524080276489258, 1.0) {214};\n",
      "        \\draw[dotted, color=black] (axis cs:0.7524080276489258, 0.49065420031547546) -- (axis cs:0.7524080276489258, 1.0);\n",
      "        \\node[above, anchor=south west, rotate=60, font=\\tiny] at (axis cs:0.8521106839179993, 1.0) {297};\n",
      "        \\draw[dotted, color=black] (axis cs:0.8521106839179993, 0.5656565427780151) -- (axis cs:0.8521106839179993, 1.0);\n",
      "        \\node[above, anchor=south west, rotate=60, font=\\tiny] at (axis cs:0.9547473788261414, 1.0) {319};\n",
      "        \\draw[dotted, color=black] (axis cs:0.9547473788261414, 0.19435736536979675) -- (axis cs:0.9547473788261414, 1.0);\n",
      "    \\end{axis}\n",
      "\\end{tikzpicture}\n",
      "dict_keys(['_step', 'white-toxic', 'test_results', 'male-non-toxic', 'black-non-toxic', 'lgbtq-non-toxic', 'other_religion-non-toxic', 'all', 'all-toxic', '_timestamp', 'male-toxic', 'black-toxic', 'lgbtq-toxic', 'all-non-toxic', 'muslim-non-toxic', '_runtime', 'worst group accuracy', 'other_religion-toxic', 'train_loss', 'female-toxic', 'muslim-toxic', 'christian-toxic', 'white-non-toxic', 'female-non-toxic', '_wandb', 'christian-non-toxic'])\n",
      "ll_svgd-0\n",
      "sECE: -0.3132, ECE: 0.3146\n",
      "\\begin{tikzpicture}\n",
      "    \\begin{axis}[calstyle, xmin=0, xmax=1, ymin=0, ymax=1]\n",
      "        \\addplot[dashed, color=black] coordinates {(0,0) (1,1)};\n",
      "        \\addplot[calline] coordinates {(0.5496895909309387, 0.5539215803146362) (0.6504886150360107, 0.46046510338783264) (0.7522409558296204, 0.4859813153743744) (0.8488476872444153, 0.49473685026168823) (0.9496251344680786, 0.3742690086364746)};\n",
      "        \\node[above, anchor=south west, rotate=60, font=\\tiny] at (axis cs:0.5496895909309387, 1.0) {204};\n",
      "        \\draw[dotted, color=black] (axis cs:0.5496895909309387, 0.5539215803146362) -- (axis cs:0.5496895909309387, 1.0);\n",
      "        \\node[above, anchor=south west, rotate=60, font=\\tiny] at (axis cs:0.6504886150360107, 1.0) {215};\n",
      "        \\draw[dotted, color=black] (axis cs:0.6504886150360107, 0.46046510338783264) -- (axis cs:0.6504886150360107, 1.0);\n",
      "        \\node[above, anchor=south west, rotate=60, font=\\tiny] at (axis cs:0.7522409558296204, 1.0) {214};\n",
      "        \\draw[dotted, color=black] (axis cs:0.7522409558296204, 0.4859813153743744) -- (axis cs:0.7522409558296204, 1.0);\n",
      "        \\node[above, anchor=south west, rotate=60, font=\\tiny] at (axis cs:0.8488476872444153, 1.0) {285};\n",
      "        \\draw[dotted, color=black] (axis cs:0.8488476872444153, 0.49473685026168823) -- (axis cs:0.8488476872444153, 1.0);\n",
      "        \\node[above, anchor=south west, rotate=60, font=\\tiny] at (axis cs:0.9496251344680786, 1.0) {342};\n",
      "        \\draw[dotted, color=black] (axis cs:0.9496251344680786, 0.3742690086364746) -- (axis cs:0.9496251344680786, 1.0);\n",
      "    \\end{axis}\n",
      "\\end{tikzpicture}\n",
      "dict_keys(['lgbtq-toxic', 'muslim-toxic', 'all-non-toxic', 'muslim-non-toxic', 'all-toxic', 'black-toxic', '_wandb', '_timestamp', 'white-toxic', 'male-non-toxic', 'christian-toxic', 'lgbtq-non-toxic', 'all', '_step', 'other_religion-non-toxic', 'female-non-toxic', 'christian-non-toxic', 'black-non-toxic', 'white-non-toxic', 'other_religion-toxic', 'worst group accuracy', 'male-toxic', 'train_loss', 'test_results', '_runtime', 'female-toxic'])\n",
      "ll_svgd-3\n",
      "sECE: -0.3708, ECE: 0.3708\n",
      "\\begin{tikzpicture}\n",
      "    \\begin{axis}[calstyle, xmin=0, xmax=1, ymin=0, ymax=1]\n",
      "        \\addplot[dashed, color=black] coordinates {(0,0) (1,1)};\n",
      "        \\addplot[calline] coordinates {(0.551503598690033, 0.4605809152126312) (0.65174400806427, 0.44600939750671387) (0.7480600476264954, 0.4700460731983185) (0.8504343032836914, 0.482876718044281) (0.9555066823959352, 0.16835017502307892)};\n",
      "        \\node[above, anchor=south west, rotate=60, font=\\tiny] at (axis cs:0.551503598690033, 1.0) {241};\n",
      "        \\draw[dotted, color=black] (axis cs:0.551503598690033, 0.4605809152126312) -- (axis cs:0.551503598690033, 1.0);\n",
      "        \\node[above, anchor=south west, rotate=60, font=\\tiny] at (axis cs:0.65174400806427, 1.0) {213};\n",
      "        \\draw[dotted, color=black] (axis cs:0.65174400806427, 0.44600939750671387) -- (axis cs:0.65174400806427, 1.0);\n",
      "        \\node[above, anchor=south west, rotate=60, font=\\tiny] at (axis cs:0.7480600476264954, 1.0) {217};\n",
      "        \\draw[dotted, color=black] (axis cs:0.7480600476264954, 0.4700460731983185) -- (axis cs:0.7480600476264954, 1.0);\n",
      "        \\node[above, anchor=south west, rotate=60, font=\\tiny] at (axis cs:0.8504343032836914, 1.0) {292};\n",
      "        \\draw[dotted, color=black] (axis cs:0.8504343032836914, 0.482876718044281) -- (axis cs:0.8504343032836914, 1.0);\n",
      "        \\node[above, anchor=south west, rotate=60, font=\\tiny] at (axis cs:0.9555066823959352, 1.0) {297};\n",
      "        \\draw[dotted, color=black] (axis cs:0.9555066823959352, 0.16835017502307892) -- (axis cs:0.9555066823959352, 1.0);\n",
      "    \\end{axis}\n",
      "\\end{tikzpicture}\n",
      "dict_keys(['_step', '_wandb', '_runtime', '_timestamp', 'test_results'])\n",
      "ll_ivon_5-0\n",
      "sECE: -0.4119, ECE: 0.4119\n",
      "\\begin{tikzpicture}\n",
      "    \\begin{axis}[calstyle, xmin=0, xmax=1, ymin=0, ymax=1]\n",
      "        \\addplot[dashed, color=black] coordinates {(0,0) (1,1)};\n",
      "        \\addplot[calline] coordinates {(0.5539423227310181, 0.5526315569877625) (0.6476967930793762, 0.3921568691730499) (0.753460168838501, 0.3484848439693451) (0.8511020541191101, 0.39240506291389465) (0.9760510921478271, 0.4930070042610169)};\n",
      "        \\node[above, anchor=south west, rotate=60, font=\\tiny] at (axis cs:0.5539423227310181, 1.0) {38};\n",
      "        \\draw[dotted, color=black] (axis cs:0.5539423227310181, 0.5526315569877625) -- (axis cs:0.5539423227310181, 1.0);\n",
      "        \\node[above, anchor=south west, rotate=60, font=\\tiny] at (axis cs:0.6476967930793762, 1.0) {51};\n",
      "        \\draw[dotted, color=black] (axis cs:0.6476967930793762, 0.3921568691730499) -- (axis cs:0.6476967930793762, 1.0);\n",
      "        \\node[above, anchor=south west, rotate=60, font=\\tiny] at (axis cs:0.753460168838501, 1.0) {66};\n",
      "        \\draw[dotted, color=black] (axis cs:0.753460168838501, 0.3484848439693451) -- (axis cs:0.753460168838501, 1.0);\n",
      "        \\node[above, anchor=south west, rotate=60, font=\\tiny] at (axis cs:0.8511020541191101, 1.0) {79};\n",
      "        \\draw[dotted, color=black] (axis cs:0.8511020541191101, 0.39240506291389465) -- (axis cs:0.8511020541191101, 1.0);\n",
      "        \\node[above, anchor=south west, rotate=60, font=\\tiny] at (axis cs:0.9760510921478271, 1.0) {286};\n",
      "        \\draw[dotted, color=black] (axis cs:0.9760510921478271, 0.4930070042610169) -- (axis cs:0.9760510921478271, 1.0);\n",
      "    \\end{axis}\n",
      "\\end{tikzpicture}\n",
      "dict_keys(['_timestamp', 'test_results', '_step', '_wandb', '_runtime'])\n",
      "ll_ivon_5-3\n",
      "sECE: -0.3940, ECE: 0.3940\n",
      "\\begin{tikzpicture}\n",
      "    \\begin{axis}[calstyle, xmin=0, xmax=1, ymin=0, ymax=1]\n",
      "        \\addplot[dashed, color=black] coordinates {(0,0) (1,1)};\n",
      "        \\addplot[calline] coordinates {(0.547374427318573, 0.40909090638160706) (0.6477438807487488, 0.5094339847564697) (0.7493682503700256, 0.30158731341362) (0.8489671945571899, 0.3947368562221527) (0.9744460582733154, 0.5211267471313477)};\n",
      "        \\node[above, anchor=south west, rotate=60, font=\\tiny] at (axis cs:0.547374427318573, 1.0) {44};\n",
      "        \\draw[dotted, color=black] (axis cs:0.547374427318573, 0.40909090638160706) -- (axis cs:0.547374427318573, 1.0);\n",
      "        \\node[above, anchor=south west, rotate=60, font=\\tiny] at (axis cs:0.6477438807487488, 1.0) {53};\n",
      "        \\draw[dotted, color=black] (axis cs:0.6477438807487488, 0.5094339847564697) -- (axis cs:0.6477438807487488, 1.0);\n",
      "        \\node[above, anchor=south west, rotate=60, font=\\tiny] at (axis cs:0.7493682503700256, 1.0) {63};\n",
      "        \\draw[dotted, color=black] (axis cs:0.7493682503700256, 0.30158731341362) -- (axis cs:0.7493682503700256, 1.0);\n",
      "        \\node[above, anchor=south west, rotate=60, font=\\tiny] at (axis cs:0.8489671945571899, 1.0) {76};\n",
      "        \\draw[dotted, color=black] (axis cs:0.8489671945571899, 0.3947368562221527) -- (axis cs:0.8489671945571899, 1.0);\n",
      "        \\node[above, anchor=south west, rotate=60, font=\\tiny] at (axis cs:0.9744460582733154, 1.0) {284};\n",
      "        \\draw[dotted, color=black] (axis cs:0.9744460582733154, 0.5211267471313477) -- (axis cs:0.9744460582733154, 1.0);\n",
      "    \\end{axis}\n",
      "\\end{tikzpicture}\n",
      "dict_keys(['_step', '_wandb', '_runtime', '_timestamp', 'test_results'])\n",
      "ll_ivon_5-2\n",
      "sECE: -0.3794, ECE: 0.3794\n",
      "\\begin{tikzpicture}\n",
      "    \\begin{axis}[calstyle, xmin=0, xmax=1, ymin=0, ymax=1]\n",
      "        \\addplot[dashed, color=black] coordinates {(0,0) (1,1)};\n",
      "        \\addplot[calline] coordinates {(0.5468655228614807, 0.5348837375640869) (0.650098443031311, 0.4583333432674408) (0.7500879168510437, 0.3378378450870514) (0.8523296117782593, 0.4109589159488678) (0.9746339321136476, 0.5319148898124695)};\n",
      "        \\node[above, anchor=south west, rotate=60, font=\\tiny] at (axis cs:0.5468655228614807, 1.0) {43};\n",
      "        \\draw[dotted, color=black] (axis cs:0.5468655228614807, 0.5348837375640869) -- (axis cs:0.5468655228614807, 1.0);\n",
      "        \\node[above, anchor=south west, rotate=60, font=\\tiny] at (axis cs:0.650098443031311, 1.0) {48};\n",
      "        \\draw[dotted, color=black] (axis cs:0.650098443031311, 0.4583333432674408) -- (axis cs:0.650098443031311, 1.0);\n",
      "        \\node[above, anchor=south west, rotate=60, font=\\tiny] at (axis cs:0.7500879168510437, 1.0) {74};\n",
      "        \\draw[dotted, color=black] (axis cs:0.7500879168510437, 0.3378378450870514) -- (axis cs:0.7500879168510437, 1.0);\n",
      "        \\node[above, anchor=south west, rotate=60, font=\\tiny] at (axis cs:0.8523296117782593, 1.0) {73};\n",
      "        \\draw[dotted, color=black] (axis cs:0.8523296117782593, 0.4109589159488678) -- (axis cs:0.8523296117782593, 1.0);\n",
      "        \\node[above, anchor=south west, rotate=60, font=\\tiny] at (axis cs:0.9746339321136476, 1.0) {282};\n",
      "        \\draw[dotted, color=black] (axis cs:0.9746339321136476, 0.5319148898124695) -- (axis cs:0.9746339321136476, 1.0);\n",
      "    \\end{axis}\n",
      "\\end{tikzpicture}\n",
      "dict_keys(['_step', '_wandb', '_runtime', '_timestamp', 'test_results'])\n",
      "ll_ivon_5-1\n",
      "sECE: -0.3810, ECE: 0.3810\n",
      "\\begin{tikzpicture}\n",
      "    \\begin{axis}[calstyle, xmin=0, xmax=1, ymin=0, ymax=1]\n",
      "        \\addplot[dashed, color=black] coordinates {(0,0) (1,1)};\n",
      "        \\addplot[calline] coordinates {(0.5501293540000916, 0.3255814015865326) (0.6488217711448669, 0.5471698045730591) (0.7471947073936462, 0.380952388048172) (0.8502472639083862, 0.39024388790130615) (0.975973904132843, 0.5376344323158264)};\n",
      "        \\node[above, anchor=south west, rotate=60, font=\\tiny] at (axis cs:0.5501293540000916, 1.0) {43};\n",
      "        \\draw[dotted, color=black] (axis cs:0.5501293540000916, 0.3255814015865326) -- (axis cs:0.5501293540000916, 1.0);\n",
      "        \\node[above, anchor=south west, rotate=60, font=\\tiny] at (axis cs:0.6488217711448669, 1.0) {53};\n",
      "        \\draw[dotted, color=black] (axis cs:0.6488217711448669, 0.5471698045730591) -- (axis cs:0.6488217711448669, 1.0);\n",
      "        \\node[above, anchor=south west, rotate=60, font=\\tiny] at (axis cs:0.7471947073936462, 1.0) {63};\n",
      "        \\draw[dotted, color=black] (axis cs:0.7471947073936462, 0.380952388048172) -- (axis cs:0.7471947073936462, 1.0);\n",
      "        \\node[above, anchor=south west, rotate=60, font=\\tiny] at (axis cs:0.8502472639083862, 1.0) {82};\n",
      "        \\draw[dotted, color=black] (axis cs:0.8502472639083862, 0.39024388790130615) -- (axis cs:0.8502472639083862, 1.0);\n",
      "        \\node[above, anchor=south west, rotate=60, font=\\tiny] at (axis cs:0.975973904132843, 1.0) {279};\n",
      "        \\draw[dotted, color=black] (axis cs:0.975973904132843, 0.5376344323158264) -- (axis cs:0.975973904132843, 1.0);\n",
      "    \\end{axis}\n",
      "\\end{tikzpicture}\n",
      "dict_keys(['_step', '_wandb', '_runtime', '_timestamp', 'test_results'])\n",
      "ll_ivon_5-4\n",
      "sECE: -0.4131, ECE: 0.4131\n",
      "\\begin{tikzpicture}\n",
      "    \\begin{axis}[calstyle, xmin=0, xmax=1, ymin=0, ymax=1]\n",
      "        \\addplot[dashed, color=black] coordinates {(0,0) (1,1)};\n",
      "        \\addplot[calline] coordinates {(0.5492933988571167, 0.4634146392345429) (0.651634156703949, 0.5) (0.742709755897522, 0.3333333432674408) (0.8506609797477722, 0.3529411852359772) (0.9757713675498962, 0.4947735071182251)};\n",
      "        \\node[above, anchor=south west, rotate=60, font=\\tiny] at (axis cs:0.5492933988571167, 1.0) {41};\n",
      "        \\draw[dotted, color=black] (axis cs:0.5492933988571167, 0.4634146392345429) -- (axis cs:0.5492933988571167, 1.0);\n",
      "        \\node[above, anchor=south west, rotate=60, font=\\tiny] at (axis cs:0.651634156703949, 1.0) {50};\n",
      "        \\draw[dotted, color=black] (axis cs:0.651634156703949, 0.5) -- (axis cs:0.651634156703949, 1.0);\n",
      "        \\node[above, anchor=south west, rotate=60, font=\\tiny] at (axis cs:0.742709755897522, 1.0) {57};\n",
      "        \\draw[dotted, color=black] (axis cs:0.742709755897522, 0.3333333432674408) -- (axis cs:0.742709755897522, 1.0);\n",
      "        \\node[above, anchor=south west, rotate=60, font=\\tiny] at (axis cs:0.8506609797477722, 1.0) {85};\n",
      "        \\draw[dotted, color=black] (axis cs:0.8506609797477722, 0.3529411852359772) -- (axis cs:0.8506609797477722, 1.0);\n",
      "        \\node[above, anchor=south west, rotate=60, font=\\tiny] at (axis cs:0.9757713675498962, 1.0) {287};\n",
      "        \\draw[dotted, color=black] (axis cs:0.9757713675498962, 0.4947735071182251) -- (axis cs:0.9757713675498962, 1.0);\n",
      "    \\end{axis}\n",
      "\\end{tikzpicture}\n",
      "ll_ivon_1-3\n",
      "ll_ivon_1-1\n",
      "ll_ivon_1-0\n",
      "ll_ivon_1-2\n",
      "ll_ivon_1-4\n",
      "dict_keys(['_step', '_wandb', 'train_loss', 'female-toxic', 'all-non-toxic', 'lgbtq-non-toxic', 'christian-non-toxic', 'other_religion-non-toxic', 'lgbtq-toxic', 'white-toxic', 'muslim-toxic', 'black-non-toxic', 'white-non-toxic', 'muslim-non-toxic', 'other_religion-toxic', 'all', '_timestamp', 'male-toxic', 'male-non-toxic', 'christian-toxic', 'female-non-toxic', '_runtime', 'all-toxic', 'black-toxic', 'test_results', 'worst group accuracy'])\n",
      "ll_ivon-5\n",
      "sECE: -0.4114, ECE: 0.4114\n",
      "\\begin{tikzpicture}\n",
      "    \\begin{axis}[calstyle, xmin=0, xmax=1, ymin=0, ymax=1]\n",
      "        \\addplot[dashed, color=black] coordinates {(0,0) (1,1)};\n",
      "        \\addplot[calline] coordinates {(0.5543977618217468, 0.41333332657814026) (0.6513814926147461, 0.478723406791687) (0.7525920271873474, 0.5167785286903381) (0.8574963808059692, 0.5357142686843872) (0.9818556308746338, 0.4969325065612793)};\n",
      "        \\node[above, anchor=south west, rotate=60, font=\\tiny] at (axis cs:0.5543977618217468, 1.0) {75};\n",
      "        \\draw[dotted, color=black] (axis cs:0.5543977618217468, 0.41333332657814026) -- (axis cs:0.5543977618217468, 1.0);\n",
      "        \\node[above, anchor=south west, rotate=60, font=\\tiny] at (axis cs:0.6513814926147461, 1.0) {94};\n",
      "        \\draw[dotted, color=black] (axis cs:0.6513814926147461, 0.478723406791687) -- (axis cs:0.6513814926147461, 1.0);\n",
      "        \\node[above, anchor=south west, rotate=60, font=\\tiny] at (axis cs:0.7525920271873474, 1.0) {149};\n",
      "        \\draw[dotted, color=black] (axis cs:0.7525920271873474, 0.5167785286903381) -- (axis cs:0.7525920271873474, 1.0);\n",
      "        \\node[above, anchor=south west, rotate=60, font=\\tiny] at (axis cs:0.8574963808059692, 1.0) {168};\n",
      "        \\draw[dotted, color=black] (axis cs:0.8574963808059692, 0.5357142686843872) -- (axis cs:0.8574963808059692, 1.0);\n",
      "        \\node[above, anchor=south west, rotate=60, font=\\tiny] at (axis cs:0.9818556308746338, 1.0) {1141};\n",
      "        \\draw[dotted, color=black] (axis cs:0.9818556308746338, 0.4969325065612793) -- (axis cs:0.9818556308746338, 1.0);\n",
      "    \\end{axis}\n",
      "\\end{tikzpicture}\n",
      "dict_keys(['female-toxic', 'male-non-toxic', 'black-non-toxic', 'white-non-toxic', '_runtime', 'all-toxic', '_timestamp', 'black-toxic', 'christian-non-toxic', 'other_religion-non-toxic', 'lgbtq-non-toxic', 'muslim-non-toxic', 'all', '_step', 'male-toxic', 'all-non-toxic', 'train_loss', 'muslim-toxic', 'test_results', 'christian-toxic', 'other_religion-toxic', 'worst group accuracy', '_wandb', 'lgbtq-toxic', 'white-toxic', 'female-non-toxic'])\n",
      "ll_ivon-4\n",
      "sECE: -0.3193, ECE: 0.3193\n",
      "\\begin{tikzpicture}\n",
      "    \\begin{axis}[calstyle, xmin=0, xmax=1, ymin=0, ymax=1]\n",
      "        \\addplot[dashed, color=black] coordinates {(0,0) (1,1)};\n",
      "        \\addplot[calline] coordinates {(0.5547109246253967, 0.46666666865348816) (0.6565395593643188, 0.569767415523529) (0.7474324703216553, 0.5135135054588318) (0.8572188019752502, 0.5615384578704834) (0.98003888130188, 0.6025640964508057)};\n",
      "        \\node[above, anchor=south west, rotate=60, font=\\tiny] at (axis cs:0.5547109246253967, 1.0) {75};\n",
      "        \\draw[dotted, color=black] (axis cs:0.5547109246253967, 0.46666666865348816) -- (axis cs:0.5547109246253967, 1.0);\n",
      "        \\node[above, anchor=south west, rotate=60, font=\\tiny] at (axis cs:0.6565395593643188, 1.0) {86};\n",
      "        \\draw[dotted, color=black] (axis cs:0.6565395593643188, 0.569767415523529) -- (axis cs:0.6565395593643188, 1.0);\n",
      "        \\node[above, anchor=south west, rotate=60, font=\\tiny] at (axis cs:0.7474324703216553, 1.0) {111};\n",
      "        \\draw[dotted, color=black] (axis cs:0.7474324703216553, 0.5135135054588318) -- (axis cs:0.7474324703216553, 1.0);\n",
      "        \\node[above, anchor=south west, rotate=60, font=\\tiny] at (axis cs:0.8572188019752502, 1.0) {130};\n",
      "        \\draw[dotted, color=black] (axis cs:0.8572188019752502, 0.5615384578704834) -- (axis cs:0.8572188019752502, 1.0);\n",
      "        \\node[above, anchor=south west, rotate=60, font=\\tiny] at (axis cs:0.98003888130188, 1.0) {858};\n",
      "        \\draw[dotted, color=black] (axis cs:0.98003888130188, 0.6025640964508057) -- (axis cs:0.98003888130188, 1.0);\n",
      "    \\end{axis}\n",
      "\\end{tikzpicture}\n",
      "dict_keys(['christian-non-toxic', 'other_religion-toxic', '_step', 'male-toxic', 'train_loss', 'muslim-toxic', 'male-non-toxic', 'muslim-non-toxic', 'other_religion-non-toxic', '_wandb', 'black-toxic', 'female-toxic', 'christian-toxic', 'white-non-toxic', 'lgbtq-non-toxic', 'all', 'lgbtq-toxic', 'white-toxic', 'test_results', 'all-non-toxic', 'worst group accuracy', '_runtime', 'all-toxic', '_timestamp', 'black-non-toxic', 'female-non-toxic'])\n",
      "ll_ivon-3\n",
      "sECE: -0.4312, ECE: 0.4312\n",
      "\\begin{tikzpicture}\n",
      "    \\begin{axis}[calstyle, xmin=0, xmax=1, ymin=0, ymax=1]\n",
      "        \\addplot[dashed, color=black] coordinates {(0,0) (1,1)};\n",
      "        \\addplot[calline] coordinates {(0.5525305271148682, 0.5) (0.6473478674888611, 0.469565212726593) (0.7567523717880249, 0.44525548815727234) (0.8548350930213928, 0.4234693944454193) (0.9791148900985718, 0.47571036219596863)};\n",
      "        \\node[above, anchor=south west, rotate=60, font=\\tiny] at (axis cs:0.5525305271148682, 1.0) {88};\n",
      "        \\draw[dotted, color=black] (axis cs:0.5525305271148682, 0.5) -- (axis cs:0.5525305271148682, 1.0);\n",
      "        \\node[above, anchor=south west, rotate=60, font=\\tiny] at (axis cs:0.6473478674888611, 1.0) {115};\n",
      "        \\draw[dotted, color=black] (axis cs:0.6473478674888611, 0.469565212726593) -- (axis cs:0.6473478674888611, 1.0);\n",
      "        \\node[above, anchor=south west, rotate=60, font=\\tiny] at (axis cs:0.7567523717880249, 1.0) {137};\n",
      "        \\draw[dotted, color=black] (axis cs:0.7567523717880249, 0.44525548815727234) -- (axis cs:0.7567523717880249, 1.0);\n",
      "        \\node[above, anchor=south west, rotate=60, font=\\tiny] at (axis cs:0.8548350930213928, 1.0) {196};\n",
      "        \\draw[dotted, color=black] (axis cs:0.8548350930213928, 0.4234693944454193) -- (axis cs:0.8548350930213928, 1.0);\n",
      "        \\node[above, anchor=south west, rotate=60, font=\\tiny] at (axis cs:0.9791148900985718, 1.0) {1091};\n",
      "        \\draw[dotted, color=black] (axis cs:0.9791148900985718, 0.47571036219596863) -- (axis cs:0.9791148900985718, 1.0);\n",
      "    \\end{axis}\n",
      "\\end{tikzpicture}\n",
      "dict_keys(['all-toxic', 'lgbtq-toxic', 'female-toxic', 'muslim-toxic', 'male-non-toxic', 'other_religion-toxic', 'all', 'train_loss', 'black-toxic', 'christian-non-toxic', 'lgbtq-non-toxic', 'other_religion-non-toxic', '_wandb', '_timestamp', 'white-toxic', 'all-non-toxic', 'black-non-toxic', 'christian-toxic', 'muslim-non-toxic', 'worst group accuracy', '_step', '_runtime', 'male-toxic', 'test_results', 'white-non-toxic', 'female-non-toxic'])\n",
      "ll_ivon-2\n",
      "sECE: -0.4536, ECE: 0.4536\n",
      "\\begin{tikzpicture}\n",
      "    \\begin{axis}[calstyle, xmin=0, xmax=1, ymin=0, ymax=1]\n",
      "        \\addplot[dashed, color=black] coordinates {(0,0) (1,1)};\n",
      "        \\addplot[calline] coordinates {(0.5558446049690247, 0.5185185074806213) (0.6484842896461487, 0.42105263471603394) (0.7516704201698303, 0.42553192377090454) (0.8595893979072571, 0.5079365372657776) (0.9789068102836608, 0.4318840503692627)};\n",
      "        \\node[above, anchor=south west, rotate=60, font=\\tiny] at (axis cs:0.5558446049690247, 1.0) {27};\n",
      "        \\draw[dotted, color=black] (axis cs:0.5558446049690247, 0.5185185074806213) -- (axis cs:0.5558446049690247, 1.0);\n",
      "        \\node[above, anchor=south west, rotate=60, font=\\tiny] at (axis cs:0.6484842896461487, 1.0) {38};\n",
      "        \\draw[dotted, color=black] (axis cs:0.6484842896461487, 0.42105263471603394) -- (axis cs:0.6484842896461487, 1.0);\n",
      "        \\node[above, anchor=south west, rotate=60, font=\\tiny] at (axis cs:0.7516704201698303, 1.0) {47};\n",
      "        \\draw[dotted, color=black] (axis cs:0.7516704201698303, 0.42553192377090454) -- (axis cs:0.7516704201698303, 1.0);\n",
      "        \\node[above, anchor=south west, rotate=60, font=\\tiny] at (axis cs:0.8595893979072571, 1.0) {63};\n",
      "        \\draw[dotted, color=black] (axis cs:0.8595893979072571, 0.5079365372657776) -- (axis cs:0.8595893979072571, 1.0);\n",
      "        \\node[above, anchor=south west, rotate=60, font=\\tiny] at (axis cs:0.9789068102836608, 1.0) {345};\n",
      "        \\draw[dotted, color=black] (axis cs:0.9789068102836608, 0.4318840503692627) -- (axis cs:0.9789068102836608, 1.0);\n",
      "    \\end{axis}\n",
      "\\end{tikzpicture}\n",
      "dict_keys(['all', 'female-toxic', 'christian-toxic', 'muslim-non-toxic', 'female-non-toxic', '_step', '_runtime', 'all-toxic', 'male-toxic', 'black-toxic', 'male-non-toxic', 'lgbtq-non-toxic', 'christian-non-toxic', 'white-non-toxic', 'other_religion-toxic', 'other_religion-non-toxic', 'all-non-toxic', '_wandb', '_timestamp', 'train_loss', 'lgbtq-toxic', 'white-toxic', 'muslim-toxic', 'test_results', 'black-non-toxic', 'worst group accuracy'])\n",
      "ll_ivon-1\n",
      "sECE: -0.4943, ECE: 0.4964\n",
      "\\begin{tikzpicture}\n",
      "    \\begin{axis}[calstyle, xmin=0, xmax=1, ymin=0, ymax=1]\n",
      "        \\addplot[dashed, color=black] coordinates {(0,0) (1,1)};\n",
      "        \\addplot[calline] coordinates {(0.5560581684112549, 0.5882353186607361) (0.6566399931907654, 0.5600000023841858) (0.7576822638511658, 0.3877550959587097) (0.8537125587463379, 0.453125) (0.981913685798645, 0.4027397334575653)};\n",
      "        \\node[above, anchor=south west, rotate=60, font=\\tiny] at (axis cs:0.5560581684112549, 1.0) {17};\n",
      "        \\draw[dotted, color=black] (axis cs:0.5560581684112549, 0.5882353186607361) -- (axis cs:0.5560581684112549, 1.0);\n",
      "        \\node[above, anchor=south west, rotate=60, font=\\tiny] at (axis cs:0.6566399931907654, 1.0) {25};\n",
      "        \\draw[dotted, color=black] (axis cs:0.6566399931907654, 0.5600000023841858) -- (axis cs:0.6566399931907654, 1.0);\n",
      "        \\node[above, anchor=south west, rotate=60, font=\\tiny] at (axis cs:0.7576822638511658, 1.0) {49};\n",
      "        \\draw[dotted, color=black] (axis cs:0.7576822638511658, 0.3877550959587097) -- (axis cs:0.7576822638511658, 1.0);\n",
      "        \\node[above, anchor=south west, rotate=60, font=\\tiny] at (axis cs:0.8537125587463379, 1.0) {64};\n",
      "        \\draw[dotted, color=black] (axis cs:0.8537125587463379, 0.453125) -- (axis cs:0.8537125587463379, 1.0);\n",
      "        \\node[above, anchor=south west, rotate=60, font=\\tiny] at (axis cs:0.981913685798645, 1.0) {365};\n",
      "        \\draw[dotted, color=black] (axis cs:0.981913685798645, 0.4027397334575653) -- (axis cs:0.981913685798645, 1.0);\n",
      "    \\end{axis}\n",
      "\\end{tikzpicture}\n",
      "dict_keys(['other_religion-non-toxic', 'all', '_timestamp', 'test_results', 'black-toxic', 'muslim-toxic', 'black-non-toxic', 'lgbtq-non-toxic', 'white-non-toxic', '_wandb', 'all-toxic', 'train_loss', 'female-non-toxic', 'muslim-non-toxic', 'worst group accuracy', 'lgbtq-toxic', 'all-non-toxic', 'christian-non-toxic', 'other_religion-toxic', '_step', '_runtime', 'male-toxic', 'christian-toxic', 'white-toxic', 'female-toxic', 'male-non-toxic'])\n",
      "ll_ivon-0\n",
      "sECE: -0.4158, ECE: 0.4158\n",
      "\\begin{tikzpicture}\n",
      "    \\begin{axis}[calstyle, xmin=0, xmax=1, ymin=0, ymax=1]\n",
      "        \\addplot[dashed, color=black] coordinates {(0,0) (1,1)};\n",
      "        \\addplot[calline] coordinates {(0.5482940077781677, 0.4204545319080353) (0.6531141400337219, 0.43877550959587097) (0.7470336556434631, 0.42399999499320984) (0.8519999980926514, 0.4733333289623261) (0.9755601286888124, 0.4818523228168487)};\n",
      "        \\node[above, anchor=south west, rotate=60, font=\\tiny] at (axis cs:0.5482940077781677, 1.0) {88};\n",
      "        \\draw[dotted, color=black] (axis cs:0.5482940077781677, 0.4204545319080353) -- (axis cs:0.5482940077781677, 1.0);\n",
      "        \\node[above, anchor=south west, rotate=60, font=\\tiny] at (axis cs:0.6531141400337219, 1.0) {98};\n",
      "        \\draw[dotted, color=black] (axis cs:0.6531141400337219, 0.43877550959587097) -- (axis cs:0.6531141400337219, 1.0);\n",
      "        \\node[above, anchor=south west, rotate=60, font=\\tiny] at (axis cs:0.7470336556434631, 1.0) {125};\n",
      "        \\draw[dotted, color=black] (axis cs:0.7470336556434631, 0.42399999499320984) -- (axis cs:0.7470336556434631, 1.0);\n",
      "        \\node[above, anchor=south west, rotate=60, font=\\tiny] at (axis cs:0.8519999980926514, 1.0) {150};\n",
      "        \\draw[dotted, color=black] (axis cs:0.8519999980926514, 0.4733333289623261) -- (axis cs:0.8519999980926514, 1.0);\n",
      "        \\node[above, anchor=south west, rotate=60, font=\\tiny] at (axis cs:0.9755601286888124, 1.0) {799};\n",
      "        \\draw[dotted, color=black] (axis cs:0.9755601286888124, 0.4818523228168487) -- (axis cs:0.9755601286888124, 1.0);\n",
      "    \\end{axis}\n",
      "\\end{tikzpicture}\n",
      "dict_keys(['test_results', 'black-non-toxic', 'other_religion-toxic', 'other_religion-non-toxic', '_step', '_wandb', '_runtime', 'female-toxic', 'all', '_timestamp', 'male-non-toxic', 'lgbtq-non-toxic', 'female-non-toxic', 'muslim-non-toxic', 'male-toxic', 'train_loss', 'white-toxic', 'christian-toxic', 'all-non-toxic', 'white-non-toxic', 'christian-non-toxic', 'worst group accuracy', 'all-toxic', 'black-toxic', 'lgbtq-toxic', 'muslim-toxic'])\n",
      "ll_ivon_p10-0\n",
      "sECE: -0.4600, ECE: 0.4600\n",
      "\\begin{tikzpicture}\n",
      "    \\begin{axis}[calstyle, xmin=0, xmax=1, ymin=0, ymax=1]\n",
      "        \\addplot[dashed, color=black] coordinates {(0,0) (1,1)};\n",
      "        \\addplot[calline] coordinates {(0.5533414483070374, 0.41025641560554504) (0.655148983001709, 0.3932584226131439) (0.7503733038902283, 0.469565212726593) (0.8546245694160461, 0.43292683362960815) (0.9775216579437256, 0.4324324429035187)};\n",
      "        \\node[above, anchor=south west, rotate=60, font=\\tiny] at (axis cs:0.5533414483070374, 1.0) {78};\n",
      "        \\draw[dotted, color=black] (axis cs:0.5533414483070374, 0.41025641560554504) -- (axis cs:0.5533414483070374, 1.0);\n",
      "        \\node[above, anchor=south west, rotate=60, font=\\tiny] at (axis cs:0.655148983001709, 1.0) {89};\n",
      "        \\draw[dotted, color=black] (axis cs:0.655148983001709, 0.3932584226131439) -- (axis cs:0.655148983001709, 1.0);\n",
      "        \\node[above, anchor=south west, rotate=60, font=\\tiny] at (axis cs:0.7503733038902283, 1.0) {115};\n",
      "        \\draw[dotted, color=black] (axis cs:0.7503733038902283, 0.469565212726593) -- (axis cs:0.7503733038902283, 1.0);\n",
      "        \\node[above, anchor=south west, rotate=60, font=\\tiny] at (axis cs:0.8546245694160461, 1.0) {164};\n",
      "        \\draw[dotted, color=black] (axis cs:0.8546245694160461, 0.43292683362960815) -- (axis cs:0.8546245694160461, 1.0);\n",
      "        \\node[above, anchor=south west, rotate=60, font=\\tiny] at (axis cs:0.9775216579437256, 1.0) {814};\n",
      "        \\draw[dotted, color=black] (axis cs:0.9775216579437256, 0.4324324429035187) -- (axis cs:0.9775216579437256, 1.0);\n",
      "    \\end{axis}\n",
      "\\end{tikzpicture}\n",
      "dict_keys(['all-toxic', '_timestamp', 'black-toxic', 'black-non-toxic', 'christian-toxic', 'lgbtq-non-toxic', 'other_religion-toxic', '_step', 'male-toxic', 'white-toxic', 'female-toxic', 'other_religion-non-toxic', 'all', 'train_loss', 'lgbtq-toxic', 'all-non-toxic', 'male-non-toxic', 'worst group accuracy', 'christian-non-toxic', '_wandb', '_runtime', 'muslim-toxic', 'test_results', 'white-non-toxic', 'female-non-toxic', 'muslim-non-toxic'])\n",
      "ll_ivon_p1-0\n",
      "sECE: -0.4382, ECE: 0.4382\n",
      "\\begin{tikzpicture}\n",
      "    \\begin{axis}[calstyle, xmin=0, xmax=1, ymin=0, ymax=1]\n",
      "        \\addplot[dashed, color=black] coordinates {(0,0) (1,1)};\n",
      "        \\addplot[calline] coordinates {(0.5486701130867004, 0.4583333432674408) (0.6504133343696594, 0.52173912525177) (0.7518621683120728, 0.4434782564640045) (0.8542273640632629, 0.4285714328289032) (0.9794254302978516, 0.4422110617160797)};\n",
      "        \\node[above, anchor=south west, rotate=60, font=\\tiny] at (axis cs:0.5486701130867004, 1.0) {96};\n",
      "        \\draw[dotted, color=black] (axis cs:0.5486701130867004, 0.4583333432674408) -- (axis cs:0.5486701130867004, 1.0);\n",
      "        \\node[above, anchor=south west, rotate=60, font=\\tiny] at (axis cs:0.6504133343696594, 1.0) {92};\n",
      "        \\draw[dotted, color=black] (axis cs:0.6504133343696594, 0.52173912525177) -- (axis cs:0.6504133343696594, 1.0);\n",
      "        \\node[above, anchor=south west, rotate=60, font=\\tiny] at (axis cs:0.7518621683120728, 1.0) {115};\n",
      "        \\draw[dotted, color=black] (axis cs:0.7518621683120728, 0.4434782564640045) -- (axis cs:0.7518621683120728, 1.0);\n",
      "        \\node[above, anchor=south west, rotate=60, font=\\tiny] at (axis cs:0.8542273640632629, 1.0) {161};\n",
      "        \\draw[dotted, color=black] (axis cs:0.8542273640632629, 0.4285714328289032) -- (axis cs:0.8542273640632629, 1.0);\n",
      "        \\node[above, anchor=south west, rotate=60, font=\\tiny] at (axis cs:0.9794254302978516, 1.0) {796};\n",
      "        \\draw[dotted, color=black] (axis cs:0.9794254302978516, 0.4422110617160797) -- (axis cs:0.9794254302978516, 1.0);\n",
      "    \\end{axis}\n",
      "\\end{tikzpicture}\n",
      "dict_keys(['white-toxic', 'test_results', 'christian-toxic', 'female-non-toxic', 'christian-non-toxic', 'black-non-toxic', '_step', '_runtime', 'all-toxic', '_timestamp', 'male-toxic', 'female-toxic', 'other_religion-toxic', 'all', 'train_loss', 'lgbtq-toxic', 'muslim-toxic', 'lgbtq-non-toxic', 'white-non-toxic', 'other_religion-non-toxic', '_wandb', 'black-toxic', 'all-non-toxic', 'male-non-toxic', 'muslim-non-toxic', 'worst group accuracy'])\n",
      "ll_ivon_p100-0\n",
      "sECE: -0.4764, ECE: 0.4764\n",
      "\\begin{tikzpicture}\n",
      "    \\begin{axis}[calstyle, xmin=0, xmax=1, ymin=0, ymax=1]\n",
      "        \\addplot[dashed, color=black] coordinates {(0,0) (1,1)};\n",
      "        \\addplot[calline] coordinates {(0.5545021891593933, 0.5074626803398132) (0.6492018103599548, 0.4729729592800141) (0.7564769387245178, 0.4913793206214905) (0.8562333583831787, 0.3806451559066773) (0.9795422554016112, 0.41391509771347046)};\n",
      "        \\node[above, anchor=south west, rotate=60, font=\\tiny] at (axis cs:0.5545021891593933, 1.0) {67};\n",
      "        \\draw[dotted, color=black] (axis cs:0.5545021891593933, 0.5074626803398132) -- (axis cs:0.5545021891593933, 1.0);\n",
      "        \\node[above, anchor=south west, rotate=60, font=\\tiny] at (axis cs:0.6492018103599548, 1.0) {74};\n",
      "        \\draw[dotted, color=black] (axis cs:0.6492018103599548, 0.4729729592800141) -- (axis cs:0.6492018103599548, 1.0);\n",
      "        \\node[above, anchor=south west, rotate=60, font=\\tiny] at (axis cs:0.7564769387245178, 1.0) {116};\n",
      "        \\draw[dotted, color=black] (axis cs:0.7564769387245178, 0.4913793206214905) -- (axis cs:0.7564769387245178, 1.0);\n",
      "        \\node[above, anchor=south west, rotate=60, font=\\tiny] at (axis cs:0.8562333583831787, 1.0) {155};\n",
      "        \\draw[dotted, color=black] (axis cs:0.8562333583831787, 0.3806451559066773) -- (axis cs:0.8562333583831787, 1.0);\n",
      "        \\node[above, anchor=south west, rotate=60, font=\\tiny] at (axis cs:0.9795422554016112, 1.0) {848};\n",
      "        \\draw[dotted, color=black] (axis cs:0.9795422554016112, 0.41391509771347046) -- (axis cs:0.9795422554016112, 1.0);\n",
      "    \\end{axis}\n",
      "\\end{tikzpicture}\n",
      "dict_keys(['female-non-toxic', 'christian-non-toxic', '_wandb', 'male-non-toxic', 'muslim-toxic', 'all-non-toxic', 'black-non-toxic', 'other_religion-non-toxic', '_runtime', 'male-toxic', 'all-toxic', 'train_loss', 'lgbtq-toxic', 'lgbtq-non-toxic', 'white-non-toxic', 'muslim-non-toxic', 'all', '_step', 'other_religion-toxic', 'worst group accuracy', 'white-toxic', 'female-toxic', 'test_results', 'christian-toxic', '_timestamp', 'black-toxic'])\n",
      "ll_ivon_p500-0\n",
      "sECE: -0.4158, ECE: 0.4158\n",
      "\\begin{tikzpicture}\n",
      "    \\begin{axis}[calstyle, xmin=0, xmax=1, ymin=0, ymax=1]\n",
      "        \\addplot[dashed, color=black] coordinates {(0,0) (1,1)};\n",
      "        \\addplot[calline] coordinates {(0.5482940077781677, 0.4204545319080353) (0.6531141400337219, 0.43877550959587097) (0.7470336556434631, 0.42399999499320984) (0.8519999980926514, 0.4733333289623261) (0.9755601286888124, 0.4818523228168487)};\n",
      "        \\node[above, anchor=south west, rotate=60, font=\\tiny] at (axis cs:0.5482940077781677, 1.0) {88};\n",
      "        \\draw[dotted, color=black] (axis cs:0.5482940077781677, 0.4204545319080353) -- (axis cs:0.5482940077781677, 1.0);\n",
      "        \\node[above, anchor=south west, rotate=60, font=\\tiny] at (axis cs:0.6531141400337219, 1.0) {98};\n",
      "        \\draw[dotted, color=black] (axis cs:0.6531141400337219, 0.43877550959587097) -- (axis cs:0.6531141400337219, 1.0);\n",
      "        \\node[above, anchor=south west, rotate=60, font=\\tiny] at (axis cs:0.7470336556434631, 1.0) {125};\n",
      "        \\draw[dotted, color=black] (axis cs:0.7470336556434631, 0.42399999499320984) -- (axis cs:0.7470336556434631, 1.0);\n",
      "        \\node[above, anchor=south west, rotate=60, font=\\tiny] at (axis cs:0.8519999980926514, 1.0) {150};\n",
      "        \\draw[dotted, color=black] (axis cs:0.8519999980926514, 0.4733333289623261) -- (axis cs:0.8519999980926514, 1.0);\n",
      "        \\node[above, anchor=south west, rotate=60, font=\\tiny] at (axis cs:0.9755601286888124, 1.0) {799};\n",
      "        \\draw[dotted, color=black] (axis cs:0.9755601286888124, 0.4818523228168487) -- (axis cs:0.9755601286888124, 1.0);\n",
      "    \\end{axis}\n",
      "\\end{tikzpicture}\n",
      "dict_keys(['_step', '_wandb', '_runtime', '_timestamp', 'test_results'])\n",
      "laplace_4-4\n",
      "sECE: -0.3382, ECE: 0.3382\n",
      "\\begin{tikzpicture}\n",
      "    \\begin{axis}[calstyle, xmin=0, xmax=1, ymin=0, ymax=1]\n",
      "        \\addplot[dashed, color=black] coordinates {(0,0) (1,1)};\n",
      "        \\addplot[calline] coordinates {(0.5468438267707825, 0.4976958632469177) (0.6486223340034485, 0.543379008769989) (0.744964063167572, 0.5428571701049805) (0.8514056205749512, 0.5605095624923706) (0.960689902305603, 0.011320754885673525)};\n",
      "        \\node[above, anchor=south west, rotate=60, font=\\tiny] at (axis cs:0.5468438267707825, 1.0) {217};\n",
      "        \\draw[dotted, color=black] (axis cs:0.5468438267707825, 0.4976958632469177) -- (axis cs:0.5468438267707825, 1.0);\n",
      "        \\node[above, anchor=south west, rotate=60, font=\\tiny] at (axis cs:0.6486223340034485, 1.0) {219};\n",
      "        \\draw[dotted, color=black] (axis cs:0.6486223340034485, 0.543379008769989) -- (axis cs:0.6486223340034485, 1.0);\n",
      "        \\node[above, anchor=south west, rotate=60, font=\\tiny] at (axis cs:0.744964063167572, 1.0) {245};\n",
      "        \\draw[dotted, color=black] (axis cs:0.744964063167572, 0.5428571701049805) -- (axis cs:0.744964063167572, 1.0);\n",
      "        \\node[above, anchor=south west, rotate=60, font=\\tiny] at (axis cs:0.8514056205749512, 1.0) {314};\n",
      "        \\draw[dotted, color=black] (axis cs:0.8514056205749512, 0.5605095624923706) -- (axis cs:0.8514056205749512, 1.0);\n",
      "        \\node[above, anchor=south west, rotate=60, font=\\tiny] at (axis cs:0.960689902305603, 1.0) {265};\n",
      "        \\draw[dotted, color=black] (axis cs:0.960689902305603, 0.011320754885673525) -- (axis cs:0.960689902305603, 1.0);\n",
      "    \\end{axis}\n",
      "\\end{tikzpicture}\n",
      "dict_keys(['_step', '_wandb', '_runtime', '_timestamp', 'test_results'])\n",
      "laplace-4\n",
      "sECE: -0.3843, ECE: 0.3843\n",
      "\\begin{tikzpicture}\n",
      "    \\begin{axis}[calstyle, xmin=0, xmax=1, ymin=0, ymax=1]\n",
      "        \\addplot[dashed, color=black] coordinates {(0,0) (1,1)};\n",
      "        \\addplot[calline] coordinates {(0.5488120317459106, 0.4950000047683716) (0.6513462662696838, 0.5183486342430115) (0.7506882548332214, 0.5371178984642029) (0.8537979125976562, 0.552901029586792) (0.963872730731964, 0.0031250000465661287)};\n",
      "        \\node[above, anchor=south west, rotate=60, font=\\tiny] at (axis cs:0.5488120317459106, 1.0) {200};\n",
      "        \\draw[dotted, color=black] (axis cs:0.5488120317459106, 0.4950000047683716) -- (axis cs:0.5488120317459106, 1.0);\n",
      "        \\node[above, anchor=south west, rotate=60, font=\\tiny] at (axis cs:0.6513462662696838, 1.0) {218};\n",
      "        \\draw[dotted, color=black] (axis cs:0.6513462662696838, 0.5183486342430115) -- (axis cs:0.6513462662696838, 1.0);\n",
      "        \\node[above, anchor=south west, rotate=60, font=\\tiny] at (axis cs:0.7506882548332214, 1.0) {229};\n",
      "        \\draw[dotted, color=black] (axis cs:0.7506882548332214, 0.5371178984642029) -- (axis cs:0.7506882548332214, 1.0);\n",
      "        \\node[above, anchor=south west, rotate=60, font=\\tiny] at (axis cs:0.8537979125976562, 1.0) {293};\n",
      "        \\draw[dotted, color=black] (axis cs:0.8537979125976562, 0.552901029586792) -- (axis cs:0.8537979125976562, 1.0);\n",
      "        \\node[above, anchor=south west, rotate=60, font=\\tiny] at (axis cs:0.963872730731964, 1.0) {320};\n",
      "        \\draw[dotted, color=black] (axis cs:0.963872730731964, 0.0031250000465661287) -- (axis cs:0.963872730731964, 1.0);\n",
      "    \\end{axis}\n",
      "\\end{tikzpicture}\n",
      "dict_keys(['_wandb', '_runtime', '_timestamp', 'test_results', '_step'])\n",
      "laplace_4-3\n",
      "sECE: -0.3491, ECE: 0.3491\n",
      "\\begin{tikzpicture}\n",
      "    \\begin{axis}[calstyle, xmin=0, xmax=1, ymin=0, ymax=1]\n",
      "        \\addplot[dashed, color=black] coordinates {(0,0) (1,1)};\n",
      "        \\addplot[calline] coordinates {(0.5478707551956177, 0.47488585114479065) (0.6517212390899658, 0.5345622301101685) (0.7505467534065247, 0.5301204919815063) (0.852341890335083, 0.5756579041481018) (0.961244821548462, 0.0036900369450449944)};\n",
      "        \\node[above, anchor=south west, rotate=60, font=\\tiny] at (axis cs:0.5478707551956177, 1.0) {219};\n",
      "        \\draw[dotted, color=black] (axis cs:0.5478707551956177, 0.47488585114479065) -- (axis cs:0.5478707551956177, 1.0);\n",
      "        \\node[above, anchor=south west, rotate=60, font=\\tiny] at (axis cs:0.6517212390899658, 1.0) {217};\n",
      "        \\draw[dotted, color=black] (axis cs:0.6517212390899658, 0.5345622301101685) -- (axis cs:0.6517212390899658, 1.0);\n",
      "        \\node[above, anchor=south west, rotate=60, font=\\tiny] at (axis cs:0.7505467534065247, 1.0) {249};\n",
      "        \\draw[dotted, color=black] (axis cs:0.7505467534065247, 0.5301204919815063) -- (axis cs:0.7505467534065247, 1.0);\n",
      "        \\node[above, anchor=south west, rotate=60, font=\\tiny] at (axis cs:0.852341890335083, 1.0) {304};\n",
      "        \\draw[dotted, color=black] (axis cs:0.852341890335083, 0.5756579041481018) -- (axis cs:0.852341890335083, 1.0);\n",
      "        \\node[above, anchor=south west, rotate=60, font=\\tiny] at (axis cs:0.961244821548462, 1.0) {271};\n",
      "        \\draw[dotted, color=black] (axis cs:0.961244821548462, 0.0036900369450449944) -- (axis cs:0.961244821548462, 1.0);\n",
      "    \\end{axis}\n",
      "\\end{tikzpicture}\n",
      "dict_keys(['_step', '_wandb', '_runtime', '_timestamp', 'test_results'])\n",
      "laplace-3\n",
      "sECE: -0.3586, ECE: 0.3586\n",
      "\\begin{tikzpicture}\n",
      "    \\begin{axis}[calstyle, xmin=0, xmax=1, ymin=0, ymax=1]\n",
      "        \\addplot[dashed, color=black] coordinates {(0,0) (1,1)};\n",
      "        \\addplot[calline] coordinates {(0.5498377680778503, 0.5046296119689941) (0.6518945693969727, 0.5358649492263794) (0.7510950565338135, 0.5239999890327454) (0.8541577458381653, 0.509225070476532) (0.9593440890312196, 0.03496503457427025)};\n",
      "        \\node[above, anchor=south west, rotate=60, font=\\tiny] at (axis cs:0.5498377680778503, 1.0) {216};\n",
      "        \\draw[dotted, color=black] (axis cs:0.5498377680778503, 0.5046296119689941) -- (axis cs:0.5498377680778503, 1.0);\n",
      "        \\node[above, anchor=south west, rotate=60, font=\\tiny] at (axis cs:0.6518945693969727, 1.0) {237};\n",
      "        \\draw[dotted, color=black] (axis cs:0.6518945693969727, 0.5358649492263794) -- (axis cs:0.6518945693969727, 1.0);\n",
      "        \\node[above, anchor=south west, rotate=60, font=\\tiny] at (axis cs:0.7510950565338135, 1.0) {250};\n",
      "        \\draw[dotted, color=black] (axis cs:0.7510950565338135, 0.5239999890327454) -- (axis cs:0.7510950565338135, 1.0);\n",
      "        \\node[above, anchor=south west, rotate=60, font=\\tiny] at (axis cs:0.8541577458381653, 1.0) {271};\n",
      "        \\draw[dotted, color=black] (axis cs:0.8541577458381653, 0.509225070476532) -- (axis cs:0.8541577458381653, 1.0);\n",
      "        \\node[above, anchor=south west, rotate=60, font=\\tiny] at (axis cs:0.9593440890312196, 1.0) {286};\n",
      "        \\draw[dotted, color=black] (axis cs:0.9593440890312196, 0.03496503457427025) -- (axis cs:0.9593440890312196, 1.0);\n",
      "    \\end{axis}\n",
      "\\end{tikzpicture}\n",
      "dict_keys(['_wandb', '_runtime', '_timestamp', 'test_results', '_step'])\n",
      "laplace_4-2\n",
      "sECE: -0.3481, ECE: 0.3481\n",
      "\\begin{tikzpicture}\n",
      "    \\begin{axis}[calstyle, xmin=0, xmax=1, ymin=0, ymax=1]\n",
      "        \\addplot[dashed, color=black] coordinates {(0,0) (1,1)};\n",
      "        \\addplot[calline] coordinates {(0.546342670917511, 0.4976303279399872) (0.6479141712188721, 0.54347825050354) (0.7504127025604248, 0.5219123363494873) (0.8537323474884033, 0.5555555820465088) (0.9607022404670716, 0.007380073890089989)};\n",
      "        \\node[above, anchor=south west, rotate=60, font=\\tiny] at (axis cs:0.546342670917511, 1.0) {211};\n",
      "        \\draw[dotted, color=black] (axis cs:0.546342670917511, 0.4976303279399872) -- (axis cs:0.546342670917511, 1.0);\n",
      "        \\node[above, anchor=south west, rotate=60, font=\\tiny] at (axis cs:0.6479141712188721, 1.0) {230};\n",
      "        \\draw[dotted, color=black] (axis cs:0.6479141712188721, 0.54347825050354) -- (axis cs:0.6479141712188721, 1.0);\n",
      "        \\node[above, anchor=south west, rotate=60, font=\\tiny] at (axis cs:0.7504127025604248, 1.0) {251};\n",
      "        \\draw[dotted, color=black] (axis cs:0.7504127025604248, 0.5219123363494873) -- (axis cs:0.7504127025604248, 1.0);\n",
      "        \\node[above, anchor=south west, rotate=60, font=\\tiny] at (axis cs:0.8537323474884033, 1.0) {297};\n",
      "        \\draw[dotted, color=black] (axis cs:0.8537323474884033, 0.5555555820465088) -- (axis cs:0.8537323474884033, 1.0);\n",
      "        \\node[above, anchor=south west, rotate=60, font=\\tiny] at (axis cs:0.9607022404670716, 1.0) {271};\n",
      "        \\draw[dotted, color=black] (axis cs:0.9607022404670716, 0.007380073890089989) -- (axis cs:0.9607022404670716, 1.0);\n",
      "    \\end{axis}\n",
      "\\end{tikzpicture}\n",
      "dict_keys(['_timestamp', 'test_results', '_step', '_wandb', '_runtime'])\n",
      "laplace-2\n",
      "sECE: -0.3294, ECE: 0.3389\n",
      "\\begin{tikzpicture}\n",
      "    \\begin{axis}[calstyle, xmin=0, xmax=1, ymin=0, ymax=1]\n",
      "        \\addplot[dashed, color=black] coordinates {(0,0) (1,1)};\n",
      "        \\addplot[calline] coordinates {(0.5476331114768982, 0.5771144032478333) (0.6494867205619812, 0.4798206388950348) (0.7493929862976074, 0.6201550364494324) (0.8537111878395081, 0.5728813409805298) (0.9611368775367736, 0.017667844891548157)};\n",
      "        \\node[above, anchor=south west, rotate=60, font=\\tiny] at (axis cs:0.5476331114768982, 1.0) {201};\n",
      "        \\draw[dotted, color=black] (axis cs:0.5476331114768982, 0.5771144032478333) -- (axis cs:0.5476331114768982, 1.0);\n",
      "        \\node[above, anchor=south west, rotate=60, font=\\tiny] at (axis cs:0.6494867205619812, 1.0) {223};\n",
      "        \\draw[dotted, color=black] (axis cs:0.6494867205619812, 0.4798206388950348) -- (axis cs:0.6494867205619812, 1.0);\n",
      "        \\node[above, anchor=south west, rotate=60, font=\\tiny] at (axis cs:0.7493929862976074, 1.0) {258};\n",
      "        \\draw[dotted, color=black] (axis cs:0.7493929862976074, 0.6201550364494324) -- (axis cs:0.7493929862976074, 1.0);\n",
      "        \\node[above, anchor=south west, rotate=60, font=\\tiny] at (axis cs:0.8537111878395081, 1.0) {295};\n",
      "        \\draw[dotted, color=black] (axis cs:0.8537111878395081, 0.5728813409805298) -- (axis cs:0.8537111878395081, 1.0);\n",
      "        \\node[above, anchor=south west, rotate=60, font=\\tiny] at (axis cs:0.9611368775367736, 1.0) {283};\n",
      "        \\draw[dotted, color=black] (axis cs:0.9611368775367736, 0.017667844891548157) -- (axis cs:0.9611368775367736, 1.0);\n",
      "    \\end{axis}\n",
      "\\end{tikzpicture}\n",
      "dict_keys(['_step', '_wandb', '_runtime', '_timestamp', 'test_results'])\n",
      "laplace_4-1\n",
      "sECE: -0.3398, ECE: 0.3398\n",
      "\\begin{tikzpicture}\n",
      "    \\begin{axis}[calstyle, xmin=0, xmax=1, ymin=0, ymax=1]\n",
      "        \\addplot[dashed, color=black] coordinates {(0,0) (1,1)};\n",
      "        \\addplot[calline] coordinates {(0.5472634434700012, 0.5093457698822021) (0.6487181186676025, 0.5161290168762207) (0.7448945045471191, 0.5622490048408508) (0.850213348865509, 0.5537459254264832) (0.9590308666229248, 0.025641025975346565)};\n",
      "        \\node[above, anchor=south west, rotate=60, font=\\tiny] at (axis cs:0.5472634434700012, 1.0) {214};\n",
      "        \\draw[dotted, color=black] (axis cs:0.5472634434700012, 0.5093457698822021) -- (axis cs:0.5472634434700012, 1.0);\n",
      "        \\node[above, anchor=south west, rotate=60, font=\\tiny] at (axis cs:0.6487181186676025, 1.0) {217};\n",
      "        \\draw[dotted, color=black] (axis cs:0.6487181186676025, 0.5161290168762207) -- (axis cs:0.6487181186676025, 1.0);\n",
      "        \\node[above, anchor=south west, rotate=60, font=\\tiny] at (axis cs:0.7448945045471191, 1.0) {249};\n",
      "        \\draw[dotted, color=black] (axis cs:0.7448945045471191, 0.5622490048408508) -- (axis cs:0.7448945045471191, 1.0);\n",
      "        \\node[above, anchor=south west, rotate=60, font=\\tiny] at (axis cs:0.850213348865509, 1.0) {307};\n",
      "        \\draw[dotted, color=black] (axis cs:0.850213348865509, 0.5537459254264832) -- (axis cs:0.850213348865509, 1.0);\n",
      "        \\node[above, anchor=south west, rotate=60, font=\\tiny] at (axis cs:0.9590308666229248, 1.0) {273};\n",
      "        \\draw[dotted, color=black] (axis cs:0.9590308666229248, 0.025641025975346565) -- (axis cs:0.9590308666229248, 1.0);\n",
      "    \\end{axis}\n",
      "\\end{tikzpicture}\n",
      "dict_keys(['_step', '_wandb', '_runtime', '_timestamp', 'test_results'])\n",
      "laplace-1\n",
      "sECE: -0.3689, ECE: 0.3689\n",
      "\\begin{tikzpicture}\n",
      "    \\begin{axis}[calstyle, xmin=0, xmax=1, ymin=0, ymax=1]\n",
      "        \\addplot[dashed, color=black] coordinates {(0,0) (1,1)};\n",
      "        \\addplot[calline] coordinates {(0.547240138053894, 0.5095238089561462) (0.6507325172424316, 0.543379008769989) (0.7480337023735046, 0.54935622215271) (0.8480390906333923, 0.5236486196517944) (0.9638718366622924, 0)};\n",
      "        \\node[above, anchor=south west, rotate=60, font=\\tiny] at (axis cs:0.547240138053894, 1.0) {210};\n",
      "        \\draw[dotted, color=black] (axis cs:0.547240138053894, 0.5095238089561462) -- (axis cs:0.547240138053894, 1.0);\n",
      "        \\node[above, anchor=south west, rotate=60, font=\\tiny] at (axis cs:0.6507325172424316, 1.0) {219};\n",
      "        \\draw[dotted, color=black] (axis cs:0.6507325172424316, 0.543379008769989) -- (axis cs:0.6507325172424316, 1.0);\n",
      "        \\node[above, anchor=south west, rotate=60, font=\\tiny] at (axis cs:0.7480337023735046, 1.0) {233};\n",
      "        \\draw[dotted, color=black] (axis cs:0.7480337023735046, 0.54935622215271) -- (axis cs:0.7480337023735046, 1.0);\n",
      "        \\node[above, anchor=south west, rotate=60, font=\\tiny] at (axis cs:0.8480390906333923, 1.0) {296};\n",
      "        \\draw[dotted, color=black] (axis cs:0.8480390906333923, 0.5236486196517944) -- (axis cs:0.8480390906333923, 1.0);\n",
      "        \\node[above, anchor=south west, rotate=60, font=\\tiny] at (axis cs:0.9638718366622924, 1.0) {302};\n",
      "        \\draw[dotted, color=black] (axis cs:0.9638718366622924, 0) -- (axis cs:0.9638718366622924, 1.0);\n",
      "    \\end{axis}\n",
      "\\end{tikzpicture}\n",
      "dict_keys(['_step', '_wandb', '_runtime', '_timestamp', 'test_results'])\n",
      "laplace_4-0\n",
      "sECE: -0.3656, ECE: 0.3656\n",
      "\\begin{tikzpicture}\n",
      "    \\begin{axis}[calstyle, xmin=0, xmax=1, ymin=0, ymax=1]\n",
      "        \\addplot[dashed, color=black] coordinates {(0,0) (1,1)};\n",
      "        \\addplot[calline] coordinates {(0.5486193895339966, 0.4907407462596894) (0.6509278416633606, 0.52073734998703) (0.7498294711112976, 0.5368852615356445) (0.850291907787323, 0.5387205481529236) (0.9628355503082277, 0)};\n",
      "        \\node[above, anchor=south west, rotate=60, font=\\tiny] at (axis cs:0.5486193895339966, 1.0) {216};\n",
      "        \\draw[dotted, color=black] (axis cs:0.5486193895339966, 0.4907407462596894) -- (axis cs:0.5486193895339966, 1.0);\n",
      "        \\node[above, anchor=south west, rotate=60, font=\\tiny] at (axis cs:0.6509278416633606, 1.0) {217};\n",
      "        \\draw[dotted, color=black] (axis cs:0.6509278416633606, 0.52073734998703) -- (axis cs:0.6509278416633606, 1.0);\n",
      "        \\node[above, anchor=south west, rotate=60, font=\\tiny] at (axis cs:0.7498294711112976, 1.0) {244};\n",
      "        \\draw[dotted, color=black] (axis cs:0.7498294711112976, 0.5368852615356445) -- (axis cs:0.7498294711112976, 1.0);\n",
      "        \\node[above, anchor=south west, rotate=60, font=\\tiny] at (axis cs:0.850291907787323, 1.0) {297};\n",
      "        \\draw[dotted, color=black] (axis cs:0.850291907787323, 0.5387205481529236) -- (axis cs:0.850291907787323, 1.0);\n",
      "        \\node[above, anchor=south west, rotate=60, font=\\tiny] at (axis cs:0.9628355503082277, 1.0) {286};\n",
      "        \\draw[dotted, color=black] (axis cs:0.9628355503082277, 0) -- (axis cs:0.9628355503082277, 1.0);\n",
      "    \\end{axis}\n",
      "\\end{tikzpicture}\n",
      "dict_keys(['_step', '_wandb', '_runtime', '_timestamp', 'test_results'])\n",
      "laplace-0\n",
      "sECE: -0.3170, ECE: 0.3170\n",
      "\\begin{tikzpicture}\n",
      "    \\begin{axis}[calstyle, xmin=0, xmax=1, ymin=0, ymax=1]\n",
      "        \\addplot[dashed, color=black] coordinates {(0,0) (1,1)};\n",
      "        \\addplot[calline] coordinates {(0.5513325333595276, 0.4868420958518982) (0.6501434445381165, 0.5119616985321045) (0.7446011900901794, 0.6115702390670776) (0.8530210852622986, 0.57413250207901) (0.9553978443145752, 0.06439393758773804)};\n",
      "        \\node[above, anchor=south west, rotate=60, font=\\tiny] at (axis cs:0.5513325333595276, 1.0) {228};\n",
      "        \\draw[dotted, color=black] (axis cs:0.5513325333595276, 0.4868420958518982) -- (axis cs:0.5513325333595276, 1.0);\n",
      "        \\node[above, anchor=south west, rotate=60, font=\\tiny] at (axis cs:0.6501434445381165, 1.0) {209};\n",
      "        \\draw[dotted, color=black] (axis cs:0.6501434445381165, 0.5119616985321045) -- (axis cs:0.6501434445381165, 1.0);\n",
      "        \\node[above, anchor=south west, rotate=60, font=\\tiny] at (axis cs:0.7446011900901794, 1.0) {242};\n",
      "        \\draw[dotted, color=black] (axis cs:0.7446011900901794, 0.6115702390670776) -- (axis cs:0.7446011900901794, 1.0);\n",
      "        \\node[above, anchor=south west, rotate=60, font=\\tiny] at (axis cs:0.8530210852622986, 1.0) {317};\n",
      "        \\draw[dotted, color=black] (axis cs:0.8530210852622986, 0.57413250207901) -- (axis cs:0.8530210852622986, 1.0);\n",
      "        \\node[above, anchor=south west, rotate=60, font=\\tiny] at (axis cs:0.9553978443145752, 1.0) {264};\n",
      "        \\draw[dotted, color=black] (axis cs:0.9553978443145752, 0.06439393758773804) -- (axis cs:0.9553978443145752, 1.0);\n",
      "    \\end{axis}\n",
      "\\end{tikzpicture}\n",
      "dict_keys(['_step', '_wandb', '_runtime', '_timestamp', 'test_results'])\n",
      "bbb_4-4\n",
      "sECE: -0.3581, ECE: 0.3581\n",
      "\\begin{tikzpicture}\n",
      "    \\begin{axis}[calstyle, xmin=0, xmax=1, ymin=0, ymax=1]\n",
      "        \\addplot[dashed, color=black] coordinates {(0,0) (1,1)};\n",
      "        \\addplot[calline] coordinates {(0.5509823560714722, 0.42500001192092896) (0.6521658897399902, 0.4464285671710968) (0.7548543810844421, 0.5220588445663452) (0.850373387336731, 0.541436493396759) (0.9768282771110536, 0.5189873576164246)};\n",
      "        \\node[above, anchor=south west, rotate=60, font=\\tiny] at (axis cs:0.5509823560714722, 1.0) {120};\n",
      "        \\draw[dotted, color=black] (axis cs:0.5509823560714722, 0.42500001192092896) -- (axis cs:0.5509823560714722, 1.0);\n",
      "        \\node[above, anchor=south west, rotate=60, font=\\tiny] at (axis cs:0.6521658897399902, 1.0) {112};\n",
      "        \\draw[dotted, color=black] (axis cs:0.6521658897399902, 0.4464285671710968) -- (axis cs:0.6521658897399902, 1.0);\n",
      "        \\node[above, anchor=south west, rotate=60, font=\\tiny] at (axis cs:0.7548543810844421, 1.0) {136};\n",
      "        \\draw[dotted, color=black] (axis cs:0.7548543810844421, 0.5220588445663452) -- (axis cs:0.7548543810844421, 1.0);\n",
      "        \\node[above, anchor=south west, rotate=60, font=\\tiny] at (axis cs:0.850373387336731, 1.0) {181};\n",
      "        \\draw[dotted, color=black] (axis cs:0.850373387336731, 0.541436493396759) -- (axis cs:0.850373387336731, 1.0);\n",
      "        \\node[above, anchor=south west, rotate=60, font=\\tiny] at (axis cs:0.9768282771110536, 1.0) {711};\n",
      "        \\draw[dotted, color=black] (axis cs:0.9768282771110536, 0.5189873576164246) -- (axis cs:0.9768282771110536, 1.0);\n",
      "    \\end{axis}\n",
      "\\end{tikzpicture}\n",
      "dict_keys(['_step', '_wandb', '_runtime', '_timestamp', 'test_results'])\n",
      "bbb_4-3\n",
      "sECE: -0.3330, ECE: 0.3330\n",
      "\\begin{tikzpicture}\n",
      "    \\begin{axis}[calstyle, xmin=0, xmax=1, ymin=0, ymax=1]\n",
      "        \\addplot[dashed, color=black] coordinates {(0,0) (1,1)};\n",
      "        \\addplot[calline] coordinates {(0.5492405295372009, 0.3688524663448334) (0.650119960308075, 0.4406779706478119) (0.7479046583175659, 0.5337423086166382) (0.8513250946998596, 0.5654761791229248) (0.9767337441444396, 0.5558781027793884)};\n",
      "        \\node[above, anchor=south west, rotate=60, font=\\tiny] at (axis cs:0.5492405295372009, 1.0) {122};\n",
      "        \\draw[dotted, color=black] (axis cs:0.5492405295372009, 0.3688524663448334) -- (axis cs:0.5492405295372009, 1.0);\n",
      "        \\node[above, anchor=south west, rotate=60, font=\\tiny] at (axis cs:0.650119960308075, 1.0) {118};\n",
      "        \\draw[dotted, color=black] (axis cs:0.650119960308075, 0.4406779706478119) -- (axis cs:0.650119960308075, 1.0);\n",
      "        \\node[above, anchor=south west, rotate=60, font=\\tiny] at (axis cs:0.7479046583175659, 1.0) {163};\n",
      "        \\draw[dotted, color=black] (axis cs:0.7479046583175659, 0.5337423086166382) -- (axis cs:0.7479046583175659, 1.0);\n",
      "        \\node[above, anchor=south west, rotate=60, font=\\tiny] at (axis cs:0.8513250946998596, 1.0) {168};\n",
      "        \\draw[dotted, color=black] (axis cs:0.8513250946998596, 0.5654761791229248) -- (axis cs:0.8513250946998596, 1.0);\n",
      "        \\node[above, anchor=south west, rotate=60, font=\\tiny] at (axis cs:0.9767337441444396, 1.0) {689};\n",
      "        \\draw[dotted, color=black] (axis cs:0.9767337441444396, 0.5558781027793884) -- (axis cs:0.9767337441444396, 1.0);\n",
      "    \\end{axis}\n",
      "\\end{tikzpicture}\n",
      "dict_keys(['_step', '_wandb', '_runtime', '_timestamp', 'test_results'])\n",
      "bbb_4-2\n",
      "sECE: -0.3386, ECE: 0.3386\n",
      "\\begin{tikzpicture}\n",
      "    \\begin{axis}[calstyle, xmin=0, xmax=1, ymin=0, ymax=1]\n",
      "        \\addplot[dashed, color=black] coordinates {(0,0) (1,1)};\n",
      "        \\addplot[calline] coordinates {(0.551110029220581, 0.4876033067703247) (0.649728000164032, 0.42500001192092896) (0.7495101094245911, 0.5285714268684387) (0.8551953434944153, 0.5375722646713257) (0.9775177240371704, 0.5439093708992004)};\n",
      "        \\node[above, anchor=south west, rotate=60, font=\\tiny] at (axis cs:0.551110029220581, 1.0) {121};\n",
      "        \\draw[dotted, color=black] (axis cs:0.551110029220581, 0.4876033067703247) -- (axis cs:0.551110029220581, 1.0);\n",
      "        \\node[above, anchor=south west, rotate=60, font=\\tiny] at (axis cs:0.649728000164032, 1.0) {120};\n",
      "        \\draw[dotted, color=black] (axis cs:0.649728000164032, 0.42500001192092896) -- (axis cs:0.649728000164032, 1.0);\n",
      "        \\node[above, anchor=south west, rotate=60, font=\\tiny] at (axis cs:0.7495101094245911, 1.0) {140};\n",
      "        \\draw[dotted, color=black] (axis cs:0.7495101094245911, 0.5285714268684387) -- (axis cs:0.7495101094245911, 1.0);\n",
      "        \\node[above, anchor=south west, rotate=60, font=\\tiny] at (axis cs:0.8551953434944153, 1.0) {173};\n",
      "        \\draw[dotted, color=black] (axis cs:0.8551953434944153, 0.5375722646713257) -- (axis cs:0.8551953434944153, 1.0);\n",
      "        \\node[above, anchor=south west, rotate=60, font=\\tiny] at (axis cs:0.9775177240371704, 1.0) {706};\n",
      "        \\draw[dotted, color=black] (axis cs:0.9775177240371704, 0.5439093708992004) -- (axis cs:0.9775177240371704, 1.0);\n",
      "    \\end{axis}\n",
      "\\end{tikzpicture}\n",
      "dict_keys(['_step', '_wandb', '_runtime', '_timestamp', 'test_results'])\n",
      "bbb_4-0\n",
      "sECE: -0.3222, ECE: 0.3222\n",
      "\\begin{tikzpicture}\n",
      "    \\begin{axis}[calstyle, xmin=0, xmax=1, ymin=0, ymax=1]\n",
      "        \\addplot[dashed, color=black] coordinates {(0,0) (1,1)};\n",
      "        \\addplot[calline] coordinates {(0.5474383234977722, 0.4444444477558136) (0.6511710286140442, 0.5609756112098694) (0.7506363987922668, 0.4661654233932495) (0.8548675179481506, 0.5555555820465088) (0.9787803888320924, 0.5684357285499573)};\n",
      "        \\node[above, anchor=south west, rotate=60, font=\\tiny] at (axis cs:0.5474383234977722, 1.0) {117};\n",
      "        \\draw[dotted, color=black] (axis cs:0.5474383234977722, 0.4444444477558136) -- (axis cs:0.5474383234977722, 1.0);\n",
      "        \\node[above, anchor=south west, rotate=60, font=\\tiny] at (axis cs:0.6511710286140442, 1.0) {123};\n",
      "        \\draw[dotted, color=black] (axis cs:0.6511710286140442, 0.5609756112098694) -- (axis cs:0.6511710286140442, 1.0);\n",
      "        \\node[above, anchor=south west, rotate=60, font=\\tiny] at (axis cs:0.7506363987922668, 1.0) {133};\n",
      "        \\draw[dotted, color=black] (axis cs:0.7506363987922668, 0.4661654233932495) -- (axis cs:0.7506363987922668, 1.0);\n",
      "        \\node[above, anchor=south west, rotate=60, font=\\tiny] at (axis cs:0.8548675179481506, 1.0) {171};\n",
      "        \\draw[dotted, color=black] (axis cs:0.8548675179481506, 0.5555555820465088) -- (axis cs:0.8548675179481506, 1.0);\n",
      "        \\node[above, anchor=south west, rotate=60, font=\\tiny] at (axis cs:0.9787803888320924, 1.0) {716};\n",
      "        \\draw[dotted, color=black] (axis cs:0.9787803888320924, 0.5684357285499573) -- (axis cs:0.9787803888320924, 1.0);\n",
      "    \\end{axis}\n",
      "\\end{tikzpicture}\n",
      "dict_keys(['_step', '_wandb', '_runtime', '_timestamp', 'test_results'])\n",
      "bbb_4-1\n",
      "sECE: -0.3381, ECE: 0.3381\n",
      "\\begin{tikzpicture}\n",
      "    \\begin{axis}[calstyle, xmin=0, xmax=1, ymin=0, ymax=1]\n",
      "        \\addplot[dashed, color=black] coordinates {(0,0) (1,1)};\n",
      "        \\addplot[calline] coordinates {(0.550957977771759, 0.4961240291595459) (0.6512648463249207, 0.4257425665855408) (0.7479530572891235, 0.463087260723114) (0.8536227941513062, 0.5483871102333069) (0.9769351482391356, 0.5496402978897095)};\n",
      "        \\node[above, anchor=south west, rotate=60, font=\\tiny] at (axis cs:0.550957977771759, 1.0) {129};\n",
      "        \\draw[dotted, color=black] (axis cs:0.550957977771759, 0.4961240291595459) -- (axis cs:0.550957977771759, 1.0);\n",
      "        \\node[above, anchor=south west, rotate=60, font=\\tiny] at (axis cs:0.6512648463249207, 1.0) {101};\n",
      "        \\draw[dotted, color=black] (axis cs:0.6512648463249207, 0.4257425665855408) -- (axis cs:0.6512648463249207, 1.0);\n",
      "        \\node[above, anchor=south west, rotate=60, font=\\tiny] at (axis cs:0.7479530572891235, 1.0) {149};\n",
      "        \\draw[dotted, color=black] (axis cs:0.7479530572891235, 0.463087260723114) -- (axis cs:0.7479530572891235, 1.0);\n",
      "        \\node[above, anchor=south west, rotate=60, font=\\tiny] at (axis cs:0.8536227941513062, 1.0) {186};\n",
      "        \\draw[dotted, color=black] (axis cs:0.8536227941513062, 0.5483871102333069) -- (axis cs:0.8536227941513062, 1.0);\n",
      "        \\node[above, anchor=south west, rotate=60, font=\\tiny] at (axis cs:0.9769351482391356, 1.0) {695};\n",
      "        \\draw[dotted, color=black] (axis cs:0.9769351482391356, 0.5496402978897095) -- (axis cs:0.9769351482391356, 1.0);\n",
      "    \\end{axis}\n",
      "\\end{tikzpicture}\n",
      "dict_keys(['white-non-toxic', 'christian-non-toxic', 'muslim-toxic', 'all-toxic', 'black-non-toxic', 'lgbtq-non-toxic', 'other_religion-non-toxic', '_runtime', '_wandb', 'black-toxic', 'female-toxic', 'test_results', 'all-non-toxic', 'christian-toxic', 'female-non-toxic', 'all', 'muslim-non-toxic', '_timestamp', 'male-toxic', 'train_loss', 'lgbtq-toxic', 'white-toxic', 'male-non-toxic', 'other_religion-toxic', '_step', 'worst group accuracy'])\n",
      "bbb-0\n",
      "sECE: -0.3953, ECE: 0.3953\n",
      "\\begin{tikzpicture}\n",
      "    \\begin{axis}[calstyle, xmin=0, xmax=1, ymin=0, ymax=1]\n",
      "        \\addplot[dashed, color=black] coordinates {(0,0) (1,1)};\n",
      "        \\addplot[calline] coordinates {(0.5537686944007874, 0.4791666567325592) (0.6492553353309631, 0.4893617033958435) (0.7539262771606445, 0.478723406791687) (0.8548834323883057, 0.6164383292198181) (0.9797091484069824, 0.4795180857181549)};\n",
      "        \\node[above, anchor=south west, rotate=60, font=\\tiny] at (axis cs:0.5537686944007874, 1.0) {96};\n",
      "        \\draw[dotted, color=black] (axis cs:0.5537686944007874, 0.4791666567325592) -- (axis cs:0.5537686944007874, 1.0);\n",
      "        \\node[above, anchor=south west, rotate=60, font=\\tiny] at (axis cs:0.6492553353309631, 1.0) {94};\n",
      "        \\draw[dotted, color=black] (axis cs:0.6492553353309631, 0.4893617033958435) -- (axis cs:0.6492553353309631, 1.0);\n",
      "        \\node[above, anchor=south west, rotate=60, font=\\tiny] at (axis cs:0.7539262771606445, 1.0) {94};\n",
      "        \\draw[dotted, color=black] (axis cs:0.7539262771606445, 0.478723406791687) -- (axis cs:0.7539262771606445, 1.0);\n",
      "        \\node[above, anchor=south west, rotate=60, font=\\tiny] at (axis cs:0.8548834323883057, 1.0) {146};\n",
      "        \\draw[dotted, color=black] (axis cs:0.8548834323883057, 0.6164383292198181) -- (axis cs:0.8548834323883057, 1.0);\n",
      "        \\node[above, anchor=south west, rotate=60, font=\\tiny] at (axis cs:0.9797091484069824, 1.0) {830};\n",
      "        \\draw[dotted, color=black] (axis cs:0.9797091484069824, 0.4795180857181549) -- (axis cs:0.9797091484069824, 1.0);\n",
      "    \\end{axis}\n",
      "\\end{tikzpicture}\n",
      "dict_keys(['christian-non-toxic', '_runtime', 'train_loss', 'black-toxic', 'female-toxic', 'christian-toxic', 'lgbtq-non-toxic', 'muslim-non-toxic', 'other_religion-toxic', 'all', '_timestamp', 'male-toxic', 'lgbtq-toxic', 'test_results', 'worst group accuracy', 'other_religion-non-toxic', 'all-toxic', 'male-non-toxic', 'white-non-toxic', 'female-non-toxic', 'black-non-toxic', '_step', '_wandb', 'white-toxic', 'muslim-toxic', 'all-non-toxic'])\n",
      "bbb-1\n",
      "sECE: -0.3621, ECE: 0.3621\n",
      "\\begin{tikzpicture}\n",
      "    \\begin{axis}[calstyle, xmin=0, xmax=1, ymin=0, ymax=1]\n",
      "        \\addplot[dashed, color=black] coordinates {(0,0) (1,1)};\n",
      "        \\addplot[calline] coordinates {(0.5488948822021484, 0.5) (0.6511688828468323, 0.5714285969734192) (0.7476969361305237, 0.5833333134651184) (0.851878821849823, 0.4772727191448212) (0.9834907650947572, 0.5485714077949524)};\n",
      "        \\node[above, anchor=south west, rotate=60, font=\\tiny] at (axis cs:0.5488948822021484, 1.0) {66};\n",
      "        \\draw[dotted, color=black] (axis cs:0.5488948822021484, 0.5) -- (axis cs:0.5488948822021484, 1.0);\n",
      "        \\node[above, anchor=south west, rotate=60, font=\\tiny] at (axis cs:0.6511688828468323, 1.0) {91};\n",
      "        \\draw[dotted, color=black] (axis cs:0.6511688828468323, 0.5714285969734192) -- (axis cs:0.6511688828468323, 1.0);\n",
      "        \\node[above, anchor=south west, rotate=60, font=\\tiny] at (axis cs:0.7476969361305237, 1.0) {96};\n",
      "        \\draw[dotted, color=black] (axis cs:0.7476969361305237, 0.5833333134651184) -- (axis cs:0.7476969361305237, 1.0);\n",
      "        \\node[above, anchor=south west, rotate=60, font=\\tiny] at (axis cs:0.851878821849823, 1.0) {132};\n",
      "        \\draw[dotted, color=black] (axis cs:0.851878821849823, 0.4772727191448212) -- (axis cs:0.851878821849823, 1.0);\n",
      "        \\node[above, anchor=south west, rotate=60, font=\\tiny] at (axis cs:0.9834907650947572, 1.0) {875};\n",
      "        \\draw[dotted, color=black] (axis cs:0.9834907650947572, 0.5485714077949524) -- (axis cs:0.9834907650947572, 1.0);\n",
      "    \\end{axis}\n",
      "\\end{tikzpicture}\n",
      "dict_keys(['other_religion-toxic', 'other_religion-non-toxic', 'all', '_runtime', '_timestamp', 'muslim-toxic', 'female-non-toxic', 'black-toxic', 'white-toxic', 'female-toxic', 'black-non-toxic', 'christian-non-toxic', 'muslim-non-toxic', 'worst group accuracy', 'all-toxic', 'train_loss', 'lgbtq-toxic', 'all-non-toxic', 'christian-toxic', 'lgbtq-non-toxic', 'white-non-toxic', '_step', '_wandb', 'male-toxic', 'test_results', 'male-non-toxic'])\n",
      "bbb-2\n",
      "sECE: -0.3259, ECE: 0.3337\n",
      "\\begin{tikzpicture}\n",
      "    \\begin{axis}[calstyle, xmin=0, xmax=1, ymin=0, ymax=1]\n",
      "        \\addplot[dashed, color=black] coordinates {(0,0) (1,1)};\n",
      "        \\addplot[calline] coordinates {(0.5470907092094421, 0.5979381203651428) (0.6506538391113281, 0.5604395866394043) (0.7533591985702515, 0.6036036014556885) (0.856643557548523, 0.5361445546150208) (0.9792283177375792, 0.5547170042991638)};\n",
      "        \\node[above, anchor=south west, rotate=60, font=\\tiny] at (axis cs:0.5470907092094421, 1.0) {97};\n",
      "        \\draw[dotted, color=black] (axis cs:0.5470907092094421, 0.5979381203651428) -- (axis cs:0.5470907092094421, 1.0);\n",
      "        \\node[above, anchor=south west, rotate=60, font=\\tiny] at (axis cs:0.6506538391113281, 1.0) {91};\n",
      "        \\draw[dotted, color=black] (axis cs:0.6506538391113281, 0.5604395866394043) -- (axis cs:0.6506538391113281, 1.0);\n",
      "        \\node[above, anchor=south west, rotate=60, font=\\tiny] at (axis cs:0.7533591985702515, 1.0) {111};\n",
      "        \\draw[dotted, color=black] (axis cs:0.7533591985702515, 0.6036036014556885) -- (axis cs:0.7533591985702515, 1.0);\n",
      "        \\node[above, anchor=south west, rotate=60, font=\\tiny] at (axis cs:0.856643557548523, 1.0) {166};\n",
      "        \\draw[dotted, color=black] (axis cs:0.856643557548523, 0.5361445546150208) -- (axis cs:0.856643557548523, 1.0);\n",
      "        \\node[above, anchor=south west, rotate=60, font=\\tiny] at (axis cs:0.9792283177375792, 1.0) {795};\n",
      "        \\draw[dotted, color=black] (axis cs:0.9792283177375792, 0.5547170042991638) -- (axis cs:0.9792283177375792, 1.0);\n",
      "    \\end{axis}\n",
      "\\end{tikzpicture}\n",
      "dict_keys(['black-toxic', 'white-toxic', 'test_results', 'all-non-toxic', 'christian-toxic', 'lgbtq-non-toxic', 'white-non-toxic', 'worst group accuracy', 'all', 'male-toxic', 'male-non-toxic', 'muslim-non-toxic', 'christian-non-toxic', 'other_religion-non-toxic', 'all-toxic', 'train_loss', 'lgbtq-toxic', '_step', '_wandb', '_runtime', '_timestamp', 'female-toxic', 'muslim-toxic', 'black-non-toxic', 'female-non-toxic', 'other_religion-toxic'])\n",
      "bbb-3\n",
      "sECE: -0.4154, ECE: 0.4154\n",
      "\\begin{tikzpicture}\n",
      "    \\begin{axis}[calstyle, xmin=0, xmax=1, ymin=0, ymax=1]\n",
      "        \\addplot[dashed, color=black] coordinates {(0,0) (1,1)};\n",
      "        \\addplot[calline] coordinates {(0.5536446571350098, 0.5064935088157654) (0.6562494039535522, 0.5396825671195984) (0.7522143721580505, 0.4545454680919647) (0.8571276664733887, 0.5486725568771362) (0.9862036108970642, 0.4951033592224121)};\n",
      "        \\node[above, anchor=south west, rotate=60, font=\\tiny] at (axis cs:0.5536446571350098, 1.0) {77};\n",
      "        \\draw[dotted, color=black] (axis cs:0.5536446571350098, 0.5064935088157654) -- (axis cs:0.5536446571350098, 1.0);\n",
      "        \\node[above, anchor=south west, rotate=60, font=\\tiny] at (axis cs:0.6562494039535522, 1.0) {63};\n",
      "        \\draw[dotted, color=black] (axis cs:0.6562494039535522, 0.5396825671195984) -- (axis cs:0.6562494039535522, 1.0);\n",
      "        \\node[above, anchor=south west, rotate=60, font=\\tiny] at (axis cs:0.7522143721580505, 1.0) {88};\n",
      "        \\draw[dotted, color=black] (axis cs:0.7522143721580505, 0.4545454680919647) -- (axis cs:0.7522143721580505, 1.0);\n",
      "        \\node[above, anchor=south west, rotate=60, font=\\tiny] at (axis cs:0.8571276664733887, 1.0) {113};\n",
      "        \\draw[dotted, color=black] (axis cs:0.8571276664733887, 0.5486725568771362) -- (axis cs:0.8571276664733887, 1.0);\n",
      "        \\node[above, anchor=south west, rotate=60, font=\\tiny] at (axis cs:0.9862036108970642, 1.0) {919};\n",
      "        \\draw[dotted, color=black] (axis cs:0.9862036108970642, 0.4951033592224121) -- (axis cs:0.9862036108970642, 1.0);\n",
      "    \\end{axis}\n",
      "\\end{tikzpicture}\n",
      "dict_keys(['black-non-toxic', 'christian-toxic', 'lgbtq-non-toxic', 'white-non-toxic', 'female-non-toxic', 'all', '_step', 'train_loss', 'worst group accuracy', 'test_results', 'muslim-non-toxic', 'other_religion-non-toxic', '_runtime', 'male-toxic', 'black-toxic', 'male-non-toxic', 'christian-non-toxic', 'white-toxic', 'female-toxic', 'muslim-toxic', 'lgbtq-toxic', 'all-non-toxic', 'other_religion-toxic', '_wandb', 'all-toxic', '_timestamp'])\n",
      "bbb-4\n",
      "sECE: -0.2845, ECE: 0.2853\n",
      "\\begin{tikzpicture}\n",
      "    \\begin{axis}[calstyle, xmin=0, xmax=1, ymin=0, ymax=1]\n",
      "        \\addplot[dashed, color=black] coordinates {(0,0) (1,1)};\n",
      "        \\addplot[calline] coordinates {(0.5546407699584961, 0.5609756112098694) (0.650740921497345, 0.5068492889404297) (0.7516873478889465, 0.5631067752838135) (0.85832279920578, 0.5803571343421936) (0.9796428680419922, 0.6449438333511353)};\n",
      "        \\node[above, anchor=south west, rotate=60, font=\\tiny] at (axis cs:0.5546407699584961, 1.0) {82};\n",
      "        \\draw[dotted, color=black] (axis cs:0.5546407699584961, 0.5609756112098694) -- (axis cs:0.5546407699584961, 1.0);\n",
      "        \\node[above, anchor=south west, rotate=60, font=\\tiny] at (axis cs:0.650740921497345, 1.0) {73};\n",
      "        \\draw[dotted, color=black] (axis cs:0.650740921497345, 0.5068492889404297) -- (axis cs:0.650740921497345, 1.0);\n",
      "        \\node[above, anchor=south west, rotate=60, font=\\tiny] at (axis cs:0.7516873478889465, 1.0) {103};\n",
      "        \\draw[dotted, color=black] (axis cs:0.7516873478889465, 0.5631067752838135) -- (axis cs:0.7516873478889465, 1.0);\n",
      "        \\node[above, anchor=south west, rotate=60, font=\\tiny] at (axis cs:0.85832279920578, 1.0) {112};\n",
      "        \\draw[dotted, color=black] (axis cs:0.85832279920578, 0.5803571343421936) -- (axis cs:0.85832279920578, 1.0);\n",
      "        \\node[above, anchor=south west, rotate=60, font=\\tiny] at (axis cs:0.9796428680419922, 1.0) {890};\n",
      "        \\draw[dotted, color=black] (axis cs:0.9796428680419922, 0.6449438333511353) -- (axis cs:0.9796428680419922, 1.0);\n",
      "    \\end{axis}\n",
      "\\end{tikzpicture}\n",
      "dict_keys(['test_results', '_step', '_wandb', '_runtime', '_timestamp'])\n",
      "laplace-2\n",
      "sECE: -0.3303, ECE: 0.3353\n",
      "\\begin{tikzpicture}\n",
      "    \\begin{axis}[calstyle, xmin=0, xmax=1, ymin=0, ymax=1]\n",
      "        \\addplot[dashed, color=black] coordinates {(0,0) (1,1)};\n",
      "        \\addplot[calline] coordinates {(0.548359751701355, 0.563725471496582) (0.650368869304657, 0.5) (0.7492194771766663, 0.6206896305084229) (0.8542972207069397, 0.5585284233093262) (0.9624208807945251, 0.010791366919875143)};\n",
      "        \\node[above, anchor=south west, rotate=60, font=\\tiny] at (axis cs:0.548359751701355, 1.0) {204};\n",
      "        \\draw[dotted, color=black] (axis cs:0.548359751701355, 0.563725471496582) -- (axis cs:0.548359751701355, 1.0);\n",
      "        \\node[above, anchor=south west, rotate=60, font=\\tiny] at (axis cs:0.650368869304657, 1.0) {218};\n",
      "        \\draw[dotted, color=black] (axis cs:0.650368869304657, 0.5) -- (axis cs:0.650368869304657, 1.0);\n",
      "        \\node[above, anchor=south west, rotate=60, font=\\tiny] at (axis cs:0.7492194771766663, 1.0) {261};\n",
      "        \\draw[dotted, color=black] (axis cs:0.7492194771766663, 0.6206896305084229) -- (axis cs:0.7492194771766663, 1.0);\n",
      "        \\node[above, anchor=south west, rotate=60, font=\\tiny] at (axis cs:0.8542972207069397, 1.0) {299};\n",
      "        \\draw[dotted, color=black] (axis cs:0.8542972207069397, 0.5585284233093262) -- (axis cs:0.8542972207069397, 1.0);\n",
      "        \\node[above, anchor=south west, rotate=60, font=\\tiny] at (axis cs:0.9624208807945251, 1.0) {278};\n",
      "        \\draw[dotted, color=black] (axis cs:0.9624208807945251, 0.010791366919875143) -- (axis cs:0.9624208807945251, 1.0);\n",
      "    \\end{axis}\n",
      "\\end{tikzpicture}\n",
      "dict_keys(['_step', '_wandb', '_runtime', '_timestamp', 'test_results'])\n",
      "laplace-1\n",
      "sECE: -0.3665, ECE: 0.3665\n",
      "\\begin{tikzpicture}\n",
      "    \\begin{axis}[calstyle, xmin=0, xmax=1, ymin=0, ymax=1]\n",
      "        \\addplot[dashed, color=black] coordinates {(0,0) (1,1)};\n",
      "        \\addplot[calline] coordinates {(0.5486617088317871, 0.523809552192688) (0.6521897912025452, 0.534246563911438) (0.7497721910476685, 0.5512820482254028) (0.8504377603530884, 0.5164473652839661) (0.9650570750236512, 0)};\n",
      "        \\node[above, anchor=south west, rotate=60, font=\\tiny] at (axis cs:0.5486617088317871, 1.0) {210};\n",
      "        \\draw[dotted, color=black] (axis cs:0.5486617088317871, 0.523809552192688) -- (axis cs:0.5486617088317871, 1.0);\n",
      "        \\node[above, anchor=south west, rotate=60, font=\\tiny] at (axis cs:0.6521897912025452, 1.0) {219};\n",
      "        \\draw[dotted, color=black] (axis cs:0.6521897912025452, 0.534246563911438) -- (axis cs:0.6521897912025452, 1.0);\n",
      "        \\node[above, anchor=south west, rotate=60, font=\\tiny] at (axis cs:0.7497721910476685, 1.0) {234};\n",
      "        \\draw[dotted, color=black] (axis cs:0.7497721910476685, 0.5512820482254028) -- (axis cs:0.7497721910476685, 1.0);\n",
      "        \\node[above, anchor=south west, rotate=60, font=\\tiny] at (axis cs:0.8504377603530884, 1.0) {304};\n",
      "        \\draw[dotted, color=black] (axis cs:0.8504377603530884, 0.5164473652839661) -- (axis cs:0.8504377603530884, 1.0);\n",
      "        \\node[above, anchor=south west, rotate=60, font=\\tiny] at (axis cs:0.9650570750236512, 1.0) {293};\n",
      "        \\draw[dotted, color=black] (axis cs:0.9650570750236512, 0) -- (axis cs:0.9650570750236512, 1.0);\n",
      "    \\end{axis}\n",
      "\\end{tikzpicture}\n",
      "dict_keys(['_step', '_wandb', '_runtime', '_timestamp', 'test_results'])\n",
      "laplace-0\n",
      "sECE: -0.3181, ECE: 0.3181\n",
      "\\begin{tikzpicture}\n",
      "    \\begin{axis}[calstyle, xmin=0, xmax=1, ymin=0, ymax=1]\n",
      "        \\addplot[dashed, color=black] coordinates {(0,0) (1,1)};\n",
      "        \\addplot[calline] coordinates {(0.5503824353218079, 0.5045045018196106) (0.6522064805030823, 0.508695662021637) (0.7497414946556091, 0.5940170884132385) (0.8547187447547913, 0.5801281929016113) (0.9562923908233644, 0.057251907885074615)};\n",
      "        \\node[above, anchor=south west, rotate=60, font=\\tiny] at (axis cs:0.5503824353218079, 1.0) {222};\n",
      "        \\draw[dotted, color=black] (axis cs:0.5503824353218079, 0.5045045018196106) -- (axis cs:0.5503824353218079, 1.0);\n",
      "        \\node[above, anchor=south west, rotate=60, font=\\tiny] at (axis cs:0.6522064805030823, 1.0) {230};\n",
      "        \\draw[dotted, color=black] (axis cs:0.6522064805030823, 0.508695662021637) -- (axis cs:0.6522064805030823, 1.0);\n",
      "        \\node[above, anchor=south west, rotate=60, font=\\tiny] at (axis cs:0.7497414946556091, 1.0) {234};\n",
      "        \\draw[dotted, color=black] (axis cs:0.7497414946556091, 0.5940170884132385) -- (axis cs:0.7497414946556091, 1.0);\n",
      "        \\node[above, anchor=south west, rotate=60, font=\\tiny] at (axis cs:0.8547187447547913, 1.0) {312};\n",
      "        \\draw[dotted, color=black] (axis cs:0.8547187447547913, 0.5801281929016113) -- (axis cs:0.8547187447547913, 1.0);\n",
      "        \\node[above, anchor=south west, rotate=60, font=\\tiny] at (axis cs:0.9562923908233644, 1.0) {262};\n",
      "        \\draw[dotted, color=black] (axis cs:0.9562923908233644, 0.057251907885074615) -- (axis cs:0.9562923908233644, 1.0);\n",
      "    \\end{axis}\n",
      "\\end{tikzpicture}\n",
      "laplace-0\n",
      "dict_keys(['_step', '_wandb', '_runtime', '_timestamp', 'test_results'])\n",
      "map_4_wd0.0001-4\n",
      "sECE: -0.4155, ECE: 0.4155\n",
      "\\begin{tikzpicture}\n",
      "    \\begin{axis}[calstyle, xmin=0, xmax=1, ymin=0, ymax=1]\n",
      "        \\addplot[dashed, color=black] coordinates {(0,0) (1,1)};\n",
      "        \\addplot[calline] coordinates {(0.548845112323761, 0.52173912525177) (0.6464298367500305, 0.5348837375640869) (0.7544342279434204, 0.28125) (0.856689989566803, 0.3863636255264282) (0.9690382480621338, 0.4731182754039765)};\n",
      "        \\node[above, anchor=south west, rotate=60, font=\\tiny] at (axis cs:0.548845112323761, 1.0) {46};\n",
      "        \\draw[dotted, color=black] (axis cs:0.548845112323761, 0.52173912525177) -- (axis cs:0.548845112323761, 1.0);\n",
      "        \\node[above, anchor=south west, rotate=60, font=\\tiny] at (axis cs:0.6464298367500305, 1.0) {43};\n",
      "        \\draw[dotted, color=black] (axis cs:0.6464298367500305, 0.5348837375640869) -- (axis cs:0.6464298367500305, 1.0);\n",
      "        \\node[above, anchor=south west, rotate=60, font=\\tiny] at (axis cs:0.7544342279434204, 1.0) {64};\n",
      "        \\draw[dotted, color=black] (axis cs:0.7544342279434204, 0.28125) -- (axis cs:0.7544342279434204, 1.0);\n",
      "        \\node[above, anchor=south west, rotate=60, font=\\tiny] at (axis cs:0.856689989566803, 1.0) {88};\n",
      "        \\draw[dotted, color=black] (axis cs:0.856689989566803, 0.3863636255264282) -- (axis cs:0.856689989566803, 1.0);\n",
      "        \\node[above, anchor=south west, rotate=60, font=\\tiny] at (axis cs:0.9690382480621338, 1.0) {279};\n",
      "        \\draw[dotted, color=black] (axis cs:0.9690382480621338, 0.4731182754039765) -- (axis cs:0.9690382480621338, 1.0);\n",
      "    \\end{axis}\n",
      "\\end{tikzpicture}\n",
      "dict_keys(['test_results', '_step', '_wandb', '_runtime', '_timestamp'])\n",
      "map_4_wd0.0001-2\n",
      "sECE: -0.3753, ECE: 0.3821\n",
      "\\begin{tikzpicture}\n",
      "    \\begin{axis}[calstyle, xmin=0, xmax=1, ymin=0, ymax=1]\n",
      "        \\addplot[dashed, color=black] coordinates {(0,0) (1,1)};\n",
      "        \\addplot[calline] coordinates {(0.5446766018867493, 0.5799999833106995) (0.6536118984222412, 0.5348837375640869) (0.749785840511322, 0.3417721390724182) (0.8539892435073853, 0.36000001430511475) (0.9690737128257751, 0.5201465487480164)};\n",
      "        \\node[above, anchor=south west, rotate=60, font=\\tiny] at (axis cs:0.5446766018867493, 1.0) {50};\n",
      "        \\draw[dotted, color=black] (axis cs:0.5446766018867493, 0.5799999833106995) -- (axis cs:0.5446766018867493, 1.0);\n",
      "        \\node[above, anchor=south west, rotate=60, font=\\tiny] at (axis cs:0.6536118984222412, 1.0) {43};\n",
      "        \\draw[dotted, color=black] (axis cs:0.6536118984222412, 0.5348837375640869) -- (axis cs:0.6536118984222412, 1.0);\n",
      "        \\node[above, anchor=south west, rotate=60, font=\\tiny] at (axis cs:0.749785840511322, 1.0) {79};\n",
      "        \\draw[dotted, color=black] (axis cs:0.749785840511322, 0.3417721390724182) -- (axis cs:0.749785840511322, 1.0);\n",
      "        \\node[above, anchor=south west, rotate=60, font=\\tiny] at (axis cs:0.8539892435073853, 1.0) {75};\n",
      "        \\draw[dotted, color=black] (axis cs:0.8539892435073853, 0.36000001430511475) -- (axis cs:0.8539892435073853, 1.0);\n",
      "        \\node[above, anchor=south west, rotate=60, font=\\tiny] at (axis cs:0.9690737128257751, 1.0) {273};\n",
      "        \\draw[dotted, color=black] (axis cs:0.9690737128257751, 0.5201465487480164) -- (axis cs:0.9690737128257751, 1.0);\n",
      "    \\end{axis}\n",
      "\\end{tikzpicture}\n",
      "dict_keys(['test_results', '_step', '_wandb', '_runtime', '_timestamp'])\n",
      "map_4_wd0.0001-1\n",
      "sECE: -0.3866, ECE: 0.3866\n",
      "\\begin{tikzpicture}\n",
      "    \\begin{axis}[calstyle, xmin=0, xmax=1, ymin=0, ymax=1]\n",
      "        \\addplot[dashed, color=black] coordinates {(0,0) (1,1)};\n",
      "        \\addplot[calline] coordinates {(0.5587840676307678, 0.5416666865348816) (0.6500601768493652, 0.5) (0.7537042498588562, 0.38235294818878174) (0.8497823476791382, 0.3125) (0.9692754745483398, 0.5214285850524902)};\n",
      "        \\node[above, anchor=south west, rotate=60, font=\\tiny] at (axis cs:0.5587840676307678, 1.0) {48};\n",
      "        \\draw[dotted, color=black] (axis cs:0.5587840676307678, 0.5416666865348816) -- (axis cs:0.5587840676307678, 1.0);\n",
      "        \\node[above, anchor=south west, rotate=60, font=\\tiny] at (axis cs:0.6500601768493652, 1.0) {44};\n",
      "        \\draw[dotted, color=black] (axis cs:0.6500601768493652, 0.5) -- (axis cs:0.6500601768493652, 1.0);\n",
      "        \\node[above, anchor=south west, rotate=60, font=\\tiny] at (axis cs:0.7537042498588562, 1.0) {68};\n",
      "        \\draw[dotted, color=black] (axis cs:0.7537042498588562, 0.38235294818878174) -- (axis cs:0.7537042498588562, 1.0);\n",
      "        \\node[above, anchor=south west, rotate=60, font=\\tiny] at (axis cs:0.8497823476791382, 1.0) {80};\n",
      "        \\draw[dotted, color=black] (axis cs:0.8497823476791382, 0.3125) -- (axis cs:0.8497823476791382, 1.0);\n",
      "        \\node[above, anchor=south west, rotate=60, font=\\tiny] at (axis cs:0.9692754745483398, 1.0) {280};\n",
      "        \\draw[dotted, color=black] (axis cs:0.9692754745483398, 0.5214285850524902) -- (axis cs:0.9692754745483398, 1.0);\n",
      "    \\end{axis}\n",
      "\\end{tikzpicture}\n",
      "dict_keys(['_timestamp', 'test_results', '_step', '_wandb', '_runtime'])\n",
      "map_4_wd0.0001-0\n",
      "sECE: -0.3933, ECE: 0.3933\n",
      "\\begin{tikzpicture}\n",
      "    \\begin{axis}[calstyle, xmin=0, xmax=1, ymin=0, ymax=1]\n",
      "        \\addplot[dashed, color=black] coordinates {(0,0) (1,1)};\n",
      "        \\addplot[calline] coordinates {(0.5509926676750183, 0.4375) (0.6514924168586731, 0.460317462682724) (0.7529135942459106, 0.37704917788505554) (0.851126492023468, 0.44999998807907104) (0.970179557800293, 0.4776119291782379)};\n",
      "        \\node[above, anchor=south west, rotate=60, font=\\tiny] at (axis cs:0.5509926676750183, 1.0) {48};\n",
      "        \\draw[dotted, color=black] (axis cs:0.5509926676750183, 0.4375) -- (axis cs:0.5509926676750183, 1.0);\n",
      "        \\node[above, anchor=south west, rotate=60, font=\\tiny] at (axis cs:0.6514924168586731, 1.0) {63};\n",
      "        \\draw[dotted, color=black] (axis cs:0.6514924168586731, 0.460317462682724) -- (axis cs:0.6514924168586731, 1.0);\n",
      "        \\node[above, anchor=south west, rotate=60, font=\\tiny] at (axis cs:0.7529135942459106, 1.0) {61};\n",
      "        \\draw[dotted, color=black] (axis cs:0.7529135942459106, 0.37704917788505554) -- (axis cs:0.7529135942459106, 1.0);\n",
      "        \\node[above, anchor=south west, rotate=60, font=\\tiny] at (axis cs:0.851126492023468, 1.0) {80};\n",
      "        \\draw[dotted, color=black] (axis cs:0.851126492023468, 0.44999998807907104) -- (axis cs:0.851126492023468, 1.0);\n",
      "        \\node[above, anchor=south west, rotate=60, font=\\tiny] at (axis cs:0.970179557800293, 1.0) {268};\n",
      "        \\draw[dotted, color=black] (axis cs:0.970179557800293, 0.4776119291782379) -- (axis cs:0.970179557800293, 1.0);\n",
      "    \\end{axis}\n",
      "\\end{tikzpicture}\n",
      "dict_keys(['_runtime', '_timestamp', 'test_results', '_step', '_wandb'])\n",
      "map_4_wd0.0001-3\n",
      "sECE: -0.3960, ECE: 0.3960\n",
      "\\begin{tikzpicture}\n",
      "    \\begin{axis}[calstyle, xmin=0, xmax=1, ymin=0, ymax=1]\n",
      "        \\addplot[dashed, color=black] coordinates {(0,0) (1,1)};\n",
      "        \\addplot[calline] coordinates {(0.5504422783851624, 0.42500001192092896) (0.6489290595054626, 0.5333333611488342) (0.7488584518432617, 0.37662336230278015) (0.8528680801391602, 0.3333333432674408) (0.969827115535736, 0.5202952027320862)};\n",
      "        \\node[above, anchor=south west, rotate=60, font=\\tiny] at (axis cs:0.5504422783851624, 1.0) {40};\n",
      "        \\draw[dotted, color=black] (axis cs:0.5504422783851624, 0.42500001192092896) -- (axis cs:0.5504422783851624, 1.0);\n",
      "        \\node[above, anchor=south west, rotate=60, font=\\tiny] at (axis cs:0.6489290595054626, 1.0) {45};\n",
      "        \\draw[dotted, color=black] (axis cs:0.6489290595054626, 0.5333333611488342) -- (axis cs:0.6489290595054626, 1.0);\n",
      "        \\node[above, anchor=south west, rotate=60, font=\\tiny] at (axis cs:0.7488584518432617, 1.0) {77};\n",
      "        \\draw[dotted, color=black] (axis cs:0.7488584518432617, 0.37662336230278015) -- (axis cs:0.7488584518432617, 1.0);\n",
      "        \\node[above, anchor=south west, rotate=60, font=\\tiny] at (axis cs:0.8528680801391602, 1.0) {87};\n",
      "        \\draw[dotted, color=black] (axis cs:0.8528680801391602, 0.3333333432674408) -- (axis cs:0.8528680801391602, 1.0);\n",
      "        \\node[above, anchor=south west, rotate=60, font=\\tiny] at (axis cs:0.969827115535736, 1.0) {271};\n",
      "        \\draw[dotted, color=black] (axis cs:0.969827115535736, 0.5202952027320862) -- (axis cs:0.969827115535736, 1.0);\n",
      "    \\end{axis}\n",
      "\\end{tikzpicture}\n",
      "dict_keys(['muslim-toxic', 'test_results', 'female-non-toxic', 'all', 'all-toxic', '_timestamp', 'female-toxic', 'christian-non-toxic', 'worst group accuracy', 'other_religion-non-toxic', 'black-toxic', 'lgbtq-toxic', 'black-non-toxic', 'christian-toxic', 'lgbtq-non-toxic', 'muslim-non-toxic', '_step', '_wandb', '_runtime', 'male-non-toxic', 'white-non-toxic', 'other_religion-toxic', 'male-toxic', 'train_loss', 'white-toxic', 'all-non-toxic'])\n",
      "svgd-1\n",
      "sECE: -0.4112, ECE: 0.4133\n",
      "\\begin{tikzpicture}\n",
      "    \\begin{axis}[calstyle, xmin=0, xmax=1, ymin=0, ymax=1]\n",
      "        \\addplot[dashed, color=black] coordinates {(0,0) (1,1)};\n",
      "        \\addplot[calline] coordinates {(0.5507022142410278, 0.5571428537368774) (0.6488747000694275, 0.508474588394165) (0.7458949685096741, 0.4564315378665924) (0.849048912525177, 0.40784314274787903) (0.9592544436454772, 0.003144653979688883)};\n",
      "        \\node[above, anchor=south west, rotate=60, font=\\tiny] at (axis cs:0.5507022142410278, 1.0) {210};\n",
      "        \\draw[dotted, color=black] (axis cs:0.5507022142410278, 0.5571428537368774) -- (axis cs:0.5507022142410278, 1.0);\n",
      "        \\node[above, anchor=south west, rotate=60, font=\\tiny] at (axis cs:0.6488747000694275, 1.0) {236};\n",
      "        \\draw[dotted, color=black] (axis cs:0.6488747000694275, 0.508474588394165) -- (axis cs:0.6488747000694275, 1.0);\n",
      "        \\node[above, anchor=south west, rotate=60, font=\\tiny] at (axis cs:0.7458949685096741, 1.0) {241};\n",
      "        \\draw[dotted, color=black] (axis cs:0.7458949685096741, 0.4564315378665924) -- (axis cs:0.7458949685096741, 1.0);\n",
      "        \\node[above, anchor=south west, rotate=60, font=\\tiny] at (axis cs:0.849048912525177, 1.0) {255};\n",
      "        \\draw[dotted, color=black] (axis cs:0.849048912525177, 0.40784314274787903) -- (axis cs:0.849048912525177, 1.0);\n",
      "        \\node[above, anchor=south west, rotate=60, font=\\tiny] at (axis cs:0.9592544436454772, 1.0) {318};\n",
      "        \\draw[dotted, color=black] (axis cs:0.9592544436454772, 0.003144653979688883) -- (axis cs:0.9592544436454772, 1.0);\n",
      "    \\end{axis}\n",
      "\\end{tikzpicture}\n",
      "dict_keys(['_wandb', 'train_loss', 'black-toxic', 'female-toxic', 'muslim-toxic', 'test_results', 'all', '_timestamp', 'lgbtq-toxic', 'christian-toxic', 'other_religion-toxic', '_step', 'white-toxic', 'male-non-toxic', 'christian-non-toxic', 'worst group accuracy', 'other_religion-non-toxic', 'male-toxic', 'all-toxic', 'all-non-toxic', 'black-non-toxic', 'lgbtq-non-toxic', 'white-non-toxic', 'female-non-toxic', 'muslim-non-toxic', '_runtime'])\n",
      "svgd-3\n",
      "sECE: -0.3176, ECE: 0.3176\n",
      "\\begin{tikzpicture}\n",
      "    \\begin{axis}[calstyle, xmin=0, xmax=1, ymin=0, ymax=1]\n",
      "        \\addplot[dashed, color=black] coordinates {(0,0) (1,1)};\n",
      "        \\addplot[calline] coordinates {(0.5523926019668579, 0.5155555605888367) (0.6486390829086304, 0.5362903475761414) (0.7498227953910828, 0.5627118349075317) (0.8468745350837708, 0.4763636291027069) (0.96283620595932, 0.009216589853167534)};\n",
      "        \\node[above, anchor=south west, rotate=60, font=\\tiny] at (axis cs:0.5523926019668579, 1.0) {225};\n",
      "        \\draw[dotted, color=black] (axis cs:0.5523926019668579, 0.5155555605888367) -- (axis cs:0.5523926019668579, 1.0);\n",
      "        \\node[above, anchor=south west, rotate=60, font=\\tiny] at (axis cs:0.6486390829086304, 1.0) {248};\n",
      "        \\draw[dotted, color=black] (axis cs:0.6486390829086304, 0.5362903475761414) -- (axis cs:0.6486390829086304, 1.0);\n",
      "        \\node[above, anchor=south west, rotate=60, font=\\tiny] at (axis cs:0.7498227953910828, 1.0) {295};\n",
      "        \\draw[dotted, color=black] (axis cs:0.7498227953910828, 0.5627118349075317) -- (axis cs:0.7498227953910828, 1.0);\n",
      "        \\node[above, anchor=south west, rotate=60, font=\\tiny] at (axis cs:0.8468745350837708, 1.0) {275};\n",
      "        \\draw[dotted, color=black] (axis cs:0.8468745350837708, 0.4763636291027069) -- (axis cs:0.8468745350837708, 1.0);\n",
      "        \\node[above, anchor=south west, rotate=60, font=\\tiny] at (axis cs:0.96283620595932, 1.0) {217};\n",
      "        \\draw[dotted, color=black] (axis cs:0.96283620595932, 0.009216589853167534) -- (axis cs:0.96283620595932, 1.0);\n",
      "    \\end{axis}\n",
      "\\end{tikzpicture}\n",
      "dict_keys(['test_results', 'all-non-toxic', 'male-non-toxic', 'black-non-toxic', 'muslim-non-toxic', 'other_religion-non-toxic', 'male-toxic', 'muslim-toxic', 'white-toxic', '_step', 'train_loss', 'black-toxic', 'lgbtq-toxic', 'christian-toxic', 'female-non-toxic', 'christian-non-toxic', 'other_religion-toxic', 'all', '_runtime', '_timestamp', 'female-toxic', 'lgbtq-non-toxic', 'white-non-toxic', 'worst group accuracy', '_wandb', 'all-toxic'])\n",
      "svgd-2\n",
      "sECE: -0.4496, ECE: 0.4496\n",
      "\\begin{tikzpicture}\n",
      "    \\begin{axis}[calstyle, xmin=0, xmax=1, ymin=0, ymax=1]\n",
      "        \\addplot[dashed, color=black] coordinates {(0,0) (1,1)};\n",
      "        \\addplot[calline] coordinates {(0.547753095626831, 0.5265486836433411) (0.6517241597175598, 0.4632034599781037) (0.7507263422012329, 0.3827160596847534) (0.851301372051239, 0.3199999928474426) (0.9577285051345824, 0.003225806402042508)};\n",
      "        \\node[above, anchor=south west, rotate=60, font=\\tiny] at (axis cs:0.547753095626831, 1.0) {226};\n",
      "        \\draw[dotted, color=black] (axis cs:0.547753095626831, 0.5265486836433411) -- (axis cs:0.547753095626831, 1.0);\n",
      "        \\node[above, anchor=south west, rotate=60, font=\\tiny] at (axis cs:0.6517241597175598, 1.0) {231};\n",
      "        \\draw[dotted, color=black] (axis cs:0.6517241597175598, 0.4632034599781037) -- (axis cs:0.6517241597175598, 1.0);\n",
      "        \\node[above, anchor=south west, rotate=60, font=\\tiny] at (axis cs:0.7507263422012329, 1.0) {243};\n",
      "        \\draw[dotted, color=black] (axis cs:0.7507263422012329, 0.3827160596847534) -- (axis cs:0.7507263422012329, 1.0);\n",
      "        \\node[above, anchor=south west, rotate=60, font=\\tiny] at (axis cs:0.851301372051239, 1.0) {250};\n",
      "        \\draw[dotted, color=black] (axis cs:0.851301372051239, 0.3199999928474426) -- (axis cs:0.851301372051239, 1.0);\n",
      "        \\node[above, anchor=south west, rotate=60, font=\\tiny] at (axis cs:0.9577285051345824, 1.0) {310};\n",
      "        \\draw[dotted, color=black] (axis cs:0.9577285051345824, 0.003225806402042508) -- (axis cs:0.9577285051345824, 1.0);\n",
      "    \\end{axis}\n",
      "\\end{tikzpicture}\n",
      "dict_keys(['male-toxic', 'all-non-toxic', 'other_religion-toxic', '_timestamp', 'lgbtq-toxic', 'female-toxic', 'muslim-toxic', 'white-non-toxic', 'train_loss', '_wandb', 'all-toxic', 'white-toxic', 'test_results', 'male-non-toxic', 'christian-toxic', 'female-non-toxic', 'all', 'other_religion-non-toxic', 'muslim-non-toxic', '_runtime', 'black-toxic', 'black-non-toxic', 'lgbtq-non-toxic', 'christian-non-toxic', 'worst group accuracy', '_step'])\n",
      "svgd-4\n",
      "sECE: -0.4732, ECE: 0.4732\n",
      "\\begin{tikzpicture}\n",
      "    \\begin{axis}[calstyle, xmin=0, xmax=1, ymin=0, ymax=1]\n",
      "        \\addplot[dashed, color=black] coordinates {(0,0) (1,1)};\n",
      "        \\addplot[calline] coordinates {(0.5509220361709595, 0.5279502868652344) (0.6504197716712952, 0.49760764837265015) (0.7503742575645447, 0.4220183491706848) (0.8530511260032654, 0.3763066232204437) (0.9564579129219056, 0.041558440774679184)};\n",
      "        \\node[above, anchor=south west, rotate=60, font=\\tiny] at (axis cs:0.5509220361709595, 1.0) {161};\n",
      "        \\draw[dotted, color=black] (axis cs:0.5509220361709595, 0.5279502868652344) -- (axis cs:0.5509220361709595, 1.0);\n",
      "        \\node[above, anchor=south west, rotate=60, font=\\tiny] at (axis cs:0.6504197716712952, 1.0) {209};\n",
      "        \\draw[dotted, color=black] (axis cs:0.6504197716712952, 0.49760764837265015) -- (axis cs:0.6504197716712952, 1.0);\n",
      "        \\node[above, anchor=south west, rotate=60, font=\\tiny] at (axis cs:0.7503742575645447, 1.0) {218};\n",
      "        \\draw[dotted, color=black] (axis cs:0.7503742575645447, 0.4220183491706848) -- (axis cs:0.7503742575645447, 1.0);\n",
      "        \\node[above, anchor=south west, rotate=60, font=\\tiny] at (axis cs:0.8530511260032654, 1.0) {287};\n",
      "        \\draw[dotted, color=black] (axis cs:0.8530511260032654, 0.3763066232204437) -- (axis cs:0.8530511260032654, 1.0);\n",
      "        \\node[above, anchor=south west, rotate=60, font=\\tiny] at (axis cs:0.9564579129219056, 1.0) {385};\n",
      "        \\draw[dotted, color=black] (axis cs:0.9564579129219056, 0.041558440774679184) -- (axis cs:0.9564579129219056, 1.0);\n",
      "    \\end{axis}\n",
      "\\end{tikzpicture}\n",
      "dict_keys(['_runtime', 'lgbtq-toxic', 'white-non-toxic', 'christian-non-toxic', 'other_religion-non-toxic', '_step', 'train_loss', 'black-toxic', 'muslim-toxic', 'other_religion-toxic', 'male-toxic', 'female-toxic', 'black-non-toxic', 'christian-toxic', 'muslim-non-toxic', 'worst group accuracy', 'all', 'all-toxic', '_timestamp', 'white-toxic', 'test_results', 'all-non-toxic', 'male-non-toxic', 'lgbtq-non-toxic', '_wandb', 'female-non-toxic'])\n",
      "svgd-0\n",
      "sECE: -0.2581, ECE: 0.2581\n",
      "\\begin{tikzpicture}\n",
      "    \\begin{axis}[calstyle, xmin=0, xmax=1, ymin=0, ymax=1]\n",
      "        \\addplot[dashed, color=black] coordinates {(0,0) (1,1)};\n",
      "        \\addplot[calline] coordinates {(0.5486884117126465, 0.5186722278594971) (0.6478871703147888, 0.5541666746139526) (0.7521148324012756, 0.59375) (0.8488839864730835, 0.5874587297439575) (0.9554694890975952, 0.04787234216928482)};\n",
      "        \\node[above, anchor=south west, rotate=60, font=\\tiny] at (axis cs:0.5486884117126465, 1.0) {241};\n",
      "        \\draw[dotted, color=black] (axis cs:0.5486884117126465, 0.5186722278594971) -- (axis cs:0.5486884117126465, 1.0);\n",
      "        \\node[above, anchor=south west, rotate=60, font=\\tiny] at (axis cs:0.6478871703147888, 1.0) {240};\n",
      "        \\draw[dotted, color=black] (axis cs:0.6478871703147888, 0.5541666746139526) -- (axis cs:0.6478871703147888, 1.0);\n",
      "        \\node[above, anchor=south west, rotate=60, font=\\tiny] at (axis cs:0.7521148324012756, 1.0) {288};\n",
      "        \\draw[dotted, color=black] (axis cs:0.7521148324012756, 0.59375) -- (axis cs:0.7521148324012756, 1.0);\n",
      "        \\node[above, anchor=south west, rotate=60, font=\\tiny] at (axis cs:0.8488839864730835, 1.0) {303};\n",
      "        \\draw[dotted, color=black] (axis cs:0.8488839864730835, 0.5874587297439575) -- (axis cs:0.8488839864730835, 1.0);\n",
      "        \\node[above, anchor=south west, rotate=60, font=\\tiny] at (axis cs:0.9554694890975952, 1.0) {188};\n",
      "        \\draw[dotted, color=black] (axis cs:0.9554694890975952, 0.04787234216928482) -- (axis cs:0.9554694890975952, 1.0);\n",
      "    \\end{axis}\n",
      "\\end{tikzpicture}\n",
      "dict_keys(['_timestamp', 'white-toxic', 'female-non-toxic', 'black-non-toxic', 'christian-toxic', 'lgbtq-non-toxic', 'christian-non-toxic', 'other_religion-toxic', '_wandb', 'black-toxic', 'test_results', 'other_religion-non-toxic', 'muslim-toxic', 'all-non-toxic', 'male-non-toxic', 'muslim-non-toxic', 'worst group accuracy', 'all', 'male-toxic', 'female-toxic', 'train_loss', 'lgbtq-toxic', 'white-non-toxic', '_step', '_runtime', 'all-toxic'])\n",
      "bbb_0.01-4\n",
      "sECE: -0.3188, ECE: 0.3188\n",
      "\\begin{tikzpicture}\n",
      "    \\begin{axis}[calstyle, xmin=0, xmax=1, ymin=0, ymax=1]\n",
      "        \\addplot[dashed, color=black] coordinates {(0,0) (1,1)};\n",
      "        \\addplot[calline] coordinates {(0.543538510799408, 0.4567901194095611) (0.6502587795257568, 0.5571428537368774) (0.7535232305526733, 0.6129032373428345) (0.8561986684799194, 0.5897436141967773) (0.972084939479828, 0.5895439386367798)};\n",
      "        \\node[above, anchor=south west, rotate=60, font=\\tiny] at (axis cs:0.543538510799408, 1.0) {81};\n",
      "        \\draw[dotted, color=black] (axis cs:0.543538510799408, 0.4567901194095611) -- (axis cs:0.543538510799408, 1.0);\n",
      "        \\node[above, anchor=south west, rotate=60, font=\\tiny] at (axis cs:0.6502587795257568, 1.0) {70};\n",
      "        \\draw[dotted, color=black] (axis cs:0.6502587795257568, 0.5571428537368774) -- (axis cs:0.6502587795257568, 1.0);\n",
      "        \\node[above, anchor=south west, rotate=60, font=\\tiny] at (axis cs:0.7535232305526733, 1.0) {93};\n",
      "        \\draw[dotted, color=black] (axis cs:0.7535232305526733, 0.6129032373428345) -- (axis cs:0.7535232305526733, 1.0);\n",
      "        \\node[above, anchor=south west, rotate=60, font=\\tiny] at (axis cs:0.8561986684799194, 1.0) {117};\n",
      "        \\draw[dotted, color=black] (axis cs:0.8561986684799194, 0.5897436141967773) -- (axis cs:0.8561986684799194, 1.0);\n",
      "        \\node[above, anchor=south west, rotate=60, font=\\tiny] at (axis cs:0.972084939479828, 1.0) {899};\n",
      "        \\draw[dotted, color=black] (axis cs:0.972084939479828, 0.5895439386367798) -- (axis cs:0.972084939479828, 1.0);\n",
      "    \\end{axis}\n",
      "\\end{tikzpicture}\n",
      "dict_keys(['other_religion-non-toxic', '_step', '_wandb', '_timestamp', 'christian-toxic', 'lgbtq-non-toxic', 'female-non-toxic', 'muslim-toxic', 'all-non-toxic', 'male-non-toxic', 'all', 'male-toxic', 'train_loss', 'black-toxic', 'female-toxic', 'muslim-non-toxic', 'other_religion-toxic', 'black-non-toxic', 'white-non-toxic', 'christian-non-toxic', '_runtime', 'all-toxic', 'lgbtq-toxic', 'white-toxic', 'test_results', 'worst group accuracy'])\n",
      "bbb_0.01-3\n",
      "sECE: -0.4005, ECE: 0.4005\n",
      "\\begin{tikzpicture}\n",
      "    \\begin{axis}[calstyle, xmin=0, xmax=1, ymin=0, ymax=1]\n",
      "        \\addplot[dashed, color=black] coordinates {(0,0) (1,1)};\n",
      "        \\addplot[calline] coordinates {(0.5559866428375244, 0.5194805264472961) (0.6505246758460999, 0.4174757301807403) (0.7520771026611328, 0.5428571701049805) (0.8510721921920776, 0.49624061584472656) (0.9757525324821472, 0.5161290168762207)};\n",
      "        \\node[above, anchor=south west, rotate=60, font=\\tiny] at (axis cs:0.5559866428375244, 1.0) {77};\n",
      "        \\draw[dotted, color=black] (axis cs:0.5559866428375244, 0.5194805264472961) -- (axis cs:0.5559866428375244, 1.0);\n",
      "        \\node[above, anchor=south west, rotate=60, font=\\tiny] at (axis cs:0.6505246758460999, 1.0) {103};\n",
      "        \\draw[dotted, color=black] (axis cs:0.6505246758460999, 0.4174757301807403) -- (axis cs:0.6505246758460999, 1.0);\n",
      "        \\node[above, anchor=south west, rotate=60, font=\\tiny] at (axis cs:0.7520771026611328, 1.0) {105};\n",
      "        \\draw[dotted, color=black] (axis cs:0.7520771026611328, 0.5428571701049805) -- (axis cs:0.7520771026611328, 1.0);\n",
      "        \\node[above, anchor=south west, rotate=60, font=\\tiny] at (axis cs:0.8510721921920776, 1.0) {133};\n",
      "        \\draw[dotted, color=black] (axis cs:0.8510721921920776, 0.49624061584472656) -- (axis cs:0.8510721921920776, 1.0);\n",
      "        \\node[above, anchor=south west, rotate=60, font=\\tiny] at (axis cs:0.9757525324821472, 1.0) {1209};\n",
      "        \\draw[dotted, color=black] (axis cs:0.9757525324821472, 0.5161290168762207) -- (axis cs:0.9757525324821472, 1.0);\n",
      "    \\end{axis}\n",
      "\\end{tikzpicture}\n",
      "dict_keys(['all', 'male-toxic', 'lgbtq-toxic', 'muslim-toxic', 'test_results', 'all-non-toxic', 'christian-toxic', 'lgbtq-non-toxic', 'white-non-toxic', 'worst group accuracy', 'other_religion-non-toxic', 'train_loss', 'white-toxic', 'female-toxic', 'black-non-toxic', 'other_religion-toxic', '_step', '_wandb', '_runtime', 'all-toxic', '_timestamp', 'male-non-toxic', 'female-non-toxic', 'muslim-non-toxic', 'christian-non-toxic', 'black-toxic'])\n",
      "bbb_0.01-2\n",
      "sECE: -0.3357, ECE: 0.3362\n",
      "\\begin{tikzpicture}\n",
      "    \\begin{axis}[calstyle, xmin=0, xmax=1, ymin=0, ymax=1]\n",
      "        \\addplot[dashed, color=black] coordinates {(0,0) (1,1)};\n",
      "        \\addplot[calline] coordinates {(0.5496171712875366, 0.5540540814399719) (0.6511967778205872, 0.5806451439857483) (0.7462207078933716, 0.5370370149612427) (0.8549134135246277, 0.5648854970932007) (0.9720165729522704, 0.5550351142883301)};\n",
      "        \\node[above, anchor=south west, rotate=60, font=\\tiny] at (axis cs:0.5496171712875366, 1.0) {74};\n",
      "        \\draw[dotted, color=black] (axis cs:0.5496171712875366, 0.5540540814399719) -- (axis cs:0.5496171712875366, 1.0);\n",
      "        \\node[above, anchor=south west, rotate=60, font=\\tiny] at (axis cs:0.6511967778205872, 1.0) {93};\n",
      "        \\draw[dotted, color=black] (axis cs:0.6511967778205872, 0.5806451439857483) -- (axis cs:0.6511967778205872, 1.0);\n",
      "        \\node[above, anchor=south west, rotate=60, font=\\tiny] at (axis cs:0.7462207078933716, 1.0) {108};\n",
      "        \\draw[dotted, color=black] (axis cs:0.7462207078933716, 0.5370370149612427) -- (axis cs:0.7462207078933716, 1.0);\n",
      "        \\node[above, anchor=south west, rotate=60, font=\\tiny] at (axis cs:0.8549134135246277, 1.0) {131};\n",
      "        \\draw[dotted, color=black] (axis cs:0.8549134135246277, 0.5648854970932007) -- (axis cs:0.8549134135246277, 1.0);\n",
      "        \\node[above, anchor=south west, rotate=60, font=\\tiny] at (axis cs:0.9720165729522704, 1.0) {854};\n",
      "        \\draw[dotted, color=black] (axis cs:0.9720165729522704, 0.5550351142883301) -- (axis cs:0.9720165729522704, 1.0);\n",
      "    \\end{axis}\n",
      "\\end{tikzpicture}\n",
      "dict_keys(['lgbtq-toxic', 'christian-toxic', 'lgbtq-non-toxic', 'white-non-toxic', 'muslim-non-toxic', 'other_religion-toxic', 'train_loss', 'all-toxic', 'male-toxic', 'muslim-toxic', 'male-non-toxic', 'female-non-toxic', '_wandb', 'white-toxic', 'test_results', 'all-non-toxic', 'black-non-toxic', 'other_religion-non-toxic', 'black-toxic', '_step', '_runtime', '_timestamp', 'female-toxic', 'christian-non-toxic', 'worst group accuracy', 'all'])\n",
      "bbb_0.01-1\n",
      "sECE: -0.3196, ECE: 0.3215\n",
      "\\begin{tikzpicture}\n",
      "    \\begin{axis}[calstyle, xmin=0, xmax=1, ymin=0, ymax=1]\n",
      "        \\addplot[dashed, color=black] coordinates {(0,0) (1,1)};\n",
      "        \\addplot[calline] coordinates {(0.553704023361206, 0.529411792755127) (0.6508858799934387, 0.6666666865348816) (0.7501089572906494, 0.5352112650871277) (0.8570609092712402, 0.6068376302719116) (0.9748937487602234, 0.5898815989494324)};\n",
      "        \\node[above, anchor=south west, rotate=60, font=\\tiny] at (axis cs:0.553704023361206, 1.0) {68};\n",
      "        \\draw[dotted, color=black] (axis cs:0.553704023361206, 0.529411792755127) -- (axis cs:0.553704023361206, 1.0);\n",
      "        \\node[above, anchor=south west, rotate=60, font=\\tiny] at (axis cs:0.6508858799934387, 1.0) {75};\n",
      "        \\draw[dotted, color=black] (axis cs:0.6508858799934387, 0.6666666865348816) -- (axis cs:0.6508858799934387, 1.0);\n",
      "        \\node[above, anchor=south west, rotate=60, font=\\tiny] at (axis cs:0.7501089572906494, 1.0) {71};\n",
      "        \\draw[dotted, color=black] (axis cs:0.7501089572906494, 0.5352112650871277) -- (axis cs:0.7501089572906494, 1.0);\n",
      "        \\node[above, anchor=south west, rotate=60, font=\\tiny] at (axis cs:0.8570609092712402, 1.0) {117};\n",
      "        \\draw[dotted, color=black] (axis cs:0.8570609092712402, 0.6068376302719116) -- (axis cs:0.8570609092712402, 1.0);\n",
      "        \\node[above, anchor=south west, rotate=60, font=\\tiny] at (axis cs:0.9748937487602234, 1.0) {929};\n",
      "        \\draw[dotted, color=black] (axis cs:0.9748937487602234, 0.5898815989494324) -- (axis cs:0.9748937487602234, 1.0);\n",
      "    \\end{axis}\n",
      "\\end{tikzpicture}\n",
      "dict_keys(['lgbtq-toxic', 'muslim-toxic', 'test_results', '_step', 'all-toxic', '_timestamp', 'train_loss', 'black-toxic', 'black-non-toxic', 'lgbtq-non-toxic', 'female-non-toxic', 'other_religion-non-toxic', '_wandb', 'female-toxic', 'male-non-toxic', 'other_religion-toxic', 'christian-non-toxic', 'worst group accuracy', '_runtime', 'white-toxic', 'christian-toxic', 'white-non-toxic', 'muslim-non-toxic', 'all', 'male-toxic', 'all-non-toxic'])\n",
      "bbb_0.01-0\n",
      "sECE: -0.4212, ECE: 0.4212\n",
      "\\begin{tikzpicture}\n",
      "    \\begin{axis}[calstyle, xmin=0, xmax=1, ymin=0, ymax=1]\n",
      "        \\addplot[dashed, color=black] coordinates {(0,0) (1,1)};\n",
      "        \\addplot[calline] coordinates {(0.5518679618835449, 0.5128205418586731) (0.6508312225341797, 0.5) (0.7546117305755615, 0.42592594027519226) (0.8527470827102661, 0.5514705777168274) (0.972032368183136, 0.4577464759349823)};\n",
      "        \\node[above, anchor=south west, rotate=60, font=\\tiny] at (axis cs:0.5518679618835449, 1.0) {78};\n",
      "        \\draw[dotted, color=black] (axis cs:0.5518679618835449, 0.5128205418586731) -- (axis cs:0.5518679618835449, 1.0);\n",
      "        \\node[above, anchor=south west, rotate=60, font=\\tiny] at (axis cs:0.6508312225341797, 1.0) {86};\n",
      "        \\draw[dotted, color=black] (axis cs:0.6508312225341797, 0.5) -- (axis cs:0.6508312225341797, 1.0);\n",
      "        \\node[above, anchor=south west, rotate=60, font=\\tiny] at (axis cs:0.7546117305755615, 1.0) {108};\n",
      "        \\draw[dotted, color=black] (axis cs:0.7546117305755615, 0.42592594027519226) -- (axis cs:0.7546117305755615, 1.0);\n",
      "        \\node[above, anchor=south west, rotate=60, font=\\tiny] at (axis cs:0.8527470827102661, 1.0) {136};\n",
      "        \\draw[dotted, color=black] (axis cs:0.8527470827102661, 0.5514705777168274) -- (axis cs:0.8527470827102661, 1.0);\n",
      "        \\node[above, anchor=south west, rotate=60, font=\\tiny] at (axis cs:0.972032368183136, 1.0) {852};\n",
      "        \\draw[dotted, color=black] (axis cs:0.972032368183136, 0.4577464759349823) -- (axis cs:0.972032368183136, 1.0);\n",
      "    \\end{axis}\n",
      "\\end{tikzpicture}\n",
      "dict_keys(['muslim-non-toxic', 'christian-non-toxic', '_runtime', '_timestamp', 'train_loss', 'test_results', 'black-non-toxic', 'white-non-toxic', 'other_religion-toxic', 'lgbtq-non-toxic', '_step', '_wandb', 'all-toxic', 'male-toxic', 'female-toxic', 'male-non-toxic', 'other_religion-non-toxic', 'all', 'black-toxic', 'white-toxic', 'all-non-toxic', 'female-non-toxic', 'worst group accuracy', 'lgbtq-toxic', 'muslim-toxic', 'christian-toxic'])\n",
      "bbb_0.1-4\n",
      "sECE: -0.3114, ECE: 0.3149\n",
      "\\begin{tikzpicture}\n",
      "    \\begin{axis}[calstyle, xmin=0, xmax=1, ymin=0, ymax=1]\n",
      "        \\addplot[dashed, color=black] coordinates {(0,0) (1,1)};\n",
      "        \\addplot[calline] coordinates {(0.5473860502243042, 0.574999988079071) (0.649578869342804, 0.5571428537368774) (0.7513342499732971, 0.4939759075641632) (0.855522632598877, 0.6170212626457214) (0.980932116508484, 0.6049661636352539)};\n",
      "        \\node[above, anchor=south west, rotate=60, font=\\tiny] at (axis cs:0.5473860502243042, 1.0) {80};\n",
      "        \\draw[dotted, color=black] (axis cs:0.5473860502243042, 0.574999988079071) -- (axis cs:0.5473860502243042, 1.0);\n",
      "        \\node[above, anchor=south west, rotate=60, font=\\tiny] at (axis cs:0.649578869342804, 1.0) {70};\n",
      "        \\draw[dotted, color=black] (axis cs:0.649578869342804, 0.5571428537368774) -- (axis cs:0.649578869342804, 1.0);\n",
      "        \\node[above, anchor=south west, rotate=60, font=\\tiny] at (axis cs:0.7513342499732971, 1.0) {83};\n",
      "        \\draw[dotted, color=black] (axis cs:0.7513342499732971, 0.4939759075641632) -- (axis cs:0.7513342499732971, 1.0);\n",
      "        \\node[above, anchor=south west, rotate=60, font=\\tiny] at (axis cs:0.855522632598877, 1.0) {141};\n",
      "        \\draw[dotted, color=black] (axis cs:0.855522632598877, 0.6170212626457214) -- (axis cs:0.855522632598877, 1.0);\n",
      "        \\node[above, anchor=south west, rotate=60, font=\\tiny] at (axis cs:0.980932116508484, 1.0) {886};\n",
      "        \\draw[dotted, color=black] (axis cs:0.980932116508484, 0.6049661636352539) -- (axis cs:0.980932116508484, 1.0);\n",
      "    \\end{axis}\n",
      "\\end{tikzpicture}\n",
      "dict_keys(['test_results', 'christian-non-toxic', 'all-non-toxic', 'white-non-toxic', 'female-non-toxic', 'male-non-toxic', 'black-non-toxic', 'all', 'all-toxic', 'male-toxic', 'train_loss', 'black-toxic', 'muslim-toxic', 'lgbtq-non-toxic', 'other_religion-toxic', 'female-toxic', 'christian-toxic', '_step', '_wandb', '_runtime', '_timestamp', 'lgbtq-toxic', 'white-toxic', 'muslim-non-toxic', 'worst group accuracy', 'other_religion-non-toxic'])\n",
      "bbb_0.1-3\n",
      "sECE: -0.3981, ECE: 0.3981\n",
      "\\begin{tikzpicture}\n",
      "    \\begin{axis}[calstyle, xmin=0, xmax=1, ymin=0, ymax=1]\n",
      "        \\addplot[dashed, color=black] coordinates {(0,0) (1,1)};\n",
      "        \\addplot[calline] coordinates {(0.5507311820983887, 0.4920634925365448) (0.6488955020904541, 0.5285714268684387) (0.7503863573074341, 0.4868420958518982) (0.8552787899971008, 0.5038759708404541) (0.9860225915908812, 0.5260303616523743)};\n",
      "        \\node[above, anchor=south west, rotate=60, font=\\tiny] at (axis cs:0.5507311820983887, 1.0) {63};\n",
      "        \\draw[dotted, color=black] (axis cs:0.5507311820983887, 0.4920634925365448) -- (axis cs:0.5507311820983887, 1.0);\n",
      "        \\node[above, anchor=south west, rotate=60, font=\\tiny] at (axis cs:0.6488955020904541, 1.0) {70};\n",
      "        \\draw[dotted, color=black] (axis cs:0.6488955020904541, 0.5285714268684387) -- (axis cs:0.6488955020904541, 1.0);\n",
      "        \\node[above, anchor=south west, rotate=60, font=\\tiny] at (axis cs:0.7503863573074341, 1.0) {76};\n",
      "        \\draw[dotted, color=black] (axis cs:0.7503863573074341, 0.4868420958518982) -- (axis cs:0.7503863573074341, 1.0);\n",
      "        \\node[above, anchor=south west, rotate=60, font=\\tiny] at (axis cs:0.8552787899971008, 1.0) {129};\n",
      "        \\draw[dotted, color=black] (axis cs:0.8552787899971008, 0.5038759708404541) -- (axis cs:0.8552787899971008, 1.0);\n",
      "        \\node[above, anchor=south west, rotate=60, font=\\tiny] at (axis cs:0.9860225915908812, 1.0) {922};\n",
      "        \\draw[dotted, color=black] (axis cs:0.9860225915908812, 0.5260303616523743) -- (axis cs:0.9860225915908812, 1.0);\n",
      "    \\end{axis}\n",
      "\\end{tikzpicture}\n",
      "dict_keys(['all', 'male-toxic', 'muslim-toxic', 'all-non-toxic', 'male-non-toxic', 'black-non-toxic', 'lgbtq-non-toxic', 'white-non-toxic', 'female-non-toxic', 'muslim-non-toxic', 'worst group accuracy', '_timestamp', 'white-toxic', 'christian-non-toxic', '_wandb', '_runtime', 'train_loss', 'test_results', 'christian-toxic', '_step', 'all-toxic', 'black-toxic', 'lgbtq-toxic', 'female-toxic', 'other_religion-toxic', 'other_religion-non-toxic'])\n",
      "bbb_0.1-2\n",
      "sECE: -0.3393, ECE: 0.3393\n",
      "\\begin{tikzpicture}\n",
      "    \\begin{axis}[calstyle, xmin=0, xmax=1, ymin=0, ymax=1]\n",
      "        \\addplot[dashed, color=black] coordinates {(0,0) (1,1)};\n",
      "        \\addplot[calline] coordinates {(0.5522121787071228, 0.5054945349693298) (0.6495813131332397, 0.5131579041481018) (0.7493521571159363, 0.532608687877655) (0.8528745174407959, 0.5985401272773743) (0.9757970571517944, 0.5573170781135559)};\n",
      "        \\node[above, anchor=south west, rotate=60, font=\\tiny] at (axis cs:0.5522121787071228, 1.0) {91};\n",
      "        \\draw[dotted, color=black] (axis cs:0.5522121787071228, 0.5054945349693298) -- (axis cs:0.5522121787071228, 1.0);\n",
      "        \\node[above, anchor=south west, rotate=60, font=\\tiny] at (axis cs:0.6495813131332397, 1.0) {76};\n",
      "        \\draw[dotted, color=black] (axis cs:0.6495813131332397, 0.5131579041481018) -- (axis cs:0.6495813131332397, 1.0);\n",
      "        \\node[above, anchor=south west, rotate=60, font=\\tiny] at (axis cs:0.7493521571159363, 1.0) {92};\n",
      "        \\draw[dotted, color=black] (axis cs:0.7493521571159363, 0.532608687877655) -- (axis cs:0.7493521571159363, 1.0);\n",
      "        \\node[above, anchor=south west, rotate=60, font=\\tiny] at (axis cs:0.8528745174407959, 1.0) {137};\n",
      "        \\draw[dotted, color=black] (axis cs:0.8528745174407959, 0.5985401272773743) -- (axis cs:0.8528745174407959, 1.0);\n",
      "        \\node[above, anchor=south west, rotate=60, font=\\tiny] at (axis cs:0.9757970571517944, 1.0) {820};\n",
      "        \\draw[dotted, color=black] (axis cs:0.9757970571517944, 0.5573170781135559) -- (axis cs:0.9757970571517944, 1.0);\n",
      "    \\end{axis}\n",
      "\\end{tikzpicture}\n",
      "dict_keys(['_step', 'train_loss', 'christian-non-toxic', 'other_religion-toxic', 'male-non-toxic', 'lgbtq-non-toxic', 'all', '_runtime', 'all-toxic', 'all-non-toxic', 'christian-toxic', 'muslim-non-toxic', 'male-toxic', 'lgbtq-toxic', 'white-toxic', 'female-toxic', 'test_results', 'black-non-toxic', 'white-non-toxic', 'female-non-toxic', '_wandb', '_timestamp', 'black-toxic', 'muslim-toxic', 'worst group accuracy', 'other_religion-non-toxic'])\n",
      "bbb_0.1-1\n",
      "sECE: -0.3572, ECE: 0.3572\n",
      "\\begin{tikzpicture}\n",
      "    \\begin{axis}[calstyle, xmin=0, xmax=1, ymin=0, ymax=1]\n",
      "        \\addplot[dashed, color=black] coordinates {(0,0) (1,1)};\n",
      "        \\addplot[calline] coordinates {(0.5508878231048584, 0.4264705777168274) (0.6564525365829468, 0.4878048896789551) (0.7535318732261658, 0.47777777910232544) (0.8515143394470215, 0.6229507923126221) (0.9833719730377196, 0.5657015442848206)};\n",
      "        \\node[above, anchor=south west, rotate=60, font=\\tiny] at (axis cs:0.5508878231048584, 1.0) {68};\n",
      "        \\draw[dotted, color=black] (axis cs:0.5508878231048584, 0.4264705777168274) -- (axis cs:0.5508878231048584, 1.0);\n",
      "        \\node[above, anchor=south west, rotate=60, font=\\tiny] at (axis cs:0.6564525365829468, 1.0) {82};\n",
      "        \\draw[dotted, color=black] (axis cs:0.6564525365829468, 0.4878048896789551) -- (axis cs:0.6564525365829468, 1.0);\n",
      "        \\node[above, anchor=south west, rotate=60, font=\\tiny] at (axis cs:0.7535318732261658, 1.0) {90};\n",
      "        \\draw[dotted, color=black] (axis cs:0.7535318732261658, 0.47777777910232544) -- (axis cs:0.7535318732261658, 1.0);\n",
      "        \\node[above, anchor=south west, rotate=60, font=\\tiny] at (axis cs:0.8515143394470215, 1.0) {122};\n",
      "        \\draw[dotted, color=black] (axis cs:0.8515143394470215, 0.6229507923126221) -- (axis cs:0.8515143394470215, 1.0);\n",
      "        \\node[above, anchor=south west, rotate=60, font=\\tiny] at (axis cs:0.9833719730377196, 1.0) {898};\n",
      "        \\draw[dotted, color=black] (axis cs:0.9833719730377196, 0.5657015442848206) -- (axis cs:0.9833719730377196, 1.0);\n",
      "    \\end{axis}\n",
      "\\end{tikzpicture}\n",
      "dict_keys(['muslim-toxic', 'test_results', 'lgbtq-non-toxic', '_runtime', '_timestamp', 'male-toxic', 'train_loss', 'lgbtq-toxic', 'worst group accuracy', 'other_religion-non-toxic', 'all', 'white-toxic', 'female-toxic', 'christian-toxic', 'other_religion-toxic', 'all-toxic', 'black-non-toxic', 'female-non-toxic', 'white-non-toxic', 'muslim-non-toxic', 'christian-non-toxic', '_step', '_wandb', 'black-toxic', 'all-non-toxic', 'male-non-toxic'])\n",
      "bbb_0.1-0\n",
      "sECE: -0.4255, ECE: 0.4255\n",
      "\\begin{tikzpicture}\n",
      "    \\begin{axis}[calstyle, xmin=0, xmax=1, ymin=0, ymax=1]\n",
      "        \\addplot[dashed, color=black] coordinates {(0,0) (1,1)};\n",
      "        \\addplot[calline] coordinates {(0.5493425726890564, 0.4722222089767456) (0.6521511077880859, 0.550561785697937) (0.754514217376709, 0.4770642220973969) (0.8578800559043884, 0.5114504098892212) (0.980036735534668, 0.4610011577606201)};\n",
      "        \\node[above, anchor=south west, rotate=60, font=\\tiny] at (axis cs:0.5493425726890564, 1.0) {72};\n",
      "        \\draw[dotted, color=black] (axis cs:0.5493425726890564, 0.4722222089767456) -- (axis cs:0.5493425726890564, 1.0);\n",
      "        \\node[above, anchor=south west, rotate=60, font=\\tiny] at (axis cs:0.6521511077880859, 1.0) {89};\n",
      "        \\draw[dotted, color=black] (axis cs:0.6521511077880859, 0.550561785697937) -- (axis cs:0.6521511077880859, 1.0);\n",
      "        \\node[above, anchor=south west, rotate=60, font=\\tiny] at (axis cs:0.754514217376709, 1.0) {109};\n",
      "        \\draw[dotted, color=black] (axis cs:0.754514217376709, 0.4770642220973969) -- (axis cs:0.754514217376709, 1.0);\n",
      "        \\node[above, anchor=south west, rotate=60, font=\\tiny] at (axis cs:0.8578800559043884, 1.0) {131};\n",
      "        \\draw[dotted, color=black] (axis cs:0.8578800559043884, 0.5114504098892212) -- (axis cs:0.8578800559043884, 1.0);\n",
      "        \\node[above, anchor=south west, rotate=60, font=\\tiny] at (axis cs:0.980036735534668, 1.0) {859};\n",
      "        \\draw[dotted, color=black] (axis cs:0.980036735534668, 0.4610011577606201) -- (axis cs:0.980036735534668, 1.0);\n",
      "    \\end{axis}\n",
      "\\end{tikzpicture}\n",
      "dict_keys(['lgbtq-non-toxic', 'muslim-non-toxic', 'worst group accuracy', 'all', 'male-toxic', 'lgbtq-toxic', 'female-toxic', 'muslim-toxic', 'all-non-toxic', 'male-non-toxic', 'christian-toxic', '_step', '_runtime', 'all-toxic', 'black-toxic', 'white-toxic', 'other_religion-toxic', 'other_religion-non-toxic', 'christian-non-toxic', '_wandb', 'test_results', 'black-non-toxic', 'white-non-toxic', 'female-non-toxic', '_timestamp', 'train_loss'])\n",
      "map_wd0.0001-4\n",
      "sECE: -0.3189, ECE: 0.3189\n",
      "\\begin{tikzpicture}\n",
      "    \\begin{axis}[calstyle, xmin=0, xmax=1, ymin=0, ymax=1]\n",
      "        \\addplot[dashed, color=black] coordinates {(0,0) (1,1)};\n",
      "        \\addplot[calline] coordinates {(0.5563949942588806, 0.3939394056797027) (0.648115336894989, 0.6190476417541504) (0.7441090941429138, 0.41999998688697815) (0.8470221161842346, 0.6065573692321777) (0.9740939736366272, 0.589820384979248)};\n",
      "        \\node[above, anchor=south west, rotate=60, font=\\tiny] at (axis cs:0.5563949942588806, 1.0) {33};\n",
      "        \\draw[dotted, color=black] (axis cs:0.5563949942588806, 0.3939394056797027) -- (axis cs:0.5563949942588806, 1.0);\n",
      "        \\node[above, anchor=south west, rotate=60, font=\\tiny] at (axis cs:0.648115336894989, 1.0) {42};\n",
      "        \\draw[dotted, color=black] (axis cs:0.648115336894989, 0.6190476417541504) -- (axis cs:0.648115336894989, 1.0);\n",
      "        \\node[above, anchor=south west, rotate=60, font=\\tiny] at (axis cs:0.7441090941429138, 1.0) {50};\n",
      "        \\draw[dotted, color=black] (axis cs:0.7441090941429138, 0.41999998688697815) -- (axis cs:0.7441090941429138, 1.0);\n",
      "        \\node[above, anchor=south west, rotate=60, font=\\tiny] at (axis cs:0.8470221161842346, 1.0) {61};\n",
      "        \\draw[dotted, color=black] (axis cs:0.8470221161842346, 0.6065573692321777) -- (axis cs:0.8470221161842346, 1.0);\n",
      "        \\node[above, anchor=south west, rotate=60, font=\\tiny] at (axis cs:0.9740939736366272, 1.0) {334};\n",
      "        \\draw[dotted, color=black] (axis cs:0.9740939736366272, 0.589820384979248) -- (axis cs:0.9740939736366272, 1.0);\n",
      "    \\end{axis}\n",
      "\\end{tikzpicture}\n",
      "dict_keys(['white-toxic', 'worst group accuracy', '_wandb', '_timestamp', 'black-toxic', 'all-toxic', 'lgbtq-toxic', 'all-non-toxic', 'muslim-toxic', 'test_results', 'black-non-toxic', 'other_religion-toxic', 'other_religion-non-toxic', 'all', '_step', '_runtime', 'male-non-toxic', 'christian-toxic', 'lgbtq-non-toxic', 'white-non-toxic', 'female-non-toxic', 'male-toxic', 'train_loss', 'female-toxic', 'muslim-non-toxic', 'christian-non-toxic'])\n",
      "map_wd0.0001-3\n",
      "sECE: -0.4106, ECE: 0.4106\n",
      "\\begin{tikzpicture}\n",
      "    \\begin{axis}[calstyle, xmin=0, xmax=1, ymin=0, ymax=1]\n",
      "        \\addplot[dashed, color=black] coordinates {(0,0) (1,1)};\n",
      "        \\addplot[calline] coordinates {(0.5508182644844055, 0.47826087474823) (0.6516466736793518, 0.4736842215061188) (0.7524499893188477, 0.46666666865348816) (0.8526729941368103, 0.5) (0.975773811340332, 0.44771242141723633)};\n",
      "        \\node[above, anchor=south west, rotate=60, font=\\tiny] at (axis cs:0.5508182644844055, 1.0) {46};\n",
      "        \\draw[dotted, color=black] (axis cs:0.5508182644844055, 0.47826087474823) -- (axis cs:0.5508182644844055, 1.0);\n",
      "        \\node[above, anchor=south west, rotate=60, font=\\tiny] at (axis cs:0.6516466736793518, 1.0) {38};\n",
      "        \\draw[dotted, color=black] (axis cs:0.6516466736793518, 0.4736842215061188) -- (axis cs:0.6516466736793518, 1.0);\n",
      "        \\node[above, anchor=south west, rotate=60, font=\\tiny] at (axis cs:0.7524499893188477, 1.0) {60};\n",
      "        \\draw[dotted, color=black] (axis cs:0.7524499893188477, 0.46666666865348816) -- (axis cs:0.7524499893188477, 1.0);\n",
      "        \\node[above, anchor=south west, rotate=60, font=\\tiny] at (axis cs:0.8526729941368103, 1.0) {70};\n",
      "        \\draw[dotted, color=black] (axis cs:0.8526729941368103, 0.5) -- (axis cs:0.8526729941368103, 1.0);\n",
      "        \\node[above, anchor=south west, rotate=60, font=\\tiny] at (axis cs:0.975773811340332, 1.0) {306};\n",
      "        \\draw[dotted, color=black] (axis cs:0.975773811340332, 0.44771242141723633) -- (axis cs:0.975773811340332, 1.0);\n",
      "    \\end{axis}\n",
      "\\end{tikzpicture}\n",
      "dict_keys(['black-non-toxic', 'white-non-toxic', 'female-non-toxic', 'other_religion-non-toxic', '_step', '_timestamp', 'test_results', 'male-non-toxic', 'lgbtq-non-toxic', 'all-toxic', 'lgbtq-toxic', 'all-non-toxic', 'christian-toxic', 'muslim-toxic', 'muslim-non-toxic', 'other_religion-toxic', 'all', '_wandb', 'black-toxic', 'white-toxic', 'christian-non-toxic', 'worst group accuracy', '_runtime', 'male-toxic', 'train_loss', 'female-toxic'])\n",
      "map_wd0.0001-2\n",
      "sECE: -0.4445, ECE: 0.4445\n",
      "\\begin{tikzpicture}\n",
      "    \\begin{axis}[calstyle, xmin=0, xmax=1, ymin=0, ymax=1]\n",
      "        \\addplot[dashed, color=black] coordinates {(0,0) (1,1)};\n",
      "        \\addplot[calline] coordinates {(0.5493144989013672, 0.5) (0.6489460468292236, 0.48275861144065857) (0.7549355626106262, 0.4901960790157318) (0.85061115026474, 0.45652174949646) (0.97735196352005, 0.4203821718692779)};\n",
      "        \\node[above, anchor=south west, rotate=60, font=\\tiny] at (axis cs:0.5493144989013672, 1.0) {34};\n",
      "        \\draw[dotted, color=black] (axis cs:0.5493144989013672, 0.5) -- (axis cs:0.5493144989013672, 1.0);\n",
      "        \\node[above, anchor=south west, rotate=60, font=\\tiny] at (axis cs:0.6489460468292236, 1.0) {29};\n",
      "        \\draw[dotted, color=black] (axis cs:0.6489460468292236, 0.48275861144065857) -- (axis cs:0.6489460468292236, 1.0);\n",
      "        \\node[above, anchor=south west, rotate=60, font=\\tiny] at (axis cs:0.7549355626106262, 1.0) {51};\n",
      "        \\draw[dotted, color=black] (axis cs:0.7549355626106262, 0.4901960790157318) -- (axis cs:0.7549355626106262, 1.0);\n",
      "        \\node[above, anchor=south west, rotate=60, font=\\tiny] at (axis cs:0.85061115026474, 1.0) {92};\n",
      "        \\draw[dotted, color=black] (axis cs:0.85061115026474, 0.45652174949646) -- (axis cs:0.85061115026474, 1.0);\n",
      "        \\node[above, anchor=south west, rotate=60, font=\\tiny] at (axis cs:0.97735196352005, 1.0) {314};\n",
      "        \\draw[dotted, color=black] (axis cs:0.97735196352005, 0.4203821718692779) -- (axis cs:0.97735196352005, 1.0);\n",
      "    \\end{axis}\n",
      "\\end{tikzpicture}\n",
      "dict_keys(['other_religion-non-toxic', 'all-non-toxic', 'christian-toxic', 'lgbtq-non-toxic', 'female-non-toxic', 'christian-non-toxic', 'female-toxic', 'other_religion-toxic', 'all', '_runtime', 'all-toxic', 'male-toxic', 'train_loss', 'white-non-toxic', 'muslim-non-toxic', '_wandb', '_timestamp', 'black-toxic', 'white-toxic', 'muslim-toxic', 'worst group accuracy', '_step', 'lgbtq-toxic', 'test_results', 'male-non-toxic', 'black-non-toxic'])\n",
      "map_wd0.0001-1\n",
      "sECE: -0.4213, ECE: 0.4213\n",
      "\\begin{tikzpicture}\n",
      "    \\begin{axis}[calstyle, xmin=0, xmax=1, ymin=0, ymax=1]\n",
      "        \\addplot[dashed, color=black] coordinates {(0,0) (1,1)};\n",
      "        \\addplot[calline] coordinates {(0.5549198389053345, 0.45652174949646) (0.6457323431968689, 0.5348837375640869) (0.7503181099891663, 0.54347825050354) (0.8559655547142029, 0.5394737124443054) (0.9747908711433412, 0.40453073382377625)};\n",
      "        \\node[above, anchor=south west, rotate=60, font=\\tiny] at (axis cs:0.5549198389053345, 1.0) {46};\n",
      "        \\draw[dotted, color=black] (axis cs:0.5549198389053345, 0.45652174949646) -- (axis cs:0.5549198389053345, 1.0);\n",
      "        \\node[above, anchor=south west, rotate=60, font=\\tiny] at (axis cs:0.6457323431968689, 1.0) {43};\n",
      "        \\draw[dotted, color=black] (axis cs:0.6457323431968689, 0.5348837375640869) -- (axis cs:0.6457323431968689, 1.0);\n",
      "        \\node[above, anchor=south west, rotate=60, font=\\tiny] at (axis cs:0.7503181099891663, 1.0) {46};\n",
      "        \\draw[dotted, color=black] (axis cs:0.7503181099891663, 0.54347825050354) -- (axis cs:0.7503181099891663, 1.0);\n",
      "        \\node[above, anchor=south west, rotate=60, font=\\tiny] at (axis cs:0.8559655547142029, 1.0) {76};\n",
      "        \\draw[dotted, color=black] (axis cs:0.8559655547142029, 0.5394737124443054) -- (axis cs:0.8559655547142029, 1.0);\n",
      "        \\node[above, anchor=south west, rotate=60, font=\\tiny] at (axis cs:0.9747908711433412, 1.0) {309};\n",
      "        \\draw[dotted, color=black] (axis cs:0.9747908711433412, 0.40453073382377625) -- (axis cs:0.9747908711433412, 1.0);\n",
      "    \\end{axis}\n",
      "\\end{tikzpicture}\n",
      "dict_keys(['_step', 'black-toxic', 'muslim-toxic', 'lgbtq-non-toxic', 'male-non-toxic', 'christian-non-toxic', '_runtime', 'lgbtq-toxic', 'test_results', 'all-non-toxic', 'black-non-toxic', 'christian-toxic', 'white-non-toxic', 'muslim-non-toxic', 'all', 'all-toxic', '_timestamp', 'female-toxic', 'other_religion-toxic', 'worst group accuracy', 'female-non-toxic', 'other_religion-non-toxic', '_wandb', 'male-toxic', 'train_loss', 'white-toxic'])\n",
      "map_wd0.0001-0\n",
      "sECE: -0.4212, ECE: 0.4286\n",
      "\\begin{tikzpicture}\n",
      "    \\begin{axis}[calstyle, xmin=0, xmax=1, ymin=0, ymax=1]\n",
      "        \\addplot[dashed, color=black] coordinates {(0,0) (1,1)};\n",
      "        \\addplot[calline] coordinates {(0.5425008535385132, 0.5945945978164673) (0.6546282768249512, 0.5121951103210449) (0.7526116371154785, 0.3529411852359772) (0.8606113195419312, 0.33870968222618103) (0.9706528782844543, 0.4772036373615265)};\n",
      "        \\node[above, anchor=south west, rotate=60, font=\\tiny] at (axis cs:0.5425008535385132, 1.0) {37};\n",
      "        \\draw[dotted, color=black] (axis cs:0.5425008535385132, 0.5945945978164673) -- (axis cs:0.5425008535385132, 1.0);\n",
      "        \\node[above, anchor=south west, rotate=60, font=\\tiny] at (axis cs:0.6546282768249512, 1.0) {41};\n",
      "        \\draw[dotted, color=black] (axis cs:0.6546282768249512, 0.5121951103210449) -- (axis cs:0.6546282768249512, 1.0);\n",
      "        \\node[above, anchor=south west, rotate=60, font=\\tiny] at (axis cs:0.7526116371154785, 1.0) {51};\n",
      "        \\draw[dotted, color=black] (axis cs:0.7526116371154785, 0.3529411852359772) -- (axis cs:0.7526116371154785, 1.0);\n",
      "        \\node[above, anchor=south west, rotate=60, font=\\tiny] at (axis cs:0.8606113195419312, 1.0) {62};\n",
      "        \\draw[dotted, color=black] (axis cs:0.8606113195419312, 0.33870968222618103) -- (axis cs:0.8606113195419312, 1.0);\n",
      "        \\node[above, anchor=south west, rotate=60, font=\\tiny] at (axis cs:0.9706528782844543, 1.0) {329};\n",
      "        \\draw[dotted, color=black] (axis cs:0.9706528782844543, 0.4772036373615265) -- (axis cs:0.9706528782844543, 1.0);\n",
      "    \\end{axis}\n",
      "\\end{tikzpicture}\n",
      "dict_keys(['test_results', '_step', '_wandb', '_runtime', '_timestamp'])\n",
      "swag_4-3\n",
      "sECE: -0.1711, ECE: 0.1711\n",
      "\\begin{tikzpicture}\n",
      "    \\begin{axis}[calstyle, xmin=0, xmax=1, ymin=0, ymax=1]\n",
      "        \\addplot[dashed, color=black] coordinates {(0,0) (1,1)};\n",
      "        \\addplot[calline] coordinates {(0.5484725832939148, 0.5162721872329712) (0.6411360502243042, 0.42455244064331055) (0.7378948926925659, 0.2292993664741516) (0.832749605178833, 0.03030303120613098) (0.9269123077392578, 0)};\n",
      "        \\node[above, anchor=south west, rotate=60, font=\\tiny] at (axis cs:0.5484725832939148, 1.0) {676};\n",
      "        \\draw[dotted, color=black] (axis cs:0.5484725832939148, 0.5162721872329712) -- (axis cs:0.5484725832939148, 1.0);\n",
      "        \\node[above, anchor=south west, rotate=60, font=\\tiny] at (axis cs:0.6411360502243042, 1.0) {391};\n",
      "        \\draw[dotted, color=black] (axis cs:0.6411360502243042, 0.42455244064331055) -- (axis cs:0.6411360502243042, 1.0);\n",
      "        \\node[above, anchor=south west, rotate=60, font=\\tiny] at (axis cs:0.7378948926925659, 1.0) {157};\n",
      "        \\draw[dotted, color=black] (axis cs:0.7378948926925659, 0.2292993664741516) -- (axis cs:0.7378948926925659, 1.0);\n",
      "        \\node[above, anchor=south west, rotate=60, font=\\tiny] at (axis cs:0.832749605178833, 1.0) {33};\n",
      "        \\draw[dotted, color=black] (axis cs:0.832749605178833, 0.03030303120613098) -- (axis cs:0.832749605178833, 1.0);\n",
      "        \\node[above, anchor=south west, rotate=60, font=\\tiny] at (axis cs:0.9269123077392578, 1.0) {3};\n",
      "        \\draw[dotted, color=black] (axis cs:0.9269123077392578, 0) -- (axis cs:0.9269123077392578, 1.0);\n",
      "    \\end{axis}\n",
      "\\end{tikzpicture}\n",
      "dict_keys(['_wandb', '_runtime', '_timestamp', 'test_results', '_step'])\n",
      "swag_4-4\n",
      "sECE: -0.2183, ECE: 0.2183\n",
      "\\begin{tikzpicture}\n",
      "    \\begin{axis}[calstyle, xmin=0, xmax=1, ymin=0, ymax=1]\n",
      "        \\addplot[dashed, color=black] coordinates {(0,0) (1,1)};\n",
      "        \\addplot[calline] coordinates {(0.5482921004295349, 0.4896988868713379) (0.6450886130332947, 0.3792270421981811) (0.7418281435966492, 0.1988304108381271) (0.8392394185066223, 0.04878048598766327) (0.9316638112068176, 0)};\n",
      "        \\node[above, anchor=south west, rotate=60, font=\\tiny] at (axis cs:0.5482921004295349, 1.0) {631};\n",
      "        \\draw[dotted, color=black] (axis cs:0.5482921004295349, 0.4896988868713379) -- (axis cs:0.5482921004295349, 1.0);\n",
      "        \\node[above, anchor=south west, rotate=60, font=\\tiny] at (axis cs:0.6450886130332947, 1.0) {414};\n",
      "        \\draw[dotted, color=black] (axis cs:0.6450886130332947, 0.3792270421981811) -- (axis cs:0.6450886130332947, 1.0);\n",
      "        \\node[above, anchor=south west, rotate=60, font=\\tiny] at (axis cs:0.7418281435966492, 1.0) {171};\n",
      "        \\draw[dotted, color=black] (axis cs:0.7418281435966492, 0.1988304108381271) -- (axis cs:0.7418281435966492, 1.0);\n",
      "        \\node[above, anchor=south west, rotate=60, font=\\tiny] at (axis cs:0.8392394185066223, 1.0) {41};\n",
      "        \\draw[dotted, color=black] (axis cs:0.8392394185066223, 0.04878048598766327) -- (axis cs:0.8392394185066223, 1.0);\n",
      "        \\node[above, anchor=south west, rotate=60, font=\\tiny] at (axis cs:0.9316638112068176, 1.0) {3};\n",
      "        \\draw[dotted, color=black] (axis cs:0.9316638112068176, 0) -- (axis cs:0.9316638112068176, 1.0);\n",
      "    \\end{axis}\n",
      "\\end{tikzpicture}\n",
      "dict_keys(['_step', '_wandb', '_runtime', '_timestamp', 'test_results'])\n",
      "swag_4-2\n",
      "sECE: -0.1816, ECE: 0.1816\n",
      "\\begin{tikzpicture}\n",
      "    \\begin{axis}[calstyle, xmin=0, xmax=1, ymin=0, ymax=1]\n",
      "        \\addplot[dashed, color=black] coordinates {(0,0) (1,1)};\n",
      "        \\addplot[calline] coordinates {(0.5446282029151917, 0.5078864097595215) (0.6412047743797302, 0.4232558012008667) (0.7362275123596191, 0.25850340723991394) (0.8347247838973999, 0) (0.9168329238891602, 0)};\n",
      "        \\node[above, anchor=south west, rotate=60, font=\\tiny] at (axis cs:0.5446282029151917, 1.0) {634};\n",
      "        \\draw[dotted, color=black] (axis cs:0.5446282029151917, 0.5078864097595215) -- (axis cs:0.5446282029151917, 1.0);\n",
      "        \\node[above, anchor=south west, rotate=60, font=\\tiny] at (axis cs:0.6412047743797302, 1.0) {430};\n",
      "        \\draw[dotted, color=black] (axis cs:0.6412047743797302, 0.4232558012008667) -- (axis cs:0.6412047743797302, 1.0);\n",
      "        \\node[above, anchor=south west, rotate=60, font=\\tiny] at (axis cs:0.7362275123596191, 1.0) {147};\n",
      "        \\draw[dotted, color=black] (axis cs:0.7362275123596191, 0.25850340723991394) -- (axis cs:0.7362275123596191, 1.0);\n",
      "        \\node[above, anchor=south west, rotate=60, font=\\tiny] at (axis cs:0.8347247838973999, 1.0) {41};\n",
      "        \\draw[dotted, color=black] (axis cs:0.8347247838973999, 0) -- (axis cs:0.8347247838973999, 1.0);\n",
      "        \\node[above, anchor=south west, rotate=60, font=\\tiny] at (axis cs:0.9168329238891602, 1.0) {8};\n",
      "        \\draw[dotted, color=black] (axis cs:0.9168329238891602, 0) -- (axis cs:0.9168329238891602, 1.0);\n",
      "    \\end{axis}\n",
      "\\end{tikzpicture}\n",
      "dict_keys(['_wandb', '_runtime', '_timestamp', 'test_results', '_step'])\n",
      "swag_4-1\n",
      "sECE: -0.1708, ECE: 0.1708\n",
      "\\begin{tikzpicture}\n",
      "    \\begin{axis}[calstyle, xmin=0, xmax=1, ymin=0, ymax=1]\n",
      "        \\addplot[dashed, color=black] coordinates {(0,0) (1,1)};\n",
      "        \\addplot[calline] coordinates {(0.5485867857933044, 0.5154321193695068) (0.6466962695121765, 0.43779903650283813) (0.7405737042427063, 0.2702702581882477) (0.8375316262245178, 0.04651162773370743) (0.908073365688324, 0)};\n",
      "        \\node[above, anchor=south west, rotate=60, font=\\tiny] at (axis cs:0.5485867857933044, 1.0) {648};\n",
      "        \\draw[dotted, color=black] (axis cs:0.5485867857933044, 0.5154321193695068) -- (axis cs:0.5485867857933044, 1.0);\n",
      "        \\node[above, anchor=south west, rotate=60, font=\\tiny] at (axis cs:0.6466962695121765, 1.0) {418};\n",
      "        \\draw[dotted, color=black] (axis cs:0.6466962695121765, 0.43779903650283813) -- (axis cs:0.6466962695121765, 1.0);\n",
      "        \\node[above, anchor=south west, rotate=60, font=\\tiny] at (axis cs:0.7405737042427063, 1.0) {148};\n",
      "        \\draw[dotted, color=black] (axis cs:0.7405737042427063, 0.2702702581882477) -- (axis cs:0.7405737042427063, 1.0);\n",
      "        \\node[above, anchor=south west, rotate=60, font=\\tiny] at (axis cs:0.8375316262245178, 1.0) {43};\n",
      "        \\draw[dotted, color=black] (axis cs:0.8375316262245178, 0.04651162773370743) -- (axis cs:0.8375316262245178, 1.0);\n",
      "        \\node[above, anchor=south west, rotate=60, font=\\tiny] at (axis cs:0.908073365688324, 1.0) {3};\n",
      "        \\draw[dotted, color=black] (axis cs:0.908073365688324, 0) -- (axis cs:0.908073365688324, 1.0);\n",
      "    \\end{axis}\n",
      "\\end{tikzpicture}\n",
      "dict_keys(['_step', '_wandb', '_runtime', '_timestamp', 'test_results'])\n",
      "swag_4-0\n",
      "sECE: -0.1757, ECE: 0.1757\n",
      "\\begin{tikzpicture}\n",
      "    \\begin{axis}[calstyle, xmin=0, xmax=1, ymin=0, ymax=1]\n",
      "        \\addplot[dashed, color=black] coordinates {(0,0) (1,1)};\n",
      "        \\addplot[calline] coordinates {(0.548187255859375, 0.5153733491897583) (0.6456689238548279, 0.3861386179924011) (0.74164217710495, 0.2700729966163635) (0.8394140601158142, 0.029411764815449715) (0.9636396169662476, 0)};\n",
      "        \\node[above, anchor=south west, rotate=60, font=\\tiny] at (axis cs:0.548187255859375, 1.0) {683};\n",
      "        \\draw[dotted, color=black] (axis cs:0.548187255859375, 0.5153733491897583) -- (axis cs:0.548187255859375, 1.0);\n",
      "        \\node[above, anchor=south west, rotate=60, font=\\tiny] at (axis cs:0.6456689238548279, 1.0) {404};\n",
      "        \\draw[dotted, color=black] (axis cs:0.6456689238548279, 0.3861386179924011) -- (axis cs:0.6456689238548279, 1.0);\n",
      "        \\node[above, anchor=south west, rotate=60, font=\\tiny] at (axis cs:0.74164217710495, 1.0) {137};\n",
      "        \\draw[dotted, color=black] (axis cs:0.74164217710495, 0.2700729966163635) -- (axis cs:0.74164217710495, 1.0);\n",
      "        \\node[above, anchor=south west, rotate=60, font=\\tiny] at (axis cs:0.8394140601158142, 1.0) {34};\n",
      "        \\draw[dotted, color=black] (axis cs:0.8394140601158142, 0.029411764815449715) -- (axis cs:0.8394140601158142, 1.0);\n",
      "        \\node[above, anchor=south west, rotate=60, font=\\tiny] at (axis cs:0.9636396169662476, 1.0) {2};\n",
      "        \\draw[dotted, color=black] (axis cs:0.9636396169662476, 0) -- (axis cs:0.9636396169662476, 1.0);\n",
      "    \\end{axis}\n",
      "\\end{tikzpicture}\n",
      "dict_keys(['_step', '_wandb', '_runtime', '_timestamp', 'test_results'])\n",
      "mcd_4-4\n",
      "sECE: -0.4132, ECE: 0.4132\n",
      "\\begin{tikzpicture}\n",
      "    \\begin{axis}[calstyle, xmin=0, xmax=1, ymin=0, ymax=1]\n",
      "        \\addplot[dashed, color=black] coordinates {(0,0) (1,1)};\n",
      "        \\addplot[calline] coordinates {(0.5506005883216858, 0.4838709533214569) (0.6493166089057922, 0.4676258862018585) (0.7489707469940186, 0.39240506291389465) (0.8437540531158447, 0.21459227800369263) (0.9461051225662231, 0)};\n",
      "        \\node[above, anchor=south west, rotate=60, font=\\tiny] at (axis cs:0.5506005883216858, 1.0) {279};\n",
      "        \\draw[dotted, color=black] (axis cs:0.5506005883216858, 0.4838709533214569) -- (axis cs:0.5506005883216858, 1.0);\n",
      "        \\node[above, anchor=south west, rotate=60, font=\\tiny] at (axis cs:0.6493166089057922, 1.0) {278};\n",
      "        \\draw[dotted, color=black] (axis cs:0.6493166089057922, 0.4676258862018585) -- (axis cs:0.6493166089057922, 1.0);\n",
      "        \\node[above, anchor=south west, rotate=60, font=\\tiny] at (axis cs:0.7489707469940186, 1.0) {237};\n",
      "        \\draw[dotted, color=black] (axis cs:0.7489707469940186, 0.39240506291389465) -- (axis cs:0.7489707469940186, 1.0);\n",
      "        \\node[above, anchor=south west, rotate=60, font=\\tiny] at (axis cs:0.8437540531158447, 1.0) {233};\n",
      "        \\draw[dotted, color=black] (axis cs:0.8437540531158447, 0.21459227800369263) -- (axis cs:0.8437540531158447, 1.0);\n",
      "        \\node[above, anchor=south west, rotate=60, font=\\tiny] at (axis cs:0.9461051225662231, 1.0) {233};\n",
      "        \\draw[dotted, color=black] (axis cs:0.9461051225662231, 0) -- (axis cs:0.9461051225662231, 1.0);\n",
      "    \\end{axis}\n",
      "\\end{tikzpicture}\n",
      "dict_keys(['_step', '_wandb', '_runtime', '_timestamp', 'test_results'])\n",
      "map_4-0\n",
      "sECE: -0.3679, ECE: 0.3679\n",
      "\\begin{tikzpicture}\n",
      "    \\begin{axis}[calstyle, xmin=0, xmax=1, ymin=0, ymax=1]\n",
      "        \\addplot[dashed, color=black] coordinates {(0,0) (1,1)};\n",
      "        \\addplot[calline] coordinates {(0.5490760207176208, 0.4835680723190307) (0.6516214609146118, 0.5333333611488342) (0.7507594227790833, 0.5274261832237244) (0.8506008982658386, 0.5423728823661804) (0.9626235365867616, 0)};\n",
      "        \\node[above, anchor=south west, rotate=60, font=\\tiny] at (axis cs:0.5490760207176208, 1.0) {213};\n",
      "        \\draw[dotted, color=black] (axis cs:0.5490760207176208, 0.4835680723190307) -- (axis cs:0.5490760207176208, 1.0);\n",
      "        \\node[above, anchor=south west, rotate=60, font=\\tiny] at (axis cs:0.6516214609146118, 1.0) {225};\n",
      "        \\draw[dotted, color=black] (axis cs:0.6516214609146118, 0.5333333611488342) -- (axis cs:0.6516214609146118, 1.0);\n",
      "        \\node[above, anchor=south west, rotate=60, font=\\tiny] at (axis cs:0.7507594227790833, 1.0) {237};\n",
      "        \\draw[dotted, color=black] (axis cs:0.7507594227790833, 0.5274261832237244) -- (axis cs:0.7507594227790833, 1.0);\n",
      "        \\node[above, anchor=south west, rotate=60, font=\\tiny] at (axis cs:0.8506008982658386, 1.0) {295};\n",
      "        \\draw[dotted, color=black] (axis cs:0.8506008982658386, 0.5423728823661804) -- (axis cs:0.8506008982658386, 1.0);\n",
      "        \\node[above, anchor=south west, rotate=60, font=\\tiny] at (axis cs:0.9626235365867616, 1.0) {290};\n",
      "        \\draw[dotted, color=black] (axis cs:0.9626235365867616, 0) -- (axis cs:0.9626235365867616, 1.0);\n",
      "    \\end{axis}\n",
      "\\end{tikzpicture}\n",
      "dict_keys(['_step', '_wandb', '_runtime', '_timestamp', 'test_results'])\n",
      "map_4-3\n",
      "sECE: -0.3472, ECE: 0.3472\n",
      "\\begin{tikzpicture}\n",
      "    \\begin{axis}[calstyle, xmin=0, xmax=1, ymin=0, ymax=1]\n",
      "        \\addplot[dashed, color=black] coordinates {(0,0) (1,1)};\n",
      "        \\addplot[calline] coordinates {(0.5459169149398804, 0.47887325286865234) (0.6508378982543945, 0.5454545617103577) (0.7480167746543884, 0.5390946269035339) (0.852119505405426, 0.5668789744377136) (0.9619374871253968, 0)};\n",
      "        \\node[above, anchor=south west, rotate=60, font=\\tiny] at (axis cs:0.5459169149398804, 1.0) {213};\n",
      "        \\draw[dotted, color=black] (axis cs:0.5459169149398804, 0.47887325286865234) -- (axis cs:0.5459169149398804, 1.0);\n",
      "        \\node[above, anchor=south west, rotate=60, font=\\tiny] at (axis cs:0.6508378982543945, 1.0) {220};\n",
      "        \\draw[dotted, color=black] (axis cs:0.6508378982543945, 0.5454545617103577) -- (axis cs:0.6508378982543945, 1.0);\n",
      "        \\node[above, anchor=south west, rotate=60, font=\\tiny] at (axis cs:0.7480167746543884, 1.0) {243};\n",
      "        \\draw[dotted, color=black] (axis cs:0.7480167746543884, 0.5390946269035339) -- (axis cs:0.7480167746543884, 1.0);\n",
      "        \\node[above, anchor=south west, rotate=60, font=\\tiny] at (axis cs:0.852119505405426, 1.0) {314};\n",
      "        \\draw[dotted, color=black] (axis cs:0.852119505405426, 0.5668789744377136) -- (axis cs:0.852119505405426, 1.0);\n",
      "        \\node[above, anchor=south west, rotate=60, font=\\tiny] at (axis cs:0.9619374871253968, 1.0) {270};\n",
      "        \\draw[dotted, color=black] (axis cs:0.9619374871253968, 0) -- (axis cs:0.9619374871253968, 1.0);\n",
      "    \\end{axis}\n",
      "\\end{tikzpicture}\n",
      "dict_keys(['_timestamp', 'test_results', '_step', '_wandb', '_runtime'])\n",
      "map_4-4\n",
      "sECE: -0.3417, ECE: 0.3417\n",
      "\\begin{tikzpicture}\n",
      "    \\begin{axis}[calstyle, xmin=0, xmax=1, ymin=0, ymax=1]\n",
      "        \\addplot[dashed, color=black] coordinates {(0,0) (1,1)};\n",
      "        \\addplot[calline] coordinates {(0.5455356240272522, 0.4881516695022583) (0.6479968428611755, 0.5381165742874146) (0.7453597187995911, 0.5381526350975037) (0.851947009563446, 0.5587301850318909) (0.961536467075348, 0.007633587811142206)};\n",
      "        \\node[above, anchor=south west, rotate=60, font=\\tiny] at (axis cs:0.5455356240272522, 1.0) {211};\n",
      "        \\draw[dotted, color=black] (axis cs:0.5455356240272522, 0.4881516695022583) -- (axis cs:0.5455356240272522, 1.0);\n",
      "        \\node[above, anchor=south west, rotate=60, font=\\tiny] at (axis cs:0.6479968428611755, 1.0) {223};\n",
      "        \\draw[dotted, color=black] (axis cs:0.6479968428611755, 0.5381165742874146) -- (axis cs:0.6479968428611755, 1.0);\n",
      "        \\node[above, anchor=south west, rotate=60, font=\\tiny] at (axis cs:0.7453597187995911, 1.0) {249};\n",
      "        \\draw[dotted, color=black] (axis cs:0.7453597187995911, 0.5381526350975037) -- (axis cs:0.7453597187995911, 1.0);\n",
      "        \\node[above, anchor=south west, rotate=60, font=\\tiny] at (axis cs:0.851947009563446, 1.0) {315};\n",
      "        \\draw[dotted, color=black] (axis cs:0.851947009563446, 0.5587301850318909) -- (axis cs:0.851947009563446, 1.0);\n",
      "        \\node[above, anchor=south west, rotate=60, font=\\tiny] at (axis cs:0.961536467075348, 1.0) {262};\n",
      "        \\draw[dotted, color=black] (axis cs:0.961536467075348, 0.007633587811142206) -- (axis cs:0.961536467075348, 1.0);\n",
      "    \\end{axis}\n",
      "\\end{tikzpicture}\n",
      "dict_keys(['_step', '_wandb', '_runtime', '_timestamp', 'test_results'])\n",
      "map_4-1\n",
      "sECE: -0.3430, ECE: 0.3430\n",
      "\\begin{tikzpicture}\n",
      "    \\begin{axis}[calstyle, xmin=0, xmax=1, ymin=0, ymax=1]\n",
      "        \\addplot[dashed, color=black] coordinates {(0,0) (1,1)};\n",
      "        \\addplot[calline] coordinates {(0.5470494031906128, 0.5069767236709595) (0.6480525732040405, 0.5141509175300598) (0.7452530264854431, 0.5533596873283386) (0.852616548538208, 0.5580645203590393) (0.9603079557418824, 0.014814814552664757)};\n",
      "        \\node[above, anchor=south west, rotate=60, font=\\tiny] at (axis cs:0.5470494031906128, 1.0) {215};\n",
      "        \\draw[dotted, color=black] (axis cs:0.5470494031906128, 0.5069767236709595) -- (axis cs:0.5470494031906128, 1.0);\n",
      "        \\node[above, anchor=south west, rotate=60, font=\\tiny] at (axis cs:0.6480525732040405, 1.0) {212};\n",
      "        \\draw[dotted, color=black] (axis cs:0.6480525732040405, 0.5141509175300598) -- (axis cs:0.6480525732040405, 1.0);\n",
      "        \\node[above, anchor=south west, rotate=60, font=\\tiny] at (axis cs:0.7452530264854431, 1.0) {253};\n",
      "        \\draw[dotted, color=black] (axis cs:0.7452530264854431, 0.5533596873283386) -- (axis cs:0.7452530264854431, 1.0);\n",
      "        \\node[above, anchor=south west, rotate=60, font=\\tiny] at (axis cs:0.852616548538208, 1.0) {310};\n",
      "        \\draw[dotted, color=black] (axis cs:0.852616548538208, 0.5580645203590393) -- (axis cs:0.852616548538208, 1.0);\n",
      "        \\node[above, anchor=south west, rotate=60, font=\\tiny] at (axis cs:0.9603079557418824, 1.0) {270};\n",
      "        \\draw[dotted, color=black] (axis cs:0.9603079557418824, 0.014814814552664757) -- (axis cs:0.9603079557418824, 1.0);\n",
      "    \\end{axis}\n",
      "\\end{tikzpicture}\n",
      "dict_keys(['_step', '_wandb', '_runtime', '_timestamp', 'test_results'])\n",
      "map_4-2\n",
      "sECE: -0.3454, ECE: 0.3454\n",
      "\\begin{tikzpicture}\n",
      "    \\begin{axis}[calstyle, xmin=0, xmax=1, ymin=0, ymax=1]\n",
      "        \\addplot[dashed, color=black] coordinates {(0,0) (1,1)};\n",
      "        \\addplot[calline] coordinates {(0.5467983484268188, 0.5023041367530823) (0.6500544548034668, 0.5545454621315002) (0.7485446333885193, 0.5142857432365417) (0.8521244525909424, 0.5672131180763245) (0.9607089161872864, 0.007326007355004549)};\n",
      "        \\node[above, anchor=south west, rotate=60, font=\\tiny] at (axis cs:0.5467983484268188, 1.0) {217};\n",
      "        \\draw[dotted, color=black] (axis cs:0.5467983484268188, 0.5023041367530823) -- (axis cs:0.5467983484268188, 1.0);\n",
      "        \\node[above, anchor=south west, rotate=60, font=\\tiny] at (axis cs:0.6500544548034668, 1.0) {220};\n",
      "        \\draw[dotted, color=black] (axis cs:0.6500544548034668, 0.5545454621315002) -- (axis cs:0.6500544548034668, 1.0);\n",
      "        \\node[above, anchor=south west, rotate=60, font=\\tiny] at (axis cs:0.7485446333885193, 1.0) {245};\n",
      "        \\draw[dotted, color=black] (axis cs:0.7485446333885193, 0.5142857432365417) -- (axis cs:0.7485446333885193, 1.0);\n",
      "        \\node[above, anchor=south west, rotate=60, font=\\tiny] at (axis cs:0.8521244525909424, 1.0) {305};\n",
      "        \\draw[dotted, color=black] (axis cs:0.8521244525909424, 0.5672131180763245) -- (axis cs:0.8521244525909424, 1.0);\n",
      "        \\node[above, anchor=south west, rotate=60, font=\\tiny] at (axis cs:0.9607089161872864, 1.0) {273};\n",
      "        \\draw[dotted, color=black] (axis cs:0.9607089161872864, 0.007326007355004549) -- (axis cs:0.9607089161872864, 1.0);\n",
      "    \\end{axis}\n",
      "\\end{tikzpicture}\n",
      "dict_keys(['_step', '_wandb', '_runtime', '_timestamp', 'test_results'])\n",
      "mcd_4-0\n",
      "sECE: -0.4227, ECE: 0.4227\n",
      "\\begin{tikzpicture}\n",
      "    \\begin{axis}[calstyle, xmin=0, xmax=1, ymin=0, ymax=1]\n",
      "        \\addplot[dashed, color=black] coordinates {(0,0) (1,1)};\n",
      "        \\addplot[calline] coordinates {(0.5515642762184143, 0.5060241222381592) (0.6488198637962341, 0.4496402740478515) (0.7494182586669922, 0.4352941215038299) (0.8465039730072021, 0.19130434095859528) (0.9481510519981384, 0)};\n",
      "        \\node[above, anchor=south west, rotate=60, font=\\tiny] at (axis cs:0.5515642762184143, 1.0) {249};\n",
      "        \\draw[dotted, color=black] (axis cs:0.5515642762184143, 0.5060241222381592) -- (axis cs:0.5515642762184143, 1.0);\n",
      "        \\node[above, anchor=south west, rotate=60, font=\\tiny] at (axis cs:0.6488198637962341, 1.0) {278};\n",
      "        \\draw[dotted, color=black] (axis cs:0.6488198637962341, 0.4496402740478515) -- (axis cs:0.6488198637962341, 1.0);\n",
      "        \\node[above, anchor=south west, rotate=60, font=\\tiny] at (axis cs:0.7494182586669922, 1.0) {255};\n",
      "        \\draw[dotted, color=black] (axis cs:0.7494182586669922, 0.4352941215038299) -- (axis cs:0.7494182586669922, 1.0);\n",
      "        \\node[above, anchor=south west, rotate=60, font=\\tiny] at (axis cs:0.8465039730072021, 1.0) {230};\n",
      "        \\draw[dotted, color=black] (axis cs:0.8465039730072021, 0.19130434095859528) -- (axis cs:0.8465039730072021, 1.0);\n",
      "        \\node[above, anchor=south west, rotate=60, font=\\tiny] at (axis cs:0.9481510519981384, 1.0) {248};\n",
      "        \\draw[dotted, color=black] (axis cs:0.9481510519981384, 0) -- (axis cs:0.9481510519981384, 1.0);\n",
      "    \\end{axis}\n",
      "\\end{tikzpicture}\n",
      "dict_keys(['_wandb', '_runtime', '_timestamp', 'test_results', '_step'])\n",
      "mcd_4-1\n",
      "sECE: -0.4171, ECE: 0.4171\n",
      "\\begin{tikzpicture}\n",
      "    \\begin{axis}[calstyle, xmin=0, xmax=1, ymin=0, ymax=1]\n",
      "        \\addplot[dashed, color=black] coordinates {(0,0) (1,1)};\n",
      "        \\addplot[calline] coordinates {(0.5516847372055054, 0.4837545156478882) (0.6487433314323425, 0.4528985619544983) (0.751803457736969, 0.3852458894252777) (0.8474850058555603, 0.2064777314662933) (0.9488778710365297, 0)};\n",
      "        \\node[above, anchor=south west, rotate=60, font=\\tiny] at (axis cs:0.5516847372055054, 1.0) {277};\n",
      "        \\draw[dotted, color=black] (axis cs:0.5516847372055054, 0.4837545156478882) -- (axis cs:0.5516847372055054, 1.0);\n",
      "        \\node[above, anchor=south west, rotate=60, font=\\tiny] at (axis cs:0.6487433314323425, 1.0) {276};\n",
      "        \\draw[dotted, color=black] (axis cs:0.6487433314323425, 0.4528985619544983) -- (axis cs:0.6487433314323425, 1.0);\n",
      "        \\node[above, anchor=south west, rotate=60, font=\\tiny] at (axis cs:0.751803457736969, 1.0) {244};\n",
      "        \\draw[dotted, color=black] (axis cs:0.751803457736969, 0.3852458894252777) -- (axis cs:0.751803457736969, 1.0);\n",
      "        \\node[above, anchor=south west, rotate=60, font=\\tiny] at (axis cs:0.8474850058555603, 1.0) {247};\n",
      "        \\draw[dotted, color=black] (axis cs:0.8474850058555603, 0.2064777314662933) -- (axis cs:0.8474850058555603, 1.0);\n",
      "        \\node[above, anchor=south west, rotate=60, font=\\tiny] at (axis cs:0.9488778710365297, 1.0) {216};\n",
      "        \\draw[dotted, color=black] (axis cs:0.9488778710365297, 0) -- (axis cs:0.9488778710365297, 1.0);\n",
      "    \\end{axis}\n",
      "\\end{tikzpicture}\n",
      "dict_keys(['_runtime', '_timestamp', 'test_results', '_step', '_wandb'])\n",
      "mcd_4-3\n",
      "sECE: -0.4073, ECE: 0.4073\n",
      "\\begin{tikzpicture}\n",
      "    \\begin{axis}[calstyle, xmin=0, xmax=1, ymin=0, ymax=1]\n",
      "        \\addplot[dashed, color=black] coordinates {(0,0) (1,1)};\n",
      "        \\addplot[calline] coordinates {(0.5483730435371399, 0.5167286396026611) (0.6476716995239258, 0.4652014672756195) (0.7506183981895447, 0.39382240176200867) (0.8479530811309814, 0.20588235557079315) (0.9484663009643556, 0)};\n",
      "        \\node[above, anchor=south west, rotate=60, font=\\tiny] at (axis cs:0.5483730435371399, 1.0) {269};\n",
      "        \\draw[dotted, color=black] (axis cs:0.5483730435371399, 0.5167286396026611) -- (axis cs:0.5483730435371399, 1.0);\n",
      "        \\node[above, anchor=south west, rotate=60, font=\\tiny] at (axis cs:0.6476716995239258, 1.0) {273};\n",
      "        \\draw[dotted, color=black] (axis cs:0.6476716995239258, 0.4652014672756195) -- (axis cs:0.6476716995239258, 1.0);\n",
      "        \\node[above, anchor=south west, rotate=60, font=\\tiny] at (axis cs:0.7506183981895447, 1.0) {259};\n",
      "        \\draw[dotted, color=black] (axis cs:0.7506183981895447, 0.39382240176200867) -- (axis cs:0.7506183981895447, 1.0);\n",
      "        \\node[above, anchor=south west, rotate=60, font=\\tiny] at (axis cs:0.8479530811309814, 1.0) {238};\n",
      "        \\draw[dotted, color=black] (axis cs:0.8479530811309814, 0.20588235557079315) -- (axis cs:0.8479530811309814, 1.0);\n",
      "        \\node[above, anchor=south west, rotate=60, font=\\tiny] at (axis cs:0.9484663009643556, 1.0) {221};\n",
      "        \\draw[dotted, color=black] (axis cs:0.9484663009643556, 0) -- (axis cs:0.9484663009643556, 1.0);\n",
      "    \\end{axis}\n",
      "\\end{tikzpicture}\n",
      "dict_keys(['_step', '_wandb', '_runtime', '_timestamp', 'test_results'])\n",
      "mcd_4-2\n",
      "sECE: -0.4017, ECE: 0.4017\n",
      "\\begin{tikzpicture}\n",
      "    \\begin{axis}[calstyle, xmin=0, xmax=1, ymin=0, ymax=1]\n",
      "        \\addplot[dashed, color=black] coordinates {(0,0) (1,1)};\n",
      "        \\addplot[calline] coordinates {(0.5488472580909729, 0.509225070476532) (0.646281898021698, 0.4731182754039765) (0.7509140372276306, 0.3969465792179108) (0.8457008600234985, 0.2070484608411789) (0.9473202228546144, 0)};\n",
      "        \\node[above, anchor=south west, rotate=60, font=\\tiny] at (axis cs:0.5488472580909729, 1.0) {271};\n",
      "        \\draw[dotted, color=black] (axis cs:0.5488472580909729, 0.509225070476532) -- (axis cs:0.5488472580909729, 1.0);\n",
      "        \\node[above, anchor=south west, rotate=60, font=\\tiny] at (axis cs:0.646281898021698, 1.0) {279};\n",
      "        \\draw[dotted, color=black] (axis cs:0.646281898021698, 0.4731182754039765) -- (axis cs:0.646281898021698, 1.0);\n",
      "        \\node[above, anchor=south west, rotate=60, font=\\tiny] at (axis cs:0.7509140372276306, 1.0) {262};\n",
      "        \\draw[dotted, color=black] (axis cs:0.7509140372276306, 0.3969465792179108) -- (axis cs:0.7509140372276306, 1.0);\n",
      "        \\node[above, anchor=south west, rotate=60, font=\\tiny] at (axis cs:0.8457008600234985, 1.0) {227};\n",
      "        \\draw[dotted, color=black] (axis cs:0.8457008600234985, 0.2070484608411789) -- (axis cs:0.8457008600234985, 1.0);\n",
      "        \\node[above, anchor=south west, rotate=60, font=\\tiny] at (axis cs:0.9473202228546144, 1.0) {221};\n",
      "        \\draw[dotted, color=black] (axis cs:0.9473202228546144, 0) -- (axis cs:0.9473202228546144, 1.0);\n",
      "    \\end{axis}\n",
      "\\end{tikzpicture}\n",
      "dict_keys(['_step', '_wandb', '_runtime', '_timestamp', 'test_results'])\n",
      "mcd-4-p0.0\n",
      "sECE: -0.3626, ECE: 0.3626\n",
      "\\begin{tikzpicture}\n",
      "    \\begin{axis}[calstyle, xmin=0, xmax=1, ymin=0, ymax=1]\n",
      "        \\addplot[dashed, color=black] coordinates {(0,0) (1,1)};\n",
      "        \\addplot[calline] coordinates {(0.5513401627540588, 0.4881516695022583) (0.6514871120452881, 0.5145630836486816) (0.7501664757728577, 0.5619469285011292) (0.856037437915802, 0.5583596229553223) (0.9614138007164, 0.03333333507180214)};\n",
      "        \\node[above, anchor=south west, rotate=60, font=\\tiny] at (axis cs:0.5513401627540588, 1.0) {211};\n",
      "        \\draw[dotted, color=black] (axis cs:0.5513401627540588, 0.4881516695022583) -- (axis cs:0.5513401627540588, 1.0);\n",
      "        \\node[above, anchor=south west, rotate=60, font=\\tiny] at (axis cs:0.6514871120452881, 1.0) {206};\n",
      "        \\draw[dotted, color=black] (axis cs:0.6514871120452881, 0.5145630836486816) -- (axis cs:0.6514871120452881, 1.0);\n",
      "        \\node[above, anchor=south west, rotate=60, font=\\tiny] at (axis cs:0.7501664757728577, 1.0) {226};\n",
      "        \\draw[dotted, color=black] (axis cs:0.7501664757728577, 0.5619469285011292) -- (axis cs:0.7501664757728577, 1.0);\n",
      "        \\node[above, anchor=south west, rotate=60, font=\\tiny] at (axis cs:0.856037437915802, 1.0) {317};\n",
      "        \\draw[dotted, color=black] (axis cs:0.856037437915802, 0.5583596229553223) -- (axis cs:0.856037437915802, 1.0);\n",
      "        \\node[above, anchor=south west, rotate=60, font=\\tiny] at (axis cs:0.9614138007164, 1.0) {300};\n",
      "        \\draw[dotted, color=black] (axis cs:0.9614138007164, 0.03333333507180214) -- (axis cs:0.9614138007164, 1.0);\n",
      "    \\end{axis}\n",
      "\\end{tikzpicture}\n",
      "dict_keys(['_timestamp', 'test_results', '_step', '_wandb', '_runtime'])\n",
      "mcd-3-p0.0\n",
      "sECE: -0.3797, ECE: 0.3797\n",
      "\\begin{tikzpicture}\n",
      "    \\begin{axis}[calstyle, xmin=0, xmax=1, ymin=0, ymax=1]\n",
      "        \\addplot[dashed, color=black] coordinates {(0,0) (1,1)};\n",
      "        \\addplot[calline] coordinates {(0.5507375001907349, 0.5205479264259338) (0.6522009968757629, 0.5112107396125793) (0.7509183883666992, 0.49789029359817505) (0.8527939319610596, 0.5) (0.9580202102661132, 0.04472843557596207)};\n",
      "        \\node[above, anchor=south west, rotate=60, font=\\tiny] at (axis cs:0.5507375001907349, 1.0) {219};\n",
      "        \\draw[dotted, color=black] (axis cs:0.5507375001907349, 0.5205479264259338) -- (axis cs:0.5507375001907349, 1.0);\n",
      "        \\node[above, anchor=south west, rotate=60, font=\\tiny] at (axis cs:0.6522009968757629, 1.0) {223};\n",
      "        \\draw[dotted, color=black] (axis cs:0.6522009968757629, 0.5112107396125793) -- (axis cs:0.6522009968757629, 1.0);\n",
      "        \\node[above, anchor=south west, rotate=60, font=\\tiny] at (axis cs:0.7509183883666992, 1.0) {237};\n",
      "        \\draw[dotted, color=black] (axis cs:0.7509183883666992, 0.49789029359817505) -- (axis cs:0.7509183883666992, 1.0);\n",
      "        \\node[above, anchor=south west, rotate=60, font=\\tiny] at (axis cs:0.8527939319610596, 1.0) {268};\n",
      "        \\draw[dotted, color=black] (axis cs:0.8527939319610596, 0.5) -- (axis cs:0.8527939319610596, 1.0);\n",
      "        \\node[above, anchor=south west, rotate=60, font=\\tiny] at (axis cs:0.9580202102661132, 1.0) {313};\n",
      "        \\draw[dotted, color=black] (axis cs:0.9580202102661132, 0.04472843557596207) -- (axis cs:0.9580202102661132, 1.0);\n",
      "    \\end{axis}\n",
      "\\end{tikzpicture}\n",
      "dict_keys(['test_results', '_step', '_wandb', '_runtime', '_timestamp'])\n",
      "mcd-2-p0.0\n",
      "sECE: -0.3966, ECE: 0.3966\n",
      "\\begin{tikzpicture}\n",
      "    \\begin{axis}[calstyle, xmin=0, xmax=1, ymin=0, ymax=1]\n",
      "        \\addplot[dashed, color=black] coordinates {(0,0) (1,1)};\n",
      "        \\addplot[calline] coordinates {(0.5529358983039856, 0.4455445408821106) (0.6505985260009766, 0.5305164456367493) (0.7495218515396118, 0.5135135054588318) (0.8525985479354858, 0.5405405163764954) (0.9623517394065856, 0.02140672691166401)};\n",
      "        \\node[above, anchor=south west, rotate=60, font=\\tiny] at (axis cs:0.5529358983039856, 1.0) {202};\n",
      "        \\draw[dotted, color=black] (axis cs:0.5529358983039856, 0.4455445408821106) -- (axis cs:0.5529358983039856, 1.0);\n",
      "        \\node[above, anchor=south west, rotate=60, font=\\tiny] at (axis cs:0.6505985260009766, 1.0) {213};\n",
      "        \\draw[dotted, color=black] (axis cs:0.6505985260009766, 0.5305164456367493) -- (axis cs:0.6505985260009766, 1.0);\n",
      "        \\node[above, anchor=south west, rotate=60, font=\\tiny] at (axis cs:0.7495218515396118, 1.0) {222};\n",
      "        \\draw[dotted, color=black] (axis cs:0.7495218515396118, 0.5135135054588318) -- (axis cs:0.7495218515396118, 1.0);\n",
      "        \\node[above, anchor=south west, rotate=60, font=\\tiny] at (axis cs:0.8525985479354858, 1.0) {296};\n",
      "        \\draw[dotted, color=black] (axis cs:0.8525985479354858, 0.5405405163764954) -- (axis cs:0.8525985479354858, 1.0);\n",
      "        \\node[above, anchor=south west, rotate=60, font=\\tiny] at (axis cs:0.9623517394065856, 1.0) {327};\n",
      "        \\draw[dotted, color=black] (axis cs:0.9623517394065856, 0.02140672691166401) -- (axis cs:0.9623517394065856, 1.0);\n",
      "    \\end{axis}\n",
      "\\end{tikzpicture}\n",
      "dict_keys(['_step', '_wandb', '_runtime', '_timestamp', 'test_results'])\n",
      "mcd-0-p0.0\n",
      "sECE: -0.3306, ECE: 0.3306\n",
      "\\begin{tikzpicture}\n",
      "    \\begin{axis}[calstyle, xmin=0, xmax=1, ymin=0, ymax=1]\n",
      "        \\addplot[dashed, color=black] coordinates {(0,0) (1,1)};\n",
      "        \\addplot[calline] coordinates {(0.548698365688324, 0.5175438523292542) (0.6541644334793091, 0.5512820482254028) (0.7495476603507996, 0.5791666507720947) (0.8514271974563599, 0.5335570573806763) (0.960697591304779, 0)};\n",
      "        \\node[above, anchor=south west, rotate=60, font=\\tiny] at (axis cs:0.548698365688324, 1.0) {228};\n",
      "        \\draw[dotted, color=black] (axis cs:0.548698365688324, 0.5175438523292542) -- (axis cs:0.548698365688324, 1.0);\n",
      "        \\node[above, anchor=south west, rotate=60, font=\\tiny] at (axis cs:0.6541644334793091, 1.0) {234};\n",
      "        \\draw[dotted, color=black] (axis cs:0.6541644334793091, 0.5512820482254028) -- (axis cs:0.6541644334793091, 1.0);\n",
      "        \\node[above, anchor=south west, rotate=60, font=\\tiny] at (axis cs:0.7495476603507996, 1.0) {240};\n",
      "        \\draw[dotted, color=black] (axis cs:0.7495476603507996, 0.5791666507720947) -- (axis cs:0.7495476603507996, 1.0);\n",
      "        \\node[above, anchor=south west, rotate=60, font=\\tiny] at (axis cs:0.8514271974563599, 1.0) {298};\n",
      "        \\draw[dotted, color=black] (axis cs:0.8514271974563599, 0.5335570573806763) -- (axis cs:0.8514271974563599, 1.0);\n",
      "        \\node[above, anchor=south west, rotate=60, font=\\tiny] at (axis cs:0.960697591304779, 1.0) {260};\n",
      "        \\draw[dotted, color=black] (axis cs:0.960697591304779, 0) -- (axis cs:0.960697591304779, 1.0);\n",
      "    \\end{axis}\n",
      "\\end{tikzpicture}\n",
      "dict_keys(['_wandb', '_runtime', '_timestamp', 'test_results', '_step'])\n",
      "mcd-1-p0.0\n",
      "sECE: -0.3770, ECE: 0.3770\n",
      "\\begin{tikzpicture}\n",
      "    \\begin{axis}[calstyle, xmin=0, xmax=1, ymin=0, ymax=1]\n",
      "        \\addplot[dashed, color=black] coordinates {(0,0) (1,1)};\n",
      "        \\addplot[calline] coordinates {(0.5522803664207458, 0.49484536051750183) (0.6513118743896484, 0.5267857313156128) (0.7495732307434082, 0.5625) (0.8460454940795898, 0.5478547811508179) (0.9644034504890442, 0)};\n",
      "        \\node[above, anchor=south west, rotate=60, font=\\tiny] at (axis cs:0.5522803664207458, 1.0) {194};\n",
      "        \\draw[dotted, color=black] (axis cs:0.5522803664207458, 0.49484536051750183) -- (axis cs:0.5522803664207458, 1.0);\n",
      "        \\node[above, anchor=south west, rotate=60, font=\\tiny] at (axis cs:0.6513118743896484, 1.0) {224};\n",
      "        \\draw[dotted, color=black] (axis cs:0.6513118743896484, 0.5267857313156128) -- (axis cs:0.6513118743896484, 1.0);\n",
      "        \\node[above, anchor=south west, rotate=60, font=\\tiny] at (axis cs:0.7495732307434082, 1.0) {224};\n",
      "        \\draw[dotted, color=black] (axis cs:0.7495732307434082, 0.5625) -- (axis cs:0.7495732307434082, 1.0);\n",
      "        \\node[above, anchor=south west, rotate=60, font=\\tiny] at (axis cs:0.8460454940795898, 1.0) {303};\n",
      "        \\draw[dotted, color=black] (axis cs:0.8460454940795898, 0.5478547811508179) -- (axis cs:0.8460454940795898, 1.0);\n",
      "        \\node[above, anchor=south west, rotate=60, font=\\tiny] at (axis cs:0.9644034504890442, 1.0) {315};\n",
      "        \\draw[dotted, color=black] (axis cs:0.9644034504890442, 0) -- (axis cs:0.9644034504890442, 1.0);\n",
      "    \\end{axis}\n",
      "\\end{tikzpicture}\n",
      "dict_keys(['_step', '_wandb', '_runtime', '_timestamp', 'test_results'])\n",
      "mcd-4-p0.01\n",
      "sECE: -0.3665, ECE: 0.3665\n",
      "\\begin{tikzpicture}\n",
      "    \\begin{axis}[calstyle, xmin=0, xmax=1, ymin=0, ymax=1]\n",
      "        \\addplot[dashed, color=black] coordinates {(0,0) (1,1)};\n",
      "        \\addplot[calline] coordinates {(0.5483616590499878, 0.4879226982593536) (0.6493642926216125, 0.5315315127372742) (0.7518881559371948, 0.5169491767883301) (0.855316162109375, 0.5496688485145569) (0.960402250289917, 0.020477816462516785)};\n",
      "        \\node[above, anchor=south west, rotate=60, font=\\tiny] at (axis cs:0.5483616590499878, 1.0) {207};\n",
      "        \\draw[dotted, color=black] (axis cs:0.5483616590499878, 0.4879226982593536) -- (axis cs:0.5483616590499878, 1.0);\n",
      "        \\node[above, anchor=south west, rotate=60, font=\\tiny] at (axis cs:0.6493642926216125, 1.0) {222};\n",
      "        \\draw[dotted, color=black] (axis cs:0.6493642926216125, 0.5315315127372742) -- (axis cs:0.6493642926216125, 1.0);\n",
      "        \\node[above, anchor=south west, rotate=60, font=\\tiny] at (axis cs:0.7518881559371948, 1.0) {236};\n",
      "        \\draw[dotted, color=black] (axis cs:0.7518881559371948, 0.5169491767883301) -- (axis cs:0.7518881559371948, 1.0);\n",
      "        \\node[above, anchor=south west, rotate=60, font=\\tiny] at (axis cs:0.855316162109375, 1.0) {302};\n",
      "        \\draw[dotted, color=black] (axis cs:0.855316162109375, 0.5496688485145569) -- (axis cs:0.855316162109375, 1.0);\n",
      "        \\node[above, anchor=south west, rotate=60, font=\\tiny] at (axis cs:0.960402250289917, 1.0) {293};\n",
      "        \\draw[dotted, color=black] (axis cs:0.960402250289917, 0.020477816462516785) -- (axis cs:0.960402250289917, 1.0);\n",
      "    \\end{axis}\n",
      "\\end{tikzpicture}\n",
      "dict_keys(['_step', '_wandb', '_runtime', '_timestamp', 'test_results'])\n",
      "mcd-2-p0.01\n",
      "sECE: -0.4020, ECE: 0.4020\n",
      "\\begin{tikzpicture}\n",
      "    \\begin{axis}[calstyle, xmin=0, xmax=1, ymin=0, ymax=1]\n",
      "        \\addplot[dashed, color=black] coordinates {(0,0) (1,1)};\n",
      "        \\addplot[calline] coordinates {(0.5535313487052917, 0.45500001311302185) (0.6510547399520874, 0.5327510833740234) (0.7511506080627441, 0.4909909963607788) (0.8524749875068665, 0.5051546096801758) (0.9620734453201294, 0.015723271295428276)};\n",
      "        \\node[above, anchor=south west, rotate=60, font=\\tiny] at (axis cs:0.5535313487052917, 1.0) {200};\n",
      "        \\draw[dotted, color=black] (axis cs:0.5535313487052917, 0.45500001311302185) -- (axis cs:0.5535313487052917, 1.0);\n",
      "        \\node[above, anchor=south west, rotate=60, font=\\tiny] at (axis cs:0.6510547399520874, 1.0) {229};\n",
      "        \\draw[dotted, color=black] (axis cs:0.6510547399520874, 0.5327510833740234) -- (axis cs:0.6510547399520874, 1.0);\n",
      "        \\node[above, anchor=south west, rotate=60, font=\\tiny] at (axis cs:0.7511506080627441, 1.0) {222};\n",
      "        \\draw[dotted, color=black] (axis cs:0.7511506080627441, 0.4909909963607788) -- (axis cs:0.7511506080627441, 1.0);\n",
      "        \\node[above, anchor=south west, rotate=60, font=\\tiny] at (axis cs:0.8524749875068665, 1.0) {291};\n",
      "        \\draw[dotted, color=black] (axis cs:0.8524749875068665, 0.5051546096801758) -- (axis cs:0.8524749875068665, 1.0);\n",
      "        \\node[above, anchor=south west, rotate=60, font=\\tiny] at (axis cs:0.9620734453201294, 1.0) {318};\n",
      "        \\draw[dotted, color=black] (axis cs:0.9620734453201294, 0.015723271295428276) -- (axis cs:0.9620734453201294, 1.0);\n",
      "    \\end{axis}\n",
      "\\end{tikzpicture}\n",
      "dict_keys(['_step', '_wandb', '_runtime', '_timestamp', 'test_results'])\n",
      "mcd-1-p0.01\n",
      "sECE: -0.3818, ECE: 0.3818\n",
      "\\begin{tikzpicture}\n",
      "    \\begin{axis}[calstyle, xmin=0, xmax=1, ymin=0, ymax=1]\n",
      "        \\addplot[dashed, color=black] coordinates {(0,0) (1,1)};\n",
      "        \\addplot[calline] coordinates {(0.5525971055030823, 0.4729064106941223) (0.6521391868591309, 0.5258620977401733) (0.7508946657180786, 0.570135772228241) (0.8449910879135132, 0.5084174871444702) (0.9630144834518432, 0)};\n",
      "        \\node[above, anchor=south west, rotate=60, font=\\tiny] at (axis cs:0.5525971055030823, 1.0) {203};\n",
      "        \\draw[dotted, color=black] (axis cs:0.5525971055030823, 0.4729064106941223) -- (axis cs:0.5525971055030823, 1.0);\n",
      "        \\node[above, anchor=south west, rotate=60, font=\\tiny] at (axis cs:0.6521391868591309, 1.0) {232};\n",
      "        \\draw[dotted, color=black] (axis cs:0.6521391868591309, 0.5258620977401733) -- (axis cs:0.6521391868591309, 1.0);\n",
      "        \\node[above, anchor=south west, rotate=60, font=\\tiny] at (axis cs:0.7508946657180786, 1.0) {221};\n",
      "        \\draw[dotted, color=black] (axis cs:0.7508946657180786, 0.570135772228241) -- (axis cs:0.7508946657180786, 1.0);\n",
      "        \\node[above, anchor=south west, rotate=60, font=\\tiny] at (axis cs:0.8449910879135132, 1.0) {297};\n",
      "        \\draw[dotted, color=black] (axis cs:0.8449910879135132, 0.5084174871444702) -- (axis cs:0.8449910879135132, 1.0);\n",
      "        \\node[above, anchor=south west, rotate=60, font=\\tiny] at (axis cs:0.9630144834518432, 1.0) {307};\n",
      "        \\draw[dotted, color=black] (axis cs:0.9630144834518432, 0) -- (axis cs:0.9630144834518432, 1.0);\n",
      "    \\end{axis}\n",
      "\\end{tikzpicture}\n",
      "dict_keys(['_step', '_wandb', '_runtime', '_timestamp', 'test_results'])\n",
      "mcd-3-p0.01\n",
      "sECE: -0.3830, ECE: 0.3830\n",
      "\\begin{tikzpicture}\n",
      "    \\begin{axis}[calstyle, xmin=0, xmax=1, ymin=0, ymax=1]\n",
      "        \\addplot[dashed, color=black] coordinates {(0,0) (1,1)};\n",
      "        \\addplot[calline] coordinates {(0.5497366189956665, 0.522522509098053) (0.6514711380004883, 0.5132743120193481) (0.7487924695014954, 0.472573846578598) (0.8517814874649048, 0.4927007257938385) (0.9582607746124268, 0.02325581386685371)};\n",
      "        \\node[above, anchor=south west, rotate=60, font=\\tiny] at (axis cs:0.5497366189956665, 1.0) {222};\n",
      "        \\draw[dotted, color=black] (axis cs:0.5497366189956665, 0.522522509098053) -- (axis cs:0.5497366189956665, 1.0);\n",
      "        \\node[above, anchor=south west, rotate=60, font=\\tiny] at (axis cs:0.6514711380004883, 1.0) {226};\n",
      "        \\draw[dotted, color=black] (axis cs:0.6514711380004883, 0.5132743120193481) -- (axis cs:0.6514711380004883, 1.0);\n",
      "        \\node[above, anchor=south west, rotate=60, font=\\tiny] at (axis cs:0.7487924695014954, 1.0) {237};\n",
      "        \\draw[dotted, color=black] (axis cs:0.7487924695014954, 0.472573846578598) -- (axis cs:0.7487924695014954, 1.0);\n",
      "        \\node[above, anchor=south west, rotate=60, font=\\tiny] at (axis cs:0.8517814874649048, 1.0) {274};\n",
      "        \\draw[dotted, color=black] (axis cs:0.8517814874649048, 0.4927007257938385) -- (axis cs:0.8517814874649048, 1.0);\n",
      "        \\node[above, anchor=south west, rotate=60, font=\\tiny] at (axis cs:0.9582607746124268, 1.0) {301};\n",
      "        \\draw[dotted, color=black] (axis cs:0.9582607746124268, 0.02325581386685371) -- (axis cs:0.9582607746124268, 1.0);\n",
      "    \\end{axis}\n",
      "\\end{tikzpicture}\n",
      "dict_keys(['_step', '_wandb', '_runtime', '_timestamp', 'test_results'])\n",
      "mcd-4-p0.05\n",
      "sECE: -0.3856, ECE: 0.3856\n",
      "\\begin{tikzpicture}\n",
      "    \\begin{axis}[calstyle, xmin=0, xmax=1, ymin=0, ymax=1]\n",
      "        \\addplot[dashed, color=black] coordinates {(0,0) (1,1)};\n",
      "        \\addplot[calline] coordinates {(0.5499774813652039, 0.46721312403678894) (0.6499543190002441, 0.5236051678657532) (0.7507904171943665, 0.4858299493789673) (0.8511826395988464, 0.40942028164863586) (0.9570900797843932, 0)};\n",
      "        \\node[above, anchor=south west, rotate=60, font=\\tiny] at (axis cs:0.5499774813652039, 1.0) {244};\n",
      "        \\draw[dotted, color=black] (axis cs:0.5499774813652039, 0.46721312403678894) -- (axis cs:0.5499774813652039, 1.0);\n",
      "        \\node[above, anchor=south west, rotate=60, font=\\tiny] at (axis cs:0.6499543190002441, 1.0) {233};\n",
      "        \\draw[dotted, color=black] (axis cs:0.6499543190002441, 0.5236051678657532) -- (axis cs:0.6499543190002441, 1.0);\n",
      "        \\node[above, anchor=south west, rotate=60, font=\\tiny] at (axis cs:0.7507904171943665, 1.0) {247};\n",
      "        \\draw[dotted, color=black] (axis cs:0.7507904171943665, 0.4858299493789673) -- (axis cs:0.7507904171943665, 1.0);\n",
      "        \\node[above, anchor=south west, rotate=60, font=\\tiny] at (axis cs:0.8511826395988464, 1.0) {276};\n",
      "        \\draw[dotted, color=black] (axis cs:0.8511826395988464, 0.40942028164863586) -- (axis cs:0.8511826395988464, 1.0);\n",
      "        \\node[above, anchor=south west, rotate=60, font=\\tiny] at (axis cs:0.9570900797843932, 1.0) {260};\n",
      "        \\draw[dotted, color=black] (axis cs:0.9570900797843932, 0) -- (axis cs:0.9570900797843932, 1.0);\n",
      "    \\end{axis}\n",
      "\\end{tikzpicture}\n",
      "dict_keys(['_step', '_wandb', '_runtime', '_timestamp', 'test_results'])\n",
      "mcd-0-p0.01\n",
      "sECE: -0.3344, ECE: 0.3344\n",
      "\\begin{tikzpicture}\n",
      "    \\begin{axis}[calstyle, xmin=0, xmax=1, ymin=0, ymax=1]\n",
      "        \\addplot[dashed, color=black] coordinates {(0,0) (1,1)};\n",
      "        \\addplot[calline] coordinates {(0.551584780216217, 0.4742268025875091) (0.6535962820053101, 0.4680851101875305) (0.7532462477684021, 0.5478261113166809) (0.8511512279510498, 0.4887218177318573) (0.9523079991340636, 0)};\n",
      "        \\node[above, anchor=south west, rotate=60, font=\\tiny] at (axis cs:0.551584780216217, 1.0) {97};\n",
      "        \\draw[dotted, color=black] (axis cs:0.551584780216217, 0.4742268025875091) -- (axis cs:0.551584780216217, 1.0);\n",
      "        \\node[above, anchor=south west, rotate=60, font=\\tiny] at (axis cs:0.6535962820053101, 1.0) {94};\n",
      "        \\draw[dotted, color=black] (axis cs:0.6535962820053101, 0.4680851101875305) -- (axis cs:0.6535962820053101, 1.0);\n",
      "        \\node[above, anchor=south west, rotate=60, font=\\tiny] at (axis cs:0.7532462477684021, 1.0) {115};\n",
      "        \\draw[dotted, color=black] (axis cs:0.7532462477684021, 0.5478261113166809) -- (axis cs:0.7532462477684021, 1.0);\n",
      "        \\node[above, anchor=south west, rotate=60, font=\\tiny] at (axis cs:0.8511512279510498, 1.0) {133};\n",
      "        \\draw[dotted, color=black] (axis cs:0.8511512279510498, 0.4887218177318573) -- (axis cs:0.8511512279510498, 1.0);\n",
      "        \\node[above, anchor=south west, rotate=60, font=\\tiny] at (axis cs:0.9523079991340636, 1.0) {81};\n",
      "        \\draw[dotted, color=black] (axis cs:0.9523079991340636, 0) -- (axis cs:0.9523079991340636, 1.0);\n",
      "    \\end{axis}\n",
      "\\end{tikzpicture}\n",
      "dict_keys(['test_results', '_step', '_wandb', '_runtime', '_timestamp'])\n",
      "mcd-3-p0.05\n",
      "sECE: -0.4110, ECE: 0.4110\n",
      "\\begin{tikzpicture}\n",
      "    \\begin{axis}[calstyle, xmin=0, xmax=1, ymin=0, ymax=1]\n",
      "        \\addplot[dashed, color=black] coordinates {(0,0) (1,1)};\n",
      "        \\addplot[calline] coordinates {(0.5453180074691772, 0.48458150029182434) (0.6486533284187317, 0.49609375) (0.7509206533432007, 0.4129554629325866) (0.8486216068267822, 0.3870967626571655) (0.954255223274231, 0.007092198356986046)};\n",
      "        \\node[above, anchor=south west, rotate=60, font=\\tiny] at (axis cs:0.5453180074691772, 1.0) {227};\n",
      "        \\draw[dotted, color=black] (axis cs:0.5453180074691772, 0.48458150029182434) -- (axis cs:0.5453180074691772, 1.0);\n",
      "        \\node[above, anchor=south west, rotate=60, font=\\tiny] at (axis cs:0.6486533284187317, 1.0) {256};\n",
      "        \\draw[dotted, color=black] (axis cs:0.6486533284187317, 0.49609375) -- (axis cs:0.6486533284187317, 1.0);\n",
      "        \\node[above, anchor=south west, rotate=60, font=\\tiny] at (axis cs:0.7509206533432007, 1.0) {247};\n",
      "        \\draw[dotted, color=black] (axis cs:0.7509206533432007, 0.4129554629325866) -- (axis cs:0.7509206533432007, 1.0);\n",
      "        \\node[above, anchor=south west, rotate=60, font=\\tiny] at (axis cs:0.8486216068267822, 1.0) {248};\n",
      "        \\draw[dotted, color=black] (axis cs:0.8486216068267822, 0.3870967626571655) -- (axis cs:0.8486216068267822, 1.0);\n",
      "        \\node[above, anchor=south west, rotate=60, font=\\tiny] at (axis cs:0.954255223274231, 1.0) {282};\n",
      "        \\draw[dotted, color=black] (axis cs:0.954255223274231, 0.007092198356986046) -- (axis cs:0.954255223274231, 1.0);\n",
      "    \\end{axis}\n",
      "\\end{tikzpicture}\n",
      "dict_keys(['_timestamp', 'test_results', '_step', '_wandb', '_runtime'])\n",
      "mcd-2-p0.05\n",
      "sECE: -0.4234, ECE: 0.4234\n",
      "\\begin{tikzpicture}\n",
      "    \\begin{axis}[calstyle, xmin=0, xmax=1, ymin=0, ymax=1]\n",
      "        \\addplot[dashed, color=black] coordinates {(0,0) (1,1)};\n",
      "        \\addplot[calline] coordinates {(0.5540770292282104, 0.4951923191547394) (0.6490532755851746, 0.4942965805530548) (0.7503746747970581, 0.4557522237300873) (0.8466085195541382, 0.3598484992980957) (0.9580678343772888, 0.0033444815780967474)};\n",
      "        \\node[above, anchor=south west, rotate=60, font=\\tiny] at (axis cs:0.5540770292282104, 1.0) {208};\n",
      "        \\draw[dotted, color=black] (axis cs:0.5540770292282104, 0.4951923191547394) -- (axis cs:0.5540770292282104, 1.0);\n",
      "        \\node[above, anchor=south west, rotate=60, font=\\tiny] at (axis cs:0.6490532755851746, 1.0) {263};\n",
      "        \\draw[dotted, color=black] (axis cs:0.6490532755851746, 0.4942965805530548) -- (axis cs:0.6490532755851746, 1.0);\n",
      "        \\node[above, anchor=south west, rotate=60, font=\\tiny] at (axis cs:0.7503746747970581, 1.0) {226};\n",
      "        \\draw[dotted, color=black] (axis cs:0.7503746747970581, 0.4557522237300873) -- (axis cs:0.7503746747970581, 1.0);\n",
      "        \\node[above, anchor=south west, rotate=60, font=\\tiny] at (axis cs:0.8466085195541382, 1.0) {264};\n",
      "        \\draw[dotted, color=black] (axis cs:0.8466085195541382, 0.3598484992980957) -- (axis cs:0.8466085195541382, 1.0);\n",
      "        \\node[above, anchor=south west, rotate=60, font=\\tiny] at (axis cs:0.9580678343772888, 1.0) {299};\n",
      "        \\draw[dotted, color=black] (axis cs:0.9580678343772888, 0.0033444815780967474) -- (axis cs:0.9580678343772888, 1.0);\n",
      "    \\end{axis}\n",
      "\\end{tikzpicture}\n",
      "dict_keys(['_step', '_wandb', '_runtime', '_timestamp', 'test_results'])\n",
      "mcd-1-p0.05\n",
      "sECE: -0.3913, ECE: 0.3913\n",
      "\\begin{tikzpicture}\n",
      "    \\begin{axis}[calstyle, xmin=0, xmax=1, ymin=0, ymax=1]\n",
      "        \\addplot[dashed, color=black] coordinates {(0,0) (1,1)};\n",
      "        \\addplot[calline] coordinates {(0.5526720285415649, 0.4838709533214569) (0.6509300470352173, 0.5150375962257385) (0.7505564093589783, 0.5064377784729004) (0.8433526754379272, 0.3860294222831726) (0.9585072994232178, 0)};\n",
      "        \\node[above, anchor=south west, rotate=60, font=\\tiny] at (axis cs:0.5526720285415649, 1.0) {217};\n",
      "        \\draw[dotted, color=black] (axis cs:0.5526720285415649, 0.4838709533214569) -- (axis cs:0.5526720285415649, 1.0);\n",
      "        \\node[above, anchor=south west, rotate=60, font=\\tiny] at (axis cs:0.6509300470352173, 1.0) {266};\n",
      "        \\draw[dotted, color=black] (axis cs:0.6509300470352173, 0.5150375962257385) -- (axis cs:0.6509300470352173, 1.0);\n",
      "        \\node[above, anchor=south west, rotate=60, font=\\tiny] at (axis cs:0.7505564093589783, 1.0) {233};\n",
      "        \\draw[dotted, color=black] (axis cs:0.7505564093589783, 0.5064377784729004) -- (axis cs:0.7505564093589783, 1.0);\n",
      "        \\node[above, anchor=south west, rotate=60, font=\\tiny] at (axis cs:0.8433526754379272, 1.0) {272};\n",
      "        \\draw[dotted, color=black] (axis cs:0.8433526754379272, 0.3860294222831726) -- (axis cs:0.8433526754379272, 1.0);\n",
      "        \\node[above, anchor=south west, rotate=60, font=\\tiny] at (axis cs:0.9585072994232178, 1.0) {272};\n",
      "        \\draw[dotted, color=black] (axis cs:0.9585072994232178, 0) -- (axis cs:0.9585072994232178, 1.0);\n",
      "    \\end{axis}\n",
      "\\end{tikzpicture}\n",
      "dict_keys(['_step', '_wandb', '_runtime', '_timestamp', 'test_results'])\n",
      "mcd-0-p0.05\n",
      "sECE: -0.3542, ECE: 0.3542\n",
      "\\begin{tikzpicture}\n",
      "    \\begin{axis}[calstyle, xmin=0, xmax=1, ymin=0, ymax=1]\n",
      "        \\addplot[dashed, color=black] coordinates {(0,0) (1,1)};\n",
      "        \\addplot[calline] coordinates {(0.5510159134864807, 0.498113214969635) (0.6495243310928345, 0.5514403581619263) (0.7480220794677734, 0.4769230782985687) (0.8454006314277649, 0.39615383744239807) (0.9532654881477356, 0)};\n",
      "        \\node[above, anchor=south west, rotate=60, font=\\tiny] at (axis cs:0.5510159134864807, 1.0) {265};\n",
      "        \\draw[dotted, color=black] (axis cs:0.5510159134864807, 0.498113214969635) -- (axis cs:0.5510159134864807, 1.0);\n",
      "        \\node[above, anchor=south west, rotate=60, font=\\tiny] at (axis cs:0.6495243310928345, 1.0) {243};\n",
      "        \\draw[dotted, color=black] (axis cs:0.6495243310928345, 0.5514403581619263) -- (axis cs:0.6495243310928345, 1.0);\n",
      "        \\node[above, anchor=south west, rotate=60, font=\\tiny] at (axis cs:0.7480220794677734, 1.0) {260};\n",
      "        \\draw[dotted, color=black] (axis cs:0.7480220794677734, 0.4769230782985687) -- (axis cs:0.7480220794677734, 1.0);\n",
      "        \\node[above, anchor=south west, rotate=60, font=\\tiny] at (axis cs:0.8454006314277649, 1.0) {260};\n",
      "        \\draw[dotted, color=black] (axis cs:0.8454006314277649, 0.39615383744239807) -- (axis cs:0.8454006314277649, 1.0);\n",
      "        \\node[above, anchor=south west, rotate=60, font=\\tiny] at (axis cs:0.9532654881477356, 1.0) {232};\n",
      "        \\draw[dotted, color=black] (axis cs:0.9532654881477356, 0) -- (axis cs:0.9532654881477356, 1.0);\n",
      "    \\end{axis}\n",
      "\\end{tikzpicture}\n",
      "dict_keys(['_step', '_wandb', '_runtime', '_timestamp', 'test_results'])\n",
      "mcd-4-p0.1\n",
      "sECE: -0.4115, ECE: 0.4115\n",
      "\\begin{tikzpicture}\n",
      "    \\begin{axis}[calstyle, xmin=0, xmax=1, ymin=0, ymax=1]\n",
      "        \\addplot[dashed, color=black] coordinates {(0,0) (1,1)};\n",
      "        \\addplot[calline] coordinates {(0.5501196384429932, 0.5) (0.650049090385437, 0.46183204650878906) (0.7505931854248047, 0.41444867849349976) (0.849571168422699, 0.21888412535190585) (0.949304223060608, 0)};\n",
      "        \\node[above, anchor=south west, rotate=60, font=\\tiny] at (axis cs:0.5501196384429932, 1.0) {270};\n",
      "        \\draw[dotted, color=black] (axis cs:0.5501196384429932, 0.5) -- (axis cs:0.5501196384429932, 1.0);\n",
      "        \\node[above, anchor=south west, rotate=60, font=\\tiny] at (axis cs:0.650049090385437, 1.0) {262};\n",
      "        \\draw[dotted, color=black] (axis cs:0.650049090385437, 0.46183204650878906) -- (axis cs:0.650049090385437, 1.0);\n",
      "        \\node[above, anchor=south west, rotate=60, font=\\tiny] at (axis cs:0.7505931854248047, 1.0) {263};\n",
      "        \\draw[dotted, color=black] (axis cs:0.7505931854248047, 0.41444867849349976) -- (axis cs:0.7505931854248047, 1.0);\n",
      "        \\node[above, anchor=south west, rotate=60, font=\\tiny] at (axis cs:0.849571168422699, 1.0) {233};\n",
      "        \\draw[dotted, color=black] (axis cs:0.849571168422699, 0.21888412535190585) -- (axis cs:0.849571168422699, 1.0);\n",
      "        \\node[above, anchor=south west, rotate=60, font=\\tiny] at (axis cs:0.949304223060608, 1.0) {232};\n",
      "        \\draw[dotted, color=black] (axis cs:0.949304223060608, 0) -- (axis cs:0.949304223060608, 1.0);\n",
      "    \\end{axis}\n",
      "\\end{tikzpicture}\n",
      "dict_keys(['test_results', '_step', '_wandb', '_runtime', '_timestamp'])\n",
      "mcd-3-p0.1\n",
      "sECE: -0.4483, ECE: 0.4483\n",
      "\\begin{tikzpicture}\n",
      "    \\begin{axis}[calstyle, xmin=0, xmax=1, ymin=0, ymax=1]\n",
      "        \\addplot[dashed, color=black] coordinates {(0,0) (1,1)};\n",
      "        \\addplot[calline] coordinates {(0.5527202486991882, 0.45985400676727295) (0.6525269746780396, 0.42971888184547424) (0.7506974935531616, 0.3846153914928436) (0.843090295791626, 0.21810699999332428) (0.9476615786552428, 0)};\n",
      "        \\node[above, anchor=south west, rotate=60, font=\\tiny] at (axis cs:0.5527202486991882, 1.0) {274};\n",
      "        \\draw[dotted, color=black] (axis cs:0.5527202486991882, 0.45985400676727295) -- (axis cs:0.5527202486991882, 1.0);\n",
      "        \\node[above, anchor=south west, rotate=60, font=\\tiny] at (axis cs:0.6525269746780396, 1.0) {249};\n",
      "        \\draw[dotted, color=black] (axis cs:0.6525269746780396, 0.42971888184547424) -- (axis cs:0.6525269746780396, 1.0);\n",
      "        \\node[above, anchor=south west, rotate=60, font=\\tiny] at (axis cs:0.7506974935531616, 1.0) {234};\n",
      "        \\draw[dotted, color=black] (axis cs:0.7506974935531616, 0.3846153914928436) -- (axis cs:0.7506974935531616, 1.0);\n",
      "        \\node[above, anchor=south west, rotate=60, font=\\tiny] at (axis cs:0.843090295791626, 1.0) {243};\n",
      "        \\draw[dotted, color=black] (axis cs:0.843090295791626, 0.21810699999332428) -- (axis cs:0.843090295791626, 1.0);\n",
      "        \\node[above, anchor=south west, rotate=60, font=\\tiny] at (axis cs:0.9476615786552428, 1.0) {260};\n",
      "        \\draw[dotted, color=black] (axis cs:0.9476615786552428, 0) -- (axis cs:0.9476615786552428, 1.0);\n",
      "    \\end{axis}\n",
      "\\end{tikzpicture}\n",
      "dict_keys(['_timestamp', 'test_results', '_step', '_wandb', '_runtime'])\n",
      "mcd-2-p0.1\n",
      "sECE: -0.4499, ECE: 0.4499\n",
      "\\begin{tikzpicture}\n",
      "    \\begin{axis}[calstyle, xmin=0, xmax=1, ymin=0, ymax=1]\n",
      "        \\addplot[dashed, color=black] coordinates {(0,0) (1,1)};\n",
      "        \\addplot[calline] coordinates {(0.5523247718811035, 0.548638105392456) (0.6475561857223511, 0.4273858964443207) (0.749813973903656, 0.3984063863754273) (0.8470552563667297, 0.15948276221752167) (0.9502939581871032, 0)};\n",
      "        \\node[above, anchor=south west, rotate=60, font=\\tiny] at (axis cs:0.5523247718811035, 1.0) {257};\n",
      "        \\draw[dotted, color=black] (axis cs:0.5523247718811035, 0.548638105392456) -- (axis cs:0.5523247718811035, 1.0);\n",
      "        \\node[above, anchor=south west, rotate=60, font=\\tiny] at (axis cs:0.6475561857223511, 1.0) {241};\n",
      "        \\draw[dotted, color=black] (axis cs:0.6475561857223511, 0.4273858964443207) -- (axis cs:0.6475561857223511, 1.0);\n",
      "        \\node[above, anchor=south west, rotate=60, font=\\tiny] at (axis cs:0.749813973903656, 1.0) {251};\n",
      "        \\draw[dotted, color=black] (axis cs:0.749813973903656, 0.3984063863754273) -- (axis cs:0.749813973903656, 1.0);\n",
      "        \\node[above, anchor=south west, rotate=60, font=\\tiny] at (axis cs:0.8470552563667297, 1.0) {232};\n",
      "        \\draw[dotted, color=black] (axis cs:0.8470552563667297, 0.15948276221752167) -- (axis cs:0.8470552563667297, 1.0);\n",
      "        \\node[above, anchor=south west, rotate=60, font=\\tiny] at (axis cs:0.9502939581871032, 1.0) {279};\n",
      "        \\draw[dotted, color=black] (axis cs:0.9502939581871032, 0) -- (axis cs:0.9502939581871032, 1.0);\n",
      "    \\end{axis}\n",
      "\\end{tikzpicture}\n",
      "dict_keys(['_wandb', '_runtime', '_timestamp', 'test_results', '_step'])\n",
      "mcd-1-p0.1\n",
      "sECE: -0.4005, ECE: 0.4005\n",
      "\\begin{tikzpicture}\n",
      "    \\begin{axis}[calstyle, xmin=0, xmax=1, ymin=0, ymax=1]\n",
      "        \\addplot[dashed, color=black] coordinates {(0,0) (1,1)};\n",
      "        \\addplot[calline] coordinates {(0.5509188771247864, 0.5396825671195984) (0.6503376364707947, 0.4510489404201507) (0.7508339881896973, 0.46721312403678894) (0.8451231718063354, 0.21370968222618103) (0.9521657824516296, 0)};\n",
      "        \\node[above, anchor=south west, rotate=60, font=\\tiny] at (axis cs:0.5509188771247864, 1.0) {252};\n",
      "        \\draw[dotted, color=black] (axis cs:0.5509188771247864, 0.5396825671195984) -- (axis cs:0.5509188771247864, 1.0);\n",
      "        \\node[above, anchor=south west, rotate=60, font=\\tiny] at (axis cs:0.6503376364707947, 1.0) {286};\n",
      "        \\draw[dotted, color=black] (axis cs:0.6503376364707947, 0.4510489404201507) -- (axis cs:0.6503376364707947, 1.0);\n",
      "        \\node[above, anchor=south west, rotate=60, font=\\tiny] at (axis cs:0.7508339881896973, 1.0) {244};\n",
      "        \\draw[dotted, color=black] (axis cs:0.7508339881896973, 0.46721312403678894) -- (axis cs:0.7508339881896973, 1.0);\n",
      "        \\node[above, anchor=south west, rotate=60, font=\\tiny] at (axis cs:0.8451231718063354, 1.0) {248};\n",
      "        \\draw[dotted, color=black] (axis cs:0.8451231718063354, 0.21370968222618103) -- (axis cs:0.8451231718063354, 1.0);\n",
      "        \\node[above, anchor=south west, rotate=60, font=\\tiny] at (axis cs:0.9521657824516296, 1.0) {230};\n",
      "        \\draw[dotted, color=black] (axis cs:0.9521657824516296, 0) -- (axis cs:0.9521657824516296, 1.0);\n",
      "    \\end{axis}\n",
      "\\end{tikzpicture}\n",
      "dict_keys(['_step', '_wandb', '_runtime', '_timestamp', 'test_results'])\n",
      "mcd-0-p0.1\n",
      "sECE: -0.3808, ECE: 0.3808\n",
      "\\begin{tikzpicture}\n",
      "    \\begin{axis}[calstyle, xmin=0, xmax=1, ymin=0, ymax=1]\n",
      "        \\addplot[dashed, color=black] coordinates {(0,0) (1,1)};\n",
      "        \\addplot[calline] coordinates {(0.5513551831245422, 0.4763513505458832) (0.649634838104248, 0.5074626803398132) (0.7495256662368774, 0.4150943458080292) (0.8451272249221802, 0.2236286848783493) (0.9463539719581604, 0)};\n",
      "        \\node[above, anchor=south west, rotate=60, font=\\tiny] at (axis cs:0.5513551831245422, 1.0) {296};\n",
      "        \\draw[dotted, color=black] (axis cs:0.5513551831245422, 0.4763513505458832) -- (axis cs:0.5513551831245422, 1.0);\n",
      "        \\node[above, anchor=south west, rotate=60, font=\\tiny] at (axis cs:0.649634838104248, 1.0) {268};\n",
      "        \\draw[dotted, color=black] (axis cs:0.649634838104248, 0.5074626803398132) -- (axis cs:0.649634838104248, 1.0);\n",
      "        \\node[above, anchor=south west, rotate=60, font=\\tiny] at (axis cs:0.7495256662368774, 1.0) {265};\n",
      "        \\draw[dotted, color=black] (axis cs:0.7495256662368774, 0.4150943458080292) -- (axis cs:0.7495256662368774, 1.0);\n",
      "        \\node[above, anchor=south west, rotate=60, font=\\tiny] at (axis cs:0.8451272249221802, 1.0) {237};\n",
      "        \\draw[dotted, color=black] (axis cs:0.8451272249221802, 0.2236286848783493) -- (axis cs:0.8451272249221802, 1.0);\n",
      "        \\node[above, anchor=south west, rotate=60, font=\\tiny] at (axis cs:0.9463539719581604, 1.0) {194};\n",
      "        \\draw[dotted, color=black] (axis cs:0.9463539719581604, 0) -- (axis cs:0.9463539719581604, 1.0);\n",
      "    \\end{axis}\n",
      "\\end{tikzpicture}\n",
      "dict_keys(['black-toxic', 'lgbtq-non-toxic', 'christian-non-toxic', 'worst group accuracy', '_step', '_runtime', '_timestamp', 'white-toxic', 'female-toxic', 'male-non-toxic', 'female-non-toxic', 'other_religion-non-toxic', 'all-toxic', 'train_loss', 'muslim-toxic', 'test_results', 'black-non-toxic', 'christian-toxic', 'muslim-non-toxic', 'all', '_wandb', 'male-toxic', 'lgbtq-toxic', 'all-non-toxic', 'white-non-toxic', 'other_religion-toxic'])\n",
      "swag-4\n",
      "sECE: -0.1365, ECE: 0.1365\n",
      "\\begin{tikzpicture}\n",
      "    \\begin{axis}[calstyle, xmin=0, xmax=1, ymin=0, ymax=1]\n",
      "        \\addplot[dashed, color=black] coordinates {(0,0) (1,1)};\n",
      "        \\addplot[calline] coordinates {(0.5425041317939758, 0.5308123230934143) (0.644021213054657, 0.4915824830532074) (0.7432166337966919, 0.42592594027519226) (0.8438049554824829, 0.11594203114509584) (0.931151270866394, 0)};\n",
      "        \\node[above, anchor=south west, rotate=60, font=\\tiny] at (axis cs:0.5425041317939758, 1.0) {714};\n",
      "        \\draw[dotted, color=black] (axis cs:0.5425041317939758, 0.5308123230934143) -- (axis cs:0.5425041317939758, 1.0);\n",
      "        \\node[above, anchor=south west, rotate=60, font=\\tiny] at (axis cs:0.644021213054657, 1.0) {297};\n",
      "        \\draw[dotted, color=black] (axis cs:0.644021213054657, 0.4915824830532074) -- (axis cs:0.644021213054657, 1.0);\n",
      "        \\node[above, anchor=south west, rotate=60, font=\\tiny] at (axis cs:0.7432166337966919, 1.0) {162};\n",
      "        \\draw[dotted, color=black] (axis cs:0.7432166337966919, 0.42592594027519226) -- (axis cs:0.7432166337966919, 1.0);\n",
      "        \\node[above, anchor=south west, rotate=60, font=\\tiny] at (axis cs:0.8438049554824829, 1.0) {69};\n",
      "        \\draw[dotted, color=black] (axis cs:0.8438049554824829, 0.11594203114509584) -- (axis cs:0.8438049554824829, 1.0);\n",
      "        \\node[above, anchor=south west, rotate=60, font=\\tiny] at (axis cs:0.931151270866394, 1.0) {18};\n",
      "        \\draw[dotted, color=black] (axis cs:0.931151270866394, 0) -- (axis cs:0.931151270866394, 1.0);\n",
      "    \\end{axis}\n",
      "\\end{tikzpicture}\n",
      "dict_keys(['black-toxic', 'test_results', 'all-non-toxic', 'christian-toxic', 'muslim-non-toxic', 'other_religion-non-toxic', '_wandb', 'train_loss', 'all-toxic', 'white-toxic', 'muslim-toxic', 'worst group accuracy', 'all', '_runtime', 'female-toxic', 'lgbtq-non-toxic', 'white-non-toxic', 'christian-non-toxic', '_step', '_timestamp', 'male-non-toxic', 'black-non-toxic', 'female-non-toxic', 'other_religion-toxic', 'male-toxic', 'lgbtq-toxic'])\n",
      "swag-2\n",
      "sECE: -0.1957, ECE: 0.1957\n",
      "\\begin{tikzpicture}\n",
      "    \\begin{axis}[calstyle, xmin=0, xmax=1, ymin=0, ymax=1]\n",
      "        \\addplot[dashed, color=black] coordinates {(0,0) (1,1)};\n",
      "        \\addplot[calline] coordinates {(0.5473149418830872, 0.4717285931110382) (0.6462699174880981, 0.4909090995788574) (0.7460477948188782, 0.4278350472450256) (0.842033863067627, 0.15217390656471252) (0.93255215883255, 0)};\n",
      "        \\node[above, anchor=south west, rotate=60, font=\\tiny] at (axis cs:0.5473149418830872, 1.0) {619};\n",
      "        \\draw[dotted, color=black] (axis cs:0.5473149418830872, 0.4717285931110382) -- (axis cs:0.5473149418830872, 1.0);\n",
      "        \\node[above, anchor=south west, rotate=60, font=\\tiny] at (axis cs:0.6462699174880981, 1.0) {330};\n",
      "        \\draw[dotted, color=black] (axis cs:0.6462699174880981, 0.4909090995788574) -- (axis cs:0.6462699174880981, 1.0);\n",
      "        \\node[above, anchor=south west, rotate=60, font=\\tiny] at (axis cs:0.7460477948188782, 1.0) {194};\n",
      "        \\draw[dotted, color=black] (axis cs:0.7460477948188782, 0.4278350472450256) -- (axis cs:0.7460477948188782, 1.0);\n",
      "        \\node[above, anchor=south west, rotate=60, font=\\tiny] at (axis cs:0.842033863067627, 1.0) {92};\n",
      "        \\draw[dotted, color=black] (axis cs:0.842033863067627, 0.15217390656471252) -- (axis cs:0.842033863067627, 1.0);\n",
      "        \\node[above, anchor=south west, rotate=60, font=\\tiny] at (axis cs:0.93255215883255, 1.0) {25};\n",
      "        \\draw[dotted, color=black] (axis cs:0.93255215883255, 0) -- (axis cs:0.93255215883255, 1.0);\n",
      "    \\end{axis}\n",
      "\\end{tikzpicture}\n",
      "dict_keys(['white-non-toxic', 'worst group accuracy', 'all', '_runtime', 'female-toxic', 'black-non-toxic', 'christian-toxic', 'all-toxic', 'white-toxic', 'christian-non-toxic', 'male-non-toxic', 'lgbtq-non-toxic', 'female-non-toxic', '_step', 'train_loss', 'lgbtq-toxic', 'muslim-toxic', 'test_results', 'muslim-non-toxic', 'other_religion-toxic', 'other_religion-non-toxic', '_wandb', '_timestamp', 'male-toxic', 'black-toxic', 'all-non-toxic'])\n",
      "swag-3\n",
      "sECE: -0.2162, ECE: 0.2162\n",
      "\\begin{tikzpicture}\n",
      "    \\begin{axis}[calstyle, xmin=0, xmax=1, ymin=0, ymax=1]\n",
      "        \\addplot[dashed, color=black] coordinates {(0,0) (1,1)};\n",
      "        \\addplot[calline] coordinates {(0.5433648228645325, 0.44680851697921753) (0.6467999815940857, 0.4393939375877381) (0.7458038926124573, 0.39896371960639954) (0.8438979983329773, 0.27358490228652954) (0.9314621686935424, 0.05000000074505806)};\n",
      "        \\node[above, anchor=south west, rotate=60, font=\\tiny] at (axis cs:0.5433648228645325, 1.0) {611};\n",
      "        \\draw[dotted, color=black] (axis cs:0.5433648228645325, 0.44680851697921753) -- (axis cs:0.5433648228645325, 1.0);\n",
      "        \\node[above, anchor=south west, rotate=60, font=\\tiny] at (axis cs:0.6467999815940857, 1.0) {330};\n",
      "        \\draw[dotted, color=black] (axis cs:0.6467999815940857, 0.4393939375877381) -- (axis cs:0.6467999815940857, 1.0);\n",
      "        \\node[above, anchor=south west, rotate=60, font=\\tiny] at (axis cs:0.7458038926124573, 1.0) {193};\n",
      "        \\draw[dotted, color=black] (axis cs:0.7458038926124573, 0.39896371960639954) -- (axis cs:0.7458038926124573, 1.0);\n",
      "        \\node[above, anchor=south west, rotate=60, font=\\tiny] at (axis cs:0.8438979983329773, 1.0) {106};\n",
      "        \\draw[dotted, color=black] (axis cs:0.8438979983329773, 0.27358490228652954) -- (axis cs:0.8438979983329773, 1.0);\n",
      "        \\node[above, anchor=south west, rotate=60, font=\\tiny] at (axis cs:0.9314621686935424, 1.0) {20};\n",
      "        \\draw[dotted, color=black] (axis cs:0.9314621686935424, 0.05000000074505806) -- (axis cs:0.9314621686935424, 1.0);\n",
      "    \\end{axis}\n",
      "\\end{tikzpicture}\n",
      "dict_keys(['_timestamp', 'train_loss', 'test_results', 'lgbtq-non-toxic', '_step', '_wandb', 'female-toxic', 'muslim-toxic', 'all-non-toxic', 'black-non-toxic', 'female-non-toxic', 'christian-non-toxic', 'all', '_runtime', 'other_religion-non-toxic', 'white-toxic', 'christian-toxic', 'muslim-non-toxic', 'worst group accuracy', 'all-toxic', 'lgbtq-toxic', 'male-non-toxic', 'white-non-toxic', 'other_religion-toxic', 'male-toxic', 'black-toxic'])\n",
      "swag-1\n",
      "sECE: -0.1781, ECE: 0.1781\n",
      "\\begin{tikzpicture}\n",
      "    \\begin{axis}[calstyle, xmin=0, xmax=1, ymin=0, ymax=1]\n",
      "        \\addplot[dashed, color=black] coordinates {(0,0) (1,1)};\n",
      "        \\addplot[calline] coordinates {(0.5438836216926575, 0.5435114502906799) (0.6449482440948486, 0.47096773982048035) (0.7418675422668457, 0.27419355511665344) (0.8437159657478333, 0.10752688348293304) (0.9266550540924072, 0)};\n",
      "        \\node[above, anchor=south west, rotate=60, font=\\tiny] at (axis cs:0.5438836216926575, 1.0) {655};\n",
      "        \\draw[dotted, color=black] (axis cs:0.5438836216926575, 0.5435114502906799) -- (axis cs:0.5438836216926575, 1.0);\n",
      "        \\node[above, anchor=south west, rotate=60, font=\\tiny] at (axis cs:0.6449482440948486, 1.0) {310};\n",
      "        \\draw[dotted, color=black] (axis cs:0.6449482440948486, 0.47096773982048035) -- (axis cs:0.6449482440948486, 1.0);\n",
      "        \\node[above, anchor=south west, rotate=60, font=\\tiny] at (axis cs:0.7418675422668457, 1.0) {186};\n",
      "        \\draw[dotted, color=black] (axis cs:0.7418675422668457, 0.27419355511665344) -- (axis cs:0.7418675422668457, 1.0);\n",
      "        \\node[above, anchor=south west, rotate=60, font=\\tiny] at (axis cs:0.8437159657478333, 1.0) {93};\n",
      "        \\draw[dotted, color=black] (axis cs:0.8437159657478333, 0.10752688348293304) -- (axis cs:0.8437159657478333, 1.0);\n",
      "        \\node[above, anchor=south west, rotate=60, font=\\tiny] at (axis cs:0.9266550540924072, 1.0) {16};\n",
      "        \\draw[dotted, color=black] (axis cs:0.9266550540924072, 0) -- (axis cs:0.9266550540924072, 1.0);\n",
      "    \\end{axis}\n",
      "\\end{tikzpicture}\n",
      "dict_keys(['christian-non-toxic', 'other_religion-toxic', 'black-toxic', 'female-toxic', 'muslim-toxic', 'all-non-toxic', 'male-non-toxic', 'female-non-toxic', 'other_religion-non-toxic', '_wandb', 'all-toxic', 'white-toxic', 'test_results', 'black-non-toxic', 'muslim-non-toxic', 'worst group accuracy', '_runtime', 'train_loss', 'lgbtq-toxic', 'christian-toxic', 'lgbtq-non-toxic', 'white-non-toxic', 'all', '_step', '_timestamp', 'male-toxic'])\n",
      "swag-0\n",
      "sECE: -0.1916, ECE: 0.2596\n",
      "\\begin{tikzpicture}\n",
      "    \\begin{axis}[calstyle, xmin=0, xmax=1, ymin=0, ymax=1]\n",
      "        \\addplot[dashed, color=black] coordinates {(0,0) (1,1)};\n",
      "        \\addplot[calline] coordinates {(0.548906683921814, 0.6275229454040527) (0.6436800956726074, 0.5403726696968079) (0.7447587251663208, 0.276699036359787) (0.8475072383880615, 0.07086614519357681) (0.931658148765564, 0)};\n",
      "        \\node[above, anchor=south west, rotate=60, font=\\tiny] at (axis cs:0.548906683921814, 1.0) {545};\n",
      "        \\draw[dotted, color=black] (axis cs:0.548906683921814, 0.6275229454040527) -- (axis cs:0.548906683921814, 1.0);\n",
      "        \\node[above, anchor=south west, rotate=60, font=\\tiny] at (axis cs:0.6436800956726074, 1.0) {322};\n",
      "        \\draw[dotted, color=black] (axis cs:0.6436800956726074, 0.5403726696968079) -- (axis cs:0.6436800956726074, 1.0);\n",
      "        \\node[above, anchor=south west, rotate=60, font=\\tiny] at (axis cs:0.7447587251663208, 1.0) {206};\n",
      "        \\draw[dotted, color=black] (axis cs:0.7447587251663208, 0.276699036359787) -- (axis cs:0.7447587251663208, 1.0);\n",
      "        \\node[above, anchor=south west, rotate=60, font=\\tiny] at (axis cs:0.8475072383880615, 1.0) {127};\n",
      "        \\draw[dotted, color=black] (axis cs:0.8475072383880615, 0.07086614519357681) -- (axis cs:0.8475072383880615, 1.0);\n",
      "        \\node[above, anchor=south west, rotate=60, font=\\tiny] at (axis cs:0.931658148765564, 1.0) {60};\n",
      "        \\draw[dotted, color=black] (axis cs:0.931658148765564, 0) -- (axis cs:0.931658148765564, 1.0);\n",
      "    \\end{axis}\n",
      "\\end{tikzpicture}\n",
      "dict_keys(['_runtime', 'female-toxic', 'male-non-toxic', 'black-non-toxic', 'female-non-toxic', 'other_religion-non-toxic', 'all-toxic', '_timestamp', 'black-toxic', 'lgbtq-toxic', 'white-toxic', 'christian-non-toxic', 'white-non-toxic', 'worst group accuracy', 'all', 'male-toxic', 'train_loss', 'muslim-toxic', 'christian-toxic', 'lgbtq-non-toxic', '_step', '_wandb', 'test_results', 'all-non-toxic', 'muslim-non-toxic', 'other_religion-toxic'])\n",
      "rank1-4\n",
      "sECE: -0.3298, ECE: 0.3298\n",
      "\\begin{tikzpicture}\n",
      "    \\begin{axis}[calstyle, xmin=0, xmax=1, ymin=0, ymax=1]\n",
      "        \\addplot[dashed, color=black] coordinates {(0,0) (1,1)};\n",
      "        \\addplot[calline] coordinates {(0.5525113940238953, 0.54666668176651) (0.6545522212982178, 0.6020408272743225) (0.7554019093513489, 0.5625) (0.8491261005401611, 0.5847952961921692) (0.980565905570984, 0.5841161608695984)};\n",
      "        \\node[above, anchor=south west, rotate=60, font=\\tiny] at (axis cs:0.5525113940238953, 1.0) {75};\n",
      "        \\draw[dotted, color=black] (axis cs:0.5525113940238953, 0.54666668176651) -- (axis cs:0.5525113940238953, 1.0);\n",
      "        \\node[above, anchor=south west, rotate=60, font=\\tiny] at (axis cs:0.6545522212982178, 1.0) {98};\n",
      "        \\draw[dotted, color=black] (axis cs:0.6545522212982178, 0.6020408272743225) -- (axis cs:0.6545522212982178, 1.0);\n",
      "        \\node[above, anchor=south west, rotate=60, font=\\tiny] at (axis cs:0.7554019093513489, 1.0) {112};\n",
      "        \\draw[dotted, color=black] (axis cs:0.7554019093513489, 0.5625) -- (axis cs:0.7554019093513489, 1.0);\n",
      "        \\node[above, anchor=south west, rotate=60, font=\\tiny] at (axis cs:0.8491261005401611, 1.0) {171};\n",
      "        \\draw[dotted, color=black] (axis cs:0.8491261005401611, 0.5847952961921692) -- (axis cs:0.8491261005401611, 1.0);\n",
      "        \\node[above, anchor=south west, rotate=60, font=\\tiny] at (axis cs:0.980565905570984, 1.0) {1171};\n",
      "        \\draw[dotted, color=black] (axis cs:0.980565905570984, 0.5841161608695984) -- (axis cs:0.980565905570984, 1.0);\n",
      "    \\end{axis}\n",
      "\\end{tikzpicture}\n",
      "dict_keys(['all-non-toxic', 'male-non-toxic', 'black-non-toxic', 'other_religion-non-toxic', '_step', '_runtime', 'all-toxic', 'lgbtq-non-toxic', 'other_religion-toxic', '_wandb', '_timestamp', 'black-toxic', 'muslim-toxic', 'white-non-toxic', 'female-non-toxic', 'muslim-non-toxic', 'christian-non-toxic', 'all', 'male-toxic', 'lgbtq-toxic', 'test_results', 'christian-toxic', 'worst group accuracy', 'train_loss', 'white-toxic', 'female-toxic'])\n",
      "rank1-3\n",
      "sECE: -0.3522, ECE: 0.3522\n",
      "\\begin{tikzpicture}\n",
      "    \\begin{axis}[calstyle, xmin=0, xmax=1, ymin=0, ymax=1]\n",
      "        \\addplot[dashed, color=black] coordinates {(0,0) (1,1)};\n",
      "        \\addplot[calline] coordinates {(0.5494867563247681, 0.5373134613037109) (0.657292902469635, 0.5) (0.7504041194915771, 0.5) (0.8498048186302185, 0.5923566818237305) (0.9826676845550536, 0.5552940964698792)};\n",
      "        \\node[above, anchor=south west, rotate=60, font=\\tiny] at (axis cs:0.5494867563247681, 1.0) {67};\n",
      "        \\draw[dotted, color=black] (axis cs:0.5494867563247681, 0.5373134613037109) -- (axis cs:0.5494867563247681, 1.0);\n",
      "        \\node[above, anchor=south west, rotate=60, font=\\tiny] at (axis cs:0.657292902469635, 1.0) {78};\n",
      "        \\draw[dotted, color=black] (axis cs:0.657292902469635, 0.5) -- (axis cs:0.657292902469635, 1.0);\n",
      "        \\node[above, anchor=south west, rotate=60, font=\\tiny] at (axis cs:0.7504041194915771, 1.0) {108};\n",
      "        \\draw[dotted, color=black] (axis cs:0.7504041194915771, 0.5) -- (axis cs:0.7504041194915771, 1.0);\n",
      "        \\node[above, anchor=south west, rotate=60, font=\\tiny] at (axis cs:0.8498048186302185, 1.0) {157};\n",
      "        \\draw[dotted, color=black] (axis cs:0.8498048186302185, 0.5923566818237305) -- (axis cs:0.8498048186302185, 1.0);\n",
      "        \\node[above, anchor=south west, rotate=60, font=\\tiny] at (axis cs:0.9826676845550536, 1.0) {850};\n",
      "        \\draw[dotted, color=black] (axis cs:0.9826676845550536, 0.5552940964698792) -- (axis cs:0.9826676845550536, 1.0);\n",
      "    \\end{axis}\n",
      "\\end{tikzpicture}\n",
      "dict_keys(['all', '_step', 'male-toxic', 'lgbtq-toxic', 'christian-non-toxic', 'other_religion-toxic', '_runtime', 'all-toxic', 'train_loss', 'all-non-toxic', 'male-non-toxic', 'white-non-toxic', 'female-non-toxic', 'other_religion-non-toxic', '_wandb', '_timestamp', 'black-toxic', 'female-toxic', 'test_results', 'lgbtq-non-toxic', 'white-toxic', 'muslim-toxic', 'black-non-toxic', 'christian-toxic', 'muslim-non-toxic', 'worst group accuracy'])\n",
      "rank1-2\n",
      "sECE: -0.4140, ECE: 0.4140\n",
      "\\begin{tikzpicture}\n",
      "    \\begin{axis}[calstyle, xmin=0, xmax=1, ymin=0, ymax=1]\n",
      "        \\addplot[dashed, color=black] coordinates {(0,0) (1,1)};\n",
      "        \\addplot[calline] coordinates {(0.5489503145217896, 0.4545454680919647) (0.653319239616394, 0.6521739363670349) (0.751129150390625, 0.5) (0.8585067987442017, 0.44897958636283875) (0.98260235786438, 0.4959785640239715)};\n",
      "        \\node[above, anchor=south west, rotate=60, font=\\tiny] at (axis cs:0.5489503145217896, 1.0) {33};\n",
      "        \\draw[dotted, color=black] (axis cs:0.5489503145217896, 0.4545454680919647) -- (axis cs:0.5489503145217896, 1.0);\n",
      "        \\node[above, anchor=south west, rotate=60, font=\\tiny] at (axis cs:0.653319239616394, 1.0) {23};\n",
      "        \\draw[dotted, color=black] (axis cs:0.653319239616394, 0.6521739363670349) -- (axis cs:0.653319239616394, 1.0);\n",
      "        \\node[above, anchor=south west, rotate=60, font=\\tiny] at (axis cs:0.751129150390625, 1.0) {42};\n",
      "        \\draw[dotted, color=black] (axis cs:0.751129150390625, 0.5) -- (axis cs:0.751129150390625, 1.0);\n",
      "        \\node[above, anchor=south west, rotate=60, font=\\tiny] at (axis cs:0.8585067987442017, 1.0) {49};\n",
      "        \\draw[dotted, color=black] (axis cs:0.8585067987442017, 0.44897958636283875) -- (axis cs:0.8585067987442017, 1.0);\n",
      "        \\node[above, anchor=south west, rotate=60, font=\\tiny] at (axis cs:0.98260235786438, 1.0) {373};\n",
      "        \\draw[dotted, color=black] (axis cs:0.98260235786438, 0.4959785640239715) -- (axis cs:0.98260235786438, 1.0);\n",
      "    \\end{axis}\n",
      "\\end{tikzpicture}\n",
      "dict_keys(['_timestamp', 'lgbtq-toxic', 'white-toxic', 'test_results', 'all-non-toxic', 'lgbtq-non-toxic', 'other_religion-toxic', '_step', 'train_loss', 'christian-toxic', 'white-non-toxic', 'muslim-non-toxic', 'male-toxic', '_runtime', 'all-toxic', 'female-toxic', 'muslim-toxic', 'female-non-toxic', 'christian-non-toxic', 'other_religion-non-toxic', '_wandb', 'black-toxic', 'male-non-toxic', 'black-non-toxic', 'worst group accuracy', 'all'])\n",
      "rank1-1\n",
      "sECE: -0.3983, ECE: 0.3983\n",
      "\\begin{tikzpicture}\n",
      "    \\begin{axis}[calstyle, xmin=0, xmax=1, ymin=0, ymax=1]\n",
      "        \\addplot[dashed, color=black] coordinates {(0,0) (1,1)};\n",
      "        \\addplot[calline] coordinates {(0.5442214012145996, 0.5) (0.6505612730979919, 0.3571428656578064) (0.7501577734947205, 0.4838709533214569) (0.8544543981552124, 0.4545454680919647) (0.981365978717804, 0.5481865406036377)};\n",
      "        \\node[above, anchor=south west, rotate=60, font=\\tiny] at (axis cs:0.5442214012145996, 1.0) {56};\n",
      "        \\draw[dotted, color=black] (axis cs:0.5442214012145996, 0.5) -- (axis cs:0.5442214012145996, 1.0);\n",
      "        \\node[above, anchor=south west, rotate=60, font=\\tiny] at (axis cs:0.6505612730979919, 1.0) {56};\n",
      "        \\draw[dotted, color=black] (axis cs:0.6505612730979919, 0.3571428656578064) -- (axis cs:0.6505612730979919, 1.0);\n",
      "        \\node[above, anchor=south west, rotate=60, font=\\tiny] at (axis cs:0.7501577734947205, 1.0) {62};\n",
      "        \\draw[dotted, color=black] (axis cs:0.7501577734947205, 0.4838709533214569) -- (axis cs:0.7501577734947205, 1.0);\n",
      "        \\node[above, anchor=south west, rotate=60, font=\\tiny] at (axis cs:0.8544543981552124, 1.0) {121};\n",
      "        \\draw[dotted, color=black] (axis cs:0.8544543981552124, 0.4545454680919647) -- (axis cs:0.8544543981552124, 1.0);\n",
      "        \\node[above, anchor=south west, rotate=60, font=\\tiny] at (axis cs:0.981365978717804, 1.0) {965};\n",
      "        \\draw[dotted, color=black] (axis cs:0.981365978717804, 0.5481865406036377) -- (axis cs:0.981365978717804, 1.0);\n",
      "    \\end{axis}\n",
      "\\end{tikzpicture}\n",
      "dict_keys(['all-non-toxic', 'black-non-toxic', '_wandb', '_runtime', '_timestamp', 'lgbtq-toxic', 'female-non-toxic', 'other_religion-toxic', 'worst group accuracy', 'christian-toxic', 'all', '_step', 'train_loss', 'black-toxic', 'muslim-toxic', 'test_results', 'male-non-toxic', 'lgbtq-non-toxic', 'white-non-toxic', 'all-toxic', 'male-toxic', 'white-toxic', 'female-toxic', 'muslim-non-toxic', 'christian-non-toxic', 'other_religion-non-toxic'])\n",
      "rank1-0\n",
      "sECE: -0.3685, ECE: 0.3685\n",
      "\\begin{tikzpicture}\n",
      "    \\begin{axis}[calstyle, xmin=0, xmax=1, ymin=0, ymax=1]\n",
      "        \\addplot[dashed, color=black] coordinates {(0,0) (1,1)};\n",
      "        \\addplot[calline] coordinates {(0.5446539521217346, 0.4423076808452606) (0.6534180045127869, 0.45205479860305786) (0.7532257437705994, 0.5656565427780151) (0.8530516028404236, 0.6338028311729431) (0.982783019542694, 0.5413870215415955)};\n",
      "        \\node[above, anchor=south west, rotate=60, font=\\tiny] at (axis cs:0.5446539521217346, 1.0) {52};\n",
      "        \\draw[dotted, color=black] (axis cs:0.5446539521217346, 0.4423076808452606) -- (axis cs:0.5446539521217346, 1.0);\n",
      "        \\node[above, anchor=south west, rotate=60, font=\\tiny] at (axis cs:0.6534180045127869, 1.0) {73};\n",
      "        \\draw[dotted, color=black] (axis cs:0.6534180045127869, 0.45205479860305786) -- (axis cs:0.6534180045127869, 1.0);\n",
      "        \\node[above, anchor=south west, rotate=60, font=\\tiny] at (axis cs:0.7532257437705994, 1.0) {99};\n",
      "        \\draw[dotted, color=black] (axis cs:0.7532257437705994, 0.5656565427780151) -- (axis cs:0.7532257437705994, 1.0);\n",
      "        \\node[above, anchor=south west, rotate=60, font=\\tiny] at (axis cs:0.8530516028404236, 1.0) {142};\n",
      "        \\draw[dotted, color=black] (axis cs:0.8530516028404236, 0.6338028311729431) -- (axis cs:0.8530516028404236, 1.0);\n",
      "        \\node[above, anchor=south west, rotate=60, font=\\tiny] at (axis cs:0.982783019542694, 1.0) {894};\n",
      "        \\draw[dotted, color=black] (axis cs:0.982783019542694, 0.5413870215415955) -- (axis cs:0.982783019542694, 1.0);\n",
      "    \\end{axis}\n",
      "\\end{tikzpicture}\n",
      "dict_keys(['white-non-toxic', 'christian-non-toxic', 'other_religion-toxic', 'worst group accuracy', '_timestamp', 'muslim-toxic', 'lgbtq-non-toxic', 'female-non-toxic', 'female-toxic', 'test_results', 'all-non-toxic', 'black-non-toxic', 'all', '_step', '_wandb', 'all-toxic', 'christian-toxic', 'other_religion-non-toxic', 'lgbtq-toxic', 'white-toxic', 'male-non-toxic', 'muslim-non-toxic', '_runtime', 'male-toxic', 'train_loss', 'black-toxic'])\n",
      "bbb-4\n",
      "sECE: -0.2958, ECE: 0.3041\n",
      "\\begin{tikzpicture}\n",
      "    \\begin{axis}[calstyle, xmin=0, xmax=1, ymin=0, ymax=1]\n",
      "        \\addplot[dashed, color=black] coordinates {(0,0) (1,1)};\n",
      "        \\addplot[calline] coordinates {(0.5457212924957275, 0.6197183132171631) (0.6510992646217346, 0.5113636255264282) (0.7537606358528137, 0.5106382966041565) (0.8517789840698242, 0.5983606576919556) (0.9817520976066588, 0.6293785572052002)};\n",
      "        \\node[above, anchor=south west, rotate=60, font=\\tiny] at (axis cs:0.5457212924957275, 1.0) {71};\n",
      "        \\draw[dotted, color=black] (axis cs:0.5457212924957275, 0.6197183132171631) -- (axis cs:0.5457212924957275, 1.0);\n",
      "        \\node[above, anchor=south west, rotate=60, font=\\tiny] at (axis cs:0.6510992646217346, 1.0) {88};\n",
      "        \\draw[dotted, color=black] (axis cs:0.6510992646217346, 0.5113636255264282) -- (axis cs:0.6510992646217346, 1.0);\n",
      "        \\node[above, anchor=south west, rotate=60, font=\\tiny] at (axis cs:0.7537606358528137, 1.0) {94};\n",
      "        \\draw[dotted, color=black] (axis cs:0.7537606358528137, 0.5106382966041565) -- (axis cs:0.7537606358528137, 1.0);\n",
      "        \\node[above, anchor=south west, rotate=60, font=\\tiny] at (axis cs:0.8517789840698242, 1.0) {122};\n",
      "        \\draw[dotted, color=black] (axis cs:0.8517789840698242, 0.5983606576919556) -- (axis cs:0.8517789840698242, 1.0);\n",
      "        \\node[above, anchor=south west, rotate=60, font=\\tiny] at (axis cs:0.9817520976066588, 1.0) {885};\n",
      "        \\draw[dotted, color=black] (axis cs:0.9817520976066588, 0.6293785572052002) -- (axis cs:0.9817520976066588, 1.0);\n",
      "    \\end{axis}\n",
      "\\end{tikzpicture}\n",
      "dict_keys(['other_religion-toxic', 'worst group accuracy', 'all', '_wandb', 'black-toxic', 'male-non-toxic', 'all-toxic', 'female-toxic', 'all-non-toxic', 'female-non-toxic', 'christian-toxic', 'lgbtq-non-toxic', 'white-non-toxic', 'christian-non-toxic', '_step', 'male-toxic', 'train_loss', 'test_results', 'other_religion-non-toxic', 'muslim-toxic', 'black-non-toxic', 'muslim-non-toxic', '_runtime', '_timestamp', 'lgbtq-toxic', 'white-toxic'])\n",
      "bbb-1\n",
      "sECE: -0.3905, ECE: 0.3905\n",
      "\\begin{tikzpicture}\n",
      "    \\begin{axis}[calstyle, xmin=0, xmax=1, ymin=0, ymax=1]\n",
      "        \\addplot[dashed, color=black] coordinates {(0,0) (1,1)};\n",
      "        \\addplot[calline] coordinates {(0.5521692037582397, 0.4252873659133911) (0.653675377368927, 0.375) (0.7518652677536011, 0.6057692170143127) (0.8532102704048157, 0.5365853905677795) (0.9816641807556152, 0.5128205418586731)};\n",
      "        \\node[above, anchor=south west, rotate=60, font=\\tiny] at (axis cs:0.5521692037582397, 1.0) {87};\n",
      "        \\draw[dotted, color=black] (axis cs:0.5521692037582397, 0.4252873659133911) -- (axis cs:0.5521692037582397, 1.0);\n",
      "        \\node[above, anchor=south west, rotate=60, font=\\tiny] at (axis cs:0.653675377368927, 1.0) {88};\n",
      "        \\draw[dotted, color=black] (axis cs:0.653675377368927, 0.375) -- (axis cs:0.653675377368927, 1.0);\n",
      "        \\node[above, anchor=south west, rotate=60, font=\\tiny] at (axis cs:0.7518652677536011, 1.0) {104};\n",
      "        \\draw[dotted, color=black] (axis cs:0.7518652677536011, 0.6057692170143127) -- (axis cs:0.7518652677536011, 1.0);\n",
      "        \\node[above, anchor=south west, rotate=60, font=\\tiny] at (axis cs:0.8532102704048157, 1.0) {123};\n",
      "        \\draw[dotted, color=black] (axis cs:0.8532102704048157, 0.5365853905677795) -- (axis cs:0.8532102704048157, 1.0);\n",
      "        \\node[above, anchor=south west, rotate=60, font=\\tiny] at (axis cs:0.9816641807556152, 1.0) {858};\n",
      "        \\draw[dotted, color=black] (axis cs:0.9816641807556152, 0.5128205418586731) -- (axis cs:0.9816641807556152, 1.0);\n",
      "    \\end{axis}\n",
      "\\end{tikzpicture}\n",
      "dict_keys(['black-toxic', 'white-non-toxic', 'muslim-non-toxic', '_runtime', '_wandb', '_timestamp', 'male-toxic', 'train_loss', 'white-toxic', 'test_results', 'all-non-toxic', 'all', 'christian-non-toxic', 'female-non-toxic', 'other_religion-non-toxic', 'lgbtq-non-toxic', 'all-toxic', 'lgbtq-toxic', 'female-toxic', 'muslim-toxic', 'male-non-toxic', 'black-non-toxic', 'christian-toxic', '_step', 'worst group accuracy', 'other_religion-toxic'])\n",
      "bbb-2\n",
      "sECE: -0.3205, ECE: 0.3205\n",
      "\\begin{tikzpicture}\n",
      "    \\begin{axis}[calstyle, xmin=0, xmax=1, ymin=0, ymax=1]\n",
      "        \\addplot[dashed, color=black] coordinates {(0,0) (1,1)};\n",
      "        \\addplot[calline] coordinates {(0.5490695834159851, 0.47058823704719543) (0.6528946161270142, 0.5058823823928833) (0.7510420680046082, 0.5092592835426331) (0.8560279607772827, 0.5704697966575623) (0.9787953495979308, 0.593137264251709)};\n",
      "        \\node[above, anchor=south west, rotate=60, font=\\tiny] at (axis cs:0.5490695834159851, 1.0) {102};\n",
      "        \\draw[dotted, color=black] (axis cs:0.5490695834159851, 0.47058823704719543) -- (axis cs:0.5490695834159851, 1.0);\n",
      "        \\node[above, anchor=south west, rotate=60, font=\\tiny] at (axis cs:0.6528946161270142, 1.0) {85};\n",
      "        \\draw[dotted, color=black] (axis cs:0.6528946161270142, 0.5058823823928833) -- (axis cs:0.6528946161270142, 1.0);\n",
      "        \\node[above, anchor=south west, rotate=60, font=\\tiny] at (axis cs:0.7510420680046082, 1.0) {108};\n",
      "        \\draw[dotted, color=black] (axis cs:0.7510420680046082, 0.5092592835426331) -- (axis cs:0.7510420680046082, 1.0);\n",
      "        \\node[above, anchor=south west, rotate=60, font=\\tiny] at (axis cs:0.8560279607772827, 1.0) {149};\n",
      "        \\draw[dotted, color=black] (axis cs:0.8560279607772827, 0.5704697966575623) -- (axis cs:0.8560279607772827, 1.0);\n",
      "        \\node[above, anchor=south west, rotate=60, font=\\tiny] at (axis cs:0.9787953495979308, 1.0) {816};\n",
      "        \\draw[dotted, color=black] (axis cs:0.9787953495979308, 0.593137264251709) -- (axis cs:0.9787953495979308, 1.0);\n",
      "    \\end{axis}\n",
      "\\end{tikzpicture}\n",
      "dict_keys(['_step', 'black-toxic', 'white-non-toxic', 'other_religion-toxic', 'male-toxic', 'lgbtq-toxic', 'muslim-toxic', 'female-non-toxic', 'worst group accuracy', 'other_religion-non-toxic', '_wandb', '_runtime', 'all-toxic', 'white-toxic', 'test_results', 'all-non-toxic', 'black-non-toxic', 'muslim-non-toxic', 'all', '_timestamp', 'train_loss', 'female-toxic', 'male-non-toxic', 'christian-toxic', 'lgbtq-non-toxic', 'christian-non-toxic'])\n",
      "bbb-3\n",
      "sECE: -0.4197, ECE: 0.4197\n",
      "\\begin{tikzpicture}\n",
      "    \\begin{axis}[calstyle, xmin=0, xmax=1, ymin=0, ymax=1]\n",
      "        \\addplot[dashed, color=black] coordinates {(0,0) (1,1)};\n",
      "        \\addplot[calline] coordinates {(0.5470764636993408, 0.40909090638160706) (0.6540161967277527, 0.523809552192688) (0.7498989105224609, 0.5652173757553101) (0.8432469367980957, 0.380952388048172) (0.9860121011734008, 0.49184781312942505)};\n",
      "        \\node[above, anchor=south west, rotate=60, font=\\tiny] at (axis cs:0.5470764636993408, 1.0) {22};\n",
      "        \\draw[dotted, color=black] (axis cs:0.5470764636993408, 0.40909090638160706) -- (axis cs:0.5470764636993408, 1.0);\n",
      "        \\node[above, anchor=south west, rotate=60, font=\\tiny] at (axis cs:0.6540161967277527, 1.0) {42};\n",
      "        \\draw[dotted, color=black] (axis cs:0.6540161967277527, 0.523809552192688) -- (axis cs:0.6540161967277527, 1.0);\n",
      "        \\node[above, anchor=south west, rotate=60, font=\\tiny] at (axis cs:0.7498989105224609, 1.0) {46};\n",
      "        \\draw[dotted, color=black] (axis cs:0.7498989105224609, 0.5652173757553101) -- (axis cs:0.7498989105224609, 1.0);\n",
      "        \\node[above, anchor=south west, rotate=60, font=\\tiny] at (axis cs:0.8432469367980957, 1.0) {42};\n",
      "        \\draw[dotted, color=black] (axis cs:0.8432469367980957, 0.380952388048172) -- (axis cs:0.8432469367980957, 1.0);\n",
      "        \\node[above, anchor=south west, rotate=60, font=\\tiny] at (axis cs:0.9860121011734008, 1.0) {368};\n",
      "        \\draw[dotted, color=black] (axis cs:0.9860121011734008, 0.49184781312942505) -- (axis cs:0.9860121011734008, 1.0);\n",
      "    \\end{axis}\n",
      "\\end{tikzpicture}\n",
      "dict_keys(['all-toxic', 'train_loss', 'lgbtq-toxic', 'female-toxic', 'female-non-toxic', 'other_religion-non-toxic', 'white-non-toxic', 'all', '_wandb', 'male-toxic', 'white-toxic', 'muslim-toxic', 'all-non-toxic', 'male-non-toxic', 'muslim-non-toxic', 'other_religion-toxic', '_step', 'black-toxic', 'test_results', 'christian-toxic', 'christian-non-toxic', '_runtime', '_timestamp', 'black-non-toxic', 'lgbtq-non-toxic', 'worst group accuracy'])\n",
      "bbb-0\n",
      "sECE: -0.4122, ECE: 0.4122\n",
      "\\begin{tikzpicture}\n",
      "    \\begin{axis}[calstyle, xmin=0, xmax=1, ymin=0, ymax=1]\n",
      "        \\addplot[dashed, color=black] coordinates {(0,0) (1,1)};\n",
      "        \\addplot[calline] coordinates {(0.5503557324409485, 0.5194805264472961) (0.6458160281181335, 0.5) (0.7503234148025513, 0.5090909004211426) (0.8587639331817627, 0.5779221057891846) (0.9804626703262328, 0.45858344435691833)};\n",
      "        \\node[above, anchor=south west, rotate=60, font=\\tiny] at (axis cs:0.5503557324409485, 1.0) {77};\n",
      "        \\draw[dotted, color=black] (axis cs:0.5503557324409485, 0.5194805264472961) -- (axis cs:0.5503557324409485, 1.0);\n",
      "        \\node[above, anchor=south west, rotate=60, font=\\tiny] at (axis cs:0.6458160281181335, 1.0) {86};\n",
      "        \\draw[dotted, color=black] (axis cs:0.6458160281181335, 0.5) -- (axis cs:0.6458160281181335, 1.0);\n",
      "        \\node[above, anchor=south west, rotate=60, font=\\tiny] at (axis cs:0.7503234148025513, 1.0) {110};\n",
      "        \\draw[dotted, color=black] (axis cs:0.7503234148025513, 0.5090909004211426) -- (axis cs:0.7503234148025513, 1.0);\n",
      "        \\node[above, anchor=south west, rotate=60, font=\\tiny] at (axis cs:0.8587639331817627, 1.0) {154};\n",
      "        \\draw[dotted, color=black] (axis cs:0.8587639331817627, 0.5779221057891846) -- (axis cs:0.8587639331817627, 1.0);\n",
      "        \\node[above, anchor=south west, rotate=60, font=\\tiny] at (axis cs:0.9804626703262328, 1.0) {833};\n",
      "        \\draw[dotted, color=black] (axis cs:0.9804626703262328, 0.45858344435691833) -- (axis cs:0.9804626703262328, 1.0);\n",
      "    \\end{axis}\n",
      "\\end{tikzpicture}\n",
      "dict_keys(['male-toxic', 'train_loss', 'test_results', 'black-non-toxic', 'lgbtq-non-toxic', 'female-non-toxic', 'muslim-non-toxic', '_wandb', '_step', '_runtime', 'all-toxic', '_timestamp', 'lgbtq-toxic', 'all-non-toxic', 'male-non-toxic', 'all', 'white-non-toxic', 'worst group accuracy', 'christian-toxic', 'female-toxic', 'other_religion-toxic', 'white-toxic', 'muslim-toxic', 'christian-non-toxic', 'other_religion-non-toxic', 'black-toxic'])\n",
      "mcd-2\n",
      "sECE: -0.4540, ECE: 0.4540\n",
      "\\begin{tikzpicture}\n",
      "    \\begin{axis}[calstyle, xmin=0, xmax=1, ymin=0, ymax=1]\n",
      "        \\addplot[dashed, color=black] coordinates {(0,0) (1,1)};\n",
      "        \\addplot[calline] coordinates {(0.549290120601654, 0.525896430015564) (0.6509137749671936, 0.4409448802471161) (0.7521491646766663, 0.3827160596847534) (0.8499467968940735, 0.1702127605676651) (0.9505960941314696, 0)};\n",
      "        \\node[above, anchor=south west, rotate=60, font=\\tiny] at (axis cs:0.549290120601654, 1.0) {251};\n",
      "        \\draw[dotted, color=black] (axis cs:0.549290120601654, 0.525896430015564) -- (axis cs:0.549290120601654, 1.0);\n",
      "        \\node[above, anchor=south west, rotate=60, font=\\tiny] at (axis cs:0.6509137749671936, 1.0) {254};\n",
      "        \\draw[dotted, color=black] (axis cs:0.6509137749671936, 0.4409448802471161) -- (axis cs:0.6509137749671936, 1.0);\n",
      "        \\node[above, anchor=south west, rotate=60, font=\\tiny] at (axis cs:0.7521491646766663, 1.0) {243};\n",
      "        \\draw[dotted, color=black] (axis cs:0.7521491646766663, 0.3827160596847534) -- (axis cs:0.7521491646766663, 1.0);\n",
      "        \\node[above, anchor=south west, rotate=60, font=\\tiny] at (axis cs:0.8499467968940735, 1.0) {235};\n",
      "        \\draw[dotted, color=black] (axis cs:0.8499467968940735, 0.1702127605676651) -- (axis cs:0.8499467968940735, 1.0);\n",
      "        \\node[above, anchor=south west, rotate=60, font=\\tiny] at (axis cs:0.9505960941314696, 1.0) {277};\n",
      "        \\draw[dotted, color=black] (axis cs:0.9505960941314696, 0) -- (axis cs:0.9505960941314696, 1.0);\n",
      "    \\end{axis}\n",
      "\\end{tikzpicture}\n",
      "dict_keys(['_runtime', 'male-toxic', 'white-toxic', 'black-non-toxic', 'lgbtq-non-toxic', 'white-non-toxic', '_step', '_wandb', 'other_religion-toxic', 'other_religion-non-toxic', 'female-non-toxic', 'christian-non-toxic', 'train_loss', 'lgbtq-toxic', 'test_results', 'christian-toxic', 'muslim-non-toxic', 'all', 'all-toxic', 'muslim-toxic', 'all-non-toxic', 'male-non-toxic', 'worst group accuracy', 'black-toxic', 'female-toxic', '_timestamp'])\n",
      "mcd-4\n",
      "sECE: -0.4181, ECE: 0.4181\n",
      "\\begin{tikzpicture}\n",
      "    \\begin{axis}[calstyle, xmin=0, xmax=1, ymin=0, ymax=1]\n",
      "        \\addplot[dashed, color=black] coordinates {(0,0) (1,1)};\n",
      "        \\addplot[calline] coordinates {(0.5520548224449158, 0.446153849363327) (0.6486375331878662, 0.47058823704719543) (0.7532145977020264, 0.43629342317581177) (0.8487050533294678, 0.21487602591514587) (0.9488606452941896, 0)};\n",
      "        \\node[above, anchor=south west, rotate=60, font=\\tiny] at (axis cs:0.5520548224449158, 1.0) {260};\n",
      "        \\draw[dotted, color=black] (axis cs:0.5520548224449158, 0.446153849363327) -- (axis cs:0.5520548224449158, 1.0);\n",
      "        \\node[above, anchor=south west, rotate=60, font=\\tiny] at (axis cs:0.6486375331878662, 1.0) {272};\n",
      "        \\draw[dotted, color=black] (axis cs:0.6486375331878662, 0.47058823704719543) -- (axis cs:0.6486375331878662, 1.0);\n",
      "        \\node[above, anchor=south west, rotate=60, font=\\tiny] at (axis cs:0.7532145977020264, 1.0) {259};\n",
      "        \\draw[dotted, color=black] (axis cs:0.7532145977020264, 0.43629342317581177) -- (axis cs:0.7532145977020264, 1.0);\n",
      "        \\node[above, anchor=south west, rotate=60, font=\\tiny] at (axis cs:0.8487050533294678, 1.0) {242};\n",
      "        \\draw[dotted, color=black] (axis cs:0.8487050533294678, 0.21487602591514587) -- (axis cs:0.8487050533294678, 1.0);\n",
      "        \\node[above, anchor=south west, rotate=60, font=\\tiny] at (axis cs:0.9488606452941896, 1.0) {227};\n",
      "        \\draw[dotted, color=black] (axis cs:0.9488606452941896, 0) -- (axis cs:0.9488606452941896, 1.0);\n",
      "    \\end{axis}\n",
      "\\end{tikzpicture}\n",
      "dict_keys(['all-toxic', '_timestamp', 'train_loss', 'black-non-toxic', 'christian-toxic', '_wandb', 'white-toxic', 'test_results', 'male-non-toxic', 'lgbtq-non-toxic', 'lgbtq-toxic', 'male-toxic', 'black-toxic', 'muslim-toxic', 'all-non-toxic', 'white-non-toxic', 'female-non-toxic', 'christian-non-toxic', '_runtime', 'other_religion-non-toxic', 'worst group accuracy', '_step', 'female-toxic', 'muslim-non-toxic', 'other_religion-toxic', 'all'])\n",
      "mcd-3\n",
      "sECE: -0.4432, ECE: 0.4432\n",
      "\\begin{tikzpicture}\n",
      "    \\begin{axis}[calstyle, xmin=0, xmax=1, ymin=0, ymax=1]\n",
      "        \\addplot[dashed, color=black] coordinates {(0,0) (1,1)};\n",
      "        \\addplot[calline] coordinates {(0.5484685897827148, 0.498113214969635) (0.6481653451919556, 0.4280155599117279) (0.7534778714179993, 0.3700787425041199) (0.8483667969703674, 0.19565217196941376) (0.948627233505249, 0)};\n",
      "        \\node[above, anchor=south west, rotate=60, font=\\tiny] at (axis cs:0.5484685897827148, 1.0) {265};\n",
      "        \\draw[dotted, color=black] (axis cs:0.5484685897827148, 0.498113214969635) -- (axis cs:0.5484685897827148, 1.0);\n",
      "        \\node[above, anchor=south west, rotate=60, font=\\tiny] at (axis cs:0.6481653451919556, 1.0) {257};\n",
      "        \\draw[dotted, color=black] (axis cs:0.6481653451919556, 0.4280155599117279) -- (axis cs:0.6481653451919556, 1.0);\n",
      "        \\node[above, anchor=south west, rotate=60, font=\\tiny] at (axis cs:0.7534778714179993, 1.0) {254};\n",
      "        \\draw[dotted, color=black] (axis cs:0.7534778714179993, 0.3700787425041199) -- (axis cs:0.7534778714179993, 1.0);\n",
      "        \\node[above, anchor=south west, rotate=60, font=\\tiny] at (axis cs:0.8483667969703674, 1.0) {230};\n",
      "        \\draw[dotted, color=black] (axis cs:0.8483667969703674, 0.19565217196941376) -- (axis cs:0.8483667969703674, 1.0);\n",
      "        \\node[above, anchor=south west, rotate=60, font=\\tiny] at (axis cs:0.948627233505249, 1.0) {254};\n",
      "        \\draw[dotted, color=black] (axis cs:0.948627233505249, 0) -- (axis cs:0.948627233505249, 1.0);\n",
      "    \\end{axis}\n",
      "\\end{tikzpicture}\n",
      "dict_keys(['_step', '_wandb', 'lgbtq-toxic', 'male-non-toxic', 'muslim-non-toxic', 'christian-non-toxic', 'all', '_runtime', 'train_loss', 'muslim-toxic', 'white-non-toxic', 'female-non-toxic', 'other_religion-toxic', 'all-toxic', '_timestamp', 'male-toxic', 'white-toxic', 'black-non-toxic', 'christian-toxic', 'other_religion-non-toxic', 'black-toxic', 'female-toxic', 'test_results', 'all-non-toxic', 'lgbtq-non-toxic', 'worst group accuracy'])\n",
      "mcd-1\n",
      "sECE: -0.3971, ECE: 0.3971\n",
      "\\begin{tikzpicture}\n",
      "    \\begin{axis}[calstyle, xmin=0, xmax=1, ymin=0, ymax=1]\n",
      "        \\addplot[dashed, color=black] coordinates {(0,0) (1,1)};\n",
      "        \\addplot[calline] coordinates {(0.5503609776496887, 0.5271966457366943) (0.6497434377670288, 0.47350993752479553) (0.7517718076705933, 0.47999998927116394) (0.8457975387573242, 0.20779220759868625) (0.9506335854530334, 0)};\n",
      "        \\node[above, anchor=south west, rotate=60, font=\\tiny] at (axis cs:0.5503609776496887, 1.0) {239};\n",
      "        \\draw[dotted, color=black] (axis cs:0.5503609776496887, 0.5271966457366943) -- (axis cs:0.5503609776496887, 1.0);\n",
      "        \\node[above, anchor=south west, rotate=60, font=\\tiny] at (axis cs:0.6497434377670288, 1.0) {302};\n",
      "        \\draw[dotted, color=black] (axis cs:0.6497434377670288, 0.47350993752479553) -- (axis cs:0.6497434377670288, 1.0);\n",
      "        \\node[above, anchor=south west, rotate=60, font=\\tiny] at (axis cs:0.7517718076705933, 1.0) {250};\n",
      "        \\draw[dotted, color=black] (axis cs:0.7517718076705933, 0.47999998927116394) -- (axis cs:0.7517718076705933, 1.0);\n",
      "        \\node[above, anchor=south west, rotate=60, font=\\tiny] at (axis cs:0.8457975387573242, 1.0) {231};\n",
      "        \\draw[dotted, color=black] (axis cs:0.8457975387573242, 0.20779220759868625) -- (axis cs:0.8457975387573242, 1.0);\n",
      "        \\node[above, anchor=south west, rotate=60, font=\\tiny] at (axis cs:0.9506335854530334, 1.0) {238};\n",
      "        \\draw[dotted, color=black] (axis cs:0.9506335854530334, 0) -- (axis cs:0.9506335854530334, 1.0);\n",
      "    \\end{axis}\n",
      "\\end{tikzpicture}\n",
      "dict_keys(['all', 'male-toxic', 'white-toxic', 'muslim-toxic', 'black-non-toxic', 'christian-toxic', 'white-non-toxic', 'christian-non-toxic', 'other_religion-non-toxic', '_wandb', '_runtime', '_timestamp', 'male-non-toxic', 'worst group accuracy', 'train_loss', 'female-toxic', 'test_results', 'all-non-toxic', 'lgbtq-non-toxic', 'muslim-non-toxic', 'other_religion-toxic', '_step', 'all-toxic', 'black-toxic', 'lgbtq-toxic', 'female-non-toxic'])\n",
      "map-4\n",
      "sECE: -0.3859, ECE: 0.3859\n",
      "\\begin{tikzpicture}\n",
      "    \\begin{axis}[calstyle, xmin=0, xmax=1, ymin=0, ymax=1]\n",
      "        \\addplot[dashed, color=black] coordinates {(0,0) (1,1)};\n",
      "        \\addplot[calline] coordinates {(0.5477404594421387, 0.4824120700359345) (0.6512317061424255, 0.5280373692512512) (0.7494908571243286, 0.5502183437347412) (0.8537439107894897, 0.5476190447807312) (0.963590443134308, 0.003086419776082039)};\n",
      "        \\node[above, anchor=south west, rotate=60, font=\\tiny] at (axis cs:0.5477404594421387, 1.0) {199};\n",
      "        \\draw[dotted, color=black] (axis cs:0.5477404594421387, 0.4824120700359345) -- (axis cs:0.5477404594421387, 1.0);\n",
      "        \\node[above, anchor=south west, rotate=60, font=\\tiny] at (axis cs:0.6512317061424255, 1.0) {214};\n",
      "        \\draw[dotted, color=black] (axis cs:0.6512317061424255, 0.5280373692512512) -- (axis cs:0.6512317061424255, 1.0);\n",
      "        \\node[above, anchor=south west, rotate=60, font=\\tiny] at (axis cs:0.7494908571243286, 1.0) {229};\n",
      "        \\draw[dotted, color=black] (axis cs:0.7494908571243286, 0.5502183437347412) -- (axis cs:0.7494908571243286, 1.0);\n",
      "        \\node[above, anchor=south west, rotate=60, font=\\tiny] at (axis cs:0.8537439107894897, 1.0) {294};\n",
      "        \\draw[dotted, color=black] (axis cs:0.8537439107894897, 0.5476190447807312) -- (axis cs:0.8537439107894897, 1.0);\n",
      "        \\node[above, anchor=south west, rotate=60, font=\\tiny] at (axis cs:0.963590443134308, 1.0) {324};\n",
      "        \\draw[dotted, color=black] (axis cs:0.963590443134308, 0.003086419776082039) -- (axis cs:0.963590443134308, 1.0);\n",
      "    \\end{axis}\n",
      "\\end{tikzpicture}\n",
      "dict_keys(['all-non-toxic', 'black-non-toxic', 'worst group accuracy', 'male-toxic', 'white-toxic', 'muslim-toxic', 'muslim-non-toxic', 'other_religion-non-toxic', 'all', 'all-toxic', '_timestamp', 'lgbtq-non-toxic', 'white-non-toxic', 'female-non-toxic', '_wandb', 'train_loss', 'male-non-toxic', 'lgbtq-toxic', 'female-toxic', 'test_results', 'christian-toxic', 'christian-non-toxic', '_step', '_runtime', 'black-toxic', 'other_religion-toxic'])\n",
      "map-0\n",
      "sECE: -0.3162, ECE: 0.3162\n",
      "\\begin{tikzpicture}\n",
      "    \\begin{axis}[calstyle, xmin=0, xmax=1, ymin=0, ymax=1]\n",
      "        \\addplot[dashed, color=black] coordinates {(0,0) (1,1)};\n",
      "        \\addplot[calline] coordinates {(0.5501146912574768, 0.4909909963607788) (0.6518746614456177, 0.5401785969734192) (0.7485193610191345, 0.5907173156738281) (0.8541099429130554, 0.5838709473609924) (0.955516755580902, 0.05992509424686432)};\n",
      "        \\node[above, anchor=south west, rotate=60, font=\\tiny] at (axis cs:0.5501146912574768, 1.0) {222};\n",
      "        \\draw[dotted, color=black] (axis cs:0.5501146912574768, 0.4909909963607788) -- (axis cs:0.5501146912574768, 1.0);\n",
      "        \\node[above, anchor=south west, rotate=60, font=\\tiny] at (axis cs:0.6518746614456177, 1.0) {224};\n",
      "        \\draw[dotted, color=black] (axis cs:0.6518746614456177, 0.5401785969734192) -- (axis cs:0.6518746614456177, 1.0);\n",
      "        \\node[above, anchor=south west, rotate=60, font=\\tiny] at (axis cs:0.7485193610191345, 1.0) {237};\n",
      "        \\draw[dotted, color=black] (axis cs:0.7485193610191345, 0.5907173156738281) -- (axis cs:0.7485193610191345, 1.0);\n",
      "        \\node[above, anchor=south west, rotate=60, font=\\tiny] at (axis cs:0.8541099429130554, 1.0) {310};\n",
      "        \\draw[dotted, color=black] (axis cs:0.8541099429130554, 0.5838709473609924) -- (axis cs:0.8541099429130554, 1.0);\n",
      "        \\node[above, anchor=south west, rotate=60, font=\\tiny] at (axis cs:0.955516755580902, 1.0) {267};\n",
      "        \\draw[dotted, color=black] (axis cs:0.955516755580902, 0.05992509424686432) -- (axis cs:0.955516755580902, 1.0);\n",
      "    \\end{axis}\n",
      "\\end{tikzpicture}\n",
      "dict_keys(['worst group accuracy', '_timestamp', 'white-toxic', 'female-toxic', 'muslim-toxic', 'christian-toxic', 'other_religion-toxic', 'female-non-toxic', 'other_religion-non-toxic', 'all', '_step', '_wandb', '_runtime', 'all-toxic', 'black-non-toxic', 'train_loss', 'black-toxic', 'lgbtq-non-toxic', 'muslim-non-toxic', 'christian-non-toxic', 'male-toxic', 'lgbtq-toxic', 'test_results', 'all-non-toxic', 'male-non-toxic', 'white-non-toxic'])\n",
      "map-3\n",
      "sECE: -0.3574, ECE: 0.3574\n",
      "\\begin{tikzpicture}\n",
      "    \\begin{axis}[calstyle, xmin=0, xmax=1, ymin=0, ymax=1]\n",
      "        \\addplot[dashed, color=black] coordinates {(0,0) (1,1)};\n",
      "        \\addplot[calline] coordinates {(0.5511475205421448, 0.5251141786575317) (0.6536343693733215, 0.5458333492279053) (0.7522009611129761, 0.5206611752510071) (0.8545258641242981, 0.4981684982776642) (0.95962792634964, 0.03146853297948837)};\n",
      "        \\node[above, anchor=south west, rotate=60, font=\\tiny] at (axis cs:0.5511475205421448, 1.0) {219};\n",
      "        \\draw[dotted, color=black] (axis cs:0.5511475205421448, 0.5251141786575317) -- (axis cs:0.5511475205421448, 1.0);\n",
      "        \\node[above, anchor=south west, rotate=60, font=\\tiny] at (axis cs:0.6536343693733215, 1.0) {240};\n",
      "        \\draw[dotted, color=black] (axis cs:0.6536343693733215, 0.5458333492279053) -- (axis cs:0.6536343693733215, 1.0);\n",
      "        \\node[above, anchor=south west, rotate=60, font=\\tiny] at (axis cs:0.7522009611129761, 1.0) {242};\n",
      "        \\draw[dotted, color=black] (axis cs:0.7522009611129761, 0.5206611752510071) -- (axis cs:0.7522009611129761, 1.0);\n",
      "        \\node[above, anchor=south west, rotate=60, font=\\tiny] at (axis cs:0.8545258641242981, 1.0) {273};\n",
      "        \\draw[dotted, color=black] (axis cs:0.8545258641242981, 0.4981684982776642) -- (axis cs:0.8545258641242981, 1.0);\n",
      "        \\node[above, anchor=south west, rotate=60, font=\\tiny] at (axis cs:0.95962792634964, 1.0) {286};\n",
      "        \\draw[dotted, color=black] (axis cs:0.95962792634964, 0.03146853297948837) -- (axis cs:0.95962792634964, 1.0);\n",
      "    \\end{axis}\n",
      "\\end{tikzpicture}\n",
      "dict_keys(['all', 'train_loss', 'lgbtq-toxic', 'female-non-toxic', 'muslim-non-toxic', '_wandb', '_timestamp', 'white-toxic', 'test_results', 'all-non-toxic', 'other_religion-toxic', 'other_religion-non-toxic', '_runtime', 'all-toxic', 'male-toxic', 'female-toxic', 'muslim-toxic', 'male-non-toxic', 'black-non-toxic', 'christian-toxic', 'lgbtq-non-toxic', 'white-non-toxic', 'worst group accuracy', '_step', 'black-toxic', 'christian-non-toxic'])\n",
      "map-2\n",
      "sECE: -0.3341, ECE: 0.3354\n",
      "\\begin{tikzpicture}\n",
      "    \\begin{axis}[calstyle, xmin=0, xmax=1, ymin=0, ymax=1]\n",
      "        \\addplot[dashed, color=black] coordinates {(0,0) (1,1)};\n",
      "        \\addplot[calline] coordinates {(0.5476346015930176, 0.5517241358757019) (0.6508788466453552, 0.4816513657569885) (0.7489076256752014, 0.62109375) (0.8533465266227722, 0.5681062936782837) (0.9619601368904114, 0.01773049682378769)};\n",
      "        \\node[above, anchor=south west, rotate=60, font=\\tiny] at (axis cs:0.5476346015930176, 1.0) {203};\n",
      "        \\draw[dotted, color=black] (axis cs:0.5476346015930176, 0.5517241358757019) -- (axis cs:0.5476346015930176, 1.0);\n",
      "        \\node[above, anchor=south west, rotate=60, font=\\tiny] at (axis cs:0.6508788466453552, 1.0) {218};\n",
      "        \\draw[dotted, color=black] (axis cs:0.6508788466453552, 0.4816513657569885) -- (axis cs:0.6508788466453552, 1.0);\n",
      "        \\node[above, anchor=south west, rotate=60, font=\\tiny] at (axis cs:0.7489076256752014, 1.0) {256};\n",
      "        \\draw[dotted, color=black] (axis cs:0.7489076256752014, 0.62109375) -- (axis cs:0.7489076256752014, 1.0);\n",
      "        \\node[above, anchor=south west, rotate=60, font=\\tiny] at (axis cs:0.8533465266227722, 1.0) {301};\n",
      "        \\draw[dotted, color=black] (axis cs:0.8533465266227722, 0.5681062936782837) -- (axis cs:0.8533465266227722, 1.0);\n",
      "        \\node[above, anchor=south west, rotate=60, font=\\tiny] at (axis cs:0.9619601368904114, 1.0) {282};\n",
      "        \\draw[dotted, color=black] (axis cs:0.9619601368904114, 0.01773049682378769) -- (axis cs:0.9619601368904114, 1.0);\n",
      "    \\end{axis}\n",
      "\\end{tikzpicture}\n",
      "dict_keys(['other_religion-non-toxic', 'all', '_wandb', 'all-toxic', '_timestamp', 'black-toxic', 'female-toxic', 'black-non-toxic', 'male-non-toxic', 'lgbtq-non-toxic', 'christian-non-toxic', 'other_religion-toxic', 'worst group accuracy', 'male-toxic', 'white-toxic', 'test_results', 'all-non-toxic', 'christian-toxic', 'white-non-toxic', 'muslim-non-toxic', '_step', '_runtime', 'train_loss', 'lgbtq-toxic', 'muslim-toxic', 'female-non-toxic'])\n",
      "mcd-0\n",
      "sECE: -0.3715, ECE: 0.3715\n",
      "\\begin{tikzpicture}\n",
      "    \\begin{axis}[calstyle, xmin=0, xmax=1, ymin=0, ymax=1]\n",
      "        \\addplot[dashed, color=black] coordinates {(0,0) (1,1)};\n",
      "        \\addplot[calline] coordinates {(0.5499830842018127, 0.5229681730270386) (0.6496611833572388, 0.4946996569633484) (0.7492824792861938, 0.4163568913936615) (0.845105767250061, 0.2142857164144516) (0.9456596970558168, 0)};\n",
      "        \\node[above, anchor=south west, rotate=60, font=\\tiny] at (axis cs:0.5499830842018127, 1.0) {283};\n",
      "        \\draw[dotted, color=black] (axis cs:0.5499830842018127, 0.5229681730270386) -- (axis cs:0.5499830842018127, 1.0);\n",
      "        \\node[above, anchor=south west, rotate=60, font=\\tiny] at (axis cs:0.6496611833572388, 1.0) {283};\n",
      "        \\draw[dotted, color=black] (axis cs:0.6496611833572388, 0.4946996569633484) -- (axis cs:0.6496611833572388, 1.0);\n",
      "        \\node[above, anchor=south west, rotate=60, font=\\tiny] at (axis cs:0.7492824792861938, 1.0) {269};\n",
      "        \\draw[dotted, color=black] (axis cs:0.7492824792861938, 0.4163568913936615) -- (axis cs:0.7492824792861938, 1.0);\n",
      "        \\node[above, anchor=south west, rotate=60, font=\\tiny] at (axis cs:0.845105767250061, 1.0) {238};\n",
      "        \\draw[dotted, color=black] (axis cs:0.845105767250061, 0.2142857164144516) -- (axis cs:0.845105767250061, 1.0);\n",
      "        \\node[above, anchor=south west, rotate=60, font=\\tiny] at (axis cs:0.9456596970558168, 1.0) {187};\n",
      "        \\draw[dotted, color=black] (axis cs:0.9456596970558168, 0) -- (axis cs:0.9456596970558168, 1.0);\n",
      "    \\end{axis}\n",
      "\\end{tikzpicture}\n",
      "dict_keys(['female-non-toxic', 'all', '_runtime', 'lgbtq-toxic', 'white-toxic', 'female-toxic', 'test_results', 'male-non-toxic', 'muslim-non-toxic', '_step', '_wandb', 'all-toxic', '_timestamp', 'train_loss', 'black-toxic', 'worst group accuracy', 'other_religion-toxic', 'muslim-toxic', 'all-non-toxic', 'black-non-toxic', 'christian-toxic', 'lgbtq-non-toxic', 'white-non-toxic', 'christian-non-toxic', 'male-toxic', 'other_religion-non-toxic'])\n",
      "map-1\n",
      "sECE: -0.3689, ECE: 0.3689\n",
      "\\begin{tikzpicture}\n",
      "    \\begin{axis}[calstyle, xmin=0, xmax=1, ymin=0, ymax=1]\n",
      "        \\addplot[dashed, color=black] coordinates {(0,0) (1,1)};\n",
      "        \\addplot[calline] coordinates {(0.5468743443489075, 0.5121951103210449) (0.6501463651657104, 0.545045018196106) (0.7490203976631165, 0.5381355881690979) (0.8503430485725403, 0.5215947031974792) (0.9651917219161988, 0)};\n",
      "        \\node[above, anchor=south west, rotate=60, font=\\tiny] at (axis cs:0.5468743443489075, 1.0) {205};\n",
      "        \\draw[dotted, color=black] (axis cs:0.5468743443489075, 0.5121951103210449) -- (axis cs:0.5468743443489075, 1.0);\n",
      "        \\node[above, anchor=south west, rotate=60, font=\\tiny] at (axis cs:0.6501463651657104, 1.0) {222};\n",
      "        \\draw[dotted, color=black] (axis cs:0.6501463651657104, 0.545045018196106) -- (axis cs:0.6501463651657104, 1.0);\n",
      "        \\node[above, anchor=south west, rotate=60, font=\\tiny] at (axis cs:0.7490203976631165, 1.0) {236};\n",
      "        \\draw[dotted, color=black] (axis cs:0.7490203976631165, 0.5381355881690979) -- (axis cs:0.7490203976631165, 1.0);\n",
      "        \\node[above, anchor=south west, rotate=60, font=\\tiny] at (axis cs:0.8503430485725403, 1.0) {301};\n",
      "        \\draw[dotted, color=black] (axis cs:0.8503430485725403, 0.5215947031974792) -- (axis cs:0.8503430485725403, 1.0);\n",
      "        \\node[above, anchor=south west, rotate=60, font=\\tiny] at (axis cs:0.9651917219161988, 1.0) {296};\n",
      "        \\draw[dotted, color=black] (axis cs:0.9651917219161988, 0) -- (axis cs:0.9651917219161988, 1.0);\n",
      "    \\end{axis}\n",
      "\\end{tikzpicture}\n"
     ]
    }
   ],
   "source": [
    "data = aggregate_data(build_data(runs))"
   ]
  },
  {
   "cell_type": "code",
   "execution_count": 6,
   "metadata": {},
   "outputs": [
    {
     "name": "stdout",
     "output_type": "stream",
     "text": [
      "\\begin{tabular}{l|rrr}\n",
      "    \\multicolumn{1}{l}{Model} & \\multicolumn{1}{c}{Accuracy} & \\multicolumn{1}{c}{ECE} & \\multicolumn{1}{c}{sECE} \\\\\n",
      "    \\hline\n",
      "    MAP & $0.420 \\pm 0.021$ & $0.353 \\pm 0.025$ & $-0.353 \\pm 0.025$ \\\\\n",
      "    Deep Ensemble & $0.419 \\pm 0.008$ & $0.349 \\pm 0.010$ & $-0.349 \\pm 0.010$ \\\\\n",
      "    MCD ($p=0.2$) & $0.326 \\pm 0.023$ & $0.417 \\pm 0.030$ & $-0.417 \\pm 0.030$ \\\\\n",
      "    MCD ($p=0.1$) & $0.325 \\pm 0.021$ & $0.418 \\pm 0.027$ & $-0.418 \\pm 0.027$ \\\\\n",
      "    MCD ($p=0.05$) & $0.364 \\pm 0.018$ & $0.393 \\pm 0.024$ & $-0.393 \\pm 0.024$ \\\\\n",
      "    MCD ($p=0.01$) & $0.396 \\pm 0.015$ & $0.374 \\pm 0.023$ & $-0.374 \\pm 0.023$ \\\\\n",
      "    MultiMCD ($p=0.2$) & $0.326 \\pm 0.005$ & $0.412 \\pm 0.007$ & $-0.412 \\pm 0.007$ \\\\\n",
      "    SWAG & $0.448 \\pm 0.021$ & $0.197 \\pm 0.041$ & $-0.184 \\pm 0.027$ \\\\\n",
      "    MultiSWAG & $0.429 \\pm 0.016$ & $0.183 \\pm 0.018$ & $-0.183 \\pm 0.018$ \\\\\n",
      "    Laplace & $0.424 \\pm 0.016$ & $0.348 \\pm 0.018$ & $-0.347 \\pm 0.018$ \\\\\n",
      "    MultiLaplace & $0.420 \\pm 0.008$ & $0.348 \\pm 0.010$ & $-0.348 \\pm 0.010$ \\\\\n",
      "    BBB & $0.537 \\pm 0.032$ & $0.362 \\pm 0.032$ & $-0.361 \\pm 0.033$ \\\\\n",
      "    MultiBBB & $0.525 \\pm 0.012$ & $0.338 \\pm 0.012$ & $-0.338 \\pm 0.012$ \\\\\n",
      "    Rank-1 VI & $0.540 \\pm 0.028$ & $0.373 \\pm 0.030$ & $-0.373 \\pm 0.030$ \\\\\n",
      "    iVON & $0.480 \\pm 0.045$ & $0.421 \\pm 0.048$ & $-0.421 \\pm 0.048$ \\\\\n",
      "    MultiiVON & $0.465 \\pm 0.011$ & $0.396 \\pm 0.015$ & $-0.396 \\pm 0.015$ \\\\\n",
      "    SVGD & $0.384 \\pm 0.068$ & $0.380 \\pm 0.079$ & $-0.379 \\pm 0.079$ \\\\\n",
      "\\end{tabular}\n"
     ]
    }
   ],
   "source": [
    "algo_names = [\n",
    "    (\"map\", \"MAP\"),\n",
    "    (\"map_4\", \"Deep Ensemble\"),\n",
    "    (\"mcd\", \"MCD ($p=0.2$)\"),\n",
    "    (\"mcd-p0.1\", \"MCD ($p=0.1$)\"),\n",
    "    (\"mcd-p0.05\", \"MCD ($p=0.05$)\"),\n",
    "    (\"mcd-p0.01\", \"MCD ($p=0.01$)\"),\n",
    "    (\"mcd_4\", \"MultiMCD ($p=0.2$)\"),\n",
    "    (\"swag\", \"SWAG\"),\n",
    "    (\"swag_4\", \"MultiSWAG\"),\n",
    "    (\"laplace\", \"Laplace\"),\n",
    "    (\"laplace_4\", \"MultiLaplace\"),\n",
    "    (\"bbb\", \"BBB\"),\n",
    "    (\"bbb_4\", \"MultiBBB\"),\n",
    "    (\"rank1\", \"Rank-1 VI\"),\n",
    "    (\"ll_ivon\", \"iVON\"),\n",
    "    (\"ll_ivon_5\", \"MultiiVON\"),\n",
    "    (\"svgd\", \"SVGD\"),\n",
    "]\n",
    "\n",
    "def num(value, std):\n",
    "    return f\"${float(value):.3f} \\\\pm {float(std):.3f}$\"\n",
    "\n",
    "def col_name(name, align):\n",
    "    return f\"\\\\multicolumn{{1}}{{{align}}}{{{name}}}\"\n",
    "\n",
    "def create_table(data, prefix):\n",
    "    print(\"\\\\begin{tabular}{l|rrr}\")\n",
    "    print(f\"    {col_name('Model', 'l')} & {col_name('Accuracy', 'c')} & {col_name('ECE', 'c')} & {col_name('sECE', 'c')} \\\\\\\\\")\n",
    "    print(\"    \\\\hline\")\n",
    "    for algo, name in algo_names:\n",
    "        row = data[data[\"model\"] == algo]\n",
    "        print(f\"    {name} & {num(row[prefix + ' accuracy'], row[prefix + ' accuracy_std'])} & {num(row[prefix + ' ece'], row[prefix + ' ece_std'])} & {num(row[prefix + ' sece'], row[prefix + ' sece_std'])} \\\\\\\\\")\n",
    "    print(\"\\\\end{tabular}\")\n",
    "create_table(data, \"worst_acc\")"
   ]
  },
  {
   "cell_type": "code",
   "execution_count": 7,
   "metadata": {},
   "outputs": [
    {
     "data": {
      "text/plain": [
       "'model,model,worst_acc accuracy,worst_acc accuracy_std,worst_acc sece,worst_acc sece_std,worst_acc ece,worst_acc ece_std,lowest_sece accuracy,lowest_sece accuracy_std,lowest_sece sece,lowest_sece sece_std,highest_sece accuracy,highest_sece accuracy_std,highest_sece sece,highest_sece sece_std,all accuracy,all accuracy_std,all sece,all sece_std,all ece,all ece_std\\nbbb,bbb,0.5368559569120407,0.03200839396511114,-0.36101158601252437,0.032593469208323206,0.3620227043002385,0.031865070970091586,0.5374175786972046,0.031602751415921976,-0.36217909601381704,0.03269167832750197,0.9586798846721649,0.005067274099174752,-0.022064603723480063,0.0037759260563161516,0.917814064025879,0.0016092263536423084,-0.05580003168551693,0.0018544118248516141,0.05580003168551693,0.0018544118248516141\\nbbb_0.01,bbb_0.01,0.5417108178138733,0.04470278052827165,-0.3591472928683913,0.04313249069067954,0.3596272585324829,0.04273540173720286,0.5417108178138733,0.04470278052827165,-0.3591472928683913,0.04313249069067954,0.9580411076545715,0.0073786916320347055,-0.022897515953685707,0.006705387484319598,0.917769193649292,0.0019121707165664194,-0.055892702114088234,0.002885933210639242,0.055892702114088234,0.002885933210639242\\nbbb_0.1,bbb_0.1,0.5372841954231262,0.0408617715424303,-0.3651437051223021,0.040004850190271966,0.3658450114805184,0.03907640725376266,0.5389447569847107,0.03994007296544436,-0.3662800131581643,0.04083518655134923,0.9585971117019654,0.0068119204521440695,-0.02344250801246195,0.005317408816892791,0.9175359964370727,0.0017808419716737014,-0.057851300788231176,0.0020922588971970147,0.057851300788231176,0.0020922588971970147\\nbbb_4,bbb_4,0.524920642375946,0.01156227717837493,-0.33802425214695553,0.011667353650744275,0.33802425214695553,0.011667353650744275,0.524920642375946,0.01156227717837493,-0.33802425214695553,0.011667353650744275,0.9630939602851868,0.0019014554496150206,-0.009449527013618073,0.0012612028095535864,0.9221748828887939,0.0004084906692479594,-0.04142319086188202,0.0005699864381682574,0.04142319086188202,0.0005699864381682574\\nlaplace,laplace,0.4243055507540703,0.015864332749106744,-0.34665838611600475,0.018341462753346416,0.3484560739104858,0.017546885373896273,0.4243055507540703,0.015864332749106744,-0.34665838611600475,0.018341462753346416,0.9252567738294601,0.008100833457611234,0.06049463548023605,0.0026318747717966003,0.9157295078039169,0.0009256203575371465,-0.011347779808247277,0.001861229852813684,0.0114315656990192,0.0019574552164359285\\nlaplace_4,laplace_4,0.419523811340332,0.008272259530625485,-0.34816387246628955,0.009717989728433655,0.34816387246628955,0.009717989728433655,0.419523811340332,0.008272259530625485,-0.34816387246628955,0.009717989728433655,0.9267600417137146,0.003883860988703475,0.0639194289887764,0.0012189064133702758,0.9164013266563416,0.00037677570443768617,-0.009457266445132539,0.0010277112206266968,0.00950343704183,0.0009963820846296525\\nll_ivon,ll_ivon,0.47976407408714294,0.04531382289549484,-0.42091922504183454,0.04760153499789296,0.4212698734740404,0.048037094825550235,0.47976407408714294,0.04531382289549484,-0.42091922504183454,0.04760153499789296,0.9667382836341858,0.00850098410131124,-0.01459159848578583,0.005968497074058927,0.9194759627183279,0.0028032212271555984,-0.0538021909690721,0.0018963325564774836,0.0538021909690721,0.0018963325564774836\\nll_ivon_5,ll_ivon_5,0.4649206340312958,0.010765387992716143,-0.3956816174863168,0.014712262206007975,0.3956816174863168,0.014712262206007975,0.46615384221076966,0.012077167237628337,-0.3958861872897698,0.01447557474709893,0.9606593132019043,0.0062710873598188985,-0.0012782286115676457,0.00144336223352875,0.9238746523857116,0.000624853003431279,-0.03872267483089503,0.0007102202582250685,0.03872267483089503,0.0007102202582250685\\nll_ivon_p1,ll_ivon_p1,0.4476190507411957,,-0.438196626447496,,0.438196626447496,,0.4476190507411957,,-0.438196626447496,,0.9718205332756042,,-0.00943588268736179,,0.920893669128418,,-0.051809202822583035,,0.051809202822583035,\\nll_ivon_p10,ll_ivon_p10,0.4317460358142853,,-0.4600181528736675,,0.4600181528736675,,0.4317460358142853,,-0.4600181528736675,,0.973307967185974,,-0.008446164490142034,,0.9210805892944336,,-0.05183026754655262,,0.05183026754655262,\\nll_ivon_p100,ll_ivon_p100,0.4253968298435211,,-0.47643802132871416,,0.47643802132871416,,0.4253968298435211,,-0.47643802132871416,,0.973721206188202,,-0.009998383029277006,,0.9214094281196594,,-0.05329100999825952,,0.05329100999825952,\\nll_ivon_p500,ll_ivon_p500,0.4674603044986725,,-0.4157990511920717,,0.4157990511920717,,0.4674603044986725,,-0.4157990511920717,,0.9680191874504088,,-0.010062853316316603,,0.9193389415740968,,-0.050630122583564814,,0.050630122583564814,\\nll_svgd,ll_svgd,0.4177716732025146,0.027246095202438876,-0.3527964515068883,0.026661448774988043,0.3527964515068883,0.026661448774988043,0.4179365038871765,0.027523091525452213,-0.3546208713286453,0.02337681177290279,0.9270588278770446,0.00842665049037271,0.05844175394620994,0.005636498438836284,0.9159587979316711,0.001074161429270323,-0.011427952678459034,0.0016547488468496455,0.011427952678459034,0.0016547488468496455\\nmap,map,0.41952380537986755,0.02100162492024524,-0.3525016825551551,0.024756060501472534,0.35276523032003926,0.024564573236439253,0.41952380537986755,0.02100162492024524,-0.3525016825551551,0.024756060501472534,0.927544355392456,0.01027925910310507,0.060194297680556494,0.004079417558264045,0.915954315662384,0.0011109889010105037,-0.012057916678524901,0.0025624018595521493,0.012159686248527117,0.0027092744026341402\\nmap_4,map_4,0.41920634508132937,0.008115437930857844,-0.34904403020413444,0.009635990707210416,0.34904403020413444,0.009635990707210416,0.41920634508132937,0.008115437930857844,-0.34904403020413444,0.009635990707210416,0.9271335244178772,0.003526198931386257,0.0636148678978173,0.0011219729170899235,0.9164102792739868,0.0003543765879518744,-0.009828273870095572,0.0010454005373469963,0.009836766967660664,0.001041658263053335\\nmap_4_wd0.0001,map_4_wd0.0001,0.4619230806827545,0.011499937688612313,-0.3933591823738355,0.013177005725379578,0.3947177739670643,0.011491918749899452,0.4619230806827545,0.011499937688612313,-0.3933591823738355,0.013177005725379578,0.9335307002067565,0.021538409379064802,0.006146041235440938,0.0017703174307685796,0.9245668292045593,0.0003269276538318677,-0.03425052619558178,0.0006919240530992585,0.03425052619558178,0.0006919240530992585\\nmap_wd0.0001,map_wd0.0001,0.4722651422023773,0.04858100952001102,-0.4027280713835707,0.043133540229233394,0.4042107394899433,0.04386255561307299,0.47615384459495547,0.045126390780619405,-0.40328312860085413,0.0436466595977785,0.9663676738739013,0.00927619186915689,-0.007912223471450104,0.00705141307802494,0.9203046798706055,0.0030971526872944095,-0.046276417138878014,0.0017416911365173606,0.046276417138878014,0.0017416911365173606\\nmcd,mcd,0.3261904716491699,0.023371633298124188,-0.4167613277454225,0.030082237582853368,0.4167613277454225,0.030082237582853368,0.3261904716491699,0.023371633298124188,-0.4167613277454225,0.030082237582853368,0.9372143387794495,0.017340532721435525,0.10149139846304212,0.006973883717833877,0.9182296633720398,0.00017515129115027757,0.006469298625993577,0.005534859225936373,0.007044795149243155,0.004842559174333986\\nmcd-p0.0,mcd-p0.0,0.404340660572052,0.016017120244923074,-0.3688858860949684,0.022909719305735998,0.3688858860949684,0.022909719305735998,0.40507936477661133,0.017173686081872575,-0.369312981543619,0.02216011642722999,0.93299720287323,0.006368290814176467,0.05962934423004991,0.005215302477381601,0.9166076302528381,0.0006009674971026584,-0.012943475697151086,0.003157818311319273,0.012986233209330771,0.00308106365259377\\nmcd-p0.01,mcd-p0.01,0.396227103471756,0.015307930434893556,-0.3735489736234494,0.02257189943965059,0.3735489736234494,0.02257189943965059,0.396227103471756,0.015307930434893556,-0.3735489736234494,0.02257189943965059,0.9355368852615357,0.006143080938884848,0.06381352581341171,0.005082448184250145,0.9167720556259156,0.00047117116237294397,-0.01111944492547843,0.003346873921503236,0.011196507149542786,0.0032087878895521406\\nmcd-p0.05,mcd-p0.05,0.3644444406032562,0.017763595108085166,-0.39310975038531487,0.023714811201414644,0.39310975038531487,0.023714811201414644,0.3644444406032562,0.017763595108085166,-0.39310975038531487,0.023714811201414644,0.9465919733047485,0.005975723266601583,0.08114383003847495,0.005533140701554176,0.9177333235740661,0.0003302348369220181,-0.0033082783541201984,0.004126964284755947,0.004974309610947315,0.001900284216594099\\nmcd-p0.1,mcd-p0.1,0.32460318207740785,0.020732372583736714,-0.4181883958194937,0.027082058237155798,0.4181883958194937,0.027082058237155798,0.32460318207740785,0.020732372583736714,-0.4181883958194937,0.027082058237155798,0.9366479873657226,0.01783717874402993,0.10067488658029863,0.006533428533759357,0.9180577397346497,9.614707727345375e-05,0.006203737694965744,0.005332804949543418,0.006844678902044703,0.004588165311585864\\nmcd_4,mcd_4,0.32634921073913575,0.005250099137902074,-0.4124126917431279,0.0073646309288026976,0.4124126917431279,0.0073646309288026976,0.32634921073913575,0.005250099137902074,-0.4124126917431279,0.0073646309288026976,0.9375094056129456,0.01764814529690317,0.10512547706969863,0.001945421623256856,0.918569004535675,0.00014549108515384568,0.008617953772989755,0.0016540688730720943,0.008654559997256141,0.0016607786184884865\\nrank1,rank1,0.5397683262825013,0.028425946034003207,-0.37256584852210817,0.03043585150281483,0.37256584852210817,0.03043585150281483,0.5397683262825013,0.028425946034003207,-0.37256584852210817,0.03043585150281483,0.9563330411911011,0.00545518957222584,-0.02553423324659317,0.004500763355927226,0.9169828534126282,0.0019594959835836376,-0.05959252227480967,0.00155953110621421,0.05959252227480967,0.00155953110621421\\nsvgd,svgd,0.38381563425064086,0.06766194388476081,-0.37920812999584025,0.0788593161458494,0.3796375059622302,0.07903789789457777,0.38428571820259094,0.06719443279861734,-0.3819383145791168,0.08154708051006508,0.9358110785484314,0.021293999188362476,0.0766260880722097,0.005503943017990906,0.9152083039283753,0.00290883708186601,-0.008477368668151467,0.007734623370739008,0.010688604363516046,0.005348716952969167\\nswag,swag,0.4480952322483063,0.020869248394560874,-0.18363012609618998,0.026540505825530285,0.1972319872097837,0.04074688198876349,0.4480952322483063,0.020869248394560874,-0.18363012609618998,0.026540505825530285,0.9233782291412354,0.03463847618602718,0.19781613903354586,0.03156026318711621,0.8769983887672425,0.024391892346500254,0.15167277467118767,0.023543886973002217,0.15167277467118767,0.023543886973002217\\nswag_4,swag_4,0.42873015999794006,0.015828505278767644,-0.1834817414346432,0.017860368816370605,0.1834817414346432,0.017860368816370605,0.42873015999794006,0.015828505278767644,-0.1834817414346432,0.017860368816370605,0.9318487167358398,0.019249279910528758,0.2411161838335861,0.001667782753189565,0.9009209156036377,0.0018205370575950187,0.1839292578266746,0.002344883467531145,0.1839292578266746,0.002344883467531145\\n'"
      ]
     },
     "execution_count": 7,
     "metadata": {},
     "output_type": "execute_result"
    }
   ],
   "source": [
    "data.to_csv(sep=\",\", header=True)"
   ]
  },
  {
   "cell_type": "code",
   "execution_count": 8,
   "metadata": {},
   "outputs": [
    {
     "data": {
      "application/vnd.plotly.v1+json": {
       "config": {
        "plotlyServerURL": "https://plot.ly"
       },
       "data": [
        {
         "error_x": {
          "array": [
           0.03200839396511114
          ]
         },
         "error_y": {
          "array": [
           0.032593469208323206
          ]
         },
         "hovertemplate": "model=bbb<br>worst_acc accuracy=%{x}<br>worst_acc sece=%{y}<extra></extra>",
         "legendgroup": "bbb",
         "marker": {
          "color": "#636efa",
          "symbol": "circle"
         },
         "mode": "markers",
         "name": "bbb",
         "orientation": "v",
         "showlegend": true,
         "type": "scatter",
         "x": [
          0.5368559569120407
         ],
         "xaxis": "x",
         "y": [
          -0.36101158601252437
         ],
         "yaxis": "y"
        },
        {
         "error_x": {
          "array": [
           0.04470278052827165
          ]
         },
         "error_y": {
          "array": [
           0.04313249069067954
          ]
         },
         "hovertemplate": "model=bbb_0.01<br>worst_acc accuracy=%{x}<br>worst_acc sece=%{y}<extra></extra>",
         "legendgroup": "bbb_0.01",
         "marker": {
          "color": "#EF553B",
          "symbol": "circle"
         },
         "mode": "markers",
         "name": "bbb_0.01",
         "orientation": "v",
         "showlegend": true,
         "type": "scatter",
         "x": [
          0.5417108178138733
         ],
         "xaxis": "x",
         "y": [
          -0.3591472928683913
         ],
         "yaxis": "y"
        },
        {
         "error_x": {
          "array": [
           0.0408617715424303
          ]
         },
         "error_y": {
          "array": [
           0.040004850190271966
          ]
         },
         "hovertemplate": "model=bbb_0.1<br>worst_acc accuracy=%{x}<br>worst_acc sece=%{y}<extra></extra>",
         "legendgroup": "bbb_0.1",
         "marker": {
          "color": "#00cc96",
          "symbol": "circle"
         },
         "mode": "markers",
         "name": "bbb_0.1",
         "orientation": "v",
         "showlegend": true,
         "type": "scatter",
         "x": [
          0.5372841954231262
         ],
         "xaxis": "x",
         "y": [
          -0.3651437051223021
         ],
         "yaxis": "y"
        },
        {
         "error_x": {
          "array": [
           0.01156227717837493
          ]
         },
         "error_y": {
          "array": [
           0.011667353650744275
          ]
         },
         "hovertemplate": "model=bbb_4<br>worst_acc accuracy=%{x}<br>worst_acc sece=%{y}<extra></extra>",
         "legendgroup": "bbb_4",
         "marker": {
          "color": "#ab63fa",
          "symbol": "circle"
         },
         "mode": "markers",
         "name": "bbb_4",
         "orientation": "v",
         "showlegend": true,
         "type": "scatter",
         "x": [
          0.524920642375946
         ],
         "xaxis": "x",
         "y": [
          -0.33802425214695553
         ],
         "yaxis": "y"
        },
        {
         "error_x": {
          "array": [
           0.015864332749106744
          ]
         },
         "error_y": {
          "array": [
           0.018341462753346416
          ]
         },
         "hovertemplate": "model=laplace<br>worst_acc accuracy=%{x}<br>worst_acc sece=%{y}<extra></extra>",
         "legendgroup": "laplace",
         "marker": {
          "color": "#FFA15A",
          "symbol": "circle"
         },
         "mode": "markers",
         "name": "laplace",
         "orientation": "v",
         "showlegend": true,
         "type": "scatter",
         "x": [
          0.4243055507540703
         ],
         "xaxis": "x",
         "y": [
          -0.34665838611600475
         ],
         "yaxis": "y"
        },
        {
         "error_x": {
          "array": [
           0.008272259530625485
          ]
         },
         "error_y": {
          "array": [
           0.009717989728433655
          ]
         },
         "hovertemplate": "model=laplace_4<br>worst_acc accuracy=%{x}<br>worst_acc sece=%{y}<extra></extra>",
         "legendgroup": "laplace_4",
         "marker": {
          "color": "#19d3f3",
          "symbol": "circle"
         },
         "mode": "markers",
         "name": "laplace_4",
         "orientation": "v",
         "showlegend": true,
         "type": "scatter",
         "x": [
          0.419523811340332
         ],
         "xaxis": "x",
         "y": [
          -0.34816387246628955
         ],
         "yaxis": "y"
        },
        {
         "error_x": {
          "array": [
           0.04531382289549484
          ]
         },
         "error_y": {
          "array": [
           0.04760153499789296
          ]
         },
         "hovertemplate": "model=ll_ivon<br>worst_acc accuracy=%{x}<br>worst_acc sece=%{y}<extra></extra>",
         "legendgroup": "ll_ivon",
         "marker": {
          "color": "#FF6692",
          "symbol": "circle"
         },
         "mode": "markers",
         "name": "ll_ivon",
         "orientation": "v",
         "showlegend": true,
         "type": "scatter",
         "x": [
          0.47976407408714294
         ],
         "xaxis": "x",
         "y": [
          -0.42091922504183454
         ],
         "yaxis": "y"
        },
        {
         "error_x": {
          "array": [
           0.010765387992716143
          ]
         },
         "error_y": {
          "array": [
           0.014712262206007975
          ]
         },
         "hovertemplate": "model=ll_ivon_5<br>worst_acc accuracy=%{x}<br>worst_acc sece=%{y}<extra></extra>",
         "legendgroup": "ll_ivon_5",
         "marker": {
          "color": "#B6E880",
          "symbol": "circle"
         },
         "mode": "markers",
         "name": "ll_ivon_5",
         "orientation": "v",
         "showlegend": true,
         "type": "scatter",
         "x": [
          0.4649206340312958
         ],
         "xaxis": "x",
         "y": [
          -0.3956816174863168
         ],
         "yaxis": "y"
        },
        {
         "error_x": {
          "array": [
           null
          ]
         },
         "error_y": {
          "array": [
           null
          ]
         },
         "hovertemplate": "model=ll_ivon_p1<br>worst_acc accuracy=%{x}<br>worst_acc sece=%{y}<extra></extra>",
         "legendgroup": "ll_ivon_p1",
         "marker": {
          "color": "#FF97FF",
          "symbol": "circle"
         },
         "mode": "markers",
         "name": "ll_ivon_p1",
         "orientation": "v",
         "showlegend": true,
         "type": "scatter",
         "x": [
          0.4476190507411957
         ],
         "xaxis": "x",
         "y": [
          -0.438196626447496
         ],
         "yaxis": "y"
        },
        {
         "error_x": {
          "array": [
           null
          ]
         },
         "error_y": {
          "array": [
           null
          ]
         },
         "hovertemplate": "model=ll_ivon_p10<br>worst_acc accuracy=%{x}<br>worst_acc sece=%{y}<extra></extra>",
         "legendgroup": "ll_ivon_p10",
         "marker": {
          "color": "#FECB52",
          "symbol": "circle"
         },
         "mode": "markers",
         "name": "ll_ivon_p10",
         "orientation": "v",
         "showlegend": true,
         "type": "scatter",
         "x": [
          0.4317460358142853
         ],
         "xaxis": "x",
         "y": [
          -0.4600181528736675
         ],
         "yaxis": "y"
        },
        {
         "error_x": {
          "array": [
           null
          ]
         },
         "error_y": {
          "array": [
           null
          ]
         },
         "hovertemplate": "model=ll_ivon_p100<br>worst_acc accuracy=%{x}<br>worst_acc sece=%{y}<extra></extra>",
         "legendgroup": "ll_ivon_p100",
         "marker": {
          "color": "#636efa",
          "symbol": "circle"
         },
         "mode": "markers",
         "name": "ll_ivon_p100",
         "orientation": "v",
         "showlegend": true,
         "type": "scatter",
         "x": [
          0.4253968298435211
         ],
         "xaxis": "x",
         "y": [
          -0.47643802132871416
         ],
         "yaxis": "y"
        },
        {
         "error_x": {
          "array": [
           null
          ]
         },
         "error_y": {
          "array": [
           null
          ]
         },
         "hovertemplate": "model=ll_ivon_p500<br>worst_acc accuracy=%{x}<br>worst_acc sece=%{y}<extra></extra>",
         "legendgroup": "ll_ivon_p500",
         "marker": {
          "color": "#EF553B",
          "symbol": "circle"
         },
         "mode": "markers",
         "name": "ll_ivon_p500",
         "orientation": "v",
         "showlegend": true,
         "type": "scatter",
         "x": [
          0.4674603044986725
         ],
         "xaxis": "x",
         "y": [
          -0.4157990511920717
         ],
         "yaxis": "y"
        },
        {
         "error_x": {
          "array": [
           0.027246095202438876
          ]
         },
         "error_y": {
          "array": [
           0.026661448774988043
          ]
         },
         "hovertemplate": "model=ll_svgd<br>worst_acc accuracy=%{x}<br>worst_acc sece=%{y}<extra></extra>",
         "legendgroup": "ll_svgd",
         "marker": {
          "color": "#00cc96",
          "symbol": "circle"
         },
         "mode": "markers",
         "name": "ll_svgd",
         "orientation": "v",
         "showlegend": true,
         "type": "scatter",
         "x": [
          0.4177716732025146
         ],
         "xaxis": "x",
         "y": [
          -0.3527964515068883
         ],
         "yaxis": "y"
        },
        {
         "error_x": {
          "array": [
           0.02100162492024524
          ]
         },
         "error_y": {
          "array": [
           0.024756060501472534
          ]
         },
         "hovertemplate": "model=map<br>worst_acc accuracy=%{x}<br>worst_acc sece=%{y}<extra></extra>",
         "legendgroup": "map",
         "marker": {
          "color": "#ab63fa",
          "symbol": "circle"
         },
         "mode": "markers",
         "name": "map",
         "orientation": "v",
         "showlegend": true,
         "type": "scatter",
         "x": [
          0.41952380537986755
         ],
         "xaxis": "x",
         "y": [
          -0.3525016825551551
         ],
         "yaxis": "y"
        },
        {
         "error_x": {
          "array": [
           0.008115437930857844
          ]
         },
         "error_y": {
          "array": [
           0.009635990707210416
          ]
         },
         "hovertemplate": "model=map_4<br>worst_acc accuracy=%{x}<br>worst_acc sece=%{y}<extra></extra>",
         "legendgroup": "map_4",
         "marker": {
          "color": "#FFA15A",
          "symbol": "circle"
         },
         "mode": "markers",
         "name": "map_4",
         "orientation": "v",
         "showlegend": true,
         "type": "scatter",
         "x": [
          0.41920634508132937
         ],
         "xaxis": "x",
         "y": [
          -0.34904403020413444
         ],
         "yaxis": "y"
        },
        {
         "error_x": {
          "array": [
           0.011499937688612313
          ]
         },
         "error_y": {
          "array": [
           0.013177005725379578
          ]
         },
         "hovertemplate": "model=map_4_wd0.0001<br>worst_acc accuracy=%{x}<br>worst_acc sece=%{y}<extra></extra>",
         "legendgroup": "map_4_wd0.0001",
         "marker": {
          "color": "#19d3f3",
          "symbol": "circle"
         },
         "mode": "markers",
         "name": "map_4_wd0.0001",
         "orientation": "v",
         "showlegend": true,
         "type": "scatter",
         "x": [
          0.4619230806827545
         ],
         "xaxis": "x",
         "y": [
          -0.3933591823738355
         ],
         "yaxis": "y"
        },
        {
         "error_x": {
          "array": [
           0.04858100952001102
          ]
         },
         "error_y": {
          "array": [
           0.043133540229233394
          ]
         },
         "hovertemplate": "model=map_wd0.0001<br>worst_acc accuracy=%{x}<br>worst_acc sece=%{y}<extra></extra>",
         "legendgroup": "map_wd0.0001",
         "marker": {
          "color": "#FF6692",
          "symbol": "circle"
         },
         "mode": "markers",
         "name": "map_wd0.0001",
         "orientation": "v",
         "showlegend": true,
         "type": "scatter",
         "x": [
          0.4722651422023773
         ],
         "xaxis": "x",
         "y": [
          -0.4027280713835707
         ],
         "yaxis": "y"
        },
        {
         "error_x": {
          "array": [
           0.023371633298124188
          ]
         },
         "error_y": {
          "array": [
           0.030082237582853368
          ]
         },
         "hovertemplate": "model=mcd<br>worst_acc accuracy=%{x}<br>worst_acc sece=%{y}<extra></extra>",
         "legendgroup": "mcd",
         "marker": {
          "color": "#B6E880",
          "symbol": "circle"
         },
         "mode": "markers",
         "name": "mcd",
         "orientation": "v",
         "showlegend": true,
         "type": "scatter",
         "x": [
          0.3261904716491699
         ],
         "xaxis": "x",
         "y": [
          -0.4167613277454225
         ],
         "yaxis": "y"
        },
        {
         "error_x": {
          "array": [
           0.016017120244923074
          ]
         },
         "error_y": {
          "array": [
           0.022909719305735998
          ]
         },
         "hovertemplate": "model=mcd-p0.0<br>worst_acc accuracy=%{x}<br>worst_acc sece=%{y}<extra></extra>",
         "legendgroup": "mcd-p0.0",
         "marker": {
          "color": "#FF97FF",
          "symbol": "circle"
         },
         "mode": "markers",
         "name": "mcd-p0.0",
         "orientation": "v",
         "showlegend": true,
         "type": "scatter",
         "x": [
          0.404340660572052
         ],
         "xaxis": "x",
         "y": [
          -0.3688858860949684
         ],
         "yaxis": "y"
        },
        {
         "error_x": {
          "array": [
           0.015307930434893556
          ]
         },
         "error_y": {
          "array": [
           0.02257189943965059
          ]
         },
         "hovertemplate": "model=mcd-p0.01<br>worst_acc accuracy=%{x}<br>worst_acc sece=%{y}<extra></extra>",
         "legendgroup": "mcd-p0.01",
         "marker": {
          "color": "#FECB52",
          "symbol": "circle"
         },
         "mode": "markers",
         "name": "mcd-p0.01",
         "orientation": "v",
         "showlegend": true,
         "type": "scatter",
         "x": [
          0.396227103471756
         ],
         "xaxis": "x",
         "y": [
          -0.3735489736234494
         ],
         "yaxis": "y"
        },
        {
         "error_x": {
          "array": [
           0.017763595108085166
          ]
         },
         "error_y": {
          "array": [
           0.023714811201414644
          ]
         },
         "hovertemplate": "model=mcd-p0.05<br>worst_acc accuracy=%{x}<br>worst_acc sece=%{y}<extra></extra>",
         "legendgroup": "mcd-p0.05",
         "marker": {
          "color": "#636efa",
          "symbol": "circle"
         },
         "mode": "markers",
         "name": "mcd-p0.05",
         "orientation": "v",
         "showlegend": true,
         "type": "scatter",
         "x": [
          0.3644444406032562
         ],
         "xaxis": "x",
         "y": [
          -0.39310975038531487
         ],
         "yaxis": "y"
        },
        {
         "error_x": {
          "array": [
           0.020732372583736714
          ]
         },
         "error_y": {
          "array": [
           0.027082058237155798
          ]
         },
         "hovertemplate": "model=mcd-p0.1<br>worst_acc accuracy=%{x}<br>worst_acc sece=%{y}<extra></extra>",
         "legendgroup": "mcd-p0.1",
         "marker": {
          "color": "#EF553B",
          "symbol": "circle"
         },
         "mode": "markers",
         "name": "mcd-p0.1",
         "orientation": "v",
         "showlegend": true,
         "type": "scatter",
         "x": [
          0.32460318207740785
         ],
         "xaxis": "x",
         "y": [
          -0.4181883958194937
         ],
         "yaxis": "y"
        },
        {
         "error_x": {
          "array": [
           0.005250099137902074
          ]
         },
         "error_y": {
          "array": [
           0.0073646309288026976
          ]
         },
         "hovertemplate": "model=mcd_4<br>worst_acc accuracy=%{x}<br>worst_acc sece=%{y}<extra></extra>",
         "legendgroup": "mcd_4",
         "marker": {
          "color": "#00cc96",
          "symbol": "circle"
         },
         "mode": "markers",
         "name": "mcd_4",
         "orientation": "v",
         "showlegend": true,
         "type": "scatter",
         "x": [
          0.32634921073913575
         ],
         "xaxis": "x",
         "y": [
          -0.4124126917431279
         ],
         "yaxis": "y"
        },
        {
         "error_x": {
          "array": [
           0.028425946034003207
          ]
         },
         "error_y": {
          "array": [
           0.03043585150281483
          ]
         },
         "hovertemplate": "model=rank1<br>worst_acc accuracy=%{x}<br>worst_acc sece=%{y}<extra></extra>",
         "legendgroup": "rank1",
         "marker": {
          "color": "#ab63fa",
          "symbol": "circle"
         },
         "mode": "markers",
         "name": "rank1",
         "orientation": "v",
         "showlegend": true,
         "type": "scatter",
         "x": [
          0.5397683262825013
         ],
         "xaxis": "x",
         "y": [
          -0.37256584852210817
         ],
         "yaxis": "y"
        },
        {
         "error_x": {
          "array": [
           0.06766194388476081
          ]
         },
         "error_y": {
          "array": [
           0.0788593161458494
          ]
         },
         "hovertemplate": "model=svgd<br>worst_acc accuracy=%{x}<br>worst_acc sece=%{y}<extra></extra>",
         "legendgroup": "svgd",
         "marker": {
          "color": "#FFA15A",
          "symbol": "circle"
         },
         "mode": "markers",
         "name": "svgd",
         "orientation": "v",
         "showlegend": true,
         "type": "scatter",
         "x": [
          0.38381563425064086
         ],
         "xaxis": "x",
         "y": [
          -0.37920812999584025
         ],
         "yaxis": "y"
        },
        {
         "error_x": {
          "array": [
           0.020869248394560874
          ]
         },
         "error_y": {
          "array": [
           0.026540505825530285
          ]
         },
         "hovertemplate": "model=swag<br>worst_acc accuracy=%{x}<br>worst_acc sece=%{y}<extra></extra>",
         "legendgroup": "swag",
         "marker": {
          "color": "#19d3f3",
          "symbol": "circle"
         },
         "mode": "markers",
         "name": "swag",
         "orientation": "v",
         "showlegend": true,
         "type": "scatter",
         "x": [
          0.4480952322483063
         ],
         "xaxis": "x",
         "y": [
          -0.18363012609618998
         ],
         "yaxis": "y"
        },
        {
         "error_x": {
          "array": [
           0.015828505278767644
          ]
         },
         "error_y": {
          "array": [
           0.017860368816370605
          ]
         },
         "hovertemplate": "model=swag_4<br>worst_acc accuracy=%{x}<br>worst_acc sece=%{y}<extra></extra>",
         "legendgroup": "swag_4",
         "marker": {
          "color": "#FF6692",
          "symbol": "circle"
         },
         "mode": "markers",
         "name": "swag_4",
         "orientation": "v",
         "showlegend": true,
         "type": "scatter",
         "x": [
          0.42873015999794006
         ],
         "xaxis": "x",
         "y": [
          -0.1834817414346432
         ],
         "yaxis": "y"
        }
       ],
       "layout": {
        "legend": {
         "title": {
          "text": "model"
         },
         "tracegroupgap": 0
        },
        "margin": {
         "t": 60
        },
        "template": {
         "data": {
          "bar": [
           {
            "error_x": {
             "color": "#2a3f5f"
            },
            "error_y": {
             "color": "#2a3f5f"
            },
            "marker": {
             "line": {
              "color": "#E5ECF6",
              "width": 0.5
             },
             "pattern": {
              "fillmode": "overlay",
              "size": 10,
              "solidity": 0.2
             }
            },
            "type": "bar"
           }
          ],
          "barpolar": [
           {
            "marker": {
             "line": {
              "color": "#E5ECF6",
              "width": 0.5
             },
             "pattern": {
              "fillmode": "overlay",
              "size": 10,
              "solidity": 0.2
             }
            },
            "type": "barpolar"
           }
          ],
          "carpet": [
           {
            "aaxis": {
             "endlinecolor": "#2a3f5f",
             "gridcolor": "white",
             "linecolor": "white",
             "minorgridcolor": "white",
             "startlinecolor": "#2a3f5f"
            },
            "baxis": {
             "endlinecolor": "#2a3f5f",
             "gridcolor": "white",
             "linecolor": "white",
             "minorgridcolor": "white",
             "startlinecolor": "#2a3f5f"
            },
            "type": "carpet"
           }
          ],
          "choropleth": [
           {
            "colorbar": {
             "outlinewidth": 0,
             "ticks": ""
            },
            "type": "choropleth"
           }
          ],
          "contour": [
           {
            "colorbar": {
             "outlinewidth": 0,
             "ticks": ""
            },
            "colorscale": [
             [
              0,
              "#0d0887"
             ],
             [
              0.1111111111111111,
              "#46039f"
             ],
             [
              0.2222222222222222,
              "#7201a8"
             ],
             [
              0.3333333333333333,
              "#9c179e"
             ],
             [
              0.4444444444444444,
              "#bd3786"
             ],
             [
              0.5555555555555556,
              "#d8576b"
             ],
             [
              0.6666666666666666,
              "#ed7953"
             ],
             [
              0.7777777777777778,
              "#fb9f3a"
             ],
             [
              0.8888888888888888,
              "#fdca26"
             ],
             [
              1,
              "#f0f921"
             ]
            ],
            "type": "contour"
           }
          ],
          "contourcarpet": [
           {
            "colorbar": {
             "outlinewidth": 0,
             "ticks": ""
            },
            "type": "contourcarpet"
           }
          ],
          "heatmap": [
           {
            "colorbar": {
             "outlinewidth": 0,
             "ticks": ""
            },
            "colorscale": [
             [
              0,
              "#0d0887"
             ],
             [
              0.1111111111111111,
              "#46039f"
             ],
             [
              0.2222222222222222,
              "#7201a8"
             ],
             [
              0.3333333333333333,
              "#9c179e"
             ],
             [
              0.4444444444444444,
              "#bd3786"
             ],
             [
              0.5555555555555556,
              "#d8576b"
             ],
             [
              0.6666666666666666,
              "#ed7953"
             ],
             [
              0.7777777777777778,
              "#fb9f3a"
             ],
             [
              0.8888888888888888,
              "#fdca26"
             ],
             [
              1,
              "#f0f921"
             ]
            ],
            "type": "heatmap"
           }
          ],
          "heatmapgl": [
           {
            "colorbar": {
             "outlinewidth": 0,
             "ticks": ""
            },
            "colorscale": [
             [
              0,
              "#0d0887"
             ],
             [
              0.1111111111111111,
              "#46039f"
             ],
             [
              0.2222222222222222,
              "#7201a8"
             ],
             [
              0.3333333333333333,
              "#9c179e"
             ],
             [
              0.4444444444444444,
              "#bd3786"
             ],
             [
              0.5555555555555556,
              "#d8576b"
             ],
             [
              0.6666666666666666,
              "#ed7953"
             ],
             [
              0.7777777777777778,
              "#fb9f3a"
             ],
             [
              0.8888888888888888,
              "#fdca26"
             ],
             [
              1,
              "#f0f921"
             ]
            ],
            "type": "heatmapgl"
           }
          ],
          "histogram": [
           {
            "marker": {
             "pattern": {
              "fillmode": "overlay",
              "size": 10,
              "solidity": 0.2
             }
            },
            "type": "histogram"
           }
          ],
          "histogram2d": [
           {
            "colorbar": {
             "outlinewidth": 0,
             "ticks": ""
            },
            "colorscale": [
             [
              0,
              "#0d0887"
             ],
             [
              0.1111111111111111,
              "#46039f"
             ],
             [
              0.2222222222222222,
              "#7201a8"
             ],
             [
              0.3333333333333333,
              "#9c179e"
             ],
             [
              0.4444444444444444,
              "#bd3786"
             ],
             [
              0.5555555555555556,
              "#d8576b"
             ],
             [
              0.6666666666666666,
              "#ed7953"
             ],
             [
              0.7777777777777778,
              "#fb9f3a"
             ],
             [
              0.8888888888888888,
              "#fdca26"
             ],
             [
              1,
              "#f0f921"
             ]
            ],
            "type": "histogram2d"
           }
          ],
          "histogram2dcontour": [
           {
            "colorbar": {
             "outlinewidth": 0,
             "ticks": ""
            },
            "colorscale": [
             [
              0,
              "#0d0887"
             ],
             [
              0.1111111111111111,
              "#46039f"
             ],
             [
              0.2222222222222222,
              "#7201a8"
             ],
             [
              0.3333333333333333,
              "#9c179e"
             ],
             [
              0.4444444444444444,
              "#bd3786"
             ],
             [
              0.5555555555555556,
              "#d8576b"
             ],
             [
              0.6666666666666666,
              "#ed7953"
             ],
             [
              0.7777777777777778,
              "#fb9f3a"
             ],
             [
              0.8888888888888888,
              "#fdca26"
             ],
             [
              1,
              "#f0f921"
             ]
            ],
            "type": "histogram2dcontour"
           }
          ],
          "mesh3d": [
           {
            "colorbar": {
             "outlinewidth": 0,
             "ticks": ""
            },
            "type": "mesh3d"
           }
          ],
          "parcoords": [
           {
            "line": {
             "colorbar": {
              "outlinewidth": 0,
              "ticks": ""
             }
            },
            "type": "parcoords"
           }
          ],
          "pie": [
           {
            "automargin": true,
            "type": "pie"
           }
          ],
          "scatter": [
           {
            "fillpattern": {
             "fillmode": "overlay",
             "size": 10,
             "solidity": 0.2
            },
            "type": "scatter"
           }
          ],
          "scatter3d": [
           {
            "line": {
             "colorbar": {
              "outlinewidth": 0,
              "ticks": ""
             }
            },
            "marker": {
             "colorbar": {
              "outlinewidth": 0,
              "ticks": ""
             }
            },
            "type": "scatter3d"
           }
          ],
          "scattercarpet": [
           {
            "marker": {
             "colorbar": {
              "outlinewidth": 0,
              "ticks": ""
             }
            },
            "type": "scattercarpet"
           }
          ],
          "scattergeo": [
           {
            "marker": {
             "colorbar": {
              "outlinewidth": 0,
              "ticks": ""
             }
            },
            "type": "scattergeo"
           }
          ],
          "scattergl": [
           {
            "marker": {
             "colorbar": {
              "outlinewidth": 0,
              "ticks": ""
             }
            },
            "type": "scattergl"
           }
          ],
          "scattermapbox": [
           {
            "marker": {
             "colorbar": {
              "outlinewidth": 0,
              "ticks": ""
             }
            },
            "type": "scattermapbox"
           }
          ],
          "scatterpolar": [
           {
            "marker": {
             "colorbar": {
              "outlinewidth": 0,
              "ticks": ""
             }
            },
            "type": "scatterpolar"
           }
          ],
          "scatterpolargl": [
           {
            "marker": {
             "colorbar": {
              "outlinewidth": 0,
              "ticks": ""
             }
            },
            "type": "scatterpolargl"
           }
          ],
          "scatterternary": [
           {
            "marker": {
             "colorbar": {
              "outlinewidth": 0,
              "ticks": ""
             }
            },
            "type": "scatterternary"
           }
          ],
          "surface": [
           {
            "colorbar": {
             "outlinewidth": 0,
             "ticks": ""
            },
            "colorscale": [
             [
              0,
              "#0d0887"
             ],
             [
              0.1111111111111111,
              "#46039f"
             ],
             [
              0.2222222222222222,
              "#7201a8"
             ],
             [
              0.3333333333333333,
              "#9c179e"
             ],
             [
              0.4444444444444444,
              "#bd3786"
             ],
             [
              0.5555555555555556,
              "#d8576b"
             ],
             [
              0.6666666666666666,
              "#ed7953"
             ],
             [
              0.7777777777777778,
              "#fb9f3a"
             ],
             [
              0.8888888888888888,
              "#fdca26"
             ],
             [
              1,
              "#f0f921"
             ]
            ],
            "type": "surface"
           }
          ],
          "table": [
           {
            "cells": {
             "fill": {
              "color": "#EBF0F8"
             },
             "line": {
              "color": "white"
             }
            },
            "header": {
             "fill": {
              "color": "#C8D4E3"
             },
             "line": {
              "color": "white"
             }
            },
            "type": "table"
           }
          ]
         },
         "layout": {
          "annotationdefaults": {
           "arrowcolor": "#2a3f5f",
           "arrowhead": 0,
           "arrowwidth": 1
          },
          "autotypenumbers": "strict",
          "coloraxis": {
           "colorbar": {
            "outlinewidth": 0,
            "ticks": ""
           }
          },
          "colorscale": {
           "diverging": [
            [
             0,
             "#8e0152"
            ],
            [
             0.1,
             "#c51b7d"
            ],
            [
             0.2,
             "#de77ae"
            ],
            [
             0.3,
             "#f1b6da"
            ],
            [
             0.4,
             "#fde0ef"
            ],
            [
             0.5,
             "#f7f7f7"
            ],
            [
             0.6,
             "#e6f5d0"
            ],
            [
             0.7,
             "#b8e186"
            ],
            [
             0.8,
             "#7fbc41"
            ],
            [
             0.9,
             "#4d9221"
            ],
            [
             1,
             "#276419"
            ]
           ],
           "sequential": [
            [
             0,
             "#0d0887"
            ],
            [
             0.1111111111111111,
             "#46039f"
            ],
            [
             0.2222222222222222,
             "#7201a8"
            ],
            [
             0.3333333333333333,
             "#9c179e"
            ],
            [
             0.4444444444444444,
             "#bd3786"
            ],
            [
             0.5555555555555556,
             "#d8576b"
            ],
            [
             0.6666666666666666,
             "#ed7953"
            ],
            [
             0.7777777777777778,
             "#fb9f3a"
            ],
            [
             0.8888888888888888,
             "#fdca26"
            ],
            [
             1,
             "#f0f921"
            ]
           ],
           "sequentialminus": [
            [
             0,
             "#0d0887"
            ],
            [
             0.1111111111111111,
             "#46039f"
            ],
            [
             0.2222222222222222,
             "#7201a8"
            ],
            [
             0.3333333333333333,
             "#9c179e"
            ],
            [
             0.4444444444444444,
             "#bd3786"
            ],
            [
             0.5555555555555556,
             "#d8576b"
            ],
            [
             0.6666666666666666,
             "#ed7953"
            ],
            [
             0.7777777777777778,
             "#fb9f3a"
            ],
            [
             0.8888888888888888,
             "#fdca26"
            ],
            [
             1,
             "#f0f921"
            ]
           ]
          },
          "colorway": [
           "#636efa",
           "#EF553B",
           "#00cc96",
           "#ab63fa",
           "#FFA15A",
           "#19d3f3",
           "#FF6692",
           "#B6E880",
           "#FF97FF",
           "#FECB52"
          ],
          "font": {
           "color": "#2a3f5f"
          },
          "geo": {
           "bgcolor": "white",
           "lakecolor": "white",
           "landcolor": "#E5ECF6",
           "showlakes": true,
           "showland": true,
           "subunitcolor": "white"
          },
          "hoverlabel": {
           "align": "left"
          },
          "hovermode": "closest",
          "mapbox": {
           "style": "light"
          },
          "paper_bgcolor": "white",
          "plot_bgcolor": "#E5ECF6",
          "polar": {
           "angularaxis": {
            "gridcolor": "white",
            "linecolor": "white",
            "ticks": ""
           },
           "bgcolor": "#E5ECF6",
           "radialaxis": {
            "gridcolor": "white",
            "linecolor": "white",
            "ticks": ""
           }
          },
          "scene": {
           "xaxis": {
            "backgroundcolor": "#E5ECF6",
            "gridcolor": "white",
            "gridwidth": 2,
            "linecolor": "white",
            "showbackground": true,
            "ticks": "",
            "zerolinecolor": "white"
           },
           "yaxis": {
            "backgroundcolor": "#E5ECF6",
            "gridcolor": "white",
            "gridwidth": 2,
            "linecolor": "white",
            "showbackground": true,
            "ticks": "",
            "zerolinecolor": "white"
           },
           "zaxis": {
            "backgroundcolor": "#E5ECF6",
            "gridcolor": "white",
            "gridwidth": 2,
            "linecolor": "white",
            "showbackground": true,
            "ticks": "",
            "zerolinecolor": "white"
           }
          },
          "shapedefaults": {
           "line": {
            "color": "#2a3f5f"
           }
          },
          "ternary": {
           "aaxis": {
            "gridcolor": "white",
            "linecolor": "white",
            "ticks": ""
           },
           "baxis": {
            "gridcolor": "white",
            "linecolor": "white",
            "ticks": ""
           },
           "bgcolor": "#E5ECF6",
           "caxis": {
            "gridcolor": "white",
            "linecolor": "white",
            "ticks": ""
           }
          },
          "title": {
           "x": 0.05
          },
          "xaxis": {
           "automargin": true,
           "gridcolor": "white",
           "linecolor": "white",
           "ticks": "",
           "title": {
            "standoff": 15
           },
           "zerolinecolor": "white",
           "zerolinewidth": 2
          },
          "yaxis": {
           "automargin": true,
           "gridcolor": "white",
           "linecolor": "white",
           "ticks": "",
           "title": {
            "standoff": 15
           },
           "zerolinecolor": "white",
           "zerolinewidth": 2
          }
         }
        },
        "xaxis": {
         "anchor": "y",
         "domain": [
          0,
          1
         ],
         "title": {
          "text": "worst_acc accuracy"
         }
        },
        "yaxis": {
         "anchor": "x",
         "domain": [
          0,
          1
         ],
         "title": {
          "text": "worst_acc sece"
         }
        }
       }
      }
     },
     "metadata": {},
     "output_type": "display_data"
    }
   ],
   "source": [
    "pareto_plot(data, \"worst_acc\")"
   ]
  },
  {
   "cell_type": "code",
   "execution_count": 9,
   "metadata": {},
   "outputs": [
    {
     "data": {
      "application/vnd.plotly.v1+json": {
       "config": {
        "plotlyServerURL": "https://plot.ly"
       },
       "data": [
        {
         "error_x": {
          "array": [
           0.03200839396511114
          ]
         },
         "error_y": {
          "array": [
           0.031865070970091586
          ]
         },
         "hovertemplate": "model=bbb<br>worst_acc accuracy=%{x}<br>worst_acc ece=%{y}<extra></extra>",
         "legendgroup": "bbb",
         "marker": {
          "color": "#636efa",
          "symbol": "circle"
         },
         "mode": "markers",
         "name": "bbb",
         "orientation": "v",
         "showlegend": true,
         "type": "scatter",
         "x": [
          0.5368559569120407
         ],
         "xaxis": "x",
         "y": [
          0.3620227043002385
         ],
         "yaxis": "y"
        },
        {
         "error_x": {
          "array": [
           0.04470278052827165
          ]
         },
         "error_y": {
          "array": [
           0.04273540173720286
          ]
         },
         "hovertemplate": "model=bbb_0.01<br>worst_acc accuracy=%{x}<br>worst_acc ece=%{y}<extra></extra>",
         "legendgroup": "bbb_0.01",
         "marker": {
          "color": "#EF553B",
          "symbol": "circle"
         },
         "mode": "markers",
         "name": "bbb_0.01",
         "orientation": "v",
         "showlegend": true,
         "type": "scatter",
         "x": [
          0.5417108178138733
         ],
         "xaxis": "x",
         "y": [
          0.3596272585324829
         ],
         "yaxis": "y"
        },
        {
         "error_x": {
          "array": [
           0.0408617715424303
          ]
         },
         "error_y": {
          "array": [
           0.03907640725376266
          ]
         },
         "hovertemplate": "model=bbb_0.1<br>worst_acc accuracy=%{x}<br>worst_acc ece=%{y}<extra></extra>",
         "legendgroup": "bbb_0.1",
         "marker": {
          "color": "#00cc96",
          "symbol": "circle"
         },
         "mode": "markers",
         "name": "bbb_0.1",
         "orientation": "v",
         "showlegend": true,
         "type": "scatter",
         "x": [
          0.5372841954231262
         ],
         "xaxis": "x",
         "y": [
          0.3658450114805184
         ],
         "yaxis": "y"
        },
        {
         "error_x": {
          "array": [
           0.01156227717837493
          ]
         },
         "error_y": {
          "array": [
           0.011667353650744275
          ]
         },
         "hovertemplate": "model=bbb_4<br>worst_acc accuracy=%{x}<br>worst_acc ece=%{y}<extra></extra>",
         "legendgroup": "bbb_4",
         "marker": {
          "color": "#ab63fa",
          "symbol": "circle"
         },
         "mode": "markers",
         "name": "bbb_4",
         "orientation": "v",
         "showlegend": true,
         "type": "scatter",
         "x": [
          0.524920642375946
         ],
         "xaxis": "x",
         "y": [
          0.33802425214695553
         ],
         "yaxis": "y"
        },
        {
         "error_x": {
          "array": [
           0.015864332749106744
          ]
         },
         "error_y": {
          "array": [
           0.017546885373896273
          ]
         },
         "hovertemplate": "model=laplace<br>worst_acc accuracy=%{x}<br>worst_acc ece=%{y}<extra></extra>",
         "legendgroup": "laplace",
         "marker": {
          "color": "#FFA15A",
          "symbol": "circle"
         },
         "mode": "markers",
         "name": "laplace",
         "orientation": "v",
         "showlegend": true,
         "type": "scatter",
         "x": [
          0.4243055507540703
         ],
         "xaxis": "x",
         "y": [
          0.3484560739104858
         ],
         "yaxis": "y"
        },
        {
         "error_x": {
          "array": [
           0.008272259530625485
          ]
         },
         "error_y": {
          "array": [
           0.009717989728433655
          ]
         },
         "hovertemplate": "model=laplace_4<br>worst_acc accuracy=%{x}<br>worst_acc ece=%{y}<extra></extra>",
         "legendgroup": "laplace_4",
         "marker": {
          "color": "#19d3f3",
          "symbol": "circle"
         },
         "mode": "markers",
         "name": "laplace_4",
         "orientation": "v",
         "showlegend": true,
         "type": "scatter",
         "x": [
          0.419523811340332
         ],
         "xaxis": "x",
         "y": [
          0.34816387246628955
         ],
         "yaxis": "y"
        },
        {
         "error_x": {
          "array": [
           0.04531382289549484
          ]
         },
         "error_y": {
          "array": [
           0.048037094825550235
          ]
         },
         "hovertemplate": "model=ll_ivon<br>worst_acc accuracy=%{x}<br>worst_acc ece=%{y}<extra></extra>",
         "legendgroup": "ll_ivon",
         "marker": {
          "color": "#FF6692",
          "symbol": "circle"
         },
         "mode": "markers",
         "name": "ll_ivon",
         "orientation": "v",
         "showlegend": true,
         "type": "scatter",
         "x": [
          0.47976407408714294
         ],
         "xaxis": "x",
         "y": [
          0.4212698734740404
         ],
         "yaxis": "y"
        },
        {
         "error_x": {
          "array": [
           0.010765387992716143
          ]
         },
         "error_y": {
          "array": [
           0.014712262206007975
          ]
         },
         "hovertemplate": "model=ll_ivon_5<br>worst_acc accuracy=%{x}<br>worst_acc ece=%{y}<extra></extra>",
         "legendgroup": "ll_ivon_5",
         "marker": {
          "color": "#B6E880",
          "symbol": "circle"
         },
         "mode": "markers",
         "name": "ll_ivon_5",
         "orientation": "v",
         "showlegend": true,
         "type": "scatter",
         "x": [
          0.4649206340312958
         ],
         "xaxis": "x",
         "y": [
          0.3956816174863168
         ],
         "yaxis": "y"
        },
        {
         "error_x": {
          "array": [
           null
          ]
         },
         "error_y": {
          "array": [
           null
          ]
         },
         "hovertemplate": "model=ll_ivon_p1<br>worst_acc accuracy=%{x}<br>worst_acc ece=%{y}<extra></extra>",
         "legendgroup": "ll_ivon_p1",
         "marker": {
          "color": "#FF97FF",
          "symbol": "circle"
         },
         "mode": "markers",
         "name": "ll_ivon_p1",
         "orientation": "v",
         "showlegend": true,
         "type": "scatter",
         "x": [
          0.4476190507411957
         ],
         "xaxis": "x",
         "y": [
          0.438196626447496
         ],
         "yaxis": "y"
        },
        {
         "error_x": {
          "array": [
           null
          ]
         },
         "error_y": {
          "array": [
           null
          ]
         },
         "hovertemplate": "model=ll_ivon_p10<br>worst_acc accuracy=%{x}<br>worst_acc ece=%{y}<extra></extra>",
         "legendgroup": "ll_ivon_p10",
         "marker": {
          "color": "#FECB52",
          "symbol": "circle"
         },
         "mode": "markers",
         "name": "ll_ivon_p10",
         "orientation": "v",
         "showlegend": true,
         "type": "scatter",
         "x": [
          0.4317460358142853
         ],
         "xaxis": "x",
         "y": [
          0.4600181528736675
         ],
         "yaxis": "y"
        },
        {
         "error_x": {
          "array": [
           null
          ]
         },
         "error_y": {
          "array": [
           null
          ]
         },
         "hovertemplate": "model=ll_ivon_p100<br>worst_acc accuracy=%{x}<br>worst_acc ece=%{y}<extra></extra>",
         "legendgroup": "ll_ivon_p100",
         "marker": {
          "color": "#636efa",
          "symbol": "circle"
         },
         "mode": "markers",
         "name": "ll_ivon_p100",
         "orientation": "v",
         "showlegend": true,
         "type": "scatter",
         "x": [
          0.4253968298435211
         ],
         "xaxis": "x",
         "y": [
          0.47643802132871416
         ],
         "yaxis": "y"
        },
        {
         "error_x": {
          "array": [
           null
          ]
         },
         "error_y": {
          "array": [
           null
          ]
         },
         "hovertemplate": "model=ll_ivon_p500<br>worst_acc accuracy=%{x}<br>worst_acc ece=%{y}<extra></extra>",
         "legendgroup": "ll_ivon_p500",
         "marker": {
          "color": "#EF553B",
          "symbol": "circle"
         },
         "mode": "markers",
         "name": "ll_ivon_p500",
         "orientation": "v",
         "showlegend": true,
         "type": "scatter",
         "x": [
          0.4674603044986725
         ],
         "xaxis": "x",
         "y": [
          0.4157990511920717
         ],
         "yaxis": "y"
        },
        {
         "error_x": {
          "array": [
           0.027246095202438876
          ]
         },
         "error_y": {
          "array": [
           0.026661448774988043
          ]
         },
         "hovertemplate": "model=ll_svgd<br>worst_acc accuracy=%{x}<br>worst_acc ece=%{y}<extra></extra>",
         "legendgroup": "ll_svgd",
         "marker": {
          "color": "#00cc96",
          "symbol": "circle"
         },
         "mode": "markers",
         "name": "ll_svgd",
         "orientation": "v",
         "showlegend": true,
         "type": "scatter",
         "x": [
          0.4177716732025146
         ],
         "xaxis": "x",
         "y": [
          0.3527964515068883
         ],
         "yaxis": "y"
        },
        {
         "error_x": {
          "array": [
           0.02100162492024524
          ]
         },
         "error_y": {
          "array": [
           0.024564573236439253
          ]
         },
         "hovertemplate": "model=map<br>worst_acc accuracy=%{x}<br>worst_acc ece=%{y}<extra></extra>",
         "legendgroup": "map",
         "marker": {
          "color": "#ab63fa",
          "symbol": "circle"
         },
         "mode": "markers",
         "name": "map",
         "orientation": "v",
         "showlegend": true,
         "type": "scatter",
         "x": [
          0.41952380537986755
         ],
         "xaxis": "x",
         "y": [
          0.35276523032003926
         ],
         "yaxis": "y"
        },
        {
         "error_x": {
          "array": [
           0.008115437930857844
          ]
         },
         "error_y": {
          "array": [
           0.009635990707210416
          ]
         },
         "hovertemplate": "model=map_4<br>worst_acc accuracy=%{x}<br>worst_acc ece=%{y}<extra></extra>",
         "legendgroup": "map_4",
         "marker": {
          "color": "#FFA15A",
          "symbol": "circle"
         },
         "mode": "markers",
         "name": "map_4",
         "orientation": "v",
         "showlegend": true,
         "type": "scatter",
         "x": [
          0.41920634508132937
         ],
         "xaxis": "x",
         "y": [
          0.34904403020413444
         ],
         "yaxis": "y"
        },
        {
         "error_x": {
          "array": [
           0.011499937688612313
          ]
         },
         "error_y": {
          "array": [
           0.011491918749899452
          ]
         },
         "hovertemplate": "model=map_4_wd0.0001<br>worst_acc accuracy=%{x}<br>worst_acc ece=%{y}<extra></extra>",
         "legendgroup": "map_4_wd0.0001",
         "marker": {
          "color": "#19d3f3",
          "symbol": "circle"
         },
         "mode": "markers",
         "name": "map_4_wd0.0001",
         "orientation": "v",
         "showlegend": true,
         "type": "scatter",
         "x": [
          0.4619230806827545
         ],
         "xaxis": "x",
         "y": [
          0.3947177739670643
         ],
         "yaxis": "y"
        },
        {
         "error_x": {
          "array": [
           0.04858100952001102
          ]
         },
         "error_y": {
          "array": [
           0.04386255561307299
          ]
         },
         "hovertemplate": "model=map_wd0.0001<br>worst_acc accuracy=%{x}<br>worst_acc ece=%{y}<extra></extra>",
         "legendgroup": "map_wd0.0001",
         "marker": {
          "color": "#FF6692",
          "symbol": "circle"
         },
         "mode": "markers",
         "name": "map_wd0.0001",
         "orientation": "v",
         "showlegend": true,
         "type": "scatter",
         "x": [
          0.4722651422023773
         ],
         "xaxis": "x",
         "y": [
          0.4042107394899433
         ],
         "yaxis": "y"
        },
        {
         "error_x": {
          "array": [
           0.023371633298124188
          ]
         },
         "error_y": {
          "array": [
           0.030082237582853368
          ]
         },
         "hovertemplate": "model=mcd<br>worst_acc accuracy=%{x}<br>worst_acc ece=%{y}<extra></extra>",
         "legendgroup": "mcd",
         "marker": {
          "color": "#B6E880",
          "symbol": "circle"
         },
         "mode": "markers",
         "name": "mcd",
         "orientation": "v",
         "showlegend": true,
         "type": "scatter",
         "x": [
          0.3261904716491699
         ],
         "xaxis": "x",
         "y": [
          0.4167613277454225
         ],
         "yaxis": "y"
        },
        {
         "error_x": {
          "array": [
           0.016017120244923074
          ]
         },
         "error_y": {
          "array": [
           0.022909719305735998
          ]
         },
         "hovertemplate": "model=mcd-p0.0<br>worst_acc accuracy=%{x}<br>worst_acc ece=%{y}<extra></extra>",
         "legendgroup": "mcd-p0.0",
         "marker": {
          "color": "#FF97FF",
          "symbol": "circle"
         },
         "mode": "markers",
         "name": "mcd-p0.0",
         "orientation": "v",
         "showlegend": true,
         "type": "scatter",
         "x": [
          0.404340660572052
         ],
         "xaxis": "x",
         "y": [
          0.3688858860949684
         ],
         "yaxis": "y"
        },
        {
         "error_x": {
          "array": [
           0.015307930434893556
          ]
         },
         "error_y": {
          "array": [
           0.02257189943965059
          ]
         },
         "hovertemplate": "model=mcd-p0.01<br>worst_acc accuracy=%{x}<br>worst_acc ece=%{y}<extra></extra>",
         "legendgroup": "mcd-p0.01",
         "marker": {
          "color": "#FECB52",
          "symbol": "circle"
         },
         "mode": "markers",
         "name": "mcd-p0.01",
         "orientation": "v",
         "showlegend": true,
         "type": "scatter",
         "x": [
          0.396227103471756
         ],
         "xaxis": "x",
         "y": [
          0.3735489736234494
         ],
         "yaxis": "y"
        },
        {
         "error_x": {
          "array": [
           0.017763595108085166
          ]
         },
         "error_y": {
          "array": [
           0.023714811201414644
          ]
         },
         "hovertemplate": "model=mcd-p0.05<br>worst_acc accuracy=%{x}<br>worst_acc ece=%{y}<extra></extra>",
         "legendgroup": "mcd-p0.05",
         "marker": {
          "color": "#636efa",
          "symbol": "circle"
         },
         "mode": "markers",
         "name": "mcd-p0.05",
         "orientation": "v",
         "showlegend": true,
         "type": "scatter",
         "x": [
          0.3644444406032562
         ],
         "xaxis": "x",
         "y": [
          0.39310975038531487
         ],
         "yaxis": "y"
        },
        {
         "error_x": {
          "array": [
           0.020732372583736714
          ]
         },
         "error_y": {
          "array": [
           0.027082058237155798
          ]
         },
         "hovertemplate": "model=mcd-p0.1<br>worst_acc accuracy=%{x}<br>worst_acc ece=%{y}<extra></extra>",
         "legendgroup": "mcd-p0.1",
         "marker": {
          "color": "#EF553B",
          "symbol": "circle"
         },
         "mode": "markers",
         "name": "mcd-p0.1",
         "orientation": "v",
         "showlegend": true,
         "type": "scatter",
         "x": [
          0.32460318207740785
         ],
         "xaxis": "x",
         "y": [
          0.4181883958194937
         ],
         "yaxis": "y"
        },
        {
         "error_x": {
          "array": [
           0.005250099137902074
          ]
         },
         "error_y": {
          "array": [
           0.0073646309288026976
          ]
         },
         "hovertemplate": "model=mcd_4<br>worst_acc accuracy=%{x}<br>worst_acc ece=%{y}<extra></extra>",
         "legendgroup": "mcd_4",
         "marker": {
          "color": "#00cc96",
          "symbol": "circle"
         },
         "mode": "markers",
         "name": "mcd_4",
         "orientation": "v",
         "showlegend": true,
         "type": "scatter",
         "x": [
          0.32634921073913575
         ],
         "xaxis": "x",
         "y": [
          0.4124126917431279
         ],
         "yaxis": "y"
        },
        {
         "error_x": {
          "array": [
           0.028425946034003207
          ]
         },
         "error_y": {
          "array": [
           0.03043585150281483
          ]
         },
         "hovertemplate": "model=rank1<br>worst_acc accuracy=%{x}<br>worst_acc ece=%{y}<extra></extra>",
         "legendgroup": "rank1",
         "marker": {
          "color": "#ab63fa",
          "symbol": "circle"
         },
         "mode": "markers",
         "name": "rank1",
         "orientation": "v",
         "showlegend": true,
         "type": "scatter",
         "x": [
          0.5397683262825013
         ],
         "xaxis": "x",
         "y": [
          0.37256584852210817
         ],
         "yaxis": "y"
        },
        {
         "error_x": {
          "array": [
           0.06766194388476081
          ]
         },
         "error_y": {
          "array": [
           0.07903789789457777
          ]
         },
         "hovertemplate": "model=svgd<br>worst_acc accuracy=%{x}<br>worst_acc ece=%{y}<extra></extra>",
         "legendgroup": "svgd",
         "marker": {
          "color": "#FFA15A",
          "symbol": "circle"
         },
         "mode": "markers",
         "name": "svgd",
         "orientation": "v",
         "showlegend": true,
         "type": "scatter",
         "x": [
          0.38381563425064086
         ],
         "xaxis": "x",
         "y": [
          0.3796375059622302
         ],
         "yaxis": "y"
        },
        {
         "error_x": {
          "array": [
           0.020869248394560874
          ]
         },
         "error_y": {
          "array": [
           0.04074688198876349
          ]
         },
         "hovertemplate": "model=swag<br>worst_acc accuracy=%{x}<br>worst_acc ece=%{y}<extra></extra>",
         "legendgroup": "swag",
         "marker": {
          "color": "#19d3f3",
          "symbol": "circle"
         },
         "mode": "markers",
         "name": "swag",
         "orientation": "v",
         "showlegend": true,
         "type": "scatter",
         "x": [
          0.4480952322483063
         ],
         "xaxis": "x",
         "y": [
          0.1972319872097837
         ],
         "yaxis": "y"
        },
        {
         "error_x": {
          "array": [
           0.015828505278767644
          ]
         },
         "error_y": {
          "array": [
           0.017860368816370605
          ]
         },
         "hovertemplate": "model=swag_4<br>worst_acc accuracy=%{x}<br>worst_acc ece=%{y}<extra></extra>",
         "legendgroup": "swag_4",
         "marker": {
          "color": "#FF6692",
          "symbol": "circle"
         },
         "mode": "markers",
         "name": "swag_4",
         "orientation": "v",
         "showlegend": true,
         "type": "scatter",
         "x": [
          0.42873015999794006
         ],
         "xaxis": "x",
         "y": [
          0.1834817414346432
         ],
         "yaxis": "y"
        }
       ],
       "layout": {
        "legend": {
         "title": {
          "text": "model"
         },
         "tracegroupgap": 0
        },
        "margin": {
         "t": 60
        },
        "template": {
         "data": {
          "bar": [
           {
            "error_x": {
             "color": "#2a3f5f"
            },
            "error_y": {
             "color": "#2a3f5f"
            },
            "marker": {
             "line": {
              "color": "#E5ECF6",
              "width": 0.5
             },
             "pattern": {
              "fillmode": "overlay",
              "size": 10,
              "solidity": 0.2
             }
            },
            "type": "bar"
           }
          ],
          "barpolar": [
           {
            "marker": {
             "line": {
              "color": "#E5ECF6",
              "width": 0.5
             },
             "pattern": {
              "fillmode": "overlay",
              "size": 10,
              "solidity": 0.2
             }
            },
            "type": "barpolar"
           }
          ],
          "carpet": [
           {
            "aaxis": {
             "endlinecolor": "#2a3f5f",
             "gridcolor": "white",
             "linecolor": "white",
             "minorgridcolor": "white",
             "startlinecolor": "#2a3f5f"
            },
            "baxis": {
             "endlinecolor": "#2a3f5f",
             "gridcolor": "white",
             "linecolor": "white",
             "minorgridcolor": "white",
             "startlinecolor": "#2a3f5f"
            },
            "type": "carpet"
           }
          ],
          "choropleth": [
           {
            "colorbar": {
             "outlinewidth": 0,
             "ticks": ""
            },
            "type": "choropleth"
           }
          ],
          "contour": [
           {
            "colorbar": {
             "outlinewidth": 0,
             "ticks": ""
            },
            "colorscale": [
             [
              0,
              "#0d0887"
             ],
             [
              0.1111111111111111,
              "#46039f"
             ],
             [
              0.2222222222222222,
              "#7201a8"
             ],
             [
              0.3333333333333333,
              "#9c179e"
             ],
             [
              0.4444444444444444,
              "#bd3786"
             ],
             [
              0.5555555555555556,
              "#d8576b"
             ],
             [
              0.6666666666666666,
              "#ed7953"
             ],
             [
              0.7777777777777778,
              "#fb9f3a"
             ],
             [
              0.8888888888888888,
              "#fdca26"
             ],
             [
              1,
              "#f0f921"
             ]
            ],
            "type": "contour"
           }
          ],
          "contourcarpet": [
           {
            "colorbar": {
             "outlinewidth": 0,
             "ticks": ""
            },
            "type": "contourcarpet"
           }
          ],
          "heatmap": [
           {
            "colorbar": {
             "outlinewidth": 0,
             "ticks": ""
            },
            "colorscale": [
             [
              0,
              "#0d0887"
             ],
             [
              0.1111111111111111,
              "#46039f"
             ],
             [
              0.2222222222222222,
              "#7201a8"
             ],
             [
              0.3333333333333333,
              "#9c179e"
             ],
             [
              0.4444444444444444,
              "#bd3786"
             ],
             [
              0.5555555555555556,
              "#d8576b"
             ],
             [
              0.6666666666666666,
              "#ed7953"
             ],
             [
              0.7777777777777778,
              "#fb9f3a"
             ],
             [
              0.8888888888888888,
              "#fdca26"
             ],
             [
              1,
              "#f0f921"
             ]
            ],
            "type": "heatmap"
           }
          ],
          "heatmapgl": [
           {
            "colorbar": {
             "outlinewidth": 0,
             "ticks": ""
            },
            "colorscale": [
             [
              0,
              "#0d0887"
             ],
             [
              0.1111111111111111,
              "#46039f"
             ],
             [
              0.2222222222222222,
              "#7201a8"
             ],
             [
              0.3333333333333333,
              "#9c179e"
             ],
             [
              0.4444444444444444,
              "#bd3786"
             ],
             [
              0.5555555555555556,
              "#d8576b"
             ],
             [
              0.6666666666666666,
              "#ed7953"
             ],
             [
              0.7777777777777778,
              "#fb9f3a"
             ],
             [
              0.8888888888888888,
              "#fdca26"
             ],
             [
              1,
              "#f0f921"
             ]
            ],
            "type": "heatmapgl"
           }
          ],
          "histogram": [
           {
            "marker": {
             "pattern": {
              "fillmode": "overlay",
              "size": 10,
              "solidity": 0.2
             }
            },
            "type": "histogram"
           }
          ],
          "histogram2d": [
           {
            "colorbar": {
             "outlinewidth": 0,
             "ticks": ""
            },
            "colorscale": [
             [
              0,
              "#0d0887"
             ],
             [
              0.1111111111111111,
              "#46039f"
             ],
             [
              0.2222222222222222,
              "#7201a8"
             ],
             [
              0.3333333333333333,
              "#9c179e"
             ],
             [
              0.4444444444444444,
              "#bd3786"
             ],
             [
              0.5555555555555556,
              "#d8576b"
             ],
             [
              0.6666666666666666,
              "#ed7953"
             ],
             [
              0.7777777777777778,
              "#fb9f3a"
             ],
             [
              0.8888888888888888,
              "#fdca26"
             ],
             [
              1,
              "#f0f921"
             ]
            ],
            "type": "histogram2d"
           }
          ],
          "histogram2dcontour": [
           {
            "colorbar": {
             "outlinewidth": 0,
             "ticks": ""
            },
            "colorscale": [
             [
              0,
              "#0d0887"
             ],
             [
              0.1111111111111111,
              "#46039f"
             ],
             [
              0.2222222222222222,
              "#7201a8"
             ],
             [
              0.3333333333333333,
              "#9c179e"
             ],
             [
              0.4444444444444444,
              "#bd3786"
             ],
             [
              0.5555555555555556,
              "#d8576b"
             ],
             [
              0.6666666666666666,
              "#ed7953"
             ],
             [
              0.7777777777777778,
              "#fb9f3a"
             ],
             [
              0.8888888888888888,
              "#fdca26"
             ],
             [
              1,
              "#f0f921"
             ]
            ],
            "type": "histogram2dcontour"
           }
          ],
          "mesh3d": [
           {
            "colorbar": {
             "outlinewidth": 0,
             "ticks": ""
            },
            "type": "mesh3d"
           }
          ],
          "parcoords": [
           {
            "line": {
             "colorbar": {
              "outlinewidth": 0,
              "ticks": ""
             }
            },
            "type": "parcoords"
           }
          ],
          "pie": [
           {
            "automargin": true,
            "type": "pie"
           }
          ],
          "scatter": [
           {
            "fillpattern": {
             "fillmode": "overlay",
             "size": 10,
             "solidity": 0.2
            },
            "type": "scatter"
           }
          ],
          "scatter3d": [
           {
            "line": {
             "colorbar": {
              "outlinewidth": 0,
              "ticks": ""
             }
            },
            "marker": {
             "colorbar": {
              "outlinewidth": 0,
              "ticks": ""
             }
            },
            "type": "scatter3d"
           }
          ],
          "scattercarpet": [
           {
            "marker": {
             "colorbar": {
              "outlinewidth": 0,
              "ticks": ""
             }
            },
            "type": "scattercarpet"
           }
          ],
          "scattergeo": [
           {
            "marker": {
             "colorbar": {
              "outlinewidth": 0,
              "ticks": ""
             }
            },
            "type": "scattergeo"
           }
          ],
          "scattergl": [
           {
            "marker": {
             "colorbar": {
              "outlinewidth": 0,
              "ticks": ""
             }
            },
            "type": "scattergl"
           }
          ],
          "scattermapbox": [
           {
            "marker": {
             "colorbar": {
              "outlinewidth": 0,
              "ticks": ""
             }
            },
            "type": "scattermapbox"
           }
          ],
          "scatterpolar": [
           {
            "marker": {
             "colorbar": {
              "outlinewidth": 0,
              "ticks": ""
             }
            },
            "type": "scatterpolar"
           }
          ],
          "scatterpolargl": [
           {
            "marker": {
             "colorbar": {
              "outlinewidth": 0,
              "ticks": ""
             }
            },
            "type": "scatterpolargl"
           }
          ],
          "scatterternary": [
           {
            "marker": {
             "colorbar": {
              "outlinewidth": 0,
              "ticks": ""
             }
            },
            "type": "scatterternary"
           }
          ],
          "surface": [
           {
            "colorbar": {
             "outlinewidth": 0,
             "ticks": ""
            },
            "colorscale": [
             [
              0,
              "#0d0887"
             ],
             [
              0.1111111111111111,
              "#46039f"
             ],
             [
              0.2222222222222222,
              "#7201a8"
             ],
             [
              0.3333333333333333,
              "#9c179e"
             ],
             [
              0.4444444444444444,
              "#bd3786"
             ],
             [
              0.5555555555555556,
              "#d8576b"
             ],
             [
              0.6666666666666666,
              "#ed7953"
             ],
             [
              0.7777777777777778,
              "#fb9f3a"
             ],
             [
              0.8888888888888888,
              "#fdca26"
             ],
             [
              1,
              "#f0f921"
             ]
            ],
            "type": "surface"
           }
          ],
          "table": [
           {
            "cells": {
             "fill": {
              "color": "#EBF0F8"
             },
             "line": {
              "color": "white"
             }
            },
            "header": {
             "fill": {
              "color": "#C8D4E3"
             },
             "line": {
              "color": "white"
             }
            },
            "type": "table"
           }
          ]
         },
         "layout": {
          "annotationdefaults": {
           "arrowcolor": "#2a3f5f",
           "arrowhead": 0,
           "arrowwidth": 1
          },
          "autotypenumbers": "strict",
          "coloraxis": {
           "colorbar": {
            "outlinewidth": 0,
            "ticks": ""
           }
          },
          "colorscale": {
           "diverging": [
            [
             0,
             "#8e0152"
            ],
            [
             0.1,
             "#c51b7d"
            ],
            [
             0.2,
             "#de77ae"
            ],
            [
             0.3,
             "#f1b6da"
            ],
            [
             0.4,
             "#fde0ef"
            ],
            [
             0.5,
             "#f7f7f7"
            ],
            [
             0.6,
             "#e6f5d0"
            ],
            [
             0.7,
             "#b8e186"
            ],
            [
             0.8,
             "#7fbc41"
            ],
            [
             0.9,
             "#4d9221"
            ],
            [
             1,
             "#276419"
            ]
           ],
           "sequential": [
            [
             0,
             "#0d0887"
            ],
            [
             0.1111111111111111,
             "#46039f"
            ],
            [
             0.2222222222222222,
             "#7201a8"
            ],
            [
             0.3333333333333333,
             "#9c179e"
            ],
            [
             0.4444444444444444,
             "#bd3786"
            ],
            [
             0.5555555555555556,
             "#d8576b"
            ],
            [
             0.6666666666666666,
             "#ed7953"
            ],
            [
             0.7777777777777778,
             "#fb9f3a"
            ],
            [
             0.8888888888888888,
             "#fdca26"
            ],
            [
             1,
             "#f0f921"
            ]
           ],
           "sequentialminus": [
            [
             0,
             "#0d0887"
            ],
            [
             0.1111111111111111,
             "#46039f"
            ],
            [
             0.2222222222222222,
             "#7201a8"
            ],
            [
             0.3333333333333333,
             "#9c179e"
            ],
            [
             0.4444444444444444,
             "#bd3786"
            ],
            [
             0.5555555555555556,
             "#d8576b"
            ],
            [
             0.6666666666666666,
             "#ed7953"
            ],
            [
             0.7777777777777778,
             "#fb9f3a"
            ],
            [
             0.8888888888888888,
             "#fdca26"
            ],
            [
             1,
             "#f0f921"
            ]
           ]
          },
          "colorway": [
           "#636efa",
           "#EF553B",
           "#00cc96",
           "#ab63fa",
           "#FFA15A",
           "#19d3f3",
           "#FF6692",
           "#B6E880",
           "#FF97FF",
           "#FECB52"
          ],
          "font": {
           "color": "#2a3f5f"
          },
          "geo": {
           "bgcolor": "white",
           "lakecolor": "white",
           "landcolor": "#E5ECF6",
           "showlakes": true,
           "showland": true,
           "subunitcolor": "white"
          },
          "hoverlabel": {
           "align": "left"
          },
          "hovermode": "closest",
          "mapbox": {
           "style": "light"
          },
          "paper_bgcolor": "white",
          "plot_bgcolor": "#E5ECF6",
          "polar": {
           "angularaxis": {
            "gridcolor": "white",
            "linecolor": "white",
            "ticks": ""
           },
           "bgcolor": "#E5ECF6",
           "radialaxis": {
            "gridcolor": "white",
            "linecolor": "white",
            "ticks": ""
           }
          },
          "scene": {
           "xaxis": {
            "backgroundcolor": "#E5ECF6",
            "gridcolor": "white",
            "gridwidth": 2,
            "linecolor": "white",
            "showbackground": true,
            "ticks": "",
            "zerolinecolor": "white"
           },
           "yaxis": {
            "backgroundcolor": "#E5ECF6",
            "gridcolor": "white",
            "gridwidth": 2,
            "linecolor": "white",
            "showbackground": true,
            "ticks": "",
            "zerolinecolor": "white"
           },
           "zaxis": {
            "backgroundcolor": "#E5ECF6",
            "gridcolor": "white",
            "gridwidth": 2,
            "linecolor": "white",
            "showbackground": true,
            "ticks": "",
            "zerolinecolor": "white"
           }
          },
          "shapedefaults": {
           "line": {
            "color": "#2a3f5f"
           }
          },
          "ternary": {
           "aaxis": {
            "gridcolor": "white",
            "linecolor": "white",
            "ticks": ""
           },
           "baxis": {
            "gridcolor": "white",
            "linecolor": "white",
            "ticks": ""
           },
           "bgcolor": "#E5ECF6",
           "caxis": {
            "gridcolor": "white",
            "linecolor": "white",
            "ticks": ""
           }
          },
          "title": {
           "x": 0.05
          },
          "xaxis": {
           "automargin": true,
           "gridcolor": "white",
           "linecolor": "white",
           "ticks": "",
           "title": {
            "standoff": 15
           },
           "zerolinecolor": "white",
           "zerolinewidth": 2
          },
          "yaxis": {
           "automargin": true,
           "gridcolor": "white",
           "linecolor": "white",
           "ticks": "",
           "title": {
            "standoff": 15
           },
           "zerolinecolor": "white",
           "zerolinewidth": 2
          }
         }
        },
        "xaxis": {
         "anchor": "y",
         "domain": [
          0,
          1
         ],
         "title": {
          "text": "worst_acc accuracy"
         }
        },
        "yaxis": {
         "anchor": "x",
         "domain": [
          0,
          1
         ],
         "title": {
          "text": "worst_acc ece"
         }
        }
       }
      }
     },
     "metadata": {},
     "output_type": "display_data"
    }
   ],
   "source": [
    "pareto_plot(data, \"worst_acc\", ece=True)"
   ]
  },
  {
   "cell_type": "code",
   "execution_count": 10,
   "metadata": {},
   "outputs": [
    {
     "data": {
      "application/vnd.plotly.v1+json": {
       "config": {
        "plotlyServerURL": "https://plot.ly"
       },
       "data": [
        {
         "error_x": {
          "array": [
           0.031602751415921976
          ]
         },
         "error_y": {
          "array": [
           0.03269167832750197
          ]
         },
         "hovertemplate": "model=bbb<br>lowest_sece accuracy=%{x}<br>lowest_sece sece=%{y}<extra></extra>",
         "legendgroup": "bbb",
         "marker": {
          "color": "#636efa",
          "symbol": "circle"
         },
         "mode": "markers",
         "name": "bbb",
         "orientation": "v",
         "showlegend": true,
         "type": "scatter",
         "x": [
          0.5374175786972046
         ],
         "xaxis": "x",
         "y": [
          -0.36217909601381704
         ],
         "yaxis": "y"
        },
        {
         "error_x": {
          "array": [
           0.04470278052827165
          ]
         },
         "error_y": {
          "array": [
           0.04313249069067954
          ]
         },
         "hovertemplate": "model=bbb_0.01<br>lowest_sece accuracy=%{x}<br>lowest_sece sece=%{y}<extra></extra>",
         "legendgroup": "bbb_0.01",
         "marker": {
          "color": "#EF553B",
          "symbol": "circle"
         },
         "mode": "markers",
         "name": "bbb_0.01",
         "orientation": "v",
         "showlegend": true,
         "type": "scatter",
         "x": [
          0.5417108178138733
         ],
         "xaxis": "x",
         "y": [
          -0.3591472928683913
         ],
         "yaxis": "y"
        },
        {
         "error_x": {
          "array": [
           0.03994007296544436
          ]
         },
         "error_y": {
          "array": [
           0.04083518655134923
          ]
         },
         "hovertemplate": "model=bbb_0.1<br>lowest_sece accuracy=%{x}<br>lowest_sece sece=%{y}<extra></extra>",
         "legendgroup": "bbb_0.1",
         "marker": {
          "color": "#00cc96",
          "symbol": "circle"
         },
         "mode": "markers",
         "name": "bbb_0.1",
         "orientation": "v",
         "showlegend": true,
         "type": "scatter",
         "x": [
          0.5389447569847107
         ],
         "xaxis": "x",
         "y": [
          -0.3662800131581643
         ],
         "yaxis": "y"
        },
        {
         "error_x": {
          "array": [
           0.01156227717837493
          ]
         },
         "error_y": {
          "array": [
           0.011667353650744275
          ]
         },
         "hovertemplate": "model=bbb_4<br>lowest_sece accuracy=%{x}<br>lowest_sece sece=%{y}<extra></extra>",
         "legendgroup": "bbb_4",
         "marker": {
          "color": "#ab63fa",
          "symbol": "circle"
         },
         "mode": "markers",
         "name": "bbb_4",
         "orientation": "v",
         "showlegend": true,
         "type": "scatter",
         "x": [
          0.524920642375946
         ],
         "xaxis": "x",
         "y": [
          -0.33802425214695553
         ],
         "yaxis": "y"
        },
        {
         "error_x": {
          "array": [
           0.015864332749106744
          ]
         },
         "error_y": {
          "array": [
           0.018341462753346416
          ]
         },
         "hovertemplate": "model=laplace<br>lowest_sece accuracy=%{x}<br>lowest_sece sece=%{y}<extra></extra>",
         "legendgroup": "laplace",
         "marker": {
          "color": "#FFA15A",
          "symbol": "circle"
         },
         "mode": "markers",
         "name": "laplace",
         "orientation": "v",
         "showlegend": true,
         "type": "scatter",
         "x": [
          0.4243055507540703
         ],
         "xaxis": "x",
         "y": [
          -0.34665838611600475
         ],
         "yaxis": "y"
        },
        {
         "error_x": {
          "array": [
           0.008272259530625485
          ]
         },
         "error_y": {
          "array": [
           0.009717989728433655
          ]
         },
         "hovertemplate": "model=laplace_4<br>lowest_sece accuracy=%{x}<br>lowest_sece sece=%{y}<extra></extra>",
         "legendgroup": "laplace_4",
         "marker": {
          "color": "#19d3f3",
          "symbol": "circle"
         },
         "mode": "markers",
         "name": "laplace_4",
         "orientation": "v",
         "showlegend": true,
         "type": "scatter",
         "x": [
          0.419523811340332
         ],
         "xaxis": "x",
         "y": [
          -0.34816387246628955
         ],
         "yaxis": "y"
        },
        {
         "error_x": {
          "array": [
           0.04531382289549484
          ]
         },
         "error_y": {
          "array": [
           0.04760153499789296
          ]
         },
         "hovertemplate": "model=ll_ivon<br>lowest_sece accuracy=%{x}<br>lowest_sece sece=%{y}<extra></extra>",
         "legendgroup": "ll_ivon",
         "marker": {
          "color": "#FF6692",
          "symbol": "circle"
         },
         "mode": "markers",
         "name": "ll_ivon",
         "orientation": "v",
         "showlegend": true,
         "type": "scatter",
         "x": [
          0.47976407408714294
         ],
         "xaxis": "x",
         "y": [
          -0.42091922504183454
         ],
         "yaxis": "y"
        },
        {
         "error_x": {
          "array": [
           0.012077167237628337
          ]
         },
         "error_y": {
          "array": [
           0.01447557474709893
          ]
         },
         "hovertemplate": "model=ll_ivon_5<br>lowest_sece accuracy=%{x}<br>lowest_sece sece=%{y}<extra></extra>",
         "legendgroup": "ll_ivon_5",
         "marker": {
          "color": "#B6E880",
          "symbol": "circle"
         },
         "mode": "markers",
         "name": "ll_ivon_5",
         "orientation": "v",
         "showlegend": true,
         "type": "scatter",
         "x": [
          0.46615384221076966
         ],
         "xaxis": "x",
         "y": [
          -0.3958861872897698
         ],
         "yaxis": "y"
        },
        {
         "error_x": {
          "array": [
           null
          ]
         },
         "error_y": {
          "array": [
           null
          ]
         },
         "hovertemplate": "model=ll_ivon_p1<br>lowest_sece accuracy=%{x}<br>lowest_sece sece=%{y}<extra></extra>",
         "legendgroup": "ll_ivon_p1",
         "marker": {
          "color": "#FF97FF",
          "symbol": "circle"
         },
         "mode": "markers",
         "name": "ll_ivon_p1",
         "orientation": "v",
         "showlegend": true,
         "type": "scatter",
         "x": [
          0.4476190507411957
         ],
         "xaxis": "x",
         "y": [
          -0.438196626447496
         ],
         "yaxis": "y"
        },
        {
         "error_x": {
          "array": [
           null
          ]
         },
         "error_y": {
          "array": [
           null
          ]
         },
         "hovertemplate": "model=ll_ivon_p10<br>lowest_sece accuracy=%{x}<br>lowest_sece sece=%{y}<extra></extra>",
         "legendgroup": "ll_ivon_p10",
         "marker": {
          "color": "#FECB52",
          "symbol": "circle"
         },
         "mode": "markers",
         "name": "ll_ivon_p10",
         "orientation": "v",
         "showlegend": true,
         "type": "scatter",
         "x": [
          0.4317460358142853
         ],
         "xaxis": "x",
         "y": [
          -0.4600181528736675
         ],
         "yaxis": "y"
        },
        {
         "error_x": {
          "array": [
           null
          ]
         },
         "error_y": {
          "array": [
           null
          ]
         },
         "hovertemplate": "model=ll_ivon_p100<br>lowest_sece accuracy=%{x}<br>lowest_sece sece=%{y}<extra></extra>",
         "legendgroup": "ll_ivon_p100",
         "marker": {
          "color": "#636efa",
          "symbol": "circle"
         },
         "mode": "markers",
         "name": "ll_ivon_p100",
         "orientation": "v",
         "showlegend": true,
         "type": "scatter",
         "x": [
          0.4253968298435211
         ],
         "xaxis": "x",
         "y": [
          -0.47643802132871416
         ],
         "yaxis": "y"
        },
        {
         "error_x": {
          "array": [
           null
          ]
         },
         "error_y": {
          "array": [
           null
          ]
         },
         "hovertemplate": "model=ll_ivon_p500<br>lowest_sece accuracy=%{x}<br>lowest_sece sece=%{y}<extra></extra>",
         "legendgroup": "ll_ivon_p500",
         "marker": {
          "color": "#EF553B",
          "symbol": "circle"
         },
         "mode": "markers",
         "name": "ll_ivon_p500",
         "orientation": "v",
         "showlegend": true,
         "type": "scatter",
         "x": [
          0.4674603044986725
         ],
         "xaxis": "x",
         "y": [
          -0.4157990511920717
         ],
         "yaxis": "y"
        },
        {
         "error_x": {
          "array": [
           0.027523091525452213
          ]
         },
         "error_y": {
          "array": [
           0.02337681177290279
          ]
         },
         "hovertemplate": "model=ll_svgd<br>lowest_sece accuracy=%{x}<br>lowest_sece sece=%{y}<extra></extra>",
         "legendgroup": "ll_svgd",
         "marker": {
          "color": "#00cc96",
          "symbol": "circle"
         },
         "mode": "markers",
         "name": "ll_svgd",
         "orientation": "v",
         "showlegend": true,
         "type": "scatter",
         "x": [
          0.4179365038871765
         ],
         "xaxis": "x",
         "y": [
          -0.3546208713286453
         ],
         "yaxis": "y"
        },
        {
         "error_x": {
          "array": [
           0.02100162492024524
          ]
         },
         "error_y": {
          "array": [
           0.024756060501472534
          ]
         },
         "hovertemplate": "model=map<br>lowest_sece accuracy=%{x}<br>lowest_sece sece=%{y}<extra></extra>",
         "legendgroup": "map",
         "marker": {
          "color": "#ab63fa",
          "symbol": "circle"
         },
         "mode": "markers",
         "name": "map",
         "orientation": "v",
         "showlegend": true,
         "type": "scatter",
         "x": [
          0.41952380537986755
         ],
         "xaxis": "x",
         "y": [
          -0.3525016825551551
         ],
         "yaxis": "y"
        },
        {
         "error_x": {
          "array": [
           0.008115437930857844
          ]
         },
         "error_y": {
          "array": [
           0.009635990707210416
          ]
         },
         "hovertemplate": "model=map_4<br>lowest_sece accuracy=%{x}<br>lowest_sece sece=%{y}<extra></extra>",
         "legendgroup": "map_4",
         "marker": {
          "color": "#FFA15A",
          "symbol": "circle"
         },
         "mode": "markers",
         "name": "map_4",
         "orientation": "v",
         "showlegend": true,
         "type": "scatter",
         "x": [
          0.41920634508132937
         ],
         "xaxis": "x",
         "y": [
          -0.34904403020413444
         ],
         "yaxis": "y"
        },
        {
         "error_x": {
          "array": [
           0.011499937688612313
          ]
         },
         "error_y": {
          "array": [
           0.013177005725379578
          ]
         },
         "hovertemplate": "model=map_4_wd0.0001<br>lowest_sece accuracy=%{x}<br>lowest_sece sece=%{y}<extra></extra>",
         "legendgroup": "map_4_wd0.0001",
         "marker": {
          "color": "#19d3f3",
          "symbol": "circle"
         },
         "mode": "markers",
         "name": "map_4_wd0.0001",
         "orientation": "v",
         "showlegend": true,
         "type": "scatter",
         "x": [
          0.4619230806827545
         ],
         "xaxis": "x",
         "y": [
          -0.3933591823738355
         ],
         "yaxis": "y"
        },
        {
         "error_x": {
          "array": [
           0.045126390780619405
          ]
         },
         "error_y": {
          "array": [
           0.0436466595977785
          ]
         },
         "hovertemplate": "model=map_wd0.0001<br>lowest_sece accuracy=%{x}<br>lowest_sece sece=%{y}<extra></extra>",
         "legendgroup": "map_wd0.0001",
         "marker": {
          "color": "#FF6692",
          "symbol": "circle"
         },
         "mode": "markers",
         "name": "map_wd0.0001",
         "orientation": "v",
         "showlegend": true,
         "type": "scatter",
         "x": [
          0.47615384459495547
         ],
         "xaxis": "x",
         "y": [
          -0.40328312860085413
         ],
         "yaxis": "y"
        },
        {
         "error_x": {
          "array": [
           0.023371633298124188
          ]
         },
         "error_y": {
          "array": [
           0.030082237582853368
          ]
         },
         "hovertemplate": "model=mcd<br>lowest_sece accuracy=%{x}<br>lowest_sece sece=%{y}<extra></extra>",
         "legendgroup": "mcd",
         "marker": {
          "color": "#B6E880",
          "symbol": "circle"
         },
         "mode": "markers",
         "name": "mcd",
         "orientation": "v",
         "showlegend": true,
         "type": "scatter",
         "x": [
          0.3261904716491699
         ],
         "xaxis": "x",
         "y": [
          -0.4167613277454225
         ],
         "yaxis": "y"
        },
        {
         "error_x": {
          "array": [
           0.017173686081872575
          ]
         },
         "error_y": {
          "array": [
           0.02216011642722999
          ]
         },
         "hovertemplate": "model=mcd-p0.0<br>lowest_sece accuracy=%{x}<br>lowest_sece sece=%{y}<extra></extra>",
         "legendgroup": "mcd-p0.0",
         "marker": {
          "color": "#FF97FF",
          "symbol": "circle"
         },
         "mode": "markers",
         "name": "mcd-p0.0",
         "orientation": "v",
         "showlegend": true,
         "type": "scatter",
         "x": [
          0.40507936477661133
         ],
         "xaxis": "x",
         "y": [
          -0.369312981543619
         ],
         "yaxis": "y"
        },
        {
         "error_x": {
          "array": [
           0.015307930434893556
          ]
         },
         "error_y": {
          "array": [
           0.02257189943965059
          ]
         },
         "hovertemplate": "model=mcd-p0.01<br>lowest_sece accuracy=%{x}<br>lowest_sece sece=%{y}<extra></extra>",
         "legendgroup": "mcd-p0.01",
         "marker": {
          "color": "#FECB52",
          "symbol": "circle"
         },
         "mode": "markers",
         "name": "mcd-p0.01",
         "orientation": "v",
         "showlegend": true,
         "type": "scatter",
         "x": [
          0.396227103471756
         ],
         "xaxis": "x",
         "y": [
          -0.3735489736234494
         ],
         "yaxis": "y"
        },
        {
         "error_x": {
          "array": [
           0.017763595108085166
          ]
         },
         "error_y": {
          "array": [
           0.023714811201414644
          ]
         },
         "hovertemplate": "model=mcd-p0.05<br>lowest_sece accuracy=%{x}<br>lowest_sece sece=%{y}<extra></extra>",
         "legendgroup": "mcd-p0.05",
         "marker": {
          "color": "#636efa",
          "symbol": "circle"
         },
         "mode": "markers",
         "name": "mcd-p0.05",
         "orientation": "v",
         "showlegend": true,
         "type": "scatter",
         "x": [
          0.3644444406032562
         ],
         "xaxis": "x",
         "y": [
          -0.39310975038531487
         ],
         "yaxis": "y"
        },
        {
         "error_x": {
          "array": [
           0.020732372583736714
          ]
         },
         "error_y": {
          "array": [
           0.027082058237155798
          ]
         },
         "hovertemplate": "model=mcd-p0.1<br>lowest_sece accuracy=%{x}<br>lowest_sece sece=%{y}<extra></extra>",
         "legendgroup": "mcd-p0.1",
         "marker": {
          "color": "#EF553B",
          "symbol": "circle"
         },
         "mode": "markers",
         "name": "mcd-p0.1",
         "orientation": "v",
         "showlegend": true,
         "type": "scatter",
         "x": [
          0.32460318207740785
         ],
         "xaxis": "x",
         "y": [
          -0.4181883958194937
         ],
         "yaxis": "y"
        },
        {
         "error_x": {
          "array": [
           0.005250099137902074
          ]
         },
         "error_y": {
          "array": [
           0.0073646309288026976
          ]
         },
         "hovertemplate": "model=mcd_4<br>lowest_sece accuracy=%{x}<br>lowest_sece sece=%{y}<extra></extra>",
         "legendgroup": "mcd_4",
         "marker": {
          "color": "#00cc96",
          "symbol": "circle"
         },
         "mode": "markers",
         "name": "mcd_4",
         "orientation": "v",
         "showlegend": true,
         "type": "scatter",
         "x": [
          0.32634921073913575
         ],
         "xaxis": "x",
         "y": [
          -0.4124126917431279
         ],
         "yaxis": "y"
        },
        {
         "error_x": {
          "array": [
           0.028425946034003207
          ]
         },
         "error_y": {
          "array": [
           0.03043585150281483
          ]
         },
         "hovertemplate": "model=rank1<br>lowest_sece accuracy=%{x}<br>lowest_sece sece=%{y}<extra></extra>",
         "legendgroup": "rank1",
         "marker": {
          "color": "#ab63fa",
          "symbol": "circle"
         },
         "mode": "markers",
         "name": "rank1",
         "orientation": "v",
         "showlegend": true,
         "type": "scatter",
         "x": [
          0.5397683262825013
         ],
         "xaxis": "x",
         "y": [
          -0.37256584852210817
         ],
         "yaxis": "y"
        },
        {
         "error_x": {
          "array": [
           0.06719443279861734
          ]
         },
         "error_y": {
          "array": [
           0.08154708051006508
          ]
         },
         "hovertemplate": "model=svgd<br>lowest_sece accuracy=%{x}<br>lowest_sece sece=%{y}<extra></extra>",
         "legendgroup": "svgd",
         "marker": {
          "color": "#FFA15A",
          "symbol": "circle"
         },
         "mode": "markers",
         "name": "svgd",
         "orientation": "v",
         "showlegend": true,
         "type": "scatter",
         "x": [
          0.38428571820259094
         ],
         "xaxis": "x",
         "y": [
          -0.3819383145791168
         ],
         "yaxis": "y"
        },
        {
         "error_x": {
          "array": [
           0.020869248394560874
          ]
         },
         "error_y": {
          "array": [
           0.026540505825530285
          ]
         },
         "hovertemplate": "model=swag<br>lowest_sece accuracy=%{x}<br>lowest_sece sece=%{y}<extra></extra>",
         "legendgroup": "swag",
         "marker": {
          "color": "#19d3f3",
          "symbol": "circle"
         },
         "mode": "markers",
         "name": "swag",
         "orientation": "v",
         "showlegend": true,
         "type": "scatter",
         "x": [
          0.4480952322483063
         ],
         "xaxis": "x",
         "y": [
          -0.18363012609618998
         ],
         "yaxis": "y"
        },
        {
         "error_x": {
          "array": [
           0.015828505278767644
          ]
         },
         "error_y": {
          "array": [
           0.017860368816370605
          ]
         },
         "hovertemplate": "model=swag_4<br>lowest_sece accuracy=%{x}<br>lowest_sece sece=%{y}<extra></extra>",
         "legendgroup": "swag_4",
         "marker": {
          "color": "#FF6692",
          "symbol": "circle"
         },
         "mode": "markers",
         "name": "swag_4",
         "orientation": "v",
         "showlegend": true,
         "type": "scatter",
         "x": [
          0.42873015999794006
         ],
         "xaxis": "x",
         "y": [
          -0.1834817414346432
         ],
         "yaxis": "y"
        }
       ],
       "layout": {
        "legend": {
         "title": {
          "text": "model"
         },
         "tracegroupgap": 0
        },
        "margin": {
         "t": 60
        },
        "template": {
         "data": {
          "bar": [
           {
            "error_x": {
             "color": "#2a3f5f"
            },
            "error_y": {
             "color": "#2a3f5f"
            },
            "marker": {
             "line": {
              "color": "#E5ECF6",
              "width": 0.5
             },
             "pattern": {
              "fillmode": "overlay",
              "size": 10,
              "solidity": 0.2
             }
            },
            "type": "bar"
           }
          ],
          "barpolar": [
           {
            "marker": {
             "line": {
              "color": "#E5ECF6",
              "width": 0.5
             },
             "pattern": {
              "fillmode": "overlay",
              "size": 10,
              "solidity": 0.2
             }
            },
            "type": "barpolar"
           }
          ],
          "carpet": [
           {
            "aaxis": {
             "endlinecolor": "#2a3f5f",
             "gridcolor": "white",
             "linecolor": "white",
             "minorgridcolor": "white",
             "startlinecolor": "#2a3f5f"
            },
            "baxis": {
             "endlinecolor": "#2a3f5f",
             "gridcolor": "white",
             "linecolor": "white",
             "minorgridcolor": "white",
             "startlinecolor": "#2a3f5f"
            },
            "type": "carpet"
           }
          ],
          "choropleth": [
           {
            "colorbar": {
             "outlinewidth": 0,
             "ticks": ""
            },
            "type": "choropleth"
           }
          ],
          "contour": [
           {
            "colorbar": {
             "outlinewidth": 0,
             "ticks": ""
            },
            "colorscale": [
             [
              0,
              "#0d0887"
             ],
             [
              0.1111111111111111,
              "#46039f"
             ],
             [
              0.2222222222222222,
              "#7201a8"
             ],
             [
              0.3333333333333333,
              "#9c179e"
             ],
             [
              0.4444444444444444,
              "#bd3786"
             ],
             [
              0.5555555555555556,
              "#d8576b"
             ],
             [
              0.6666666666666666,
              "#ed7953"
             ],
             [
              0.7777777777777778,
              "#fb9f3a"
             ],
             [
              0.8888888888888888,
              "#fdca26"
             ],
             [
              1,
              "#f0f921"
             ]
            ],
            "type": "contour"
           }
          ],
          "contourcarpet": [
           {
            "colorbar": {
             "outlinewidth": 0,
             "ticks": ""
            },
            "type": "contourcarpet"
           }
          ],
          "heatmap": [
           {
            "colorbar": {
             "outlinewidth": 0,
             "ticks": ""
            },
            "colorscale": [
             [
              0,
              "#0d0887"
             ],
             [
              0.1111111111111111,
              "#46039f"
             ],
             [
              0.2222222222222222,
              "#7201a8"
             ],
             [
              0.3333333333333333,
              "#9c179e"
             ],
             [
              0.4444444444444444,
              "#bd3786"
             ],
             [
              0.5555555555555556,
              "#d8576b"
             ],
             [
              0.6666666666666666,
              "#ed7953"
             ],
             [
              0.7777777777777778,
              "#fb9f3a"
             ],
             [
              0.8888888888888888,
              "#fdca26"
             ],
             [
              1,
              "#f0f921"
             ]
            ],
            "type": "heatmap"
           }
          ],
          "heatmapgl": [
           {
            "colorbar": {
             "outlinewidth": 0,
             "ticks": ""
            },
            "colorscale": [
             [
              0,
              "#0d0887"
             ],
             [
              0.1111111111111111,
              "#46039f"
             ],
             [
              0.2222222222222222,
              "#7201a8"
             ],
             [
              0.3333333333333333,
              "#9c179e"
             ],
             [
              0.4444444444444444,
              "#bd3786"
             ],
             [
              0.5555555555555556,
              "#d8576b"
             ],
             [
              0.6666666666666666,
              "#ed7953"
             ],
             [
              0.7777777777777778,
              "#fb9f3a"
             ],
             [
              0.8888888888888888,
              "#fdca26"
             ],
             [
              1,
              "#f0f921"
             ]
            ],
            "type": "heatmapgl"
           }
          ],
          "histogram": [
           {
            "marker": {
             "pattern": {
              "fillmode": "overlay",
              "size": 10,
              "solidity": 0.2
             }
            },
            "type": "histogram"
           }
          ],
          "histogram2d": [
           {
            "colorbar": {
             "outlinewidth": 0,
             "ticks": ""
            },
            "colorscale": [
             [
              0,
              "#0d0887"
             ],
             [
              0.1111111111111111,
              "#46039f"
             ],
             [
              0.2222222222222222,
              "#7201a8"
             ],
             [
              0.3333333333333333,
              "#9c179e"
             ],
             [
              0.4444444444444444,
              "#bd3786"
             ],
             [
              0.5555555555555556,
              "#d8576b"
             ],
             [
              0.6666666666666666,
              "#ed7953"
             ],
             [
              0.7777777777777778,
              "#fb9f3a"
             ],
             [
              0.8888888888888888,
              "#fdca26"
             ],
             [
              1,
              "#f0f921"
             ]
            ],
            "type": "histogram2d"
           }
          ],
          "histogram2dcontour": [
           {
            "colorbar": {
             "outlinewidth": 0,
             "ticks": ""
            },
            "colorscale": [
             [
              0,
              "#0d0887"
             ],
             [
              0.1111111111111111,
              "#46039f"
             ],
             [
              0.2222222222222222,
              "#7201a8"
             ],
             [
              0.3333333333333333,
              "#9c179e"
             ],
             [
              0.4444444444444444,
              "#bd3786"
             ],
             [
              0.5555555555555556,
              "#d8576b"
             ],
             [
              0.6666666666666666,
              "#ed7953"
             ],
             [
              0.7777777777777778,
              "#fb9f3a"
             ],
             [
              0.8888888888888888,
              "#fdca26"
             ],
             [
              1,
              "#f0f921"
             ]
            ],
            "type": "histogram2dcontour"
           }
          ],
          "mesh3d": [
           {
            "colorbar": {
             "outlinewidth": 0,
             "ticks": ""
            },
            "type": "mesh3d"
           }
          ],
          "parcoords": [
           {
            "line": {
             "colorbar": {
              "outlinewidth": 0,
              "ticks": ""
             }
            },
            "type": "parcoords"
           }
          ],
          "pie": [
           {
            "automargin": true,
            "type": "pie"
           }
          ],
          "scatter": [
           {
            "fillpattern": {
             "fillmode": "overlay",
             "size": 10,
             "solidity": 0.2
            },
            "type": "scatter"
           }
          ],
          "scatter3d": [
           {
            "line": {
             "colorbar": {
              "outlinewidth": 0,
              "ticks": ""
             }
            },
            "marker": {
             "colorbar": {
              "outlinewidth": 0,
              "ticks": ""
             }
            },
            "type": "scatter3d"
           }
          ],
          "scattercarpet": [
           {
            "marker": {
             "colorbar": {
              "outlinewidth": 0,
              "ticks": ""
             }
            },
            "type": "scattercarpet"
           }
          ],
          "scattergeo": [
           {
            "marker": {
             "colorbar": {
              "outlinewidth": 0,
              "ticks": ""
             }
            },
            "type": "scattergeo"
           }
          ],
          "scattergl": [
           {
            "marker": {
             "colorbar": {
              "outlinewidth": 0,
              "ticks": ""
             }
            },
            "type": "scattergl"
           }
          ],
          "scattermapbox": [
           {
            "marker": {
             "colorbar": {
              "outlinewidth": 0,
              "ticks": ""
             }
            },
            "type": "scattermapbox"
           }
          ],
          "scatterpolar": [
           {
            "marker": {
             "colorbar": {
              "outlinewidth": 0,
              "ticks": ""
             }
            },
            "type": "scatterpolar"
           }
          ],
          "scatterpolargl": [
           {
            "marker": {
             "colorbar": {
              "outlinewidth": 0,
              "ticks": ""
             }
            },
            "type": "scatterpolargl"
           }
          ],
          "scatterternary": [
           {
            "marker": {
             "colorbar": {
              "outlinewidth": 0,
              "ticks": ""
             }
            },
            "type": "scatterternary"
           }
          ],
          "surface": [
           {
            "colorbar": {
             "outlinewidth": 0,
             "ticks": ""
            },
            "colorscale": [
             [
              0,
              "#0d0887"
             ],
             [
              0.1111111111111111,
              "#46039f"
             ],
             [
              0.2222222222222222,
              "#7201a8"
             ],
             [
              0.3333333333333333,
              "#9c179e"
             ],
             [
              0.4444444444444444,
              "#bd3786"
             ],
             [
              0.5555555555555556,
              "#d8576b"
             ],
             [
              0.6666666666666666,
              "#ed7953"
             ],
             [
              0.7777777777777778,
              "#fb9f3a"
             ],
             [
              0.8888888888888888,
              "#fdca26"
             ],
             [
              1,
              "#f0f921"
             ]
            ],
            "type": "surface"
           }
          ],
          "table": [
           {
            "cells": {
             "fill": {
              "color": "#EBF0F8"
             },
             "line": {
              "color": "white"
             }
            },
            "header": {
             "fill": {
              "color": "#C8D4E3"
             },
             "line": {
              "color": "white"
             }
            },
            "type": "table"
           }
          ]
         },
         "layout": {
          "annotationdefaults": {
           "arrowcolor": "#2a3f5f",
           "arrowhead": 0,
           "arrowwidth": 1
          },
          "autotypenumbers": "strict",
          "coloraxis": {
           "colorbar": {
            "outlinewidth": 0,
            "ticks": ""
           }
          },
          "colorscale": {
           "diverging": [
            [
             0,
             "#8e0152"
            ],
            [
             0.1,
             "#c51b7d"
            ],
            [
             0.2,
             "#de77ae"
            ],
            [
             0.3,
             "#f1b6da"
            ],
            [
             0.4,
             "#fde0ef"
            ],
            [
             0.5,
             "#f7f7f7"
            ],
            [
             0.6,
             "#e6f5d0"
            ],
            [
             0.7,
             "#b8e186"
            ],
            [
             0.8,
             "#7fbc41"
            ],
            [
             0.9,
             "#4d9221"
            ],
            [
             1,
             "#276419"
            ]
           ],
           "sequential": [
            [
             0,
             "#0d0887"
            ],
            [
             0.1111111111111111,
             "#46039f"
            ],
            [
             0.2222222222222222,
             "#7201a8"
            ],
            [
             0.3333333333333333,
             "#9c179e"
            ],
            [
             0.4444444444444444,
             "#bd3786"
            ],
            [
             0.5555555555555556,
             "#d8576b"
            ],
            [
             0.6666666666666666,
             "#ed7953"
            ],
            [
             0.7777777777777778,
             "#fb9f3a"
            ],
            [
             0.8888888888888888,
             "#fdca26"
            ],
            [
             1,
             "#f0f921"
            ]
           ],
           "sequentialminus": [
            [
             0,
             "#0d0887"
            ],
            [
             0.1111111111111111,
             "#46039f"
            ],
            [
             0.2222222222222222,
             "#7201a8"
            ],
            [
             0.3333333333333333,
             "#9c179e"
            ],
            [
             0.4444444444444444,
             "#bd3786"
            ],
            [
             0.5555555555555556,
             "#d8576b"
            ],
            [
             0.6666666666666666,
             "#ed7953"
            ],
            [
             0.7777777777777778,
             "#fb9f3a"
            ],
            [
             0.8888888888888888,
             "#fdca26"
            ],
            [
             1,
             "#f0f921"
            ]
           ]
          },
          "colorway": [
           "#636efa",
           "#EF553B",
           "#00cc96",
           "#ab63fa",
           "#FFA15A",
           "#19d3f3",
           "#FF6692",
           "#B6E880",
           "#FF97FF",
           "#FECB52"
          ],
          "font": {
           "color": "#2a3f5f"
          },
          "geo": {
           "bgcolor": "white",
           "lakecolor": "white",
           "landcolor": "#E5ECF6",
           "showlakes": true,
           "showland": true,
           "subunitcolor": "white"
          },
          "hoverlabel": {
           "align": "left"
          },
          "hovermode": "closest",
          "mapbox": {
           "style": "light"
          },
          "paper_bgcolor": "white",
          "plot_bgcolor": "#E5ECF6",
          "polar": {
           "angularaxis": {
            "gridcolor": "white",
            "linecolor": "white",
            "ticks": ""
           },
           "bgcolor": "#E5ECF6",
           "radialaxis": {
            "gridcolor": "white",
            "linecolor": "white",
            "ticks": ""
           }
          },
          "scene": {
           "xaxis": {
            "backgroundcolor": "#E5ECF6",
            "gridcolor": "white",
            "gridwidth": 2,
            "linecolor": "white",
            "showbackground": true,
            "ticks": "",
            "zerolinecolor": "white"
           },
           "yaxis": {
            "backgroundcolor": "#E5ECF6",
            "gridcolor": "white",
            "gridwidth": 2,
            "linecolor": "white",
            "showbackground": true,
            "ticks": "",
            "zerolinecolor": "white"
           },
           "zaxis": {
            "backgroundcolor": "#E5ECF6",
            "gridcolor": "white",
            "gridwidth": 2,
            "linecolor": "white",
            "showbackground": true,
            "ticks": "",
            "zerolinecolor": "white"
           }
          },
          "shapedefaults": {
           "line": {
            "color": "#2a3f5f"
           }
          },
          "ternary": {
           "aaxis": {
            "gridcolor": "white",
            "linecolor": "white",
            "ticks": ""
           },
           "baxis": {
            "gridcolor": "white",
            "linecolor": "white",
            "ticks": ""
           },
           "bgcolor": "#E5ECF6",
           "caxis": {
            "gridcolor": "white",
            "linecolor": "white",
            "ticks": ""
           }
          },
          "title": {
           "x": 0.05
          },
          "xaxis": {
           "automargin": true,
           "gridcolor": "white",
           "linecolor": "white",
           "ticks": "",
           "title": {
            "standoff": 15
           },
           "zerolinecolor": "white",
           "zerolinewidth": 2
          },
          "yaxis": {
           "automargin": true,
           "gridcolor": "white",
           "linecolor": "white",
           "ticks": "",
           "title": {
            "standoff": 15
           },
           "zerolinecolor": "white",
           "zerolinewidth": 2
          }
         }
        },
        "xaxis": {
         "anchor": "y",
         "domain": [
          0,
          1
         ],
         "title": {
          "text": "lowest_sece accuracy"
         }
        },
        "yaxis": {
         "anchor": "x",
         "domain": [
          0,
          1
         ],
         "title": {
          "text": "lowest_sece sece"
         }
        }
       }
      }
     },
     "metadata": {},
     "output_type": "display_data"
    }
   ],
   "source": [
    "pareto_plot(data, \"lowest_sece\")"
   ]
  },
  {
   "cell_type": "code",
   "execution_count": 11,
   "metadata": {},
   "outputs": [
    {
     "data": {
      "application/vnd.plotly.v1+json": {
       "config": {
        "plotlyServerURL": "https://plot.ly"
       },
       "data": [
        {
         "error_x": {
          "array": [
           0.005067274099174752
          ]
         },
         "error_y": {
          "array": [
           0.0037759260563161516
          ]
         },
         "hovertemplate": "model=bbb<br>highest_sece accuracy=%{x}<br>highest_sece sece=%{y}<extra></extra>",
         "legendgroup": "bbb",
         "marker": {
          "color": "#636efa",
          "symbol": "circle"
         },
         "mode": "markers",
         "name": "bbb",
         "orientation": "v",
         "showlegend": true,
         "type": "scatter",
         "x": [
          0.9586798846721649
         ],
         "xaxis": "x",
         "y": [
          -0.022064603723480063
         ],
         "yaxis": "y"
        },
        {
         "error_x": {
          "array": [
           0.0073786916320347055
          ]
         },
         "error_y": {
          "array": [
           0.006705387484319598
          ]
         },
         "hovertemplate": "model=bbb_0.01<br>highest_sece accuracy=%{x}<br>highest_sece sece=%{y}<extra></extra>",
         "legendgroup": "bbb_0.01",
         "marker": {
          "color": "#EF553B",
          "symbol": "circle"
         },
         "mode": "markers",
         "name": "bbb_0.01",
         "orientation": "v",
         "showlegend": true,
         "type": "scatter",
         "x": [
          0.9580411076545715
         ],
         "xaxis": "x",
         "y": [
          -0.022897515953685707
         ],
         "yaxis": "y"
        },
        {
         "error_x": {
          "array": [
           0.0068119204521440695
          ]
         },
         "error_y": {
          "array": [
           0.005317408816892791
          ]
         },
         "hovertemplate": "model=bbb_0.1<br>highest_sece accuracy=%{x}<br>highest_sece sece=%{y}<extra></extra>",
         "legendgroup": "bbb_0.1",
         "marker": {
          "color": "#00cc96",
          "symbol": "circle"
         },
         "mode": "markers",
         "name": "bbb_0.1",
         "orientation": "v",
         "showlegend": true,
         "type": "scatter",
         "x": [
          0.9585971117019654
         ],
         "xaxis": "x",
         "y": [
          -0.02344250801246195
         ],
         "yaxis": "y"
        },
        {
         "error_x": {
          "array": [
           0.0019014554496150206
          ]
         },
         "error_y": {
          "array": [
           0.0012612028095535864
          ]
         },
         "hovertemplate": "model=bbb_4<br>highest_sece accuracy=%{x}<br>highest_sece sece=%{y}<extra></extra>",
         "legendgroup": "bbb_4",
         "marker": {
          "color": "#ab63fa",
          "symbol": "circle"
         },
         "mode": "markers",
         "name": "bbb_4",
         "orientation": "v",
         "showlegend": true,
         "type": "scatter",
         "x": [
          0.9630939602851868
         ],
         "xaxis": "x",
         "y": [
          -0.009449527013618073
         ],
         "yaxis": "y"
        },
        {
         "error_x": {
          "array": [
           0.008100833457611234
          ]
         },
         "error_y": {
          "array": [
           0.0026318747717966003
          ]
         },
         "hovertemplate": "model=laplace<br>highest_sece accuracy=%{x}<br>highest_sece sece=%{y}<extra></extra>",
         "legendgroup": "laplace",
         "marker": {
          "color": "#FFA15A",
          "symbol": "circle"
         },
         "mode": "markers",
         "name": "laplace",
         "orientation": "v",
         "showlegend": true,
         "type": "scatter",
         "x": [
          0.9252567738294601
         ],
         "xaxis": "x",
         "y": [
          0.06049463548023605
         ],
         "yaxis": "y"
        },
        {
         "error_x": {
          "array": [
           0.003883860988703475
          ]
         },
         "error_y": {
          "array": [
           0.0012189064133702758
          ]
         },
         "hovertemplate": "model=laplace_4<br>highest_sece accuracy=%{x}<br>highest_sece sece=%{y}<extra></extra>",
         "legendgroup": "laplace_4",
         "marker": {
          "color": "#19d3f3",
          "symbol": "circle"
         },
         "mode": "markers",
         "name": "laplace_4",
         "orientation": "v",
         "showlegend": true,
         "type": "scatter",
         "x": [
          0.9267600417137146
         ],
         "xaxis": "x",
         "y": [
          0.0639194289887764
         ],
         "yaxis": "y"
        },
        {
         "error_x": {
          "array": [
           0.00850098410131124
          ]
         },
         "error_y": {
          "array": [
           0.005968497074058927
          ]
         },
         "hovertemplate": "model=ll_ivon<br>highest_sece accuracy=%{x}<br>highest_sece sece=%{y}<extra></extra>",
         "legendgroup": "ll_ivon",
         "marker": {
          "color": "#FF6692",
          "symbol": "circle"
         },
         "mode": "markers",
         "name": "ll_ivon",
         "orientation": "v",
         "showlegend": true,
         "type": "scatter",
         "x": [
          0.9667382836341858
         ],
         "xaxis": "x",
         "y": [
          -0.01459159848578583
         ],
         "yaxis": "y"
        },
        {
         "error_x": {
          "array": [
           0.0062710873598188985
          ]
         },
         "error_y": {
          "array": [
           0.00144336223352875
          ]
         },
         "hovertemplate": "model=ll_ivon_5<br>highest_sece accuracy=%{x}<br>highest_sece sece=%{y}<extra></extra>",
         "legendgroup": "ll_ivon_5",
         "marker": {
          "color": "#B6E880",
          "symbol": "circle"
         },
         "mode": "markers",
         "name": "ll_ivon_5",
         "orientation": "v",
         "showlegend": true,
         "type": "scatter",
         "x": [
          0.9606593132019043
         ],
         "xaxis": "x",
         "y": [
          -0.0012782286115676457
         ],
         "yaxis": "y"
        },
        {
         "error_x": {
          "array": [
           null
          ]
         },
         "error_y": {
          "array": [
           null
          ]
         },
         "hovertemplate": "model=ll_ivon_p1<br>highest_sece accuracy=%{x}<br>highest_sece sece=%{y}<extra></extra>",
         "legendgroup": "ll_ivon_p1",
         "marker": {
          "color": "#FF97FF",
          "symbol": "circle"
         },
         "mode": "markers",
         "name": "ll_ivon_p1",
         "orientation": "v",
         "showlegend": true,
         "type": "scatter",
         "x": [
          0.9718205332756042
         ],
         "xaxis": "x",
         "y": [
          -0.00943588268736179
         ],
         "yaxis": "y"
        },
        {
         "error_x": {
          "array": [
           null
          ]
         },
         "error_y": {
          "array": [
           null
          ]
         },
         "hovertemplate": "model=ll_ivon_p10<br>highest_sece accuracy=%{x}<br>highest_sece sece=%{y}<extra></extra>",
         "legendgroup": "ll_ivon_p10",
         "marker": {
          "color": "#FECB52",
          "symbol": "circle"
         },
         "mode": "markers",
         "name": "ll_ivon_p10",
         "orientation": "v",
         "showlegend": true,
         "type": "scatter",
         "x": [
          0.973307967185974
         ],
         "xaxis": "x",
         "y": [
          -0.008446164490142034
         ],
         "yaxis": "y"
        },
        {
         "error_x": {
          "array": [
           null
          ]
         },
         "error_y": {
          "array": [
           null
          ]
         },
         "hovertemplate": "model=ll_ivon_p100<br>highest_sece accuracy=%{x}<br>highest_sece sece=%{y}<extra></extra>",
         "legendgroup": "ll_ivon_p100",
         "marker": {
          "color": "#636efa",
          "symbol": "circle"
         },
         "mode": "markers",
         "name": "ll_ivon_p100",
         "orientation": "v",
         "showlegend": true,
         "type": "scatter",
         "x": [
          0.973721206188202
         ],
         "xaxis": "x",
         "y": [
          -0.009998383029277006
         ],
         "yaxis": "y"
        },
        {
         "error_x": {
          "array": [
           null
          ]
         },
         "error_y": {
          "array": [
           null
          ]
         },
         "hovertemplate": "model=ll_ivon_p500<br>highest_sece accuracy=%{x}<br>highest_sece sece=%{y}<extra></extra>",
         "legendgroup": "ll_ivon_p500",
         "marker": {
          "color": "#EF553B",
          "symbol": "circle"
         },
         "mode": "markers",
         "name": "ll_ivon_p500",
         "orientation": "v",
         "showlegend": true,
         "type": "scatter",
         "x": [
          0.9680191874504088
         ],
         "xaxis": "x",
         "y": [
          -0.010062853316316603
         ],
         "yaxis": "y"
        },
        {
         "error_x": {
          "array": [
           0.00842665049037271
          ]
         },
         "error_y": {
          "array": [
           0.005636498438836284
          ]
         },
         "hovertemplate": "model=ll_svgd<br>highest_sece accuracy=%{x}<br>highest_sece sece=%{y}<extra></extra>",
         "legendgroup": "ll_svgd",
         "marker": {
          "color": "#00cc96",
          "symbol": "circle"
         },
         "mode": "markers",
         "name": "ll_svgd",
         "orientation": "v",
         "showlegend": true,
         "type": "scatter",
         "x": [
          0.9270588278770446
         ],
         "xaxis": "x",
         "y": [
          0.05844175394620994
         ],
         "yaxis": "y"
        },
        {
         "error_x": {
          "array": [
           0.01027925910310507
          ]
         },
         "error_y": {
          "array": [
           0.004079417558264045
          ]
         },
         "hovertemplate": "model=map<br>highest_sece accuracy=%{x}<br>highest_sece sece=%{y}<extra></extra>",
         "legendgroup": "map",
         "marker": {
          "color": "#ab63fa",
          "symbol": "circle"
         },
         "mode": "markers",
         "name": "map",
         "orientation": "v",
         "showlegend": true,
         "type": "scatter",
         "x": [
          0.927544355392456
         ],
         "xaxis": "x",
         "y": [
          0.060194297680556494
         ],
         "yaxis": "y"
        },
        {
         "error_x": {
          "array": [
           0.003526198931386257
          ]
         },
         "error_y": {
          "array": [
           0.0011219729170899235
          ]
         },
         "hovertemplate": "model=map_4<br>highest_sece accuracy=%{x}<br>highest_sece sece=%{y}<extra></extra>",
         "legendgroup": "map_4",
         "marker": {
          "color": "#FFA15A",
          "symbol": "circle"
         },
         "mode": "markers",
         "name": "map_4",
         "orientation": "v",
         "showlegend": true,
         "type": "scatter",
         "x": [
          0.9271335244178772
         ],
         "xaxis": "x",
         "y": [
          0.0636148678978173
         ],
         "yaxis": "y"
        },
        {
         "error_x": {
          "array": [
           0.021538409379064802
          ]
         },
         "error_y": {
          "array": [
           0.0017703174307685796
          ]
         },
         "hovertemplate": "model=map_4_wd0.0001<br>highest_sece accuracy=%{x}<br>highest_sece sece=%{y}<extra></extra>",
         "legendgroup": "map_4_wd0.0001",
         "marker": {
          "color": "#19d3f3",
          "symbol": "circle"
         },
         "mode": "markers",
         "name": "map_4_wd0.0001",
         "orientation": "v",
         "showlegend": true,
         "type": "scatter",
         "x": [
          0.9335307002067565
         ],
         "xaxis": "x",
         "y": [
          0.006146041235440938
         ],
         "yaxis": "y"
        },
        {
         "error_x": {
          "array": [
           0.00927619186915689
          ]
         },
         "error_y": {
          "array": [
           0.00705141307802494
          ]
         },
         "hovertemplate": "model=map_wd0.0001<br>highest_sece accuracy=%{x}<br>highest_sece sece=%{y}<extra></extra>",
         "legendgroup": "map_wd0.0001",
         "marker": {
          "color": "#FF6692",
          "symbol": "circle"
         },
         "mode": "markers",
         "name": "map_wd0.0001",
         "orientation": "v",
         "showlegend": true,
         "type": "scatter",
         "x": [
          0.9663676738739013
         ],
         "xaxis": "x",
         "y": [
          -0.007912223471450104
         ],
         "yaxis": "y"
        },
        {
         "error_x": {
          "array": [
           0.017340532721435525
          ]
         },
         "error_y": {
          "array": [
           0.006973883717833877
          ]
         },
         "hovertemplate": "model=mcd<br>highest_sece accuracy=%{x}<br>highest_sece sece=%{y}<extra></extra>",
         "legendgroup": "mcd",
         "marker": {
          "color": "#B6E880",
          "symbol": "circle"
         },
         "mode": "markers",
         "name": "mcd",
         "orientation": "v",
         "showlegend": true,
         "type": "scatter",
         "x": [
          0.9372143387794495
         ],
         "xaxis": "x",
         "y": [
          0.10149139846304212
         ],
         "yaxis": "y"
        },
        {
         "error_x": {
          "array": [
           0.006368290814176467
          ]
         },
         "error_y": {
          "array": [
           0.005215302477381601
          ]
         },
         "hovertemplate": "model=mcd-p0.0<br>highest_sece accuracy=%{x}<br>highest_sece sece=%{y}<extra></extra>",
         "legendgroup": "mcd-p0.0",
         "marker": {
          "color": "#FF97FF",
          "symbol": "circle"
         },
         "mode": "markers",
         "name": "mcd-p0.0",
         "orientation": "v",
         "showlegend": true,
         "type": "scatter",
         "x": [
          0.93299720287323
         ],
         "xaxis": "x",
         "y": [
          0.05962934423004991
         ],
         "yaxis": "y"
        },
        {
         "error_x": {
          "array": [
           0.006143080938884848
          ]
         },
         "error_y": {
          "array": [
           0.005082448184250145
          ]
         },
         "hovertemplate": "model=mcd-p0.01<br>highest_sece accuracy=%{x}<br>highest_sece sece=%{y}<extra></extra>",
         "legendgroup": "mcd-p0.01",
         "marker": {
          "color": "#FECB52",
          "symbol": "circle"
         },
         "mode": "markers",
         "name": "mcd-p0.01",
         "orientation": "v",
         "showlegend": true,
         "type": "scatter",
         "x": [
          0.9355368852615357
         ],
         "xaxis": "x",
         "y": [
          0.06381352581341171
         ],
         "yaxis": "y"
        },
        {
         "error_x": {
          "array": [
           0.005975723266601583
          ]
         },
         "error_y": {
          "array": [
           0.005533140701554176
          ]
         },
         "hovertemplate": "model=mcd-p0.05<br>highest_sece accuracy=%{x}<br>highest_sece sece=%{y}<extra></extra>",
         "legendgroup": "mcd-p0.05",
         "marker": {
          "color": "#636efa",
          "symbol": "circle"
         },
         "mode": "markers",
         "name": "mcd-p0.05",
         "orientation": "v",
         "showlegend": true,
         "type": "scatter",
         "x": [
          0.9465919733047485
         ],
         "xaxis": "x",
         "y": [
          0.08114383003847495
         ],
         "yaxis": "y"
        },
        {
         "error_x": {
          "array": [
           0.01783717874402993
          ]
         },
         "error_y": {
          "array": [
           0.006533428533759357
          ]
         },
         "hovertemplate": "model=mcd-p0.1<br>highest_sece accuracy=%{x}<br>highest_sece sece=%{y}<extra></extra>",
         "legendgroup": "mcd-p0.1",
         "marker": {
          "color": "#EF553B",
          "symbol": "circle"
         },
         "mode": "markers",
         "name": "mcd-p0.1",
         "orientation": "v",
         "showlegend": true,
         "type": "scatter",
         "x": [
          0.9366479873657226
         ],
         "xaxis": "x",
         "y": [
          0.10067488658029863
         ],
         "yaxis": "y"
        },
        {
         "error_x": {
          "array": [
           0.01764814529690317
          ]
         },
         "error_y": {
          "array": [
           0.001945421623256856
          ]
         },
         "hovertemplate": "model=mcd_4<br>highest_sece accuracy=%{x}<br>highest_sece sece=%{y}<extra></extra>",
         "legendgroup": "mcd_4",
         "marker": {
          "color": "#00cc96",
          "symbol": "circle"
         },
         "mode": "markers",
         "name": "mcd_4",
         "orientation": "v",
         "showlegend": true,
         "type": "scatter",
         "x": [
          0.9375094056129456
         ],
         "xaxis": "x",
         "y": [
          0.10512547706969863
         ],
         "yaxis": "y"
        },
        {
         "error_x": {
          "array": [
           0.00545518957222584
          ]
         },
         "error_y": {
          "array": [
           0.004500763355927226
          ]
         },
         "hovertemplate": "model=rank1<br>highest_sece accuracy=%{x}<br>highest_sece sece=%{y}<extra></extra>",
         "legendgroup": "rank1",
         "marker": {
          "color": "#ab63fa",
          "symbol": "circle"
         },
         "mode": "markers",
         "name": "rank1",
         "orientation": "v",
         "showlegend": true,
         "type": "scatter",
         "x": [
          0.9563330411911011
         ],
         "xaxis": "x",
         "y": [
          -0.02553423324659317
         ],
         "yaxis": "y"
        },
        {
         "error_x": {
          "array": [
           0.021293999188362476
          ]
         },
         "error_y": {
          "array": [
           0.005503943017990906
          ]
         },
         "hovertemplate": "model=svgd<br>highest_sece accuracy=%{x}<br>highest_sece sece=%{y}<extra></extra>",
         "legendgroup": "svgd",
         "marker": {
          "color": "#FFA15A",
          "symbol": "circle"
         },
         "mode": "markers",
         "name": "svgd",
         "orientation": "v",
         "showlegend": true,
         "type": "scatter",
         "x": [
          0.9358110785484314
         ],
         "xaxis": "x",
         "y": [
          0.0766260880722097
         ],
         "yaxis": "y"
        },
        {
         "error_x": {
          "array": [
           0.03463847618602718
          ]
         },
         "error_y": {
          "array": [
           0.03156026318711621
          ]
         },
         "hovertemplate": "model=swag<br>highest_sece accuracy=%{x}<br>highest_sece sece=%{y}<extra></extra>",
         "legendgroup": "swag",
         "marker": {
          "color": "#19d3f3",
          "symbol": "circle"
         },
         "mode": "markers",
         "name": "swag",
         "orientation": "v",
         "showlegend": true,
         "type": "scatter",
         "x": [
          0.9233782291412354
         ],
         "xaxis": "x",
         "y": [
          0.19781613903354586
         ],
         "yaxis": "y"
        },
        {
         "error_x": {
          "array": [
           0.019249279910528758
          ]
         },
         "error_y": {
          "array": [
           0.001667782753189565
          ]
         },
         "hovertemplate": "model=swag_4<br>highest_sece accuracy=%{x}<br>highest_sece sece=%{y}<extra></extra>",
         "legendgroup": "swag_4",
         "marker": {
          "color": "#FF6692",
          "symbol": "circle"
         },
         "mode": "markers",
         "name": "swag_4",
         "orientation": "v",
         "showlegend": true,
         "type": "scatter",
         "x": [
          0.9318487167358398
         ],
         "xaxis": "x",
         "y": [
          0.2411161838335861
         ],
         "yaxis": "y"
        }
       ],
       "layout": {
        "legend": {
         "title": {
          "text": "model"
         },
         "tracegroupgap": 0
        },
        "margin": {
         "t": 60
        },
        "template": {
         "data": {
          "bar": [
           {
            "error_x": {
             "color": "#2a3f5f"
            },
            "error_y": {
             "color": "#2a3f5f"
            },
            "marker": {
             "line": {
              "color": "#E5ECF6",
              "width": 0.5
             },
             "pattern": {
              "fillmode": "overlay",
              "size": 10,
              "solidity": 0.2
             }
            },
            "type": "bar"
           }
          ],
          "barpolar": [
           {
            "marker": {
             "line": {
              "color": "#E5ECF6",
              "width": 0.5
             },
             "pattern": {
              "fillmode": "overlay",
              "size": 10,
              "solidity": 0.2
             }
            },
            "type": "barpolar"
           }
          ],
          "carpet": [
           {
            "aaxis": {
             "endlinecolor": "#2a3f5f",
             "gridcolor": "white",
             "linecolor": "white",
             "minorgridcolor": "white",
             "startlinecolor": "#2a3f5f"
            },
            "baxis": {
             "endlinecolor": "#2a3f5f",
             "gridcolor": "white",
             "linecolor": "white",
             "minorgridcolor": "white",
             "startlinecolor": "#2a3f5f"
            },
            "type": "carpet"
           }
          ],
          "choropleth": [
           {
            "colorbar": {
             "outlinewidth": 0,
             "ticks": ""
            },
            "type": "choropleth"
           }
          ],
          "contour": [
           {
            "colorbar": {
             "outlinewidth": 0,
             "ticks": ""
            },
            "colorscale": [
             [
              0,
              "#0d0887"
             ],
             [
              0.1111111111111111,
              "#46039f"
             ],
             [
              0.2222222222222222,
              "#7201a8"
             ],
             [
              0.3333333333333333,
              "#9c179e"
             ],
             [
              0.4444444444444444,
              "#bd3786"
             ],
             [
              0.5555555555555556,
              "#d8576b"
             ],
             [
              0.6666666666666666,
              "#ed7953"
             ],
             [
              0.7777777777777778,
              "#fb9f3a"
             ],
             [
              0.8888888888888888,
              "#fdca26"
             ],
             [
              1,
              "#f0f921"
             ]
            ],
            "type": "contour"
           }
          ],
          "contourcarpet": [
           {
            "colorbar": {
             "outlinewidth": 0,
             "ticks": ""
            },
            "type": "contourcarpet"
           }
          ],
          "heatmap": [
           {
            "colorbar": {
             "outlinewidth": 0,
             "ticks": ""
            },
            "colorscale": [
             [
              0,
              "#0d0887"
             ],
             [
              0.1111111111111111,
              "#46039f"
             ],
             [
              0.2222222222222222,
              "#7201a8"
             ],
             [
              0.3333333333333333,
              "#9c179e"
             ],
             [
              0.4444444444444444,
              "#bd3786"
             ],
             [
              0.5555555555555556,
              "#d8576b"
             ],
             [
              0.6666666666666666,
              "#ed7953"
             ],
             [
              0.7777777777777778,
              "#fb9f3a"
             ],
             [
              0.8888888888888888,
              "#fdca26"
             ],
             [
              1,
              "#f0f921"
             ]
            ],
            "type": "heatmap"
           }
          ],
          "heatmapgl": [
           {
            "colorbar": {
             "outlinewidth": 0,
             "ticks": ""
            },
            "colorscale": [
             [
              0,
              "#0d0887"
             ],
             [
              0.1111111111111111,
              "#46039f"
             ],
             [
              0.2222222222222222,
              "#7201a8"
             ],
             [
              0.3333333333333333,
              "#9c179e"
             ],
             [
              0.4444444444444444,
              "#bd3786"
             ],
             [
              0.5555555555555556,
              "#d8576b"
             ],
             [
              0.6666666666666666,
              "#ed7953"
             ],
             [
              0.7777777777777778,
              "#fb9f3a"
             ],
             [
              0.8888888888888888,
              "#fdca26"
             ],
             [
              1,
              "#f0f921"
             ]
            ],
            "type": "heatmapgl"
           }
          ],
          "histogram": [
           {
            "marker": {
             "pattern": {
              "fillmode": "overlay",
              "size": 10,
              "solidity": 0.2
             }
            },
            "type": "histogram"
           }
          ],
          "histogram2d": [
           {
            "colorbar": {
             "outlinewidth": 0,
             "ticks": ""
            },
            "colorscale": [
             [
              0,
              "#0d0887"
             ],
             [
              0.1111111111111111,
              "#46039f"
             ],
             [
              0.2222222222222222,
              "#7201a8"
             ],
             [
              0.3333333333333333,
              "#9c179e"
             ],
             [
              0.4444444444444444,
              "#bd3786"
             ],
             [
              0.5555555555555556,
              "#d8576b"
             ],
             [
              0.6666666666666666,
              "#ed7953"
             ],
             [
              0.7777777777777778,
              "#fb9f3a"
             ],
             [
              0.8888888888888888,
              "#fdca26"
             ],
             [
              1,
              "#f0f921"
             ]
            ],
            "type": "histogram2d"
           }
          ],
          "histogram2dcontour": [
           {
            "colorbar": {
             "outlinewidth": 0,
             "ticks": ""
            },
            "colorscale": [
             [
              0,
              "#0d0887"
             ],
             [
              0.1111111111111111,
              "#46039f"
             ],
             [
              0.2222222222222222,
              "#7201a8"
             ],
             [
              0.3333333333333333,
              "#9c179e"
             ],
             [
              0.4444444444444444,
              "#bd3786"
             ],
             [
              0.5555555555555556,
              "#d8576b"
             ],
             [
              0.6666666666666666,
              "#ed7953"
             ],
             [
              0.7777777777777778,
              "#fb9f3a"
             ],
             [
              0.8888888888888888,
              "#fdca26"
             ],
             [
              1,
              "#f0f921"
             ]
            ],
            "type": "histogram2dcontour"
           }
          ],
          "mesh3d": [
           {
            "colorbar": {
             "outlinewidth": 0,
             "ticks": ""
            },
            "type": "mesh3d"
           }
          ],
          "parcoords": [
           {
            "line": {
             "colorbar": {
              "outlinewidth": 0,
              "ticks": ""
             }
            },
            "type": "parcoords"
           }
          ],
          "pie": [
           {
            "automargin": true,
            "type": "pie"
           }
          ],
          "scatter": [
           {
            "fillpattern": {
             "fillmode": "overlay",
             "size": 10,
             "solidity": 0.2
            },
            "type": "scatter"
           }
          ],
          "scatter3d": [
           {
            "line": {
             "colorbar": {
              "outlinewidth": 0,
              "ticks": ""
             }
            },
            "marker": {
             "colorbar": {
              "outlinewidth": 0,
              "ticks": ""
             }
            },
            "type": "scatter3d"
           }
          ],
          "scattercarpet": [
           {
            "marker": {
             "colorbar": {
              "outlinewidth": 0,
              "ticks": ""
             }
            },
            "type": "scattercarpet"
           }
          ],
          "scattergeo": [
           {
            "marker": {
             "colorbar": {
              "outlinewidth": 0,
              "ticks": ""
             }
            },
            "type": "scattergeo"
           }
          ],
          "scattergl": [
           {
            "marker": {
             "colorbar": {
              "outlinewidth": 0,
              "ticks": ""
             }
            },
            "type": "scattergl"
           }
          ],
          "scattermapbox": [
           {
            "marker": {
             "colorbar": {
              "outlinewidth": 0,
              "ticks": ""
             }
            },
            "type": "scattermapbox"
           }
          ],
          "scatterpolar": [
           {
            "marker": {
             "colorbar": {
              "outlinewidth": 0,
              "ticks": ""
             }
            },
            "type": "scatterpolar"
           }
          ],
          "scatterpolargl": [
           {
            "marker": {
             "colorbar": {
              "outlinewidth": 0,
              "ticks": ""
             }
            },
            "type": "scatterpolargl"
           }
          ],
          "scatterternary": [
           {
            "marker": {
             "colorbar": {
              "outlinewidth": 0,
              "ticks": ""
             }
            },
            "type": "scatterternary"
           }
          ],
          "surface": [
           {
            "colorbar": {
             "outlinewidth": 0,
             "ticks": ""
            },
            "colorscale": [
             [
              0,
              "#0d0887"
             ],
             [
              0.1111111111111111,
              "#46039f"
             ],
             [
              0.2222222222222222,
              "#7201a8"
             ],
             [
              0.3333333333333333,
              "#9c179e"
             ],
             [
              0.4444444444444444,
              "#bd3786"
             ],
             [
              0.5555555555555556,
              "#d8576b"
             ],
             [
              0.6666666666666666,
              "#ed7953"
             ],
             [
              0.7777777777777778,
              "#fb9f3a"
             ],
             [
              0.8888888888888888,
              "#fdca26"
             ],
             [
              1,
              "#f0f921"
             ]
            ],
            "type": "surface"
           }
          ],
          "table": [
           {
            "cells": {
             "fill": {
              "color": "#EBF0F8"
             },
             "line": {
              "color": "white"
             }
            },
            "header": {
             "fill": {
              "color": "#C8D4E3"
             },
             "line": {
              "color": "white"
             }
            },
            "type": "table"
           }
          ]
         },
         "layout": {
          "annotationdefaults": {
           "arrowcolor": "#2a3f5f",
           "arrowhead": 0,
           "arrowwidth": 1
          },
          "autotypenumbers": "strict",
          "coloraxis": {
           "colorbar": {
            "outlinewidth": 0,
            "ticks": ""
           }
          },
          "colorscale": {
           "diverging": [
            [
             0,
             "#8e0152"
            ],
            [
             0.1,
             "#c51b7d"
            ],
            [
             0.2,
             "#de77ae"
            ],
            [
             0.3,
             "#f1b6da"
            ],
            [
             0.4,
             "#fde0ef"
            ],
            [
             0.5,
             "#f7f7f7"
            ],
            [
             0.6,
             "#e6f5d0"
            ],
            [
             0.7,
             "#b8e186"
            ],
            [
             0.8,
             "#7fbc41"
            ],
            [
             0.9,
             "#4d9221"
            ],
            [
             1,
             "#276419"
            ]
           ],
           "sequential": [
            [
             0,
             "#0d0887"
            ],
            [
             0.1111111111111111,
             "#46039f"
            ],
            [
             0.2222222222222222,
             "#7201a8"
            ],
            [
             0.3333333333333333,
             "#9c179e"
            ],
            [
             0.4444444444444444,
             "#bd3786"
            ],
            [
             0.5555555555555556,
             "#d8576b"
            ],
            [
             0.6666666666666666,
             "#ed7953"
            ],
            [
             0.7777777777777778,
             "#fb9f3a"
            ],
            [
             0.8888888888888888,
             "#fdca26"
            ],
            [
             1,
             "#f0f921"
            ]
           ],
           "sequentialminus": [
            [
             0,
             "#0d0887"
            ],
            [
             0.1111111111111111,
             "#46039f"
            ],
            [
             0.2222222222222222,
             "#7201a8"
            ],
            [
             0.3333333333333333,
             "#9c179e"
            ],
            [
             0.4444444444444444,
             "#bd3786"
            ],
            [
             0.5555555555555556,
             "#d8576b"
            ],
            [
             0.6666666666666666,
             "#ed7953"
            ],
            [
             0.7777777777777778,
             "#fb9f3a"
            ],
            [
             0.8888888888888888,
             "#fdca26"
            ],
            [
             1,
             "#f0f921"
            ]
           ]
          },
          "colorway": [
           "#636efa",
           "#EF553B",
           "#00cc96",
           "#ab63fa",
           "#FFA15A",
           "#19d3f3",
           "#FF6692",
           "#B6E880",
           "#FF97FF",
           "#FECB52"
          ],
          "font": {
           "color": "#2a3f5f"
          },
          "geo": {
           "bgcolor": "white",
           "lakecolor": "white",
           "landcolor": "#E5ECF6",
           "showlakes": true,
           "showland": true,
           "subunitcolor": "white"
          },
          "hoverlabel": {
           "align": "left"
          },
          "hovermode": "closest",
          "mapbox": {
           "style": "light"
          },
          "paper_bgcolor": "white",
          "plot_bgcolor": "#E5ECF6",
          "polar": {
           "angularaxis": {
            "gridcolor": "white",
            "linecolor": "white",
            "ticks": ""
           },
           "bgcolor": "#E5ECF6",
           "radialaxis": {
            "gridcolor": "white",
            "linecolor": "white",
            "ticks": ""
           }
          },
          "scene": {
           "xaxis": {
            "backgroundcolor": "#E5ECF6",
            "gridcolor": "white",
            "gridwidth": 2,
            "linecolor": "white",
            "showbackground": true,
            "ticks": "",
            "zerolinecolor": "white"
           },
           "yaxis": {
            "backgroundcolor": "#E5ECF6",
            "gridcolor": "white",
            "gridwidth": 2,
            "linecolor": "white",
            "showbackground": true,
            "ticks": "",
            "zerolinecolor": "white"
           },
           "zaxis": {
            "backgroundcolor": "#E5ECF6",
            "gridcolor": "white",
            "gridwidth": 2,
            "linecolor": "white",
            "showbackground": true,
            "ticks": "",
            "zerolinecolor": "white"
           }
          },
          "shapedefaults": {
           "line": {
            "color": "#2a3f5f"
           }
          },
          "ternary": {
           "aaxis": {
            "gridcolor": "white",
            "linecolor": "white",
            "ticks": ""
           },
           "baxis": {
            "gridcolor": "white",
            "linecolor": "white",
            "ticks": ""
           },
           "bgcolor": "#E5ECF6",
           "caxis": {
            "gridcolor": "white",
            "linecolor": "white",
            "ticks": ""
           }
          },
          "title": {
           "x": 0.05
          },
          "xaxis": {
           "automargin": true,
           "gridcolor": "white",
           "linecolor": "white",
           "ticks": "",
           "title": {
            "standoff": 15
           },
           "zerolinecolor": "white",
           "zerolinewidth": 2
          },
          "yaxis": {
           "automargin": true,
           "gridcolor": "white",
           "linecolor": "white",
           "ticks": "",
           "title": {
            "standoff": 15
           },
           "zerolinecolor": "white",
           "zerolinewidth": 2
          }
         }
        },
        "xaxis": {
         "anchor": "y",
         "domain": [
          0,
          1
         ],
         "title": {
          "text": "highest_sece accuracy"
         }
        },
        "yaxis": {
         "anchor": "x",
         "domain": [
          0,
          1
         ],
         "title": {
          "text": "highest_sece sece"
         }
        }
       }
      }
     },
     "metadata": {},
     "output_type": "display_data"
    }
   ],
   "source": [
    "pareto_plot(data, \"highest_sece\")"
   ]
  },
  {
   "cell_type": "code",
   "execution_count": 18,
   "metadata": {},
   "outputs": [
    {
     "name": "stdout",
     "output_type": "stream",
     "text": [
      "\\begin{tabular}{l|rrrrrr}\n",
      "    \\multicolumn{1}{l}{Model} & \\multicolumn{1}{c}{WG Accuracy} & \\multicolumn{1}{c}{WG ECE} & \\multicolumn{1}{c}{WG sECE} & \\multicolumn{1}{c}{Avg Accuracy} & \\multicolumn{1}{c}{Avg ECE} & \\multicolumn{1}{c}{Avg sECE} \\\\\n",
      "    \\hline\n",
      "    MAP & $0.420 \\pm 0.021$ & $0.353 \\pm 0.025$ & $-0.353 \\pm 0.025$ & $0.916 \\pm 0.001$ & $0.012 \\pm 0.003$ & $-0.012 \\pm 0.003$ \\\\\n",
      "    Deep Ensemble & $0.419 \\pm 0.008$ & $0.349 \\pm 0.010$ & $-0.349 \\pm 0.010$ & $0.916 \\pm 0.000$ & $0.010 \\pm 0.001$ & $-0.010 \\pm 0.001$ \\\\\n",
      "    MCD ($p=0.2$) & $0.326 \\pm 0.023$ & $0.417 \\pm 0.030$ & $-0.417 \\pm 0.030$ & $0.918 \\pm 0.000$ & $0.007 \\pm 0.005$ & $\\bm{0.006 \\pm 0.006}$ \\\\\n",
      "    MCD ($p=0.1$) & $0.325 \\pm 0.021$ & $0.418 \\pm 0.027$ & $-0.418 \\pm 0.027$ & $0.918 \\pm 0.000$ & $\\bm{0.007 \\pm 0.005}$ & $\\bm{0.006 \\pm 0.005}$ \\\\\n",
      "    MCD ($p=0.05$) & $0.364 \\pm 0.018$ & $0.393 \\pm 0.024$ & $-0.393 \\pm 0.024$ & $0.918 \\pm 0.000$ & $\\bm{0.005 \\pm 0.002}$ & $\\bm{-0.003 \\pm 0.004}$ \\\\\n",
      "    MCD ($p=0.01$) & $0.396 \\pm 0.015$ & $0.374 \\pm 0.023$ & $-0.374 \\pm 0.023$ & $0.917 \\pm 0.000$ & $0.011 \\pm 0.003$ & $-0.011 \\pm 0.003$ \\\\\n",
      "    MultiMCD ($p=0.2$) & $0.326 \\pm 0.005$ & $0.412 \\pm 0.007$ & $-0.412 \\pm 0.007$ & $0.919 \\pm 0.000$ & $0.009 \\pm 0.002$ & $0.009 \\pm 0.002$ \\\\\n",
      "    SWAG & $0.448 \\pm 0.021$ & $\\bm{0.197 \\pm 0.041}$ & $\\bm{-0.184 \\pm 0.027}$ & $0.877 \\pm 0.024$ & $0.152 \\pm 0.024$ & $0.152 \\pm 0.024$ \\\\\n",
      "    MultiSWAG & $0.429 \\pm 0.016$ & $\\bm{0.183 \\pm 0.018}$ & $\\bm{-0.183 \\pm 0.018}$ & $0.901 \\pm 0.002$ & $0.184 \\pm 0.002$ & $0.184 \\pm 0.002$ \\\\\n",
      "    LL Laplace & $0.424 \\pm 0.016$ & $0.348 \\pm 0.018$ & $-0.347 \\pm 0.018$ & $0.916 \\pm 0.001$ & $0.011 \\pm 0.002$ & $-0.011 \\pm 0.002$ \\\\\n",
      "    LL MultiLaplace & $0.420 \\pm 0.008$ & $0.348 \\pm 0.010$ & $-0.348 \\pm 0.010$ & $0.916 \\pm 0.000$ & $0.010 \\pm 0.001$ & $-0.009 \\pm 0.001$ \\\\\n",
      "    LL BBB & $\\bm{0.537 \\pm 0.032}$ & $0.362 \\pm 0.032$ & $-0.361 \\pm 0.033$ & $0.918 \\pm 0.002$ & $0.056 \\pm 0.002$ & $-0.056 \\pm 0.002$ \\\\\n",
      "    LL MultiBBB & $\\bm{0.525 \\pm 0.012}$ & $0.338 \\pm 0.012$ & $-0.338 \\pm 0.012$ & $0.922 \\pm 0.000$ & $0.041 \\pm 0.001$ & $-0.041 \\pm 0.001$ \\\\\n",
      "    Rank-1 VI & $\\bm{0.540 \\pm 0.028}$ & $0.373 \\pm 0.030$ & $-0.373 \\pm 0.030$ & $0.917 \\pm 0.002$ & $0.060 \\pm 0.002$ & $-0.060 \\pm 0.002$ \\\\\n",
      "    LL iVON & $0.480 \\pm 0.045$ & $0.421 \\pm 0.048$ & $-0.421 \\pm 0.048$ & $0.919 \\pm 0.003$ & $0.054 \\pm 0.002$ & $-0.054 \\pm 0.002$ \\\\\n",
      "    LL MultiiVON & $0.465 \\pm 0.011$ & $0.396 \\pm 0.015$ & $-0.396 \\pm 0.015$ & $\\bm{0.924 \\pm 0.001}$ & $0.039 \\pm 0.001$ & $-0.039 \\pm 0.001$ \\\\\n",
      "    SVGD & $0.384 \\pm 0.068$ & $0.380 \\pm 0.079$ & $-0.379 \\pm 0.079$ & $0.915 \\pm 0.003$ & $0.011 \\pm 0.005$ & $-0.008 \\pm 0.008$ \\\\\n",
      "\\end{tabular}\n"
     ]
    }
   ],
   "source": [
    "algo_names = [\n",
    "    (\"map\", \"MAP\"),\n",
    "    (\"map_4\", \"Deep Ensemble\"),\n",
    "    (\"mcd\", \"MCD ($p=0.2$)\"),\n",
    "    (\"mcd-p0.1\", \"MCD ($p=0.1$)\"),\n",
    "    (\"mcd-p0.05\", \"MCD ($p=0.05$)\"),\n",
    "    (\"mcd-p0.01\", \"MCD ($p=0.01$)\"),\n",
    "    (\"mcd_4\", \"MultiMCD ($p=0.2$)\"),\n",
    "    (\"swag\", \"SWAG\"),\n",
    "    (\"swag_4\", \"MultiSWAG\"),\n",
    "    # (\"swag_ll-1\", \"LL SWAG\"),\n",
    "    (\"laplace\", \"LL Laplace\"),\n",
    "    (\"laplace_4\", \"LL MultiLaplace\"),\n",
    "    (\"bbb\", \"LL BBB\"),\n",
    "    (\"bbb_4\", \"LL MultiBBB\"),\n",
    "    (\"rank1\", \"Rank-1 VI\"),\n",
    "    (\"ll_ivon\", \"LL iVON\"),\n",
    "    (\"ll_ivon_5\", \"LL MultiiVON\"),\n",
    "    (\"svgd\", \"SVGD\"),\n",
    "]\n",
    "\n",
    "def num(value, std, best=None, ty=None):\n",
    "    value = float(value)\n",
    "    std = float(std)\n",
    "    num_string = f\"{value:.3f} \\\\pm {std:.3f}\"\n",
    "\n",
    "    if best is None or ty is None:\n",
    "        return f\"${num_string}$\"\n",
    "\n",
    "    if ty == \"max\":\n",
    "        if value >= best:\n",
    "            num_string = f\"\\\\bm{{{num_string}}}\"\n",
    "    elif ty == \"min\":\n",
    "        if value <= best:\n",
    "            num_string = f\"\\\\bm{{{num_string}}}\"\n",
    "    elif ty == \"zero\":\n",
    "        if abs(value) <= best:\n",
    "            num_string = f\"\\\\bm{{{num_string}}}\"\n",
    "    return f\"${num_string}$\"\n",
    "\n",
    "def col_name(name, align):\n",
    "    return f\"\\\\multicolumn{{1}}{{{align}}}{{{name}}}\"\n",
    "\n",
    "def create_table(data, prefix):\n",
    "    print(\"\\\\begin{tabular}{l|rrrrrr}\")\n",
    "    print(f\"    {col_name('Model', 'l')} & {col_name('WG Accuracy', 'c')} & {col_name('WG ECE', 'c')} & {col_name('WG sECE', 'c')} & {col_name('Avg Accuracy', 'c')} & {col_name('Avg ECE', 'c')} & {col_name('Avg sECE', 'c')} \\\\\\\\\")\n",
    "    print(\"    \\\\hline\")\n",
    "\n",
    "    best_acc, best_acc_std = 0, 0\n",
    "    best_ece, best_ece_std = 1000, 0\n",
    "    best_sece, best_sece_std = 1000, 0\n",
    "    best_avg_acc, best_avg_acc_std = 0, 0\n",
    "    best_avg_ece, best_avg_ece_std = 1000, 0\n",
    "    best_avg_sece, best_avg_sece_std = 1000, 0\n",
    "\n",
    "    for algo, name in algo_names:\n",
    "        row = data[data[\"model\"] == algo]\n",
    "\n",
    "        if float(row[prefix + \"worst_acc accuracy\"]) > best_acc:\n",
    "            best_acc = float(row[prefix + \"worst_acc accuracy\"])\n",
    "            best_acc_std = float(row[prefix + \"worst_acc accuracy_std\"])\n",
    "        \n",
    "        if float(row[prefix + \"worst_acc ece\"]) < best_ece:\n",
    "            best_ece = float(row[prefix + \"worst_acc ece\"])\n",
    "            best_ece_std = float(row[prefix + \"worst_acc ece_std\"])\n",
    "        \n",
    "        if abs(float(row[prefix + \"worst_acc sece\"])) < best_sece:\n",
    "            best_sece = abs(float(row[prefix + \"worst_acc sece\"]))\n",
    "            best_sece_std = float(row[prefix + \"worst_acc sece_std\"])\n",
    "        \n",
    "        if float(row[prefix + \"all accuracy\"]) > best_avg_acc:\n",
    "            best_avg_acc = float(row[prefix + \"all accuracy\"])\n",
    "            best_avg_acc_std = float(row[prefix + \"all accuracy_std\"])\n",
    "        \n",
    "        if float(row[prefix + \"all ece\"]) < best_avg_ece:\n",
    "            best_avg_ece = float(row[prefix + \"all ece\"])\n",
    "            best_avg_ece_std = float(row[prefix + \"all ece_std\"])\n",
    "        \n",
    "        if abs(float(row[prefix + \"all sece\"])) < best_avg_sece:\n",
    "            best_avg_sece = abs(float(row[prefix + \"all sece\"]))\n",
    "            best_avg_sece_std = float(row[prefix + \"all sece_std\"])\n",
    "\n",
    "    best_acc -= best_acc_std\n",
    "    best_ece += best_ece_std\n",
    "    best_sece = abs(best_sece) + best_sece_std\n",
    "\n",
    "    best_avg_acc -= best_avg_acc_std\n",
    "    best_avg_ece += best_avg_ece_std\n",
    "    best_avg_sece = abs(best_avg_sece) + best_avg_sece_std\n",
    "\n",
    "    for algo, name in algo_names:\n",
    "        row = data[data[\"model\"] == algo]\n",
    "        print(f\"    {name} & {num(row[prefix + 'worst_acc accuracy'], row[prefix + 'worst_acc accuracy_std'], best_acc, 'max')} & {num(row[prefix + 'worst_acc ece'], row[prefix + 'worst_acc ece_std'], best_ece, 'min')} & {num(row[prefix + 'worst_acc sece'], row[prefix + 'worst_acc sece_std'], best_sece, 'zero')} & {num(row[prefix + 'all accuracy'], row[prefix + 'all accuracy_std'], best_avg_acc, 'max')} & {num(row[prefix + 'all ece'], row[prefix + 'all ece_std'], best_avg_ece, 'min')} & {num(row[prefix + 'all sece'], row[prefix + 'all sece_std'], best_avg_sece, 'zero')} \\\\\\\\\")\n",
    "    print(\"\\\\end{tabular}\")\n",
    "create_table(data, \"\")"
   ]
  },
  {
   "cell_type": "code",
   "execution_count": null,
   "metadata": {},
   "outputs": [],
   "source": []
  }
 ],
 "metadata": {
  "kernelspec": {
   "display_name": "bdl2",
   "language": "python",
   "name": "python3"
  },
  "language_info": {
   "codemirror_mode": {
    "name": "ipython",
    "version": 3
   },
   "file_extension": ".py",
   "mimetype": "text/x-python",
   "name": "python",
   "nbconvert_exporter": "python",
   "pygments_lexer": "ipython3",
   "version": "3.10.10"
  },
  "orig_nbformat": 4,
  "vscode": {
   "interpreter": {
    "hash": "0e9c95055558620b86d9020eccd072ae63a5e4d40bac5aeb5a6ac17e5908658f"
   }
  }
 },
 "nbformat": 4,
 "nbformat_minor": 2
}
