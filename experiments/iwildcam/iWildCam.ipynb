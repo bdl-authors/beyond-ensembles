{
 "cells": [
  {
   "cell_type": "code",
   "execution_count": 1,
   "metadata": {},
   "outputs": [
    {
     "name": "stderr",
     "output_type": "stream",
     "text": [
      "Failed to detect the name of this notebook, you can set it manually with the WANDB_NOTEBOOK_NAME environment variable to enable code saving.\n"
     ]
    },
    {
     "data": {
      "text/plain": []
     },
     "execution_count": 1,
     "metadata": {},
     "output_type": "execute_result"
    }
   ],
   "source": [
    "%load_ext autoreload\n",
    "%autoreload 2\n",
    "\n",
    "import sys\n",
    "sys.path.append(\"../../\")\n",
    "\n",
    "import torch\n",
    "import torch.nn as nn\n",
    "import torch.nn.functional as F\n",
    "import math\n",
    "\n",
    "DATA_PATH = \"../data\"\n",
    "\n",
    "if torch.cuda.is_available():\n",
    "    device = torch.device(\"cuda\")\n",
    "else:\n",
    "    device = torch.device(\"cpu\")\n",
    "\n",
    "from src.log_mock import PrintLog\n",
    "log = PrintLog()\n",
    "\n",
    "import wandb\n",
    "\n",
    "wandb.init(mode=\"disabled\")"
   ]
  },
  {
   "cell_type": "code",
   "execution_count": 2,
   "metadata": {},
   "outputs": [],
   "source": [
    "wapi = wandb.Api()\n",
    "runs = wapi.runs(\"foobar/iwildcam\")"
   ]
  },
  {
   "cell_type": "code",
   "execution_count": 3,
   "metadata": {},
   "outputs": [
    {
     "name": "stdout",
     "output_type": "stream",
     "text": [
      "0 swag_ll-1-(0)\n",
      "1 swag_ll-1-(1)\n",
      "2 swag_ll-1-(2)\n",
      "3 swag_ll-1-(1)\n",
      "4 swag_ll-1-(2)\n",
      "5 swag_ll-1-(0)\n",
      "6 swag_ll-1-(0)\n",
      "7 swag_ll-1-(2)\n",
      "8 swag_ll-1-(1)\n",
      "9 ll_svgd-1-(2)\n",
      "10 ll_svgd-1-(1)\n",
      "11 ll_svgd-1-(0)\n",
      "12 ll_ivon_5-(0)\n",
      "13 ll_ivon_5-(1)\n",
      "14 ll_ivon_5-(2)\n",
      "15 ll_ivon_5-(0)\n",
      "16 ll_ivon-1-(5)\n",
      "17 ll_ivon-1-(4)\n",
      "18 ll_ivon-1-(1)\n",
      "19 ll_ivon-1-(2)\n",
      "20 ll_ivon-1-(3)\n",
      "21 ll_ivon-1-(0)\n",
      "22 ll_ivon-1-(0)\n",
      "23 ll_ivon-1-(0)\n",
      "24 ll_ivon-1-(0)\n",
      "25 ll_ivon-1-(0)\n",
      "26 ll_svgd-1-(2)\n",
      "27 ll_svgd-1-(1)\n",
      "28 ll_svgd-1-(0)\n",
      "29 laplace-1-(5)\n",
      "30 laplace_5-4\n",
      "31 laplace-1-(4)\n",
      "32 laplace_5-3\n",
      "33 laplace-1-(3)\n",
      "34 laplace_5-2\n",
      "35 laplace-1-(2)\n",
      "36 laplace_5-1\n",
      "37 laplace-1-(1)\n",
      "38 laplace_5-0\n",
      "39 laplace-1-(0)\n",
      "40 laplace_5-5\n",
      "41 bbb_5-(1)\n",
      "42 bbb_5-(0)\n",
      "43 bbb_5-(2)\n",
      "44 bbb-1-(2)\n",
      "45 bbb-1-(1)\n",
      "46 bbb-1-(0)\n",
      "47 bbb_full-1-(0)\n",
      "48 ivon-1-(0)\n",
      "49 laplace-1-(0)\n",
      "50 laplace-1-(2)\n",
      "51 laplace-1-(1)\n",
      "52 ivon-1-(0)\n",
      "53 swag_5-(0)\n",
      "54 swag_5-(2)\n",
      "55 swag_5-(1)\n",
      "56 laplace-1-(0)\n",
      "57 mcd_5-(1)\n",
      "58 mcd_5-(2)\n",
      "59 mcd_5-(0)\n",
      "60 swag-1-(2)\n",
      "61 swag-1-(0)\n",
      "62 swag-1-(1)\n",
      "63 mcd-1-(1)\n",
      "64 mcd-1-(2)\n",
      "65 mcd-1-(0)\n",
      "66 map_5-(2)\n",
      "67 map_5-(0)\n",
      "68 map_5-(1)\n",
      "69 svgd-1-(1)\n",
      "70 map-1-(1)\n",
      "71 svgd-1-(0)\n",
      "72 map-1-(0)\n",
      "73 svgd-1-(2)\n",
      "74 map-1-(2)\n",
      "75 mcd_p0.2-1-(2)\n",
      "76 mcd_p0.1-1-(2)\n",
      "77 mcd_p0.2-1-(0)\n",
      "78 mcd_p0.2-1-(1)\n",
      "79 mcd_p0.1-1-(0)\n",
      "80 mcd_p0.1-1-(1)\n",
      "81 map-1-(2)\n",
      "82 rank1-1-(0)\n",
      "83 swag-1-(2)\n",
      "84 swag-1-(0)\n",
      "85 map-1-(1)\n",
      "86 bbb-1-(1)\n",
      "87 swag-1-(1)\n",
      "88 bbb-1-(0)\n",
      "89 map-1-(0)\n",
      "90 bbb-1-(2)\n",
      "91 rank1-1-(1)\n",
      "92 rank1-1-(2)\n",
      "93 map-1-(2)\n",
      "94 map-1-(1)\n",
      "95 map-1-(0)\n",
      "96 map-1-(2)\n",
      "97 map-1-(1)\n",
      "98 map-1-(0)\n"
     ]
    }
   ],
   "source": [
    "for i, run in enumerate(runs):\n",
    "    print(i, run.name)"
   ]
  },
  {
   "cell_type": "code",
   "execution_count": 4,
   "metadata": {},
   "outputs": [],
   "source": [
    "def create_reliability_plot(run, results_name):\n",
    "    results = run.summary[results_name]\n",
    "    print(f\"sECE: {results['sece']:.4f}, ECE: {results['ece']:.4f}\")\n",
    "    bins = list(filter(lambda x: x[0] > 0, zip(results[\"bin_confidences\"], results[\"bin_accuracies\"], results[\"bin_counts\"])))\n",
    "\n",
    "    print(\"\\\\begin{tikzpicture}\")\n",
    "    print(\"    \\\\begin{axis}[calstyle, xmin=0, xmax=1, ymin=0, ymax=1]\")\n",
    "    print(\"        \\\\addplot[dashed, color=black] coordinates {(0,0) (1,1)};\")\n",
    "    print(\"        \\\\addplot[calline] coordinates {\" + \" \".join(map(lambda x: f\"({x[0]}, {x[1]})\", bins)) + \"};\")\n",
    "    for conf, acc, count in list(bins):\n",
    "        print(f\"        \\\\node[above, anchor=south west, rotate=60, font=\\\\tiny] at (axis cs:{conf}, 1.0) {{{count}}};\")\n",
    "        print(f\"        \\\\draw[dotted, color=black] (axis cs:{conf}, {acc}) -- (axis cs:{conf}, 1.0);\")\n",
    "    print(\"    \\\\end{axis}\")\n",
    "    print(\"\\\\end{tikzpicture}\")\n",
    "\n",
    "#create_reliability_plot(runs[76], \"test_results\") # MAP (overconfident)\n",
    "#create_reliability_plot(runs[10], \"test_results\") # MultiLaplace (underconfident)\n"
   ]
  },
  {
   "cell_type": "code",
   "execution_count": 5,
   "metadata": {},
   "outputs": [],
   "source": [
    "import plotly.express as px\n",
    "import pandas as pd\n",
    "import dateutil\n",
    "import datetime\n",
    "\n",
    "def create_plot_data_for_run(run):\n",
    "    parts = run.name.split(\"-\")\n",
    "    if len(parts) > 2:\n",
    "        model_name = parts[0] + \"-\" + parts[1]\n",
    "    else:\n",
    "        model_name = parts[0]\n",
    "\n",
    "    return {\n",
    "        \"model\": model_name,\n",
    "        \"accuracy\": run.summary[\"test_results\"][\"accuracy\"],\n",
    "        \"macro f1\": run.summary[\"test_results\"][\"macro_f1\"],\n",
    "        \"log likelihood\": run.summary[\"test_results\"][\"log_likelihood\"],\n",
    "        \"ece\": run.summary[\"test_results\"][\"ece\"],\n",
    "        \"sece\": run.summary[\"test_results\"][\"sece\"],\n",
    "        \"id_val accuracy\": run.summary[\"id_val_results\"][\"accuracy\"],\n",
    "        \"id_val macro f1\": run.summary[\"id_val_results\"][\"macro_f1\"],\n",
    "        \"id_val log likelihood\": run.summary[\"id_val_results\"][\"log_likelihood\"],\n",
    "        \"id_val ece\": run.summary[\"id_val_results\"][\"ece\"],\n",
    "        \"id_val sece\": run.summary[\"id_val_results\"][\"sece\"],\n",
    "    }\n",
    "\n",
    "def plot(data, value):\n",
    "    plot = px.box(data, x=\"model\", y=value, color=\"model\")\n",
    "    return plot\n",
    "\n",
    "def pareto_plot(data, x, y):\n",
    "    plot = px.scatter(data, x=x, error_x=f\"{x}_std\", y=y, error_y=f\"{y}_std\", color=\"model\")\n",
    "    return plot\n",
    "\n",
    "def build_data(runs):\n",
    "    rows = []\n",
    "    for run in runs:\n",
    "        if dateutil.parser.parse(run.created_at) < datetime.datetime(2023, 3, 10, 10, 0):\n",
    "            continue\n",
    "        if run.state != \"finished\":\n",
    "            continue\n",
    "        if \"old\" in run.tags:\n",
    "            print(\"Skipping old run \" + run.name)\n",
    "            continue\n",
    "        if \"test_results\" not in run.summary:\n",
    "            print(\"Skipping crashed run \" + run.name)\n",
    "            continue\n",
    "        rows.append(create_plot_data_for_run(run))\n",
    "    return pd.DataFrame.from_dict(rows)\n",
    "\n",
    "def aggregate_data(data):\n",
    "    aggregated_data = data.groupby([\"model\"]).agg({\n",
    "        \"model\": \"first\",\n",
    "        \"accuracy\": [\"mean\", \"sem\"], \n",
    "        \"macro f1\": [\"mean\", \"sem\"], \n",
    "        \"log likelihood\": [\"mean\", \"sem\"], \n",
    "        \"sece\": [\"mean\", \"sem\"],\n",
    "        \"ece\": [\"mean\", \"sem\"],\n",
    "        \"id_val accuracy\": [\"mean\", \"sem\"], \n",
    "        \"id_val macro f1\": [\"mean\", \"sem\"], \n",
    "        \"id_val log likelihood\": [\"mean\", \"sem\"], \n",
    "        \"id_val sece\": [\"mean\", \"sem\"],\n",
    "        \"id_val ece\": [\"mean\", \"sem\"],\n",
    "    })\n",
    "    aggregated_data.columns = [a[0] + \"_std\" if a[1] == \"sem\" else a[0] for a in aggregated_data.columns.to_flat_index()]\n",
    "    aggregated_data[\"accuracy_std\"] *= 2\n",
    "    aggregated_data[\"macro f1_std\"] *= 2\n",
    "    aggregated_data[\"log likelihood_std\"] *= 2\n",
    "    aggregated_data[\"sece_std\"] *= 2\n",
    "    aggregated_data[\"ece_std\"] *= 2\n",
    "    aggregated_data[\"id_val accuracy_std\"] *= 2\n",
    "    aggregated_data[\"id_val macro f1_std\"] *= 2\n",
    "    aggregated_data[\"id_val log likelihood_std\"] *= 2\n",
    "    aggregated_data[\"id_val sece_std\"] *= 2\n",
    "    aggregated_data[\"id_val ece_std\"] *= 2\n",
    "    return aggregated_data"
   ]
  },
  {
   "cell_type": "code",
   "execution_count": 6,
   "metadata": {},
   "outputs": [
    {
     "name": "stdout",
     "output_type": "stream",
     "text": [
      "Skipping crashed run swag_ll-1-(1)\n",
      "Skipping crashed run swag_ll-1-(2)\n",
      "Skipping crashed run swag_ll-1-(0)\n",
      "Skipping crashed run swag_ll-1-(0)\n",
      "Skipping crashed run swag_ll-1-(2)\n",
      "Skipping crashed run swag_ll-1-(1)\n",
      "Skipping crashed run ll_ivon_5-(0)\n",
      "Skipping old run laplace-1-(0)\n",
      "Skipping old run map-1-(2)\n",
      "Skipping old run map-1-(1)\n",
      "Skipping old run map-1-(0)\n",
      "Skipping old run map-1-(2)\n",
      "Skipping old run map-1-(1)\n",
      "Skipping old run map-1-(0)\n"
     ]
    }
   ],
   "source": [
    "data = aggregate_data(build_data(runs))"
   ]
  },
  {
   "cell_type": "code",
   "execution_count": 7,
   "metadata": {},
   "outputs": [
    {
     "data": {
      "text/html": [
       "<div>\n",
       "<style scoped>\n",
       "    .dataframe tbody tr th:only-of-type {\n",
       "        vertical-align: middle;\n",
       "    }\n",
       "\n",
       "    .dataframe tbody tr th {\n",
       "        vertical-align: top;\n",
       "    }\n",
       "\n",
       "    .dataframe thead th {\n",
       "        text-align: right;\n",
       "    }\n",
       "</style>\n",
       "<table border=\"1\" class=\"dataframe\">\n",
       "  <thead>\n",
       "    <tr style=\"text-align: right;\">\n",
       "      <th></th>\n",
       "      <th>model</th>\n",
       "      <th>accuracy</th>\n",
       "      <th>accuracy_std</th>\n",
       "      <th>macro f1</th>\n",
       "      <th>macro f1_std</th>\n",
       "      <th>log likelihood</th>\n",
       "      <th>log likelihood_std</th>\n",
       "      <th>sece</th>\n",
       "      <th>sece_std</th>\n",
       "      <th>ece</th>\n",
       "      <th>...</th>\n",
       "      <th>id_val accuracy</th>\n",
       "      <th>id_val accuracy_std</th>\n",
       "      <th>id_val macro f1</th>\n",
       "      <th>id_val macro f1_std</th>\n",
       "      <th>id_val log likelihood</th>\n",
       "      <th>id_val log likelihood_std</th>\n",
       "      <th>id_val sece</th>\n",
       "      <th>id_val sece_std</th>\n",
       "      <th>id_val ece</th>\n",
       "      <th>id_val ece_std</th>\n",
       "    </tr>\n",
       "    <tr>\n",
       "      <th>model</th>\n",
       "      <th></th>\n",
       "      <th></th>\n",
       "      <th></th>\n",
       "      <th></th>\n",
       "      <th></th>\n",
       "      <th></th>\n",
       "      <th></th>\n",
       "      <th></th>\n",
       "      <th></th>\n",
       "      <th></th>\n",
       "      <th></th>\n",
       "      <th></th>\n",
       "      <th></th>\n",
       "      <th></th>\n",
       "      <th></th>\n",
       "      <th></th>\n",
       "      <th></th>\n",
       "      <th></th>\n",
       "      <th></th>\n",
       "      <th></th>\n",
       "      <th></th>\n",
       "    </tr>\n",
       "  </thead>\n",
       "  <tbody>\n",
       "    <tr>\n",
       "      <th>bbb-1</th>\n",
       "      <td>bbb-1</td>\n",
       "      <td>0.718247</td>\n",
       "      <td>0.008699</td>\n",
       "      <td>0.282251</td>\n",
       "      <td>0.011110</td>\n",
       "      <td>-1.543047</td>\n",
       "      <td>0.054406</td>\n",
       "      <td>-0.093181</td>\n",
       "      <td>0.005050</td>\n",
       "      <td>0.097063</td>\n",
       "      <td>...</td>\n",
       "      <td>0.816380</td>\n",
       "      <td>0.004792</td>\n",
       "      <td>0.442135</td>\n",
       "      <td>0.011096</td>\n",
       "      <td>-1.142696</td>\n",
       "      <td>0.029683</td>\n",
       "      <td>-0.074734</td>\n",
       "      <td>0.003189</td>\n",
       "      <td>0.074997</td>\n",
       "      <td>0.003103</td>\n",
       "    </tr>\n",
       "    <tr>\n",
       "      <th>bbb_5</th>\n",
       "      <td>bbb_5</td>\n",
       "      <td>0.748101</td>\n",
       "      <td>0.002150</td>\n",
       "      <td>0.312464</td>\n",
       "      <td>0.007549</td>\n",
       "      <td>-1.164416</td>\n",
       "      <td>0.011009</td>\n",
       "      <td>-0.011962</td>\n",
       "      <td>0.002286</td>\n",
       "      <td>0.014952</td>\n",
       "      <td>...</td>\n",
       "      <td>0.748911</td>\n",
       "      <td>0.002241</td>\n",
       "      <td>0.316098</td>\n",
       "      <td>0.006113</td>\n",
       "      <td>-1.164969</td>\n",
       "      <td>0.009095</td>\n",
       "      <td>-0.011022</td>\n",
       "      <td>0.002820</td>\n",
       "      <td>0.014622</td>\n",
       "      <td>0.003256</td>\n",
       "    </tr>\n",
       "    <tr>\n",
       "      <th>bbb_full-1</th>\n",
       "      <td>bbb_full-1</td>\n",
       "      <td>0.478652</td>\n",
       "      <td>NaN</td>\n",
       "      <td>0.036373</td>\n",
       "      <td>NaN</td>\n",
       "      <td>-1.842250</td>\n",
       "      <td>NaN</td>\n",
       "      <td>0.010132</td>\n",
       "      <td>NaN</td>\n",
       "      <td>0.019468</td>\n",
       "      <td>...</td>\n",
       "      <td>0.569593</td>\n",
       "      <td>NaN</td>\n",
       "      <td>0.062815</td>\n",
       "      <td>NaN</td>\n",
       "      <td>-1.775371</td>\n",
       "      <td>NaN</td>\n",
       "      <td>0.033727</td>\n",
       "      <td>NaN</td>\n",
       "      <td>0.078839</td>\n",
       "      <td>NaN</td>\n",
       "    </tr>\n",
       "    <tr>\n",
       "      <th>ivon-1</th>\n",
       "      <td>ivon-1</td>\n",
       "      <td>0.471852</td>\n",
       "      <td>NaN</td>\n",
       "      <td>0.030404</td>\n",
       "      <td>NaN</td>\n",
       "      <td>-1.943763</td>\n",
       "      <td>NaN</td>\n",
       "      <td>0.004276</td>\n",
       "      <td>NaN</td>\n",
       "      <td>0.088849</td>\n",
       "      <td>...</td>\n",
       "      <td>0.568636</td>\n",
       "      <td>NaN</td>\n",
       "      <td>0.042897</td>\n",
       "      <td>NaN</td>\n",
       "      <td>-1.831677</td>\n",
       "      <td>NaN</td>\n",
       "      <td>0.045190</td>\n",
       "      <td>NaN</td>\n",
       "      <td>0.085354</td>\n",
       "      <td>NaN</td>\n",
       "    </tr>\n",
       "    <tr>\n",
       "      <th>laplace-1</th>\n",
       "      <td>laplace-1</td>\n",
       "      <td>0.694311</td>\n",
       "      <td>0.014671</td>\n",
       "      <td>0.270444</td>\n",
       "      <td>0.010353</td>\n",
       "      <td>-1.566674</td>\n",
       "      <td>0.083208</td>\n",
       "      <td>-0.051817</td>\n",
       "      <td>0.016714</td>\n",
       "      <td>0.052988</td>\n",
       "      <td>...</td>\n",
       "      <td>0.809697</td>\n",
       "      <td>0.004706</td>\n",
       "      <td>0.456150</td>\n",
       "      <td>0.016663</td>\n",
       "      <td>-1.044671</td>\n",
       "      <td>0.058470</td>\n",
       "      <td>-0.026050</td>\n",
       "      <td>0.009799</td>\n",
       "      <td>0.027941</td>\n",
       "      <td>0.009200</td>\n",
       "    </tr>\n",
       "    <tr>\n",
       "      <th>laplace_5</th>\n",
       "      <td>laplace_5</td>\n",
       "      <td>0.738644</td>\n",
       "      <td>0.004205</td>\n",
       "      <td>0.304144</td>\n",
       "      <td>0.007366</td>\n",
       "      <td>-1.197276</td>\n",
       "      <td>0.012082</td>\n",
       "      <td>0.046295</td>\n",
       "      <td>0.004604</td>\n",
       "      <td>0.046403</td>\n",
       "      <td>...</td>\n",
       "      <td>0.835863</td>\n",
       "      <td>0.001233</td>\n",
       "      <td>0.489110</td>\n",
       "      <td>0.011984</td>\n",
       "      <td>-0.839482</td>\n",
       "      <td>0.012383</td>\n",
       "      <td>0.026704</td>\n",
       "      <td>0.003108</td>\n",
       "      <td>0.027474</td>\n",
       "      <td>0.002715</td>\n",
       "    </tr>\n",
       "    <tr>\n",
       "      <th>ll_ivon-1</th>\n",
       "      <td>ll_ivon-1</td>\n",
       "      <td>0.724716</td>\n",
       "      <td>0.009575</td>\n",
       "      <td>0.264779</td>\n",
       "      <td>0.008799</td>\n",
       "      <td>-1.331397</td>\n",
       "      <td>0.048783</td>\n",
       "      <td>-0.083594</td>\n",
       "      <td>0.014255</td>\n",
       "      <td>0.088223</td>\n",
       "      <td>...</td>\n",
       "      <td>0.812460</td>\n",
       "      <td>0.004619</td>\n",
       "      <td>0.447176</td>\n",
       "      <td>0.014917</td>\n",
       "      <td>-1.001551</td>\n",
       "      <td>0.028363</td>\n",
       "      <td>-0.075534</td>\n",
       "      <td>0.008068</td>\n",
       "      <td>0.076179</td>\n",
       "      <td>0.008131</td>\n",
       "    </tr>\n",
       "    <tr>\n",
       "      <th>ll_ivon_5</th>\n",
       "      <td>ll_ivon_5</td>\n",
       "      <td>0.762840</td>\n",
       "      <td>0.003274</td>\n",
       "      <td>0.299456</td>\n",
       "      <td>0.006257</td>\n",
       "      <td>-1.036238</td>\n",
       "      <td>0.005838</td>\n",
       "      <td>0.010722</td>\n",
       "      <td>0.003309</td>\n",
       "      <td>0.019399</td>\n",
       "      <td>...</td>\n",
       "      <td>0.762544</td>\n",
       "      <td>0.002766</td>\n",
       "      <td>0.293952</td>\n",
       "      <td>0.003880</td>\n",
       "      <td>-1.035152</td>\n",
       "      <td>0.005248</td>\n",
       "      <td>0.010329</td>\n",
       "      <td>0.003291</td>\n",
       "      <td>0.018889</td>\n",
       "      <td>0.002852</td>\n",
       "    </tr>\n",
       "    <tr>\n",
       "      <th>ll_svgd-1</th>\n",
       "      <td>ll_svgd-1</td>\n",
       "      <td>0.736962</td>\n",
       "      <td>0.014160</td>\n",
       "      <td>0.265332</td>\n",
       "      <td>0.017513</td>\n",
       "      <td>-1.447085</td>\n",
       "      <td>0.045127</td>\n",
       "      <td>-0.117470</td>\n",
       "      <td>0.002627</td>\n",
       "      <td>0.117699</td>\n",
       "      <td>...</td>\n",
       "      <td>0.822076</td>\n",
       "      <td>0.012116</td>\n",
       "      <td>0.452774</td>\n",
       "      <td>0.018110</td>\n",
       "      <td>-1.135232</td>\n",
       "      <td>0.234305</td>\n",
       "      <td>-0.094283</td>\n",
       "      <td>0.009489</td>\n",
       "      <td>0.094324</td>\n",
       "      <td>0.009527</td>\n",
       "    </tr>\n",
       "    <tr>\n",
       "      <th>map-1</th>\n",
       "      <td>map-1</td>\n",
       "      <td>0.707536</td>\n",
       "      <td>0.016173</td>\n",
       "      <td>0.280066</td>\n",
       "      <td>0.020495</td>\n",
       "      <td>-1.513872</td>\n",
       "      <td>0.093951</td>\n",
       "      <td>-0.140396</td>\n",
       "      <td>0.014726</td>\n",
       "      <td>0.140465</td>\n",
       "      <td>...</td>\n",
       "      <td>0.813280</td>\n",
       "      <td>0.007338</td>\n",
       "      <td>0.460402</td>\n",
       "      <td>0.017044</td>\n",
       "      <td>-1.121351</td>\n",
       "      <td>0.086854</td>\n",
       "      <td>-0.104010</td>\n",
       "      <td>0.007057</td>\n",
       "      <td>0.104014</td>\n",
       "      <td>0.007057</td>\n",
       "    </tr>\n",
       "    <tr>\n",
       "      <th>map_5</th>\n",
       "      <td>map_5</td>\n",
       "      <td>0.752269</td>\n",
       "      <td>0.007390</td>\n",
       "      <td>0.311667</td>\n",
       "      <td>0.007118</td>\n",
       "      <td>-1.067824</td>\n",
       "      <td>0.015629</td>\n",
       "      <td>-0.014804</td>\n",
       "      <td>0.005378</td>\n",
       "      <td>0.019084</td>\n",
       "      <td>...</td>\n",
       "      <td>0.752152</td>\n",
       "      <td>0.007389</td>\n",
       "      <td>0.308054</td>\n",
       "      <td>0.005216</td>\n",
       "      <td>-1.067466</td>\n",
       "      <td>0.012032</td>\n",
       "      <td>-0.015033</td>\n",
       "      <td>0.004713</td>\n",
       "      <td>0.020173</td>\n",
       "      <td>0.001399</td>\n",
       "    </tr>\n",
       "    <tr>\n",
       "      <th>mcd-1</th>\n",
       "      <td>mcd-1</td>\n",
       "      <td>0.710461</td>\n",
       "      <td>0.021235</td>\n",
       "      <td>0.274123</td>\n",
       "      <td>0.023730</td>\n",
       "      <td>-1.460690</td>\n",
       "      <td>0.074006</td>\n",
       "      <td>-0.137808</td>\n",
       "      <td>0.013443</td>\n",
       "      <td>0.137808</td>\n",
       "      <td>...</td>\n",
       "      <td>0.814465</td>\n",
       "      <td>0.002238</td>\n",
       "      <td>0.457083</td>\n",
       "      <td>0.009786</td>\n",
       "      <td>-1.104896</td>\n",
       "      <td>0.041385</td>\n",
       "      <td>-0.100030</td>\n",
       "      <td>0.011408</td>\n",
       "      <td>0.100057</td>\n",
       "      <td>0.011440</td>\n",
       "    </tr>\n",
       "    <tr>\n",
       "      <th>mcd_5</th>\n",
       "      <td>mcd_5</td>\n",
       "      <td>0.762746</td>\n",
       "      <td>0.006316</td>\n",
       "      <td>0.315670</td>\n",
       "      <td>0.011845</td>\n",
       "      <td>-1.025684</td>\n",
       "      <td>0.011943</td>\n",
       "      <td>-0.007760</td>\n",
       "      <td>0.007314</td>\n",
       "      <td>0.013990</td>\n",
       "      <td>...</td>\n",
       "      <td>0.762341</td>\n",
       "      <td>0.005773</td>\n",
       "      <td>0.311412</td>\n",
       "      <td>0.001325</td>\n",
       "      <td>-1.023562</td>\n",
       "      <td>0.015996</td>\n",
       "      <td>-0.008200</td>\n",
       "      <td>0.006139</td>\n",
       "      <td>0.013336</td>\n",
       "      <td>0.003264</td>\n",
       "    </tr>\n",
       "    <tr>\n",
       "      <th>mcd_p0.1-1</th>\n",
       "      <td>mcd_p0.1-1</td>\n",
       "      <td>0.725854</td>\n",
       "      <td>0.016943</td>\n",
       "      <td>0.297139</td>\n",
       "      <td>0.020643</td>\n",
       "      <td>-1.421579</td>\n",
       "      <td>0.095017</td>\n",
       "      <td>-0.125507</td>\n",
       "      <td>0.024318</td>\n",
       "      <td>0.125871</td>\n",
       "      <td>...</td>\n",
       "      <td>0.823626</td>\n",
       "      <td>0.006465</td>\n",
       "      <td>0.467804</td>\n",
       "      <td>0.004862</td>\n",
       "      <td>-1.122455</td>\n",
       "      <td>0.050438</td>\n",
       "      <td>-0.094611</td>\n",
       "      <td>0.001745</td>\n",
       "      <td>0.094728</td>\n",
       "      <td>0.001970</td>\n",
       "    </tr>\n",
       "    <tr>\n",
       "      <th>mcd_p0.2-1</th>\n",
       "      <td>mcd_p0.2-1</td>\n",
       "      <td>0.710515</td>\n",
       "      <td>0.037028</td>\n",
       "      <td>0.285488</td>\n",
       "      <td>0.021717</td>\n",
       "      <td>-1.465299</td>\n",
       "      <td>0.229852</td>\n",
       "      <td>-0.144752</td>\n",
       "      <td>0.034925</td>\n",
       "      <td>0.144804</td>\n",
       "      <td>...</td>\n",
       "      <td>0.826497</td>\n",
       "      <td>0.005089</td>\n",
       "      <td>0.463855</td>\n",
       "      <td>0.017322</td>\n",
       "      <td>-1.051017</td>\n",
       "      <td>0.038557</td>\n",
       "      <td>-0.090868</td>\n",
       "      <td>0.002620</td>\n",
       "      <td>0.090934</td>\n",
       "      <td>0.002711</td>\n",
       "    </tr>\n",
       "    <tr>\n",
       "      <th>rank1-1</th>\n",
       "      <td>rank1-1</td>\n",
       "      <td>0.749644</td>\n",
       "      <td>0.005789</td>\n",
       "      <td>0.264766</td>\n",
       "      <td>0.009468</td>\n",
       "      <td>-1.198110</td>\n",
       "      <td>0.043445</td>\n",
       "      <td>-0.076465</td>\n",
       "      <td>0.016812</td>\n",
       "      <td>0.077577</td>\n",
       "      <td>...</td>\n",
       "      <td>0.818567</td>\n",
       "      <td>0.001192</td>\n",
       "      <td>0.442224</td>\n",
       "      <td>0.005331</td>\n",
       "      <td>-0.960302</td>\n",
       "      <td>0.052233</td>\n",
       "      <td>-0.082214</td>\n",
       "      <td>0.010678</td>\n",
       "      <td>0.082214</td>\n",
       "      <td>0.010678</td>\n",
       "    </tr>\n",
       "    <tr>\n",
       "      <th>svgd-1</th>\n",
       "      <td>svgd-1</td>\n",
       "      <td>0.722940</td>\n",
       "      <td>0.008194</td>\n",
       "      <td>0.260277</td>\n",
       "      <td>0.022184</td>\n",
       "      <td>-1.618881</td>\n",
       "      <td>0.016885</td>\n",
       "      <td>-0.145938</td>\n",
       "      <td>0.004022</td>\n",
       "      <td>0.145973</td>\n",
       "      <td>...</td>\n",
       "      <td>0.812734</td>\n",
       "      <td>0.009400</td>\n",
       "      <td>0.439348</td>\n",
       "      <td>0.024319</td>\n",
       "      <td>-1.302655</td>\n",
       "      <td>0.136000</td>\n",
       "      <td>-0.105466</td>\n",
       "      <td>0.008402</td>\n",
       "      <td>0.105529</td>\n",
       "      <td>0.008473</td>\n",
       "    </tr>\n",
       "    <tr>\n",
       "      <th>swag-1</th>\n",
       "      <td>swag-1</td>\n",
       "      <td>0.733332</td>\n",
       "      <td>0.004928</td>\n",
       "      <td>0.302075</td>\n",
       "      <td>0.009163</td>\n",
       "      <td>-1.317090</td>\n",
       "      <td>0.031818</td>\n",
       "      <td>-0.116720</td>\n",
       "      <td>0.006497</td>\n",
       "      <td>0.116905</td>\n",
       "      <td>...</td>\n",
       "      <td>0.832308</td>\n",
       "      <td>0.002703</td>\n",
       "      <td>0.491179</td>\n",
       "      <td>0.011198</td>\n",
       "      <td>-0.987170</td>\n",
       "      <td>0.015130</td>\n",
       "      <td>-0.087057</td>\n",
       "      <td>0.001862</td>\n",
       "      <td>0.087148</td>\n",
       "      <td>0.001825</td>\n",
       "    </tr>\n",
       "    <tr>\n",
       "      <th>swag_5</th>\n",
       "      <td>swag_5</td>\n",
       "      <td>0.761990</td>\n",
       "      <td>0.001184</td>\n",
       "      <td>0.337476</td>\n",
       "      <td>0.004634</td>\n",
       "      <td>-1.009414</td>\n",
       "      <td>0.000904</td>\n",
       "      <td>-0.032659</td>\n",
       "      <td>0.001331</td>\n",
       "      <td>0.032901</td>\n",
       "      <td>...</td>\n",
       "      <td>0.761461</td>\n",
       "      <td>0.001992</td>\n",
       "      <td>0.333242</td>\n",
       "      <td>0.011264</td>\n",
       "      <td>-1.007899</td>\n",
       "      <td>0.001803</td>\n",
       "      <td>-0.033214</td>\n",
       "      <td>0.002270</td>\n",
       "      <td>0.033250</td>\n",
       "      <td>0.002329</td>\n",
       "    </tr>\n",
       "    <tr>\n",
       "      <th>swag_ll-1</th>\n",
       "      <td>swag_ll-1</td>\n",
       "      <td>0.721468</td>\n",
       "      <td>0.022573</td>\n",
       "      <td>0.293965</td>\n",
       "      <td>0.032579</td>\n",
       "      <td>-1.294526</td>\n",
       "      <td>0.091023</td>\n",
       "      <td>-0.104031</td>\n",
       "      <td>0.019714</td>\n",
       "      <td>0.104452</td>\n",
       "      <td>...</td>\n",
       "      <td>0.818977</td>\n",
       "      <td>0.016183</td>\n",
       "      <td>0.464613</td>\n",
       "      <td>0.042929</td>\n",
       "      <td>-1.012145</td>\n",
       "      <td>0.060064</td>\n",
       "      <td>-0.088052</td>\n",
       "      <td>0.011709</td>\n",
       "      <td>0.088052</td>\n",
       "      <td>0.011709</td>\n",
       "    </tr>\n",
       "  </tbody>\n",
       "</table>\n",
       "<p>20 rows × 21 columns</p>\n",
       "</div>"
      ],
      "text/plain": [
       "                 model  accuracy  accuracy_std  macro f1  macro f1_std  \\\n",
       "model                                                                    \n",
       "bbb-1            bbb-1  0.718247      0.008699  0.282251      0.011110   \n",
       "bbb_5            bbb_5  0.748101      0.002150  0.312464      0.007549   \n",
       "bbb_full-1  bbb_full-1  0.478652           NaN  0.036373           NaN   \n",
       "ivon-1          ivon-1  0.471852           NaN  0.030404           NaN   \n",
       "laplace-1    laplace-1  0.694311      0.014671  0.270444      0.010353   \n",
       "laplace_5    laplace_5  0.738644      0.004205  0.304144      0.007366   \n",
       "ll_ivon-1    ll_ivon-1  0.724716      0.009575  0.264779      0.008799   \n",
       "ll_ivon_5    ll_ivon_5  0.762840      0.003274  0.299456      0.006257   \n",
       "ll_svgd-1    ll_svgd-1  0.736962      0.014160  0.265332      0.017513   \n",
       "map-1            map-1  0.707536      0.016173  0.280066      0.020495   \n",
       "map_5            map_5  0.752269      0.007390  0.311667      0.007118   \n",
       "mcd-1            mcd-1  0.710461      0.021235  0.274123      0.023730   \n",
       "mcd_5            mcd_5  0.762746      0.006316  0.315670      0.011845   \n",
       "mcd_p0.1-1  mcd_p0.1-1  0.725854      0.016943  0.297139      0.020643   \n",
       "mcd_p0.2-1  mcd_p0.2-1  0.710515      0.037028  0.285488      0.021717   \n",
       "rank1-1        rank1-1  0.749644      0.005789  0.264766      0.009468   \n",
       "svgd-1          svgd-1  0.722940      0.008194  0.260277      0.022184   \n",
       "swag-1          swag-1  0.733332      0.004928  0.302075      0.009163   \n",
       "swag_5          swag_5  0.761990      0.001184  0.337476      0.004634   \n",
       "swag_ll-1    swag_ll-1  0.721468      0.022573  0.293965      0.032579   \n",
       "\n",
       "            log likelihood  log likelihood_std      sece  sece_std       ece  \\\n",
       "model                                                                          \n",
       "bbb-1            -1.543047            0.054406 -0.093181  0.005050  0.097063   \n",
       "bbb_5            -1.164416            0.011009 -0.011962  0.002286  0.014952   \n",
       "bbb_full-1       -1.842250                 NaN  0.010132       NaN  0.019468   \n",
       "ivon-1           -1.943763                 NaN  0.004276       NaN  0.088849   \n",
       "laplace-1        -1.566674            0.083208 -0.051817  0.016714  0.052988   \n",
       "laplace_5        -1.197276            0.012082  0.046295  0.004604  0.046403   \n",
       "ll_ivon-1        -1.331397            0.048783 -0.083594  0.014255  0.088223   \n",
       "ll_ivon_5        -1.036238            0.005838  0.010722  0.003309  0.019399   \n",
       "ll_svgd-1        -1.447085            0.045127 -0.117470  0.002627  0.117699   \n",
       "map-1            -1.513872            0.093951 -0.140396  0.014726  0.140465   \n",
       "map_5            -1.067824            0.015629 -0.014804  0.005378  0.019084   \n",
       "mcd-1            -1.460690            0.074006 -0.137808  0.013443  0.137808   \n",
       "mcd_5            -1.025684            0.011943 -0.007760  0.007314  0.013990   \n",
       "mcd_p0.1-1       -1.421579            0.095017 -0.125507  0.024318  0.125871   \n",
       "mcd_p0.2-1       -1.465299            0.229852 -0.144752  0.034925  0.144804   \n",
       "rank1-1          -1.198110            0.043445 -0.076465  0.016812  0.077577   \n",
       "svgd-1           -1.618881            0.016885 -0.145938  0.004022  0.145973   \n",
       "swag-1           -1.317090            0.031818 -0.116720  0.006497  0.116905   \n",
       "swag_5           -1.009414            0.000904 -0.032659  0.001331  0.032901   \n",
       "swag_ll-1        -1.294526            0.091023 -0.104031  0.019714  0.104452   \n",
       "\n",
       "            ...  id_val accuracy  id_val accuracy_std  id_val macro f1  \\\n",
       "model       ...                                                          \n",
       "bbb-1       ...         0.816380             0.004792         0.442135   \n",
       "bbb_5       ...         0.748911             0.002241         0.316098   \n",
       "bbb_full-1  ...         0.569593                  NaN         0.062815   \n",
       "ivon-1      ...         0.568636                  NaN         0.042897   \n",
       "laplace-1   ...         0.809697             0.004706         0.456150   \n",
       "laplace_5   ...         0.835863             0.001233         0.489110   \n",
       "ll_ivon-1   ...         0.812460             0.004619         0.447176   \n",
       "ll_ivon_5   ...         0.762544             0.002766         0.293952   \n",
       "ll_svgd-1   ...         0.822076             0.012116         0.452774   \n",
       "map-1       ...         0.813280             0.007338         0.460402   \n",
       "map_5       ...         0.752152             0.007389         0.308054   \n",
       "mcd-1       ...         0.814465             0.002238         0.457083   \n",
       "mcd_5       ...         0.762341             0.005773         0.311412   \n",
       "mcd_p0.1-1  ...         0.823626             0.006465         0.467804   \n",
       "mcd_p0.2-1  ...         0.826497             0.005089         0.463855   \n",
       "rank1-1     ...         0.818567             0.001192         0.442224   \n",
       "svgd-1      ...         0.812734             0.009400         0.439348   \n",
       "swag-1      ...         0.832308             0.002703         0.491179   \n",
       "swag_5      ...         0.761461             0.001992         0.333242   \n",
       "swag_ll-1   ...         0.818977             0.016183         0.464613   \n",
       "\n",
       "            id_val macro f1_std  id_val log likelihood  \\\n",
       "model                                                    \n",
       "bbb-1                  0.011096              -1.142696   \n",
       "bbb_5                  0.006113              -1.164969   \n",
       "bbb_full-1                  NaN              -1.775371   \n",
       "ivon-1                      NaN              -1.831677   \n",
       "laplace-1              0.016663              -1.044671   \n",
       "laplace_5              0.011984              -0.839482   \n",
       "ll_ivon-1              0.014917              -1.001551   \n",
       "ll_ivon_5              0.003880              -1.035152   \n",
       "ll_svgd-1              0.018110              -1.135232   \n",
       "map-1                  0.017044              -1.121351   \n",
       "map_5                  0.005216              -1.067466   \n",
       "mcd-1                  0.009786              -1.104896   \n",
       "mcd_5                  0.001325              -1.023562   \n",
       "mcd_p0.1-1             0.004862              -1.122455   \n",
       "mcd_p0.2-1             0.017322              -1.051017   \n",
       "rank1-1                0.005331              -0.960302   \n",
       "svgd-1                 0.024319              -1.302655   \n",
       "swag-1                 0.011198              -0.987170   \n",
       "swag_5                 0.011264              -1.007899   \n",
       "swag_ll-1              0.042929              -1.012145   \n",
       "\n",
       "            id_val log likelihood_std  id_val sece  id_val sece_std  \\\n",
       "model                                                                 \n",
       "bbb-1                        0.029683    -0.074734         0.003189   \n",
       "bbb_5                        0.009095    -0.011022         0.002820   \n",
       "bbb_full-1                        NaN     0.033727              NaN   \n",
       "ivon-1                            NaN     0.045190              NaN   \n",
       "laplace-1                    0.058470    -0.026050         0.009799   \n",
       "laplace_5                    0.012383     0.026704         0.003108   \n",
       "ll_ivon-1                    0.028363    -0.075534         0.008068   \n",
       "ll_ivon_5                    0.005248     0.010329         0.003291   \n",
       "ll_svgd-1                    0.234305    -0.094283         0.009489   \n",
       "map-1                        0.086854    -0.104010         0.007057   \n",
       "map_5                        0.012032    -0.015033         0.004713   \n",
       "mcd-1                        0.041385    -0.100030         0.011408   \n",
       "mcd_5                        0.015996    -0.008200         0.006139   \n",
       "mcd_p0.1-1                   0.050438    -0.094611         0.001745   \n",
       "mcd_p0.2-1                   0.038557    -0.090868         0.002620   \n",
       "rank1-1                      0.052233    -0.082214         0.010678   \n",
       "svgd-1                       0.136000    -0.105466         0.008402   \n",
       "swag-1                       0.015130    -0.087057         0.001862   \n",
       "swag_5                       0.001803    -0.033214         0.002270   \n",
       "swag_ll-1                    0.060064    -0.088052         0.011709   \n",
       "\n",
       "            id_val ece  id_val ece_std  \n",
       "model                                   \n",
       "bbb-1         0.074997        0.003103  \n",
       "bbb_5         0.014622        0.003256  \n",
       "bbb_full-1    0.078839             NaN  \n",
       "ivon-1        0.085354             NaN  \n",
       "laplace-1     0.027941        0.009200  \n",
       "laplace_5     0.027474        0.002715  \n",
       "ll_ivon-1     0.076179        0.008131  \n",
       "ll_ivon_5     0.018889        0.002852  \n",
       "ll_svgd-1     0.094324        0.009527  \n",
       "map-1         0.104014        0.007057  \n",
       "map_5         0.020173        0.001399  \n",
       "mcd-1         0.100057        0.011440  \n",
       "mcd_5         0.013336        0.003264  \n",
       "mcd_p0.1-1    0.094728        0.001970  \n",
       "mcd_p0.2-1    0.090934        0.002711  \n",
       "rank1-1       0.082214        0.010678  \n",
       "svgd-1        0.105529        0.008473  \n",
       "swag-1        0.087148        0.001825  \n",
       "swag_5        0.033250        0.002329  \n",
       "swag_ll-1     0.088052        0.011709  \n",
       "\n",
       "[20 rows x 21 columns]"
      ]
     },
     "execution_count": 7,
     "metadata": {},
     "output_type": "execute_result"
    }
   ],
   "source": [
    "data"
   ]
  },
  {
   "cell_type": "code",
   "execution_count": 13,
   "metadata": {},
   "outputs": [
    {
     "name": "stdout",
     "output_type": "stream",
     "text": [
      "\\begin{tabular}{l|rrrr}\n",
      "    \\multicolumn{1}{l}{Model} & \\multicolumn{1}{c}{Macro F1 Score} & \\multicolumn{1}{c}{Accuracy} & \\multicolumn{1}{c}{ECE} & \\multicolumn{1}{c}{sECE} \\\\\n",
      "    \\hline\n",
      "    MAP & $0.460 \\pm 0.017$ & $0.813 \\pm 0.007$ & $0.104 \\pm 0.007$ & $-0.104 \\pm 0.007$ \\\\\n",
      "    Deep Ensemble & $0.308 \\pm 0.005$ & $0.752 \\pm 0.007$ & $0.020 \\pm 0.001$ & $-0.015 \\pm 0.005$ \\\\\n",
      "    MCD & $0.457 \\pm 0.010$ & $0.814 \\pm 0.002$ & $0.100 \\pm 0.011$ & $-0.100 \\pm 0.011$ \\\\\n",
      "    MultiMCD & $0.311 \\pm 0.001$ & $0.762 \\pm 0.006$ & $\\bm{0.013 \\pm 0.003}$ & $\\bm{-0.008 \\pm 0.006}$ \\\\\n",
      "    SWAG & $\\bm{0.491 \\pm 0.011}$ & $0.832 \\pm 0.003$ & $0.087 \\pm 0.002$ & $-0.087 \\pm 0.002$ \\\\\n",
      "    MultiSWAG & $0.333 \\pm 0.011$ & $0.761 \\pm 0.002$ & $0.033 \\pm 0.002$ & $-0.033 \\pm 0.002$ \\\\\n",
      "    LL SWAG & $0.465 \\pm 0.043$ & $0.819 \\pm 0.016$ & $0.088 \\pm 0.012$ & $-0.088 \\pm 0.012$ \\\\\n",
      "    LL Laplace & $0.456 \\pm 0.017$ & $0.810 \\pm 0.005$ & $0.028 \\pm 0.009$ & $-0.026 \\pm 0.010$ \\\\\n",
      "    LL MultiLaplace & $\\bm{0.489 \\pm 0.012}$ & $\\bm{0.836 \\pm 0.001}$ & $0.027 \\pm 0.003$ & $0.027 \\pm 0.003$ \\\\\n",
      "    LL BBB & $0.442 \\pm 0.011$ & $0.816 \\pm 0.005$ & $0.075 \\pm 0.003$ & $-0.075 \\pm 0.003$ \\\\\n",
      "    LL MultiBBB & $0.316 \\pm 0.006$ & $0.749 \\pm 0.002$ & $\\bm{0.015 \\pm 0.003}$ & $\\bm{-0.011 \\pm 0.003}$ \\\\\n",
      "    Rank-1 VI & $0.442 \\pm 0.005$ & $0.819 \\pm 0.001$ & $0.082 \\pm 0.011$ & $-0.082 \\pm 0.011$ \\\\\n",
      "    LL iVON & $0.447 \\pm 0.015$ & $0.812 \\pm 0.005$ & $0.076 \\pm 0.008$ & $-0.076 \\pm 0.008$ \\\\\n",
      "    LL MultiiVON & $0.294 \\pm 0.004$ & $0.763 \\pm 0.003$ & $0.019 \\pm 0.003$ & $\\bm{0.010 \\pm 0.003}$ \\\\\n",
      "    SVGD & $0.439 \\pm 0.024$ & $0.813 \\pm 0.009$ & $0.106 \\pm 0.008$ & $-0.105 \\pm 0.008$ \\\\\n",
      "    LL SVGD & $0.453 \\pm 0.018$ & $0.822 \\pm 0.012$ & $0.094 \\pm 0.010$ & $-0.094 \\pm 0.009$ \\\\\n",
      "\\end{tabular}\n"
     ]
    }
   ],
   "source": [
    "algo_names = [\n",
    "    (\"map-1\", \"MAP\"),\n",
    "    (\"map_5\", \"Deep Ensemble\"),\n",
    "    (\"mcd-1\", \"MCD\"),\n",
    "    (\"mcd_5\", \"MultiMCD\"),\n",
    "    (\"swag-1\", \"SWAG\"),\n",
    "    (\"swag_5\", \"MultiSWAG\"),\n",
    "    (\"swag_ll-1\", \"LL SWAG\"),\n",
    "    (\"laplace-1\", \"LL Laplace\"),\n",
    "    (\"laplace_5\", \"LL MultiLaplace\"),\n",
    "    (\"bbb-1\", \"LL BBB\"),\n",
    "    (\"bbb_5\", \"LL MultiBBB\"),\n",
    "    (\"rank1-1\", \"Rank-1 VI\"),\n",
    "    (\"ll_ivon-1\", \"LL iVON\"),\n",
    "    (\"ll_ivon_5\", \"LL MultiiVON\"),\n",
    "    (\"svgd-1\", \"SVGD\"),\n",
    "    (\"ll_svgd-1\", \"LL SVGD\"),\n",
    "]\n",
    "\n",
    "def num(value, std, best=None, ty=None):\n",
    "    value = float(value)\n",
    "    std = float(std)\n",
    "    num_string = f\"{value:.3f} \\\\pm {std:.3f}\"\n",
    "\n",
    "    if best is None or ty is None:\n",
    "        return f\"${num_string}$\"\n",
    "\n",
    "    if ty == \"max\":\n",
    "        if value >= best:\n",
    "            num_string = f\"\\\\bm{{{num_string}}}\"\n",
    "    elif ty == \"min\":\n",
    "        if value <= best:\n",
    "            num_string = f\"\\\\bm{{{num_string}}}\"\n",
    "    elif ty == \"zero\":\n",
    "        if abs(value) <= best:\n",
    "            num_string = f\"\\\\bm{{{num_string}}}\"\n",
    "    return f\"${num_string}$\"\n",
    "\n",
    "def col_name(name, align):\n",
    "    return f\"\\\\multicolumn{{1}}{{{align}}}{{{name}}}\"\n",
    "\n",
    "def create_table(data, prefix):\n",
    "    print(\"\\\\begin{tabular}{l|rrrr}\")\n",
    "    print(f\"    {col_name('Model', 'l')} & {col_name('Macro F1 Score', 'c')} & {col_name('Accuracy', 'c')} & {col_name('ECE', 'c')} & {col_name('sECE', 'c')} \\\\\\\\\")\n",
    "    print(\"    \\\\hline\")\n",
    "\n",
    "    best_f1, best_f1_std = 0, 0\n",
    "    best_acc, best_acc_std = 0, 0\n",
    "    best_ece, best_ece_std = 1000, 0\n",
    "    best_sece, best_sece_std = 1000, 0\n",
    "\n",
    "    for algo, name in algo_names:\n",
    "        row = data[data[\"model\"] == algo]\n",
    "        \n",
    "        if float(row[prefix + \"macro f1\"]) > best_f1:\n",
    "            best_f1 = float(row[prefix + \"macro f1\"])\n",
    "            best_f1_std = float(row[prefix + \"macro f1_std\"])\n",
    "        \n",
    "        if float(row[prefix + \"accuracy\"]) > best_acc:\n",
    "            best_acc = float(row[prefix + \"accuracy\"])\n",
    "            best_acc_std = float(row[prefix + \"accuracy_std\"])\n",
    "        \n",
    "        if float(row[prefix + \"ece\"]) < best_ece:\n",
    "            best_ece = float(row[prefix + \"ece\"])\n",
    "            best_ece_std = float(row[prefix + \"ece_std\"])\n",
    "        \n",
    "        if abs(float(row[prefix + \"sece\"])) < best_sece:\n",
    "            best_sece = abs(float(row[prefix + \"sece\"]))\n",
    "            best_sece_std = float(row[prefix + \"sece_std\"])\n",
    "\n",
    "    best_f1 -= best_f1_std\n",
    "    best_acc -= best_acc_std\n",
    "    best_ece += best_ece_std\n",
    "    best_sece = abs(best_sece) + best_sece_std\n",
    "\n",
    "    for algo, name in algo_names:\n",
    "        row = data[data[\"model\"] == algo]\n",
    "        print(f\"    {name} & {num(row[prefix + 'macro f1'], row[prefix + 'macro f1_std'], best_f1, 'max')} & {num(row[prefix + 'accuracy'], row[prefix + 'accuracy_std'], best_acc, 'max')} & {num(row[prefix + 'ece'], row[prefix + 'ece_std'], best_ece, 'min')} & {num(row[prefix + 'sece'], row[prefix + 'sece_std'], best_sece, 'zero')} \\\\\\\\\")\n",
    "    print(\"\\\\end{tabular}\")\n",
    "create_table(data, \"id_val \")"
   ]
  },
  {
   "cell_type": "code",
   "execution_count": 9,
   "metadata": {},
   "outputs": [
    {
     "data": {
      "text/plain": [
       "'model,model,accuracy,accuracy_std,macro f1,macro f1_std,log likelihood,log likelihood_std,sece,sece_std,ece,ece_std,id_val accuracy,id_val accuracy_std,id_val macro f1,id_val macro f1_std,id_val log likelihood,id_val log likelihood_std,id_val sece,id_val sece_std,id_val ece,id_val ece_std\\nbbb-1,bbb-1,0.7182468275229136,0.008699303471846553,0.28225127760948293,0.011109714438048106,-1.543046732743581,0.05440643967498269,-0.0931807081048114,0.005049549605790326,0.09706304044997006,0.005918370840583741,0.8163795471191406,0.004791726065836142,0.4421345258928023,0.011096235578060604,-1.142696221669515,0.029682856085293162,-0.0747335595085982,0.0031889590346456833,0.07499668611312546,0.0031034233086544433\\nbbb_5,bbb_5,0.7481012543042501,0.002150148547266455,0.31246402346004376,0.007548790591173385,-1.1644161542256672,0.011009497262232335,-0.011961853079257593,0.002285698673582957,0.014951700955406712,0.003203509821140049,0.7489113807678223,0.002240587514982809,0.31609830592401145,0.006113269515855925,-1.1649688084920247,0.009094661125551783,-0.011021761720788364,0.0028196006016761115,0.014622122338131404,0.003256472472136946\\nbbb_full-1,bbb_full-1,0.47865206003189087,,0.0363728020617668,,-1.842249631881714,,0.010131924055141153,,0.01946816973502937,,0.5695925354957581,,0.06281452976871636,,-1.7753708362579346,,0.03372687286151574,,0.07883856485890403,\\nivon-1,ivon-1,0.47185155749320984,,0.03040395908810267,,-1.943763017654419,,0.004276266018709323,,0.08884924458874041,,0.5686355233192444,,0.04289661033109959,,-1.8316766023635864,,0.04519017041544462,,0.08535431483126352,\\nlaplace-1,laplace-1,0.6943107172846794,0.014671407073745485,0.27044404762922847,0.010353438999838803,-1.5666735768318176,0.08320830859382548,-0.05181743831334727,0.01671443912110763,0.05298798830096913,0.015495630274959059,0.809697151184082,0.0047058464909055684,0.45615047698140926,0.016663461727168344,-1.0446706414222717,0.05846951404403903,-0.02604960189701361,0.009799464505499674,0.02794119049312375,0.009200111668802243\\nlaplace_5,laplace_5,0.7386444211006165,0.004204942286690197,0.3041444926488751,0.007365905363977616,-1.1972757776578267,0.012081708788932641,0.046294639470929926,0.004603856718374442,0.04640261860980183,0.004562650258439396,0.8358627359072367,0.0012325553878247656,0.4891103527888765,0.01198445489810649,-0.839482436577479,0.012383412419752274,0.026704034799708728,0.0031083071180567916,0.027473808848479473,0.002714934921942382\\nll_ivon-1,ll_ivon-1,0.7247162560621897,0.009575156786288152,0.2647786820755835,0.008798620992881152,-1.3313967386881511,0.048783420799455385,-0.08359359442399202,0.014255028368846038,0.08822313234098349,0.015208632566150928,0.8124601244926453,0.004618860657583506,0.44717570903126874,0.01491705859986974,-1.0015509724617004,0.028362653897769156,-0.07553354062349835,0.008067685444061317,0.0761793710222795,0.008130819364411014\\nll_ivon_5,ll_ivon_5,0.7628395358721415,0.0032739888272994132,0.2994564850286841,0.006257056381070712,-1.0362376769383748,0.0058381741409128315,0.010722168191272521,0.0033089706323509043,0.019398547486062182,0.0010733418827500597,0.762543519337972,0.002766005789439413,0.29395169159650153,0.0038800935996046383,-1.035151759783427,0.005247655717393297,0.010328671140038593,0.0032908520256140733,0.01888909210452159,0.00285189158513288\\nll_svgd-1,ll_svgd-1,0.7369618018468221,0.014160445417410182,0.265331844347226,0.017513242703342192,-1.447084943453471,0.04512708977975723,-0.11746996560514517,0.002626622641513057,0.11769905145233,0.0026154441000768845,0.8220763802528381,0.012115698207819397,0.45277407457232743,0.018109601171370532,-1.1352317531903584,0.23430457642586527,-0.09428321491448471,0.00948944930057184,0.0943238059098344,0.009526728544943486\\nmap-1,map-1,0.7075358430544535,0.016172601233321,0.28006558820820526,0.020494824488361707,-1.513871928056081,0.09395086492684758,-0.14039598662120745,0.014725735930100242,0.14046538565635627,0.01466049746751853,0.813280463218689,0.007337947603534267,0.46040209385606595,0.017043732534585642,-1.1213505466779072,0.0868538723142441,-0.10400967207884042,0.007056580731447232,0.10401383681689179,0.007056986255111017\\nmap_5,map_5,0.7522687713305155,0.007390076640985011,0.3116669906523817,0.007117674474834912,-1.0678236484527588,0.015629016264146645,-0.014804380627004897,0.005378373218284201,0.01908417110318755,0.001964466197761398,0.7521519462267557,0.007389096508628938,0.3080535987217962,0.005216329251270391,-1.0674657026926677,0.012032359482722396,-0.015032873712839038,0.004712532686390358,0.02017306355048254,0.0013994317783820858\\nmcd-1,mcd-1,0.710460901260376,0.02123505772271116,0.2741225155251039,0.02373038218723037,-1.4606904586156209,0.07400620200333134,-0.13780769670049683,0.01344308728286422,0.13780769670049683,0.01344308728286422,0.8144653836886088,0.0022382733733461936,0.4570833356387254,0.009786124752805481,-1.104896346728007,0.04138489189268816,-0.10002955721601099,0.011407654607982326,0.10005730626134013,0.011440091011709147\\nmcd_5,mcd_5,0.7627460559209188,0.006316405498996601,0.31567023398793675,0.01184458468462319,-1.0256839990615845,0.011943051356568547,-0.007760372158211127,0.007314497975633505,0.013990424756068742,0.0035750005599619,0.7623410026232401,0.005772857009456339,0.31141207487272987,0.0013253097338745434,-1.0235620737075806,0.015995608827673622,-0.008200028535883246,0.006138947539233557,0.013335636899950225,0.0032638950690101836\\nmcd_p0.1-1,mcd_p0.1-1,0.7258535623550415,0.016942672098383054,0.2971390473082794,0.020642942471051123,-1.421579122543335,0.09501657171925099,-0.1255068262314106,0.024317559387821132,0.12587123221789373,0.024187310925410665,0.823625922203064,0.006465190209125444,0.46780356455737876,0.004862342314917341,-1.122454841931661,0.050437576370036326,-0.09461085152255512,0.0017447639463221568,0.09472781476663943,0.0019698876092017633\\nmcd_p0.2-1,mcd_p0.2-1,0.7105154593785604,0.037027866008144304,0.285488262509667,0.021717465623376342,-1.4652989705403645,0.2298522344057604,-0.14475204297616762,0.03492454495144908,0.1448043739478307,0.03483311480280808,0.8264971375465393,0.005088913375252506,0.46385494205690786,0.017322168396614487,-1.05101744333903,0.0385568039743647,-0.09086813601929968,0.002620149898691464,0.09093425362465561,0.0027107530500620008\\nrank1-1,rank1-1,0.7496436238288879,0.005789378695398014,0.2647655018342296,0.009468211729206387,-1.1981099843978882,0.04344457543904667,-0.07646485343078087,0.01681210480598574,0.07757730699768196,0.0175755929574699,0.818567136923472,0.0011919382100941023,0.4422240539522398,0.005330855530060593,-0.9603019952774048,0.05223314757732143,-0.08221366115355162,0.010678229882853751,0.08221366115355162,0.010678229882853751\\nsvgd-1,svgd-1,0.722940186659495,0.008193959916837483,0.26027666045174525,0.02218364084789151,-1.6188811858495076,0.01688549266952199,-0.14593796366720577,0.004022057154232237,0.14597255452515479,0.004004834741889918,0.8127335906028748,0.009400326208134269,0.43934848503841933,0.024319123817431138,-1.3026551405588787,0.1359999069874705,-0.1054660174630636,0.008401528346930701,0.10552920517089341,0.008472958564363055\\nswag-1,swag-1,0.7333317697048187,0.004927691831642031,0.30207489586770403,0.00916284327977827,-1.3170902729034424,0.03181761720263648,-0.11671979579254667,0.006496963032264119,0.11690545448280605,0.00640068027580711,0.832307904958725,0.002703084239369978,0.4911785849051191,0.011197811462870041,-0.9871702194213867,0.01513040423597647,-0.08705657372620762,0.0018623497921418876,0.08714806851705535,0.0018249688388199377\\nswag_5,swag_5,0.7619904478391012,0.0011840483599663732,0.33747581804181226,0.00463439742072216,-1.009413719177246,0.0009042071159199399,-0.032659023525586764,0.0013314086070155215,0.032900656185319954,0.0013908364990780759,0.7614607413609823,0.0019920066236877804,0.33324165785934756,0.011263722772157071,-1.0078991651535034,0.001802845204760586,-0.033213772247695346,0.002269711318909633,0.03324954548706822,0.002329328046124564\\nswag_ll-1,swag_ll-1,0.721467912197113,0.022573260461812805,0.2939654092443282,0.032579146441256764,-1.294526179631551,0.09102266590405111,-0.10403050831903027,0.019713688732025975,0.10445153629250364,0.018872026637493114,0.8189773162206014,0.0161827982615604,0.4646129658070833,0.04292896785909864,-1.0121445457140605,0.06006381540515919,-0.08805163033193186,0.01170876208526745,0.08805163033193186,0.01170876208526745\\n'"
      ]
     },
     "execution_count": 9,
     "metadata": {},
     "output_type": "execute_result"
    }
   ],
   "source": [
    "data.to_csv(sep=\",\", header=True)"
   ]
  },
  {
   "cell_type": "code",
   "execution_count": 10,
   "metadata": {},
   "outputs": [
    {
     "data": {
      "application/vnd.plotly.v1+json": {
       "config": {
        "plotlyServerURL": "https://plot.ly"
       },
       "data": [
        {
         "error_x": {
          "array": [
           0.011109714438048106
          ]
         },
         "error_y": {
          "array": [
           0.005049549605790326
          ]
         },
         "hovertemplate": "model=bbb-1<br>macro f1=%{x}<br>sece=%{y}<extra></extra>",
         "legendgroup": "bbb-1",
         "marker": {
          "color": "#636efa",
          "symbol": "circle"
         },
         "mode": "markers",
         "name": "bbb-1",
         "orientation": "v",
         "showlegend": true,
         "type": "scatter",
         "x": [
          0.28225127760948293
         ],
         "xaxis": "x",
         "y": [
          -0.0931807081048114
         ],
         "yaxis": "y"
        },
        {
         "error_x": {
          "array": [
           0.007548790591173385
          ]
         },
         "error_y": {
          "array": [
           0.002285698673582957
          ]
         },
         "hovertemplate": "model=bbb_5<br>macro f1=%{x}<br>sece=%{y}<extra></extra>",
         "legendgroup": "bbb_5",
         "marker": {
          "color": "#EF553B",
          "symbol": "circle"
         },
         "mode": "markers",
         "name": "bbb_5",
         "orientation": "v",
         "showlegend": true,
         "type": "scatter",
         "x": [
          0.31246402346004376
         ],
         "xaxis": "x",
         "y": [
          -0.011961853079257593
         ],
         "yaxis": "y"
        },
        {
         "error_x": {
          "array": [
           null
          ]
         },
         "error_y": {
          "array": [
           null
          ]
         },
         "hovertemplate": "model=bbb_full-1<br>macro f1=%{x}<br>sece=%{y}<extra></extra>",
         "legendgroup": "bbb_full-1",
         "marker": {
          "color": "#00cc96",
          "symbol": "circle"
         },
         "mode": "markers",
         "name": "bbb_full-1",
         "orientation": "v",
         "showlegend": true,
         "type": "scatter",
         "x": [
          0.0363728020617668
         ],
         "xaxis": "x",
         "y": [
          0.010131924055141153
         ],
         "yaxis": "y"
        },
        {
         "error_x": {
          "array": [
           null
          ]
         },
         "error_y": {
          "array": [
           null
          ]
         },
         "hovertemplate": "model=ivon-1<br>macro f1=%{x}<br>sece=%{y}<extra></extra>",
         "legendgroup": "ivon-1",
         "marker": {
          "color": "#ab63fa",
          "symbol": "circle"
         },
         "mode": "markers",
         "name": "ivon-1",
         "orientation": "v",
         "showlegend": true,
         "type": "scatter",
         "x": [
          0.03040395908810267
         ],
         "xaxis": "x",
         "y": [
          0.004276266018709323
         ],
         "yaxis": "y"
        },
        {
         "error_x": {
          "array": [
           0.010353438999838803
          ]
         },
         "error_y": {
          "array": [
           0.01671443912110763
          ]
         },
         "hovertemplate": "model=laplace-1<br>macro f1=%{x}<br>sece=%{y}<extra></extra>",
         "legendgroup": "laplace-1",
         "marker": {
          "color": "#FFA15A",
          "symbol": "circle"
         },
         "mode": "markers",
         "name": "laplace-1",
         "orientation": "v",
         "showlegend": true,
         "type": "scatter",
         "x": [
          0.27044404762922847
         ],
         "xaxis": "x",
         "y": [
          -0.05181743831334727
         ],
         "yaxis": "y"
        },
        {
         "error_x": {
          "array": [
           0.007365905363977616
          ]
         },
         "error_y": {
          "array": [
           0.004603856718374442
          ]
         },
         "hovertemplate": "model=laplace_5<br>macro f1=%{x}<br>sece=%{y}<extra></extra>",
         "legendgroup": "laplace_5",
         "marker": {
          "color": "#19d3f3",
          "symbol": "circle"
         },
         "mode": "markers",
         "name": "laplace_5",
         "orientation": "v",
         "showlegend": true,
         "type": "scatter",
         "x": [
          0.3041444926488751
         ],
         "xaxis": "x",
         "y": [
          0.046294639470929926
         ],
         "yaxis": "y"
        },
        {
         "error_x": {
          "array": [
           0.008798620992881152
          ]
         },
         "error_y": {
          "array": [
           0.014255028368846038
          ]
         },
         "hovertemplate": "model=ll_ivon-1<br>macro f1=%{x}<br>sece=%{y}<extra></extra>",
         "legendgroup": "ll_ivon-1",
         "marker": {
          "color": "#FF6692",
          "symbol": "circle"
         },
         "mode": "markers",
         "name": "ll_ivon-1",
         "orientation": "v",
         "showlegend": true,
         "type": "scatter",
         "x": [
          0.2647786820755835
         ],
         "xaxis": "x",
         "y": [
          -0.08359359442399202
         ],
         "yaxis": "y"
        },
        {
         "error_x": {
          "array": [
           0.006257056381070712
          ]
         },
         "error_y": {
          "array": [
           0.0033089706323509043
          ]
         },
         "hovertemplate": "model=ll_ivon_5<br>macro f1=%{x}<br>sece=%{y}<extra></extra>",
         "legendgroup": "ll_ivon_5",
         "marker": {
          "color": "#B6E880",
          "symbol": "circle"
         },
         "mode": "markers",
         "name": "ll_ivon_5",
         "orientation": "v",
         "showlegend": true,
         "type": "scatter",
         "x": [
          0.2994564850286841
         ],
         "xaxis": "x",
         "y": [
          0.010722168191272521
         ],
         "yaxis": "y"
        },
        {
         "error_x": {
          "array": [
           0.017513242703342192
          ]
         },
         "error_y": {
          "array": [
           0.002626622641513057
          ]
         },
         "hovertemplate": "model=ll_svgd-1<br>macro f1=%{x}<br>sece=%{y}<extra></extra>",
         "legendgroup": "ll_svgd-1",
         "marker": {
          "color": "#FF97FF",
          "symbol": "circle"
         },
         "mode": "markers",
         "name": "ll_svgd-1",
         "orientation": "v",
         "showlegend": true,
         "type": "scatter",
         "x": [
          0.265331844347226
         ],
         "xaxis": "x",
         "y": [
          -0.11746996560514517
         ],
         "yaxis": "y"
        },
        {
         "error_x": {
          "array": [
           0.020494824488361707
          ]
         },
         "error_y": {
          "array": [
           0.014725735930100242
          ]
         },
         "hovertemplate": "model=map-1<br>macro f1=%{x}<br>sece=%{y}<extra></extra>",
         "legendgroup": "map-1",
         "marker": {
          "color": "#FECB52",
          "symbol": "circle"
         },
         "mode": "markers",
         "name": "map-1",
         "orientation": "v",
         "showlegend": true,
         "type": "scatter",
         "x": [
          0.28006558820820526
         ],
         "xaxis": "x",
         "y": [
          -0.14039598662120745
         ],
         "yaxis": "y"
        },
        {
         "error_x": {
          "array": [
           0.007117674474834912
          ]
         },
         "error_y": {
          "array": [
           0.005378373218284201
          ]
         },
         "hovertemplate": "model=map_5<br>macro f1=%{x}<br>sece=%{y}<extra></extra>",
         "legendgroup": "map_5",
         "marker": {
          "color": "#636efa",
          "symbol": "circle"
         },
         "mode": "markers",
         "name": "map_5",
         "orientation": "v",
         "showlegend": true,
         "type": "scatter",
         "x": [
          0.3116669906523817
         ],
         "xaxis": "x",
         "y": [
          -0.014804380627004897
         ],
         "yaxis": "y"
        },
        {
         "error_x": {
          "array": [
           0.02373038218723037
          ]
         },
         "error_y": {
          "array": [
           0.01344308728286422
          ]
         },
         "hovertemplate": "model=mcd-1<br>macro f1=%{x}<br>sece=%{y}<extra></extra>",
         "legendgroup": "mcd-1",
         "marker": {
          "color": "#EF553B",
          "symbol": "circle"
         },
         "mode": "markers",
         "name": "mcd-1",
         "orientation": "v",
         "showlegend": true,
         "type": "scatter",
         "x": [
          0.2741225155251039
         ],
         "xaxis": "x",
         "y": [
          -0.13780769670049683
         ],
         "yaxis": "y"
        },
        {
         "error_x": {
          "array": [
           0.01184458468462319
          ]
         },
         "error_y": {
          "array": [
           0.007314497975633505
          ]
         },
         "hovertemplate": "model=mcd_5<br>macro f1=%{x}<br>sece=%{y}<extra></extra>",
         "legendgroup": "mcd_5",
         "marker": {
          "color": "#00cc96",
          "symbol": "circle"
         },
         "mode": "markers",
         "name": "mcd_5",
         "orientation": "v",
         "showlegend": true,
         "type": "scatter",
         "x": [
          0.31567023398793675
         ],
         "xaxis": "x",
         "y": [
          -0.007760372158211127
         ],
         "yaxis": "y"
        },
        {
         "error_x": {
          "array": [
           0.020642942471051123
          ]
         },
         "error_y": {
          "array": [
           0.024317559387821132
          ]
         },
         "hovertemplate": "model=mcd_p0.1-1<br>macro f1=%{x}<br>sece=%{y}<extra></extra>",
         "legendgroup": "mcd_p0.1-1",
         "marker": {
          "color": "#ab63fa",
          "symbol": "circle"
         },
         "mode": "markers",
         "name": "mcd_p0.1-1",
         "orientation": "v",
         "showlegend": true,
         "type": "scatter",
         "x": [
          0.2971390473082794
         ],
         "xaxis": "x",
         "y": [
          -0.1255068262314106
         ],
         "yaxis": "y"
        },
        {
         "error_x": {
          "array": [
           0.021717465623376342
          ]
         },
         "error_y": {
          "array": [
           0.03492454495144908
          ]
         },
         "hovertemplate": "model=mcd_p0.2-1<br>macro f1=%{x}<br>sece=%{y}<extra></extra>",
         "legendgroup": "mcd_p0.2-1",
         "marker": {
          "color": "#FFA15A",
          "symbol": "circle"
         },
         "mode": "markers",
         "name": "mcd_p0.2-1",
         "orientation": "v",
         "showlegend": true,
         "type": "scatter",
         "x": [
          0.285488262509667
         ],
         "xaxis": "x",
         "y": [
          -0.14475204297616762
         ],
         "yaxis": "y"
        },
        {
         "error_x": {
          "array": [
           0.009468211729206387
          ]
         },
         "error_y": {
          "array": [
           0.01681210480598574
          ]
         },
         "hovertemplate": "model=rank1-1<br>macro f1=%{x}<br>sece=%{y}<extra></extra>",
         "legendgroup": "rank1-1",
         "marker": {
          "color": "#19d3f3",
          "symbol": "circle"
         },
         "mode": "markers",
         "name": "rank1-1",
         "orientation": "v",
         "showlegend": true,
         "type": "scatter",
         "x": [
          0.2647655018342296
         ],
         "xaxis": "x",
         "y": [
          -0.07646485343078087
         ],
         "yaxis": "y"
        },
        {
         "error_x": {
          "array": [
           0.02218364084789151
          ]
         },
         "error_y": {
          "array": [
           0.004022057154232237
          ]
         },
         "hovertemplate": "model=svgd-1<br>macro f1=%{x}<br>sece=%{y}<extra></extra>",
         "legendgroup": "svgd-1",
         "marker": {
          "color": "#FF6692",
          "symbol": "circle"
         },
         "mode": "markers",
         "name": "svgd-1",
         "orientation": "v",
         "showlegend": true,
         "type": "scatter",
         "x": [
          0.26027666045174525
         ],
         "xaxis": "x",
         "y": [
          -0.14593796366720577
         ],
         "yaxis": "y"
        },
        {
         "error_x": {
          "array": [
           0.00916284327977827
          ]
         },
         "error_y": {
          "array": [
           0.006496963032264119
          ]
         },
         "hovertemplate": "model=swag-1<br>macro f1=%{x}<br>sece=%{y}<extra></extra>",
         "legendgroup": "swag-1",
         "marker": {
          "color": "#B6E880",
          "symbol": "circle"
         },
         "mode": "markers",
         "name": "swag-1",
         "orientation": "v",
         "showlegend": true,
         "type": "scatter",
         "x": [
          0.30207489586770403
         ],
         "xaxis": "x",
         "y": [
          -0.11671979579254667
         ],
         "yaxis": "y"
        },
        {
         "error_x": {
          "array": [
           0.00463439742072216
          ]
         },
         "error_y": {
          "array": [
           0.0013314086070155215
          ]
         },
         "hovertemplate": "model=swag_5<br>macro f1=%{x}<br>sece=%{y}<extra></extra>",
         "legendgroup": "swag_5",
         "marker": {
          "color": "#FF97FF",
          "symbol": "circle"
         },
         "mode": "markers",
         "name": "swag_5",
         "orientation": "v",
         "showlegend": true,
         "type": "scatter",
         "x": [
          0.33747581804181226
         ],
         "xaxis": "x",
         "y": [
          -0.032659023525586764
         ],
         "yaxis": "y"
        },
        {
         "error_x": {
          "array": [
           0.032579146441256764
          ]
         },
         "error_y": {
          "array": [
           0.019713688732025975
          ]
         },
         "hovertemplate": "model=swag_ll-1<br>macro f1=%{x}<br>sece=%{y}<extra></extra>",
         "legendgroup": "swag_ll-1",
         "marker": {
          "color": "#FECB52",
          "symbol": "circle"
         },
         "mode": "markers",
         "name": "swag_ll-1",
         "orientation": "v",
         "showlegend": true,
         "type": "scatter",
         "x": [
          0.2939654092443282
         ],
         "xaxis": "x",
         "y": [
          -0.10403050831903027
         ],
         "yaxis": "y"
        }
       ],
       "layout": {
        "legend": {
         "title": {
          "text": "model"
         },
         "tracegroupgap": 0
        },
        "margin": {
         "t": 60
        },
        "template": {
         "data": {
          "bar": [
           {
            "error_x": {
             "color": "#2a3f5f"
            },
            "error_y": {
             "color": "#2a3f5f"
            },
            "marker": {
             "line": {
              "color": "#E5ECF6",
              "width": 0.5
             },
             "pattern": {
              "fillmode": "overlay",
              "size": 10,
              "solidity": 0.2
             }
            },
            "type": "bar"
           }
          ],
          "barpolar": [
           {
            "marker": {
             "line": {
              "color": "#E5ECF6",
              "width": 0.5
             },
             "pattern": {
              "fillmode": "overlay",
              "size": 10,
              "solidity": 0.2
             }
            },
            "type": "barpolar"
           }
          ],
          "carpet": [
           {
            "aaxis": {
             "endlinecolor": "#2a3f5f",
             "gridcolor": "white",
             "linecolor": "white",
             "minorgridcolor": "white",
             "startlinecolor": "#2a3f5f"
            },
            "baxis": {
             "endlinecolor": "#2a3f5f",
             "gridcolor": "white",
             "linecolor": "white",
             "minorgridcolor": "white",
             "startlinecolor": "#2a3f5f"
            },
            "type": "carpet"
           }
          ],
          "choropleth": [
           {
            "colorbar": {
             "outlinewidth": 0,
             "ticks": ""
            },
            "type": "choropleth"
           }
          ],
          "contour": [
           {
            "colorbar": {
             "outlinewidth": 0,
             "ticks": ""
            },
            "colorscale": [
             [
              0,
              "#0d0887"
             ],
             [
              0.1111111111111111,
              "#46039f"
             ],
             [
              0.2222222222222222,
              "#7201a8"
             ],
             [
              0.3333333333333333,
              "#9c179e"
             ],
             [
              0.4444444444444444,
              "#bd3786"
             ],
             [
              0.5555555555555556,
              "#d8576b"
             ],
             [
              0.6666666666666666,
              "#ed7953"
             ],
             [
              0.7777777777777778,
              "#fb9f3a"
             ],
             [
              0.8888888888888888,
              "#fdca26"
             ],
             [
              1,
              "#f0f921"
             ]
            ],
            "type": "contour"
           }
          ],
          "contourcarpet": [
           {
            "colorbar": {
             "outlinewidth": 0,
             "ticks": ""
            },
            "type": "contourcarpet"
           }
          ],
          "heatmap": [
           {
            "colorbar": {
             "outlinewidth": 0,
             "ticks": ""
            },
            "colorscale": [
             [
              0,
              "#0d0887"
             ],
             [
              0.1111111111111111,
              "#46039f"
             ],
             [
              0.2222222222222222,
              "#7201a8"
             ],
             [
              0.3333333333333333,
              "#9c179e"
             ],
             [
              0.4444444444444444,
              "#bd3786"
             ],
             [
              0.5555555555555556,
              "#d8576b"
             ],
             [
              0.6666666666666666,
              "#ed7953"
             ],
             [
              0.7777777777777778,
              "#fb9f3a"
             ],
             [
              0.8888888888888888,
              "#fdca26"
             ],
             [
              1,
              "#f0f921"
             ]
            ],
            "type": "heatmap"
           }
          ],
          "heatmapgl": [
           {
            "colorbar": {
             "outlinewidth": 0,
             "ticks": ""
            },
            "colorscale": [
             [
              0,
              "#0d0887"
             ],
             [
              0.1111111111111111,
              "#46039f"
             ],
             [
              0.2222222222222222,
              "#7201a8"
             ],
             [
              0.3333333333333333,
              "#9c179e"
             ],
             [
              0.4444444444444444,
              "#bd3786"
             ],
             [
              0.5555555555555556,
              "#d8576b"
             ],
             [
              0.6666666666666666,
              "#ed7953"
             ],
             [
              0.7777777777777778,
              "#fb9f3a"
             ],
             [
              0.8888888888888888,
              "#fdca26"
             ],
             [
              1,
              "#f0f921"
             ]
            ],
            "type": "heatmapgl"
           }
          ],
          "histogram": [
           {
            "marker": {
             "pattern": {
              "fillmode": "overlay",
              "size": 10,
              "solidity": 0.2
             }
            },
            "type": "histogram"
           }
          ],
          "histogram2d": [
           {
            "colorbar": {
             "outlinewidth": 0,
             "ticks": ""
            },
            "colorscale": [
             [
              0,
              "#0d0887"
             ],
             [
              0.1111111111111111,
              "#46039f"
             ],
             [
              0.2222222222222222,
              "#7201a8"
             ],
             [
              0.3333333333333333,
              "#9c179e"
             ],
             [
              0.4444444444444444,
              "#bd3786"
             ],
             [
              0.5555555555555556,
              "#d8576b"
             ],
             [
              0.6666666666666666,
              "#ed7953"
             ],
             [
              0.7777777777777778,
              "#fb9f3a"
             ],
             [
              0.8888888888888888,
              "#fdca26"
             ],
             [
              1,
              "#f0f921"
             ]
            ],
            "type": "histogram2d"
           }
          ],
          "histogram2dcontour": [
           {
            "colorbar": {
             "outlinewidth": 0,
             "ticks": ""
            },
            "colorscale": [
             [
              0,
              "#0d0887"
             ],
             [
              0.1111111111111111,
              "#46039f"
             ],
             [
              0.2222222222222222,
              "#7201a8"
             ],
             [
              0.3333333333333333,
              "#9c179e"
             ],
             [
              0.4444444444444444,
              "#bd3786"
             ],
             [
              0.5555555555555556,
              "#d8576b"
             ],
             [
              0.6666666666666666,
              "#ed7953"
             ],
             [
              0.7777777777777778,
              "#fb9f3a"
             ],
             [
              0.8888888888888888,
              "#fdca26"
             ],
             [
              1,
              "#f0f921"
             ]
            ],
            "type": "histogram2dcontour"
           }
          ],
          "mesh3d": [
           {
            "colorbar": {
             "outlinewidth": 0,
             "ticks": ""
            },
            "type": "mesh3d"
           }
          ],
          "parcoords": [
           {
            "line": {
             "colorbar": {
              "outlinewidth": 0,
              "ticks": ""
             }
            },
            "type": "parcoords"
           }
          ],
          "pie": [
           {
            "automargin": true,
            "type": "pie"
           }
          ],
          "scatter": [
           {
            "fillpattern": {
             "fillmode": "overlay",
             "size": 10,
             "solidity": 0.2
            },
            "type": "scatter"
           }
          ],
          "scatter3d": [
           {
            "line": {
             "colorbar": {
              "outlinewidth": 0,
              "ticks": ""
             }
            },
            "marker": {
             "colorbar": {
              "outlinewidth": 0,
              "ticks": ""
             }
            },
            "type": "scatter3d"
           }
          ],
          "scattercarpet": [
           {
            "marker": {
             "colorbar": {
              "outlinewidth": 0,
              "ticks": ""
             }
            },
            "type": "scattercarpet"
           }
          ],
          "scattergeo": [
           {
            "marker": {
             "colorbar": {
              "outlinewidth": 0,
              "ticks": ""
             }
            },
            "type": "scattergeo"
           }
          ],
          "scattergl": [
           {
            "marker": {
             "colorbar": {
              "outlinewidth": 0,
              "ticks": ""
             }
            },
            "type": "scattergl"
           }
          ],
          "scattermapbox": [
           {
            "marker": {
             "colorbar": {
              "outlinewidth": 0,
              "ticks": ""
             }
            },
            "type": "scattermapbox"
           }
          ],
          "scatterpolar": [
           {
            "marker": {
             "colorbar": {
              "outlinewidth": 0,
              "ticks": ""
             }
            },
            "type": "scatterpolar"
           }
          ],
          "scatterpolargl": [
           {
            "marker": {
             "colorbar": {
              "outlinewidth": 0,
              "ticks": ""
             }
            },
            "type": "scatterpolargl"
           }
          ],
          "scatterternary": [
           {
            "marker": {
             "colorbar": {
              "outlinewidth": 0,
              "ticks": ""
             }
            },
            "type": "scatterternary"
           }
          ],
          "surface": [
           {
            "colorbar": {
             "outlinewidth": 0,
             "ticks": ""
            },
            "colorscale": [
             [
              0,
              "#0d0887"
             ],
             [
              0.1111111111111111,
              "#46039f"
             ],
             [
              0.2222222222222222,
              "#7201a8"
             ],
             [
              0.3333333333333333,
              "#9c179e"
             ],
             [
              0.4444444444444444,
              "#bd3786"
             ],
             [
              0.5555555555555556,
              "#d8576b"
             ],
             [
              0.6666666666666666,
              "#ed7953"
             ],
             [
              0.7777777777777778,
              "#fb9f3a"
             ],
             [
              0.8888888888888888,
              "#fdca26"
             ],
             [
              1,
              "#f0f921"
             ]
            ],
            "type": "surface"
           }
          ],
          "table": [
           {
            "cells": {
             "fill": {
              "color": "#EBF0F8"
             },
             "line": {
              "color": "white"
             }
            },
            "header": {
             "fill": {
              "color": "#C8D4E3"
             },
             "line": {
              "color": "white"
             }
            },
            "type": "table"
           }
          ]
         },
         "layout": {
          "annotationdefaults": {
           "arrowcolor": "#2a3f5f",
           "arrowhead": 0,
           "arrowwidth": 1
          },
          "autotypenumbers": "strict",
          "coloraxis": {
           "colorbar": {
            "outlinewidth": 0,
            "ticks": ""
           }
          },
          "colorscale": {
           "diverging": [
            [
             0,
             "#8e0152"
            ],
            [
             0.1,
             "#c51b7d"
            ],
            [
             0.2,
             "#de77ae"
            ],
            [
             0.3,
             "#f1b6da"
            ],
            [
             0.4,
             "#fde0ef"
            ],
            [
             0.5,
             "#f7f7f7"
            ],
            [
             0.6,
             "#e6f5d0"
            ],
            [
             0.7,
             "#b8e186"
            ],
            [
             0.8,
             "#7fbc41"
            ],
            [
             0.9,
             "#4d9221"
            ],
            [
             1,
             "#276419"
            ]
           ],
           "sequential": [
            [
             0,
             "#0d0887"
            ],
            [
             0.1111111111111111,
             "#46039f"
            ],
            [
             0.2222222222222222,
             "#7201a8"
            ],
            [
             0.3333333333333333,
             "#9c179e"
            ],
            [
             0.4444444444444444,
             "#bd3786"
            ],
            [
             0.5555555555555556,
             "#d8576b"
            ],
            [
             0.6666666666666666,
             "#ed7953"
            ],
            [
             0.7777777777777778,
             "#fb9f3a"
            ],
            [
             0.8888888888888888,
             "#fdca26"
            ],
            [
             1,
             "#f0f921"
            ]
           ],
           "sequentialminus": [
            [
             0,
             "#0d0887"
            ],
            [
             0.1111111111111111,
             "#46039f"
            ],
            [
             0.2222222222222222,
             "#7201a8"
            ],
            [
             0.3333333333333333,
             "#9c179e"
            ],
            [
             0.4444444444444444,
             "#bd3786"
            ],
            [
             0.5555555555555556,
             "#d8576b"
            ],
            [
             0.6666666666666666,
             "#ed7953"
            ],
            [
             0.7777777777777778,
             "#fb9f3a"
            ],
            [
             0.8888888888888888,
             "#fdca26"
            ],
            [
             1,
             "#f0f921"
            ]
           ]
          },
          "colorway": [
           "#636efa",
           "#EF553B",
           "#00cc96",
           "#ab63fa",
           "#FFA15A",
           "#19d3f3",
           "#FF6692",
           "#B6E880",
           "#FF97FF",
           "#FECB52"
          ],
          "font": {
           "color": "#2a3f5f"
          },
          "geo": {
           "bgcolor": "white",
           "lakecolor": "white",
           "landcolor": "#E5ECF6",
           "showlakes": true,
           "showland": true,
           "subunitcolor": "white"
          },
          "hoverlabel": {
           "align": "left"
          },
          "hovermode": "closest",
          "mapbox": {
           "style": "light"
          },
          "paper_bgcolor": "white",
          "plot_bgcolor": "#E5ECF6",
          "polar": {
           "angularaxis": {
            "gridcolor": "white",
            "linecolor": "white",
            "ticks": ""
           },
           "bgcolor": "#E5ECF6",
           "radialaxis": {
            "gridcolor": "white",
            "linecolor": "white",
            "ticks": ""
           }
          },
          "scene": {
           "xaxis": {
            "backgroundcolor": "#E5ECF6",
            "gridcolor": "white",
            "gridwidth": 2,
            "linecolor": "white",
            "showbackground": true,
            "ticks": "",
            "zerolinecolor": "white"
           },
           "yaxis": {
            "backgroundcolor": "#E5ECF6",
            "gridcolor": "white",
            "gridwidth": 2,
            "linecolor": "white",
            "showbackground": true,
            "ticks": "",
            "zerolinecolor": "white"
           },
           "zaxis": {
            "backgroundcolor": "#E5ECF6",
            "gridcolor": "white",
            "gridwidth": 2,
            "linecolor": "white",
            "showbackground": true,
            "ticks": "",
            "zerolinecolor": "white"
           }
          },
          "shapedefaults": {
           "line": {
            "color": "#2a3f5f"
           }
          },
          "ternary": {
           "aaxis": {
            "gridcolor": "white",
            "linecolor": "white",
            "ticks": ""
           },
           "baxis": {
            "gridcolor": "white",
            "linecolor": "white",
            "ticks": ""
           },
           "bgcolor": "#E5ECF6",
           "caxis": {
            "gridcolor": "white",
            "linecolor": "white",
            "ticks": ""
           }
          },
          "title": {
           "x": 0.05
          },
          "xaxis": {
           "automargin": true,
           "gridcolor": "white",
           "linecolor": "white",
           "ticks": "",
           "title": {
            "standoff": 15
           },
           "zerolinecolor": "white",
           "zerolinewidth": 2
          },
          "yaxis": {
           "automargin": true,
           "gridcolor": "white",
           "linecolor": "white",
           "ticks": "",
           "title": {
            "standoff": 15
           },
           "zerolinecolor": "white",
           "zerolinewidth": 2
          }
         }
        },
        "xaxis": {
         "anchor": "y",
         "domain": [
          0,
          1
         ],
         "title": {
          "text": "macro f1"
         }
        },
        "yaxis": {
         "anchor": "x",
         "domain": [
          0,
          1
         ],
         "title": {
          "text": "sece"
         }
        }
       }
      }
     },
     "metadata": {},
     "output_type": "display_data"
    }
   ],
   "source": [
    "pareto_plot(data, \"macro f1\", \"sece\")"
   ]
  },
  {
   "cell_type": "code",
   "execution_count": 11,
   "metadata": {},
   "outputs": [
    {
     "data": {
      "application/vnd.plotly.v1+json": {
       "config": {
        "plotlyServerURL": "https://plot.ly"
       },
       "data": [
        {
         "error_x": {
          "array": [
           0.011096235578060604
          ]
         },
         "error_y": {
          "array": [
           0.0031889590346456833
          ]
         },
         "hovertemplate": "model=bbb-1<br>id_val macro f1=%{x}<br>id_val sece=%{y}<extra></extra>",
         "legendgroup": "bbb-1",
         "marker": {
          "color": "#636efa",
          "symbol": "circle"
         },
         "mode": "markers",
         "name": "bbb-1",
         "orientation": "v",
         "showlegend": true,
         "type": "scatter",
         "x": [
          0.4421345258928023
         ],
         "xaxis": "x",
         "y": [
          -0.0747335595085982
         ],
         "yaxis": "y"
        },
        {
         "error_x": {
          "array": [
           0.006113269515855925
          ]
         },
         "error_y": {
          "array": [
           0.0028196006016761115
          ]
         },
         "hovertemplate": "model=bbb_5<br>id_val macro f1=%{x}<br>id_val sece=%{y}<extra></extra>",
         "legendgroup": "bbb_5",
         "marker": {
          "color": "#EF553B",
          "symbol": "circle"
         },
         "mode": "markers",
         "name": "bbb_5",
         "orientation": "v",
         "showlegend": true,
         "type": "scatter",
         "x": [
          0.31609830592401145
         ],
         "xaxis": "x",
         "y": [
          -0.011021761720788364
         ],
         "yaxis": "y"
        },
        {
         "error_x": {
          "array": [
           null
          ]
         },
         "error_y": {
          "array": [
           null
          ]
         },
         "hovertemplate": "model=bbb_full-1<br>id_val macro f1=%{x}<br>id_val sece=%{y}<extra></extra>",
         "legendgroup": "bbb_full-1",
         "marker": {
          "color": "#00cc96",
          "symbol": "circle"
         },
         "mode": "markers",
         "name": "bbb_full-1",
         "orientation": "v",
         "showlegend": true,
         "type": "scatter",
         "x": [
          0.06281452976871636
         ],
         "xaxis": "x",
         "y": [
          0.03372687286151574
         ],
         "yaxis": "y"
        },
        {
         "error_x": {
          "array": [
           null
          ]
         },
         "error_y": {
          "array": [
           null
          ]
         },
         "hovertemplate": "model=ivon-1<br>id_val macro f1=%{x}<br>id_val sece=%{y}<extra></extra>",
         "legendgroup": "ivon-1",
         "marker": {
          "color": "#ab63fa",
          "symbol": "circle"
         },
         "mode": "markers",
         "name": "ivon-1",
         "orientation": "v",
         "showlegend": true,
         "type": "scatter",
         "x": [
          0.04289661033109959
         ],
         "xaxis": "x",
         "y": [
          0.04519017041544462
         ],
         "yaxis": "y"
        },
        {
         "error_x": {
          "array": [
           0.016663461727168344
          ]
         },
         "error_y": {
          "array": [
           0.009799464505499674
          ]
         },
         "hovertemplate": "model=laplace-1<br>id_val macro f1=%{x}<br>id_val sece=%{y}<extra></extra>",
         "legendgroup": "laplace-1",
         "marker": {
          "color": "#FFA15A",
          "symbol": "circle"
         },
         "mode": "markers",
         "name": "laplace-1",
         "orientation": "v",
         "showlegend": true,
         "type": "scatter",
         "x": [
          0.45615047698140926
         ],
         "xaxis": "x",
         "y": [
          -0.02604960189701361
         ],
         "yaxis": "y"
        },
        {
         "error_x": {
          "array": [
           0.01198445489810649
          ]
         },
         "error_y": {
          "array": [
           0.0031083071180567916
          ]
         },
         "hovertemplate": "model=laplace_5<br>id_val macro f1=%{x}<br>id_val sece=%{y}<extra></extra>",
         "legendgroup": "laplace_5",
         "marker": {
          "color": "#19d3f3",
          "symbol": "circle"
         },
         "mode": "markers",
         "name": "laplace_5",
         "orientation": "v",
         "showlegend": true,
         "type": "scatter",
         "x": [
          0.4891103527888765
         ],
         "xaxis": "x",
         "y": [
          0.026704034799708728
         ],
         "yaxis": "y"
        },
        {
         "error_x": {
          "array": [
           0.01491705859986974
          ]
         },
         "error_y": {
          "array": [
           0.008067685444061317
          ]
         },
         "hovertemplate": "model=ll_ivon-1<br>id_val macro f1=%{x}<br>id_val sece=%{y}<extra></extra>",
         "legendgroup": "ll_ivon-1",
         "marker": {
          "color": "#FF6692",
          "symbol": "circle"
         },
         "mode": "markers",
         "name": "ll_ivon-1",
         "orientation": "v",
         "showlegend": true,
         "type": "scatter",
         "x": [
          0.44717570903126874
         ],
         "xaxis": "x",
         "y": [
          -0.07553354062349835
         ],
         "yaxis": "y"
        },
        {
         "error_x": {
          "array": [
           0.0038800935996046383
          ]
         },
         "error_y": {
          "array": [
           0.0032908520256140733
          ]
         },
         "hovertemplate": "model=ll_ivon_5<br>id_val macro f1=%{x}<br>id_val sece=%{y}<extra></extra>",
         "legendgroup": "ll_ivon_5",
         "marker": {
          "color": "#B6E880",
          "symbol": "circle"
         },
         "mode": "markers",
         "name": "ll_ivon_5",
         "orientation": "v",
         "showlegend": true,
         "type": "scatter",
         "x": [
          0.29395169159650153
         ],
         "xaxis": "x",
         "y": [
          0.010328671140038593
         ],
         "yaxis": "y"
        },
        {
         "error_x": {
          "array": [
           0.018109601171370532
          ]
         },
         "error_y": {
          "array": [
           0.00948944930057184
          ]
         },
         "hovertemplate": "model=ll_svgd-1<br>id_val macro f1=%{x}<br>id_val sece=%{y}<extra></extra>",
         "legendgroup": "ll_svgd-1",
         "marker": {
          "color": "#FF97FF",
          "symbol": "circle"
         },
         "mode": "markers",
         "name": "ll_svgd-1",
         "orientation": "v",
         "showlegend": true,
         "type": "scatter",
         "x": [
          0.45277407457232743
         ],
         "xaxis": "x",
         "y": [
          -0.09428321491448471
         ],
         "yaxis": "y"
        },
        {
         "error_x": {
          "array": [
           0.017043732534585642
          ]
         },
         "error_y": {
          "array": [
           0.007056580731447232
          ]
         },
         "hovertemplate": "model=map-1<br>id_val macro f1=%{x}<br>id_val sece=%{y}<extra></extra>",
         "legendgroup": "map-1",
         "marker": {
          "color": "#FECB52",
          "symbol": "circle"
         },
         "mode": "markers",
         "name": "map-1",
         "orientation": "v",
         "showlegend": true,
         "type": "scatter",
         "x": [
          0.46040209385606595
         ],
         "xaxis": "x",
         "y": [
          -0.10400967207884042
         ],
         "yaxis": "y"
        },
        {
         "error_x": {
          "array": [
           0.005216329251270391
          ]
         },
         "error_y": {
          "array": [
           0.004712532686390358
          ]
         },
         "hovertemplate": "model=map_5<br>id_val macro f1=%{x}<br>id_val sece=%{y}<extra></extra>",
         "legendgroup": "map_5",
         "marker": {
          "color": "#636efa",
          "symbol": "circle"
         },
         "mode": "markers",
         "name": "map_5",
         "orientation": "v",
         "showlegend": true,
         "type": "scatter",
         "x": [
          0.3080535987217962
         ],
         "xaxis": "x",
         "y": [
          -0.015032873712839038
         ],
         "yaxis": "y"
        },
        {
         "error_x": {
          "array": [
           0.009786124752805481
          ]
         },
         "error_y": {
          "array": [
           0.011407654607982326
          ]
         },
         "hovertemplate": "model=mcd-1<br>id_val macro f1=%{x}<br>id_val sece=%{y}<extra></extra>",
         "legendgroup": "mcd-1",
         "marker": {
          "color": "#EF553B",
          "symbol": "circle"
         },
         "mode": "markers",
         "name": "mcd-1",
         "orientation": "v",
         "showlegend": true,
         "type": "scatter",
         "x": [
          0.4570833356387254
         ],
         "xaxis": "x",
         "y": [
          -0.10002955721601099
         ],
         "yaxis": "y"
        },
        {
         "error_x": {
          "array": [
           0.0013253097338745434
          ]
         },
         "error_y": {
          "array": [
           0.006138947539233557
          ]
         },
         "hovertemplate": "model=mcd_5<br>id_val macro f1=%{x}<br>id_val sece=%{y}<extra></extra>",
         "legendgroup": "mcd_5",
         "marker": {
          "color": "#00cc96",
          "symbol": "circle"
         },
         "mode": "markers",
         "name": "mcd_5",
         "orientation": "v",
         "showlegend": true,
         "type": "scatter",
         "x": [
          0.31141207487272987
         ],
         "xaxis": "x",
         "y": [
          -0.008200028535883246
         ],
         "yaxis": "y"
        },
        {
         "error_x": {
          "array": [
           0.004862342314917341
          ]
         },
         "error_y": {
          "array": [
           0.0017447639463221568
          ]
         },
         "hovertemplate": "model=mcd_p0.1-1<br>id_val macro f1=%{x}<br>id_val sece=%{y}<extra></extra>",
         "legendgroup": "mcd_p0.1-1",
         "marker": {
          "color": "#ab63fa",
          "symbol": "circle"
         },
         "mode": "markers",
         "name": "mcd_p0.1-1",
         "orientation": "v",
         "showlegend": true,
         "type": "scatter",
         "x": [
          0.46780356455737876
         ],
         "xaxis": "x",
         "y": [
          -0.09461085152255512
         ],
         "yaxis": "y"
        },
        {
         "error_x": {
          "array": [
           0.017322168396614487
          ]
         },
         "error_y": {
          "array": [
           0.002620149898691464
          ]
         },
         "hovertemplate": "model=mcd_p0.2-1<br>id_val macro f1=%{x}<br>id_val sece=%{y}<extra></extra>",
         "legendgroup": "mcd_p0.2-1",
         "marker": {
          "color": "#FFA15A",
          "symbol": "circle"
         },
         "mode": "markers",
         "name": "mcd_p0.2-1",
         "orientation": "v",
         "showlegend": true,
         "type": "scatter",
         "x": [
          0.46385494205690786
         ],
         "xaxis": "x",
         "y": [
          -0.09086813601929968
         ],
         "yaxis": "y"
        },
        {
         "error_x": {
          "array": [
           0.005330855530060593
          ]
         },
         "error_y": {
          "array": [
           0.010678229882853751
          ]
         },
         "hovertemplate": "model=rank1-1<br>id_val macro f1=%{x}<br>id_val sece=%{y}<extra></extra>",
         "legendgroup": "rank1-1",
         "marker": {
          "color": "#19d3f3",
          "symbol": "circle"
         },
         "mode": "markers",
         "name": "rank1-1",
         "orientation": "v",
         "showlegend": true,
         "type": "scatter",
         "x": [
          0.4422240539522398
         ],
         "xaxis": "x",
         "y": [
          -0.08221366115355162
         ],
         "yaxis": "y"
        },
        {
         "error_x": {
          "array": [
           0.024319123817431138
          ]
         },
         "error_y": {
          "array": [
           0.008401528346930701
          ]
         },
         "hovertemplate": "model=svgd-1<br>id_val macro f1=%{x}<br>id_val sece=%{y}<extra></extra>",
         "legendgroup": "svgd-1",
         "marker": {
          "color": "#FF6692",
          "symbol": "circle"
         },
         "mode": "markers",
         "name": "svgd-1",
         "orientation": "v",
         "showlegend": true,
         "type": "scatter",
         "x": [
          0.43934848503841933
         ],
         "xaxis": "x",
         "y": [
          -0.1054660174630636
         ],
         "yaxis": "y"
        },
        {
         "error_x": {
          "array": [
           0.011197811462870041
          ]
         },
         "error_y": {
          "array": [
           0.0018623497921418876
          ]
         },
         "hovertemplate": "model=swag-1<br>id_val macro f1=%{x}<br>id_val sece=%{y}<extra></extra>",
         "legendgroup": "swag-1",
         "marker": {
          "color": "#B6E880",
          "symbol": "circle"
         },
         "mode": "markers",
         "name": "swag-1",
         "orientation": "v",
         "showlegend": true,
         "type": "scatter",
         "x": [
          0.4911785849051191
         ],
         "xaxis": "x",
         "y": [
          -0.08705657372620762
         ],
         "yaxis": "y"
        },
        {
         "error_x": {
          "array": [
           0.011263722772157071
          ]
         },
         "error_y": {
          "array": [
           0.002269711318909633
          ]
         },
         "hovertemplate": "model=swag_5<br>id_val macro f1=%{x}<br>id_val sece=%{y}<extra></extra>",
         "legendgroup": "swag_5",
         "marker": {
          "color": "#FF97FF",
          "symbol": "circle"
         },
         "mode": "markers",
         "name": "swag_5",
         "orientation": "v",
         "showlegend": true,
         "type": "scatter",
         "x": [
          0.33324165785934756
         ],
         "xaxis": "x",
         "y": [
          -0.033213772247695346
         ],
         "yaxis": "y"
        },
        {
         "error_x": {
          "array": [
           0.04292896785909864
          ]
         },
         "error_y": {
          "array": [
           0.01170876208526745
          ]
         },
         "hovertemplate": "model=swag_ll-1<br>id_val macro f1=%{x}<br>id_val sece=%{y}<extra></extra>",
         "legendgroup": "swag_ll-1",
         "marker": {
          "color": "#FECB52",
          "symbol": "circle"
         },
         "mode": "markers",
         "name": "swag_ll-1",
         "orientation": "v",
         "showlegend": true,
         "type": "scatter",
         "x": [
          0.4646129658070833
         ],
         "xaxis": "x",
         "y": [
          -0.08805163033193186
         ],
         "yaxis": "y"
        }
       ],
       "layout": {
        "legend": {
         "title": {
          "text": "model"
         },
         "tracegroupgap": 0
        },
        "margin": {
         "t": 60
        },
        "template": {
         "data": {
          "bar": [
           {
            "error_x": {
             "color": "#2a3f5f"
            },
            "error_y": {
             "color": "#2a3f5f"
            },
            "marker": {
             "line": {
              "color": "#E5ECF6",
              "width": 0.5
             },
             "pattern": {
              "fillmode": "overlay",
              "size": 10,
              "solidity": 0.2
             }
            },
            "type": "bar"
           }
          ],
          "barpolar": [
           {
            "marker": {
             "line": {
              "color": "#E5ECF6",
              "width": 0.5
             },
             "pattern": {
              "fillmode": "overlay",
              "size": 10,
              "solidity": 0.2
             }
            },
            "type": "barpolar"
           }
          ],
          "carpet": [
           {
            "aaxis": {
             "endlinecolor": "#2a3f5f",
             "gridcolor": "white",
             "linecolor": "white",
             "minorgridcolor": "white",
             "startlinecolor": "#2a3f5f"
            },
            "baxis": {
             "endlinecolor": "#2a3f5f",
             "gridcolor": "white",
             "linecolor": "white",
             "minorgridcolor": "white",
             "startlinecolor": "#2a3f5f"
            },
            "type": "carpet"
           }
          ],
          "choropleth": [
           {
            "colorbar": {
             "outlinewidth": 0,
             "ticks": ""
            },
            "type": "choropleth"
           }
          ],
          "contour": [
           {
            "colorbar": {
             "outlinewidth": 0,
             "ticks": ""
            },
            "colorscale": [
             [
              0,
              "#0d0887"
             ],
             [
              0.1111111111111111,
              "#46039f"
             ],
             [
              0.2222222222222222,
              "#7201a8"
             ],
             [
              0.3333333333333333,
              "#9c179e"
             ],
             [
              0.4444444444444444,
              "#bd3786"
             ],
             [
              0.5555555555555556,
              "#d8576b"
             ],
             [
              0.6666666666666666,
              "#ed7953"
             ],
             [
              0.7777777777777778,
              "#fb9f3a"
             ],
             [
              0.8888888888888888,
              "#fdca26"
             ],
             [
              1,
              "#f0f921"
             ]
            ],
            "type": "contour"
           }
          ],
          "contourcarpet": [
           {
            "colorbar": {
             "outlinewidth": 0,
             "ticks": ""
            },
            "type": "contourcarpet"
           }
          ],
          "heatmap": [
           {
            "colorbar": {
             "outlinewidth": 0,
             "ticks": ""
            },
            "colorscale": [
             [
              0,
              "#0d0887"
             ],
             [
              0.1111111111111111,
              "#46039f"
             ],
             [
              0.2222222222222222,
              "#7201a8"
             ],
             [
              0.3333333333333333,
              "#9c179e"
             ],
             [
              0.4444444444444444,
              "#bd3786"
             ],
             [
              0.5555555555555556,
              "#d8576b"
             ],
             [
              0.6666666666666666,
              "#ed7953"
             ],
             [
              0.7777777777777778,
              "#fb9f3a"
             ],
             [
              0.8888888888888888,
              "#fdca26"
             ],
             [
              1,
              "#f0f921"
             ]
            ],
            "type": "heatmap"
           }
          ],
          "heatmapgl": [
           {
            "colorbar": {
             "outlinewidth": 0,
             "ticks": ""
            },
            "colorscale": [
             [
              0,
              "#0d0887"
             ],
             [
              0.1111111111111111,
              "#46039f"
             ],
             [
              0.2222222222222222,
              "#7201a8"
             ],
             [
              0.3333333333333333,
              "#9c179e"
             ],
             [
              0.4444444444444444,
              "#bd3786"
             ],
             [
              0.5555555555555556,
              "#d8576b"
             ],
             [
              0.6666666666666666,
              "#ed7953"
             ],
             [
              0.7777777777777778,
              "#fb9f3a"
             ],
             [
              0.8888888888888888,
              "#fdca26"
             ],
             [
              1,
              "#f0f921"
             ]
            ],
            "type": "heatmapgl"
           }
          ],
          "histogram": [
           {
            "marker": {
             "pattern": {
              "fillmode": "overlay",
              "size": 10,
              "solidity": 0.2
             }
            },
            "type": "histogram"
           }
          ],
          "histogram2d": [
           {
            "colorbar": {
             "outlinewidth": 0,
             "ticks": ""
            },
            "colorscale": [
             [
              0,
              "#0d0887"
             ],
             [
              0.1111111111111111,
              "#46039f"
             ],
             [
              0.2222222222222222,
              "#7201a8"
             ],
             [
              0.3333333333333333,
              "#9c179e"
             ],
             [
              0.4444444444444444,
              "#bd3786"
             ],
             [
              0.5555555555555556,
              "#d8576b"
             ],
             [
              0.6666666666666666,
              "#ed7953"
             ],
             [
              0.7777777777777778,
              "#fb9f3a"
             ],
             [
              0.8888888888888888,
              "#fdca26"
             ],
             [
              1,
              "#f0f921"
             ]
            ],
            "type": "histogram2d"
           }
          ],
          "histogram2dcontour": [
           {
            "colorbar": {
             "outlinewidth": 0,
             "ticks": ""
            },
            "colorscale": [
             [
              0,
              "#0d0887"
             ],
             [
              0.1111111111111111,
              "#46039f"
             ],
             [
              0.2222222222222222,
              "#7201a8"
             ],
             [
              0.3333333333333333,
              "#9c179e"
             ],
             [
              0.4444444444444444,
              "#bd3786"
             ],
             [
              0.5555555555555556,
              "#d8576b"
             ],
             [
              0.6666666666666666,
              "#ed7953"
             ],
             [
              0.7777777777777778,
              "#fb9f3a"
             ],
             [
              0.8888888888888888,
              "#fdca26"
             ],
             [
              1,
              "#f0f921"
             ]
            ],
            "type": "histogram2dcontour"
           }
          ],
          "mesh3d": [
           {
            "colorbar": {
             "outlinewidth": 0,
             "ticks": ""
            },
            "type": "mesh3d"
           }
          ],
          "parcoords": [
           {
            "line": {
             "colorbar": {
              "outlinewidth": 0,
              "ticks": ""
             }
            },
            "type": "parcoords"
           }
          ],
          "pie": [
           {
            "automargin": true,
            "type": "pie"
           }
          ],
          "scatter": [
           {
            "fillpattern": {
             "fillmode": "overlay",
             "size": 10,
             "solidity": 0.2
            },
            "type": "scatter"
           }
          ],
          "scatter3d": [
           {
            "line": {
             "colorbar": {
              "outlinewidth": 0,
              "ticks": ""
             }
            },
            "marker": {
             "colorbar": {
              "outlinewidth": 0,
              "ticks": ""
             }
            },
            "type": "scatter3d"
           }
          ],
          "scattercarpet": [
           {
            "marker": {
             "colorbar": {
              "outlinewidth": 0,
              "ticks": ""
             }
            },
            "type": "scattercarpet"
           }
          ],
          "scattergeo": [
           {
            "marker": {
             "colorbar": {
              "outlinewidth": 0,
              "ticks": ""
             }
            },
            "type": "scattergeo"
           }
          ],
          "scattergl": [
           {
            "marker": {
             "colorbar": {
              "outlinewidth": 0,
              "ticks": ""
             }
            },
            "type": "scattergl"
           }
          ],
          "scattermapbox": [
           {
            "marker": {
             "colorbar": {
              "outlinewidth": 0,
              "ticks": ""
             }
            },
            "type": "scattermapbox"
           }
          ],
          "scatterpolar": [
           {
            "marker": {
             "colorbar": {
              "outlinewidth": 0,
              "ticks": ""
             }
            },
            "type": "scatterpolar"
           }
          ],
          "scatterpolargl": [
           {
            "marker": {
             "colorbar": {
              "outlinewidth": 0,
              "ticks": ""
             }
            },
            "type": "scatterpolargl"
           }
          ],
          "scatterternary": [
           {
            "marker": {
             "colorbar": {
              "outlinewidth": 0,
              "ticks": ""
             }
            },
            "type": "scatterternary"
           }
          ],
          "surface": [
           {
            "colorbar": {
             "outlinewidth": 0,
             "ticks": ""
            },
            "colorscale": [
             [
              0,
              "#0d0887"
             ],
             [
              0.1111111111111111,
              "#46039f"
             ],
             [
              0.2222222222222222,
              "#7201a8"
             ],
             [
              0.3333333333333333,
              "#9c179e"
             ],
             [
              0.4444444444444444,
              "#bd3786"
             ],
             [
              0.5555555555555556,
              "#d8576b"
             ],
             [
              0.6666666666666666,
              "#ed7953"
             ],
             [
              0.7777777777777778,
              "#fb9f3a"
             ],
             [
              0.8888888888888888,
              "#fdca26"
             ],
             [
              1,
              "#f0f921"
             ]
            ],
            "type": "surface"
           }
          ],
          "table": [
           {
            "cells": {
             "fill": {
              "color": "#EBF0F8"
             },
             "line": {
              "color": "white"
             }
            },
            "header": {
             "fill": {
              "color": "#C8D4E3"
             },
             "line": {
              "color": "white"
             }
            },
            "type": "table"
           }
          ]
         },
         "layout": {
          "annotationdefaults": {
           "arrowcolor": "#2a3f5f",
           "arrowhead": 0,
           "arrowwidth": 1
          },
          "autotypenumbers": "strict",
          "coloraxis": {
           "colorbar": {
            "outlinewidth": 0,
            "ticks": ""
           }
          },
          "colorscale": {
           "diverging": [
            [
             0,
             "#8e0152"
            ],
            [
             0.1,
             "#c51b7d"
            ],
            [
             0.2,
             "#de77ae"
            ],
            [
             0.3,
             "#f1b6da"
            ],
            [
             0.4,
             "#fde0ef"
            ],
            [
             0.5,
             "#f7f7f7"
            ],
            [
             0.6,
             "#e6f5d0"
            ],
            [
             0.7,
             "#b8e186"
            ],
            [
             0.8,
             "#7fbc41"
            ],
            [
             0.9,
             "#4d9221"
            ],
            [
             1,
             "#276419"
            ]
           ],
           "sequential": [
            [
             0,
             "#0d0887"
            ],
            [
             0.1111111111111111,
             "#46039f"
            ],
            [
             0.2222222222222222,
             "#7201a8"
            ],
            [
             0.3333333333333333,
             "#9c179e"
            ],
            [
             0.4444444444444444,
             "#bd3786"
            ],
            [
             0.5555555555555556,
             "#d8576b"
            ],
            [
             0.6666666666666666,
             "#ed7953"
            ],
            [
             0.7777777777777778,
             "#fb9f3a"
            ],
            [
             0.8888888888888888,
             "#fdca26"
            ],
            [
             1,
             "#f0f921"
            ]
           ],
           "sequentialminus": [
            [
             0,
             "#0d0887"
            ],
            [
             0.1111111111111111,
             "#46039f"
            ],
            [
             0.2222222222222222,
             "#7201a8"
            ],
            [
             0.3333333333333333,
             "#9c179e"
            ],
            [
             0.4444444444444444,
             "#bd3786"
            ],
            [
             0.5555555555555556,
             "#d8576b"
            ],
            [
             0.6666666666666666,
             "#ed7953"
            ],
            [
             0.7777777777777778,
             "#fb9f3a"
            ],
            [
             0.8888888888888888,
             "#fdca26"
            ],
            [
             1,
             "#f0f921"
            ]
           ]
          },
          "colorway": [
           "#636efa",
           "#EF553B",
           "#00cc96",
           "#ab63fa",
           "#FFA15A",
           "#19d3f3",
           "#FF6692",
           "#B6E880",
           "#FF97FF",
           "#FECB52"
          ],
          "font": {
           "color": "#2a3f5f"
          },
          "geo": {
           "bgcolor": "white",
           "lakecolor": "white",
           "landcolor": "#E5ECF6",
           "showlakes": true,
           "showland": true,
           "subunitcolor": "white"
          },
          "hoverlabel": {
           "align": "left"
          },
          "hovermode": "closest",
          "mapbox": {
           "style": "light"
          },
          "paper_bgcolor": "white",
          "plot_bgcolor": "#E5ECF6",
          "polar": {
           "angularaxis": {
            "gridcolor": "white",
            "linecolor": "white",
            "ticks": ""
           },
           "bgcolor": "#E5ECF6",
           "radialaxis": {
            "gridcolor": "white",
            "linecolor": "white",
            "ticks": ""
           }
          },
          "scene": {
           "xaxis": {
            "backgroundcolor": "#E5ECF6",
            "gridcolor": "white",
            "gridwidth": 2,
            "linecolor": "white",
            "showbackground": true,
            "ticks": "",
            "zerolinecolor": "white"
           },
           "yaxis": {
            "backgroundcolor": "#E5ECF6",
            "gridcolor": "white",
            "gridwidth": 2,
            "linecolor": "white",
            "showbackground": true,
            "ticks": "",
            "zerolinecolor": "white"
           },
           "zaxis": {
            "backgroundcolor": "#E5ECF6",
            "gridcolor": "white",
            "gridwidth": 2,
            "linecolor": "white",
            "showbackground": true,
            "ticks": "",
            "zerolinecolor": "white"
           }
          },
          "shapedefaults": {
           "line": {
            "color": "#2a3f5f"
           }
          },
          "ternary": {
           "aaxis": {
            "gridcolor": "white",
            "linecolor": "white",
            "ticks": ""
           },
           "baxis": {
            "gridcolor": "white",
            "linecolor": "white",
            "ticks": ""
           },
           "bgcolor": "#E5ECF6",
           "caxis": {
            "gridcolor": "white",
            "linecolor": "white",
            "ticks": ""
           }
          },
          "title": {
           "x": 0.05
          },
          "xaxis": {
           "automargin": true,
           "gridcolor": "white",
           "linecolor": "white",
           "ticks": "",
           "title": {
            "standoff": 15
           },
           "zerolinecolor": "white",
           "zerolinewidth": 2
          },
          "yaxis": {
           "automargin": true,
           "gridcolor": "white",
           "linecolor": "white",
           "ticks": "",
           "title": {
            "standoff": 15
           },
           "zerolinecolor": "white",
           "zerolinewidth": 2
          }
         }
        },
        "xaxis": {
         "anchor": "y",
         "domain": [
          0,
          1
         ],
         "title": {
          "text": "id_val macro f1"
         }
        },
        "yaxis": {
         "anchor": "x",
         "domain": [
          0,
          1
         ],
         "title": {
          "text": "id_val sece"
         }
        }
       }
      }
     },
     "metadata": {},
     "output_type": "display_data"
    }
   ],
   "source": [
    "pareto_plot(data, \"id_val macro f1\", \"id_val sece\")"
   ]
  },
  {
   "cell_type": "code",
   "execution_count": null,
   "metadata": {},
   "outputs": [],
   "source": []
  }
 ],
 "metadata": {
  "kernelspec": {
   "display_name": "bdl2",
   "language": "python",
   "name": "python3"
  },
  "language_info": {
   "codemirror_mode": {
    "name": "ipython",
    "version": 3
   },
   "file_extension": ".py",
   "mimetype": "text/x-python",
   "name": "python",
   "nbconvert_exporter": "python",
   "pygments_lexer": "ipython3",
   "version": "3.10.10"
  },
  "orig_nbformat": 4,
  "vscode": {
   "interpreter": {
    "hash": "0e9c95055558620b86d9020eccd072ae63a5e4d40bac5aeb5a6ac17e5908658f"
   }
  }
 },
 "nbformat": 4,
 "nbformat_minor": 2
}
