{
 "cells": [
  {
   "cell_type": "code",
   "execution_count": 2,
   "metadata": {},
   "outputs": [
    {
     "name": "stdout",
     "output_type": "stream",
     "text": [
      "The autoreload extension is already loaded. To reload it, use:\n",
      "  %reload_ext autoreload\n"
     ]
    },
    {
     "name": "stderr",
     "output_type": "stream",
     "text": [
      "Failed to detect the name of this notebook, you can set it manually with the WANDB_NOTEBOOK_NAME environment variable to enable code saving.\n"
     ]
    },
    {
     "data": {
      "text/plain": []
     },
     "execution_count": 2,
     "metadata": {},
     "output_type": "execute_result"
    }
   ],
   "source": [
    "%load_ext autoreload\n",
    "%autoreload 2\n",
    "\n",
    "import sys\n",
    "sys.path.append(\"../../\")\n",
    "\n",
    "import torch\n",
    "import torch.nn as nn\n",
    "import torch.nn.functional as F\n",
    "import math\n",
    "DATA_PATH = \"../../data/\"\n",
    "\n",
    "if torch.cuda.is_available():\n",
    "    device = torch.device(\"cuda\")\n",
    "else:\n",
    "    device = torch.device(\"cpu\")\n",
    "\n",
    "from src.log_mock import PrintLog\n",
    "log = PrintLog()\n",
    "\n",
    "import wandb\n",
    "wandb.init(mode=\"disabled\")"
   ]
  },
  {
   "cell_type": "code",
   "execution_count": 2,
   "metadata": {},
   "outputs": [],
   "source": [
    "wapi = wandb.Api(timeout=60)\n",
    "runs = wapi.runs(\"foobar/amazon\")"
   ]
  },
  {
   "cell_type": "code",
   "execution_count": 3,
   "metadata": {},
   "outputs": [
    {
     "name": "stdout",
     "output_type": "stream",
     "text": [
      "svgd-0 dict_keys(['_step', '_timestamp', '10th_percentile_acc', 'ece', 'ood_test_results', '_wandb', '_runtime', 'accuracy', 'train_loss', 'bin_accuracies', 'log_likelihood', 'bin_confidences', 'sece', 'id_test_results', 'bin_counts'])\n",
      "svgd-1 dict_keys(['bin_counts', '_timestamp', '_step', 'log_likelihood', 'ood_test_results', '10th_percentile_acc', 'ece', 'bin_accuracies', 'bin_confidences', 'sece', '_runtime', 'accuracy', 'train_loss', 'id_test_results', '_wandb'])\n",
      "svgd-3 dict_keys(['log_likelihood', 'ood_test_results', '_step', '_wandb', '_runtime', 'accuracy', 'bin_counts', 'sece', 'train_loss', 'bin_confidences', 'id_test_results', '10th_percentile_acc', 'ece', '_timestamp', 'bin_accuracies'])\n",
      "svgd-4 dict_keys(['sece', 'id_test_results', '10th_percentile_acc', 'ood_test_results', '_step', '_timestamp', 'bin_counts', 'log_likelihood', 'bin_confidences', '_wandb', '_runtime', 'train_loss', 'ece', 'accuracy', 'bin_accuracies'])\n",
      "svgd-2 dict_keys(['log_likelihood', 'bin_confidences', 'id_test_results', 'ece', '_step', '_wandb', 'accuracy', 'bin_counts', 'sece', '_runtime', '_timestamp', 'bin_accuracies', 'train_loss', 'ood_test_results', '10th_percentile_acc'])\n",
      "svgd-1 dict_keys([])\n",
      "svgd-4 dict_keys([])\n",
      "svgd-3 dict_keys([])\n",
      "svgd-2 dict_keys([])\n",
      "svgd-1 dict_keys([])\n",
      "svgd-0 dict_keys([])\n",
      "ll_ivon_5-(4) dict_keys(['_step', '_wandb', '_runtime', '_timestamp', 'id_test_results', 'ood_test_results'])\n",
      "ll_ivon_5-(0) dict_keys(['_runtime', '_timestamp', 'id_test_results', 'ood_test_results', '_step', '_wandb'])\n",
      "ll_ivon_5-(3) dict_keys(['_step', '_wandb', '_runtime', '_timestamp', 'id_test_results', 'ood_test_results'])\n",
      "ll_ivon_5-(2) dict_keys(['_timestamp', 'id_test_results', 'ood_test_results', '_step', '_wandb', '_runtime'])\n",
      "ll_ivon_5-(1) dict_keys(['_timestamp', 'id_test_results', 'ood_test_results', '_step', '_wandb', '_runtime'])\n",
      "svgd-4 dict_keys(['_step', '_runtime', '_timestamp', 'train_loss'])\n",
      "svgd-3 dict_keys(['train_loss', '_step', '_runtime', '_timestamp'])\n",
      "svgd-2 dict_keys(['_step', '_runtime', '_timestamp', 'train_loss'])\n",
      "svgd-1 dict_keys(['_step', '_runtime', '_timestamp', 'train_loss'])\n",
      "svgd-0 dict_keys(['train_loss', '_step', '_runtime', '_timestamp'])\n",
      "ll_ivon-5 dict_keys(['ece', '_step', '_wandb', 'log_likelihood', 'id_test_results', '_runtime', 'accuracy', 'bin_counts', '10th_percentile_acc', 'bin_confidences', 'sece', '_timestamp', 'train_loss', 'bin_accuracies', 'ood_test_results'])\n",
      "ll_ivon-4 dict_keys(['_wandb', 'id_test_results', 'ood_test_results', 'train_loss', 'bin_accuracies', 'bin_confidences', '10th_percentile_acc', 'sece', '_step', '_runtime', 'accuracy', 'ece', '_timestamp', 'bin_counts', 'log_likelihood'])\n",
      "ll_ivon-3 dict_keys(['ece', '_timestamp', 'bin_accuracies', '10th_percentile_acc', 'sece', '_step', 'accuracy', 'log_likelihood', 'bin_confidences', 'ood_test_results', '_wandb', '_runtime', 'bin_counts', 'train_loss', 'id_test_results'])\n",
      "ll_ivon-2 dict_keys(['_step', 'bin_confidences', '_runtime', 'bin_counts', 'bin_accuracies', 'ood_test_results', '10th_percentile_acc', 'ece', 'sece', 'accuracy', 'train_loss', 'log_likelihood', '_wandb', '_timestamp', 'id_test_results'])\n",
      "ll_ivon-1 dict_keys(['_runtime', 'train_loss', 'ood_test_results', '_step', 'accuracy', 'id_test_results', 'ece', '_wandb', 'bin_counts', 'bin_accuracies', 'log_likelihood', 'bin_confidences', '10th_percentile_acc', 'sece', '_timestamp'])\n",
      "ll_ivon-0 dict_keys(['sece', 'id_test_results', 'bin_confidences', '10th_percentile_acc', '_runtime', 'accuracy', '_timestamp', 'train_loss', 'bin_accuracies', 'ece', '_wandb', '_step', 'bin_counts', 'log_likelihood', 'ood_test_results'])\n",
      "ll_ivon-0 dict_keys(['_step', '_wandb', '_runtime', '_timestamp', 'train_loss'])\n",
      "ll_ivon-0 dict_keys(['train_loss', '_step', '_wandb', '_runtime', '_timestamp'])\n",
      "ll_swag-2 dict_keys(['accuracy', '_timestamp', 'bin_counts', 'ood_test_results', '10th_percentile_acc', '_step', '_runtime', 'train_loss', 'sece', 'bin_accuracies', 'bin_confidences', 'ece', '_wandb', 'log_likelihood', 'id_test_results'])\n",
      "ll_swag-0 dict_keys(['accuracy', '_timestamp', 'bin_accuracies', '10th_percentile_acc', 'ece', 'bin_counts', 'bin_confidences', 'sece', '_step', '_runtime', 'train_loss', '_wandb', 'log_likelihood', 'id_test_results', 'ood_test_results'])\n",
      "ll_swag-1 dict_keys(['_wandb', 'bin_accuracies', 'id_test_results', 'ood_test_results', '10th_percentile_acc', 'ece', 'sece', '_runtime', 'bin_counts', '_timestamp', 'log_likelihood', '_step', 'accuracy', 'train_loss', 'bin_confidences'])\n",
      "ll_swag-5 dict_keys(['id_test_results', '_timestamp', 'bin_accuracies', 'bin_confidences', 'ece', '_step', '_wandb', 'sece', 'train_loss', 'log_likelihood', 'ood_test_results', '10th_percentile_acc', '_runtime', 'accuracy', 'bin_counts'])\n",
      "ll_swag-3 dict_keys(['sece', '_timestamp', 'bin_counts', 'log_likelihood', 'id_test_results', '_wandb', 'accuracy', 'ood_test_results', '_runtime', 'train_loss', 'bin_accuracies', '10th_percentile_acc', 'ece', '_step', 'bin_confidences'])\n",
      "ll_swag-4 dict_keys(['ece', 'bin_accuracies', 'id_test_results', 'bin_counts', 'ood_test_results', '10th_percentile_acc', '_step', '_runtime', 'accuracy', '_timestamp', 'train_loss', 'log_likelihood', 'bin_confidences', 'sece', '_wandb'])\n",
      "ll_swag-3 dict_keys(['_wandb'])\n",
      "ll_swag-2 dict_keys(['_wandb'])\n",
      "ll_swag-0 dict_keys(['_wandb'])\n",
      "ll_swag-5 dict_keys(['_wandb'])\n",
      "ll_swag-4 dict_keys(['_wandb'])\n",
      "ll_swag-1 dict_keys(['_wandb'])\n",
      "mcd-4 dict_keys([])\n",
      "swag_5-(4) dict_keys(['_step', '_wandb', '_runtime', '_timestamp', 'id_test_results', 'ood_test_results'])\n",
      "swag_5-(2) dict_keys(['_timestamp', 'id_test_results', 'ood_test_results', '_step', '_wandb', '_runtime'])\n",
      "swag_5-(3) dict_keys(['ood_test_results', '_step', '_wandb', '_runtime', '_timestamp', 'id_test_results'])\n",
      "mcd_ll-5 dict_keys(['_step', '_wandb', '_runtime', '_timestamp', 'id_test_results', 'ood_test_results'])\n",
      "swag_5-(0) dict_keys(['ood_test_results', '_step', '_wandb', '_runtime', '_timestamp', 'id_test_results'])\n",
      "swag_5-(1) dict_keys(['ood_test_results', '_step', '_wandb', '_runtime', '_timestamp', 'id_test_results'])\n",
      "mcd_ll-4 dict_keys(['_step', '_wandb', '_runtime', '_timestamp', 'id_test_results', 'ood_test_results'])\n",
      "mcd_ll-2 dict_keys(['_step', '_wandb', '_runtime', '_timestamp', 'id_test_results', 'ood_test_results'])\n",
      "mcd_ll-3 dict_keys(['_step', '_wandb', '_runtime', '_timestamp', 'id_test_results', 'ood_test_results'])\n",
      "mcd_ll-0 dict_keys(['_timestamp', 'id_test_results', 'ood_test_results', '_step', '_wandb', '_runtime'])\n",
      "mcd_ll-1 dict_keys(['id_test_results', 'ood_test_results', '_step', '_wandb', '_runtime', '_timestamp'])\n",
      "laplace_5-4 dict_keys(['_timestamp', 'id_test_results', 'ood_test_results', '_step', '_wandb', '_runtime'])\n",
      "laplace_1-(4) dict_keys(['id_test_results', 'ood_test_results', '_step', '_wandb', '_runtime', '_timestamp'])\n",
      "laplace_5-3 dict_keys(['_timestamp', 'id_test_results', 'ood_test_results', '_step', '_wandb', '_runtime'])\n",
      "laplace_1-(3) dict_keys(['_step', '_wandb', '_runtime', '_timestamp', 'id_test_results', 'ood_test_results'])\n",
      "laplace_5-2 dict_keys(['_runtime', '_timestamp', 'id_test_results', 'ood_test_results', '_step', '_wandb'])\n",
      "laplace_1-(2) dict_keys(['_step', '_wandb', '_runtime', '_timestamp', 'id_test_results', 'ood_test_results'])\n",
      "laplace_5-1 dict_keys(['id_test_results', 'ood_test_results', '_step', '_wandb', '_runtime', '_timestamp'])\n",
      "laplace_1-(1) dict_keys(['_step', '_wandb', '_runtime', '_timestamp', 'id_test_results', 'ood_test_results'])\n",
      "laplace_5-0 dict_keys(['ood_test_results', '_step', '_wandb', '_runtime', '_timestamp', 'id_test_results'])\n",
      "laplace_1-(0) dict_keys(['_step', '_wandb', '_runtime', '_timestamp', 'id_test_results', 'ood_test_results'])\n",
      "swag-4 dict_keys(['_wandb', 'accuracy', 'log_likelihood', 'bin_confidences', '10th_percentile_acc', '_step', '_runtime', '_timestamp', 'bin_accuracies', 'id_test_results', 'ood_test_results', 'train_loss', 'ece', 'sece', 'bin_counts'])\n",
      "swag-5 dict_keys(['log_likelihood', 'bin_confidences', 'id_test_results', 'ood_test_results', '10th_percentile_acc', '_runtime', 'train_loss', 'sece', '_wandb', 'accuracy', '_timestamp', 'bin_counts', 'bin_accuracies', 'ece', '_step'])\n",
      "swag-3 dict_keys(['train_loss', 'ood_test_results', 'ece', '_runtime', '_timestamp', 'bin_counts', 'bin_confidences', '10th_percentile_acc', 'sece', 'accuracy', '_step', 'bin_accuracies', 'id_test_results', '_wandb', 'log_likelihood'])\n",
      "swag-2 dict_keys(['_step', 'accuracy', '_timestamp', 'bin_counts', 'id_test_results', 'ood_test_results', 'ece', 'sece', '_wandb', 'bin_accuracies', 'log_likelihood', 'train_loss', '10th_percentile_acc', '_runtime', 'bin_confidences'])\n",
      "swag-1 dict_keys(['_wandb', 'ood_test_results', '10th_percentile_acc', '_timestamp', 'train_loss', 'bin_confidences', 'id_test_results', 'ece', 'bin_counts', 'bin_accuracies', 'accuracy', 'log_likelihood', 'sece', '_step', '_runtime'])\n",
      "swag-0 dict_keys(['bin_accuracies', 'id_test_results', 'ood_test_results', 'accuracy', 'log_likelihood', 'train_loss', 'bin_counts', '_timestamp', 'sece', '_step', '_wandb', '_runtime', 'bin_confidences', '10th_percentile_acc', 'ece'])\n",
      "laplace_5-2 dict_keys([])\n",
      "laplace_1-(2) dict_keys(['_step', '_wandb', '_runtime', '_timestamp', 'id_test_results', 'ood_test_results'])\n",
      "laplace_5-1 dict_keys(['_step', '_wandb', '_runtime', '_timestamp', 'id_test_results', 'ood_test_results'])\n",
      "laplace_1-(1) dict_keys(['_wandb', '_runtime', '_timestamp', 'id_test_results', 'ood_test_results', '_step'])\n",
      "laplace_5-0 dict_keys(['_step', '_wandb', '_runtime', '_timestamp', 'id_test_results', 'ood_test_results'])\n",
      "laplace_1-(0) dict_keys(['id_test_results', 'ood_test_results', '_step', '_wandb', '_runtime', '_timestamp'])\n",
      "rank1-3 dict_keys(['log_likelihood', 'ood_test_results', '10th_percentile_acc', 'bin_counts', 'bin_accuracies', 'bin_confidences', 'accuracy', 'id_test_results', 'sece', '_wandb', '_runtime', '_timestamp', 'train_loss', 'ece', '_step'])\n",
      "rank1-2 dict_keys(['ece', 'sece', 'bin_accuracies', '_runtime', '_timestamp', 'bin_counts', 'bin_confidences', '_step', 'accuracy', 'train_loss', 'ood_test_results', '_wandb', 'log_likelihood', 'id_test_results', '10th_percentile_acc'])\n",
      "rank1-4 dict_keys(['accuracy', 'id_test_results', 'train_loss', 'log_likelihood', 'bin_confidences', 'ood_test_results', 'sece', '_runtime', '_timestamp', 'ece', '_step', '_wandb', 'bin_counts', 'bin_accuracies', '10th_percentile_acc'])\n",
      "rank1-5 dict_keys(['_step', 'bin_accuracies', '10th_percentile_acc', 'ece', 'sece', '_runtime', 'id_test_results', '_wandb', 'accuracy', 'log_likelihood', '_timestamp', 'bin_counts', 'train_loss', 'bin_confidences', 'ood_test_results'])\n",
      "rank1-0 dict_keys(['_wandb', '_timestamp', 'log_likelihood', 'sece', 'bin_confidences', 'ood_test_results', 'train_loss', 'bin_accuracies', '10th_percentile_acc', 'ece', '_step', 'accuracy', '_runtime', 'bin_counts', 'id_test_results'])\n",
      "swag-0 dict_keys(['_wandb'])\n",
      "swag-0 dict_keys(['_wandb'])\n",
      "rank1-1 dict_keys(['_timestamp', 'bin_accuracies', 'log_likelihood', '_wandb', '_runtime', 'accuracy', 'bin_counts', 'sece', 'train_loss', 'bin_confidences', 'id_test_results', 'ece', '_step', 'ood_test_results', '10th_percentile_acc'])\n",
      "bbb_5-(4) dict_keys(['_runtime', '_timestamp', 'id_test_results', 'ood_test_results', '_step', '_wandb'])\n",
      "bbb_5-(3) dict_keys(['_wandb', '_runtime', '_timestamp', 'id_test_results', 'ood_test_results', '_step'])\n",
      "bbb_5-(2) dict_keys(['_timestamp', 'id_test_results', 'ood_test_results', '_step', '_wandb', '_runtime'])\n",
      "bbb_5-(1) dict_keys(['ood_test_results', '_step', '_wandb', '_runtime', '_timestamp', 'id_test_results'])\n",
      "mcd_5-(4) dict_keys(['_step', '_wandb', '_runtime', '_timestamp', 'id_test_results', 'ood_test_results'])\n",
      "bbb_5-(0) dict_keys(['_step', '_wandb', '_runtime', '_timestamp', 'id_test_results', 'ood_test_results'])\n",
      "mcd_5-(2) dict_keys(['_runtime', '_timestamp', 'id_test_results', 'ood_test_results', '_step', '_wandb'])\n",
      "mcd_5-(3) dict_keys(['_step', '_wandb', '_runtime', '_timestamp', 'id_test_results', 'ood_test_results'])\n",
      "mcd_5-(1) dict_keys(['id_test_results', 'ood_test_results', '_step', '_wandb', '_runtime', '_timestamp'])\n",
      "mcd_5-(0) dict_keys(['_runtime', '_timestamp', 'id_test_results', 'ood_test_results', '_step', '_wandb'])\n",
      "bbb-4 dict_keys(['_timestamp', 'id_test_results', 'ood_test_results', '_step', '_wandb', '_runtime'])\n",
      "map_5-(4) dict_keys(['_timestamp', 'id_test_results', 'ood_test_results', '_step', '_wandb', '_runtime'])\n",
      "bbb-5 dict_keys(['id_test_results', 'ood_test_results', '_step', '_wandb', '_runtime', '_timestamp'])\n",
      "map_5-(3) dict_keys(['_timestamp', 'id_test_results', 'ood_test_results', '_step', '_wandb', '_runtime'])\n",
      "map_5-(2) dict_keys(['_timestamp', 'id_test_results', 'ood_test_results', '_step', '_wandb', '_runtime'])\n",
      "map_5-(1) dict_keys(['ood_test_results', '_step', '_wandb', '_runtime', '_timestamp', 'id_test_results'])\n",
      "map_5-(0) dict_keys(['ood_test_results', '_step', '_wandb', '_runtime', '_timestamp', 'id_test_results'])\n",
      "bbb-3 dict_keys(['_step', '_wandb', '_runtime', '_timestamp', 'id_test_results', 'ood_test_results'])\n",
      "bbb-2 dict_keys(['_wandb', '_runtime', '_timestamp', 'id_test_results', 'ood_test_results', '_step'])\n",
      "bbb-1 dict_keys(['_step', '_wandb', '_runtime', '_timestamp', 'id_test_results', 'ood_test_results'])\n",
      "bbb-0 dict_keys(['_runtime', '_timestamp', 'id_test_results', 'ood_test_results', '_step', '_wandb'])\n",
      "map-5 dict_keys(['_timestamp', 'train_loss', '_step', '_runtime'])\n",
      "mcd-0 dict_keys(['_step', '_runtime', '_timestamp', 'train_loss'])\n",
      "map-4 dict_keys(['_step', '_runtime', '_timestamp', 'train_loss'])\n",
      "map-2 dict_keys(['bin_accuracies', '10th_percentile_acc', 'ece', 'sece', '_step', '_runtime', '_timestamp', 'accuracy', 'bin_counts', 'log_likelihood', 'bin_confidences'])\n",
      "map-3 dict_keys(['_step', '_runtime', '_timestamp', 'train_loss'])\n",
      "map-1 dict_keys(['train_loss', '10th_percentile_acc', 'ece', 'sece', '_runtime', 'accuracy', '_timestamp', 'bin_counts', 'log_likelihood', 'bin_confidences', '_step', '_wandb', 'bin_accuracies', 'id_test_results', 'ood_test_results'])\n",
      "bbb-5 dict_keys(['_timestamp', 'train_loss', '_step', '_runtime'])\n",
      "bbb-4 dict_keys(['_step', '_runtime', '_timestamp', 'train_loss'])\n",
      "bbb-3 dict_keys(['train_loss', '_step', '_runtime', '_timestamp'])\n",
      "map-0 dict_keys(['ece', 'bin_counts', 'log_likelihood', '_wandb', 'bin_accuracies', 'id_test_results', '10th_percentile_acc', 'sece', '_step', '_runtime', 'train_loss', 'bin_confidences', 'accuracy', '_timestamp', 'ood_test_results'])\n",
      "bbb-2 dict_keys(['_step', '_runtime', '_timestamp', 'train_loss'])\n",
      "bbb-1 dict_keys(['train_loss', '_step', '_runtime', '_timestamp'])\n",
      "bbb-0 dict_keys(['_runtime', '_timestamp', 'train_loss', '_step'])\n",
      "swag-5 dict_keys(['ece', '_step', '_timestamp', 'log_likelihood', '10th_percentile_acc', 'sece', '_runtime', 'accuracy', 'bin_counts', 'bin_accuracies', 'bin_confidences'])\n",
      "swag-4 dict_keys(['sece', '_timestamp', 'train_loss', 'bin_confidences', '10th_percentile_acc', '_step', 'bin_counts', 'ood_test_results', 'ece', '_wandb', 'bin_accuracies', '_runtime', 'accuracy', 'log_likelihood', 'id_test_results'])\n",
      "swag-3 dict_keys(['bin_counts', 'train_loss', 'ood_test_results', 'accuracy', '_timestamp', 'id_test_results', '10th_percentile_acc', 'ece', '_step', 'log_likelihood', '_wandb', '_runtime', 'bin_confidences', 'sece', 'bin_accuracies'])\n",
      "swag-2 dict_keys(['_step', '_runtime', '_timestamp', 'train_loss'])\n",
      "swag-1 dict_keys(['bin_confidences', 'ece', '_step', '_wandb', 'accuracy', 'bin_counts', 'bin_accuracies', 'log_likelihood', 'id_test_results', 'ood_test_results', '10th_percentile_acc', '_timestamp', 'sece', '_runtime', 'train_loss'])\n",
      "mcd-5 dict_keys(['bin_counts', 'train_loss', 'sece', 'accuracy', 'log_likelihood', 'bin_confidences', 'ece', '_step', '_wandb', 'id_test_results', 'bin_accuracies', 'ood_test_results', '10th_percentile_acc', '_runtime', '_timestamp'])\n",
      "swag-0 dict_keys(['bin_accuracies', 'id_test_results', 'ece', '_runtime', 'bin_confidences', '_step', 'accuracy', 'ood_test_results', '_timestamp', 'log_likelihood', 'bin_counts', 'train_loss', '10th_percentile_acc', 'sece', '_wandb'])\n",
      "mcd-4 dict_keys(['accuracy', 'train_loss', 'id_test_results', '_step', '_runtime', 'ood_test_results', '10th_percentile_acc', 'ece', 'sece', '_wandb', '_timestamp', 'log_likelihood', 'bin_counts', 'bin_accuracies', 'bin_confidences'])\n",
      "mcd-3 dict_keys(['sece', '_runtime', 'log_likelihood', 'ece', 'train_loss', 'bin_accuracies', 'bin_confidences', 'bin_counts', 'ood_test_results', '_step', '_wandb', 'accuracy', '_timestamp', 'id_test_results', '10th_percentile_acc'])\n",
      "mcd-2 dict_keys(['ece', '_timestamp', 'bin_counts', '_wandb', '_runtime', 'train_loss', 'ood_test_results', 'sece', '_step', 'accuracy', 'bin_accuracies', 'bin_confidences', 'id_test_results', 'log_likelihood', '10th_percentile_acc'])\n",
      "mcd-1 dict_keys(['_step', 'bin_accuracies', 'id_test_results', 'ood_test_results', 'bin_confidences', 'ece', 'sece', '_wandb', 'bin_counts', '_runtime', 'accuracy', 'train_loss', '10th_percentile_acc', '_timestamp', 'log_likelihood'])\n",
      "map-5 dict_keys(['10th_percentile_acc', 'bin_counts', '_step', '_runtime', 'bin_accuracies', 'sece', '_timestamp', 'train_loss', 'bin_confidences', 'id_test_results', 'ood_test_results', 'accuracy', '_wandb', 'log_likelihood', 'ece'])\n",
      "mcd-0 dict_keys(['bin_accuracies', 'ood_test_results', '_runtime', '_timestamp', '10th_percentile_acc', 'ece', '_step', 'train_loss', 'log_likelihood', 'bin_confidences', 'id_test_results', 'sece', '_wandb', 'accuracy', 'bin_counts'])\n",
      "map-4 dict_keys(['ood_test_results', 'ece', '_wandb', 'accuracy', 'bin_counts', 'bin_accuracies', 'bin_confidences', 'train_loss', '10th_percentile_acc', '_runtime', 'log_likelihood', 'sece', '_step', '_timestamp', 'id_test_results'])\n",
      "map-3 dict_keys(['bin_confidences', '_step', '_runtime', '_timestamp', 'bin_accuracies', 'log_likelihood', 'sece', 'accuracy', 'ece', 'train_loss', '_wandb', 'bin_counts', 'id_test_results', 'ood_test_results', '10th_percentile_acc'])\n",
      "map-2 dict_keys(['ece', 'bin_accuracies', 'sece', 'bin_confidences', '_step', '_runtime', 'bin_counts', 'train_loss', '_wandb', 'accuracy', '_timestamp', 'log_likelihood', 'id_test_results', 'ood_test_results', '10th_percentile_acc'])\n",
      "map-1 dict_keys(['10th_percentile_acc', 'ece', 'sece', '_wandb', 'accuracy', 'ood_test_results', '_step', '_timestamp', 'bin_accuracies', 'id_test_results', 'bin_confidences', '_runtime', 'bin_counts', 'train_loss', 'log_likelihood'])\n",
      "map-0 dict_keys(['_step', '_timestamp', 'ece', 'sece', 'bin_counts', 'train_loss', 'bin_accuracies', 'bin_confidences', 'id_test_results', 'accuracy', 'log_likelihood', 'ood_test_results', '_wandb', '_runtime', '10th_percentile_acc'])\n",
      "map-0 dict_keys(['10th_percentile_acc', 'train_loss', 'log_likelihood', 'bin_confidences', '_timestamp', 'ood_test_results', 'bin_accuracies', 'ece', '_step', 'accuracy', 'bin_counts', 'id_test_results', 'sece', '_wandb', '_runtime'])\n",
      "map_5-(0) dict_keys(['ood_test_results', '_step', '_wandb', '_runtime', '_timestamp', 'id_test_results'])\n",
      "map-0 dict_keys(['_runtime', '_timestamp', 'train_loss', 'id_test_results', 'ood_test_results', '_step', '_wandb'])\n",
      "bbb-3 dict_keys(['_step', '_wandb', '_runtime', '_timestamp', 'train_loss'])\n",
      "bbb-2 dict_keys(['_step', '_wandb', '_runtime', '_timestamp', 'train_loss'])\n",
      "bbb-1 dict_keys(['_step', '_wandb', '_runtime', '_timestamp', 'train_loss'])\n",
      "bbb-4 dict_keys(['_step', '_wandb', '_runtime', '_timestamp', 'train_loss'])\n",
      "bbb-5 dict_keys(['train_loss', '_step', '_wandb', '_runtime', '_timestamp'])\n",
      "bbb-0 dict_keys(['_runtime', '_timestamp', 'train_loss', '_step', '_wandb'])\n",
      "swag-5 dict_keys(['_timestamp', 'train_loss', '_step', '_wandb', '_runtime'])\n",
      "swag-2 dict_keys(['id_test_results', 'ood_test_results', '_step', '_wandb', '_runtime', '_timestamp', 'train_loss'])\n",
      "map-1 dict_keys(['_step', '_wandb', '_runtime', '_timestamp', 'train_loss', 'id_test_results', 'ood_test_results'])\n",
      "map-0 dict_keys(['ood_test_results', '_step', '_wandb', '_runtime', '_timestamp', 'train_loss', 'id_test_results'])\n",
      "mcd-1 dict_keys(['ood_test_results', '_step', '_wandb', '_runtime', '_timestamp', 'train_loss', 'id_test_results'])\n",
      "map-4 dict_keys(['id_test_results', 'ood_test_results', '_step', '_wandb', '_runtime', '_timestamp', 'train_loss'])\n",
      "mcd-3 dict_keys(['_wandb', '_runtime', '_timestamp', 'train_loss', 'id_test_results', 'ood_test_results', '_step'])\n",
      "swag-1 dict_keys(['_step', '_wandb', '_runtime', '_timestamp', 'train_loss', 'id_test_results', 'ood_test_results'])\n",
      "map-2 dict_keys(['_wandb', '_runtime', '_timestamp', 'train_loss', 'id_test_results', 'ood_test_results', '_step'])\n",
      "mcd-2 dict_keys(['_timestamp', 'train_loss', 'id_test_results', 'ood_test_results', '_step', '_wandb', '_runtime'])\n",
      "mcd-5 dict_keys(['_step', '_wandb', '_runtime', '_timestamp', 'train_loss', 'id_test_results', 'ood_test_results'])\n",
      "swag-0 dict_keys(['id_test_results', 'ood_test_results', '_step', '_wandb', '_runtime', '_timestamp', 'train_loss'])\n",
      "mcd-4 dict_keys(['id_test_results', 'ood_test_results', '_step', '_wandb', '_runtime', '_timestamp', 'train_loss'])\n",
      "swag-3 dict_keys(['_step', '_wandb', '_runtime', '_timestamp', 'train_loss', 'id_test_results', 'ood_test_results'])\n",
      "map-3 dict_keys(['id_test_results', 'ood_test_results', '_step', '_wandb', '_runtime', '_timestamp', 'train_loss'])\n",
      "map-5 dict_keys(['_runtime', '_timestamp', 'train_loss', 'id_test_results', 'ood_test_results', '_step', '_wandb'])\n",
      "mcd-0 dict_keys(['id_test_results', 'ood_test_results', '_step', '_wandb', '_runtime', '_timestamp', 'train_loss'])\n",
      "swag-4 dict_keys(['_runtime', '_timestamp', 'train_loss', 'id_test_results', 'ood_test_results', '_step', '_wandb'])\n",
      "map-0 dict_keys(['_wandb', '_runtime', '_timestamp', 'train_loss', 'id_test_results', 'ood_test_results', '_step'])\n"
     ]
    }
   ],
   "source": [
    "for run in runs:\n",
    "    print(run.name, run.summary.keys())"
   ]
  },
  {
   "cell_type": "code",
   "execution_count": 4,
   "metadata": {},
   "outputs": [],
   "source": [
    "def create_reliability_plot(results):\n",
    "    print(f\"sECE: {results['sece']:.4f}, ECE: {results['ece']:.4f}\")\n",
    "    bins = list(filter(lambda x: x[0] > 0, zip(results[\"bin_confidences\"], results[\"bin_accuracies\"], results[\"bin_counts\"])))\n",
    "\n",
    "    print(\"\\\\begin{tikzpicture}\")\n",
    "    print(\"    \\\\begin{axis}[calstyle, xmin=0, xmax=1, ymin=0, ymax=1]\")\n",
    "    print(\"        \\\\addplot[dashed, color=black] coordinates {(0,0) (1,1)};\")\n",
    "    print(\"        \\\\addplot[calline] coordinates {\" + \" \".join(map(lambda x: f\"({x[0]}, {x[1]})\", bins)) + \"};\")\n",
    "    for conf, acc, count in list(bins):\n",
    "        print(f\"        \\\\node[above, anchor=south west, rotate=60, font=\\\\tiny] at (axis cs:{conf}, 1.0) {{{count}}};\")\n",
    "        print(f\"        \\\\draw[dotted, color=black] (axis cs:{conf}, {acc}) -- (axis cs:{conf}, 1.0);\")\n",
    "    print(\"    \\\\end{axis}\")\n",
    "    print(\"\\\\end{tikzpicture}\")"
   ]
  },
  {
   "cell_type": "code",
   "execution_count": 5,
   "metadata": {},
   "outputs": [],
   "source": [
    "import plotly.express as px\n",
    "import pandas as pd\n",
    "import dateutil\n",
    "import datetime\n",
    "\n",
    "def create_plot_data_for_run(run):\n",
    "    parts = run.name.split(\"-\")\n",
    "    if len(parts) > 2:\n",
    "        model_name = parts[0] + \"-\" + parts[1]\n",
    "    else:\n",
    "        model_name = parts[0]\n",
    "\n",
    "    print(f\"Including {model_name}\")\n",
    "    create_reliability_plot(run.summary[\"ood_test_results\"])\n",
    "\n",
    "    return {\n",
    "        \"model\": model_name,\n",
    "        \"ood accuracy\": run.summary[\"ood_test_results\"][\"accuracy\"],\n",
    "        \"ood 10th_percentile_acc\": run.summary[\"ood_test_results\"][\"10th_percentile_acc\"],\n",
    "        \"ood log likelihood\": run.summary[\"ood_test_results\"][\"log_likelihood\"],\n",
    "        \"ood ece\": run.summary[\"ood_test_results\"][\"ece\"],\n",
    "        \"ood sece\": run.summary[\"ood_test_results\"][\"sece\"],\n",
    "        \"id accuracy\": run.summary[\"id_test_results\"][\"accuracy\"],\n",
    "        \"id 10th_percentile_acc\": run.summary[\"id_test_results\"][\"10th_percentile_acc\"],\n",
    "        \"id log likelihood\": run.summary[\"id_test_results\"][\"log_likelihood\"],\n",
    "        \"id ece\": run.summary[\"id_test_results\"][\"ece\"],\n",
    "        \"id sece\": run.summary[\"id_test_results\"][\"sece\"],\n",
    "    }\n",
    "\n",
    "def plot(data, value):\n",
    "    plot = px.box(data, x=\"model\", y=value, color=\"model\")\n",
    "    return plot\n",
    "\n",
    "def pareto_plot(data, x, y):\n",
    "    plot = px.scatter(data, x=x, error_x=f\"{x}_std\", y=y, error_y=f\"{y}_std\", color=\"model\")\n",
    "    return plot\n",
    "\n",
    "def build_data(runs):\n",
    "    rows = []\n",
    "    for run in runs:\n",
    "        if dateutil.parser.parse(run.created_at) < datetime.datetime(2023, 4, 27, 0, 0):\n",
    "            print(\"Skipping run \" + run.name + \" because it is older than the cutoff time\")\n",
    "            continue\n",
    "        if run.state != \"finished\":\n",
    "            continue\n",
    "        if \"old\" in run.tags:\n",
    "            print(\"Skipping old run \" + run.name)\n",
    "            continue\n",
    "        if \"ood_test_results\" not in run.summary:\n",
    "            print(\"Skipping crashed run \" + run.name)\n",
    "            continue\n",
    "        rows.append(create_plot_data_for_run(run))\n",
    "    return pd.DataFrame.from_dict(rows)\n",
    "\n",
    "def aggregate_data(data):\n",
    "    aggregated_data = data.groupby([\"model\"]).agg({\n",
    "        \"model\": \"first\",\n",
    "        \"ood 10th_percentile_acc\": [\"mean\", \"sem\"], \n",
    "        \"ood accuracy\": [\"mean\", \"sem\"], \n",
    "        \"ood log likelihood\": [\"mean\", \"sem\"], \n",
    "        \"ood sece\": [\"mean\", \"sem\"],\n",
    "        \"ood ece\": [\"mean\", \"sem\"],\n",
    "        \"id 10th_percentile_acc\": [\"mean\", \"sem\"], \n",
    "        \"id accuracy\": [\"mean\", \"sem\"], \n",
    "        \"id log likelihood\": [\"mean\", \"sem\"], \n",
    "        \"id sece\": [\"mean\", \"sem\"],\n",
    "        \"id ece\": [\"mean\", \"sem\"],\n",
    "    })\n",
    "    aggregated_data.columns = [a[0] + \"_std\" if a[1] == \"sem\" else a[0] for a in aggregated_data.columns.to_flat_index()]\n",
    "    aggregated_data[\"ood 10th_percentile_acc_std\"] *= 2.0\n",
    "    aggregated_data[\"ood accuracy_std\"] *= 2.0\n",
    "    aggregated_data[\"ood log likelihood_std\"] *= 2.0\n",
    "    aggregated_data[\"ood sece_std\"] *= 2.0\n",
    "    aggregated_data[\"ood ece_std\"] *= 2.0\n",
    "    aggregated_data[\"id 10th_percentile_acc_std\"] *= 2.0\n",
    "    aggregated_data[\"id accuracy_std\"] *= 2.0\n",
    "    aggregated_data[\"id log likelihood_std\"] *= 2.0\n",
    "    aggregated_data[\"id sece_std\"] *= 2.0\n",
    "    aggregated_data[\"id ece_std\"] *= 2.0\n",
    "    return aggregated_data"
   ]
  },
  {
   "cell_type": "code",
   "execution_count": 6,
   "metadata": {},
   "outputs": [
    {
     "name": "stdout",
     "output_type": "stream",
     "text": [
      "Including svgd\n",
      "sECE: -0.0549, ECE: 0.0549\n",
      "\\begin{tikzpicture}\n",
      "    \\begin{axis}[calstyle, xmin=0, xmax=1, ymin=0, ymax=1]\n",
      "        \\addplot[dashed, color=black] coordinates {(0,0) (1,1)};\n",
      "        \\addplot[calline] coordinates {(0.27743783593177795, 0.2384105920791626) (0.35889512300491333, 0.32244008779525757) (0.46239572763442993, 0.40612584352493286) (0.5498671531677246, 0.4888852536678314) (0.6498734951019287, 0.5814056992530823) (0.7493167519569397, 0.6803209781646729) (0.8529765605926514, 0.8019340634346008) (0.9401679635047911, 0.9101652503013612)};\n",
      "        \\node[above, anchor=south west, rotate=60, font=\\tiny] at (axis cs:0.27743783593177795, 1.0) {453};\n",
      "        \\draw[dotted, color=black] (axis cs:0.27743783593177795, 0.2384105920791626) -- (axis cs:0.27743783593177795, 1.0);\n",
      "        \\node[above, anchor=south west, rotate=60, font=\\tiny] at (axis cs:0.35889512300491333, 1.0) {2295};\n",
      "        \\draw[dotted, color=black] (axis cs:0.35889512300491333, 0.32244008779525757) -- (axis cs:0.35889512300491333, 1.0);\n",
      "        \\node[above, anchor=south west, rotate=60, font=\\tiny] at (axis cs:0.46239572763442993, 1.0) {7803};\n",
      "        \\draw[dotted, color=black] (axis cs:0.46239572763442993, 0.40612584352493286) -- (axis cs:0.46239572763442993, 1.0);\n",
      "        \\node[above, anchor=south west, rotate=60, font=\\tiny] at (axis cs:0.5498671531677246, 1.0) {18354};\n",
      "        \\draw[dotted, color=black] (axis cs:0.5498671531677246, 0.4888852536678314) -- (axis cs:0.5498671531677246, 1.0);\n",
      "        \\node[above, anchor=south west, rotate=60, font=\\tiny] at (axis cs:0.6498734951019287, 1.0) {17941};\n",
      "        \\draw[dotted, color=black] (axis cs:0.6498734951019287, 0.5814056992530823) -- (axis cs:0.6498734951019287, 1.0);\n",
      "        \\node[above, anchor=south west, rotate=60, font=\\tiny] at (axis cs:0.7493167519569397, 1.0) {16698};\n",
      "        \\draw[dotted, color=black] (axis cs:0.7493167519569397, 0.6803209781646729) -- (axis cs:0.7493167519569397, 1.0);\n",
      "        \\node[above, anchor=south west, rotate=60, font=\\tiny] at (axis cs:0.8529765605926514, 1.0) {16959};\n",
      "        \\draw[dotted, color=black] (axis cs:0.8529765605926514, 0.8019340634346008) -- (axis cs:0.8529765605926514, 1.0);\n",
      "        \\node[above, anchor=south west, rotate=60, font=\\tiny] at (axis cs:0.9401679635047911, 1.0) {19547};\n",
      "        \\draw[dotted, color=black] (axis cs:0.9401679635047911, 0.9101652503013612) -- (axis cs:0.9401679635047911, 1.0);\n",
      "    \\end{axis}\n",
      "\\end{tikzpicture}\n",
      "Including svgd\n",
      "sECE: -0.0498, ECE: 0.0498\n",
      "\\begin{tikzpicture}\n",
      "    \\begin{axis}[calstyle, xmin=0, xmax=1, ymin=0, ymax=1]\n",
      "        \\addplot[dashed, color=black] coordinates {(0,0) (1,1)};\n",
      "        \\addplot[calline] coordinates {(0.27676960825920105, 0.2429906576871872) (0.3586929738521576, 0.3368745744228363) (0.4611987769603729, 0.4143926203250885) (0.5496113896369934, 0.5030830502510071) (0.6491629481315613, 0.594480574131012) (0.7498047351837158, 0.6779206991195679) (0.8541725873947144, 0.7935472726821899) (0.9386156797409058, 0.9095688462257384)};\n",
      "        \\node[above, anchor=south west, rotate=60, font=\\tiny] at (axis cs:0.27676960825920105, 1.0) {642};\n",
      "        \\draw[dotted, color=black] (axis cs:0.27676960825920105, 0.2429906576871872) -- (axis cs:0.27676960825920105, 1.0);\n",
      "        \\node[above, anchor=south west, rotate=60, font=\\tiny] at (axis cs:0.3586929738521576, 1.0) {2918};\n",
      "        \\draw[dotted, color=black] (axis cs:0.3586929738521576, 0.3368745744228363) -- (axis cs:0.3586929738521576, 1.0);\n",
      "        \\node[above, anchor=south west, rotate=60, font=\\tiny] at (axis cs:0.4611987769603729, 1.0) {9088};\n",
      "        \\draw[dotted, color=black] (axis cs:0.4611987769603729, 0.4143926203250885) -- (axis cs:0.4611987769603729, 1.0);\n",
      "        \\node[above, anchor=south west, rotate=60, font=\\tiny] at (axis cs:0.5496113896369934, 1.0) {17353};\n",
      "        \\draw[dotted, color=black] (axis cs:0.5496113896369934, 0.5030830502510071) -- (axis cs:0.5496113896369934, 1.0);\n",
      "        \\node[above, anchor=south west, rotate=60, font=\\tiny] at (axis cs:0.6491629481315613, 1.0) {16596};\n",
      "        \\draw[dotted, color=black] (axis cs:0.6491629481315613, 0.594480574131012) -- (axis cs:0.6491629481315613, 1.0);\n",
      "        \\node[above, anchor=south west, rotate=60, font=\\tiny] at (axis cs:0.7498047351837158, 1.0) {14928};\n",
      "        \\draw[dotted, color=black] (axis cs:0.7498047351837158, 0.6779206991195679) -- (axis cs:0.7498047351837158, 1.0);\n",
      "        \\node[above, anchor=south west, rotate=60, font=\\tiny] at (axis cs:0.8541725873947144, 1.0) {17791};\n",
      "        \\draw[dotted, color=black] (axis cs:0.8541725873947144, 0.7935472726821899) -- (axis cs:0.8541725873947144, 1.0);\n",
      "        \\node[above, anchor=south west, rotate=60, font=\\tiny] at (axis cs:0.9386156797409058, 1.0) {20734};\n",
      "        \\draw[dotted, color=black] (axis cs:0.9386156797409058, 0.9095688462257384) -- (axis cs:0.9386156797409058, 1.0);\n",
      "    \\end{axis}\n",
      "\\end{tikzpicture}\n",
      "Including svgd\n",
      "sECE: -0.0469, ECE: 0.0469\n",
      "\\begin{tikzpicture}\n",
      "    \\begin{axis}[calstyle, xmin=0, xmax=1, ymin=0, ymax=1]\n",
      "        \\addplot[dashed, color=black] coordinates {(0,0) (1,1)};\n",
      "        \\addplot[calline] coordinates {(0.27942514419555664, 0.258849561214447) (0.3592023253440857, 0.3033122420310974) (0.4619159400463104, 0.4048563539981842) (0.5498472452163696, 0.5039528012275696) (0.649341881275177, 0.5936568379402161) (0.7477415800094604, 0.6989153027534485) (0.8535130023956299, 0.8083713054656982) (0.9441138505935668, 0.9102842211723328)};\n",
      "        \\node[above, anchor=south west, rotate=60, font=\\tiny] at (axis cs:0.27942514419555664, 1.0) {452};\n",
      "        \\draw[dotted, color=black] (axis cs:0.27942514419555664, 0.258849561214447) -- (axis cs:0.27942514419555664, 1.0);\n",
      "        \\node[above, anchor=south west, rotate=60, font=\\tiny] at (axis cs:0.3592023253440857, 1.0) {2687};\n",
      "        \\draw[dotted, color=black] (axis cs:0.3592023253440857, 0.3033122420310974) -- (axis cs:0.3592023253440857, 1.0);\n",
      "        \\node[above, anchor=south west, rotate=60, font=\\tiny] at (axis cs:0.4619159400463104, 1.0) {10337};\n",
      "        \\draw[dotted, color=black] (axis cs:0.4619159400463104, 0.4048563539981842) -- (axis cs:0.4619159400463104, 1.0);\n",
      "        \\node[above, anchor=south west, rotate=60, font=\\tiny] at (axis cs:0.5498472452163696, 1.0) {18974};\n",
      "        \\draw[dotted, color=black] (axis cs:0.5498472452163696, 0.5039528012275696) -- (axis cs:0.5498472452163696, 1.0);\n",
      "        \\node[above, anchor=south west, rotate=60, font=\\tiny] at (axis cs:0.649341881275177, 1.0) {18445};\n",
      "        \\draw[dotted, color=black] (axis cs:0.649341881275177, 0.5936568379402161) -- (axis cs:0.649341881275177, 1.0);\n",
      "        \\node[above, anchor=south west, rotate=60, font=\\tiny] at (axis cs:0.7477415800094604, 1.0) {14843};\n",
      "        \\draw[dotted, color=black] (axis cs:0.7477415800094604, 0.6989153027534485) -- (axis cs:0.7477415800094604, 1.0);\n",
      "        \\node[above, anchor=south west, rotate=60, font=\\tiny] at (axis cs:0.8535130023956299, 1.0) {14048};\n",
      "        \\draw[dotted, color=black] (axis cs:0.8535130023956299, 0.8083713054656982) -- (axis cs:0.8535130023956299, 1.0);\n",
      "        \\node[above, anchor=south west, rotate=60, font=\\tiny] at (axis cs:0.9441138505935668, 1.0) {20264};\n",
      "        \\draw[dotted, color=black] (axis cs:0.9441138505935668, 0.9102842211723328) -- (axis cs:0.9441138505935668, 1.0);\n",
      "    \\end{axis}\n",
      "\\end{tikzpicture}\n",
      "Including svgd\n",
      "sECE: -0.0415, ECE: 0.0415\n",
      "\\begin{tikzpicture}\n",
      "    \\begin{axis}[calstyle, xmin=0, xmax=1, ymin=0, ymax=1]\n",
      "        \\addplot[dashed, color=black] coordinates {(0,0) (1,1)};\n",
      "        \\addplot[calline] coordinates {(0.278374046087265, 0.25381678342819214) (0.3582616150379181, 0.30089879035949707) (0.4626571834087372, 0.4106099009513855) (0.5491417050361633, 0.5099472403526306) (0.6494472622871399, 0.5983193516731262) (0.7486596703529358, 0.6957888007164001) (0.8529400825500488, 0.8185355067253113) (0.9394908547401428, 0.916647970676422)};\n",
      "        \\node[above, anchor=south west, rotate=60, font=\\tiny] at (axis cs:0.278374046087265, 1.0) {524};\n",
      "        \\draw[dotted, color=black] (axis cs:0.278374046087265, 0.25381678342819214) -- (axis cs:0.278374046087265, 1.0);\n",
      "        \\node[above, anchor=south west, rotate=60, font=\\tiny] at (axis cs:0.3582616150379181, 1.0) {2559};\n",
      "        \\draw[dotted, color=black] (axis cs:0.3582616150379181, 0.30089879035949707) -- (axis cs:0.3582616150379181, 1.0);\n",
      "        \\node[above, anchor=south west, rotate=60, font=\\tiny] at (axis cs:0.4626571834087372, 1.0) {9067};\n",
      "        \\draw[dotted, color=black] (axis cs:0.4626571834087372, 0.4106099009513855) -- (axis cs:0.4626571834087372, 1.0);\n",
      "        \\node[above, anchor=south west, rotate=60, font=\\tiny] at (axis cs:0.5491417050361633, 1.0) {19151};\n",
      "        \\draw[dotted, color=black] (axis cs:0.5491417050361633, 0.5099472403526306) -- (axis cs:0.5491417050361633, 1.0);\n",
      "        \\node[above, anchor=south west, rotate=60, font=\\tiny] at (axis cs:0.6494472622871399, 1.0) {18445};\n",
      "        \\draw[dotted, color=black] (axis cs:0.6494472622871399, 0.5983193516731262) -- (axis cs:0.6494472622871399, 1.0);\n",
      "        \\node[above, anchor=south west, rotate=60, font=\\tiny] at (axis cs:0.7486596703529358, 1.0) {16551};\n",
      "        \\draw[dotted, color=black] (axis cs:0.7486596703529358, 0.6957888007164001) -- (axis cs:0.7486596703529358, 1.0);\n",
      "        \\node[above, anchor=south west, rotate=60, font=\\tiny] at (axis cs:0.8529400825500488, 1.0) {15937};\n",
      "        \\draw[dotted, color=black] (axis cs:0.8529400825500488, 0.8185355067253113) -- (axis cs:0.8529400825500488, 1.0);\n",
      "        \\node[above, anchor=south west, rotate=60, font=\\tiny] at (axis cs:0.9394908547401428, 1.0) {17816};\n",
      "        \\draw[dotted, color=black] (axis cs:0.9394908547401428, 0.916647970676422) -- (axis cs:0.9394908547401428, 1.0);\n",
      "    \\end{axis}\n",
      "\\end{tikzpicture}\n",
      "Including svgd\n",
      "sECE: -0.0539, ECE: 0.0539\n",
      "\\begin{tikzpicture}\n",
      "    \\begin{axis}[calstyle, xmin=0, xmax=1, ymin=0, ymax=1]\n",
      "        \\addplot[dashed, color=black] coordinates {(0,0) (1,1)};\n",
      "        \\addplot[calline] coordinates {(0.2757995128631592, 0.26461538672447205) (0.3592447340488434, 0.28735631704330444) (0.46431270241737366, 0.39278677105903625) (0.5501754879951477, 0.4923284947872162) (0.6500035524368286, 0.5751179456710815) (0.7493831515312195, 0.6795220971107483) (0.8515114784240723, 0.819411039352417) (0.9365987181663512, 0.9167599081993104)};\n",
      "        \\node[above, anchor=south west, rotate=60, font=\\tiny] at (axis cs:0.2757995128631592, 1.0) {325};\n",
      "        \\draw[dotted, color=black] (axis cs:0.2757995128631592, 0.26461538672447205) -- (axis cs:0.2757995128631592, 1.0);\n",
      "        \\node[above, anchor=south west, rotate=60, font=\\tiny] at (axis cs:0.3592447340488434, 1.0) {1566};\n",
      "        \\draw[dotted, color=black] (axis cs:0.3592447340488434, 0.28735631704330444) -- (axis cs:0.3592447340488434, 1.0);\n",
      "        \\node[above, anchor=south west, rotate=60, font=\\tiny] at (axis cs:0.46431270241737366, 1.0) {6599};\n",
      "        \\draw[dotted, color=black] (axis cs:0.46431270241737366, 0.39278677105903625) -- (axis cs:0.46431270241737366, 1.0);\n",
      "        \\node[above, anchor=south west, rotate=60, font=\\tiny] at (axis cs:0.5501754879951477, 1.0) {19227};\n",
      "        \\draw[dotted, color=black] (axis cs:0.5501754879951477, 0.4923284947872162) -- (axis cs:0.5501754879951477, 1.0);\n",
      "        \\node[above, anchor=south west, rotate=60, font=\\tiny] at (axis cs:0.6500035524368286, 1.0) {19709};\n",
      "        \\draw[dotted, color=black] (axis cs:0.6500035524368286, 0.5751179456710815) -- (axis cs:0.6500035524368286, 1.0);\n",
      "        \\node[above, anchor=south west, rotate=60, font=\\tiny] at (axis cs:0.7493831515312195, 1.0) {19084};\n",
      "        \\draw[dotted, color=black] (axis cs:0.7493831515312195, 0.6795220971107483) -- (axis cs:0.7493831515312195, 1.0);\n",
      "        \\node[above, anchor=south west, rotate=60, font=\\tiny] at (axis cs:0.8515114784240723, 1.0) {17454};\n",
      "        \\draw[dotted, color=black] (axis cs:0.8515114784240723, 0.819411039352417) -- (axis cs:0.8515114784240723, 1.0);\n",
      "        \\node[above, anchor=south west, rotate=60, font=\\tiny] at (axis cs:0.9365987181663512, 1.0) {16086};\n",
      "        \\draw[dotted, color=black] (axis cs:0.9365987181663512, 0.9167599081993104) -- (axis cs:0.9365987181663512, 1.0);\n",
      "    \\end{axis}\n",
      "\\end{tikzpicture}\n",
      "Including ll_ivon_5\n",
      "sECE: -0.0428, ECE: 0.0428\n",
      "\\begin{tikzpicture}\n",
      "    \\begin{axis}[calstyle, xmin=0, xmax=1, ymin=0, ymax=1]\n",
      "        \\addplot[dashed, color=black] coordinates {(0,0) (1,1)};\n",
      "        \\addplot[calline] coordinates {(0.2774718701839447, 0.24839399755001068) (0.35797742009162903, 0.31778863072395325) (0.4626618027687073, 0.41746383905410767) (0.5492497086524963, 0.5078679919242859) (0.6494089365005493, 0.5967678427696228) (0.7491440773010254, 0.7002086043357849) (0.8520902395248413, 0.8109437823295593) (0.945594072341919, 0.9152188301086426)};\n",
      "        \\node[above, anchor=south west, rotate=60, font=\\tiny] at (axis cs:0.2774718701839447, 1.0) {467};\n",
      "        \\draw[dotted, color=black] (axis cs:0.2774718701839447, 0.24839399755001068) -- (axis cs:0.2774718701839447, 1.0);\n",
      "        \\node[above, anchor=south west, rotate=60, font=\\tiny] at (axis cs:0.35797742009162903, 1.0) {2659};\n",
      "        \\draw[dotted, color=black] (axis cs:0.35797742009162903, 0.31778863072395325) -- (axis cs:0.35797742009162903, 1.0);\n",
      "        \\node[above, anchor=south west, rotate=60, font=\\tiny] at (axis cs:0.4626618027687073, 1.0) {8990};\n",
      "        \\draw[dotted, color=black] (axis cs:0.4626618027687073, 0.41746383905410767) -- (axis cs:0.4626618027687073, 1.0);\n",
      "        \\node[above, anchor=south west, rotate=60, font=\\tiny] at (axis cs:0.5492497086524963, 1.0) {19700};\n",
      "        \\draw[dotted, color=black] (axis cs:0.5492497086524963, 0.5078679919242859) -- (axis cs:0.5492497086524963, 1.0);\n",
      "        \\node[above, anchor=south west, rotate=60, font=\\tiny] at (axis cs:0.6494089365005493, 1.0) {17759};\n",
      "        \\draw[dotted, color=black] (axis cs:0.6494089365005493, 0.5967678427696228) -- (axis cs:0.6494089365005493, 1.0);\n",
      "        \\node[above, anchor=south west, rotate=60, font=\\tiny] at (axis cs:0.7491440773010254, 1.0) {15821};\n",
      "        \\draw[dotted, color=black] (axis cs:0.7491440773010254, 0.7002086043357849) -- (axis cs:0.7491440773010254, 1.0);\n",
      "        \\node[above, anchor=south west, rotate=60, font=\\tiny] at (axis cs:0.8520902395248413, 1.0) {16466};\n",
      "        \\draw[dotted, color=black] (axis cs:0.8520902395248413, 0.8109437823295593) -- (axis cs:0.8520902395248413, 1.0);\n",
      "        \\node[above, anchor=south west, rotate=60, font=\\tiny] at (axis cs:0.945594072341919, 1.0) {18188};\n",
      "        \\draw[dotted, color=black] (axis cs:0.945594072341919, 0.9152188301086426) -- (axis cs:0.945594072341919, 1.0);\n",
      "    \\end{axis}\n",
      "\\end{tikzpicture}\n",
      "Including ll_ivon_5\n",
      "sECE: -0.0436, ECE: 0.0436\n",
      "\\begin{tikzpicture}\n",
      "    \\begin{axis}[calstyle, xmin=0, xmax=1, ymin=0, ymax=1]\n",
      "        \\addplot[dashed, color=black] coordinates {(0,0) (1,1)};\n",
      "        \\addplot[calline] coordinates {(0.27974820137023926, 0.2716895043849945) (0.35827550292015076, 0.3268801271915436) (0.4626407325267792, 0.4116573631763458) (0.5492352843284607, 0.5081292390823364) (0.6493505835533142, 0.6018598675727844) (0.7494233250617981, 0.6980051398277283) (0.8522470593452454, 0.808044970035553) (0.9460050463676452, 0.9111954569816588)};\n",
      "        \\node[above, anchor=south west, rotate=60, font=\\tiny] at (axis cs:0.27974820137023926, 1.0) {438};\n",
      "        \\draw[dotted, color=black] (axis cs:0.27974820137023926, 0.2716895043849945) -- (axis cs:0.27974820137023926, 1.0);\n",
      "        \\node[above, anchor=south west, rotate=60, font=\\tiny] at (axis cs:0.35827550292015076, 1.0) {2686};\n",
      "        \\draw[dotted, color=black] (axis cs:0.35827550292015076, 0.3268801271915436) -- (axis cs:0.35827550292015076, 1.0);\n",
      "        \\node[above, anchor=south west, rotate=60, font=\\tiny] at (axis cs:0.4626407325267792, 1.0) {9316};\n",
      "        \\draw[dotted, color=black] (axis cs:0.4626407325267792, 0.4116573631763458) -- (axis cs:0.4626407325267792, 1.0);\n",
      "        \\node[above, anchor=south west, rotate=60, font=\\tiny] at (axis cs:0.5492352843284607, 1.0) {19436};\n",
      "        \\draw[dotted, color=black] (axis cs:0.5492352843284607, 0.5081292390823364) -- (axis cs:0.5492352843284607, 1.0);\n",
      "        \\node[above, anchor=south west, rotate=60, font=\\tiny] at (axis cs:0.6493505835533142, 1.0) {17313};\n",
      "        \\draw[dotted, color=black] (axis cs:0.6493505835533142, 0.6018598675727844) -- (axis cs:0.6493505835533142, 1.0);\n",
      "        \\node[above, anchor=south west, rotate=60, font=\\tiny] at (axis cs:0.7494233250617981, 1.0) {15540};\n",
      "        \\draw[dotted, color=black] (axis cs:0.7494233250617981, 0.6980051398277283) -- (axis cs:0.7494233250617981, 1.0);\n",
      "        \\node[above, anchor=south west, rotate=60, font=\\tiny] at (axis cs:0.8522470593452454, 1.0) {16358};\n",
      "        \\draw[dotted, color=black] (axis cs:0.8522470593452454, 0.808044970035553) -- (axis cs:0.8522470593452454, 1.0);\n",
      "        \\node[above, anchor=south west, rotate=60, font=\\tiny] at (axis cs:0.9460050463676452, 1.0) {18963};\n",
      "        \\draw[dotted, color=black] (axis cs:0.9460050463676452, 0.9111954569816588) -- (axis cs:0.9460050463676452, 1.0);\n",
      "    \\end{axis}\n",
      "\\end{tikzpicture}\n",
      "Including ll_ivon_5\n",
      "sECE: -0.0427, ECE: 0.0427\n",
      "\\begin{tikzpicture}\n",
      "    \\begin{axis}[calstyle, xmin=0, xmax=1, ymin=0, ymax=1]\n",
      "        \\addplot[dashed, color=black] coordinates {(0,0) (1,1)};\n",
      "        \\addplot[calline] coordinates {(0.2781889736652374, 0.24369747936725616) (0.3581453561782837, 0.3240101635456085) (0.462697833776474, 0.4168438911437988) (0.5490129590034485, 0.509294867515564) (0.6491706967353821, 0.6041437983512878) (0.7493382096290588, 0.6962538361549377) (0.8524928092956543, 0.8071160912513733) (0.945612609386444, 0.9130828976631165)};\n",
      "        \\node[above, anchor=south west, rotate=60, font=\\tiny] at (axis cs:0.2781889736652374, 1.0) {476};\n",
      "        \\draw[dotted, color=black] (axis cs:0.2781889736652374, 0.24369747936725616) -- (axis cs:0.2781889736652374, 1.0);\n",
      "        \\node[above, anchor=south west, rotate=60, font=\\tiny] at (axis cs:0.3581453561782837, 1.0) {2753};\n",
      "        \\draw[dotted, color=black] (axis cs:0.3581453561782837, 0.3240101635456085) -- (axis cs:0.3581453561782837, 1.0);\n",
      "        \\node[above, anchor=south west, rotate=60, font=\\tiny] at (axis cs:0.462697833776474, 1.0) {9404};\n",
      "        \\draw[dotted, color=black] (axis cs:0.462697833776474, 0.4168438911437988) -- (axis cs:0.462697833776474, 1.0);\n",
      "        \\node[above, anchor=south west, rotate=60, font=\\tiny] at (axis cs:0.5490129590034485, 1.0) {19258};\n",
      "        \\draw[dotted, color=black] (axis cs:0.5490129590034485, 0.509294867515564) -- (axis cs:0.5490129590034485, 1.0);\n",
      "        \\node[above, anchor=south west, rotate=60, font=\\tiny] at (axis cs:0.6491706967353821, 1.0) {17327};\n",
      "        \\draw[dotted, color=black] (axis cs:0.6491706967353821, 0.6041437983512878) -- (axis cs:0.6491706967353821, 1.0);\n",
      "        \\node[above, anchor=south west, rotate=60, font=\\tiny] at (axis cs:0.7493382096290588, 1.0) {15536};\n",
      "        \\draw[dotted, color=black] (axis cs:0.7493382096290588, 0.6962538361549377) -- (axis cs:0.7493382096290588, 1.0);\n",
      "        \\node[above, anchor=south west, rotate=60, font=\\tiny] at (axis cs:0.8524928092956543, 1.0) {16554};\n",
      "        \\draw[dotted, color=black] (axis cs:0.8524928092956543, 0.8071160912513733) -- (axis cs:0.8524928092956543, 1.0);\n",
      "        \\node[above, anchor=south west, rotate=60, font=\\tiny] at (axis cs:0.945612609386444, 1.0) {18742};\n",
      "        \\draw[dotted, color=black] (axis cs:0.945612609386444, 0.9130828976631165) -- (axis cs:0.945612609386444, 1.0);\n",
      "    \\end{axis}\n",
      "\\end{tikzpicture}\n",
      "Including ll_ivon_5\n",
      "sECE: -0.0477, ECE: 0.0477\n",
      "\\begin{tikzpicture}\n",
      "    \\begin{axis}[calstyle, xmin=0, xmax=1, ymin=0, ymax=1]\n",
      "        \\addplot[dashed, color=black] coordinates {(0,0) (1,1)};\n",
      "        \\addplot[calline] coordinates {(0.27816590666770935, 0.24821002781391144) (0.3578728437423706, 0.3232012391090393) (0.46283426880836487, 0.4232887625694275) (0.5493005514144897, 0.5012716054916382) (0.6495588421821594, 0.5960021018981934) (0.7495746612548828, 0.6914668083190918) (0.852616548538208, 0.8030841946601868) (0.9461198449134828, 0.9080086946487428)};\n",
      "        \\node[above, anchor=south west, rotate=60, font=\\tiny] at (axis cs:0.27816590666770935, 1.0) {419};\n",
      "        \\draw[dotted, color=black] (axis cs:0.27816590666770935, 0.24821002781391144) -- (axis cs:0.27816590666770935, 1.0);\n",
      "        \\node[above, anchor=south west, rotate=60, font=\\tiny] at (axis cs:0.3578728437423706, 1.0) {2599};\n",
      "        \\draw[dotted, color=black] (axis cs:0.3578728437423706, 0.3232012391090393) -- (axis cs:0.3578728437423706, 1.0);\n",
      "        \\node[above, anchor=south west, rotate=60, font=\\tiny] at (axis cs:0.46283426880836487, 1.0) {8897};\n",
      "        \\draw[dotted, color=black] (axis cs:0.46283426880836487, 0.4232887625694275) -- (axis cs:0.46283426880836487, 1.0);\n",
      "        \\node[above, anchor=south west, rotate=60, font=\\tiny] at (axis cs:0.5493005514144897, 1.0) {18874};\n",
      "        \\draw[dotted, color=black] (axis cs:0.5493005514144897, 0.5012716054916382) -- (axis cs:0.5493005514144897, 1.0);\n",
      "        \\node[above, anchor=south west, rotate=60, font=\\tiny] at (axis cs:0.6495588421821594, 1.0) {17109};\n",
      "        \\draw[dotted, color=black] (axis cs:0.6495588421821594, 0.5960021018981934) -- (axis cs:0.6495588421821594, 1.0);\n",
      "        \\node[above, anchor=south west, rotate=60, font=\\tiny] at (axis cs:0.7495746612548828, 1.0) {15551};\n",
      "        \\draw[dotted, color=black] (axis cs:0.7495746612548828, 0.6914668083190918) -- (axis cs:0.7495746612548828, 1.0);\n",
      "        \\node[above, anchor=south west, rotate=60, font=\\tiny] at (axis cs:0.852616548538208, 1.0) {16860};\n",
      "        \\draw[dotted, color=black] (axis cs:0.852616548538208, 0.8030841946601868) -- (axis cs:0.852616548538208, 1.0);\n",
      "        \\node[above, anchor=south west, rotate=60, font=\\tiny] at (axis cs:0.9461198449134828, 1.0) {19741};\n",
      "        \\draw[dotted, color=black] (axis cs:0.9461198449134828, 0.9080086946487428) -- (axis cs:0.9461198449134828, 1.0);\n",
      "    \\end{axis}\n",
      "\\end{tikzpicture}\n",
      "Including ll_ivon_5\n",
      "sECE: -0.0470, ECE: 0.0470\n",
      "\\begin{tikzpicture}\n",
      "    \\begin{axis}[calstyle, xmin=0, xmax=1, ymin=0, ymax=1]\n",
      "        \\addplot[dashed, color=black] coordinates {(0,0) (1,1)};\n",
      "        \\addplot[calline] coordinates {(0.2785027325153351, 0.24116423726081848) (0.3571504056453705, 0.32774946093559265) (0.4624840319156647, 0.4211108684539795) (0.5491181015968323, 0.5064027309417725) (0.6490606665611267, 0.5957071185112) (0.7496095299720764, 0.6919483542442322) (0.852704644203186, 0.7993724942207336) (0.9465937614440918, 0.909285843372345)};\n",
      "        \\node[above, anchor=south west, rotate=60, font=\\tiny] at (axis cs:0.2785027325153351, 1.0) {481};\n",
      "        \\draw[dotted, color=black] (axis cs:0.2785027325153351, 0.24116423726081848) -- (axis cs:0.2785027325153351, 1.0);\n",
      "        \\node[above, anchor=south west, rotate=60, font=\\tiny] at (axis cs:0.3571504056453705, 1.0) {2746};\n",
      "        \\draw[dotted, color=black] (axis cs:0.3571504056453705, 0.32774946093559265) -- (axis cs:0.3571504056453705, 1.0);\n",
      "        \\node[above, anchor=south west, rotate=60, font=\\tiny] at (axis cs:0.4624840319156647, 1.0) {9038};\n",
      "        \\draw[dotted, color=black] (axis cs:0.4624840319156647, 0.4211108684539795) -- (axis cs:0.4624840319156647, 1.0);\n",
      "        \\node[above, anchor=south west, rotate=60, font=\\tiny] at (axis cs:0.5491181015968323, 1.0) {18742};\n",
      "        \\draw[dotted, color=black] (axis cs:0.5491181015968323, 0.5064027309417725) -- (axis cs:0.5491181015968323, 1.0);\n",
      "        \\node[above, anchor=south west, rotate=60, font=\\tiny] at (axis cs:0.6490606665611267, 1.0) {17005};\n",
      "        \\draw[dotted, color=black] (axis cs:0.6490606665611267, 0.5957071185112) -- (axis cs:0.6490606665611267, 1.0);\n",
      "        \\node[above, anchor=south west, rotate=60, font=\\tiny] at (axis cs:0.7496095299720764, 1.0) {15413};\n",
      "        \\draw[dotted, color=black] (axis cs:0.7496095299720764, 0.6919483542442322) -- (axis cs:0.7496095299720764, 1.0);\n",
      "        \\node[above, anchor=south west, rotate=60, font=\\tiny] at (axis cs:0.852704644203186, 1.0) {16573};\n",
      "        \\draw[dotted, color=black] (axis cs:0.852704644203186, 0.7993724942207336) -- (axis cs:0.852704644203186, 1.0);\n",
      "        \\node[above, anchor=south west, rotate=60, font=\\tiny] at (axis cs:0.9465937614440918, 1.0) {20052};\n",
      "        \\draw[dotted, color=black] (axis cs:0.9465937614440918, 0.909285843372345) -- (axis cs:0.9465937614440918, 1.0);\n",
      "    \\end{axis}\n",
      "\\end{tikzpicture}\n",
      "Including ll_ivon\n",
      "sECE: -0.0458, ECE: 0.0459\n",
      "\\begin{tikzpicture}\n",
      "    \\begin{axis}[calstyle, xmin=0, xmax=1, ymin=0, ymax=1]\n",
      "        \\addplot[dashed, color=black] coordinates {(0,0) (1,1)};\n",
      "        \\addplot[calline] coordinates {(0.27996182441711426, 0.2891891896724701) (0.36037126183509827, 0.3127753436565399) (0.4621012508869171, 0.42006516456604) (0.5489887595176697, 0.5033714771270752) (0.6487870812416077, 0.6073601245880127) (0.7492358088493347, 0.6933628916740417) (0.8529183864593506, 0.7998159527778625) (0.9465343952178956, 0.9073122143745422)};\n",
      "        \\node[above, anchor=south west, rotate=60, font=\\tiny] at (axis cs:0.27996182441711426, 1.0) {370};\n",
      "        \\draw[dotted, color=black] (axis cs:0.27996182441711426, 0.2891891896724701) -- (axis cs:0.27996182441711426, 1.0);\n",
      "        \\node[above, anchor=south west, rotate=60, font=\\tiny] at (axis cs:0.36037126183509827, 1.0) {2724};\n",
      "        \\draw[dotted, color=black] (axis cs:0.36037126183509827, 0.3127753436565399) -- (axis cs:0.36037126183509827, 1.0);\n",
      "        \\node[above, anchor=south west, rotate=60, font=\\tiny] at (axis cs:0.4621012508869171, 1.0) {10127};\n",
      "        \\draw[dotted, color=black] (axis cs:0.4621012508869171, 0.42006516456604) -- (axis cs:0.4621012508869171, 1.0);\n",
      "        \\node[above, anchor=south west, rotate=60, font=\\tiny] at (axis cs:0.5489887595176697, 1.0) {19131};\n",
      "        \\draw[dotted, color=black] (axis cs:0.5489887595176697, 0.5033714771270752) -- (axis cs:0.5489887595176697, 1.0);\n",
      "        \\node[above, anchor=south west, rotate=60, font=\\tiny] at (axis cs:0.6487870812416077, 1.0) {16929};\n",
      "        \\draw[dotted, color=black] (axis cs:0.6487870812416077, 0.6073601245880127) -- (axis cs:0.6487870812416077, 1.0);\n",
      "        \\node[above, anchor=south west, rotate=60, font=\\tiny] at (axis cs:0.7492358088493347, 1.0) {14434};\n",
      "        \\draw[dotted, color=black] (axis cs:0.7492358088493347, 0.6933628916740417) -- (axis cs:0.7492358088493347, 1.0);\n",
      "        \\node[above, anchor=south west, rotate=60, font=\\tiny] at (axis cs:0.8529183864593506, 1.0) {16300};\n",
      "        \\draw[dotted, color=black] (axis cs:0.8529183864593506, 0.7998159527778625) -- (axis cs:0.8529183864593506, 1.0);\n",
      "        \\node[above, anchor=south west, rotate=60, font=\\tiny] at (axis cs:0.9465343952178956, 1.0) {20035};\n",
      "        \\draw[dotted, color=black] (axis cs:0.9465343952178956, 0.9073122143745422) -- (axis cs:0.9465343952178956, 1.0);\n",
      "    \\end{axis}\n",
      "\\end{tikzpicture}\n",
      "Including ll_ivon\n",
      "sECE: -0.0699, ECE: 0.0699\n",
      "\\begin{tikzpicture}\n",
      "    \\begin{axis}[calstyle, xmin=0, xmax=1, ymin=0, ymax=1]\n",
      "        \\addplot[dashed, color=black] coordinates {(0,0) (1,1)};\n",
      "        \\addplot[calline] coordinates {(0.2798585295677185, 0.24062499403953552) (0.35863977670669556, 0.3243030905723572) (0.4609755277633667, 0.4160703718662262) (0.548572301864624, 0.495044082403183) (0.6497383117675781, 0.579575777053833) (0.7501533031463623, 0.6599708795547485) (0.853059709072113, 0.7605910301208496) (0.9496638774871826, 0.8839657306671143)};\n",
      "        \\node[above, anchor=south west, rotate=60, font=\\tiny] at (axis cs:0.2798585295677185, 1.0) {320};\n",
      "        \\draw[dotted, color=black] (axis cs:0.2798585295677185, 0.24062499403953552) -- (axis cs:0.2798585295677185, 1.0);\n",
      "        \\node[above, anchor=south west, rotate=60, font=\\tiny] at (axis cs:0.35863977670669556, 1.0) {2547};\n",
      "        \\draw[dotted, color=black] (axis cs:0.35863977670669556, 0.3243030905723572) -- (axis cs:0.35863977670669556, 1.0);\n",
      "        \\node[above, anchor=south west, rotate=60, font=\\tiny] at (axis cs:0.4609755277633667, 1.0) {8525};\n",
      "        \\draw[dotted, color=black] (axis cs:0.4609755277633667, 0.4160703718662262) -- (axis cs:0.4609755277633667, 1.0);\n",
      "        \\node[above, anchor=south west, rotate=60, font=\\tiny] at (axis cs:0.548572301864624, 1.0) {16445};\n",
      "        \\draw[dotted, color=black] (axis cs:0.548572301864624, 0.495044082403183) -- (axis cs:0.548572301864624, 1.0);\n",
      "        \\node[above, anchor=south west, rotate=60, font=\\tiny] at (axis cs:0.6497383117675781, 1.0) {14992};\n",
      "        \\draw[dotted, color=black] (axis cs:0.6497383117675781, 0.579575777053833) -- (axis cs:0.6497383117675781, 1.0);\n",
      "        \\node[above, anchor=south west, rotate=60, font=\\tiny] at (axis cs:0.7501533031463623, 1.0) {14437};\n",
      "        \\draw[dotted, color=black] (axis cs:0.7501533031463623, 0.6599708795547485) -- (axis cs:0.7501533031463623, 1.0);\n",
      "        \\node[above, anchor=south west, rotate=60, font=\\tiny] at (axis cs:0.853059709072113, 1.0) {17326};\n",
      "        \\draw[dotted, color=black] (axis cs:0.853059709072113, 0.7605910301208496) -- (axis cs:0.853059709072113, 1.0);\n",
      "        \\node[above, anchor=south west, rotate=60, font=\\tiny] at (axis cs:0.9496638774871826, 1.0) {25458};\n",
      "        \\draw[dotted, color=black] (axis cs:0.9496638774871826, 0.8839657306671143) -- (axis cs:0.9496638774871826, 1.0);\n",
      "    \\end{axis}\n",
      "\\end{tikzpicture}\n",
      "Including ll_ivon\n",
      "sECE: -0.0619, ECE: 0.0619\n",
      "\\begin{tikzpicture}\n",
      "    \\begin{axis}[calstyle, xmin=0, xmax=1, ymin=0, ymax=1]\n",
      "        \\addplot[dashed, color=black] coordinates {(0,0) (1,1)};\n",
      "        \\addplot[calline] coordinates {(0.27677151560783386, 0.24193547666072843) (0.35932424664497375, 0.316729336977005) (0.46344810724258423, 0.4006251692771912) (0.5490764379501343, 0.4926797151565552) (0.6497817039489746, 0.5783168077468872) (0.7495711445808411, 0.6740429997444153) (0.8517905473709106, 0.784476637840271) (0.9482816457748412, 0.9017136096954346)};\n",
      "        \\node[above, anchor=south west, rotate=60, font=\\tiny] at (axis cs:0.27677151560783386, 1.0) {372};\n",
      "        \\draw[dotted, color=black] (axis cs:0.27677151560783386, 0.24193547666072843) -- (axis cs:0.27677151560783386, 1.0);\n",
      "        \\node[above, anchor=south west, rotate=60, font=\\tiny] at (axis cs:0.35932424664497375, 1.0) {2128};\n",
      "        \\draw[dotted, color=black] (axis cs:0.35932424664497375, 0.316729336977005) -- (axis cs:0.35932424664497375, 1.0);\n",
      "        \\node[above, anchor=south west, rotate=60, font=\\tiny] at (axis cs:0.46344810724258423, 1.0) {7678};\n",
      "        \\draw[dotted, color=black] (axis cs:0.46344810724258423, 0.4006251692771912) -- (axis cs:0.46344810724258423, 1.0);\n",
      "        \\node[above, anchor=south west, rotate=60, font=\\tiny] at (axis cs:0.5490764379501343, 1.0) {18237};\n",
      "        \\draw[dotted, color=black] (axis cs:0.5490764379501343, 0.4926797151565552) -- (axis cs:0.5490764379501343, 1.0);\n",
      "        \\node[above, anchor=south west, rotate=60, font=\\tiny] at (axis cs:0.6497817039489746, 1.0) {17027};\n",
      "        \\draw[dotted, color=black] (axis cs:0.6497817039489746, 0.5783168077468872) -- (axis cs:0.6497817039489746, 1.0);\n",
      "        \\node[above, anchor=south west, rotate=60, font=\\tiny] at (axis cs:0.7495711445808411, 1.0) {16223};\n",
      "        \\draw[dotted, color=black] (axis cs:0.7495711445808411, 0.6740429997444153) -- (axis cs:0.7495711445808411, 1.0);\n",
      "        \\node[above, anchor=south west, rotate=60, font=\\tiny] at (axis cs:0.8517905473709106, 1.0) {16968};\n",
      "        \\draw[dotted, color=black] (axis cs:0.8517905473709106, 0.784476637840271) -- (axis cs:0.8517905473709106, 1.0);\n",
      "        \\node[above, anchor=south west, rotate=60, font=\\tiny] at (axis cs:0.9482816457748412, 1.0) {21417};\n",
      "        \\draw[dotted, color=black] (axis cs:0.9482816457748412, 0.9017136096954346) -- (axis cs:0.9482816457748412, 1.0);\n",
      "    \\end{axis}\n",
      "\\end{tikzpicture}\n",
      "Including ll_ivon\n",
      "sECE: -0.0410, ECE: 0.0410\n",
      "\\begin{tikzpicture}\n",
      "    \\begin{axis}[calstyle, xmin=0, xmax=1, ymin=0, ymax=1]\n",
      "        \\addplot[dashed, color=black] coordinates {(0,0) (1,1)};\n",
      "        \\addplot[calline] coordinates {(0.278621107339859, 0.23458904027938843) (0.3586665093898773, 0.3100578784942627) (0.46279263496398926, 0.422374427318573) (0.5494688153266907, 0.5048300623893738) (0.6491959095001221, 0.6005511283874512) (0.7488889098167419, 0.6981601119041443) (0.8512519598007202, 0.8217650651931763) (0.9454580545425416, 0.9166122078895568)};\n",
      "        \\node[above, anchor=south west, rotate=60, font=\\tiny] at (axis cs:0.278621107339859, 1.0) {584};\n",
      "        \\draw[dotted, color=black] (axis cs:0.278621107339859, 0.23458904027938843) -- (axis cs:0.278621107339859, 1.0);\n",
      "        \\node[above, anchor=south west, rotate=60, font=\\tiny] at (axis cs:0.3586665093898773, 1.0) {2764};\n",
      "        \\draw[dotted, color=black] (axis cs:0.3586665093898773, 0.3100578784942627) -- (axis cs:0.3586665093898773, 1.0);\n",
      "        \\node[above, anchor=south west, rotate=60, font=\\tiny] at (axis cs:0.46279263496398926, 1.0) {9636};\n",
      "        \\draw[dotted, color=black] (axis cs:0.46279263496398926, 0.422374427318573) -- (axis cs:0.46279263496398926, 1.0);\n",
      "        \\node[above, anchor=south west, rotate=60, font=\\tiny] at (axis cs:0.5494688153266907, 1.0) {20393};\n",
      "        \\draw[dotted, color=black] (axis cs:0.5494688153266907, 0.5048300623893738) -- (axis cs:0.5494688153266907, 1.0);\n",
      "        \\node[above, anchor=south west, rotate=60, font=\\tiny] at (axis cs:0.6491959095001221, 1.0) {18145};\n",
      "        \\draw[dotted, color=black] (axis cs:0.6491959095001221, 0.6005511283874512) -- (axis cs:0.6491959095001221, 1.0);\n",
      "        \\node[above, anchor=south west, rotate=60, font=\\tiny] at (axis cs:0.7488889098167419, 1.0) {16088};\n",
      "        \\draw[dotted, color=black] (axis cs:0.7488889098167419, 0.6981601119041443) -- (axis cs:0.7488889098167419, 1.0);\n",
      "        \\node[above, anchor=south west, rotate=60, font=\\tiny] at (axis cs:0.8512519598007202, 1.0) {15603};\n",
      "        \\draw[dotted, color=black] (axis cs:0.8512519598007202, 0.8217650651931763) -- (axis cs:0.8512519598007202, 1.0);\n",
      "        \\node[above, anchor=south west, rotate=60, font=\\tiny] at (axis cs:0.9454580545425416, 1.0) {16837};\n",
      "        \\draw[dotted, color=black] (axis cs:0.9454580545425416, 0.9166122078895568) -- (axis cs:0.9454580545425416, 1.0);\n",
      "    \\end{axis}\n",
      "\\end{tikzpicture}\n",
      "Including ll_ivon\n",
      "sECE: -0.0397, ECE: 0.0397\n",
      "\\begin{tikzpicture}\n",
      "    \\begin{axis}[calstyle, xmin=0, xmax=1, ymin=0, ymax=1]\n",
      "        \\addplot[dashed, color=black] coordinates {(0,0) (1,1)};\n",
      "        \\addplot[calline] coordinates {(0.27743813395500183, 0.2578796446323395) (0.3595213294029236, 0.33006682991981506) (0.463801771402359, 0.40734630823135376) (0.5494869351387024, 0.5053940415382385) (0.6491379141807556, 0.5960794687271118) (0.7484528422355652, 0.7094849944114685) (0.8511867523193359, 0.8242548108100891) (0.9436761736869812, 0.9202865958213806)};\n",
      "        \\node[above, anchor=south west, rotate=60, font=\\tiny] at (axis cs:0.27743813395500183, 1.0) {349};\n",
      "        \\draw[dotted, color=black] (axis cs:0.27743813395500183, 0.2578796446323395) -- (axis cs:0.27743813395500183, 1.0);\n",
      "        \\node[above, anchor=south west, rotate=60, font=\\tiny] at (axis cs:0.3595213294029236, 1.0) {2245};\n",
      "        \\draw[dotted, color=black] (axis cs:0.3595213294029236, 0.33006682991981506) -- (axis cs:0.3595213294029236, 1.0);\n",
      "        \\node[above, anchor=south west, rotate=60, font=\\tiny] at (axis cs:0.463801771402359, 1.0) {9093};\n",
      "        \\draw[dotted, color=black] (axis cs:0.463801771402359, 0.40734630823135376) -- (axis cs:0.463801771402359, 1.0);\n",
      "        \\node[above, anchor=south west, rotate=60, font=\\tiny] at (axis cs:0.5494869351387024, 1.0) {20671};\n",
      "        \\draw[dotted, color=black] (axis cs:0.5494869351387024, 0.5053940415382385) -- (axis cs:0.5494869351387024, 1.0);\n",
      "        \\node[above, anchor=south west, rotate=60, font=\\tiny] at (axis cs:0.6491379141807556, 1.0) {19130};\n",
      "        \\draw[dotted, color=black] (axis cs:0.6491379141807556, 0.5960794687271118) -- (axis cs:0.6491379141807556, 1.0);\n",
      "        \\node[above, anchor=south west, rotate=60, font=\\tiny] at (axis cs:0.7484528422355652, 1.0) {16932};\n",
      "        \\draw[dotted, color=black] (axis cs:0.7484528422355652, 0.7094849944114685) -- (axis cs:0.7484528422355652, 1.0);\n",
      "        \\node[above, anchor=south west, rotate=60, font=\\tiny] at (axis cs:0.8511867523193359, 1.0) {16137};\n",
      "        \\draw[dotted, color=black] (axis cs:0.8511867523193359, 0.8242548108100891) -- (axis cs:0.8511867523193359, 1.0);\n",
      "        \\node[above, anchor=south west, rotate=60, font=\\tiny] at (axis cs:0.9436761736869812, 1.0) {15493};\n",
      "        \\draw[dotted, color=black] (axis cs:0.9436761736869812, 0.9202865958213806) -- (axis cs:0.9436761736869812, 1.0);\n",
      "    \\end{axis}\n",
      "\\end{tikzpicture}\n",
      "Including ll_ivon\n",
      "sECE: -0.0623, ECE: 0.0623\n",
      "\\begin{tikzpicture}\n",
      "    \\begin{axis}[calstyle, xmin=0, xmax=1, ymin=0, ymax=1]\n",
      "        \\addplot[dashed, color=black] coordinates {(0,0) (1,1)};\n",
      "        \\addplot[calline] coordinates {(0.2742796838283539, 0.2398286908864975) (0.35908791422843933, 0.31558936834335327) (0.46307310461997986, 0.39218461513519287) (0.5497426986694336, 0.49730780720710754) (0.6496819853782654, 0.5695269107818604) (0.7496334910392761, 0.6724148392677307) (0.8525874018669128, 0.784678041934967) (0.9455868601799012, 0.9069960713386536)};\n",
      "        \\node[above, anchor=south west, rotate=60, font=\\tiny] at (axis cs:0.2742796838283539, 1.0) {467};\n",
      "        \\draw[dotted, color=black] (axis cs:0.2742796838283539, 0.2398286908864975) -- (axis cs:0.2742796838283539, 1.0);\n",
      "        \\node[above, anchor=south west, rotate=60, font=\\tiny] at (axis cs:0.35908791422843933, 1.0) {2104};\n",
      "        \\draw[dotted, color=black] (axis cs:0.35908791422843933, 0.31558936834335327) -- (axis cs:0.35908791422843933, 1.0);\n",
      "        \\node[above, anchor=south west, rotate=60, font=\\tiny] at (axis cs:0.46307310461997986, 1.0) {7063};\n",
      "        \\draw[dotted, color=black] (axis cs:0.46307310461997986, 0.39218461513519287) -- (axis cs:0.46307310461997986, 1.0);\n",
      "        \\node[above, anchor=south west, rotate=60, font=\\tiny] at (axis cs:0.5497426986694336, 1.0) {18015};\n",
      "        \\draw[dotted, color=black] (axis cs:0.5497426986694336, 0.49730780720710754) -- (axis cs:0.5497426986694336, 1.0);\n",
      "        \\node[above, anchor=south west, rotate=60, font=\\tiny] at (axis cs:0.6496819853782654, 1.0) {17353};\n",
      "        \\draw[dotted, color=black] (axis cs:0.6496819853782654, 0.5695269107818604) -- (axis cs:0.6496819853782654, 1.0);\n",
      "        \\node[above, anchor=south west, rotate=60, font=\\tiny] at (axis cs:0.7496334910392761, 1.0) {16643};\n",
      "        \\draw[dotted, color=black] (axis cs:0.7496334910392761, 0.6724148392677307) -- (axis cs:0.7496334910392761, 1.0);\n",
      "        \\node[above, anchor=south west, rotate=60, font=\\tiny] at (axis cs:0.8525874018669128, 1.0) {17922};\n",
      "        \\draw[dotted, color=black] (axis cs:0.8525874018669128, 0.784678041934967) -- (axis cs:0.8525874018669128, 1.0);\n",
      "        \\node[above, anchor=south west, rotate=60, font=\\tiny] at (axis cs:0.9455868601799012, 1.0) {20483};\n",
      "        \\draw[dotted, color=black] (axis cs:0.9455868601799012, 0.9069960713386536) -- (axis cs:0.9455868601799012, 1.0);\n",
      "    \\end{axis}\n",
      "\\end{tikzpicture}\n",
      "Skipping old run ll_ivon-0\n",
      "Skipping old run ll_ivon-0\n",
      "Including ll_swag\n",
      "sECE: -0.0379, ECE: 0.0379\n",
      "\\begin{tikzpicture}\n",
      "    \\begin{axis}[calstyle, xmin=0, xmax=1, ymin=0, ymax=1]\n",
      "        \\addplot[dashed, color=black] coordinates {(0,0) (1,1)};\n",
      "        \\addplot[calline] coordinates {(0.2826206684112549, 0.2530120611190796) (0.3609696328639984, 0.32049739360809326) (0.46117913722991943, 0.4127120971679687) (0.5497280359268188, 0.5079764723777771) (0.6494325995445251, 0.5934765338897705) (0.7473116517066956, 0.7080219984054565) (0.8519651889801025, 0.8301576972007751) (0.9367831349372864, 0.9225806593894958)};\n",
      "        \\node[above, anchor=south west, rotate=60, font=\\tiny] at (axis cs:0.2826206684112549, 1.0) {332};\n",
      "        \\draw[dotted, color=black] (axis cs:0.2826206684112549, 0.2530120611190796) -- (axis cs:0.2826206684112549, 1.0);\n",
      "        \\node[above, anchor=south west, rotate=60, font=\\tiny] at (axis cs:0.3609696328639984, 1.0) {2493};\n",
      "        \\draw[dotted, color=black] (axis cs:0.3609696328639984, 0.32049739360809326) -- (axis cs:0.3609696328639984, 1.0);\n",
      "        \\node[above, anchor=south west, rotate=60, font=\\tiny] at (axis cs:0.46117913722991943, 1.0) {10431};\n",
      "        \\draw[dotted, color=black] (axis cs:0.46117913722991943, 0.4127120971679687) -- (axis cs:0.46117913722991943, 1.0);\n",
      "        \\node[above, anchor=south west, rotate=60, font=\\tiny] at (axis cs:0.5497280359268188, 1.0) {20247};\n",
      "        \\draw[dotted, color=black] (axis cs:0.5497280359268188, 0.5079764723777771) -- (axis cs:0.5497280359268188, 1.0);\n",
      "        \\node[above, anchor=south west, rotate=60, font=\\tiny] at (axis cs:0.6494325995445251, 1.0) {20112};\n",
      "        \\draw[dotted, color=black] (axis cs:0.6494325995445251, 0.5934765338897705) -- (axis cs:0.6494325995445251, 1.0);\n",
      "        \\node[above, anchor=south west, rotate=60, font=\\tiny] at (axis cs:0.7473116517066956, 1.0) {17265};\n",
      "        \\draw[dotted, color=black] (axis cs:0.7473116517066956, 0.7080219984054565) -- (axis cs:0.7473116517066956, 1.0);\n",
      "        \\node[above, anchor=south west, rotate=60, font=\\tiny] at (axis cs:0.8519651889801025, 1.0) {15220};\n",
      "        \\draw[dotted, color=black] (axis cs:0.8519651889801025, 0.8301576972007751) -- (axis cs:0.8519651889801025, 1.0);\n",
      "        \\node[above, anchor=south west, rotate=60, font=\\tiny] at (axis cs:0.9367831349372864, 1.0) {13950};\n",
      "        \\draw[dotted, color=black] (axis cs:0.9367831349372864, 0.9225806593894958) -- (axis cs:0.9367831349372864, 1.0);\n",
      "    \\end{axis}\n",
      "\\end{tikzpicture}\n",
      "Including ll_swag\n",
      "sECE: -0.0662, ECE: 0.0662\n",
      "\\begin{tikzpicture}\n",
      "    \\begin{axis}[calstyle, xmin=0, xmax=1, ymin=0, ymax=1]\n",
      "        \\addplot[dashed, color=black] coordinates {(0,0) (1,1)};\n",
      "        \\addplot[calline] coordinates {(0.2812187671661377, 0.28286853432655334) (0.35914576053619385, 0.29021739959716797) (0.46343836188316345, 0.40079522132873535) (0.5503959655761719, 0.4906235635280609) (0.6500582098960876, 0.5707567930221558) (0.7486186623573303, 0.6626811623573303) (0.8543211817741394, 0.7803707122802734) (0.9375655055046082, 0.8985450863838196)};\n",
      "        \\node[above, anchor=south west, rotate=60, font=\\tiny] at (axis cs:0.2812187671661377, 1.0) {251};\n",
      "        \\draw[dotted, color=black] (axis cs:0.2812187671661377, 0.28286853432655334) -- (axis cs:0.2812187671661377, 1.0);\n",
      "        \\node[above, anchor=south west, rotate=60, font=\\tiny] at (axis cs:0.35914576053619385, 1.0) {1840};\n",
      "        \\draw[dotted, color=black] (axis cs:0.35914576053619385, 0.29021739959716797) -- (axis cs:0.35914576053619385, 1.0);\n",
      "        \\node[above, anchor=south west, rotate=60, font=\\tiny] at (axis cs:0.46343836188316345, 1.0) {7545};\n",
      "        \\draw[dotted, color=black] (axis cs:0.46343836188316345, 0.40079522132873535) -- (axis cs:0.46343836188316345, 1.0);\n",
      "        \\node[above, anchor=south west, rotate=60, font=\\tiny] at (axis cs:0.5503959655761719, 1.0) {17384};\n",
      "        \\draw[dotted, color=black] (axis cs:0.5503959655761719, 0.4906235635280609) -- (axis cs:0.5503959655761719, 1.0);\n",
      "        \\node[above, anchor=south west, rotate=60, font=\\tiny] at (axis cs:0.6500582098960876, 1.0) {18076};\n",
      "        \\draw[dotted, color=black] (axis cs:0.6500582098960876, 0.5707567930221558) -- (axis cs:0.6500582098960876, 1.0);\n",
      "        \\node[above, anchor=south west, rotate=60, font=\\tiny] at (axis cs:0.7486186623573303, 1.0) {16560};\n",
      "        \\draw[dotted, color=black] (axis cs:0.7486186623573303, 0.6626811623573303) -- (axis cs:0.7486186623573303, 1.0);\n",
      "        \\node[above, anchor=south west, rotate=60, font=\\tiny] at (axis cs:0.8543211817741394, 1.0) {17912};\n",
      "        \\draw[dotted, color=black] (axis cs:0.8543211817741394, 0.7803707122802734) -- (axis cs:0.8543211817741394, 1.0);\n",
      "        \\node[above, anchor=south west, rotate=60, font=\\tiny] at (axis cs:0.9375655055046082, 1.0) {20482};\n",
      "        \\draw[dotted, color=black] (axis cs:0.9375655055046082, 0.8985450863838196) -- (axis cs:0.9375655055046082, 1.0);\n",
      "    \\end{axis}\n",
      "\\end{tikzpicture}\n",
      "Including ll_swag\n",
      "sECE: -0.0473, ECE: 0.0475\n",
      "\\begin{tikzpicture}\n",
      "    \\begin{axis}[calstyle, xmin=0, xmax=1, ymin=0, ymax=1]\n",
      "        \\addplot[dashed, color=black] coordinates {(0,0) (1,1)};\n",
      "        \\addplot[calline] coordinates {(0.28230735659599304, 0.31141868233680725) (0.36053159832954407, 0.2928633689880371) (0.46153002977371216, 0.4152028560638428) (0.5501448512077332, 0.5065731406211853) (0.649420440196991, 0.5893688797950745) (0.7486112117767334, 0.6894521713256836) (0.8535280227661133, 0.8089860081672668) (0.9378780722618104, 0.9092618823051452)};\n",
      "        \\node[above, anchor=south west, rotate=60, font=\\tiny] at (axis cs:0.28230735659599304, 1.0) {289};\n",
      "        \\draw[dotted, color=black] (axis cs:0.28230735659599304, 0.31141868233680725) -- (axis cs:0.28230735659599304, 1.0);\n",
      "        \\node[above, anchor=south west, rotate=60, font=\\tiny] at (axis cs:0.36053159832954407, 1.0) {2298};\n",
      "        \\draw[dotted, color=black] (axis cs:0.36053159832954407, 0.2928633689880371) -- (axis cs:0.36053159832954407, 1.0);\n",
      "        \\node[above, anchor=south west, rotate=60, font=\\tiny] at (axis cs:0.46153002977371216, 1.0) {9564};\n",
      "        \\draw[dotted, color=black] (axis cs:0.46153002977371216, 0.4152028560638428) -- (axis cs:0.46153002977371216, 1.0);\n",
      "        \\node[above, anchor=south west, rotate=60, font=\\tiny] at (axis cs:0.5501448512077332, 1.0) {19245};\n",
      "        \\draw[dotted, color=black] (axis cs:0.5501448512077332, 0.5065731406211853) -- (axis cs:0.5501448512077332, 1.0);\n",
      "        \\node[above, anchor=south west, rotate=60, font=\\tiny] at (axis cs:0.649420440196991, 1.0) {18681};\n",
      "        \\draw[dotted, color=black] (axis cs:0.649420440196991, 0.5893688797950745) -- (axis cs:0.649420440196991, 1.0);\n",
      "        \\node[above, anchor=south west, rotate=60, font=\\tiny] at (axis cs:0.7486112117767334, 1.0) {16136};\n",
      "        \\draw[dotted, color=black] (axis cs:0.7486112117767334, 0.6894521713256836) -- (axis cs:0.7486112117767334, 1.0);\n",
      "        \\node[above, anchor=south west, rotate=60, font=\\tiny] at (axis cs:0.8535280227661133, 1.0) {16292};\n",
      "        \\draw[dotted, color=black] (axis cs:0.8535280227661133, 0.8089860081672668) -- (axis cs:0.8535280227661133, 1.0);\n",
      "        \\node[above, anchor=south west, rotate=60, font=\\tiny] at (axis cs:0.9378780722618104, 1.0) {17545};\n",
      "        \\draw[dotted, color=black] (axis cs:0.9378780722618104, 0.9092618823051452) -- (axis cs:0.9378780722618104, 1.0);\n",
      "    \\end{axis}\n",
      "\\end{tikzpicture}\n",
      "Including ll_swag\n",
      "sECE: -0.0411, ECE: 0.0411\n",
      "\\begin{tikzpicture}\n",
      "    \\begin{axis}[calstyle, xmin=0, xmax=1, ymin=0, ymax=1]\n",
      "        \\addplot[dashed, color=black] coordinates {(0,0) (1,1)};\n",
      "        \\addplot[calline] coordinates {(0.2824684679508209, 0.23856209218502045) (0.361773669719696, 0.3095859885215759) (0.4603902399539947, 0.42361173033714294) (0.5500016212463379, 0.5114628672599792) (0.6487525105476379, 0.5988513231277466) (0.7485134601593018, 0.7044436931610107) (0.8536236882209778, 0.806851863861084) (0.9375566244125366, 0.9095852971076964)};\n",
      "        \\node[above, anchor=south west, rotate=60, font=\\tiny] at (axis cs:0.2824684679508209, 1.0) {306};\n",
      "        \\draw[dotted, color=black] (axis cs:0.2824684679508209, 0.23856209218502045) -- (axis cs:0.2824684679508209, 1.0);\n",
      "        \\node[above, anchor=south west, rotate=60, font=\\tiny] at (axis cs:0.361773669719696, 1.0) {2681};\n",
      "        \\draw[dotted, color=black] (axis cs:0.361773669719696, 0.3095859885215759) -- (axis cs:0.361773669719696, 1.0);\n",
      "        \\node[above, anchor=south west, rotate=60, font=\\tiny] at (axis cs:0.4603902399539947, 1.0) {11003};\n",
      "        \\draw[dotted, color=black] (axis cs:0.4603902399539947, 0.42361173033714294) -- (axis cs:0.4603902399539947, 1.0);\n",
      "        \\node[above, anchor=south west, rotate=60, font=\\tiny] at (axis cs:0.5500016212463379, 1.0) {19585};\n",
      "        \\draw[dotted, color=black] (axis cs:0.5500016212463379, 0.5114628672599792) -- (axis cs:0.5500016212463379, 1.0);\n",
      "        \\node[above, anchor=south west, rotate=60, font=\\tiny] at (axis cs:0.6487525105476379, 1.0) {18108};\n",
      "        \\draw[dotted, color=black] (axis cs:0.6487525105476379, 0.5988513231277466) -- (axis cs:0.6487525105476379, 1.0);\n",
      "        \\node[above, anchor=south west, rotate=60, font=\\tiny] at (axis cs:0.7485134601593018, 1.0) {14515};\n",
      "        \\draw[dotted, color=black] (axis cs:0.7485134601593018, 0.7044436931610107) -- (axis cs:0.7485134601593018, 1.0);\n",
      "        \\node[above, anchor=south west, rotate=60, font=\\tiny] at (axis cs:0.8536236882209778, 1.0) {16200};\n",
      "        \\draw[dotted, color=black] (axis cs:0.8536236882209778, 0.806851863861084) -- (axis cs:0.8536236882209778, 1.0);\n",
      "        \\node[above, anchor=south west, rotate=60, font=\\tiny] at (axis cs:0.9375566244125366, 1.0) {17652};\n",
      "        \\draw[dotted, color=black] (axis cs:0.9375566244125366, 0.9095852971076964) -- (axis cs:0.9375566244125366, 1.0);\n",
      "    \\end{axis}\n",
      "\\end{tikzpicture}\n",
      "Including ll_swag\n",
      "sECE: -0.0402, ECE: 0.0402\n",
      "\\begin{tikzpicture}\n",
      "    \\begin{axis}[calstyle, xmin=0, xmax=1, ymin=0, ymax=1]\n",
      "        \\addplot[dashed, color=black] coordinates {(0,0) (1,1)};\n",
      "        \\addplot[calline] coordinates {(0.2819226086139679, 0.21238937973976135) (0.3620574474334717, 0.31001678109169006) (0.4640780985355377, 0.3996697962284088) (0.5502102375030518, 0.502113938331604) (0.6496902704238892, 0.5927529335021973) (0.7473008632659912, 0.7061007022857666) (0.8514999151229858, 0.8371511101722717) (0.9336742758750916, 0.923551380634308)};\n",
      "        \\node[above, anchor=south west, rotate=60, font=\\tiny] at (axis cs:0.2819226086139679, 1.0) {226};\n",
      "        \\draw[dotted, color=black] (axis cs:0.2819226086139679, 0.21238937973976135) -- (axis cs:0.2819226086139679, 1.0);\n",
      "        \\node[above, anchor=south west, rotate=60, font=\\tiny] at (axis cs:0.3620574474334717, 1.0) {1787};\n",
      "        \\draw[dotted, color=black] (axis cs:0.3620574474334717, 0.31001678109169006) -- (axis cs:0.3620574474334717, 1.0);\n",
      "        \\node[above, anchor=south west, rotate=60, font=\\tiny] at (axis cs:0.4640780985355377, 1.0) {9085};\n",
      "        \\draw[dotted, color=black] (axis cs:0.4640780985355377, 0.3996697962284088) -- (axis cs:0.4640780985355377, 1.0);\n",
      "        \\node[above, anchor=south west, rotate=60, font=\\tiny] at (axis cs:0.5502102375030518, 1.0) {20814};\n",
      "        \\draw[dotted, color=black] (axis cs:0.5502102375030518, 0.502113938331604) -- (axis cs:0.5502102375030518, 1.0);\n",
      "        \\node[above, anchor=south west, rotate=60, font=\\tiny] at (axis cs:0.6496902704238892, 1.0) {21250};\n",
      "        \\draw[dotted, color=black] (axis cs:0.6496902704238892, 0.5927529335021973) -- (axis cs:0.6496902704238892, 1.0);\n",
      "        \\node[above, anchor=south west, rotate=60, font=\\tiny] at (axis cs:0.7473008632659912, 1.0) {18588};\n",
      "        \\draw[dotted, color=black] (axis cs:0.7473008632659912, 0.7061007022857666) -- (axis cs:0.7473008632659912, 1.0);\n",
      "        \\node[above, anchor=south west, rotate=60, font=\\tiny] at (axis cs:0.8514999151229858, 1.0) {15978};\n",
      "        \\draw[dotted, color=black] (axis cs:0.8514999151229858, 0.8371511101722717) -- (axis cs:0.8514999151229858, 1.0);\n",
      "        \\node[above, anchor=south west, rotate=60, font=\\tiny] at (axis cs:0.9336742758750916, 1.0) {12322};\n",
      "        \\draw[dotted, color=black] (axis cs:0.9336742758750916, 0.923551380634308) -- (axis cs:0.9336742758750916, 1.0);\n",
      "    \\end{axis}\n",
      "\\end{tikzpicture}\n",
      "Including ll_swag\n",
      "sECE: -0.0535, ECE: 0.0535\n",
      "\\begin{tikzpicture}\n",
      "    \\begin{axis}[calstyle, xmin=0, xmax=1, ymin=0, ymax=1]\n",
      "        \\addplot[dashed, color=black] coordinates {(0,0) (1,1)};\n",
      "        \\addplot[calline] coordinates {(0.28216102719306946, 0.2218649536371231) (0.36013704538345337, 0.2896396517753601) (0.4624654948711395, 0.40959665179252625) (0.5501318573951721, 0.5050227642059326) (0.6496463418006897, 0.5829728245735168) (0.748862087726593, 0.6798359155654907) (0.8539699912071228, 0.7961757183074951) (0.9338311553001404, 0.905543565750122)};\n",
      "        \\node[above, anchor=south west, rotate=60, font=\\tiny] at (axis cs:0.28216102719306946, 1.0) {311};\n",
      "        \\draw[dotted, color=black] (axis cs:0.28216102719306946, 0.2218649536371231) -- (axis cs:0.28216102719306946, 1.0);\n",
      "        \\node[above, anchor=south west, rotate=60, font=\\tiny] at (axis cs:0.36013704538345337, 1.0) {2220};\n",
      "        \\draw[dotted, color=black] (axis cs:0.36013704538345337, 0.2896396517753601) -- (axis cs:0.36013704538345337, 1.0);\n",
      "        \\node[above, anchor=south west, rotate=60, font=\\tiny] at (axis cs:0.4624654948711395, 1.0) {8628};\n",
      "        \\draw[dotted, color=black] (axis cs:0.4624654948711395, 0.40959665179252625) -- (axis cs:0.4624654948711395, 1.0);\n",
      "        \\node[above, anchor=south west, rotate=60, font=\\tiny] at (axis cs:0.5501318573951721, 1.0) {18217};\n",
      "        \\draw[dotted, color=black] (axis cs:0.5501318573951721, 0.5050227642059326) -- (axis cs:0.5501318573951721, 1.0);\n",
      "        \\node[above, anchor=south west, rotate=60, font=\\tiny] at (axis cs:0.6496463418006897, 1.0) {18030};\n",
      "        \\draw[dotted, color=black] (axis cs:0.6496463418006897, 0.5829728245735168) -- (axis cs:0.6496463418006897, 1.0);\n",
      "        \\node[above, anchor=south west, rotate=60, font=\\tiny] at (axis cs:0.748862087726593, 1.0) {15845};\n",
      "        \\draw[dotted, color=black] (axis cs:0.748862087726593, 0.6798359155654907) -- (axis cs:0.748862087726593, 1.0);\n",
      "        \\node[above, anchor=south west, rotate=60, font=\\tiny] at (axis cs:0.8539699912071228, 1.0) {19193};\n",
      "        \\draw[dotted, color=black] (axis cs:0.8539699912071228, 0.7961757183074951) -- (axis cs:0.8539699912071228, 1.0);\n",
      "        \\node[above, anchor=south west, rotate=60, font=\\tiny] at (axis cs:0.9338311553001404, 1.0) {17606};\n",
      "        \\draw[dotted, color=black] (axis cs:0.9338311553001404, 0.905543565750122) -- (axis cs:0.9338311553001404, 1.0);\n",
      "    \\end{axis}\n",
      "\\end{tikzpicture}\n",
      "Skipping crashed run ll_swag-3\n",
      "Skipping crashed run ll_swag-2\n",
      "Skipping crashed run ll_swag-0\n",
      "Skipping crashed run ll_swag-5\n",
      "Skipping crashed run ll_swag-4\n",
      "Skipping crashed run ll_swag-1\n",
      "Skipping crashed run mcd-4\n",
      "Including swag_5\n",
      "sECE: 0.0405, ECE: 0.0408\n",
      "\\begin{tikzpicture}\n",
      "    \\begin{axis}[calstyle, xmin=0, xmax=1, ymin=0, ymax=1]\n",
      "        \\addplot[dashed, color=black] coordinates {(0,0) (1,1)};\n",
      "        \\addplot[calline] coordinates {(0.2801090478897095, 0.2711760997772217) (0.3587299883365631, 0.3765678405761719) (0.45346391201019287, 0.4854033589363098) (0.5474650263786316, 0.6013736128807068) (0.6470810770988464, 0.7090548276901245) (0.7495426535606384, 0.8060527443885803) (0.8504576683044434, 0.8827948570251465) (0.930920660495758, 0.9450691938400269)};\n",
      "        \\node[above, anchor=south west, rotate=60, font=\\tiny] at (axis cs:0.2801090478897095, 1.0) {1641};\n",
      "        \\draw[dotted, color=black] (axis cs:0.2801090478897095, 0.2711760997772217) -- (axis cs:0.2801090478897095, 1.0);\n",
      "        \\node[above, anchor=south west, rotate=60, font=\\tiny] at (axis cs:0.3587299883365631, 1.0) {10524};\n",
      "        \\draw[dotted, color=black] (axis cs:0.3587299883365631, 0.3765678405761719) -- (axis cs:0.3587299883365631, 1.0);\n",
      "        \\node[above, anchor=south west, rotate=60, font=\\tiny] at (axis cs:0.45346391201019287, 1.0) {21135};\n",
      "        \\draw[dotted, color=black] (axis cs:0.45346391201019287, 0.4854033589363098) -- (axis cs:0.45346391201019287, 1.0);\n",
      "        \\node[above, anchor=south west, rotate=60, font=\\tiny] at (axis cs:0.5474650263786316, 1.0) {21258};\n",
      "        \\draw[dotted, color=black] (axis cs:0.5474650263786316, 0.6013736128807068) -- (axis cs:0.5474650263786316, 1.0);\n",
      "        \\node[above, anchor=south west, rotate=60, font=\\tiny] at (axis cs:0.6470810770988464, 1.0) {14611};\n",
      "        \\draw[dotted, color=black] (axis cs:0.6470810770988464, 0.7090548276901245) -- (axis cs:0.6470810770988464, 1.0);\n",
      "        \\node[above, anchor=south west, rotate=60, font=\\tiny] at (axis cs:0.7495426535606384, 1.0) {11565};\n",
      "        \\draw[dotted, color=black] (axis cs:0.7495426535606384, 0.8060527443885803) -- (axis cs:0.7495426535606384, 1.0);\n",
      "        \\node[above, anchor=south west, rotate=60, font=\\tiny] at (axis cs:0.8504576683044434, 1.0) {12380};\n",
      "        \\draw[dotted, color=black] (axis cs:0.8504576683044434, 0.8827948570251465) -- (axis cs:0.8504576683044434, 1.0);\n",
      "        \\node[above, anchor=south west, rotate=60, font=\\tiny] at (axis cs:0.930920660495758, 1.0) {6936};\n",
      "        \\draw[dotted, color=black] (axis cs:0.930920660495758, 0.9450691938400269) -- (axis cs:0.930920660495758, 1.0);\n",
      "    \\end{axis}\n",
      "\\end{tikzpicture}\n",
      "Including swag_5\n",
      "sECE: 0.0401, ECE: 0.0401\n",
      "\\begin{tikzpicture}\n",
      "    \\begin{axis}[calstyle, xmin=0, xmax=1, ymin=0, ymax=1]\n",
      "        \\addplot[dashed, color=black] coordinates {(0,0) (1,1)};\n",
      "        \\addplot[calline] coordinates {(0.27956101298332214, 0.30163729190826416) (0.35913223028182983, 0.3685332238674164) (0.4540526270866394, 0.4876500070095062) (0.5467991232872009, 0.5961771607398987) (0.6468625068664551, 0.7056121826171875) (0.7499445676803589, 0.8125) (0.8506134152412415, 0.8865817189216614) (0.9308803081512452, 0.9410991072654724)};\n",
      "        \\node[above, anchor=south west, rotate=60, font=\\tiny] at (axis cs:0.27956101298332214, 1.0) {1588};\n",
      "        \\draw[dotted, color=black] (axis cs:0.27956101298332214, 0.30163729190826416) -- (axis cs:0.27956101298332214, 1.0);\n",
      "        \\node[above, anchor=south west, rotate=60, font=\\tiny] at (axis cs:0.35913223028182983, 1.0) {10322};\n",
      "        \\draw[dotted, color=black] (axis cs:0.35913223028182983, 0.3685332238674164) -- (axis cs:0.35913223028182983, 1.0);\n",
      "        \\node[above, anchor=south west, rotate=60, font=\\tiny] at (axis cs:0.4540526270866394, 1.0) {21417};\n",
      "        \\draw[dotted, color=black] (axis cs:0.4540526270866394, 0.4876500070095062) -- (axis cs:0.4540526270866394, 1.0);\n",
      "        \\node[above, anchor=south west, rotate=60, font=\\tiny] at (axis cs:0.5467991232872009, 1.0) {21450};\n",
      "        \\draw[dotted, color=black] (axis cs:0.5467991232872009, 0.5961771607398987) -- (axis cs:0.5467991232872009, 1.0);\n",
      "        \\node[above, anchor=south west, rotate=60, font=\\tiny] at (axis cs:0.6468625068664551, 1.0) {14807};\n",
      "        \\draw[dotted, color=black] (axis cs:0.6468625068664551, 0.7056121826171875) -- (axis cs:0.6468625068664551, 1.0);\n",
      "        \\node[above, anchor=south west, rotate=60, font=\\tiny] at (axis cs:0.7499445676803589, 1.0) {11536};\n",
      "        \\draw[dotted, color=black] (axis cs:0.7499445676803589, 0.8125) -- (axis cs:0.7499445676803589, 1.0);\n",
      "        \\node[above, anchor=south west, rotate=60, font=\\tiny] at (axis cs:0.8506134152412415, 1.0) {12088};\n",
      "        \\draw[dotted, color=black] (axis cs:0.8506134152412415, 0.8865817189216614) -- (axis cs:0.8506134152412415, 1.0);\n",
      "        \\node[above, anchor=south west, rotate=60, font=\\tiny] at (axis cs:0.9308803081512452, 1.0) {6842};\n",
      "        \\draw[dotted, color=black] (axis cs:0.9308803081512452, 0.9410991072654724) -- (axis cs:0.9308803081512452, 1.0);\n",
      "    \\end{axis}\n",
      "\\end{tikzpicture}\n",
      "Including swag_5\n",
      "sECE: 0.0412, ECE: 0.0412\n",
      "\\begin{tikzpicture}\n",
      "    \\begin{axis}[calstyle, xmin=0, xmax=1, ymin=0, ymax=1]\n",
      "        \\addplot[dashed, color=black] coordinates {(0,0) (1,1)};\n",
      "        \\addplot[calline] coordinates {(0.2805696129798889, 0.28807106614112854) (0.3590022623538971, 0.3765263855457306) (0.4544601440429687, 0.4893810749053955) (0.5475271940231323, 0.5962961316108704) (0.6470241546630859, 0.7089768648147583) (0.7498093247413635, 0.8110567927360535) (0.8499755263328552, 0.8860698342323303) (0.9309191703796388, 0.9379137754440308)};\n",
      "        \\node[above, anchor=south west, rotate=60, font=\\tiny] at (axis cs:0.2805696129798889, 1.0) {1576};\n",
      "        \\draw[dotted, color=black] (axis cs:0.2805696129798889, 0.28807106614112854) -- (axis cs:0.2805696129798889, 1.0);\n",
      "        \\node[above, anchor=south west, rotate=60, font=\\tiny] at (axis cs:0.3590022623538971, 1.0) {9909};\n",
      "        \\draw[dotted, color=black] (axis cs:0.3590022623538971, 0.3765263855457306) -- (axis cs:0.3590022623538971, 1.0);\n",
      "        \\node[above, anchor=south west, rotate=60, font=\\tiny] at (axis cs:0.4544601440429687, 1.0) {20859};\n",
      "        \\draw[dotted, color=black] (axis cs:0.4544601440429687, 0.4893810749053955) -- (axis cs:0.4544601440429687, 1.0);\n",
      "        \\node[above, anchor=south west, rotate=60, font=\\tiny] at (axis cs:0.5475271940231323, 1.0) {21761};\n",
      "        \\draw[dotted, color=black] (axis cs:0.5475271940231323, 0.5962961316108704) -- (axis cs:0.5475271940231323, 1.0);\n",
      "        \\node[above, anchor=south west, rotate=60, font=\\tiny] at (axis cs:0.6470241546630859, 1.0) {14827};\n",
      "        \\draw[dotted, color=black] (axis cs:0.6470241546630859, 0.7089768648147583) -- (axis cs:0.6470241546630859, 1.0);\n",
      "        \\node[above, anchor=south west, rotate=60, font=\\tiny] at (axis cs:0.7498093247413635, 1.0) {11866};\n",
      "        \\draw[dotted, color=black] (axis cs:0.7498093247413635, 0.8110567927360535) -- (axis cs:0.7498093247413635, 1.0);\n",
      "        \\node[above, anchor=south west, rotate=60, font=\\tiny] at (axis cs:0.8499755263328552, 1.0) {12455};\n",
      "        \\draw[dotted, color=black] (axis cs:0.8499755263328552, 0.8860698342323303) -- (axis cs:0.8499755263328552, 1.0);\n",
      "        \\node[above, anchor=south west, rotate=60, font=\\tiny] at (axis cs:0.9309191703796388, 1.0) {6797};\n",
      "        \\draw[dotted, color=black] (axis cs:0.9309191703796388, 0.9379137754440308) -- (axis cs:0.9309191703796388, 1.0);\n",
      "    \\end{axis}\n",
      "\\end{tikzpicture}\n",
      "Including mcd_ll\n",
      "sECE: -0.0652, ECE: 0.0652\n",
      "\\begin{tikzpicture}\n",
      "    \\begin{axis}[calstyle, xmin=0, xmax=1, ymin=0, ymax=1]\n",
      "        \\addplot[dashed, color=black] coordinates {(0,0) (1,1)};\n",
      "        \\addplot[calline] coordinates {(0.28147876262664795, 0.25757575035095215) (0.3605734705924988, 0.3024466335773468) (0.4622160494327545, 0.407920777797699) (0.5503331422805786, 0.4956841468811035) (0.6493732929229736, 0.5766836404800415) (0.7480600476264954, 0.6672486662864685) (0.8541123867034912, 0.7721689939498901) (0.945493459701538, 0.8938566446304321)};\n",
      "        \\node[above, anchor=south west, rotate=60, font=\\tiny] at (axis cs:0.28147876262664795, 1.0) {198};\n",
      "        \\draw[dotted, color=black] (axis cs:0.28147876262664795, 0.25757575035095215) -- (axis cs:0.28147876262664795, 1.0);\n",
      "        \\node[above, anchor=south west, rotate=60, font=\\tiny] at (axis cs:0.3605734705924988, 1.0) {1921};\n",
      "        \\draw[dotted, color=black] (axis cs:0.3605734705924988, 0.3024466335773468) -- (axis cs:0.3605734705924988, 1.0);\n",
      "        \\node[above, anchor=south west, rotate=60, font=\\tiny] at (axis cs:0.4622160494327545, 1.0) {8585};\n",
      "        \\draw[dotted, color=black] (axis cs:0.4622160494327545, 0.407920777797699) -- (axis cs:0.4622160494327545, 1.0);\n",
      "        \\node[above, anchor=south west, rotate=60, font=\\tiny] at (axis cs:0.5503331422805786, 1.0) {17957};\n",
      "        \\draw[dotted, color=black] (axis cs:0.5503331422805786, 0.4956841468811035) -- (axis cs:0.5503331422805786, 1.0);\n",
      "        \\node[above, anchor=south west, rotate=60, font=\\tiny] at (axis cs:0.6493732929229736, 1.0) {17507};\n",
      "        \\draw[dotted, color=black] (axis cs:0.6493732929229736, 0.5766836404800415) -- (axis cs:0.6493732929229736, 1.0);\n",
      "        \\node[above, anchor=south west, rotate=60, font=\\tiny] at (axis cs:0.7480600476264954, 1.0) {14891};\n",
      "        \\draw[dotted, color=black] (axis cs:0.7480600476264954, 0.6672486662864685) -- (axis cs:0.7480600476264954, 1.0);\n",
      "        \\node[above, anchor=south west, rotate=60, font=\\tiny] at (axis cs:0.8541123867034912, 1.0) {15551};\n",
      "        \\draw[dotted, color=black] (axis cs:0.8541123867034912, 0.7721689939498901) -- (axis cs:0.8541123867034912, 1.0);\n",
      "        \\node[above, anchor=south west, rotate=60, font=\\tiny] at (axis cs:0.945493459701538, 1.0) {23440};\n",
      "        \\draw[dotted, color=black] (axis cs:0.945493459701538, 0.8938566446304321) -- (axis cs:0.945493459701538, 1.0);\n",
      "    \\end{axis}\n",
      "\\end{tikzpicture}\n",
      "Including swag_5\n",
      "sECE: 0.0384, ECE: 0.0389\n",
      "\\begin{tikzpicture}\n",
      "    \\begin{axis}[calstyle, xmin=0, xmax=1, ymin=0, ymax=1]\n",
      "        \\addplot[dashed, color=black] coordinates {(0,0) (1,1)};\n",
      "        \\addplot[calline] coordinates {(0.279075562953949, 0.26565349102020264) (0.3582158088684082, 0.3805912137031555) (0.4537166357040405, 0.48586487770080566) (0.5472277402877808, 0.5957598090171814) (0.6468415856361389, 0.7029607892036438) (0.7498260140419006, 0.8121770620346069) (0.8506569862365723, 0.8788479566574097) (0.9315443634986876, 0.9376521706581116)};\n",
      "        \\node[above, anchor=south west, rotate=60, font=\\tiny] at (axis cs:0.279075562953949, 1.0) {1645};\n",
      "        \\draw[dotted, color=black] (axis cs:0.279075562953949, 0.26565349102020264) -- (axis cs:0.279075562953949, 1.0);\n",
      "        \\node[above, anchor=south west, rotate=60, font=\\tiny] at (axis cs:0.3582158088684082, 1.0) {10284};\n",
      "        \\draw[dotted, color=black] (axis cs:0.3582158088684082, 0.3805912137031555) -- (axis cs:0.3582158088684082, 1.0);\n",
      "        \\node[above, anchor=south west, rotate=60, font=\\tiny] at (axis cs:0.4537166357040405, 1.0) {20870};\n",
      "        \\draw[dotted, color=black] (axis cs:0.4537166357040405, 0.48586487770080566) -- (axis cs:0.4537166357040405, 1.0);\n",
      "        \\node[above, anchor=south west, rotate=60, font=\\tiny] at (axis cs:0.5472277402877808, 1.0) {21084};\n",
      "        \\draw[dotted, color=black] (axis cs:0.5472277402877808, 0.5957598090171814) -- (axis cs:0.5472277402877808, 1.0);\n",
      "        \\node[above, anchor=south west, rotate=60, font=\\tiny] at (axis cs:0.6468415856361389, 1.0) {14557};\n",
      "        \\draw[dotted, color=black] (axis cs:0.6468415856361389, 0.7029607892036438) -- (axis cs:0.6468415856361389, 1.0);\n",
      "        \\node[above, anchor=south west, rotate=60, font=\\tiny] at (axis cs:0.7498260140419006, 1.0) {11612};\n",
      "        \\draw[dotted, color=black] (axis cs:0.7498260140419006, 0.8121770620346069) -- (axis cs:0.7498260140419006, 1.0);\n",
      "        \\node[above, anchor=south west, rotate=60, font=\\tiny] at (axis cs:0.8506569862365723, 1.0) {12604};\n",
      "        \\draw[dotted, color=black] (axis cs:0.8506569862365723, 0.8788479566574097) -- (axis cs:0.8506569862365723, 1.0);\n",
      "        \\node[above, anchor=south west, rotate=60, font=\\tiny] at (axis cs:0.9315443634986876, 1.0) {7394};\n",
      "        \\draw[dotted, color=black] (axis cs:0.9315443634986876, 0.9376521706581116) -- (axis cs:0.9315443634986876, 1.0);\n",
      "    \\end{axis}\n",
      "\\end{tikzpicture}\n",
      "Including swag_5\n",
      "sECE: 0.0387, ECE: 0.0388\n",
      "\\begin{tikzpicture}\n",
      "    \\begin{axis}[calstyle, xmin=0, xmax=1, ymin=0, ymax=1]\n",
      "        \\addplot[dashed, color=black] coordinates {(0,0) (1,1)};\n",
      "        \\addplot[calline] coordinates {(0.2799895107746124, 0.2784730792045593) (0.35889238119125366, 0.3758858144283294) (0.45408913493156433, 0.4827930331230163) (0.547266960144043, 0.5946210622787476) (0.6463369727134705, 0.7050756216049194) (0.7497336864471436, 0.8128710389137268) (0.8503865003585815, 0.8841453194618225) (0.9310395121574402, 0.939669907093048)};\n",
      "        \\node[above, anchor=south west, rotate=60, font=\\tiny] at (axis cs:0.2799895107746124, 1.0) {1598};\n",
      "        \\draw[dotted, color=black] (axis cs:0.2799895107746124, 0.2784730792045593) -- (axis cs:0.2799895107746124, 1.0);\n",
      "        \\node[above, anchor=south west, rotate=60, font=\\tiny] at (axis cs:0.35889238119125366, 1.0) {10160};\n",
      "        \\draw[dotted, color=black] (axis cs:0.35889238119125366, 0.3758858144283294) -- (axis cs:0.35889238119125366, 1.0);\n",
      "        \\node[above, anchor=south west, rotate=60, font=\\tiny] at (axis cs:0.45408913493156433, 1.0) {21038};\n",
      "        \\draw[dotted, color=black] (axis cs:0.45408913493156433, 0.4827930331230163) -- (axis cs:0.45408913493156433, 1.0);\n",
      "        \\node[above, anchor=south west, rotate=60, font=\\tiny] at (axis cs:0.547266960144043, 1.0) {21454};\n",
      "        \\draw[dotted, color=black] (axis cs:0.547266960144043, 0.5946210622787476) -- (axis cs:0.547266960144043, 1.0);\n",
      "        \\node[above, anchor=south west, rotate=60, font=\\tiny] at (axis cs:0.6463369727134705, 1.0) {14875};\n",
      "        \\draw[dotted, color=black] (axis cs:0.6463369727134705, 0.7050756216049194) -- (axis cs:0.6463369727134705, 1.0);\n",
      "        \\node[above, anchor=south west, rotate=60, font=\\tiny] at (axis cs:0.7497336864471436, 1.0) {11623};\n",
      "        \\draw[dotted, color=black] (axis cs:0.7497336864471436, 0.8128710389137268) -- (axis cs:0.7497336864471436, 1.0);\n",
      "        \\node[above, anchor=south west, rotate=60, font=\\tiny] at (axis cs:0.8503865003585815, 1.0) {12274};\n",
      "        \\draw[dotted, color=black] (axis cs:0.8503865003585815, 0.8841453194618225) -- (axis cs:0.8503865003585815, 1.0);\n",
      "        \\node[above, anchor=south west, rotate=60, font=\\tiny] at (axis cs:0.9310395121574402, 1.0) {7028};\n",
      "        \\draw[dotted, color=black] (axis cs:0.9310395121574402, 0.939669907093048) -- (axis cs:0.9310395121574402, 1.0);\n",
      "    \\end{axis}\n",
      "\\end{tikzpicture}\n",
      "Including mcd_ll\n",
      "sECE: -0.0784, ECE: 0.0784\n",
      "\\begin{tikzpicture}\n",
      "    \\begin{axis}[calstyle, xmin=0, xmax=1, ymin=0, ymax=1]\n",
      "        \\addplot[dashed, color=black] coordinates {(0,0) (1,1)};\n",
      "        \\addplot[calline] coordinates {(0.2848384976387024, 0.23036649823188785) (0.35825541615486145, 0.29663774371147156) (0.4624822735786438, 0.4019847810268402) (0.550221860408783, 0.4939005374908447) (0.6497233510017395, 0.558968722820282) (0.748228132724762, 0.6488087773323059) (0.8540735840797424, 0.7549778819084167) (0.9447998404502868, 0.8792296648025513)};\n",
      "        \\node[above, anchor=south west, rotate=60, font=\\tiny] at (axis cs:0.2848384976387024, 1.0) {191};\n",
      "        \\draw[dotted, color=black] (axis cs:0.2848384976387024, 0.23036649823188785) -- (axis cs:0.2848384976387024, 1.0);\n",
      "        \\node[above, anchor=south west, rotate=60, font=\\tiny] at (axis cs:0.35825541615486145, 1.0) {1844};\n",
      "        \\draw[dotted, color=black] (axis cs:0.35825541615486145, 0.29663774371147156) -- (axis cs:0.35825541615486145, 1.0);\n",
      "        \\node[above, anchor=south west, rotate=60, font=\\tiny] at (axis cs:0.4624822735786438, 1.0) {7759};\n",
      "        \\draw[dotted, color=black] (axis cs:0.4624822735786438, 0.4019847810268402) -- (axis cs:0.4624822735786438, 1.0);\n",
      "        \\node[above, anchor=south west, rotate=60, font=\\tiny] at (axis cs:0.550221860408783, 1.0) {16149};\n",
      "        \\draw[dotted, color=black] (axis cs:0.550221860408783, 0.4939005374908447) -- (axis cs:0.550221860408783, 1.0);\n",
      "        \\node[above, anchor=south west, rotate=60, font=\\tiny] at (axis cs:0.6497233510017395, 1.0) {16407};\n",
      "        \\draw[dotted, color=black] (axis cs:0.6497233510017395, 0.558968722820282) -- (axis cs:0.6497233510017395, 1.0);\n",
      "        \\node[above, anchor=south west, rotate=60, font=\\tiny] at (axis cs:0.748228132724762, 1.0) {15362};\n",
      "        \\draw[dotted, color=black] (axis cs:0.748228132724762, 0.6488087773323059) -- (axis cs:0.748228132724762, 1.0);\n",
      "        \\node[above, anchor=south west, rotate=60, font=\\tiny] at (axis cs:0.8540735840797424, 1.0) {16272};\n",
      "        \\draw[dotted, color=black] (axis cs:0.8540735840797424, 0.7549778819084167) -- (axis cs:0.8540735840797424, 1.0);\n",
      "        \\node[above, anchor=south west, rotate=60, font=\\tiny] at (axis cs:0.9447998404502868, 1.0) {26066};\n",
      "        \\draw[dotted, color=black] (axis cs:0.9447998404502868, 0.8792296648025513) -- (axis cs:0.9447998404502868, 1.0);\n",
      "    \\end{axis}\n",
      "\\end{tikzpicture}\n",
      "Including mcd_ll\n",
      "sECE: -0.0604, ECE: 0.0604\n",
      "\\begin{tikzpicture}\n",
      "    \\begin{axis}[calstyle, xmin=0, xmax=1, ymin=0, ymax=1]\n",
      "        \\addplot[dashed, color=black] coordinates {(0,0) (1,1)};\n",
      "        \\addplot[calline] coordinates {(0.28313881158828735, 0.2235294133424759) (0.36028528213500977, 0.2951541841030121) (0.463037371635437, 0.4052528738975525) (0.5501382350921631, 0.49518758058547974) (0.6499320268630981, 0.5683186650276184) (0.7483245730400085, 0.6739255785942078) (0.8518213033676147, 0.799223005771637) (0.9456426501274108, 0.9056650996208192)};\n",
      "        \\node[above, anchor=south west, rotate=60, font=\\tiny] at (axis cs:0.28313881158828735, 1.0) {255};\n",
      "        \\draw[dotted, color=black] (axis cs:0.28313881158828735, 0.2235294133424759) -- (axis cs:0.28313881158828735, 1.0);\n",
      "        \\node[above, anchor=south west, rotate=60, font=\\tiny] at (axis cs:0.36028528213500977, 1.0) {2043};\n",
      "        \\draw[dotted, color=black] (axis cs:0.36028528213500977, 0.2951541841030121) -- (axis cs:0.36028528213500977, 1.0);\n",
      "        \\node[above, anchor=south west, rotate=60, font=\\tiny] at (axis cs:0.463037371635437, 1.0) {9214};\n",
      "        \\draw[dotted, color=black] (axis cs:0.463037371635437, 0.4052528738975525) -- (axis cs:0.463037371635437, 1.0);\n",
      "        \\node[above, anchor=south west, rotate=60, font=\\tiny] at (axis cs:0.5501382350921631, 1.0) {18286};\n",
      "        \\draw[dotted, color=black] (axis cs:0.5501382350921631, 0.49518758058547974) -- (axis cs:0.5501382350921631, 1.0);\n",
      "        \\node[above, anchor=south west, rotate=60, font=\\tiny] at (axis cs:0.6499320268630981, 1.0) {18604};\n",
      "        \\draw[dotted, color=black] (axis cs:0.6499320268630981, 0.5683186650276184) -- (axis cs:0.6499320268630981, 1.0);\n",
      "        \\node[above, anchor=south west, rotate=60, font=\\tiny] at (axis cs:0.7483245730400085, 1.0) {17358};\n",
      "        \\draw[dotted, color=black] (axis cs:0.7483245730400085, 0.6739255785942078) -- (axis cs:0.7483245730400085, 1.0);\n",
      "        \\node[above, anchor=south west, rotate=60, font=\\tiny] at (axis cs:0.8518213033676147, 1.0) {14414};\n",
      "        \\draw[dotted, color=black] (axis cs:0.8518213033676147, 0.799223005771637) -- (axis cs:0.8518213033676147, 1.0);\n",
      "        \\node[above, anchor=south west, rotate=60, font=\\tiny] at (axis cs:0.9456426501274108, 1.0) {19876};\n",
      "        \\draw[dotted, color=black] (axis cs:0.9456426501274108, 0.9056650996208192) -- (axis cs:0.9456426501274108, 1.0);\n",
      "    \\end{axis}\n",
      "\\end{tikzpicture}\n",
      "Including mcd_ll\n",
      "sECE: -0.0624, ECE: 0.0624\n",
      "\\begin{tikzpicture}\n",
      "    \\begin{axis}[calstyle, xmin=0, xmax=1, ymin=0, ymax=1]\n",
      "        \\addplot[dashed, color=black] coordinates {(0,0) (1,1)};\n",
      "        \\addplot[calline] coordinates {(0.2819299101829529, 0.2514970004558563) (0.3612973988056183, 0.2934936285018921) (0.4658320248126984, 0.391451358795166) (0.549934446811676, 0.49147409200668335) (0.6506794095039368, 0.5710622072219849) (0.7486847639083862, 0.668488621711731) (0.851635754108429, 0.8031938672065735) (0.9421470761299132, 0.9057244658470154)};\n",
      "        \\node[above, anchor=south west, rotate=60, font=\\tiny] at (axis cs:0.2819299101829529, 1.0) {167};\n",
      "        \\draw[dotted, color=black] (axis cs:0.2819299101829529, 0.2514970004558563) -- (axis cs:0.2819299101829529, 1.0);\n",
      "        \\node[above, anchor=south west, rotate=60, font=\\tiny] at (axis cs:0.3612973988056183, 1.0) {1414};\n",
      "        \\draw[dotted, color=black] (axis cs:0.3612973988056183, 0.2934936285018921) -- (axis cs:0.3612973988056183, 1.0);\n",
      "        \\node[above, anchor=south west, rotate=60, font=\\tiny] at (axis cs:0.4658320248126984, 1.0) {7393};\n",
      "        \\draw[dotted, color=black] (axis cs:0.4658320248126984, 0.391451358795166) -- (axis cs:0.4658320248126984, 1.0);\n",
      "        \\node[above, anchor=south west, rotate=60, font=\\tiny] at (axis cs:0.549934446811676, 1.0) {18825};\n",
      "        \\draw[dotted, color=black] (axis cs:0.549934446811676, 0.49147409200668335) -- (axis cs:0.549934446811676, 1.0);\n",
      "        \\node[above, anchor=south west, rotate=60, font=\\tiny] at (axis cs:0.6506794095039368, 1.0) {19497};\n",
      "        \\draw[dotted, color=black] (axis cs:0.6506794095039368, 0.5710622072219849) -- (axis cs:0.6506794095039368, 1.0);\n",
      "        \\node[above, anchor=south west, rotate=60, font=\\tiny] at (axis cs:0.7486847639083862, 1.0) {18844};\n",
      "        \\draw[dotted, color=black] (axis cs:0.7486847639083862, 0.668488621711731) -- (axis cs:0.7486847639083862, 1.0);\n",
      "        \\node[above, anchor=south west, rotate=60, font=\\tiny] at (axis cs:0.851635754108429, 1.0) {15655};\n",
      "        \\draw[dotted, color=black] (axis cs:0.851635754108429, 0.8031938672065735) -- (axis cs:0.851635754108429, 1.0);\n",
      "        \\node[above, anchor=south west, rotate=60, font=\\tiny] at (axis cs:0.9421470761299132, 1.0) {18255};\n",
      "        \\draw[dotted, color=black] (axis cs:0.9421470761299132, 0.9057244658470154) -- (axis cs:0.9421470761299132, 1.0);\n",
      "    \\end{axis}\n",
      "\\end{tikzpicture}\n",
      "Including mcd_ll\n",
      "sECE: -0.0856, ECE: 0.0856\n",
      "\\begin{tikzpicture}\n",
      "    \\begin{axis}[calstyle, xmin=0, xmax=1, ymin=0, ymax=1]\n",
      "        \\addplot[dashed, color=black] coordinates {(0,0) (1,1)};\n",
      "        \\addplot[calline] coordinates {(0.28116118907928467, 0.2705882489681244) (0.3588109016418457, 0.294730007648468) (0.46317994594573975, 0.3885887861251831) (0.5501167178153992, 0.47738316655159) (0.6501516699790955, 0.5518018007278442) (0.7495476007461548, 0.6330734491348267) (0.8530406355857849, 0.7530914545059204) (0.9436953663825988, 0.8847246170043945)};\n",
      "        \\node[above, anchor=south west, rotate=60, font=\\tiny] at (axis cs:0.28116118907928467, 1.0) {255};\n",
      "        \\draw[dotted, color=black] (axis cs:0.28116118907928467, 0.2705882489681244) -- (axis cs:0.28116118907928467, 1.0);\n",
      "        \\node[above, anchor=south west, rotate=60, font=\\tiny] at (axis cs:0.3588109016418457, 1.0) {1537};\n",
      "        \\draw[dotted, color=black] (axis cs:0.3588109016418457, 0.294730007648468) -- (axis cs:0.3588109016418457, 1.0);\n",
      "        \\node[above, anchor=south west, rotate=60, font=\\tiny] at (axis cs:0.46317994594573975, 1.0) {5924};\n",
      "        \\draw[dotted, color=black] (axis cs:0.46317994594573975, 0.3885887861251831) -- (axis cs:0.46317994594573975, 1.0);\n",
      "        \\node[above, anchor=south west, rotate=60, font=\\tiny] at (axis cs:0.5501167178153992, 1.0) {16050};\n",
      "        \\draw[dotted, color=black] (axis cs:0.5501167178153992, 0.47738316655159) -- (axis cs:0.5501167178153992, 1.0);\n",
      "        \\node[above, anchor=south west, rotate=60, font=\\tiny] at (axis cs:0.6501516699790955, 1.0) {16872};\n",
      "        \\draw[dotted, color=black] (axis cs:0.6501516699790955, 0.5518018007278442) -- (axis cs:0.6501516699790955, 1.0);\n",
      "        \\node[above, anchor=south west, rotate=60, font=\\tiny] at (axis cs:0.7495476007461548, 1.0) {17186};\n",
      "        \\draw[dotted, color=black] (axis cs:0.7495476007461548, 0.6330734491348267) -- (axis cs:0.7495476007461548, 1.0);\n",
      "        \\node[above, anchor=south west, rotate=60, font=\\tiny] at (axis cs:0.8530406355857849, 1.0) {17225};\n",
      "        \\draw[dotted, color=black] (axis cs:0.8530406355857849, 0.7530914545059204) -- (axis cs:0.8530406355857849, 1.0);\n",
      "        \\node[above, anchor=south west, rotate=60, font=\\tiny] at (axis cs:0.9436953663825988, 1.0) {25001};\n",
      "        \\draw[dotted, color=black] (axis cs:0.9436953663825988, 0.8847246170043945) -- (axis cs:0.9436953663825988, 1.0);\n",
      "    \\end{axis}\n",
      "\\end{tikzpicture}\n",
      "Including mcd_ll\n",
      "sECE: -0.0626, ECE: 0.0626\n",
      "\\begin{tikzpicture}\n",
      "    \\begin{axis}[calstyle, xmin=0, xmax=1, ymin=0, ymax=1]\n",
      "        \\addplot[dashed, color=black] coordinates {(0,0) (1,1)};\n",
      "        \\addplot[calline] coordinates {(0.28206390142440796, 0.26288658380508423) (0.3611774146556854, 0.27181604504585266) (0.4620301425457001, 0.3928386867046356) (0.5499123930931091, 0.49282732605934143) (0.6502884030342102, 0.5701740980148315) (0.7486294507980347, 0.6684169769287109) (0.8513117432594299, 0.7996788620948792) (0.9425041675567628, 0.9046456217765808)};\n",
      "        \\node[above, anchor=south west, rotate=60, font=\\tiny] at (axis cs:0.28206390142440796, 1.0) {194};\n",
      "        \\draw[dotted, color=black] (axis cs:0.28206390142440796, 0.26288658380508423) -- (axis cs:0.28206390142440796, 1.0);\n",
      "        \\node[above, anchor=south west, rotate=60, font=\\tiny] at (axis cs:0.3611774146556854, 1.0) {1696};\n",
      "        \\draw[dotted, color=black] (axis cs:0.3611774146556854, 0.27181604504585266) -- (axis cs:0.3611774146556854, 1.0);\n",
      "        \\node[above, anchor=south west, rotate=60, font=\\tiny] at (axis cs:0.4620301425457001, 1.0) {7736};\n",
      "        \\draw[dotted, color=black] (axis cs:0.4620301425457001, 0.3928386867046356) -- (axis cs:0.4620301425457001, 1.0);\n",
      "        \\node[above, anchor=south west, rotate=60, font=\\tiny] at (axis cs:0.5499123930931091, 1.0) {18682};\n",
      "        \\draw[dotted, color=black] (axis cs:0.5499123930931091, 0.49282732605934143) -- (axis cs:0.5499123930931091, 1.0);\n",
      "        \\node[above, anchor=south west, rotate=60, font=\\tiny] at (axis cs:0.6502884030342102, 1.0) {19245};\n",
      "        \\draw[dotted, color=black] (axis cs:0.6502884030342102, 0.5701740980148315) -- (axis cs:0.6502884030342102, 1.0);\n",
      "        \\node[above, anchor=south west, rotate=60, font=\\tiny] at (axis cs:0.7486294507980347, 1.0) {18092};\n",
      "        \\draw[dotted, color=black] (axis cs:0.7486294507980347, 0.6684169769287109) -- (axis cs:0.7486294507980347, 1.0);\n",
      "        \\node[above, anchor=south west, rotate=60, font=\\tiny] at (axis cs:0.8513117432594299, 1.0) {15570};\n",
      "        \\draw[dotted, color=black] (axis cs:0.8513117432594299, 0.7996788620948792) -- (axis cs:0.8513117432594299, 1.0);\n",
      "        \\node[above, anchor=south west, rotate=60, font=\\tiny] at (axis cs:0.9425041675567628, 1.0) {18835};\n",
      "        \\draw[dotted, color=black] (axis cs:0.9425041675567628, 0.9046456217765808) -- (axis cs:0.9425041675567628, 1.0);\n",
      "    \\end{axis}\n",
      "\\end{tikzpicture}\n",
      "Including laplace_5\n",
      "sECE: -0.0570, ECE: 0.0570\n",
      "\\begin{tikzpicture}\n",
      "    \\begin{axis}[calstyle, xmin=0, xmax=1, ymin=0, ymax=1]\n",
      "        \\addplot[dashed, color=black] coordinates {(0,0) (1,1)};\n",
      "        \\addplot[calline] coordinates {(0.2807725667953491, 0.2171945720911026) (0.3603121042251587, 0.2966408133506775) (0.4630136489868164, 0.4018844366073608) (0.5499908328056335, 0.4980606734752655) (0.6499186754226685, 0.5787560939788818) (0.7483691573143005, 0.6760848164558411) (0.8526301980018616, 0.8023558259010315) (0.942847490310669, 0.905300498008728)};\n",
      "        \\node[above, anchor=south west, rotate=60, font=\\tiny] at (axis cs:0.2807725667953491, 1.0) {221};\n",
      "        \\draw[dotted, color=black] (axis cs:0.2807725667953491, 0.2171945720911026) -- (axis cs:0.2807725667953491, 1.0);\n",
      "        \\node[above, anchor=south west, rotate=60, font=\\tiny] at (axis cs:0.3603121042251587, 1.0) {1935};\n",
      "        \\draw[dotted, color=black] (axis cs:0.3603121042251587, 0.2966408133506775) -- (axis cs:0.3603121042251587, 1.0);\n",
      "        \\node[above, anchor=south west, rotate=60, font=\\tiny] at (axis cs:0.4630136489868164, 1.0) {7960};\n",
      "        \\draw[dotted, color=black] (axis cs:0.4630136489868164, 0.4018844366073608) -- (axis cs:0.4630136489868164, 1.0);\n",
      "        \\node[above, anchor=south west, rotate=60, font=\\tiny] at (axis cs:0.5499908328056335, 1.0) {18821};\n",
      "        \\draw[dotted, color=black] (axis cs:0.5499908328056335, 0.4980606734752655) -- (axis cs:0.5499908328056335, 1.0);\n",
      "        \\node[above, anchor=south west, rotate=60, font=\\tiny] at (axis cs:0.6499186754226685, 1.0) {18989};\n",
      "        \\draw[dotted, color=black] (axis cs:0.6499186754226685, 0.5787560939788818) -- (axis cs:0.6499186754226685, 1.0);\n",
      "        \\node[above, anchor=south west, rotate=60, font=\\tiny] at (axis cs:0.7483691573143005, 1.0) {17307};\n",
      "        \\draw[dotted, color=black] (axis cs:0.7483691573143005, 0.6760848164558411) -- (axis cs:0.7483691573143005, 1.0);\n",
      "        \\node[above, anchor=south west, rotate=60, font=\\tiny] at (axis cs:0.8526301980018616, 1.0) {15366};\n",
      "        \\draw[dotted, color=black] (axis cs:0.8526301980018616, 0.8023558259010315) -- (axis cs:0.8526301980018616, 1.0);\n",
      "        \\node[above, anchor=south west, rotate=60, font=\\tiny] at (axis cs:0.942847490310669, 1.0) {19451};\n",
      "        \\draw[dotted, color=black] (axis cs:0.942847490310669, 0.905300498008728) -- (axis cs:0.942847490310669, 1.0);\n",
      "    \\end{axis}\n",
      "\\end{tikzpicture}\n",
      "Including laplace_1\n",
      "sECE: -0.0761, ECE: 0.0761\n",
      "\\begin{tikzpicture}\n",
      "    \\begin{axis}[calstyle, xmin=0, xmax=1, ymin=0, ymax=1]\n",
      "        \\addplot[dashed, color=black] coordinates {(0,0) (1,1)};\n",
      "        \\addplot[calline] coordinates {(0.28395119309425354, 0.24571429193019867) (0.3596212863922119, 0.28637146949768066) (0.4630073308944702, 0.3973176777362823) (0.5493348240852356, 0.49236753582954407) (0.650105893611908, 0.56344074010849) (0.748187243938446, 0.6482354402542114) (0.8539413213729858, 0.7636525630950928) (0.9437564015388488, 0.8833639621734619)};\n",
      "        \\node[above, anchor=south west, rotate=60, font=\\tiny] at (axis cs:0.28395119309425354, 1.0) {175};\n",
      "        \\draw[dotted, color=black] (axis cs:0.28395119309425354, 0.24571429193019867) -- (axis cs:0.28395119309425354, 1.0);\n",
      "        \\node[above, anchor=south west, rotate=60, font=\\tiny] at (axis cs:0.3596212863922119, 1.0) {1739};\n",
      "        \\draw[dotted, color=black] (axis cs:0.3596212863922119, 0.28637146949768066) -- (axis cs:0.3596212863922119, 1.0);\n",
      "        \\node[above, anchor=south west, rotate=60, font=\\tiny] at (axis cs:0.4630073308944702, 1.0) {7158};\n",
      "        \\draw[dotted, color=black] (axis cs:0.4630073308944702, 0.3973176777362823) -- (axis cs:0.4630073308944702, 1.0);\n",
      "        \\node[above, anchor=south west, rotate=60, font=\\tiny] at (axis cs:0.5493348240852356, 1.0) {16967};\n",
      "        \\draw[dotted, color=black] (axis cs:0.5493348240852356, 0.49236753582954407) -- (axis cs:0.5493348240852356, 1.0);\n",
      "        \\node[above, anchor=south west, rotate=60, font=\\tiny] at (axis cs:0.650105893611908, 1.0) {17008};\n",
      "        \\draw[dotted, color=black] (axis cs:0.650105893611908, 0.56344074010849) -- (axis cs:0.650105893611908, 1.0);\n",
      "        \\node[above, anchor=south west, rotate=60, font=\\tiny] at (axis cs:0.748187243938446, 1.0) {15698};\n",
      "        \\draw[dotted, color=black] (axis cs:0.748187243938446, 0.6482354402542114) -- (axis cs:0.748187243938446, 1.0);\n",
      "        \\node[above, anchor=south west, rotate=60, font=\\tiny] at (axis cs:0.8539413213729858, 1.0) {16810};\n",
      "        \\draw[dotted, color=black] (axis cs:0.8539413213729858, 0.7636525630950928) -- (axis cs:0.8539413213729858, 1.0);\n",
      "        \\node[above, anchor=south west, rotate=60, font=\\tiny] at (axis cs:0.9437564015388488, 1.0) {24495};\n",
      "        \\draw[dotted, color=black] (axis cs:0.9437564015388488, 0.8833639621734619) -- (axis cs:0.9437564015388488, 1.0);\n",
      "    \\end{axis}\n",
      "\\end{tikzpicture}\n",
      "Including laplace_5\n",
      "sECE: -0.0575, ECE: 0.0575\n",
      "\\begin{tikzpicture}\n",
      "    \\begin{axis}[calstyle, xmin=0, xmax=1, ymin=0, ymax=1]\n",
      "        \\addplot[dashed, color=black] coordinates {(0,0) (1,1)};\n",
      "        \\addplot[calline] coordinates {(0.28385284543037415, 0.23529411852359772) (0.3594549298286438, 0.28578704595565796) (0.46255308389663696, 0.4093277156352997) (0.5500561594963074, 0.4966353476047516) (0.6501070261001587, 0.5798382759094238) (0.7480528950691223, 0.6766103506088257) (0.8530800342559814, 0.7970484495162964) (0.9429563879966736, 0.9035022854804992)};\n",
      "        \\node[above, anchor=south west, rotate=60, font=\\tiny] at (axis cs:0.28385284543037415, 1.0) {238};\n",
      "        \\draw[dotted, color=black] (axis cs:0.28385284543037415, 0.23529411852359772) -- (axis cs:0.28385284543037415, 1.0);\n",
      "        \\node[above, anchor=south west, rotate=60, font=\\tiny] at (axis cs:0.3594549298286438, 1.0) {1963};\n",
      "        \\draw[dotted, color=black] (axis cs:0.3594549298286438, 0.28578704595565796) -- (axis cs:0.3594549298286438, 1.0);\n",
      "        \\node[above, anchor=south west, rotate=60, font=\\tiny] at (axis cs:0.46255308389663696, 1.0) {8062};\n",
      "        \\draw[dotted, color=black] (axis cs:0.46255308389663696, 0.4093277156352997) -- (axis cs:0.46255308389663696, 1.0);\n",
      "        \\node[above, anchor=south west, rotate=60, font=\\tiny] at (axis cs:0.5500561594963074, 1.0) {18724};\n",
      "        \\draw[dotted, color=black] (axis cs:0.5500561594963074, 0.4966353476047516) -- (axis cs:0.5500561594963074, 1.0);\n",
      "        \\node[above, anchor=south west, rotate=60, font=\\tiny] at (axis cs:0.6501070261001587, 1.0) {18550};\n",
      "        \\draw[dotted, color=black] (axis cs:0.6501070261001587, 0.5798382759094238) -- (axis cs:0.6501070261001587, 1.0);\n",
      "        \\node[above, anchor=south west, rotate=60, font=\\tiny] at (axis cs:0.7480528950691223, 1.0) {16627};\n",
      "        \\draw[dotted, color=black] (axis cs:0.7480528950691223, 0.6766103506088257) -- (axis cs:0.7480528950691223, 1.0);\n",
      "        \\node[above, anchor=south west, rotate=60, font=\\tiny] at (axis cs:0.8530800342559814, 1.0) {15585};\n",
      "        \\draw[dotted, color=black] (axis cs:0.8530800342559814, 0.7970484495162964) -- (axis cs:0.8530800342559814, 1.0);\n",
      "        \\node[above, anchor=south west, rotate=60, font=\\tiny] at (axis cs:0.9429563879966736, 1.0) {20301};\n",
      "        \\draw[dotted, color=black] (axis cs:0.9429563879966736, 0.9035022854804992) -- (axis cs:0.9429563879966736, 1.0);\n",
      "    \\end{axis}\n",
      "\\end{tikzpicture}\n",
      "Including laplace_1\n",
      "sECE: -0.0664, ECE: 0.0664\n",
      "\\begin{tikzpicture}\n",
      "    \\begin{axis}[calstyle, xmin=0, xmax=1, ymin=0, ymax=1]\n",
      "        \\addplot[dashed, color=black] coordinates {(0,0) (1,1)};\n",
      "        \\addplot[calline] coordinates {(0.28228920698165894, 0.203488364815712) (0.3608160614967346, 0.28773584961891174) (0.4642102420330048, 0.3943840861320496) (0.5496516227722168, 0.4880797564983368) (0.6504793763160706, 0.5675433874130249) (0.7492192983627319, 0.6645047068595886) (0.8510226011276245, 0.7929408550262451) (0.943186581134796, 0.9008158445358276)};\n",
      "        \\node[above, anchor=south west, rotate=60, font=\\tiny] at (axis cs:0.28228920698165894, 1.0) {172};\n",
      "        \\draw[dotted, color=black] (axis cs:0.28228920698165894, 0.203488364815712) -- (axis cs:0.28228920698165894, 1.0);\n",
      "        \\node[above, anchor=south west, rotate=60, font=\\tiny] at (axis cs:0.3608160614967346, 1.0) {1484};\n",
      "        \\draw[dotted, color=black] (axis cs:0.3608160614967346, 0.28773584961891174) -- (axis cs:0.3608160614967346, 1.0);\n",
      "        \\node[above, anchor=south west, rotate=60, font=\\tiny] at (axis cs:0.4642102420330048, 1.0) {7087};\n",
      "        \\draw[dotted, color=black] (axis cs:0.4642102420330048, 0.3943840861320496) -- (axis cs:0.4642102420330048, 1.0);\n",
      "        \\node[above, anchor=south west, rotate=60, font=\\tiny] at (axis cs:0.5496516227722168, 1.0) {18456};\n",
      "        \\draw[dotted, color=black] (axis cs:0.5496516227722168, 0.4880797564983368) -- (axis cs:0.5496516227722168, 1.0);\n",
      "        \\node[above, anchor=south west, rotate=60, font=\\tiny] at (axis cs:0.6504793763160706, 1.0) {19010};\n",
      "        \\draw[dotted, color=black] (axis cs:0.6504793763160706, 0.5675433874130249) -- (axis cs:0.6504793763160706, 1.0);\n",
      "        \\node[above, anchor=south west, rotate=60, font=\\tiny] at (axis cs:0.7492192983627319, 1.0) {18656};\n",
      "        \\draw[dotted, color=black] (axis cs:0.7492192983627319, 0.6645047068595886) -- (axis cs:0.7492192983627319, 1.0);\n",
      "        \\node[above, anchor=south west, rotate=60, font=\\tiny] at (axis cs:0.8510226011276245, 1.0) {15696};\n",
      "        \\draw[dotted, color=black] (axis cs:0.8510226011276245, 0.7929408550262451) -- (axis cs:0.8510226011276245, 1.0);\n",
      "        \\node[above, anchor=south west, rotate=60, font=\\tiny] at (axis cs:0.943186581134796, 1.0) {19489};\n",
      "        \\draw[dotted, color=black] (axis cs:0.943186581134796, 0.9008158445358276) -- (axis cs:0.943186581134796, 1.0);\n",
      "    \\end{axis}\n",
      "\\end{tikzpicture}\n",
      "Including laplace_5\n",
      "sECE: -0.0603, ECE: 0.0603\n",
      "\\begin{tikzpicture}\n",
      "    \\begin{axis}[calstyle, xmin=0, xmax=1, ymin=0, ymax=1]\n",
      "        \\addplot[dashed, color=black] coordinates {(0,0) (1,1)};\n",
      "        \\addplot[calline] coordinates {(0.2811047434806824, 0.2590673565864563) (0.35913562774658203, 0.28875064849853516) (0.4631773233413696, 0.40482297539711) (0.5501658916473389, 0.4941670298576355) (0.6502031683921814, 0.578591525554657) (0.7482105493545532, 0.6725685000419617) (0.8529176712036133, 0.7928953170776367) (0.942703664302826, 0.9007592797279358)};\n",
      "        \\node[above, anchor=south west, rotate=60, font=\\tiny] at (axis cs:0.2811047434806824, 1.0) {193};\n",
      "        \\draw[dotted, color=black] (axis cs:0.2811047434806824, 0.2590673565864563) -- (axis cs:0.2811047434806824, 1.0);\n",
      "        \\node[above, anchor=south west, rotate=60, font=\\tiny] at (axis cs:0.35913562774658203, 1.0) {1929};\n",
      "        \\draw[dotted, color=black] (axis cs:0.35913562774658203, 0.28875064849853516) -- (axis cs:0.35913562774658203, 1.0);\n",
      "        \\node[above, anchor=south west, rotate=60, font=\\tiny] at (axis cs:0.4631773233413696, 1.0) {7796};\n",
      "        \\draw[dotted, color=black] (axis cs:0.4631773233413696, 0.40482297539711) -- (axis cs:0.4631773233413696, 1.0);\n",
      "        \\node[above, anchor=south west, rotate=60, font=\\tiny] at (axis cs:0.5501658916473389, 1.0) {18344};\n",
      "        \\draw[dotted, color=black] (axis cs:0.5501658916473389, 0.4941670298576355) -- (axis cs:0.5501658916473389, 1.0);\n",
      "        \\node[above, anchor=south west, rotate=60, font=\\tiny] at (axis cs:0.6502031683921814, 1.0) {18488};\n",
      "        \\draw[dotted, color=black] (axis cs:0.6502031683921814, 0.578591525554657) -- (axis cs:0.6502031683921814, 1.0);\n",
      "        \\node[above, anchor=south west, rotate=60, font=\\tiny] at (axis cs:0.7482105493545532, 1.0) {16718};\n",
      "        \\draw[dotted, color=black] (axis cs:0.7482105493545532, 0.6725685000419617) -- (axis cs:0.7482105493545532, 1.0);\n",
      "        \\node[above, anchor=south west, rotate=60, font=\\tiny] at (axis cs:0.8529176712036133, 1.0) {15905};\n",
      "        \\draw[dotted, color=black] (axis cs:0.8529176712036133, 0.7928953170776367) -- (axis cs:0.8529176712036133, 1.0);\n",
      "        \\node[above, anchor=south west, rotate=60, font=\\tiny] at (axis cs:0.942703664302826, 1.0) {20677};\n",
      "        \\draw[dotted, color=black] (axis cs:0.942703664302826, 0.9007592797279358) -- (axis cs:0.942703664302826, 1.0);\n",
      "    \\end{axis}\n",
      "\\end{tikzpicture}\n",
      "Including laplace_1\n",
      "sECE: -0.0608, ECE: 0.0608\n",
      "\\begin{tikzpicture}\n",
      "    \\begin{axis}[calstyle, xmin=0, xmax=1, ymin=0, ymax=1]\n",
      "        \\addplot[dashed, color=black] coordinates {(0,0) (1,1)};\n",
      "        \\addplot[calline] coordinates {(0.28411054611206055, 0.2857142984867096) (0.3602195680141449, 0.3185185194015503) (0.46362805366516113, 0.39808762073516846) (0.5494731664657593, 0.4886111915111542) (0.6501038074493408, 0.567806601524353) (0.7484930157661438, 0.6699925065040588) (0.8507208824157715, 0.8086842894554138) (0.9440260529518129, 0.9091864228248596)};\n",
      "        \\node[above, anchor=south west, rotate=60, font=\\tiny] at (axis cs:0.28411054611206055, 1.0) {203};\n",
      "        \\draw[dotted, color=black] (axis cs:0.28411054611206055, 0.2857142984867096) -- (axis cs:0.28411054611206055, 1.0);\n",
      "        \\node[above, anchor=south west, rotate=60, font=\\tiny] at (axis cs:0.3602195680141449, 1.0) {1755};\n",
      "        \\draw[dotted, color=black] (axis cs:0.3602195680141449, 0.3185185194015503) -- (axis cs:0.3602195680141449, 1.0);\n",
      "        \\node[above, anchor=south west, rotate=60, font=\\tiny] at (axis cs:0.46362805366516113, 1.0) {8262};\n",
      "        \\draw[dotted, color=black] (axis cs:0.46362805366516113, 0.39808762073516846) -- (axis cs:0.46362805366516113, 1.0);\n",
      "        \\node[above, anchor=south west, rotate=60, font=\\tiny] at (axis cs:0.5494731664657593, 1.0) {18966};\n",
      "        \\draw[dotted, color=black] (axis cs:0.5494731664657593, 0.4886111915111542) -- (axis cs:0.5494731664657593, 1.0);\n",
      "        \\node[above, anchor=south west, rotate=60, font=\\tiny] at (axis cs:0.6501038074493408, 1.0) {19563};\n",
      "        \\draw[dotted, color=black] (axis cs:0.6501038074493408, 0.567806601524353) -- (axis cs:0.6501038074493408, 1.0);\n",
      "        \\node[above, anchor=south west, rotate=60, font=\\tiny] at (axis cs:0.7484930157661438, 1.0) {18642};\n",
      "        \\draw[dotted, color=black] (axis cs:0.7484930157661438, 0.6699925065040588) -- (axis cs:0.7484930157661438, 1.0);\n",
      "        \\node[above, anchor=south west, rotate=60, font=\\tiny] at (axis cs:0.8507208824157715, 1.0) {14578};\n",
      "        \\draw[dotted, color=black] (axis cs:0.8507208824157715, 0.8086842894554138) -- (axis cs:0.8507208824157715, 1.0);\n",
      "        \\node[above, anchor=south west, rotate=60, font=\\tiny] at (axis cs:0.9440260529518129, 1.0) {18081};\n",
      "        \\draw[dotted, color=black] (axis cs:0.9440260529518129, 0.9091864228248596) -- (axis cs:0.9440260529518129, 1.0);\n",
      "    \\end{axis}\n",
      "\\end{tikzpicture}\n",
      "Including laplace_5\n",
      "sECE: -0.0603, ECE: 0.0603\n",
      "\\begin{tikzpicture}\n",
      "    \\begin{axis}[calstyle, xmin=0, xmax=1, ymin=0, ymax=1]\n",
      "        \\addplot[dashed, color=black] coordinates {(0,0) (1,1)};\n",
      "        \\addplot[calline] coordinates {(0.2835789620876312, 0.21610169112682345) (0.3598690927028656, 0.29408714175224304) (0.4630983769893646, 0.402717798948288) (0.5500146746635437, 0.49358245730400085) (0.6502830982208252, 0.5786078572273254) (0.7485319375991821, 0.6731838583946228) (0.8530325889587402, 0.7950709462165833) (0.943375825881958, 0.9005049467086792)};\n",
      "        \\node[above, anchor=south west, rotate=60, font=\\tiny] at (axis cs:0.2835789620876312, 1.0) {236};\n",
      "        \\draw[dotted, color=black] (axis cs:0.2835789620876312, 0.21610169112682345) -- (axis cs:0.2835789620876312, 1.0);\n",
      "        \\node[above, anchor=south west, rotate=60, font=\\tiny] at (axis cs:0.3598690927028656, 1.0) {1928};\n",
      "        \\draw[dotted, color=black] (axis cs:0.3598690927028656, 0.29408714175224304) -- (axis cs:0.3598690927028656, 1.0);\n",
      "        \\node[above, anchor=south west, rotate=60, font=\\tiny] at (axis cs:0.4630983769893646, 1.0) {7874};\n",
      "        \\draw[dotted, color=black] (axis cs:0.4630983769893646, 0.402717798948288) -- (axis cs:0.4630983769893646, 1.0);\n",
      "        \\node[above, anchor=south west, rotate=60, font=\\tiny] at (axis cs:0.5500146746635437, 1.0) {18465};\n",
      "        \\draw[dotted, color=black] (axis cs:0.5500146746635437, 0.49358245730400085) -- (axis cs:0.5500146746635437, 1.0);\n",
      "        \\node[above, anchor=south west, rotate=60, font=\\tiny] at (axis cs:0.6502830982208252, 1.0) {18446};\n",
      "        \\draw[dotted, color=black] (axis cs:0.6502830982208252, 0.5786078572273254) -- (axis cs:0.6502830982208252, 1.0);\n",
      "        \\node[above, anchor=south west, rotate=60, font=\\tiny] at (axis cs:0.7485319375991821, 1.0) {16725};\n",
      "        \\draw[dotted, color=black] (axis cs:0.7485319375991821, 0.6731838583946228) -- (axis cs:0.7485319375991821, 1.0);\n",
      "        \\node[above, anchor=south west, rotate=60, font=\\tiny] at (axis cs:0.8530325889587402, 1.0) {15581};\n",
      "        \\draw[dotted, color=black] (axis cs:0.8530325889587402, 0.7950709462165833) -- (axis cs:0.8530325889587402, 1.0);\n",
      "        \\node[above, anchor=south west, rotate=60, font=\\tiny] at (axis cs:0.943375825881958, 1.0) {20795};\n",
      "        \\draw[dotted, color=black] (axis cs:0.943375825881958, 0.9005049467086792) -- (axis cs:0.943375825881958, 1.0);\n",
      "    \\end{axis}\n",
      "\\end{tikzpicture}\n",
      "Including laplace_1\n",
      "sECE: -0.0586, ECE: 0.0586\n",
      "\\begin{tikzpicture}\n",
      "    \\begin{axis}[calstyle, xmin=0, xmax=1, ymin=0, ymax=1]\n",
      "        \\addplot[dashed, color=black] coordinates {(0,0) (1,1)};\n",
      "        \\addplot[calline] coordinates {(0.28038904070854187, 0.22404371201992035) (0.36135175824165344, 0.29500842094421387) (0.463034987449646, 0.3954516053199768) (0.5501290559768677, 0.4910016357898712) (0.6503982543945312, 0.5744067430496216) (0.7480552792549133, 0.6740482449531555) (0.8512325286865234, 0.8094126582145691) (0.9411176443099976, 0.9087725281715392)};\n",
      "        \\node[above, anchor=south west, rotate=60, font=\\tiny] at (axis cs:0.28038904070854187, 1.0) {183};\n",
      "        \\draw[dotted, color=black] (axis cs:0.28038904070854187, 0.22404371201992035) -- (axis cs:0.28038904070854187, 1.0);\n",
      "        \\node[above, anchor=south west, rotate=60, font=\\tiny] at (axis cs:0.36135175824165344, 1.0) {1783};\n",
      "        \\draw[dotted, color=black] (axis cs:0.36135175824165344, 0.29500842094421387) -- (axis cs:0.36135175824165344, 1.0);\n",
      "        \\node[above, anchor=south west, rotate=60, font=\\tiny] at (axis cs:0.463034987449646, 1.0) {7695};\n",
      "        \\draw[dotted, color=black] (axis cs:0.463034987449646, 0.3954516053199768) -- (axis cs:0.463034987449646, 1.0);\n",
      "        \\node[above, anchor=south west, rotate=60, font=\\tiny] at (axis cs:0.5501290559768677, 1.0) {19448};\n",
      "        \\draw[dotted, color=black] (axis cs:0.5501290559768677, 0.4910016357898712) -- (axis cs:0.5501290559768677, 1.0);\n",
      "        \\node[above, anchor=south west, rotate=60, font=\\tiny] at (axis cs:0.6503982543945312, 1.0) {19763};\n",
      "        \\draw[dotted, color=black] (axis cs:0.6503982543945312, 0.5744067430496216) -- (axis cs:0.6503982543945312, 1.0);\n",
      "        \\node[above, anchor=south west, rotate=60, font=\\tiny] at (axis cs:0.7480552792549133, 1.0) {18334};\n",
      "        \\draw[dotted, color=black] (axis cs:0.7480552792549133, 0.6740482449531555) -- (axis cs:0.7480552792549133, 1.0);\n",
      "        \\node[above, anchor=south west, rotate=60, font=\\tiny] at (axis cs:0.8512325286865234, 1.0) {15426};\n",
      "        \\draw[dotted, color=black] (axis cs:0.8512325286865234, 0.8094126582145691) -- (axis cs:0.8512325286865234, 1.0);\n",
      "        \\node[above, anchor=south west, rotate=60, font=\\tiny] at (axis cs:0.9411176443099976, 1.0) {17418};\n",
      "        \\draw[dotted, color=black] (axis cs:0.9411176443099976, 0.9087725281715392) -- (axis cs:0.9411176443099976, 1.0);\n",
      "    \\end{axis}\n",
      "\\end{tikzpicture}\n",
      "Including laplace_5\n",
      "sECE: -0.0565, ECE: 0.0565\n",
      "\\begin{tikzpicture}\n",
      "    \\begin{axis}[calstyle, xmin=0, xmax=1, ymin=0, ymax=1]\n",
      "        \\addplot[dashed, color=black] coordinates {(0,0) (1,1)};\n",
      "        \\addplot[calline] coordinates {(0.28341346979141235, 0.23394495248794556) (0.3608943223953247, 0.29197078943252563) (0.4630633294582367, 0.4005356729030609) (0.5499941110610962, 0.494741290807724) (0.6500508785247803, 0.5841494798660278) (0.7481582164764404, 0.6789131760597229) (0.8528891801834106, 0.8022028207778931) (0.9428606629371644, 0.9042108654975892)};\n",
      "        \\node[above, anchor=south west, rotate=60, font=\\tiny] at (axis cs:0.28341346979141235, 1.0) {218};\n",
      "        \\draw[dotted, color=black] (axis cs:0.28341346979141235, 0.23394495248794556) -- (axis cs:0.28341346979141235, 1.0);\n",
      "        \\node[above, anchor=south west, rotate=60, font=\\tiny] at (axis cs:0.3608943223953247, 1.0) {1918};\n",
      "        \\draw[dotted, color=black] (axis cs:0.3608943223953247, 0.29197078943252563) -- (axis cs:0.3608943223953247, 1.0);\n",
      "        \\node[above, anchor=south west, rotate=60, font=\\tiny] at (axis cs:0.4630633294582367, 1.0) {8214};\n",
      "        \\draw[dotted, color=black] (axis cs:0.4630633294582367, 0.4005356729030609) -- (axis cs:0.4630633294582367, 1.0);\n",
      "        \\node[above, anchor=south west, rotate=60, font=\\tiny] at (axis cs:0.5499941110610962, 1.0) {18921};\n",
      "        \\draw[dotted, color=black] (axis cs:0.5499941110610962, 0.494741290807724) -- (axis cs:0.5499941110610962, 1.0);\n",
      "        \\node[above, anchor=south west, rotate=60, font=\\tiny] at (axis cs:0.6500508785247803, 1.0) {18889};\n",
      "        \\draw[dotted, color=black] (axis cs:0.6500508785247803, 0.5841494798660278) -- (axis cs:0.6500508785247803, 1.0);\n",
      "        \\node[above, anchor=south west, rotate=60, font=\\tiny] at (axis cs:0.7481582164764404, 1.0) {16930};\n",
      "        \\draw[dotted, color=black] (axis cs:0.7481582164764404, 0.6789131760597229) -- (axis cs:0.7481582164764404, 1.0);\n",
      "        \\node[above, anchor=south west, rotate=60, font=\\tiny] at (axis cs:0.8528891801834106, 1.0) {15344};\n",
      "        \\draw[dotted, color=black] (axis cs:0.8528891801834106, 0.8022028207778931) -- (axis cs:0.8528891801834106, 1.0);\n",
      "        \\node[above, anchor=south west, rotate=60, font=\\tiny] at (axis cs:0.9428606629371644, 1.0) {19616};\n",
      "        \\draw[dotted, color=black] (axis cs:0.9428606629371644, 0.9042108654975892) -- (axis cs:0.9428606629371644, 1.0);\n",
      "    \\end{axis}\n",
      "\\end{tikzpicture}\n",
      "Including laplace_1\n",
      "sECE: -0.0777, ECE: 0.0777\n",
      "\\begin{tikzpicture}\n",
      "    \\begin{axis}[calstyle, xmin=0, xmax=1, ymin=0, ymax=1]\n",
      "        \\addplot[dashed, color=black] coordinates {(0,0) (1,1)};\n",
      "        \\addplot[calline] coordinates {(0.2799963653087616, 0.21810699999332428) (0.3602105379104614, 0.28701892495155334) (0.46318382024765015, 0.3872020840644837) (0.5500990152359009, 0.4888914823532105) (0.6507183909416199, 0.5562517642974854) (0.7493857741355896, 0.6434906125068665) (0.8526938557624817, 0.7671744227409363) (0.9435111880302428, 0.8923707008361816)};\n",
      "        \\node[above, anchor=south west, rotate=60, font=\\tiny] at (axis cs:0.2799963653087616, 1.0) {243};\n",
      "        \\draw[dotted, color=black] (axis cs:0.2799963653087616, 0.21810699999332428) -- (axis cs:0.2799963653087616, 1.0);\n",
      "        \\node[above, anchor=south west, rotate=60, font=\\tiny] at (axis cs:0.3602105379104614, 1.0) {1533};\n",
      "        \\draw[dotted, color=black] (axis cs:0.3602105379104614, 0.28701892495155334) -- (axis cs:0.3602105379104614, 1.0);\n",
      "        \\node[above, anchor=south west, rotate=60, font=\\tiny] at (axis cs:0.46318382024765015, 1.0) {6126};\n",
      "        \\draw[dotted, color=black] (axis cs:0.46318382024765015, 0.3872020840644837) -- (axis cs:0.46318382024765015, 1.0);\n",
      "        \\node[above, anchor=south west, rotate=60, font=\\tiny] at (axis cs:0.5500990152359009, 1.0) {17194};\n",
      "        \\draw[dotted, color=black] (axis cs:0.5500990152359009, 0.4888914823532105) -- (axis cs:0.5500990152359009, 1.0);\n",
      "        \\node[above, anchor=south west, rotate=60, font=\\tiny] at (axis cs:0.6507183909416199, 1.0) {17555};\n",
      "        \\draw[dotted, color=black] (axis cs:0.6507183909416199, 0.5562517642974854) -- (axis cs:0.6507183909416199, 1.0);\n",
      "        \\node[above, anchor=south west, rotate=60, font=\\tiny] at (axis cs:0.7493857741355896, 1.0) {17590};\n",
      "        \\draw[dotted, color=black] (axis cs:0.7493857741355896, 0.6434906125068665) -- (axis cs:0.7493857741355896, 1.0);\n",
      "        \\node[above, anchor=south west, rotate=60, font=\\tiny] at (axis cs:0.8526938557624817, 1.0) {16609};\n",
      "        \\draw[dotted, color=black] (axis cs:0.8526938557624817, 0.7671744227409363) -- (axis cs:0.8526938557624817, 1.0);\n",
      "        \\node[above, anchor=south west, rotate=60, font=\\tiny] at (axis cs:0.9435111880302428, 1.0) {23200};\n",
      "        \\draw[dotted, color=black] (axis cs:0.9435111880302428, 0.8923707008361816) -- (axis cs:0.9435111880302428, 1.0);\n",
      "    \\end{axis}\n",
      "\\end{tikzpicture}\n",
      "Including swag\n",
      "sECE: 0.0285, ECE: 0.0285\n",
      "\\begin{tikzpicture}\n",
      "    \\begin{axis}[calstyle, xmin=0, xmax=1, ymin=0, ymax=1]\n",
      "        \\addplot[dashed, color=black] coordinates {(0,0) (1,1)};\n",
      "        \\addplot[calline] coordinates {(0.2801620364189148, 0.2875969111919403) (0.35917404294013977, 0.3685327172279358) (0.455601304769516, 0.4814319610595703) (0.5469277501106262, 0.5775979161262512) (0.6464255452156067, 0.6875584721565247) (0.7488041520118713, 0.7995337843894958) (0.8507277369499207, 0.8747093677520752) (0.934742033481598, 0.9366946220397948)};\n",
      "        \\node[above, anchor=south west, rotate=60, font=\\tiny] at (axis cs:0.2801620364189148, 1.0) {1290};\n",
      "        \\draw[dotted, color=black] (axis cs:0.2801620364189148, 0.2875969111919403) -- (axis cs:0.2801620364189148, 1.0);\n",
      "        \\node[above, anchor=south west, rotate=60, font=\\tiny] at (axis cs:0.35917404294013977, 1.0) {8485};\n",
      "        \\draw[dotted, color=black] (axis cs:0.35917404294013977, 0.3685327172279358) -- (axis cs:0.35917404294013977, 1.0);\n",
      "        \\node[above, anchor=south west, rotate=60, font=\\tiny] at (axis cs:0.455601304769516, 1.0) {20196};\n",
      "        \\draw[dotted, color=black] (axis cs:0.455601304769516, 0.4814319610595703) -- (axis cs:0.455601304769516, 1.0);\n",
      "        \\node[above, anchor=south west, rotate=60, font=\\tiny] at (axis cs:0.5469277501106262, 1.0) {22855};\n",
      "        \\draw[dotted, color=black] (axis cs:0.5469277501106262, 0.5775979161262512) -- (axis cs:0.5469277501106262, 1.0);\n",
      "        \\node[above, anchor=south west, rotate=60, font=\\tiny] at (axis cs:0.6464255452156067, 1.0) {16035};\n",
      "        \\draw[dotted, color=black] (axis cs:0.6464255452156067, 0.6875584721565247) -- (axis cs:0.6464255452156067, 1.0);\n",
      "        \\node[above, anchor=south west, rotate=60, font=\\tiny] at (axis cs:0.7488041520118713, 1.0) {11583};\n",
      "        \\draw[dotted, color=black] (axis cs:0.7488041520118713, 0.7995337843894958) -- (axis cs:0.7488041520118713, 1.0);\n",
      "        \\node[above, anchor=south west, rotate=60, font=\\tiny] at (axis cs:0.8507277369499207, 1.0) {11613};\n",
      "        \\draw[dotted, color=black] (axis cs:0.8507277369499207, 0.8747093677520752) -- (axis cs:0.8507277369499207, 1.0);\n",
      "        \\node[above, anchor=south west, rotate=60, font=\\tiny] at (axis cs:0.934742033481598, 1.0) {7993};\n",
      "        \\draw[dotted, color=black] (axis cs:0.934742033481598, 0.9366946220397948) -- (axis cs:0.934742033481598, 1.0);\n",
      "    \\end{axis}\n",
      "\\end{tikzpicture}\n",
      "Including swag\n",
      "sECE: 0.0336, ECE: 0.0340\n",
      "\\begin{tikzpicture}\n",
      "    \\begin{axis}[calstyle, xmin=0, xmax=1, ymin=0, ymax=1]\n",
      "        \\addplot[dashed, color=black] coordinates {(0,0) (1,1)};\n",
      "        \\addplot[calline] coordinates {(0.2770683467388153, 0.29604798555374146) (0.3563711941242218, 0.3759874999523163) (0.4525744020938874, 0.4856622815132141) (0.5474087595939636, 0.5938119292259216) (0.6470364928245544, 0.6975313425064087) (0.7495530843734741, 0.7984510064125061) (0.8509974479675293, 0.8741621971130371) (0.934657335281372, 0.9318462014198304)};\n",
      "        \\node[above, anchor=south west, rotate=60, font=\\tiny] at (axis cs:0.2770683467388153, 1.0) {2834};\n",
      "        \\draw[dotted, color=black] (axis cs:0.2770683467388153, 0.29604798555374146) -- (axis cs:0.2770683467388153, 1.0);\n",
      "        \\node[above, anchor=south west, rotate=60, font=\\tiny] at (axis cs:0.3563711941242218, 1.0) {12785};\n",
      "        \\draw[dotted, color=black] (axis cs:0.3563711941242218, 0.3759874999523163) -- (axis cs:0.3563711941242218, 1.0);\n",
      "        \\node[above, anchor=south west, rotate=60, font=\\tiny] at (axis cs:0.4525744020938874, 1.0) {20331};\n",
      "        \\draw[dotted, color=black] (axis cs:0.4525744020938874, 0.4856622815132141) -- (axis cs:0.4525744020938874, 1.0);\n",
      "        \\node[above, anchor=south west, rotate=60, font=\\tiny] at (axis cs:0.5474087595939636, 1.0) {19166};\n",
      "        \\draw[dotted, color=black] (axis cs:0.5474087595939636, 0.5938119292259216) -- (axis cs:0.5474087595939636, 1.0);\n",
      "        \\node[above, anchor=south west, rotate=60, font=\\tiny] at (axis cs:0.6470364928245544, 1.0) {13651};\n",
      "        \\draw[dotted, color=black] (axis cs:0.6470364928245544, 0.6975313425064087) -- (axis cs:0.6470364928245544, 1.0);\n",
      "        \\node[above, anchor=south west, rotate=60, font=\\tiny] at (axis cs:0.7495530843734741, 1.0) {11233};\n",
      "        \\draw[dotted, color=black] (axis cs:0.7495530843734741, 0.7984510064125061) -- (axis cs:0.7495530843734741, 1.0);\n",
      "        \\node[above, anchor=south west, rotate=60, font=\\tiny] at (axis cs:0.8509974479675293, 1.0) {11936};\n",
      "        \\draw[dotted, color=black] (axis cs:0.8509974479675293, 0.8741621971130371) -- (axis cs:0.8509974479675293, 1.0);\n",
      "        \\node[above, anchor=south west, rotate=60, font=\\tiny] at (axis cs:0.934657335281372, 1.0) {8114};\n",
      "        \\draw[dotted, color=black] (axis cs:0.934657335281372, 0.9318462014198304) -- (axis cs:0.934657335281372, 1.0);\n",
      "    \\end{axis}\n",
      "\\end{tikzpicture}\n",
      "Including swag\n",
      "sECE: 0.0254, ECE: 0.0271\n",
      "\\begin{tikzpicture}\n",
      "    \\begin{axis}[calstyle, xmin=0, xmax=1, ymin=0, ymax=1]\n",
      "        \\addplot[dashed, color=black] coordinates {(0,0) (1,1)};\n",
      "        \\addplot[calline] coordinates {(0.2795831859111786, 0.2693319320678711) (0.35882917046546936, 0.354951947927475) (0.4533691108226776, 0.4717070758342743) (0.5469539761543274, 0.5821863412857056) (0.6466193199157715, 0.6937955021858215) (0.7490840554237366, 0.8038134574890137) (0.8509913682937622, 0.8704366683959961) (0.9355178475379944, 0.93272602558136)};\n",
      "        \\node[above, anchor=south west, rotate=60, font=\\tiny] at (axis cs:0.2795831859111786, 1.0) {1901};\n",
      "        \\draw[dotted, color=black] (axis cs:0.2795831859111786, 0.2693319320678711) -- (axis cs:0.2795831859111786, 1.0);\n",
      "        \\node[above, anchor=south west, rotate=60, font=\\tiny] at (axis cs:0.35882917046546936, 1.0) {10824};\n",
      "        \\draw[dotted, color=black] (axis cs:0.35882917046546936, 0.354951947927475) -- (axis cs:0.35882917046546936, 1.0);\n",
      "        \\node[above, anchor=south west, rotate=60, font=\\tiny] at (axis cs:0.4533691108226776, 1.0) {21030};\n",
      "        \\draw[dotted, color=black] (axis cs:0.4533691108226776, 0.4717070758342743) -- (axis cs:0.4533691108226776, 1.0);\n",
      "        \\node[above, anchor=south west, rotate=60, font=\\tiny] at (axis cs:0.5469539761543274, 1.0) {21433};\n",
      "        \\draw[dotted, color=black] (axis cs:0.5469539761543274, 0.5821863412857056) -- (axis cs:0.5469539761543274, 1.0);\n",
      "        \\node[above, anchor=south west, rotate=60, font=\\tiny] at (axis cs:0.6466193199157715, 1.0) {14425};\n",
      "        \\draw[dotted, color=black] (axis cs:0.6466193199157715, 0.6937955021858215) -- (axis cs:0.6466193199157715, 1.0);\n",
      "        \\node[above, anchor=south west, rotate=60, font=\\tiny] at (axis cs:0.7490840554237366, 1.0) {10699};\n",
      "        \\draw[dotted, color=black] (axis cs:0.7490840554237366, 0.8038134574890137) -- (axis cs:0.7490840554237366, 1.0);\n",
      "        \\node[above, anchor=south west, rotate=60, font=\\tiny] at (axis cs:0.8509913682937622, 1.0) {11176};\n",
      "        \\draw[dotted, color=black] (axis cs:0.8509913682937622, 0.8704366683959961) -- (axis cs:0.8509913682937622, 1.0);\n",
      "        \\node[above, anchor=south west, rotate=60, font=\\tiny] at (axis cs:0.9355178475379944, 1.0) {8562};\n",
      "        \\draw[dotted, color=black] (axis cs:0.9355178475379944, 0.93272602558136) -- (axis cs:0.9355178475379944, 1.0);\n",
      "    \\end{axis}\n",
      "\\end{tikzpicture}\n",
      "Including swag\n",
      "sECE: 0.0287, ECE: 0.0297\n",
      "\\begin{tikzpicture}\n",
      "    \\begin{axis}[calstyle, xmin=0, xmax=1, ymin=0, ymax=1]\n",
      "        \\addplot[dashed, color=black] coordinates {(0,0) (1,1)};\n",
      "        \\addplot[calline] coordinates {(0.27932822704315186, 0.25719770789146423) (0.35786953568458557, 0.3818398416042328) (0.4552814960479736, 0.48714855313301086) (0.547540545463562, 0.5819905400276184) (0.6472696661949158, 0.6843457221984863) (0.7490289211273193, 0.7925883531570435) (0.8505641222000122, 0.8709195256233215) (0.9341872930526732, 0.932328164577484)};\n",
      "        \\node[above, anchor=south west, rotate=60, font=\\tiny] at (axis cs:0.27932822704315186, 1.0) {1563};\n",
      "        \\draw[dotted, color=black] (axis cs:0.27932822704315186, 0.25719770789146423) -- (axis cs:0.27932822704315186, 1.0);\n",
      "        \\node[above, anchor=south west, rotate=60, font=\\tiny] at (axis cs:0.35786953568458557, 1.0) {9229};\n",
      "        \\draw[dotted, color=black] (axis cs:0.35786953568458557, 0.3818398416042328) -- (axis cs:0.35786953568458557, 1.0);\n",
      "        \\node[above, anchor=south west, rotate=60, font=\\tiny] at (axis cs:0.4552814960479736, 1.0) {19064};\n",
      "        \\draw[dotted, color=black] (axis cs:0.4552814960479736, 0.48714855313301086) -- (axis cs:0.4552814960479736, 1.0);\n",
      "        \\node[above, anchor=south west, rotate=60, font=\\tiny] at (axis cs:0.547540545463562, 1.0) {21100};\n",
      "        \\draw[dotted, color=black] (axis cs:0.547540545463562, 0.5819905400276184) -- (axis cs:0.547540545463562, 1.0);\n",
      "        \\node[above, anchor=south west, rotate=60, font=\\tiny] at (axis cs:0.6472696661949158, 1.0) {15574};\n",
      "        \\draw[dotted, color=black] (axis cs:0.6472696661949158, 0.6843457221984863) -- (axis cs:0.6472696661949158, 1.0);\n",
      "        \\node[above, anchor=south west, rotate=60, font=\\tiny] at (axis cs:0.7490289211273193, 1.0) {12251};\n",
      "        \\draw[dotted, color=black] (axis cs:0.7490289211273193, 0.7925883531570435) -- (axis cs:0.7490289211273193, 1.0);\n",
      "        \\node[above, anchor=south west, rotate=60, font=\\tiny] at (axis cs:0.8505641222000122, 1.0) {12713};\n",
      "        \\draw[dotted, color=black] (axis cs:0.8505641222000122, 0.8709195256233215) -- (axis cs:0.8505641222000122, 1.0);\n",
      "        \\node[above, anchor=south west, rotate=60, font=\\tiny] at (axis cs:0.9341872930526732, 1.0) {8556};\n",
      "        \\draw[dotted, color=black] (axis cs:0.9341872930526732, 0.932328164577484) -- (axis cs:0.9341872930526732, 1.0);\n",
      "    \\end{axis}\n",
      "\\end{tikzpicture}\n",
      "Including swag\n",
      "sECE: 0.0368, ECE: 0.0368\n",
      "\\begin{tikzpicture}\n",
      "    \\begin{axis}[calstyle, xmin=0, xmax=1, ymin=0, ymax=1]\n",
      "        \\addplot[dashed, color=black] coordinates {(0,0) (1,1)};\n",
      "        \\addplot[calline] coordinates {(0.2768963873386383, 0.2891450524330139) (0.35733360052108765, 0.3896273970603943) (0.45380932092666626, 0.4978746771812439) (0.5469452142715454, 0.5876509547233582) (0.6476478576660156, 0.6973392963409424) (0.7493857741355896, 0.7988023161888123) (0.8505753874778748, 0.870361328125) (0.9330907464027404, 0.9355139136314392)};\n",
      "        \\node[above, anchor=south west, rotate=60, font=\\tiny] at (axis cs:0.2768963873386383, 1.0) {2082};\n",
      "        \\draw[dotted, color=black] (axis cs:0.2768963873386383, 0.2891450524330139) -- (axis cs:0.2768963873386383, 1.0);\n",
      "        \\node[above, anchor=south west, rotate=60, font=\\tiny] at (axis cs:0.35733360052108765, 1.0) {10682};\n",
      "        \\draw[dotted, color=black] (axis cs:0.35733360052108765, 0.3896273970603943) -- (axis cs:0.35733360052108765, 1.0);\n",
      "        \\node[above, anchor=south west, rotate=60, font=\\tiny] at (axis cs:0.45380932092666626, 1.0) {19997};\n",
      "        \\draw[dotted, color=black] (axis cs:0.45380932092666626, 0.4978746771812439) -- (axis cs:0.45380932092666626, 1.0);\n",
      "        \\node[above, anchor=south west, rotate=60, font=\\tiny] at (axis cs:0.5469452142715454, 1.0) {20536};\n",
      "        \\draw[dotted, color=black] (axis cs:0.5469452142715454, 0.5876509547233582) -- (axis cs:0.5469452142715454, 1.0);\n",
      "        \\node[above, anchor=south west, rotate=60, font=\\tiny] at (axis cs:0.6476478576660156, 1.0) {14921};\n",
      "        \\draw[dotted, color=black] (axis cs:0.6476478576660156, 0.6973392963409424) -- (axis cs:0.6476478576660156, 1.0);\n",
      "        \\node[above, anchor=south west, rotate=60, font=\\tiny] at (axis cs:0.7493857741355896, 1.0) {12023};\n",
      "        \\draw[dotted, color=black] (axis cs:0.7493857741355896, 0.7988023161888123) -- (axis cs:0.7493857741355896, 1.0);\n",
      "        \\node[above, anchor=south west, rotate=60, font=\\tiny] at (axis cs:0.8505753874778748, 1.0) {12288};\n",
      "        \\draw[dotted, color=black] (axis cs:0.8505753874778748, 0.870361328125) -- (axis cs:0.8505753874778748, 1.0);\n",
      "        \\node[above, anchor=south west, rotate=60, font=\\tiny] at (axis cs:0.9330907464027404, 1.0) {7521};\n",
      "        \\draw[dotted, color=black] (axis cs:0.9330907464027404, 0.9355139136314392) -- (axis cs:0.9330907464027404, 1.0);\n",
      "    \\end{axis}\n",
      "\\end{tikzpicture}\n",
      "Including swag\n",
      "sECE: 0.0341, ECE: 0.0341\n",
      "\\begin{tikzpicture}\n",
      "    \\begin{axis}[calstyle, xmin=0, xmax=1, ymin=0, ymax=1]\n",
      "        \\addplot[dashed, color=black] coordinates {(0,0) (1,1)};\n",
      "        \\addplot[calline] coordinates {(0.2806229889392853, 0.29316961765289307) (0.35968855023384094, 0.36709529161453247) (0.45481425523757935, 0.4743186235427856) (0.5472185015678406, 0.5837429165840149) (0.6463789939880371, 0.6993971467018127) (0.7487602233886719, 0.8177805542945862) (0.8501419425010681, 0.8839103579521179) (0.931709051132202, 0.9449905157089232)};\n",
      "        \\node[above, anchor=south west, rotate=60, font=\\tiny] at (axis cs:0.2806229889392853, 1.0) {1303};\n",
      "        \\draw[dotted, color=black] (axis cs:0.2806229889392853, 0.29316961765289307) -- (axis cs:0.2806229889392853, 1.0);\n",
      "        \\node[above, anchor=south west, rotate=60, font=\\tiny] at (axis cs:0.35968855023384094, 1.0) {9488};\n",
      "        \\draw[dotted, color=black] (axis cs:0.35968855023384094, 0.36709529161453247) -- (axis cs:0.35968855023384094, 1.0);\n",
      "        \\node[above, anchor=south west, rotate=60, font=\\tiny] at (axis cs:0.45481425523757935, 1.0) {22565};\n",
      "        \\draw[dotted, color=black] (axis cs:0.45481425523757935, 0.4743186235427856) -- (axis cs:0.45481425523757935, 1.0);\n",
      "        \\node[above, anchor=south west, rotate=60, font=\\tiny] at (axis cs:0.5472185015678406, 1.0) {23399};\n",
      "        \\draw[dotted, color=black] (axis cs:0.5472185015678406, 0.5837429165840149) -- (axis cs:0.5472185015678406, 1.0);\n",
      "        \\node[above, anchor=south west, rotate=60, font=\\tiny] at (axis cs:0.6463789939880371, 1.0) {15592};\n",
      "        \\draw[dotted, color=black] (axis cs:0.6463789939880371, 0.6993971467018127) -- (axis cs:0.6463789939880371, 1.0);\n",
      "        \\node[above, anchor=south west, rotate=60, font=\\tiny] at (axis cs:0.7487602233886719, 1.0) {11102};\n",
      "        \\draw[dotted, color=black] (axis cs:0.7487602233886719, 0.8177805542945862) -- (axis cs:0.7487602233886719, 1.0);\n",
      "        \\node[above, anchor=south west, rotate=60, font=\\tiny] at (axis cs:0.8501419425010681, 1.0) {10802};\n",
      "        \\draw[dotted, color=black] (axis cs:0.8501419425010681, 0.8839103579521179) -- (axis cs:0.8501419425010681, 1.0);\n",
      "        \\node[above, anchor=south west, rotate=60, font=\\tiny] at (axis cs:0.931709051132202, 1.0) {5799};\n",
      "        \\draw[dotted, color=black] (axis cs:0.931709051132202, 0.9449905157089232) -- (axis cs:0.931709051132202, 1.0);\n",
      "    \\end{axis}\n",
      "\\end{tikzpicture}\n",
      "Including laplace_1\n",
      "sECE: -0.0611, ECE: 0.0611\n",
      "\\begin{tikzpicture}\n",
      "    \\begin{axis}[calstyle, xmin=0, xmax=1, ymin=0, ymax=1]\n",
      "        \\addplot[dashed, color=black] coordinates {(0,0) (1,1)};\n",
      "        \\addplot[calline] coordinates {(0.28414395451545715, 0.29230770468711853) (0.3600365221500397, 0.31116122007369995) (0.4638228714466095, 0.3975728154182434) (0.5494192242622375, 0.4895108640193939) (0.6498830318450928, 0.5652040243148804) (0.7484683990478516, 0.6710350513458252) (0.8507177233695984, 0.8074410557746887) (0.943979561328888, 0.9099547266960144)};\n",
      "        \\node[above, anchor=south west, rotate=60, font=\\tiny] at (axis cs:0.28414395451545715, 1.0) {195};\n",
      "        \\draw[dotted, color=black] (axis cs:0.28414395451545715, 0.29230770468711853) -- (axis cs:0.28414395451545715, 1.0);\n",
      "        \\node[above, anchor=south west, rotate=60, font=\\tiny] at (axis cs:0.3600365221500397, 1.0) {1774};\n",
      "        \\draw[dotted, color=black] (axis cs:0.3600365221500397, 0.31116122007369995) -- (axis cs:0.3600365221500397, 1.0);\n",
      "        \\node[above, anchor=south west, rotate=60, font=\\tiny] at (axis cs:0.4638228714466095, 1.0) {8240};\n",
      "        \\draw[dotted, color=black] (axis cs:0.4638228714466095, 0.3975728154182434) -- (axis cs:0.4638228714466095, 1.0);\n",
      "        \\node[above, anchor=south west, rotate=60, font=\\tiny] at (axis cs:0.5494192242622375, 1.0) {18972};\n",
      "        \\draw[dotted, color=black] (axis cs:0.5494192242622375, 0.4895108640193939) -- (axis cs:0.5494192242622375, 1.0);\n",
      "        \\node[above, anchor=south west, rotate=60, font=\\tiny] at (axis cs:0.6498830318450928, 1.0) {19531};\n",
      "        \\draw[dotted, color=black] (axis cs:0.6498830318450928, 0.5652040243148804) -- (axis cs:0.6498830318450928, 1.0);\n",
      "        \\node[above, anchor=south west, rotate=60, font=\\tiny] at (axis cs:0.7484683990478516, 1.0) {18695};\n",
      "        \\draw[dotted, color=black] (axis cs:0.7484683990478516, 0.6710350513458252) -- (axis cs:0.7484683990478516, 1.0);\n",
      "        \\node[above, anchor=south west, rotate=60, font=\\tiny] at (axis cs:0.8507177233695984, 1.0) {14541};\n",
      "        \\draw[dotted, color=black] (axis cs:0.8507177233695984, 0.8074410557746887) -- (axis cs:0.8507177233695984, 1.0);\n",
      "        \\node[above, anchor=south west, rotate=60, font=\\tiny] at (axis cs:0.943979561328888, 1.0) {18102};\n",
      "        \\draw[dotted, color=black] (axis cs:0.943979561328888, 0.9099547266960144) -- (axis cs:0.943979561328888, 1.0);\n",
      "    \\end{axis}\n",
      "\\end{tikzpicture}\n",
      "Including laplace_5\n",
      "sECE: -0.0601, ECE: 0.0601\n",
      "\\begin{tikzpicture}\n",
      "    \\begin{axis}[calstyle, xmin=0, xmax=1, ymin=0, ymax=1]\n",
      "        \\addplot[dashed, color=black] coordinates {(0,0) (1,1)};\n",
      "        \\addplot[calline] coordinates {(0.28401198983192444, 0.21238937973976135) (0.3600221574306488, 0.2947259545326233) (0.46288561820983887, 0.40354230999946594) (0.5499933958053589, 0.49459752440452576) (0.6504252552986145, 0.5785424113273621) (0.748580813407898, 0.6733129620552063) (0.8529931306838989, 0.7948092222213745) (0.9433396458625792, 0.9004324674606323)};\n",
      "        \\node[above, anchor=south west, rotate=60, font=\\tiny] at (axis cs:0.28401198983192444, 1.0) {226};\n",
      "        \\draw[dotted, color=black] (axis cs:0.28401198983192444, 0.21238937973976135) -- (axis cs:0.28401198983192444, 1.0);\n",
      "        \\node[above, anchor=south west, rotate=60, font=\\tiny] at (axis cs:0.3600221574306488, 1.0) {1934};\n",
      "        \\draw[dotted, color=black] (axis cs:0.3600221574306488, 0.2947259545326233) -- (axis cs:0.3600221574306488, 1.0);\n",
      "        \\node[above, anchor=south west, rotate=60, font=\\tiny] at (axis cs:0.46288561820983887, 1.0) {7848};\n",
      "        \\draw[dotted, color=black] (axis cs:0.46288561820983887, 0.40354230999946594) -- (axis cs:0.46288561820983887, 1.0);\n",
      "        \\node[above, anchor=south west, rotate=60, font=\\tiny] at (axis cs:0.5499933958053589, 1.0) {18510};\n",
      "        \\draw[dotted, color=black] (axis cs:0.5499933958053589, 0.49459752440452576) -- (axis cs:0.5499933958053589, 1.0);\n",
      "        \\node[above, anchor=south west, rotate=60, font=\\tiny] at (axis cs:0.6504252552986145, 1.0) {18455};\n",
      "        \\draw[dotted, color=black] (axis cs:0.6504252552986145, 0.5785424113273621) -- (axis cs:0.6504252552986145, 1.0);\n",
      "        \\node[above, anchor=south west, rotate=60, font=\\tiny] at (axis cs:0.748580813407898, 1.0) {16701};\n",
      "        \\draw[dotted, color=black] (axis cs:0.748580813407898, 0.6733129620552063) -- (axis cs:0.748580813407898, 1.0);\n",
      "        \\node[above, anchor=south west, rotate=60, font=\\tiny] at (axis cs:0.8529931306838989, 1.0) {15566};\n",
      "        \\draw[dotted, color=black] (axis cs:0.8529931306838989, 0.7948092222213745) -- (axis cs:0.8529931306838989, 1.0);\n",
      "        \\node[above, anchor=south west, rotate=60, font=\\tiny] at (axis cs:0.9433396458625792, 1.0) {20810};\n",
      "        \\draw[dotted, color=black] (axis cs:0.9433396458625792, 0.9004324674606323) -- (axis cs:0.9433396458625792, 1.0);\n",
      "    \\end{axis}\n",
      "\\end{tikzpicture}\n",
      "Including laplace_1\n",
      "sECE: -0.0587, ECE: 0.0587\n",
      "\\begin{tikzpicture}\n",
      "    \\begin{axis}[calstyle, xmin=0, xmax=1, ymin=0, ymax=1]\n",
      "        \\addplot[dashed, color=black] coordinates {(0,0) (1,1)};\n",
      "        \\addplot[calline] coordinates {(0.2808942198753357, 0.2908163368701935) (0.3620828092098236, 0.2836839258670807) (0.46281662583351135, 0.39637643098831177) (0.5502166152000427, 0.4915854334831238) (0.6503798365592957, 0.5730132460594177) (0.7481375336647034, 0.6739462018013) (0.8513168096542358, 0.8104130029678345) (0.941137969493866, 0.9089916944503784)};\n",
      "        \\node[above, anchor=south west, rotate=60, font=\\tiny] at (axis cs:0.2808942198753357, 1.0) {196};\n",
      "        \\draw[dotted, color=black] (axis cs:0.2808942198753357, 0.2908163368701935) -- (axis cs:0.2808942198753357, 1.0);\n",
      "        \\node[above, anchor=south west, rotate=60, font=\\tiny] at (axis cs:0.3620828092098236, 1.0) {1759};\n",
      "        \\draw[dotted, color=black] (axis cs:0.3620828092098236, 0.2836839258670807) -- (axis cs:0.3620828092098236, 1.0);\n",
      "        \\node[above, anchor=south west, rotate=60, font=\\tiny] at (axis cs:0.46281662583351135, 1.0) {7672};\n",
      "        \\draw[dotted, color=black] (axis cs:0.46281662583351135, 0.39637643098831177) -- (axis cs:0.46281662583351135, 1.0);\n",
      "        \\node[above, anchor=south west, rotate=60, font=\\tiny] at (axis cs:0.5502166152000427, 1.0) {19490};\n",
      "        \\draw[dotted, color=black] (axis cs:0.5502166152000427, 0.4915854334831238) -- (axis cs:0.5502166152000427, 1.0);\n",
      "        \\node[above, anchor=south west, rotate=60, font=\\tiny] at (axis cs:0.6503798365592957, 1.0) {19743};\n",
      "        \\draw[dotted, color=black] (axis cs:0.6503798365592957, 0.5730132460594177) -- (axis cs:0.6503798365592957, 1.0);\n",
      "        \\node[above, anchor=south west, rotate=60, font=\\tiny] at (axis cs:0.7481375336647034, 1.0) {18362};\n",
      "        \\draw[dotted, color=black] (axis cs:0.7481375336647034, 0.6739462018013) -- (axis cs:0.7481375336647034, 1.0);\n",
      "        \\node[above, anchor=south west, rotate=60, font=\\tiny] at (axis cs:0.8513168096542358, 1.0) {15423};\n",
      "        \\draw[dotted, color=black] (axis cs:0.8513168096542358, 0.8104130029678345) -- (axis cs:0.8513168096542358, 1.0);\n",
      "        \\node[above, anchor=south west, rotate=60, font=\\tiny] at (axis cs:0.941137969493866, 1.0) {17405};\n",
      "        \\draw[dotted, color=black] (axis cs:0.941137969493866, 0.9089916944503784) -- (axis cs:0.941137969493866, 1.0);\n",
      "    \\end{axis}\n",
      "\\end{tikzpicture}\n",
      "Including laplace_5\n",
      "sECE: -0.0564, ECE: 0.0564\n",
      "\\begin{tikzpicture}\n",
      "    \\begin{axis}[calstyle, xmin=0, xmax=1, ymin=0, ymax=1]\n",
      "        \\addplot[dashed, color=black] coordinates {(0,0) (1,1)};\n",
      "        \\addplot[calline] coordinates {(0.28294074535369873, 0.2456140369176865) (0.3607300519943238, 0.2926061749458313) (0.4630936086177826, 0.39997580647468567) (0.5500967502593994, 0.4965009093284607) (0.6501161456108093, 0.5831925868988037) (0.7483479380607605, 0.67872554063797) (0.8530572056770325, 0.8028711080551147) (0.942887008190155, 0.904203236103058)};\n",
      "        \\node[above, anchor=south west, rotate=60, font=\\tiny] at (axis cs:0.28294074535369873, 1.0) {228};\n",
      "        \\draw[dotted, color=black] (axis cs:0.28294074535369873, 0.2456140369176865) -- (axis cs:0.28294074535369873, 1.0);\n",
      "        \\node[above, anchor=south west, rotate=60, font=\\tiny] at (axis cs:0.3607300519943238, 1.0) {1907};\n",
      "        \\draw[dotted, color=black] (axis cs:0.3607300519943238, 0.2926061749458313) -- (axis cs:0.3607300519943238, 1.0);\n",
      "        \\node[above, anchor=south west, rotate=60, font=\\tiny] at (axis cs:0.4630936086177826, 1.0) {8263};\n",
      "        \\draw[dotted, color=black] (axis cs:0.4630936086177826, 0.39997580647468567) -- (axis cs:0.4630936086177826, 1.0);\n",
      "        \\node[above, anchor=south west, rotate=60, font=\\tiny] at (axis cs:0.5500967502593994, 1.0) {18862};\n",
      "        \\draw[dotted, color=black] (axis cs:0.5500967502593994, 0.4965009093284607) -- (axis cs:0.5500967502593994, 1.0);\n",
      "        \\node[above, anchor=south west, rotate=60, font=\\tiny] at (axis cs:0.6501161456108093, 1.0) {18944};\n",
      "        \\draw[dotted, color=black] (axis cs:0.6501161456108093, 0.5831925868988037) -- (axis cs:0.6501161456108093, 1.0);\n",
      "        \\node[above, anchor=south west, rotate=60, font=\\tiny] at (axis cs:0.7483479380607605, 1.0) {16917};\n",
      "        \\draw[dotted, color=black] (axis cs:0.7483479380607605, 0.67872554063797) -- (axis cs:0.7483479380607605, 1.0);\n",
      "        \\node[above, anchor=south west, rotate=60, font=\\tiny] at (axis cs:0.8530572056770325, 1.0) {15325};\n",
      "        \\draw[dotted, color=black] (axis cs:0.8530572056770325, 0.8028711080551147) -- (axis cs:0.8530572056770325, 1.0);\n",
      "        \\node[above, anchor=south west, rotate=60, font=\\tiny] at (axis cs:0.942887008190155, 1.0) {19604};\n",
      "        \\draw[dotted, color=black] (axis cs:0.942887008190155, 0.904203236103058) -- (axis cs:0.942887008190155, 1.0);\n",
      "    \\end{axis}\n",
      "\\end{tikzpicture}\n",
      "Including laplace_1\n",
      "sECE: -0.0779, ECE: 0.0779\n",
      "\\begin{tikzpicture}\n",
      "    \\begin{axis}[calstyle, xmin=0, xmax=1, ymin=0, ymax=1]\n",
      "        \\addplot[dashed, color=black] coordinates {(0,0) (1,1)};\n",
      "        \\addplot[calline] coordinates {(0.2793895900249481, 0.2633928656578064) (0.3589348793029785, 0.29446253180503845) (0.46310749650001526, 0.38305920362472534) (0.549898087978363, 0.4878190159797669) (0.6506156921386719, 0.5562379360198975) (0.7492740154266357, 0.6429141759872437) (0.8525873422622681, 0.7681133151054382) (0.9435561895370485, 0.8918219208717346)};\n",
      "        \\node[above, anchor=south west, rotate=60, font=\\tiny] at (axis cs:0.2793895900249481, 1.0) {224};\n",
      "        \\draw[dotted, color=black] (axis cs:0.2793895900249481, 0.2633928656578064) -- (axis cs:0.2793895900249481, 1.0);\n",
      "        \\node[above, anchor=south west, rotate=60, font=\\tiny] at (axis cs:0.3589348793029785, 1.0) {1535};\n",
      "        \\draw[dotted, color=black] (axis cs:0.3589348793029785, 0.29446253180503845) -- (axis cs:0.3589348793029785, 1.0);\n",
      "        \\node[above, anchor=south west, rotate=60, font=\\tiny] at (axis cs:0.46310749650001526, 1.0) {6080};\n",
      "        \\draw[dotted, color=black] (axis cs:0.46310749650001526, 0.38305920362472534) -- (axis cs:0.46310749650001526, 1.0);\n",
      "        \\node[above, anchor=south west, rotate=60, font=\\tiny] at (axis cs:0.549898087978363, 1.0) {17240};\n",
      "        \\draw[dotted, color=black] (axis cs:0.549898087978363, 0.4878190159797669) -- (axis cs:0.549898087978363, 1.0);\n",
      "        \\node[above, anchor=south west, rotate=60, font=\\tiny] at (axis cs:0.6506156921386719, 1.0) {17586};\n",
      "        \\draw[dotted, color=black] (axis cs:0.6506156921386719, 0.5562379360198975) -- (axis cs:0.6506156921386719, 1.0);\n",
      "        \\node[above, anchor=south west, rotate=60, font=\\tiny] at (axis cs:0.7492740154266357, 1.0) {17542};\n",
      "        \\draw[dotted, color=black] (axis cs:0.7492740154266357, 0.6429141759872437) -- (axis cs:0.7492740154266357, 1.0);\n",
      "        \\node[above, anchor=south west, rotate=60, font=\\tiny] at (axis cs:0.8525873422622681, 1.0) {16659};\n",
      "        \\draw[dotted, color=black] (axis cs:0.8525873422622681, 0.7681133151054382) -- (axis cs:0.8525873422622681, 1.0);\n",
      "        \\node[above, anchor=south west, rotate=60, font=\\tiny] at (axis cs:0.9435561895370485, 1.0) {23184};\n",
      "        \\draw[dotted, color=black] (axis cs:0.9435561895370485, 0.8918219208717346) -- (axis cs:0.9435561895370485, 1.0);\n",
      "    \\end{axis}\n",
      "\\end{tikzpicture}\n",
      "Including rank1\n",
      "sECE: -0.1702, ECE: 0.1702\n",
      "\\begin{tikzpicture}\n",
      "    \\begin{axis}[calstyle, xmin=0, xmax=1, ymin=0, ymax=1]\n",
      "        \\addplot[dashed, color=black] coordinates {(0,0) (1,1)};\n",
      "        \\addplot[calline] coordinates {(0.2882002592086792, 0.07692307978868484) (0.3629792928695678, 0.26582279801368713) (0.4778399169445038, 0.3317756950855255) (0.550060510635376, 0.4860113859176636) (0.6510560512542725, 0.5170493125915527) (0.7519844174385071, 0.5605713725090027) (0.854112982749939, 0.6084256172180176) (0.97119802236557, 0.8047763705253601)};\n",
      "        \\node[above, anchor=south west, rotate=60, font=\\tiny] at (axis cs:0.2882002592086792, 1.0) {13};\n",
      "        \\draw[dotted, color=black] (axis cs:0.2882002592086792, 0.07692307978868484) -- (axis cs:0.2882002592086792, 1.0);\n",
      "        \\node[above, anchor=south west, rotate=60, font=\\tiny] at (axis cs:0.3629792928695678, 1.0) {79};\n",
      "        \\draw[dotted, color=black] (axis cs:0.3629792928695678, 0.26582279801368713) -- (axis cs:0.3629792928695678, 1.0);\n",
      "        \\node[above, anchor=south west, rotate=60, font=\\tiny] at (axis cs:0.4778399169445038, 1.0) {642};\n",
      "        \\draw[dotted, color=black] (axis cs:0.4778399169445038, 0.3317756950855255) -- (axis cs:0.4778399169445038, 1.0);\n",
      "        \\node[above, anchor=south west, rotate=60, font=\\tiny] at (axis cs:0.550060510635376, 1.0) {8078};\n",
      "        \\draw[dotted, color=black] (axis cs:0.550060510635376, 0.4860113859176636) -- (axis cs:0.550060510635376, 1.0);\n",
      "        \\node[above, anchor=south west, rotate=60, font=\\tiny] at (axis cs:0.6510560512542725, 1.0) {8798};\n",
      "        \\draw[dotted, color=black] (axis cs:0.6510560512542725, 0.5170493125915527) -- (axis cs:0.6510560512542725, 1.0);\n",
      "        \\node[above, anchor=south west, rotate=60, font=\\tiny] at (axis cs:0.7519844174385071, 1.0) {10921};\n",
      "        \\draw[dotted, color=black] (axis cs:0.7519844174385071, 0.5605713725090027) -- (axis cs:0.7519844174385071, 1.0);\n",
      "        \\node[above, anchor=south west, rotate=60, font=\\tiny] at (axis cs:0.854112982749939, 1.0) {15619};\n",
      "        \\draw[dotted, color=black] (axis cs:0.854112982749939, 0.6084256172180176) -- (axis cs:0.854112982749939, 1.0);\n",
      "        \\node[above, anchor=south west, rotate=60, font=\\tiny] at (axis cs:0.97119802236557, 1.0) {55900};\n",
      "        \\draw[dotted, color=black] (axis cs:0.97119802236557, 0.8047763705253601) -- (axis cs:0.97119802236557, 1.0);\n",
      "    \\end{axis}\n",
      "\\end{tikzpicture}\n",
      "Including rank1\n",
      "sECE: -0.1692, ECE: 0.1692\n",
      "\\begin{tikzpicture}\n",
      "    \\begin{axis}[calstyle, xmin=0, xmax=1, ymin=0, ymax=1]\n",
      "        \\addplot[dashed, color=black] coordinates {(0,0) (1,1)};\n",
      "        \\addplot[calline] coordinates {(0.276772141456604, 0.2222222238779068) (0.35996749997138977, 0.28282827138900757) (0.4780285656452179, 0.37482118606567383) (0.5498847961425781, 0.472940593957901) (0.6513409614562988, 0.5057175159454346) (0.752484142780304, 0.5547822713851929) (0.854360818862915, 0.6179414987564087) (0.971480906009674, 0.8084743022918701)};\n",
      "        \\node[above, anchor=south west, rotate=60, font=\\tiny] at (axis cs:0.276772141456604, 1.0) {18};\n",
      "        \\draw[dotted, color=black] (axis cs:0.276772141456604, 0.2222222238779068) -- (axis cs:0.276772141456604, 1.0);\n",
      "        \\node[above, anchor=south west, rotate=60, font=\\tiny] at (axis cs:0.35996749997138977, 1.0) {99};\n",
      "        \\draw[dotted, color=black] (axis cs:0.35996749997138977, 0.28282827138900757) -- (axis cs:0.35996749997138977, 1.0);\n",
      "        \\node[above, anchor=south west, rotate=60, font=\\tiny] at (axis cs:0.4780285656452179, 1.0) {699};\n",
      "        \\draw[dotted, color=black] (axis cs:0.4780285656452179, 0.37482118606567383) -- (axis cs:0.4780285656452179, 1.0);\n",
      "        \\node[above, anchor=south west, rotate=60, font=\\tiny] at (axis cs:0.5498847961425781, 1.0) {7927};\n",
      "        \\draw[dotted, color=black] (axis cs:0.5498847961425781, 0.472940593957901) -- (axis cs:0.5498847961425781, 1.0);\n",
      "        \\node[above, anchor=south west, rotate=60, font=\\tiny] at (axis cs:0.6513409614562988, 1.0) {8920};\n",
      "        \\draw[dotted, color=black] (axis cs:0.6513409614562988, 0.5057175159454346) -- (axis cs:0.6513409614562988, 1.0);\n",
      "        \\node[above, anchor=south west, rotate=60, font=\\tiny] at (axis cs:0.752484142780304, 1.0) {10633};\n",
      "        \\draw[dotted, color=black] (axis cs:0.752484142780304, 0.5547822713851929) -- (axis cs:0.752484142780304, 1.0);\n",
      "        \\node[above, anchor=south west, rotate=60, font=\\tiny] at (axis cs:0.854360818862915, 1.0) {15584};\n",
      "        \\draw[dotted, color=black] (axis cs:0.854360818862915, 0.6179414987564087) -- (axis cs:0.854360818862915, 1.0);\n",
      "        \\node[above, anchor=south west, rotate=60, font=\\tiny] at (axis cs:0.971480906009674, 1.0) {56170};\n",
      "        \\draw[dotted, color=black] (axis cs:0.971480906009674, 0.8084743022918701) -- (axis cs:0.971480906009674, 1.0);\n",
      "    \\end{axis}\n",
      "\\end{tikzpicture}\n",
      "Including rank1\n",
      "sECE: -0.1755, ECE: 0.1755\n",
      "\\begin{tikzpicture}\n",
      "    \\begin{axis}[calstyle, xmin=0, xmax=1, ymin=0, ymax=1]\n",
      "        \\addplot[dashed, color=black] coordinates {(0,0) (1,1)};\n",
      "        \\addplot[calline] coordinates {(0.27636826038360596, 0.3333333432674408) (0.3615592420101166, 0.2976190447807312) (0.47838738560676575, 0.375) (0.550177812576294, 0.47560644149780273) (0.6515923142433167, 0.5184814929962158) (0.7526645660400391, 0.5517780184745789) (0.8546634912490845, 0.6028695702552795) (0.9715115427970886, 0.8009454607963562)};\n",
      "        \\node[above, anchor=south west, rotate=60, font=\\tiny] at (axis cs:0.27636826038360596, 1.0) {9};\n",
      "        \\draw[dotted, color=black] (axis cs:0.27636826038360596, 0.3333333432674408) -- (axis cs:0.27636826038360596, 1.0);\n",
      "        \\node[above, anchor=south west, rotate=60, font=\\tiny] at (axis cs:0.3615592420101166, 1.0) {84};\n",
      "        \\draw[dotted, color=black] (axis cs:0.3615592420101166, 0.2976190447807312) -- (axis cs:0.3615592420101166, 1.0);\n",
      "        \\node[above, anchor=south west, rotate=60, font=\\tiny] at (axis cs:0.47838738560676575, 1.0) {584};\n",
      "        \\draw[dotted, color=black] (axis cs:0.47838738560676575, 0.375) -- (axis cs:0.47838738560676575, 1.0);\n",
      "        \\node[above, anchor=south west, rotate=60, font=\\tiny] at (axis cs:0.550177812576294, 1.0) {7338};\n",
      "        \\draw[dotted, color=black] (axis cs:0.550177812576294, 0.47560644149780273) -- (axis cs:0.550177812576294, 1.0);\n",
      "        \\node[above, anchor=south west, rotate=60, font=\\tiny] at (axis cs:0.6515923142433167, 1.0) {8008};\n",
      "        \\draw[dotted, color=black] (axis cs:0.6515923142433167, 0.5184814929962158) -- (axis cs:0.6515923142433167, 1.0);\n",
      "        \\node[above, anchor=south west, rotate=60, font=\\tiny] at (axis cs:0.7526645660400391, 1.0) {10236};\n",
      "        \\draw[dotted, color=black] (axis cs:0.7526645660400391, 0.5517780184745789) -- (axis cs:0.7526645660400391, 1.0);\n",
      "        \\node[above, anchor=south west, rotate=60, font=\\tiny] at (axis cs:0.8546634912490845, 1.0) {15194};\n",
      "        \\draw[dotted, color=black] (axis cs:0.8546634912490845, 0.6028695702552795) -- (axis cs:0.8546634912490845, 1.0);\n",
      "        \\node[above, anchor=south west, rotate=60, font=\\tiny] at (axis cs:0.9715115427970886, 1.0) {58597};\n",
      "        \\draw[dotted, color=black] (axis cs:0.9715115427970886, 0.8009454607963562) -- (axis cs:0.9715115427970886, 1.0);\n",
      "    \\end{axis}\n",
      "\\end{tikzpicture}\n",
      "Including rank1\n",
      "sECE: -0.1713, ECE: 0.1713\n",
      "\\begin{tikzpicture}\n",
      "    \\begin{axis}[calstyle, xmin=0, xmax=1, ymin=0, ymax=1]\n",
      "        \\addplot[dashed, color=black] coordinates {(0,0) (1,1)};\n",
      "        \\addplot[calline] coordinates {(0.2748537063598633, 0.25) (0.3638663291931152, 0.38181817531585693) (0.4812458455562592, 0.3995380997657776) (0.5501435995101929, 0.4855293333530426) (0.650962769985199, 0.5107117891311646) (0.7520560622215271, 0.5563268065452576) (0.8544905185699463, 0.6188223361968994) (0.969855785369873, 0.8003810048103333)};\n",
      "        \\node[above, anchor=south west, rotate=60, font=\\tiny] at (axis cs:0.2748537063598633, 1.0) {12};\n",
      "        \\draw[dotted, color=black] (axis cs:0.2748537063598633, 0.25) -- (axis cs:0.2748537063598633, 1.0);\n",
      "        \\node[above, anchor=south west, rotate=60, font=\\tiny] at (axis cs:0.3638663291931152, 1.0) {55};\n",
      "        \\draw[dotted, color=black] (axis cs:0.3638663291931152, 0.38181817531585693) -- (axis cs:0.3638663291931152, 1.0);\n",
      "        \\node[above, anchor=south west, rotate=60, font=\\tiny] at (axis cs:0.4812458455562592, 1.0) {433};\n",
      "        \\draw[dotted, color=black] (axis cs:0.4812458455562592, 0.3995380997657776) -- (axis cs:0.4812458455562592, 1.0);\n",
      "        \\node[above, anchor=south west, rotate=60, font=\\tiny] at (axis cs:0.5501435995101929, 1.0) {7878};\n",
      "        \\draw[dotted, color=black] (axis cs:0.5501435995101929, 0.4855293333530426) -- (axis cs:0.5501435995101929, 1.0);\n",
      "        \\node[above, anchor=south west, rotate=60, font=\\tiny] at (axis cs:0.650962769985199, 1.0) {8682};\n",
      "        \\draw[dotted, color=black] (axis cs:0.650962769985199, 0.5107117891311646) -- (axis cs:0.650962769985199, 1.0);\n",
      "        \\node[above, anchor=south west, rotate=60, font=\\tiny] at (axis cs:0.7520560622215271, 1.0) {10661};\n",
      "        \\draw[dotted, color=black] (axis cs:0.7520560622215271, 0.5563268065452576) -- (axis cs:0.7520560622215271, 1.0);\n",
      "        \\node[above, anchor=south west, rotate=60, font=\\tiny] at (axis cs:0.8544905185699463, 1.0) {15641};\n",
      "        \\draw[dotted, color=black] (axis cs:0.8544905185699463, 0.6188223361968994) -- (axis cs:0.8544905185699463, 1.0);\n",
      "        \\node[above, anchor=south west, rotate=60, font=\\tiny] at (axis cs:0.969855785369873, 1.0) {56688};\n",
      "        \\draw[dotted, color=black] (axis cs:0.969855785369873, 0.8003810048103333) -- (axis cs:0.969855785369873, 1.0);\n",
      "    \\end{axis}\n",
      "\\end{tikzpicture}\n",
      "Including rank1\n",
      "sECE: -0.1690, ECE: 0.1690\n",
      "\\begin{tikzpicture}\n",
      "    \\begin{axis}[calstyle, xmin=0, xmax=1, ymin=0, ymax=1]\n",
      "        \\addplot[dashed, color=black] coordinates {(0,0) (1,1)};\n",
      "        \\addplot[calline] coordinates {(0.27738627791404724, 0.20000000298023224) (0.3577428460121155, 0.2688172161579132) (0.47118380665779114, 0.3606557250022888) (0.5504117608070374, 0.48564982414245605) (0.6510241627693176, 0.5153332352638245) (0.7526785135269165, 0.5731673240661621) (0.8544117212295532, 0.6212337613105774) (0.9679773449897766, 0.7985121607780457)};\n",
      "        \\node[above, anchor=south west, rotate=60, font=\\tiny] at (axis cs:0.27738627791404724, 1.0) {20};\n",
      "        \\draw[dotted, color=black] (axis cs:0.27738627791404724, 0.20000000298023224) -- (axis cs:0.27738627791404724, 1.0);\n",
      "        \\node[above, anchor=south west, rotate=60, font=\\tiny] at (axis cs:0.3577428460121155, 1.0) {93};\n",
      "        \\draw[dotted, color=black] (axis cs:0.3577428460121155, 0.2688172161579132) -- (axis cs:0.3577428460121155, 1.0);\n",
      "        \\node[above, anchor=south west, rotate=60, font=\\tiny] at (axis cs:0.47118380665779114, 1.0) {610};\n",
      "        \\draw[dotted, color=black] (axis cs:0.47118380665779114, 0.3606557250022888) -- (axis cs:0.47118380665779114, 1.0);\n",
      "        \\node[above, anchor=south west, rotate=60, font=\\tiny] at (axis cs:0.5504117608070374, 1.0) {7979};\n",
      "        \\draw[dotted, color=black] (axis cs:0.5504117608070374, 0.48564982414245605) -- (axis cs:0.5504117608070374, 1.0);\n",
      "        \\node[above, anchor=south west, rotate=60, font=\\tiny] at (axis cs:0.6510241627693176, 1.0) {8837};\n",
      "        \\draw[dotted, color=black] (axis cs:0.6510241627693176, 0.5153332352638245) -- (axis cs:0.6510241627693176, 1.0);\n",
      "        \\node[above, anchor=south west, rotate=60, font=\\tiny] at (axis cs:0.7526785135269165, 1.0) {10763};\n",
      "        \\draw[dotted, color=black] (axis cs:0.7526785135269165, 0.5731673240661621) -- (axis cs:0.7526785135269165, 1.0);\n",
      "        \\node[above, anchor=south west, rotate=60, font=\\tiny] at (axis cs:0.8544117212295532, 1.0) {16097};\n",
      "        \\draw[dotted, color=black] (axis cs:0.8544117212295532, 0.6212337613105774) -- (axis cs:0.8544117212295532, 1.0);\n",
      "        \\node[above, anchor=south west, rotate=60, font=\\tiny] at (axis cs:0.9679773449897766, 1.0) {55651};\n",
      "        \\draw[dotted, color=black] (axis cs:0.9679773449897766, 0.7985121607780457) -- (axis cs:0.9679773449897766, 1.0);\n",
      "    \\end{axis}\n",
      "\\end{tikzpicture}\n",
      "Skipping old run swag-0\n",
      "Skipping old run swag-0\n",
      "Including rank1\n",
      "sECE: -0.1828, ECE: 0.1828\n",
      "\\begin{tikzpicture}\n",
      "    \\begin{axis}[calstyle, xmin=0, xmax=1, ymin=0, ymax=1]\n",
      "        \\addplot[dashed, color=black] coordinates {(0,0) (1,1)};\n",
      "        \\addplot[calline] coordinates {(0.2808564007282257, 0.20000000298023224) (0.36901792883872986, 0.15094339847564697) (0.4773400127887726, 0.3780487775802612) (0.5506165623664856, 0.485541969537735) (0.6514629125595093, 0.5062246322631836) (0.752460241317749, 0.5450283288955688) (0.8547452688217163, 0.5849165916442871) (0.9747666716575624, 0.7975620627403259)};\n",
      "        \\node[above, anchor=south west, rotate=60, font=\\tiny] at (axis cs:0.2808564007282257, 1.0) {10};\n",
      "        \\draw[dotted, color=black] (axis cs:0.2808564007282257, 0.20000000298023224) -- (axis cs:0.2808564007282257, 1.0);\n",
      "        \\node[above, anchor=south west, rotate=60, font=\\tiny] at (axis cs:0.36901792883872986, 1.0) {53};\n",
      "        \\draw[dotted, color=black] (axis cs:0.36901792883872986, 0.15094339847564697) -- (axis cs:0.36901792883872986, 1.0);\n",
      "        \\node[above, anchor=south west, rotate=60, font=\\tiny] at (axis cs:0.4773400127887726, 1.0) {492};\n",
      "        \\draw[dotted, color=black] (axis cs:0.4773400127887726, 0.3780487775802612) -- (axis cs:0.4773400127887726, 1.0);\n",
      "        \\node[above, anchor=south west, rotate=60, font=\\tiny] at (axis cs:0.5506165623664856, 1.0) {6467};\n",
      "        \\draw[dotted, color=black] (axis cs:0.5506165623664856, 0.485541969537735) -- (axis cs:0.5506165623664856, 1.0);\n",
      "        \\node[above, anchor=south west, rotate=60, font=\\tiny] at (axis cs:0.6514629125595093, 1.0) {7390};\n",
      "        \\draw[dotted, color=black] (axis cs:0.6514629125595093, 0.5062246322631836) -- (axis cs:0.6514629125595093, 1.0);\n",
      "        \\node[above, anchor=south west, rotate=60, font=\\tiny] at (axis cs:0.752460241317749, 1.0) {9172};\n",
      "        \\draw[dotted, color=black] (axis cs:0.752460241317749, 0.5450283288955688) -- (axis cs:0.752460241317749, 1.0);\n",
      "        \\node[above, anchor=south west, rotate=60, font=\\tiny] at (axis cs:0.8547452688217163, 1.0) {13790};\n",
      "        \\draw[dotted, color=black] (axis cs:0.8547452688217163, 0.5849165916442871) -- (axis cs:0.8547452688217163, 1.0);\n",
      "        \\node[above, anchor=south west, rotate=60, font=\\tiny] at (axis cs:0.9747666716575624, 1.0) {62676};\n",
      "        \\draw[dotted, color=black] (axis cs:0.9747666716575624, 0.7975620627403259) -- (axis cs:0.9747666716575624, 1.0);\n",
      "    \\end{axis}\n",
      "\\end{tikzpicture}\n",
      "Including bbb_5\n",
      "sECE: -0.1074, ECE: 0.1074\n",
      "\\begin{tikzpicture}\n",
      "    \\begin{axis}[calstyle, xmin=0, xmax=1, ymin=0, ymax=1]\n",
      "        \\addplot[dashed, color=black] coordinates {(0,0) (1,1)};\n",
      "        \\addplot[calline] coordinates {(0.27204620838165283, 0.290909081697464) (0.3613336682319641, 0.29057592153549194) (0.4726882576942444, 0.4234666526317597) (0.550657331943512, 0.4929279386997223) (0.6502042412757874, 0.5519403219223022) (0.7509799599647522, 0.6158849596977234) (0.8520263433456421, 0.7021394371986389) (0.9706708192825316, 0.8689282536506653)};\n",
      "        \\node[above, anchor=south west, rotate=60, font=\\tiny] at (axis cs:0.27204620838165283, 1.0) {55};\n",
      "        \\draw[dotted, color=black] (axis cs:0.27204620838165283, 0.290909081697464) -- (axis cs:0.27204620838165283, 1.0);\n",
      "        \\node[above, anchor=south west, rotate=60, font=\\tiny] at (axis cs:0.3613336682319641, 1.0) {382};\n",
      "        \\draw[dotted, color=black] (axis cs:0.3613336682319641, 0.29057592153549194) -- (axis cs:0.3613336682319641, 1.0);\n",
      "        \\node[above, anchor=south west, rotate=60, font=\\tiny] at (axis cs:0.4726882576942444, 1.0) {1875};\n",
      "        \\draw[dotted, color=black] (axis cs:0.4726882576942444, 0.4234666526317597) -- (axis cs:0.4726882576942444, 1.0);\n",
      "        \\node[above, anchor=south west, rotate=60, font=\\tiny] at (axis cs:0.550657331943512, 1.0) {11807};\n",
      "        \\draw[dotted, color=black] (axis cs:0.550657331943512, 0.4929279386997223) -- (axis cs:0.550657331943512, 1.0);\n",
      "        \\node[above, anchor=south west, rotate=60, font=\\tiny] at (axis cs:0.6502042412757874, 1.0) {12601};\n",
      "        \\draw[dotted, color=black] (axis cs:0.6502042412757874, 0.5519403219223022) -- (axis cs:0.6502042412757874, 1.0);\n",
      "        \\node[above, anchor=south west, rotate=60, font=\\tiny] at (axis cs:0.7509799599647522, 1.0) {13837};\n",
      "        \\draw[dotted, color=black] (axis cs:0.7509799599647522, 0.6158849596977234) -- (axis cs:0.7509799599647522, 1.0);\n",
      "        \\node[above, anchor=south west, rotate=60, font=\\tiny] at (axis cs:0.8520263433456421, 1.0) {16219};\n",
      "        \\draw[dotted, color=black] (axis cs:0.8520263433456421, 0.7021394371986389) -- (axis cs:0.8520263433456421, 1.0);\n",
      "        \\node[above, anchor=south west, rotate=60, font=\\tiny] at (axis cs:0.9706708192825316, 1.0) {43274};\n",
      "        \\draw[dotted, color=black] (axis cs:0.9706708192825316, 0.8689282536506653) -- (axis cs:0.9706708192825316, 1.0);\n",
      "    \\end{axis}\n",
      "\\end{tikzpicture}\n",
      "Including bbb_5\n",
      "sECE: -0.1045, ECE: 0.1045\n",
      "\\begin{tikzpicture}\n",
      "    \\begin{axis}[calstyle, xmin=0, xmax=1, ymin=0, ymax=1]\n",
      "        \\addplot[dashed, color=black] coordinates {(0,0) (1,1)};\n",
      "        \\addplot[calline] coordinates {(0.2749776244163513, 0.2777777910232544) (0.3565780818462372, 0.2743362784385681) (0.47178465127944946, 0.4230355322360992) (0.550499439239502, 0.4893617033958435) (0.6508881449699402, 0.5538636445999146) (0.750709593296051, 0.6276005506515503) (0.8516160845756531, 0.7010949850082397) (0.9686813354492188, 0.8712912797927856)};\n",
      "        \\node[above, anchor=south west, rotate=60, font=\\tiny] at (axis cs:0.2749776244163513, 1.0) {54};\n",
      "        \\draw[dotted, color=black] (axis cs:0.2749776244163513, 0.2777777910232544) -- (axis cs:0.2749776244163513, 1.0);\n",
      "        \\node[above, anchor=south west, rotate=60, font=\\tiny] at (axis cs:0.3565780818462372, 1.0) {339};\n",
      "        \\draw[dotted, color=black] (axis cs:0.3565780818462372, 0.2743362784385681) -- (axis cs:0.3565780818462372, 1.0);\n",
      "        \\node[above, anchor=south west, rotate=60, font=\\tiny] at (axis cs:0.47178465127944946, 1.0) {1858};\n",
      "        \\draw[dotted, color=black] (axis cs:0.47178465127944946, 0.4230355322360992) -- (axis cs:0.47178465127944946, 1.0);\n",
      "        \\node[above, anchor=south west, rotate=60, font=\\tiny] at (axis cs:0.550499439239502, 1.0) {12502};\n",
      "        \\draw[dotted, color=black] (axis cs:0.550499439239502, 0.4893617033958435) -- (axis cs:0.550499439239502, 1.0);\n",
      "        \\node[above, anchor=south west, rotate=60, font=\\tiny] at (axis cs:0.6508881449699402, 1.0) {13200};\n",
      "        \\draw[dotted, color=black] (axis cs:0.6508881449699402, 0.5538636445999146) -- (axis cs:0.6508881449699402, 1.0);\n",
      "        \\node[above, anchor=south west, rotate=60, font=\\tiny] at (axis cs:0.750709593296051, 1.0) {14420};\n",
      "        \\draw[dotted, color=black] (axis cs:0.750709593296051, 0.6276005506515503) -- (axis cs:0.750709593296051, 1.0);\n",
      "        \\node[above, anchor=south west, rotate=60, font=\\tiny] at (axis cs:0.8516160845756531, 1.0) {16895};\n",
      "        \\draw[dotted, color=black] (axis cs:0.8516160845756531, 0.7010949850082397) -- (axis cs:0.8516160845756531, 1.0);\n",
      "        \\node[above, anchor=south west, rotate=60, font=\\tiny] at (axis cs:0.9686813354492188, 1.0) {40782};\n",
      "        \\draw[dotted, color=black] (axis cs:0.9686813354492188, 0.8712912797927856) -- (axis cs:0.9686813354492188, 1.0);\n",
      "    \\end{axis}\n",
      "\\end{tikzpicture}\n",
      "Including bbb_5\n",
      "sECE: -0.1038, ECE: 0.1039\n",
      "\\begin{tikzpicture}\n",
      "    \\begin{axis}[calstyle, xmin=0, xmax=1, ymin=0, ymax=1]\n",
      "        \\addplot[dashed, color=black] coordinates {(0,0) (1,1)};\n",
      "        \\addplot[calline] coordinates {(0.27514326572418213, 0.3333333432674408) (0.3620733320713043, 0.2928176820278168) (0.4730408787727356, 0.4058201014995575) (0.550184428691864, 0.4925830364227295) (0.6505290865898132, 0.5531640648841858) (0.7509942650794983, 0.6239444017410278) (0.8522347807884216, 0.7091882228851318) (0.96896892786026, 0.8713280558586121)};\n",
      "        \\node[above, anchor=south west, rotate=60, font=\\tiny] at (axis cs:0.27514326572418213, 1.0) {54};\n",
      "        \\draw[dotted, color=black] (axis cs:0.27514326572418213, 0.3333333432674408) -- (axis cs:0.27514326572418213, 1.0);\n",
      "        \\node[above, anchor=south west, rotate=60, font=\\tiny] at (axis cs:0.3620733320713043, 1.0) {362};\n",
      "        \\draw[dotted, color=black] (axis cs:0.3620733320713043, 0.2928176820278168) -- (axis cs:0.3620733320713043, 1.0);\n",
      "        \\node[above, anchor=south west, rotate=60, font=\\tiny] at (axis cs:0.4730408787727356, 1.0) {1890};\n",
      "        \\draw[dotted, color=black] (axis cs:0.4730408787727356, 0.4058201014995575) -- (axis cs:0.4730408787727356, 1.0);\n",
      "        \\node[above, anchor=south west, rotate=60, font=\\tiny] at (axis cs:0.550184428691864, 1.0) {12404};\n",
      "        \\draw[dotted, color=black] (axis cs:0.550184428691864, 0.4925830364227295) -- (axis cs:0.550184428691864, 1.0);\n",
      "        \\node[above, anchor=south west, rotate=60, font=\\tiny] at (axis cs:0.6505290865898132, 1.0) {13195};\n",
      "        \\draw[dotted, color=black] (axis cs:0.6505290865898132, 0.5531640648841858) -- (axis cs:0.6505290865898132, 1.0);\n",
      "        \\node[above, anchor=south west, rotate=60, font=\\tiny] at (axis cs:0.7509942650794983, 1.0) {14684};\n",
      "        \\draw[dotted, color=black] (axis cs:0.7509942650794983, 0.6239444017410278) -- (axis cs:0.7509942650794983, 1.0);\n",
      "        \\node[above, anchor=south west, rotate=60, font=\\tiny] at (axis cs:0.8522347807884216, 1.0) {16815};\n",
      "        \\draw[dotted, color=black] (axis cs:0.8522347807884216, 0.7091882228851318) -- (axis cs:0.8522347807884216, 1.0);\n",
      "        \\node[above, anchor=south west, rotate=60, font=\\tiny] at (axis cs:0.96896892786026, 1.0) {40646};\n",
      "        \\draw[dotted, color=black] (axis cs:0.96896892786026, 0.8713280558586121) -- (axis cs:0.96896892786026, 1.0);\n",
      "    \\end{axis}\n",
      "\\end{tikzpicture}\n",
      "Including bbb_5\n",
      "sECE: -0.1047, ECE: 0.1047\n",
      "\\begin{tikzpicture}\n",
      "    \\begin{axis}[calstyle, xmin=0, xmax=1, ymin=0, ymax=1]\n",
      "        \\addplot[dashed, color=black] coordinates {(0,0) (1,1)};\n",
      "        \\addplot[calline] coordinates {(0.2729877829551697, 0.21311475336551663) (0.3595461845397949, 0.2779156267642975) (0.4721251428127289, 0.42040184140205383) (0.5502040386199951, 0.5021427273750305) (0.6505968570709229, 0.5487452149391174) (0.750822901725769, 0.6198688745498657) (0.8520535826683044, 0.703029215335846) (0.969906747341156, 0.8714625239372253)};\n",
      "        \\node[above, anchor=south west, rotate=60, font=\\tiny] at (axis cs:0.2729877829551697, 1.0) {61};\n",
      "        \\draw[dotted, color=black] (axis cs:0.2729877829551697, 0.21311475336551663) -- (axis cs:0.2729877829551697, 1.0);\n",
      "        \\node[above, anchor=south west, rotate=60, font=\\tiny] at (axis cs:0.3595461845397949, 1.0) {403};\n",
      "        \\draw[dotted, color=black] (axis cs:0.3595461845397949, 0.2779156267642975) -- (axis cs:0.3595461845397949, 1.0);\n",
      "        \\node[above, anchor=south west, rotate=60, font=\\tiny] at (axis cs:0.4721251428127289, 1.0) {1941};\n",
      "        \\draw[dotted, color=black] (axis cs:0.4721251428127289, 0.42040184140205383) -- (axis cs:0.4721251428127289, 1.0);\n",
      "        \\node[above, anchor=south west, rotate=60, font=\\tiny] at (axis cs:0.5502040386199951, 1.0) {12134};\n",
      "        \\draw[dotted, color=black] (axis cs:0.5502040386199951, 0.5021427273750305) -- (axis cs:0.5502040386199951, 1.0);\n",
      "        \\node[above, anchor=south west, rotate=60, font=\\tiny] at (axis cs:0.6505968570709229, 1.0) {12791};\n",
      "        \\draw[dotted, color=black] (axis cs:0.6505968570709229, 0.5487452149391174) -- (axis cs:0.6505968570709229, 1.0);\n",
      "        \\node[above, anchor=south west, rotate=60, font=\\tiny] at (axis cs:0.750822901725769, 1.0) {14032};\n",
      "        \\draw[dotted, color=black] (axis cs:0.750822901725769, 0.6198688745498657) -- (axis cs:0.750822901725769, 1.0);\n",
      "        \\node[above, anchor=south west, rotate=60, font=\\tiny] at (axis cs:0.8520535826683044, 1.0) {16638};\n",
      "        \\draw[dotted, color=black] (axis cs:0.8520535826683044, 0.703029215335846) -- (axis cs:0.8520535826683044, 1.0);\n",
      "        \\node[above, anchor=south west, rotate=60, font=\\tiny] at (axis cs:0.969906747341156, 1.0) {42050};\n",
      "        \\draw[dotted, color=black] (axis cs:0.969906747341156, 0.8714625239372253) -- (axis cs:0.969906747341156, 1.0);\n",
      "    \\end{axis}\n",
      "\\end{tikzpicture}\n",
      "Including mcd_5\n",
      "sECE: -0.0093, ECE: 0.0093\n",
      "\\begin{tikzpicture}\n",
      "    \\begin{axis}[calstyle, xmin=0, xmax=1, ymin=0, ymax=1]\n",
      "        \\addplot[dashed, color=black] coordinates {(0,0) (1,1)};\n",
      "        \\addplot[calline] coordinates {(0.2808285057544708, 0.2438596487045288) (0.35967904329299927, 0.32126477360725403) (0.4598916172981262, 0.44117429852485657) (0.5489738583564758, 0.5415824055671692) (0.6478410363197327, 0.64082270860672) (0.7491975426673889, 0.7431453466415405) (0.8518214821815491, 0.8459463119506836) (0.9338968992233276, 0.9314314126968384)};\n",
      "        \\node[above, anchor=south west, rotate=60, font=\\tiny] at (axis cs:0.2808285057544708, 1.0) {570};\n",
      "        \\draw[dotted, color=black] (axis cs:0.2808285057544708, 0.2438596487045288) -- (axis cs:0.2808285057544708, 1.0);\n",
      "        \\node[above, anchor=south west, rotate=60, font=\\tiny] at (axis cs:0.35967904329299927, 1.0) {4143};\n",
      "        \\draw[dotted, color=black] (axis cs:0.35967904329299927, 0.32126477360725403) -- (axis cs:0.35967904329299927, 1.0);\n",
      "        \\node[above, anchor=south west, rotate=60, font=\\tiny] at (axis cs:0.4598916172981262, 1.0) {13455};\n",
      "        \\draw[dotted, color=black] (axis cs:0.4598916172981262, 0.44117429852485657) -- (axis cs:0.4598916172981262, 1.0);\n",
      "        \\node[above, anchor=south west, rotate=60, font=\\tiny] at (axis cs:0.5489738583564758, 1.0) {21764};\n",
      "        \\draw[dotted, color=black] (axis cs:0.5489738583564758, 0.5415824055671692) -- (axis cs:0.5489738583564758, 1.0);\n",
      "        \\node[above, anchor=south west, rotate=60, font=\\tiny] at (axis cs:0.6478410363197327, 1.0) {17941};\n",
      "        \\draw[dotted, color=black] (axis cs:0.6478410363197327, 0.64082270860672) -- (axis cs:0.6478410363197327, 1.0);\n",
      "        \\node[above, anchor=south west, rotate=60, font=\\tiny] at (axis cs:0.7491975426673889, 1.0) {14078};\n",
      "        \\draw[dotted, color=black] (axis cs:0.7491975426673889, 0.7431453466415405) -- (axis cs:0.7491975426673889, 1.0);\n",
      "        \\node[above, anchor=south west, rotate=60, font=\\tiny] at (axis cs:0.8518214821815491, 1.0) {15936};\n",
      "        \\draw[dotted, color=black] (axis cs:0.8518214821815491, 0.8459463119506836) -- (axis cs:0.8518214821815491, 1.0);\n",
      "        \\node[above, anchor=south west, rotate=60, font=\\tiny] at (axis cs:0.9338968992233276, 1.0) {12163};\n",
      "        \\draw[dotted, color=black] (axis cs:0.9338968992233276, 0.9314314126968384) -- (axis cs:0.9338968992233276, 1.0);\n",
      "    \\end{axis}\n",
      "\\end{tikzpicture}\n",
      "Including bbb_5\n",
      "sECE: -0.1049, ECE: 0.1049\n",
      "\\begin{tikzpicture}\n",
      "    \\begin{axis}[calstyle, xmin=0, xmax=1, ymin=0, ymax=1]\n",
      "        \\addplot[dashed, color=black] coordinates {(0,0) (1,1)};\n",
      "        \\addplot[calline] coordinates {(0.27625659108161926, 0.1964285671710968) (0.3619782328605652, 0.2719546854496002) (0.472482830286026, 0.39538806676864624) (0.5501757860183716, 0.4947139024734497) (0.6503844857215881, 0.5619173645973206) (0.7509098052978516, 0.6174594163894653) (0.8518703579902649, 0.7044638395309448) (0.9694027304649352, 0.8703516125679016)};\n",
      "        \\node[above, anchor=south west, rotate=60, font=\\tiny] at (axis cs:0.27625659108161926, 1.0) {56};\n",
      "        \\draw[dotted, color=black] (axis cs:0.27625659108161926, 0.1964285671710968) -- (axis cs:0.27625659108161926, 1.0);\n",
      "        \\node[above, anchor=south west, rotate=60, font=\\tiny] at (axis cs:0.3619782328605652, 1.0) {353};\n",
      "        \\draw[dotted, color=black] (axis cs:0.3619782328605652, 0.2719546854496002) -- (axis cs:0.3619782328605652, 1.0);\n",
      "        \\node[above, anchor=south west, rotate=60, font=\\tiny] at (axis cs:0.472482830286026, 1.0) {1778};\n",
      "        \\draw[dotted, color=black] (axis cs:0.472482830286026, 0.39538806676864624) -- (axis cs:0.472482830286026, 1.0);\n",
      "        \\node[above, anchor=south west, rotate=60, font=\\tiny] at (axis cs:0.5501757860183716, 1.0) {12391};\n",
      "        \\draw[dotted, color=black] (axis cs:0.5501757860183716, 0.4947139024734497) -- (axis cs:0.5501757860183716, 1.0);\n",
      "        \\node[above, anchor=south west, rotate=60, font=\\tiny] at (axis cs:0.6503844857215881, 1.0) {12872};\n",
      "        \\draw[dotted, color=black] (axis cs:0.6503844857215881, 0.5619173645973206) -- (axis cs:0.6503844857215881, 1.0);\n",
      "        \\node[above, anchor=south west, rotate=60, font=\\tiny] at (axis cs:0.7509098052978516, 1.0) {14422};\n",
      "        \\draw[dotted, color=black] (axis cs:0.7509098052978516, 0.6174594163894653) -- (axis cs:0.7509098052978516, 1.0);\n",
      "        \\node[above, anchor=south west, rotate=60, font=\\tiny] at (axis cs:0.8518703579902649, 1.0) {16712};\n",
      "        \\draw[dotted, color=black] (axis cs:0.8518703579902649, 0.7044638395309448) -- (axis cs:0.8518703579902649, 1.0);\n",
      "        \\node[above, anchor=south west, rotate=60, font=\\tiny] at (axis cs:0.9694027304649352, 1.0) {41466};\n",
      "        \\draw[dotted, color=black] (axis cs:0.9694027304649352, 0.8703516125679016) -- (axis cs:0.9694027304649352, 1.0);\n",
      "    \\end{axis}\n",
      "\\end{tikzpicture}\n",
      "Including mcd_5\n",
      "sECE: -0.0150, ECE: 0.0150\n",
      "\\begin{tikzpicture}\n",
      "    \\begin{axis}[calstyle, xmin=0, xmax=1, ymin=0, ymax=1]\n",
      "        \\addplot[dashed, color=black] coordinates {(0,0) (1,1)};\n",
      "        \\addplot[calline] coordinates {(0.28129228949546814, 0.23593465983867645) (0.360146701335907, 0.3267074525356293) (0.4596191346645355, 0.4445140957832336) (0.5487660765647888, 0.5349519848823547) (0.6481097340583801, 0.6295304298400879) (0.7492308616638184, 0.7360856533050537) (0.8522228002548218, 0.8357750177383423) (0.9340476393699646, 0.9290872812271118)};\n",
      "        \\node[above, anchor=south west, rotate=60, font=\\tiny] at (axis cs:0.28129228949546814, 1.0) {551};\n",
      "        \\draw[dotted, color=black] (axis cs:0.28129228949546814, 0.23593465983867645) -- (axis cs:0.28129228949546814, 1.0);\n",
      "        \\node[above, anchor=south west, rotate=60, font=\\tiny] at (axis cs:0.360146701335907, 1.0) {3924};\n",
      "        \\draw[dotted, color=black] (axis cs:0.360146701335907, 0.3267074525356293) -- (axis cs:0.360146701335907, 1.0);\n",
      "        \\node[above, anchor=south west, rotate=60, font=\\tiny] at (axis cs:0.4596191346645355, 1.0) {12760};\n",
      "        \\draw[dotted, color=black] (axis cs:0.4596191346645355, 0.4445140957832336) -- (axis cs:0.4596191346645355, 1.0);\n",
      "        \\node[above, anchor=south west, rotate=60, font=\\tiny] at (axis cs:0.5487660765647888, 1.0) {21129};\n",
      "        \\draw[dotted, color=black] (axis cs:0.5487660765647888, 0.5349519848823547) -- (axis cs:0.5487660765647888, 1.0);\n",
      "        \\node[above, anchor=south west, rotate=60, font=\\tiny] at (axis cs:0.6481097340583801, 1.0) {17548};\n",
      "        \\draw[dotted, color=black] (axis cs:0.6481097340583801, 0.6295304298400879) -- (axis cs:0.6481097340583801, 1.0);\n",
      "        \\node[above, anchor=south west, rotate=60, font=\\tiny] at (axis cs:0.7492308616638184, 1.0) {14194};\n",
      "        \\draw[dotted, color=black] (axis cs:0.7492308616638184, 0.7360856533050537) -- (axis cs:0.7492308616638184, 1.0);\n",
      "        \\node[above, anchor=south west, rotate=60, font=\\tiny] at (axis cs:0.8522228002548218, 1.0) {16928};\n",
      "        \\draw[dotted, color=black] (axis cs:0.8522228002548218, 0.8357750177383423) -- (axis cs:0.8522228002548218, 1.0);\n",
      "        \\node[above, anchor=south west, rotate=60, font=\\tiny] at (axis cs:0.9340476393699646, 1.0) {13016};\n",
      "        \\draw[dotted, color=black] (axis cs:0.9340476393699646, 0.9290872812271118) -- (axis cs:0.9340476393699646, 1.0);\n",
      "    \\end{axis}\n",
      "\\end{tikzpicture}\n",
      "Including mcd_5\n",
      "sECE: -0.0116, ECE: 0.0116\n",
      "\\begin{tikzpicture}\n",
      "    \\begin{axis}[calstyle, xmin=0, xmax=1, ymin=0, ymax=1]\n",
      "        \\addplot[dashed, color=black] coordinates {(0,0) (1,1)};\n",
      "        \\addplot[calline] coordinates {(0.2811723053455353, 0.2262295037508011) (0.3599405884742737, 0.3314376771450043) (0.4591023325920105, 0.4460832178592682) (0.5486885905265808, 0.5407153964042664) (0.6479794979095459, 0.6364803314208984) (0.7497067451477051, 0.7369664907455444) (0.8523135185241699, 0.8399203419685364) (0.934449017047882, 0.928462028503418)};\n",
      "        \\node[above, anchor=south west, rotate=60, font=\\tiny] at (axis cs:0.2811723053455353, 1.0) {610};\n",
      "        \\draw[dotted, color=black] (axis cs:0.2811723053455353, 0.2262295037508011) -- (axis cs:0.2811723053455353, 1.0);\n",
      "        \\node[above, anchor=south west, rotate=60, font=\\tiny] at (axis cs:0.3599405884742737, 1.0) {4396};\n",
      "        \\draw[dotted, color=black] (axis cs:0.3599405884742737, 0.3314376771450043) -- (axis cs:0.3599405884742737, 1.0);\n",
      "        \\node[above, anchor=south west, rotate=60, font=\\tiny] at (axis cs:0.4591023325920105, 1.0) {13289};\n",
      "        \\draw[dotted, color=black] (axis cs:0.4591023325920105, 0.4460832178592682) -- (axis cs:0.4591023325920105, 1.0);\n",
      "        \\node[above, anchor=south west, rotate=60, font=\\tiny] at (axis cs:0.5486885905265808, 1.0) {21024};\n",
      "        \\draw[dotted, color=black] (axis cs:0.5486885905265808, 0.5407153964042664) -- (axis cs:0.5486885905265808, 1.0);\n",
      "        \\node[above, anchor=south west, rotate=60, font=\\tiny] at (axis cs:0.6479794979095459, 1.0) {17138};\n",
      "        \\draw[dotted, color=black] (axis cs:0.6479794979095459, 0.6364803314208984) -- (axis cs:0.6479794979095459, 1.0);\n",
      "        \\node[above, anchor=south west, rotate=60, font=\\tiny] at (axis cs:0.7497067451477051, 1.0) {13964};\n",
      "        \\draw[dotted, color=black] (axis cs:0.7497067451477051, 0.7369664907455444) -- (axis cs:0.7497067451477051, 1.0);\n",
      "        \\node[above, anchor=south west, rotate=60, font=\\tiny] at (axis cs:0.8523135185241699, 1.0) {16573};\n",
      "        \\draw[dotted, color=black] (axis cs:0.8523135185241699, 0.8399203419685364) -- (axis cs:0.8523135185241699, 1.0);\n",
      "        \\node[above, anchor=south west, rotate=60, font=\\tiny] at (axis cs:0.934449017047882, 1.0) {13056};\n",
      "        \\draw[dotted, color=black] (axis cs:0.934449017047882, 0.928462028503418) -- (axis cs:0.934449017047882, 1.0);\n",
      "    \\end{axis}\n",
      "\\end{tikzpicture}\n",
      "Including mcd_5\n",
      "sECE: -0.0145, ECE: 0.0145\n",
      "\\begin{tikzpicture}\n",
      "    \\begin{axis}[calstyle, xmin=0, xmax=1, ymin=0, ymax=1]\n",
      "        \\addplot[dashed, color=black] coordinates {(0,0) (1,1)};\n",
      "        \\addplot[calline] coordinates {(0.28110605478286743, 0.2597864866256714) (0.35957372188568115, 0.3372148275375366) (0.4595175087451935, 0.4421449601650238) (0.5485888123512268, 0.5353641510009766) (0.6480236053466797, 0.6316456198692322) (0.7494166493415833, 0.7341709136962891) (0.8519245386123657, 0.8380025029182434) (0.9344271421432496, 0.92624431848526)};\n",
      "        \\node[above, anchor=south west, rotate=60, font=\\tiny] at (axis cs:0.28110605478286743, 1.0) {562};\n",
      "        \\draw[dotted, color=black] (axis cs:0.28110605478286743, 0.2597864866256714) -- (axis cs:0.28110605478286743, 1.0);\n",
      "        \\node[above, anchor=south west, rotate=60, font=\\tiny] at (axis cs:0.35957372188568115, 1.0) {4208};\n",
      "        \\draw[dotted, color=black] (axis cs:0.35957372188568115, 0.3372148275375366) -- (axis cs:0.35957372188568115, 1.0);\n",
      "        \\node[above, anchor=south west, rotate=60, font=\\tiny] at (axis cs:0.4595175087451935, 1.0) {12998};\n",
      "        \\draw[dotted, color=black] (axis cs:0.4595175087451935, 0.4421449601650238) -- (axis cs:0.4595175087451935, 1.0);\n",
      "        \\node[above, anchor=south west, rotate=60, font=\\tiny] at (axis cs:0.5485888123512268, 1.0) {20911};\n",
      "        \\draw[dotted, color=black] (axis cs:0.5485888123512268, 0.5353641510009766) -- (axis cs:0.5485888123512268, 1.0);\n",
      "        \\node[above, anchor=south west, rotate=60, font=\\tiny] at (axis cs:0.6480236053466797, 1.0) {17361};\n",
      "        \\draw[dotted, color=black] (axis cs:0.6480236053466797, 0.6316456198692322) -- (axis cs:0.6480236053466797, 1.0);\n",
      "        \\node[above, anchor=south west, rotate=60, font=\\tiny] at (axis cs:0.7494166493415833, 1.0) {14009};\n",
      "        \\draw[dotted, color=black] (axis cs:0.7494166493415833, 0.7341709136962891) -- (axis cs:0.7494166493415833, 1.0);\n",
      "        \\node[above, anchor=south west, rotate=60, font=\\tiny] at (axis cs:0.8519245386123657, 1.0) {16741};\n",
      "        \\draw[dotted, color=black] (axis cs:0.8519245386123657, 0.8380025029182434) -- (axis cs:0.8519245386123657, 1.0);\n",
      "        \\node[above, anchor=south west, rotate=60, font=\\tiny] at (axis cs:0.9344271421432496, 1.0) {13260};\n",
      "        \\draw[dotted, color=black] (axis cs:0.9344271421432496, 0.92624431848526) -- (axis cs:0.9344271421432496, 1.0);\n",
      "    \\end{axis}\n",
      "\\end{tikzpicture}\n",
      "Including mcd_5\n",
      "sECE: -0.0081, ECE: 0.0081\n",
      "\\begin{tikzpicture}\n",
      "    \\begin{axis}[calstyle, xmin=0, xmax=1, ymin=0, ymax=1]\n",
      "        \\addplot[dashed, color=black] coordinates {(0,0) (1,1)};\n",
      "        \\addplot[calline] coordinates {(0.2812327742576599, 0.2513088881969452) (0.36091309785842896, 0.3269186317920685) (0.4591219425201416, 0.4457971751689911) (0.5485749244689941, 0.5409183502197266) (0.6475866436958313, 0.6415789127349854) (0.7492191791534424, 0.7463407516479492) (0.8520516157150269, 0.8457182049751282) (0.934151291847229, 0.9301927089691162)};\n",
      "        \\node[above, anchor=south west, rotate=60, font=\\tiny] at (axis cs:0.2812327742576599, 1.0) {573};\n",
      "        \\draw[dotted, color=black] (axis cs:0.2812327742576599, 0.2513088881969452) -- (axis cs:0.2812327742576599, 1.0);\n",
      "        \\node[above, anchor=south west, rotate=60, font=\\tiny] at (axis cs:0.36091309785842896, 1.0) {4313};\n",
      "        \\draw[dotted, color=black] (axis cs:0.36091309785842896, 0.3269186317920685) -- (axis cs:0.36091309785842896, 1.0);\n",
      "        \\node[above, anchor=south west, rotate=60, font=\\tiny] at (axis cs:0.4591219425201416, 1.0) {13717};\n",
      "        \\draw[dotted, color=black] (axis cs:0.4591219425201416, 0.4457971751689911) -- (axis cs:0.4591219425201416, 1.0);\n",
      "        \\node[above, anchor=south west, rotate=60, font=\\tiny] at (axis cs:0.5485749244689941, 1.0) {21604};\n",
      "        \\draw[dotted, color=black] (axis cs:0.5485749244689941, 0.5409183502197266) -- (axis cs:0.5485749244689941, 1.0);\n",
      "        \\node[above, anchor=south west, rotate=60, font=\\tiny] at (axis cs:0.6475866436958313, 1.0) {17658};\n",
      "        \\draw[dotted, color=black] (axis cs:0.6475866436958313, 0.6415789127349854) -- (axis cs:0.6475866436958313, 1.0);\n",
      "        \\node[above, anchor=south west, rotate=60, font=\\tiny] at (axis cs:0.7492191791534424, 1.0) {13869};\n",
      "        \\draw[dotted, color=black] (axis cs:0.7492191791534424, 0.7463407516479492) -- (axis cs:0.7492191791534424, 1.0);\n",
      "        \\node[above, anchor=south west, rotate=60, font=\\tiny] at (axis cs:0.8520516157150269, 1.0) {16068};\n",
      "        \\draw[dotted, color=black] (axis cs:0.8520516157150269, 0.8457182049751282) -- (axis cs:0.8520516157150269, 1.0);\n",
      "        \\node[above, anchor=south west, rotate=60, font=\\tiny] at (axis cs:0.934151291847229, 1.0) {12248};\n",
      "        \\draw[dotted, color=black] (axis cs:0.934151291847229, 0.9301927089691162) -- (axis cs:0.934151291847229, 1.0);\n",
      "    \\end{axis}\n",
      "\\end{tikzpicture}\n",
      "Including bbb\n",
      "sECE: -0.1483, ECE: 0.1483\n",
      "\\begin{tikzpicture}\n",
      "    \\begin{axis}[calstyle, xmin=0, xmax=1, ymin=0, ymax=1]\n",
      "        \\addplot[dashed, color=black] coordinates {(0,0) (1,1)};\n",
      "        \\addplot[calline] coordinates {(0.269275426864624, 0.3055555522441864) (0.35938453674316406, 0.30612245202064514) (0.4785245358943939, 0.3906809985637665) (0.5497307777404785, 0.5000919699668884) (0.6504042148590088, 0.5388680696487427) (0.7514182925224304, 0.5887030363082886) (0.8529212474822998, 0.6444908976554871) (0.9693533778190612, 0.8130648136138916)};\n",
      "        \\node[above, anchor=south west, rotate=60, font=\\tiny] at (axis cs:0.269275426864624, 1.0) {36};\n",
      "        \\draw[dotted, color=black] (axis cs:0.269275426864624, 0.3055555522441864) -- (axis cs:0.269275426864624, 1.0);\n",
      "        \\node[above, anchor=south west, rotate=60, font=\\tiny] at (axis cs:0.35938453674316406, 1.0) {147};\n",
      "        \\draw[dotted, color=black] (axis cs:0.35938453674316406, 0.30612245202064514) -- (axis cs:0.35938453674316406, 1.0);\n",
      "        \\node[above, anchor=south west, rotate=60, font=\\tiny] at (axis cs:0.4785245358943939, 1.0) {1116};\n",
      "        \\draw[dotted, color=black] (axis cs:0.4785245358943939, 0.3906809985637665) -- (axis cs:0.4785245358943939, 1.0);\n",
      "        \\node[above, anchor=south west, rotate=60, font=\\tiny] at (axis cs:0.5497307777404785, 1.0) {10874};\n",
      "        \\draw[dotted, color=black] (axis cs:0.5497307777404785, 0.5000919699668884) -- (axis cs:0.5497307777404785, 1.0);\n",
      "        \\node[above, anchor=south west, rotate=60, font=\\tiny] at (axis cs:0.6504042148590088, 1.0) {11732};\n",
      "        \\draw[dotted, color=black] (axis cs:0.6504042148590088, 0.5388680696487427) -- (axis cs:0.6504042148590088, 1.0);\n",
      "        \\node[above, anchor=south west, rotate=60, font=\\tiny] at (axis cs:0.7514182925224304, 1.0) {13331};\n",
      "        \\draw[dotted, color=black] (axis cs:0.7514182925224304, 0.5887030363082886) -- (axis cs:0.7514182925224304, 1.0);\n",
      "        \\node[above, anchor=south west, rotate=60, font=\\tiny] at (axis cs:0.8529212474822998, 1.0) {17226};\n",
      "        \\draw[dotted, color=black] (axis cs:0.8529212474822998, 0.6444908976554871) -- (axis cs:0.8529212474822998, 1.0);\n",
      "        \\node[above, anchor=south west, rotate=60, font=\\tiny] at (axis cs:0.9693533778190612, 1.0) {45588};\n",
      "        \\draw[dotted, color=black] (axis cs:0.9693533778190612, 0.8130648136138916) -- (axis cs:0.9693533778190612, 1.0);\n",
      "    \\end{axis}\n",
      "\\end{tikzpicture}\n",
      "Including map_5\n",
      "sECE: -0.0571, ECE: 0.0571\n",
      "\\begin{tikzpicture}\n",
      "    \\begin{axis}[calstyle, xmin=0, xmax=1, ymin=0, ymax=1]\n",
      "        \\addplot[dashed, color=black] coordinates {(0,0) (1,1)};\n",
      "        \\addplot[calline] coordinates {(0.2810732424259186, 0.19004525244235992) (0.3601599335670471, 0.29384133219718933) (0.463260293006897, 0.4019681215286255) (0.5502492785453796, 0.4981920719146729) (0.6500601768493652, 0.5785224437713623) (0.7483978867530823, 0.6775255799293518) (0.8525864481925964, 0.802150547504425) (0.9428229331970216, 0.9050896167755128)};\n",
      "        \\node[above, anchor=south west, rotate=60, font=\\tiny] at (axis cs:0.2810732424259186, 1.0) {221};\n",
      "        \\draw[dotted, color=black] (axis cs:0.2810732424259186, 0.19004525244235992) -- (axis cs:0.2810732424259186, 1.0);\n",
      "        \\node[above, anchor=south west, rotate=60, font=\\tiny] at (axis cs:0.3601599335670471, 1.0) {1916};\n",
      "        \\draw[dotted, color=black] (axis cs:0.3601599335670471, 0.29384133219718933) -- (axis cs:0.3601599335670471, 1.0);\n",
      "        \\node[above, anchor=south west, rotate=60, font=\\tiny] at (axis cs:0.463260293006897, 1.0) {8028};\n",
      "        \\draw[dotted, color=black] (axis cs:0.463260293006897, 0.4019681215286255) -- (axis cs:0.463260293006897, 1.0);\n",
      "        \\node[above, anchor=south west, rotate=60, font=\\tiny] at (axis cs:0.5502492785453796, 1.0) {18806};\n",
      "        \\draw[dotted, color=black] (axis cs:0.5502492785453796, 0.4981920719146729) -- (axis cs:0.5502492785453796, 1.0);\n",
      "        \\node[above, anchor=south west, rotate=60, font=\\tiny] at (axis cs:0.6500601768493652, 1.0) {18950};\n",
      "        \\draw[dotted, color=black] (axis cs:0.6500601768493652, 0.5785224437713623) -- (axis cs:0.6500601768493652, 1.0);\n",
      "        \\node[above, anchor=south west, rotate=60, font=\\tiny] at (axis cs:0.7483978867530823, 1.0) {17313};\n",
      "        \\draw[dotted, color=black] (axis cs:0.7483978867530823, 0.6775255799293518) -- (axis cs:0.7483978867530823, 1.0);\n",
      "        \\node[above, anchor=south west, rotate=60, font=\\tiny] at (axis cs:0.8525864481925964, 1.0) {15345};\n",
      "        \\draw[dotted, color=black] (axis cs:0.8525864481925964, 0.802150547504425) -- (axis cs:0.8525864481925964, 1.0);\n",
      "        \\node[above, anchor=south west, rotate=60, font=\\tiny] at (axis cs:0.9428229331970216, 1.0) {19471};\n",
      "        \\draw[dotted, color=black] (axis cs:0.9428229331970216, 0.9050896167755128) -- (axis cs:0.9428229331970216, 1.0);\n",
      "    \\end{axis}\n",
      "\\end{tikzpicture}\n",
      "Including bbb\n",
      "sECE: -0.1657, ECE: 0.1657\n",
      "\\begin{tikzpicture}\n",
      "    \\begin{axis}[calstyle, xmin=0, xmax=1, ymin=0, ymax=1]\n",
      "        \\addplot[dashed, color=black] coordinates {(0,0) (1,1)};\n",
      "        \\addplot[calline] coordinates {(0.2704920172691345, 0.1111111119389534) (0.36253949999809265, 0.24626865983009336) (0.47827792167663574, 0.37822669744491577) (0.5507838726043701, 0.47992804646492) (0.6514421105384827, 0.5164608955383301) (0.751846969127655, 0.564288854598999) (0.853143572807312, 0.6164311766624451) (0.9743630290031432, 0.811005711555481)};\n",
      "        \\node[above, anchor=south west, rotate=60, font=\\tiny] at (axis cs:0.2704920172691345, 1.0) {36};\n",
      "        \\draw[dotted, color=black] (axis cs:0.2704920172691345, 0.1111111119389534) -- (axis cs:0.2704920172691345, 1.0);\n",
      "        \\node[above, anchor=south west, rotate=60, font=\\tiny] at (axis cs:0.36253949999809265, 1.0) {134};\n",
      "        \\draw[dotted, color=black] (axis cs:0.36253949999809265, 0.24626865983009336) -- (axis cs:0.36253949999809265, 1.0);\n",
      "        \\node[above, anchor=south west, rotate=60, font=\\tiny] at (axis cs:0.47827792167663574, 1.0) {891};\n",
      "        \\draw[dotted, color=black] (axis cs:0.47827792167663574, 0.37822669744491577) -- (axis cs:0.47827792167663574, 1.0);\n",
      "        \\node[above, anchor=south west, rotate=60, font=\\tiny] at (axis cs:0.5507838726043701, 1.0) {8893};\n",
      "        \\draw[dotted, color=black] (axis cs:0.5507838726043701, 0.47992804646492) -- (axis cs:0.5507838726043701, 1.0);\n",
      "        \\node[above, anchor=south west, rotate=60, font=\\tiny] at (axis cs:0.6514421105384827, 1.0) {9720};\n",
      "        \\draw[dotted, color=black] (axis cs:0.6514421105384827, 0.5164608955383301) -- (axis cs:0.6514421105384827, 1.0);\n",
      "        \\node[above, anchor=south west, rotate=60, font=\\tiny] at (axis cs:0.751846969127655, 1.0) {11425};\n",
      "        \\draw[dotted, color=black] (axis cs:0.751846969127655, 0.564288854598999) -- (axis cs:0.751846969127655, 1.0);\n",
      "        \\node[above, anchor=south west, rotate=60, font=\\tiny] at (axis cs:0.853143572807312, 1.0) {15288};\n",
      "        \\draw[dotted, color=black] (axis cs:0.853143572807312, 0.6164311766624451) -- (axis cs:0.853143572807312, 1.0);\n",
      "        \\node[above, anchor=south west, rotate=60, font=\\tiny] at (axis cs:0.9743630290031432, 1.0) {53663};\n",
      "        \\draw[dotted, color=black] (axis cs:0.9743630290031432, 0.811005711555481) -- (axis cs:0.9743630290031432, 1.0);\n",
      "    \\end{axis}\n",
      "\\end{tikzpicture}\n",
      "Including map_5\n",
      "sECE: -0.0578, ECE: 0.0578\n",
      "\\begin{tikzpicture}\n",
      "    \\begin{axis}[calstyle, xmin=0, xmax=1, ymin=0, ymax=1]\n",
      "        \\addplot[dashed, color=black] coordinates {(0,0) (1,1)};\n",
      "        \\addplot[calline] coordinates {(0.28440460562705994, 0.2291666716337204) (0.35999375581741333, 0.2830474376678467) (0.4628779292106629, 0.4074854254722595) (0.550178050994873, 0.4973793923854828) (0.6501652002334595, 0.5785048007965088) (0.7480409741401672, 0.6769610643386841) (0.8530464768409729, 0.7972556948661804) (0.942968487739563, 0.9034037590026855)};\n",
      "        \\node[above, anchor=south west, rotate=60, font=\\tiny] at (axis cs:0.28440460562705994, 1.0) {240};\n",
      "        \\draw[dotted, color=black] (axis cs:0.28440460562705994, 0.2291666716337204) -- (axis cs:0.28440460562705994, 1.0);\n",
      "        \\node[above, anchor=south west, rotate=60, font=\\tiny] at (axis cs:0.35999375581741333, 1.0) {1982};\n",
      "        \\draw[dotted, color=black] (axis cs:0.35999375581741333, 0.2830474376678467) -- (axis cs:0.35999375581741333, 1.0);\n",
      "        \\node[above, anchor=south west, rotate=60, font=\\tiny] at (axis cs:0.4628779292106629, 1.0) {8069};\n",
      "        \\draw[dotted, color=black] (axis cs:0.4628779292106629, 0.4074854254722595) -- (axis cs:0.4628779292106629, 1.0);\n",
      "        \\node[above, anchor=south west, rotate=60, font=\\tiny] at (axis cs:0.550178050994873, 1.0) {18698};\n",
      "        \\draw[dotted, color=black] (axis cs:0.550178050994873, 0.4973793923854828) -- (axis cs:0.550178050994873, 1.0);\n",
      "        \\node[above, anchor=south west, rotate=60, font=\\tiny] at (axis cs:0.6501652002334595, 1.0) {18553};\n",
      "        \\draw[dotted, color=black] (axis cs:0.6501652002334595, 0.5785048007965088) -- (axis cs:0.6501652002334595, 1.0);\n",
      "        \\node[above, anchor=south west, rotate=60, font=\\tiny] at (axis cs:0.7480409741401672, 1.0) {16611};\n",
      "        \\draw[dotted, color=black] (axis cs:0.7480409741401672, 0.6769610643386841) -- (axis cs:0.7480409741401672, 1.0);\n",
      "        \\node[above, anchor=south west, rotate=60, font=\\tiny] at (axis cs:0.8530464768409729, 1.0) {15596};\n",
      "        \\draw[dotted, color=black] (axis cs:0.8530464768409729, 0.7972556948661804) -- (axis cs:0.8530464768409729, 1.0);\n",
      "        \\node[above, anchor=south west, rotate=60, font=\\tiny] at (axis cs:0.942968487739563, 1.0) {20301};\n",
      "        \\draw[dotted, color=black] (axis cs:0.942968487739563, 0.9034037590026855) -- (axis cs:0.942968487739563, 1.0);\n",
      "    \\end{axis}\n",
      "\\end{tikzpicture}\n",
      "Including map_5\n",
      "sECE: -0.0604, ECE: 0.0604\n",
      "\\begin{tikzpicture}\n",
      "    \\begin{axis}[calstyle, xmin=0, xmax=1, ymin=0, ymax=1]\n",
      "        \\addplot[dashed, color=black] coordinates {(0,0) (1,1)};\n",
      "        \\addplot[calline] coordinates {(0.28158295154571533, 0.2769230902194977) (0.3593466579914093, 0.283272922039032) (0.46337565779685974, 0.40308088064193726) (0.5501209497451782, 0.49470755457878113) (0.6501600742340088, 0.5785119533538818) (0.7482126951217651, 0.6717488765716553) (0.8529133200645447, 0.7941657304763794) (0.94270122051239, 0.9005367159843445)};\n",
      "        \\node[above, anchor=south west, rotate=60, font=\\tiny] at (axis cs:0.28158295154571533, 1.0) {195};\n",
      "        \\draw[dotted, color=black] (axis cs:0.28158295154571533, 0.2769230902194977) -- (axis cs:0.28158295154571533, 1.0);\n",
      "        \\node[above, anchor=south west, rotate=60, font=\\tiny] at (axis cs:0.3593466579914093, 1.0) {1931};\n",
      "        \\draw[dotted, color=black] (axis cs:0.3593466579914093, 0.283272922039032) -- (axis cs:0.3593466579914093, 1.0);\n",
      "        \\node[above, anchor=south west, rotate=60, font=\\tiny] at (axis cs:0.46337565779685974, 1.0) {7790};\n",
      "        \\draw[dotted, color=black] (axis cs:0.46337565779685974, 0.40308088064193726) -- (axis cs:0.46337565779685974, 1.0);\n",
      "        \\node[above, anchor=south west, rotate=60, font=\\tiny] at (axis cs:0.5501209497451782, 1.0) {18328};\n",
      "        \\draw[dotted, color=black] (axis cs:0.5501209497451782, 0.49470755457878113) -- (axis cs:0.5501209497451782, 1.0);\n",
      "        \\node[above, anchor=south west, rotate=60, font=\\tiny] at (axis cs:0.6501600742340088, 1.0) {18494};\n",
      "        \\draw[dotted, color=black] (axis cs:0.6501600742340088, 0.5785119533538818) -- (axis cs:0.6501600742340088, 1.0);\n",
      "        \\node[above, anchor=south west, rotate=60, font=\\tiny] at (axis cs:0.7482126951217651, 1.0) {16725};\n",
      "        \\draw[dotted, color=black] (axis cs:0.7482126951217651, 0.6717488765716553) -- (axis cs:0.7482126951217651, 1.0);\n",
      "        \\node[above, anchor=south west, rotate=60, font=\\tiny] at (axis cs:0.8529133200645447, 1.0) {15906};\n",
      "        \\draw[dotted, color=black] (axis cs:0.8529133200645447, 0.7941657304763794) -- (axis cs:0.8529133200645447, 1.0);\n",
      "        \\node[above, anchor=south west, rotate=60, font=\\tiny] at (axis cs:0.94270122051239, 1.0) {20681};\n",
      "        \\draw[dotted, color=black] (axis cs:0.94270122051239, 0.9005367159843445) -- (axis cs:0.94270122051239, 1.0);\n",
      "    \\end{axis}\n",
      "\\end{tikzpicture}\n",
      "Including map_5\n",
      "sECE: -0.0603, ECE: 0.0603\n",
      "\\begin{tikzpicture}\n",
      "    \\begin{axis}[calstyle, xmin=0, xmax=1, ymin=0, ymax=1]\n",
      "        \\addplot[dashed, color=black] coordinates {(0,0) (1,1)};\n",
      "        \\addplot[calline] coordinates {(0.28448382019996643, 0.2236286848783493) (0.36007070541381836, 0.28839147090911865) (0.4633932113647461, 0.403962641954422) (0.5501631498336792, 0.4944052100181579) (0.650309145450592, 0.5786991715431213) (0.7484592795372009, 0.6730700135231018) (0.8529356718063354, 0.7945987582206726) (0.9433603882789612, 0.9004757404327393)};\n",
      "        \\node[above, anchor=south west, rotate=60, font=\\tiny] at (axis cs:0.28448382019996643, 1.0) {237};\n",
      "        \\draw[dotted, color=black] (axis cs:0.28448382019996643, 0.2236286848783493) -- (axis cs:0.28448382019996643, 1.0);\n",
      "        \\node[above, anchor=south west, rotate=60, font=\\tiny] at (axis cs:0.36007070541381836, 1.0) {1921};\n",
      "        \\draw[dotted, color=black] (axis cs:0.36007070541381836, 0.28839147090911865) -- (axis cs:0.36007070541381836, 1.0);\n",
      "        \\node[above, anchor=south west, rotate=60, font=\\tiny] at (axis cs:0.4633932113647461, 1.0) {7924};\n",
      "        \\draw[dotted, color=black] (axis cs:0.4633932113647461, 0.403962641954422) -- (axis cs:0.4633932113647461, 1.0);\n",
      "        \\node[above, anchor=south west, rotate=60, font=\\tiny] at (axis cs:0.5501631498336792, 1.0) {18410};\n",
      "        \\draw[dotted, color=black] (axis cs:0.5501631498336792, 0.4944052100181579) -- (axis cs:0.5501631498336792, 1.0);\n",
      "        \\node[above, anchor=south west, rotate=60, font=\\tiny] at (axis cs:0.650309145450592, 1.0) {18450};\n",
      "        \\draw[dotted, color=black] (axis cs:0.650309145450592, 0.5786991715431213) -- (axis cs:0.650309145450592, 1.0);\n",
      "        \\node[above, anchor=south west, rotate=60, font=\\tiny] at (axis cs:0.7484592795372009, 1.0) {16710};\n",
      "        \\draw[dotted, color=black] (axis cs:0.7484592795372009, 0.6730700135231018) -- (axis cs:0.7484592795372009, 1.0);\n",
      "        \\node[above, anchor=south west, rotate=60, font=\\tiny] at (axis cs:0.8529356718063354, 1.0) {15589};\n",
      "        \\draw[dotted, color=black] (axis cs:0.8529356718063354, 0.7945987582206726) -- (axis cs:0.8529356718063354, 1.0);\n",
      "        \\node[above, anchor=south west, rotate=60, font=\\tiny] at (axis cs:0.9433603882789612, 1.0) {20809};\n",
      "        \\draw[dotted, color=black] (axis cs:0.9433603882789612, 0.9004757404327393) -- (axis cs:0.9433603882789612, 1.0);\n",
      "    \\end{axis}\n",
      "\\end{tikzpicture}\n",
      "Including map_5\n",
      "sECE: -0.0566, ECE: 0.0566\n",
      "\\begin{tikzpicture}\n",
      "    \\begin{axis}[calstyle, xmin=0, xmax=1, ymin=0, ymax=1]\n",
      "        \\addplot[dashed, color=black] coordinates {(0,0) (1,1)};\n",
      "        \\addplot[calline] coordinates {(0.2832324206829071, 0.2579185664653778) (0.3607237040996551, 0.2881709337234497) (0.4635855555534363, 0.4007683992385864) (0.5503544211387634, 0.4953738152980805) (0.6500404477119446, 0.583404004573822) (0.7481176853179932, 0.6792430877685547) (0.8529427647590637, 0.8022300601005554) (0.9428709149360656, 0.9041088819503784)};\n",
      "        \\node[above, anchor=south west, rotate=60, font=\\tiny] at (axis cs:0.2832324206829071, 1.0) {221};\n",
      "        \\draw[dotted, color=black] (axis cs:0.2832324206829071, 0.2579185664653778) -- (axis cs:0.2832324206829071, 1.0);\n",
      "        \\node[above, anchor=south west, rotate=60, font=\\tiny] at (axis cs:0.3607237040996551, 1.0) {1919};\n",
      "        \\draw[dotted, color=black] (axis cs:0.3607237040996551, 0.2881709337234497) -- (axis cs:0.3607237040996551, 1.0);\n",
      "        \\node[above, anchor=south west, rotate=60, font=\\tiny] at (axis cs:0.4635855555534363, 1.0) {8329};\n",
      "        \\draw[dotted, color=black] (axis cs:0.4635855555534363, 0.4007683992385864) -- (axis cs:0.4635855555534363, 1.0);\n",
      "        \\node[above, anchor=south west, rotate=60, font=\\tiny] at (axis cs:0.5503544211387634, 1.0) {18806};\n",
      "        \\draw[dotted, color=black] (axis cs:0.5503544211387634, 0.4953738152980805) -- (axis cs:0.5503544211387634, 1.0);\n",
      "        \\node[above, anchor=south west, rotate=60, font=\\tiny] at (axis cs:0.6500404477119446, 1.0) {18860};\n",
      "        \\draw[dotted, color=black] (axis cs:0.6500404477119446, 0.583404004573822) -- (axis cs:0.6500404477119446, 1.0);\n",
      "        \\node[above, anchor=south west, rotate=60, font=\\tiny] at (axis cs:0.7481176853179932, 1.0) {16963};\n",
      "        \\draw[dotted, color=black] (axis cs:0.7481176853179932, 0.6792430877685547) -- (axis cs:0.7481176853179932, 1.0);\n",
      "        \\node[above, anchor=south west, rotate=60, font=\\tiny] at (axis cs:0.8529427647590637, 1.0) {15336};\n",
      "        \\draw[dotted, color=black] (axis cs:0.8529427647590637, 0.8022300601005554) -- (axis cs:0.8529427647590637, 1.0);\n",
      "        \\node[above, anchor=south west, rotate=60, font=\\tiny] at (axis cs:0.9428709149360656, 1.0) {19616};\n",
      "        \\draw[dotted, color=black] (axis cs:0.9428709149360656, 0.9041088819503784) -- (axis cs:0.9428709149360656, 1.0);\n",
      "    \\end{axis}\n",
      "\\end{tikzpicture}\n",
      "Including bbb\n",
      "sECE: -0.1544, ECE: 0.1544\n",
      "\\begin{tikzpicture}\n",
      "    \\begin{axis}[calstyle, xmin=0, xmax=1, ymin=0, ymax=1]\n",
      "        \\addplot[dashed, color=black] coordinates {(0,0) (1,1)};\n",
      "        \\addplot[calline] coordinates {(0.27543172240257263, 0.35483869910240173) (0.3566683232784271, 0.3353658616542816) (0.47701525688171387, 0.4117647111415863) (0.5499394536018372, 0.48335644602775574) (0.6508105993270874, 0.5234699249267578) (0.7514091730117798, 0.5735321640968323) (0.8531391024589539, 0.6279317736625671) (0.9767720103263856, 0.823964536190033)};\n",
      "        \\node[above, anchor=south west, rotate=60, font=\\tiny] at (axis cs:0.27543172240257263, 1.0) {31};\n",
      "        \\draw[dotted, color=black] (axis cs:0.27543172240257263, 0.35483869910240173) -- (axis cs:0.27543172240257263, 1.0);\n",
      "        \\node[above, anchor=south west, rotate=60, font=\\tiny] at (axis cs:0.3566683232784271, 1.0) {164};\n",
      "        \\draw[dotted, color=black] (axis cs:0.3566683232784271, 0.3353658616542816) -- (axis cs:0.3566683232784271, 1.0);\n",
      "        \\node[above, anchor=south west, rotate=60, font=\\tiny] at (axis cs:0.47701525688171387, 1.0) {1309};\n",
      "        \\draw[dotted, color=black] (axis cs:0.47701525688171387, 0.4117647111415863) -- (axis cs:0.47701525688171387, 1.0);\n",
      "        \\node[above, anchor=south west, rotate=60, font=\\tiny] at (axis cs:0.5499394536018372, 1.0) {8652};\n",
      "        \\draw[dotted, color=black] (axis cs:0.5499394536018372, 0.48335644602775574) -- (axis cs:0.5499394536018372, 1.0);\n",
      "        \\node[above, anchor=south west, rotate=60, font=\\tiny] at (axis cs:0.6508105993270874, 1.0) {9395};\n",
      "        \\draw[dotted, color=black] (axis cs:0.6508105993270874, 0.5234699249267578) -- (axis cs:0.6508105993270874, 1.0);\n",
      "        \\node[above, anchor=south west, rotate=60, font=\\tiny] at (axis cs:0.7514091730117798, 1.0) {10730};\n",
      "        \\draw[dotted, color=black] (axis cs:0.7514091730117798, 0.5735321640968323) -- (axis cs:0.7514091730117798, 1.0);\n",
      "        \\node[above, anchor=south west, rotate=60, font=\\tiny] at (axis cs:0.8531391024589539, 1.0) {14070};\n",
      "        \\draw[dotted, color=black] (axis cs:0.8531391024589539, 0.6279317736625671) -- (axis cs:0.8531391024589539, 1.0);\n",
      "        \\node[above, anchor=south west, rotate=60, font=\\tiny] at (axis cs:0.9767720103263856, 1.0) {55699};\n",
      "        \\draw[dotted, color=black] (axis cs:0.9767720103263856, 0.823964536190033) -- (axis cs:0.9767720103263856, 1.0);\n",
      "    \\end{axis}\n",
      "\\end{tikzpicture}\n",
      "Including bbb\n",
      "sECE: -0.1526, ECE: 0.1526\n",
      "\\begin{tikzpicture}\n",
      "    \\begin{axis}[calstyle, xmin=0, xmax=1, ymin=0, ymax=1]\n",
      "        \\addplot[dashed, color=black] coordinates {(0,0) (1,1)};\n",
      "        \\addplot[calline] coordinates {(0.27835214138031006, 0.25806450843811035) (0.35468342900276184, 0.25773194432258606) (0.47593215107917786, 0.4004913866519928) (0.5507338047027588, 0.4782707393169403) (0.6507922410964966, 0.5187479853630066) (0.7517247200012207, 0.5674136877059937) (0.8532578349113464, 0.6317458152770996) (0.9748783707618712, 0.8288962244987488)};\n",
      "        \\node[above, anchor=south west, rotate=60, font=\\tiny] at (axis cs:0.27835214138031006, 1.0) {31};\n",
      "        \\draw[dotted, color=black] (axis cs:0.27835214138031006, 0.25806450843811035) -- (axis cs:0.27835214138031006, 1.0);\n",
      "        \\node[above, anchor=south west, rotate=60, font=\\tiny] at (axis cs:0.35468342900276184, 1.0) {194};\n",
      "        \\draw[dotted, color=black] (axis cs:0.35468342900276184, 0.25773194432258606) -- (axis cs:0.35468342900276184, 1.0);\n",
      "        \\node[above, anchor=south west, rotate=60, font=\\tiny] at (axis cs:0.47593215107917786, 1.0) {1221};\n",
      "        \\draw[dotted, color=black] (axis cs:0.47593215107917786, 0.4004913866519928) -- (axis cs:0.47593215107917786, 1.0);\n",
      "        \\node[above, anchor=south west, rotate=60, font=\\tiny] at (axis cs:0.5507338047027588, 1.0) {8813};\n",
      "        \\draw[dotted, color=black] (axis cs:0.5507338047027588, 0.4782707393169403) -- (axis cs:0.5507338047027588, 1.0);\n",
      "        \\node[above, anchor=south west, rotate=60, font=\\tiny] at (axis cs:0.6507922410964966, 1.0) {9361};\n",
      "        \\draw[dotted, color=black] (axis cs:0.6507922410964966, 0.5187479853630066) -- (axis cs:0.6507922410964966, 1.0);\n",
      "        \\node[above, anchor=south west, rotate=60, font=\\tiny] at (axis cs:0.7517247200012207, 1.0) {11066};\n",
      "        \\draw[dotted, color=black] (axis cs:0.7517247200012207, 0.5674136877059937) -- (axis cs:0.7517247200012207, 1.0);\n",
      "        \\node[above, anchor=south west, rotate=60, font=\\tiny] at (axis cs:0.8532578349113464, 1.0) {14824};\n",
      "        \\draw[dotted, color=black] (axis cs:0.8532578349113464, 0.6317458152770996) -- (axis cs:0.8532578349113464, 1.0);\n",
      "        \\node[above, anchor=south west, rotate=60, font=\\tiny] at (axis cs:0.9748783707618712, 1.0) {54540};\n",
      "        \\draw[dotted, color=black] (axis cs:0.9748783707618712, 0.8288962244987488) -- (axis cs:0.9748783707618712, 1.0);\n",
      "    \\end{axis}\n",
      "\\end{tikzpicture}\n",
      "Including bbb\n",
      "sECE: -0.1565, ECE: 0.1565\n",
      "\\begin{tikzpicture}\n",
      "    \\begin{axis}[calstyle, xmin=0, xmax=1, ymin=0, ymax=1]\n",
      "        \\addplot[dashed, color=black] coordinates {(0,0) (1,1)};\n",
      "        \\addplot[calline] coordinates {(0.2778855860233307, 0.3125) (0.3595629930496216, 0.2150537669658661) (0.4831198751926422, 0.4067567586898804) (0.5500738620758057, 0.487406462430954) (0.6509169340133667, 0.5325392484664917) (0.7520937919616699, 0.5865913033485413) (0.8532488346099854, 0.6356164216995239) (0.9704721570014954, 0.8094541430473328)};\n",
      "        \\node[above, anchor=south west, rotate=60, font=\\tiny] at (axis cs:0.2778855860233307, 1.0) {16};\n",
      "        \\draw[dotted, color=black] (axis cs:0.2778855860233307, 0.3125) -- (axis cs:0.2778855860233307, 1.0);\n",
      "        \\node[above, anchor=south west, rotate=60, font=\\tiny] at (axis cs:0.3595629930496216, 1.0) {93};\n",
      "        \\draw[dotted, color=black] (axis cs:0.3595629930496216, 0.2150537669658661) -- (axis cs:0.3595629930496216, 1.0);\n",
      "        \\node[above, anchor=south west, rotate=60, font=\\tiny] at (axis cs:0.4831198751926422, 1.0) {740};\n",
      "        \\draw[dotted, color=black] (axis cs:0.4831198751926422, 0.4067567586898804) -- (axis cs:0.4831198751926422, 1.0);\n",
      "        \\node[above, anchor=south west, rotate=60, font=\\tiny] at (axis cs:0.5500738620758057, 1.0) {9489};\n",
      "        \\draw[dotted, color=black] (axis cs:0.5500738620758057, 0.487406462430954) -- (axis cs:0.5500738620758057, 1.0);\n",
      "        \\node[above, anchor=south west, rotate=60, font=\\tiny] at (axis cs:0.6509169340133667, 1.0) {10326};\n",
      "        \\draw[dotted, color=black] (axis cs:0.6509169340133667, 0.5325392484664917) -- (axis cs:0.6509169340133667, 1.0);\n",
      "        \\node[above, anchor=south west, rotate=60, font=\\tiny] at (axis cs:0.7520937919616699, 1.0) {12380};\n",
      "        \\draw[dotted, color=black] (axis cs:0.7520937919616699, 0.5865913033485413) -- (axis cs:0.7520937919616699, 1.0);\n",
      "        \\node[above, anchor=south west, rotate=60, font=\\tiny] at (axis cs:0.8532488346099854, 1.0) {16425};\n",
      "        \\draw[dotted, color=black] (axis cs:0.8532488346099854, 0.6356164216995239) -- (axis cs:0.8532488346099854, 1.0);\n",
      "        \\node[above, anchor=south west, rotate=60, font=\\tiny] at (axis cs:0.9704721570014954, 1.0) {50581};\n",
      "        \\draw[dotted, color=black] (axis cs:0.9704721570014954, 0.8094541430473328) -- (axis cs:0.9704721570014954, 1.0);\n",
      "    \\end{axis}\n",
      "\\end{tikzpicture}\n",
      "Including bbb\n",
      "sECE: -0.1480, ECE: 0.1480\n",
      "\\begin{tikzpicture}\n",
      "    \\begin{axis}[calstyle, xmin=0, xmax=1, ymin=0, ymax=1]\n",
      "        \\addplot[dashed, color=black] coordinates {(0,0) (1,1)};\n",
      "        \\addplot[calline] coordinates {(0.2698496878147125, 0.25581395626068115) (0.35798579454421997, 0.2568306028842926) (0.4783310890197754, 0.3850823938846588) (0.550628662109375, 0.4870240390300751) (0.6510214805603027, 0.5269256830215454) (0.7512229681015015, 0.5715804100036621) (0.8536791801452637, 0.6503663063049316) (0.9724389314651488, 0.827473521232605)};\n",
      "        \\node[above, anchor=south west, rotate=60, font=\\tiny] at (axis cs:0.2698496878147125, 1.0) {43};\n",
      "        \\draw[dotted, color=black] (axis cs:0.2698496878147125, 0.25581395626068115) -- (axis cs:0.2698496878147125, 1.0);\n",
      "        \\node[above, anchor=south west, rotate=60, font=\\tiny] at (axis cs:0.35798579454421997, 1.0) {183};\n",
      "        \\draw[dotted, color=black] (axis cs:0.35798579454421997, 0.2568306028842926) -- (axis cs:0.35798579454421997, 1.0);\n",
      "        \\node[above, anchor=south west, rotate=60, font=\\tiny] at (axis cs:0.4783310890197754, 1.0) {1153};\n",
      "        \\draw[dotted, color=black] (axis cs:0.4783310890197754, 0.3850823938846588) -- (axis cs:0.4783310890197754, 1.0);\n",
      "        \\node[above, anchor=south west, rotate=60, font=\\tiny] at (axis cs:0.550628662109375, 1.0) {9402};\n",
      "        \\draw[dotted, color=black] (axis cs:0.550628662109375, 0.4870240390300751) -- (axis cs:0.550628662109375, 1.0);\n",
      "        \\node[above, anchor=south west, rotate=60, font=\\tiny] at (axis cs:0.6510214805603027, 1.0) {10269};\n",
      "        \\draw[dotted, color=black] (axis cs:0.6510214805603027, 0.5269256830215454) -- (axis cs:0.6510214805603027, 1.0);\n",
      "        \\node[above, anchor=south west, rotate=60, font=\\tiny] at (axis cs:0.7512229681015015, 1.0) {12231};\n",
      "        \\draw[dotted, color=black] (axis cs:0.7512229681015015, 0.5715804100036621) -- (axis cs:0.7512229681015015, 1.0);\n",
      "        \\node[above, anchor=south west, rotate=60, font=\\tiny] at (axis cs:0.8536791801452637, 1.0) {15971};\n",
      "        \\draw[dotted, color=black] (axis cs:0.8536791801452637, 0.6503663063049316) -- (axis cs:0.8536791801452637, 1.0);\n",
      "        \\node[above, anchor=south west, rotate=60, font=\\tiny] at (axis cs:0.9724389314651488, 1.0) {50798};\n",
      "        \\draw[dotted, color=black] (axis cs:0.9724389314651488, 0.827473521232605) -- (axis cs:0.9724389314651488, 1.0);\n",
      "    \\end{axis}\n",
      "\\end{tikzpicture}\n",
      "Skipping old run map-1\n",
      "Skipping old run map-0\n",
      "Skipping old run swag-4\n",
      "Skipping old run swag-3\n",
      "Skipping old run swag-1\n",
      "Including mcd\n",
      "sECE: -0.0128, ECE: 0.0128\n",
      "\\begin{tikzpicture}\n",
      "    \\begin{axis}[calstyle, xmin=0, xmax=1, ymin=0, ymax=1]\n",
      "        \\addplot[dashed, color=black] coordinates {(0,0) (1,1)};\n",
      "        \\addplot[calline] coordinates {(0.2809613347053528, 0.2564612329006195) (0.3611210882663727, 0.3250422477722168) (0.45934754610061646, 0.4464820921421051) (0.5484968423843384, 0.5394354462623596) (0.6474398374557495, 0.6396254897117615) (0.7502273321151733, 0.7336196303367615) (0.8519717454910278, 0.8360190987586975) (0.9355565905570984, 0.9261630177497864)};\n",
      "        \\node[above, anchor=south west, rotate=60, font=\\tiny] at (axis cs:0.2809613347053528, 1.0) {503};\n",
      "        \\draw[dotted, color=black] (axis cs:0.2809613347053528, 0.2564612329006195) -- (axis cs:0.2809613347053528, 1.0);\n",
      "        \\node[above, anchor=south west, rotate=60, font=\\tiny] at (axis cs:0.3611210882663727, 1.0) {4141};\n",
      "        \\draw[dotted, color=black] (axis cs:0.3611210882663727, 0.3250422477722168) -- (axis cs:0.3611210882663727, 1.0);\n",
      "        \\node[above, anchor=south west, rotate=60, font=\\tiny] at (axis cs:0.45934754610061646, 1.0) {14014};\n",
      "        \\draw[dotted, color=black] (axis cs:0.45934754610061646, 0.4464820921421051) -- (axis cs:0.45934754610061646, 1.0);\n",
      "        \\node[above, anchor=south west, rotate=60, font=\\tiny] at (axis cs:0.5484968423843384, 1.0) {21326};\n",
      "        \\draw[dotted, color=black] (axis cs:0.5484968423843384, 0.5394354462623596) -- (axis cs:0.5484968423843384, 1.0);\n",
      "        \\node[above, anchor=south west, rotate=60, font=\\tiny] at (axis cs:0.6474398374557495, 1.0) {16555};\n",
      "        \\draw[dotted, color=black] (axis cs:0.6474398374557495, 0.6396254897117615) -- (axis cs:0.6474398374557495, 1.0);\n",
      "        \\node[above, anchor=south west, rotate=60, font=\\tiny] at (axis cs:0.7502273321151733, 1.0) {13507};\n",
      "        \\draw[dotted, color=black] (axis cs:0.7502273321151733, 0.7336196303367615) -- (axis cs:0.7502273321151733, 1.0);\n",
      "        \\node[above, anchor=south west, rotate=60, font=\\tiny] at (axis cs:0.8519717454910278, 1.0) {16569};\n",
      "        \\draw[dotted, color=black] (axis cs:0.8519717454910278, 0.8360190987586975) -- (axis cs:0.8519717454910278, 1.0);\n",
      "        \\node[above, anchor=south west, rotate=60, font=\\tiny] at (axis cs:0.9355565905570984, 1.0) {13435};\n",
      "        \\draw[dotted, color=black] (axis cs:0.9355565905570984, 0.9261630177497864) -- (axis cs:0.9355565905570984, 1.0);\n",
      "    \\end{axis}\n",
      "\\end{tikzpicture}\n",
      "Skipping old run swag-0\n",
      "Including mcd\n",
      "sECE: -0.0349, ECE: 0.0349\n",
      "\\begin{tikzpicture}\n",
      "    \\begin{axis}[calstyle, xmin=0, xmax=1, ymin=0, ymax=1]\n",
      "        \\addplot[dashed, color=black] coordinates {(0,0) (1,1)};\n",
      "        \\addplot[calline] coordinates {(0.2825947701931, 0.24909746646881104) (0.35932016372680664, 0.33043476939201355) (0.45848989486694336, 0.4388459324836731) (0.5488355755805969, 0.5229061245918274) (0.6486307978630066, 0.6082013249397278) (0.7507094740867615, 0.6995720863342285) (0.8537338972091675, 0.8029940128326416) (0.9355846643447876, 0.9138662815093994)};\n",
      "        \\node[above, anchor=south west, rotate=60, font=\\tiny] at (axis cs:0.2825947701931, 1.0) {554};\n",
      "        \\draw[dotted, color=black] (axis cs:0.2825947701931, 0.24909746646881104) -- (axis cs:0.2825947701931, 1.0);\n",
      "        \\node[above, anchor=south west, rotate=60, font=\\tiny] at (axis cs:0.35932016372680664, 1.0) {4140};\n",
      "        \\draw[dotted, color=black] (axis cs:0.35932016372680664, 0.33043476939201355) -- (axis cs:0.35932016372680664, 1.0);\n",
      "        \\node[above, anchor=south west, rotate=60, font=\\tiny] at (axis cs:0.45848989486694336, 1.0) {12027};\n",
      "        \\draw[dotted, color=black] (axis cs:0.45848989486694336, 0.4388459324836731) -- (axis cs:0.45848989486694336, 1.0);\n",
      "        \\node[above, anchor=south west, rotate=60, font=\\tiny] at (axis cs:0.5488355755805969, 1.0) {18554};\n",
      "        \\draw[dotted, color=black] (axis cs:0.5488355755805969, 0.5229061245918274) -- (axis cs:0.5488355755805969, 1.0);\n",
      "        \\node[above, anchor=south west, rotate=60, font=\\tiny] at (axis cs:0.6486307978630066, 1.0) {15656};\n",
      "        \\draw[dotted, color=black] (axis cs:0.6486307978630066, 0.6082013249397278) -- (axis cs:0.6486307978630066, 1.0);\n",
      "        \\node[above, anchor=south west, rotate=60, font=\\tiny] at (axis cs:0.7507094740867615, 1.0) {13787};\n",
      "        \\draw[dotted, color=black] (axis cs:0.7507094740867615, 0.6995720863342285) -- (axis cs:0.7507094740867615, 1.0);\n",
      "        \\node[above, anchor=south west, rotate=60, font=\\tiny] at (axis cs:0.8537338972091675, 1.0) {18370};\n",
      "        \\draw[dotted, color=black] (axis cs:0.8537338972091675, 0.8029940128326416) -- (axis cs:0.8537338972091675, 1.0);\n",
      "        \\node[above, anchor=south west, rotate=60, font=\\tiny] at (axis cs:0.9355846643447876, 1.0) {16962};\n",
      "        \\draw[dotted, color=black] (axis cs:0.9355846643447876, 0.9138662815093994) -- (axis cs:0.9355846643447876, 1.0);\n",
      "    \\end{axis}\n",
      "\\end{tikzpicture}\n",
      "Including mcd\n",
      "sECE: -0.0159, ECE: 0.0159\n",
      "\\begin{tikzpicture}\n",
      "    \\begin{axis}[calstyle, xmin=0, xmax=1, ymin=0, ymax=1]\n",
      "        \\addplot[dashed, color=black] coordinates {(0,0) (1,1)};\n",
      "        \\addplot[calline] coordinates {(0.28179091215133667, 0.2654639184474945) (0.36035963892936707, 0.3175952136516571) (0.46097397804260254, 0.4228510856628418) (0.5491500496864319, 0.525537371635437) (0.6481434106826782, 0.6293833255767822) (0.7480063438415527, 0.7471310496330261) (0.851621687412262, 0.8493964076042175) (0.9335043430328368, 0.930579960346222)};\n",
      "        \\node[above, anchor=south west, rotate=60, font=\\tiny] at (axis cs:0.28179091215133667, 1.0) {388};\n",
      "        \\draw[dotted, color=black] (axis cs:0.28179091215133667, 0.2654639184474945) -- (axis cs:0.28179091215133667, 1.0);\n",
      "        \\node[above, anchor=south west, rotate=60, font=\\tiny] at (axis cs:0.36035963892936707, 1.0) {3177};\n",
      "        \\draw[dotted, color=black] (axis cs:0.36035963892936707, 0.3175952136516571) -- (axis cs:0.36035963892936707, 1.0);\n",
      "        \\node[above, anchor=south west, rotate=60, font=\\tiny] at (axis cs:0.46097397804260254, 1.0) {12262};\n",
      "        \\draw[dotted, color=black] (axis cs:0.46097397804260254, 0.4228510856628418) -- (axis cs:0.46097397804260254, 1.0);\n",
      "        \\node[above, anchor=south west, rotate=60, font=\\tiny] at (axis cs:0.5491500496864319, 1.0) {22516};\n",
      "        \\draw[dotted, color=black] (axis cs:0.5491500496864319, 0.525537371635437) -- (axis cs:0.5491500496864319, 1.0);\n",
      "        \\node[above, anchor=south west, rotate=60, font=\\tiny] at (axis cs:0.6481434106826782, 1.0) {19848};\n",
      "        \\draw[dotted, color=black] (axis cs:0.6481434106826782, 0.6293833255767822) -- (axis cs:0.6481434106826782, 1.0);\n",
      "        \\node[above, anchor=south west, rotate=60, font=\\tiny] at (axis cs:0.7480063438415527, 1.0) {14988};\n",
      "        \\draw[dotted, color=black] (axis cs:0.7480063438415527, 0.7471310496330261) -- (axis cs:0.7480063438415527, 1.0);\n",
      "        \\node[above, anchor=south west, rotate=60, font=\\tiny] at (axis cs:0.851621687412262, 1.0) {15491};\n",
      "        \\draw[dotted, color=black] (axis cs:0.851621687412262, 0.8493964076042175) -- (axis cs:0.851621687412262, 1.0);\n",
      "        \\node[above, anchor=south west, rotate=60, font=\\tiny] at (axis cs:0.9335043430328368, 1.0) {11380};\n",
      "        \\draw[dotted, color=black] (axis cs:0.9335043430328368, 0.930579960346222) -- (axis cs:0.9335043430328368, 1.0);\n",
      "    \\end{axis}\n",
      "\\end{tikzpicture}\n",
      "Including mcd\n",
      "sECE: -0.0039, ECE: 0.0074\n",
      "\\begin{tikzpicture}\n",
      "    \\begin{axis}[calstyle, xmin=0, xmax=1, ymin=0, ymax=1]\n",
      "        \\addplot[dashed, color=black] coordinates {(0,0) (1,1)};\n",
      "        \\addplot[calline] coordinates {(0.2805057168006897, 0.2684931457042694) (0.3612040281295776, 0.3407798409461975) (0.4580193758010864, 0.4454288780689239) (0.5491414666175842, 0.5426803827285767) (0.6476539969444275, 0.6437616348266602) (0.7480258345603943, 0.7607651948928833) (0.8520907759666443, 0.851091206073761) (0.9351751804351808, 0.9318103194236756)};\n",
      "        \\node[above, anchor=south west, rotate=60, font=\\tiny] at (axis cs:0.2805057168006897, 1.0) {730};\n",
      "        \\draw[dotted, color=black] (axis cs:0.2805057168006897, 0.2684931457042694) -- (axis cs:0.2805057168006897, 1.0);\n",
      "        \\node[above, anchor=south west, rotate=60, font=\\tiny] at (axis cs:0.3612040281295776, 1.0) {4924};\n",
      "        \\draw[dotted, color=black] (axis cs:0.3612040281295776, 0.3407798409461975) -- (axis cs:0.3612040281295776, 1.0);\n",
      "        \\node[above, anchor=south west, rotate=60, font=\\tiny] at (axis cs:0.4580193758010864, 1.0) {15237};\n",
      "        \\draw[dotted, color=black] (axis cs:0.4580193758010864, 0.4454288780689239) -- (axis cs:0.4580193758010864, 1.0);\n",
      "        \\node[above, anchor=south west, rotate=60, font=\\tiny] at (axis cs:0.5491414666175842, 1.0) {21497};\n",
      "        \\draw[dotted, color=black] (axis cs:0.5491414666175842, 0.5426803827285767) -- (axis cs:0.5491414666175842, 1.0);\n",
      "        \\node[above, anchor=south west, rotate=60, font=\\tiny] at (axis cs:0.6476539969444275, 1.0) {17769};\n",
      "        \\draw[dotted, color=black] (axis cs:0.6476539969444275, 0.6437616348266602) -- (axis cs:0.6476539969444275, 1.0);\n",
      "        \\node[above, anchor=south west, rotate=60, font=\\tiny] at (axis cs:0.7480258345603943, 1.0) {13539};\n",
      "        \\draw[dotted, color=black] (axis cs:0.7480258345603943, 0.7607651948928833) -- (axis cs:0.7480258345603943, 1.0);\n",
      "        \\node[above, anchor=south west, rotate=60, font=\\tiny] at (axis cs:0.8520907759666443, 1.0) {14754};\n",
      "        \\draw[dotted, color=black] (axis cs:0.8520907759666443, 0.851091206073761) -- (axis cs:0.8520907759666443, 1.0);\n",
      "        \\node[above, anchor=south west, rotate=60, font=\\tiny] at (axis cs:0.9351751804351808, 1.0) {11600};\n",
      "        \\draw[dotted, color=black] (axis cs:0.9351751804351808, 0.9318103194236756) -- (axis cs:0.9351751804351808, 1.0);\n",
      "    \\end{axis}\n",
      "\\end{tikzpicture}\n",
      "Including mcd\n",
      "sECE: -0.0071, ECE: 0.0108\n",
      "\\begin{tikzpicture}\n",
      "    \\begin{axis}[calstyle, xmin=0, xmax=1, ymin=0, ymax=1]\n",
      "        \\addplot[dashed, color=black] coordinates {(0,0) (1,1)};\n",
      "        \\addplot[calline] coordinates {(0.2816980481147766, 0.25280898809432983) (0.36135587096214294, 0.3166707158088684) (0.46022388339042664, 0.4381085932254791) (0.5490606427192688, 0.5384848713874817) (0.6478677988052368, 0.639775276184082) (0.7480444312095642, 0.7535125613212585) (0.8516833782196045, 0.8584762215614319) (0.9327378869056702, 0.9332343935966492)};\n",
      "        \\node[above, anchor=south west, rotate=60, font=\\tiny] at (axis cs:0.2816980481147766, 1.0) {534};\n",
      "        \\draw[dotted, color=black] (axis cs:0.2816980481147766, 0.25280898809432983) -- (axis cs:0.2816980481147766, 1.0);\n",
      "        \\node[above, anchor=south west, rotate=60, font=\\tiny] at (axis cs:0.36135587096214294, 1.0) {4121};\n",
      "        \\draw[dotted, color=black] (axis cs:0.36135587096214294, 0.3166707158088684) -- (axis cs:0.36135587096214294, 1.0);\n",
      "        \\node[above, anchor=south west, rotate=60, font=\\tiny] at (axis cs:0.46022388339042664, 1.0) {13556};\n",
      "        \\draw[dotted, color=black] (axis cs:0.46022388339042664, 0.4381085932254791) -- (axis cs:0.46022388339042664, 1.0);\n",
      "        \\node[above, anchor=south west, rotate=60, font=\\tiny] at (axis cs:0.5490606427192688, 1.0) {23061};\n",
      "        \\draw[dotted, color=black] (axis cs:0.5490606427192688, 0.5384848713874817) -- (axis cs:0.5490606427192688, 1.0);\n",
      "        \\node[above, anchor=south west, rotate=60, font=\\tiny] at (axis cs:0.6478677988052368, 1.0) {18866};\n",
      "        \\draw[dotted, color=black] (axis cs:0.6478677988052368, 0.639775276184082) -- (axis cs:0.6478677988052368, 1.0);\n",
      "        \\node[above, anchor=south west, rotate=60, font=\\tiny] at (axis cs:0.7480444312095642, 1.0) {14021};\n",
      "        \\draw[dotted, color=black] (axis cs:0.7480444312095642, 0.7535125613212585) -- (axis cs:0.7480444312095642, 1.0);\n",
      "        \\node[above, anchor=south west, rotate=60, font=\\tiny] at (axis cs:0.8516833782196045, 1.0) {15107};\n",
      "        \\draw[dotted, color=black] (axis cs:0.8516833782196045, 0.8584762215614319) -- (axis cs:0.8516833782196045, 1.0);\n",
      "        \\node[above, anchor=south west, rotate=60, font=\\tiny] at (axis cs:0.9327378869056702, 1.0) {10784};\n",
      "        \\draw[dotted, color=black] (axis cs:0.9327378869056702, 0.9332343935966492) -- (axis cs:0.9327378869056702, 1.0);\n",
      "    \\end{axis}\n",
      "\\end{tikzpicture}\n",
      "Including map\n",
      "sECE: -0.0655, ECE: 0.0655\n",
      "\\begin{tikzpicture}\n",
      "    \\begin{axis}[calstyle, xmin=0, xmax=1, ymin=0, ymax=1]\n",
      "        \\addplot[dashed, color=black] coordinates {(0,0) (1,1)};\n",
      "        \\addplot[calline] coordinates {(0.28280165791511536, 0.2427983582019806) (0.361442357301712, 0.2908242642879486) (0.4619762897491455, 0.400234192609787) (0.5499774217605591, 0.49523383378982544) (0.6496540307998657, 0.578156054019928) (0.7482754588127136, 0.6662048697471619) (0.853596568107605, 0.7755101919174194) (0.9445512294769288, 0.8933367729187012)};\n",
      "        \\node[above, anchor=south west, rotate=60, font=\\tiny] at (axis cs:0.28280165791511536, 1.0) {243};\n",
      "        \\draw[dotted, color=black] (axis cs:0.28280165791511536, 0.2427983582019806) -- (axis cs:0.28280165791511536, 1.0);\n",
      "        \\node[above, anchor=south west, rotate=60, font=\\tiny] at (axis cs:0.361442357301712, 1.0) {1929};\n",
      "        \\draw[dotted, color=black] (axis cs:0.361442357301712, 0.2908242642879486) -- (axis cs:0.361442357301712, 1.0);\n",
      "        \\node[above, anchor=south west, rotate=60, font=\\tiny] at (axis cs:0.4619762897491455, 1.0) {8540};\n",
      "        \\draw[dotted, color=black] (axis cs:0.4619762897491455, 0.400234192609787) -- (axis cs:0.4619762897491455, 1.0);\n",
      "        \\node[above, anchor=south west, rotate=60, font=\\tiny] at (axis cs:0.5499774217605591, 1.0) {17939};\n",
      "        \\draw[dotted, color=black] (axis cs:0.5499774217605591, 0.49523383378982544) -- (axis cs:0.5499774217605591, 1.0);\n",
      "        \\node[above, anchor=south west, rotate=60, font=\\tiny] at (axis cs:0.6496540307998657, 1.0) {17625};\n",
      "        \\draw[dotted, color=black] (axis cs:0.6496540307998657, 0.578156054019928) -- (axis cs:0.6496540307998657, 1.0);\n",
      "        \\node[above, anchor=south west, rotate=60, font=\\tiny] at (axis cs:0.7482754588127136, 1.0) {15159};\n",
      "        \\draw[dotted, color=black] (axis cs:0.7482754588127136, 0.6662048697471619) -- (axis cs:0.7482754588127136, 1.0);\n",
      "        \\node[above, anchor=south west, rotate=60, font=\\tiny] at (axis cs:0.853596568107605, 1.0) {15533};\n",
      "        \\draw[dotted, color=black] (axis cs:0.853596568107605, 0.7755101919174194) -- (axis cs:0.853596568107605, 1.0);\n",
      "        \\node[above, anchor=south west, rotate=60, font=\\tiny] at (axis cs:0.9445512294769288, 1.0) {23082};\n",
      "        \\draw[dotted, color=black] (axis cs:0.9445512294769288, 0.8933367729187012) -- (axis cs:0.9445512294769288, 1.0);\n",
      "    \\end{axis}\n",
      "\\end{tikzpicture}\n",
      "Including mcd\n",
      "sECE: -0.0407, ECE: 0.0407\n",
      "\\begin{tikzpicture}\n",
      "    \\begin{axis}[calstyle, xmin=0, xmax=1, ymin=0, ymax=1]\n",
      "        \\addplot[dashed, color=black] coordinates {(0,0) (1,1)};\n",
      "        \\addplot[calline] coordinates {(0.27876517176628113, 0.2424778789281845) (0.35922813415527344, 0.32732918858528137) (0.46138474345207214, 0.4182887375354767) (0.5492122173309326, 0.506931483745575) (0.6487162709236145, 0.5965449213981628) (0.7491582632064819, 0.6969300508499146) (0.8529744148254395, 0.8116236925125122) (0.9342291355133056, 0.9192935824394226)};\n",
      "        \\node[above, anchor=south west, rotate=60, font=\\tiny] at (axis cs:0.27876517176628113, 1.0) {565};\n",
      "        \\draw[dotted, color=black] (axis cs:0.27876517176628113, 0.2424778789281845) -- (axis cs:0.27876517176628113, 1.0);\n",
      "        \\node[above, anchor=south west, rotate=60, font=\\tiny] at (axis cs:0.35922813415527344, 1.0) {3220};\n",
      "        \\draw[dotted, color=black] (axis cs:0.35922813415527344, 0.32732918858528137) -- (axis cs:0.35922813415527344, 1.0);\n",
      "        \\node[above, anchor=south west, rotate=60, font=\\tiny] at (axis cs:0.46138474345207214, 1.0) {9864};\n",
      "        \\draw[dotted, color=black] (axis cs:0.46138474345207214, 0.4182887375354767) -- (axis cs:0.46138474345207214, 1.0);\n",
      "        \\node[above, anchor=south west, rotate=60, font=\\tiny] at (axis cs:0.5492122173309326, 1.0) {19332};\n",
      "        \\draw[dotted, color=black] (axis cs:0.5492122173309326, 0.506931483745575) -- (axis cs:0.5492122173309326, 1.0);\n",
      "        \\node[above, anchor=south west, rotate=60, font=\\tiny] at (axis cs:0.6487162709236145, 1.0) {17308};\n",
      "        \\draw[dotted, color=black] (axis cs:0.6487162709236145, 0.5965449213981628) -- (axis cs:0.6487162709236145, 1.0);\n",
      "        \\node[above, anchor=south west, rotate=60, font=\\tiny] at (axis cs:0.7491582632064819, 1.0) {15277};\n",
      "        \\draw[dotted, color=black] (axis cs:0.7491582632064819, 0.6969300508499146) -- (axis cs:0.7491582632064819, 1.0);\n",
      "        \\node[above, anchor=south west, rotate=60, font=\\tiny] at (axis cs:0.8529744148254395, 1.0) {18686};\n",
      "        \\draw[dotted, color=black] (axis cs:0.8529744148254395, 0.8116236925125122) -- (axis cs:0.8529744148254395, 1.0);\n",
      "        \\node[above, anchor=south west, rotate=60, font=\\tiny] at (axis cs:0.9342291355133056, 1.0) {15798};\n",
      "        \\draw[dotted, color=black] (axis cs:0.9342291355133056, 0.9192935824394226) -- (axis cs:0.9342291355133056, 1.0);\n",
      "    \\end{axis}\n",
      "\\end{tikzpicture}\n",
      "Including map\n",
      "sECE: -0.0760, ECE: 0.0760\n",
      "\\begin{tikzpicture}\n",
      "    \\begin{axis}[calstyle, xmin=0, xmax=1, ymin=0, ymax=1]\n",
      "        \\addplot[dashed, color=black] coordinates {(0,0) (1,1)};\n",
      "        \\addplot[calline] coordinates {(0.285421758890152, 0.2456140369176865) (0.3589269518852234, 0.2864674925804138) (0.46426066756248474, 0.3994106650352478) (0.5498778820037842, 0.49294090270996094) (0.6503083109855652, 0.5643854737281799) (0.748367190361023, 0.6482024192810059) (0.8541398048400879, 0.7641205787658691) (0.9438021183013916, 0.883088231086731)};\n",
      "        \\node[above, anchor=south west, rotate=60, font=\\tiny] at (axis cs:0.285421758890152, 1.0) {171};\n",
      "        \\draw[dotted, color=black] (axis cs:0.285421758890152, 0.2456140369176865) -- (axis cs:0.285421758890152, 1.0);\n",
      "        \\node[above, anchor=south west, rotate=60, font=\\tiny] at (axis cs:0.3589269518852234, 1.0) {1707};\n",
      "        \\draw[dotted, color=black] (axis cs:0.3589269518852234, 0.2864674925804138) -- (axis cs:0.3589269518852234, 1.0);\n",
      "        \\node[above, anchor=south west, rotate=60, font=\\tiny] at (axis cs:0.46426066756248474, 1.0) {7466};\n",
      "        \\draw[dotted, color=black] (axis cs:0.46426066756248474, 0.3994106650352478) -- (axis cs:0.46426066756248474, 1.0);\n",
      "        \\node[above, anchor=south west, rotate=60, font=\\tiny] at (axis cs:0.5498778820037842, 1.0) {16716};\n",
      "        \\draw[dotted, color=black] (axis cs:0.5498778820037842, 0.49294090270996094) -- (axis cs:0.5498778820037842, 1.0);\n",
      "        \\node[above, anchor=south west, rotate=60, font=\\tiny] at (axis cs:0.6503083109855652, 1.0) {17038};\n",
      "        \\draw[dotted, color=black] (axis cs:0.6503083109855652, 0.5643854737281799) -- (axis cs:0.6503083109855652, 1.0);\n",
      "        \\node[above, anchor=south west, rotate=60, font=\\tiny] at (axis cs:0.748367190361023, 1.0) {15688};\n",
      "        \\draw[dotted, color=black] (axis cs:0.748367190361023, 0.6482024192810059) -- (axis cs:0.748367190361023, 1.0);\n",
      "        \\node[above, anchor=south west, rotate=60, font=\\tiny] at (axis cs:0.8541398048400879, 1.0) {16784};\n",
      "        \\draw[dotted, color=black] (axis cs:0.8541398048400879, 0.7641205787658691) -- (axis cs:0.8541398048400879, 1.0);\n",
      "        \\node[above, anchor=south west, rotate=60, font=\\tiny] at (axis cs:0.9438021183013916, 1.0) {24480};\n",
      "        \\draw[dotted, color=black] (axis cs:0.9438021183013916, 0.883088231086731) -- (axis cs:0.9438021183013916, 1.0);\n",
      "    \\end{axis}\n",
      "\\end{tikzpicture}\n",
      "Including map\n",
      "sECE: -0.0666, ECE: 0.0666\n",
      "\\begin{tikzpicture}\n",
      "    \\begin{axis}[calstyle, xmin=0, xmax=1, ymin=0, ymax=1]\n",
      "        \\addplot[dashed, color=black] coordinates {(0,0) (1,1)};\n",
      "        \\addplot[calline] coordinates {(0.2835399806499481, 0.2705882489681244) (0.3592299520969391, 0.26807016134262085) (0.4648221731185913, 0.3938608467578888) (0.5499492883682251, 0.49012526869773865) (0.6505439281463623, 0.5660208463668823) (0.749047577381134, 0.6643427610397339) (0.850989580154419, 0.793504536151886) (0.9432001709938048, 0.9006214141845703)};\n",
      "        \\node[above, anchor=south west, rotate=60, font=\\tiny] at (axis cs:0.2835399806499481, 1.0) {170};\n",
      "        \\draw[dotted, color=black] (axis cs:0.2835399806499481, 0.2705882489681244) -- (axis cs:0.2835399806499481, 1.0);\n",
      "        \\node[above, anchor=south west, rotate=60, font=\\tiny] at (axis cs:0.3592299520969391, 1.0) {1425};\n",
      "        \\draw[dotted, color=black] (axis cs:0.3592299520969391, 0.26807016134262085) -- (axis cs:0.3592299520969391, 1.0);\n",
      "        \\node[above, anchor=south west, rotate=60, font=\\tiny] at (axis cs:0.4648221731185913, 1.0) {7330};\n",
      "        \\draw[dotted, color=black] (axis cs:0.4648221731185913, 0.3938608467578888) -- (axis cs:0.4648221731185913, 1.0);\n",
      "        \\node[above, anchor=south west, rotate=60, font=\\tiny] at (axis cs:0.5499492883682251, 1.0) {18279};\n",
      "        \\draw[dotted, color=black] (axis cs:0.5499492883682251, 0.49012526869773865) -- (axis cs:0.5499492883682251, 1.0);\n",
      "        \\node[above, anchor=south west, rotate=60, font=\\tiny] at (axis cs:0.6505439281463623, 1.0) {18994};\n",
      "        \\draw[dotted, color=black] (axis cs:0.6505439281463623, 0.5660208463668823) -- (axis cs:0.6505439281463623, 1.0);\n",
      "        \\node[above, anchor=south west, rotate=60, font=\\tiny] at (axis cs:0.749047577381134, 1.0) {18647};\n",
      "        \\draw[dotted, color=black] (axis cs:0.749047577381134, 0.6643427610397339) -- (axis cs:0.749047577381134, 1.0);\n",
      "        \\node[above, anchor=south west, rotate=60, font=\\tiny] at (axis cs:0.850989580154419, 1.0) {15734};\n",
      "        \\draw[dotted, color=black] (axis cs:0.850989580154419, 0.793504536151886) -- (axis cs:0.850989580154419, 1.0);\n",
      "        \\node[above, anchor=south west, rotate=60, font=\\tiny] at (axis cs:0.9432001709938048, 1.0) {19471};\n",
      "        \\draw[dotted, color=black] (axis cs:0.9432001709938048, 0.9006214141845703) -- (axis cs:0.9432001709938048, 1.0);\n",
      "    \\end{axis}\n",
      "\\end{tikzpicture}\n",
      "Including map\n",
      "sECE: -0.0605, ECE: 0.0606\n",
      "\\begin{tikzpicture}\n",
      "    \\begin{axis}[calstyle, xmin=0, xmax=1, ymin=0, ymax=1]\n",
      "        \\addplot[dashed, color=black] coordinates {(0,0) (1,1)};\n",
      "        \\addplot[calline] coordinates {(0.2848915159702301, 0.323383092880249) (0.3591429591178894, 0.31734102964401245) (0.46454766392707825, 0.40037837624549866) (0.5494913458824158, 0.4910719096660614) (0.6499518156051636, 0.5649555921554565) (0.7484064102172852, 0.6716641783714294) (0.8508290648460388, 0.8073804378509521) (0.9440304040908812, 0.909875512123108)};\n",
      "        \\node[above, anchor=south west, rotate=60, font=\\tiny] at (axis cs:0.2848915159702301, 1.0) {201};\n",
      "        \\draw[dotted, color=black] (axis cs:0.2848915159702301, 0.323383092880249) -- (axis cs:0.2848915159702301, 1.0);\n",
      "        \\node[above, anchor=south west, rotate=60, font=\\tiny] at (axis cs:0.3591429591178894, 1.0) {1730};\n",
      "        \\draw[dotted, color=black] (axis cs:0.3591429591178894, 0.31734102964401245) -- (axis cs:0.3591429591178894, 1.0);\n",
      "        \\node[above, anchor=south west, rotate=60, font=\\tiny] at (axis cs:0.46454766392707825, 1.0) {8457};\n",
      "        \\draw[dotted, color=black] (axis cs:0.46454766392707825, 0.40037837624549866) -- (axis cs:0.46454766392707825, 1.0);\n",
      "        \\node[above, anchor=south west, rotate=60, font=\\tiny] at (axis cs:0.5494913458824158, 1.0) {18761};\n",
      "        \\draw[dotted, color=black] (axis cs:0.5494913458824158, 0.4910719096660614) -- (axis cs:0.5494913458824158, 1.0);\n",
      "        \\node[above, anchor=south west, rotate=60, font=\\tiny] at (axis cs:0.6499518156051636, 1.0) {19598};\n",
      "        \\draw[dotted, color=black] (axis cs:0.6499518156051636, 0.5649555921554565) -- (axis cs:0.6499518156051636, 1.0);\n",
      "        \\node[above, anchor=south west, rotate=60, font=\\tiny] at (axis cs:0.7484064102172852, 1.0) {18676};\n",
      "        \\draw[dotted, color=black] (axis cs:0.7484064102172852, 0.6716641783714294) -- (axis cs:0.7484064102172852, 1.0);\n",
      "        \\node[above, anchor=south west, rotate=60, font=\\tiny] at (axis cs:0.8508290648460388, 1.0) {14552};\n",
      "        \\draw[dotted, color=black] (axis cs:0.8508290648460388, 0.8073804378509521) -- (axis cs:0.8508290648460388, 1.0);\n",
      "        \\node[above, anchor=south west, rotate=60, font=\\tiny] at (axis cs:0.9440304040908812, 1.0) {18075};\n",
      "        \\draw[dotted, color=black] (axis cs:0.9440304040908812, 0.909875512123108) -- (axis cs:0.9440304040908812, 1.0);\n",
      "    \\end{axis}\n",
      "\\end{tikzpicture}\n",
      "Including map\n",
      "sECE: -0.0584, ECE: 0.0584\n",
      "\\begin{tikzpicture}\n",
      "    \\begin{axis}[calstyle, xmin=0, xmax=1, ymin=0, ymax=1]\n",
      "        \\addplot[dashed, color=black] coordinates {(0,0) (1,1)};\n",
      "        \\addplot[calline] coordinates {(0.28222015500068665, 0.2369668185710907) (0.3616262674331665, 0.29335683584213257) (0.46315687894821167, 0.3969300985336304) (0.5504395961761475, 0.4918787479400635) (0.6505023837089539, 0.5748797059059143) (0.7480763792991638, 0.6733115315437317) (0.8513283133506775, 0.8105126619338989) (0.9411383271217346, 0.9086052179336548)};\n",
      "        \\node[above, anchor=south west, rotate=60, font=\\tiny] at (axis cs:0.28222015500068665, 1.0) {211};\n",
      "        \\draw[dotted, color=black] (axis cs:0.28222015500068665, 0.2369668185710907) -- (axis cs:0.28222015500068665, 1.0);\n",
      "        \\node[above, anchor=south west, rotate=60, font=\\tiny] at (axis cs:0.3616262674331665, 1.0) {1701};\n",
      "        \\draw[dotted, color=black] (axis cs:0.3616262674331665, 0.29335683584213257) -- (axis cs:0.3616262674331665, 1.0);\n",
      "        \\node[above, anchor=south west, rotate=60, font=\\tiny] at (axis cs:0.46315687894821167, 1.0) {7883};\n",
      "        \\draw[dotted, color=black] (axis cs:0.46315687894821167, 0.3969300985336304) -- (axis cs:0.46315687894821167, 1.0);\n",
      "        \\node[above, anchor=south west, rotate=60, font=\\tiny] at (axis cs:0.5504395961761475, 1.0) {19332};\n",
      "        \\draw[dotted, color=black] (axis cs:0.5504395961761475, 0.4918787479400635) -- (axis cs:0.5504395961761475, 1.0);\n",
      "        \\node[above, anchor=south west, rotate=60, font=\\tiny] at (axis cs:0.6505023837089539, 1.0) {19745};\n",
      "        \\draw[dotted, color=black] (axis cs:0.6505023837089539, 0.5748797059059143) -- (axis cs:0.6505023837089539, 1.0);\n",
      "        \\node[above, anchor=south west, rotate=60, font=\\tiny] at (axis cs:0.7480763792991638, 1.0) {18360};\n",
      "        \\draw[dotted, color=black] (axis cs:0.7480763792991638, 0.6733115315437317) -- (axis cs:0.7480763792991638, 1.0);\n",
      "        \\node[above, anchor=south west, rotate=60, font=\\tiny] at (axis cs:0.8513283133506775, 1.0) {15410};\n",
      "        \\draw[dotted, color=black] (axis cs:0.8513283133506775, 0.8105126619338989) -- (axis cs:0.8513283133506775, 1.0);\n",
      "        \\node[above, anchor=south west, rotate=60, font=\\tiny] at (axis cs:0.9411383271217346, 1.0) {17408};\n",
      "        \\draw[dotted, color=black] (axis cs:0.9411383271217346, 0.9086052179336548) -- (axis cs:0.9411383271217346, 1.0);\n",
      "    \\end{axis}\n",
      "\\end{tikzpicture}\n",
      "Including map\n",
      "sECE: -0.0779, ECE: 0.0779\n",
      "\\begin{tikzpicture}\n",
      "    \\begin{axis}[calstyle, xmin=0, xmax=1, ymin=0, ymax=1]\n",
      "        \\addplot[dashed, color=black] coordinates {(0,0) (1,1)};\n",
      "        \\addplot[calline] coordinates {(0.2803933322429657, 0.21645021438598633) (0.3578197658061981, 0.29669588804244995) (0.4629770815372467, 0.37769266963005066) (0.5501916408538818, 0.4890865385532379) (0.6506434082984924, 0.5565217137336731) (0.7492760419845581, 0.6450695991516113) (0.8527774810791016, 0.7669453024864197) (0.9435842037200928, 0.8921987414360046)};\n",
      "        \\node[above, anchor=south west, rotate=60, font=\\tiny] at (axis cs:0.2803933322429657, 1.0) {231};\n",
      "        \\draw[dotted, color=black] (axis cs:0.2803933322429657, 0.21645021438598633) -- (axis cs:0.2803933322429657, 1.0);\n",
      "        \\node[above, anchor=south west, rotate=60, font=\\tiny] at (axis cs:0.3578197658061981, 1.0) {1483};\n",
      "        \\draw[dotted, color=black] (axis cs:0.3578197658061981, 0.29669588804244995) -- (axis cs:0.3578197658061981, 1.0);\n",
      "        \\node[above, anchor=south west, rotate=60, font=\\tiny] at (axis cs:0.4629770815372467, 1.0) {6267};\n",
      "        \\draw[dotted, color=black] (axis cs:0.4629770815372467, 0.37769266963005066) -- (axis cs:0.4629770815372467, 1.0);\n",
      "        \\node[above, anchor=south west, rotate=60, font=\\tiny] at (axis cs:0.5501916408538818, 1.0) {17089};\n",
      "        \\draw[dotted, color=black] (axis cs:0.5501916408538818, 0.4890865385532379) -- (axis cs:0.5501916408538818, 1.0);\n",
      "        \\node[above, anchor=south west, rotate=60, font=\\tiny] at (axis cs:0.6506434082984924, 1.0) {17595};\n",
      "        \\draw[dotted, color=black] (axis cs:0.6506434082984924, 0.5565217137336731) -- (axis cs:0.6506434082984924, 1.0);\n",
      "        \\node[above, anchor=south west, rotate=60, font=\\tiny] at (axis cs:0.7492760419845581, 1.0) {17595};\n",
      "        \\draw[dotted, color=black] (axis cs:0.7492760419845581, 0.6450695991516113) -- (axis cs:0.7492760419845581, 1.0);\n",
      "        \\node[above, anchor=south west, rotate=60, font=\\tiny] at (axis cs:0.8527774810791016, 1.0) {16627};\n",
      "        \\draw[dotted, color=black] (axis cs:0.8527774810791016, 0.7669453024864197) -- (axis cs:0.8527774810791016, 1.0);\n",
      "        \\node[above, anchor=south west, rotate=60, font=\\tiny] at (axis cs:0.9435842037200928, 1.0) {23163};\n",
      "        \\draw[dotted, color=black] (axis cs:0.9435842037200928, 0.8921987414360046) -- (axis cs:0.9435842037200928, 1.0);\n",
      "    \\end{axis}\n",
      "\\end{tikzpicture}\n",
      "Skipping run map-0 because it is older than the cutoff time\n",
      "Skipping run map_5-(0) because it is older than the cutoff time\n",
      "Skipping run map-0 because it is older than the cutoff time\n",
      "Skipping run bbb-3 because it is older than the cutoff time\n",
      "Skipping run bbb-2 because it is older than the cutoff time\n",
      "Skipping run bbb-1 because it is older than the cutoff time\n",
      "Skipping run bbb-4 because it is older than the cutoff time\n",
      "Skipping run bbb-5 because it is older than the cutoff time\n",
      "Skipping run bbb-0 because it is older than the cutoff time\n",
      "Skipping run swag-5 because it is older than the cutoff time\n",
      "Skipping run swag-2 because it is older than the cutoff time\n",
      "Skipping run map-1 because it is older than the cutoff time\n",
      "Skipping run map-0 because it is older than the cutoff time\n",
      "Skipping run mcd-1 because it is older than the cutoff time\n",
      "Skipping run map-4 because it is older than the cutoff time\n",
      "Skipping run mcd-3 because it is older than the cutoff time\n",
      "Skipping run swag-1 because it is older than the cutoff time\n",
      "Skipping run map-2 because it is older than the cutoff time\n",
      "Skipping run mcd-2 because it is older than the cutoff time\n",
      "Skipping run mcd-5 because it is older than the cutoff time\n",
      "Skipping run swag-0 because it is older than the cutoff time\n",
      "Skipping run mcd-4 because it is older than the cutoff time\n",
      "Skipping run swag-3 because it is older than the cutoff time\n",
      "Skipping run map-3 because it is older than the cutoff time\n",
      "Skipping run map-5 because it is older than the cutoff time\n",
      "Skipping run mcd-0 because it is older than the cutoff time\n",
      "Skipping run swag-4 because it is older than the cutoff time\n",
      "Skipping run map-0 because it is older than the cutoff time\n"
     ]
    }
   ],
   "source": [
    "data = aggregate_data(build_data(runs))"
   ]
  },
  {
   "cell_type": "code",
   "execution_count": 7,
   "metadata": {},
   "outputs": [
    {
     "data": {
      "text/html": [
       "<div>\n",
       "<style scoped>\n",
       "    .dataframe tbody tr th:only-of-type {\n",
       "        vertical-align: middle;\n",
       "    }\n",
       "\n",
       "    .dataframe tbody tr th {\n",
       "        vertical-align: top;\n",
       "    }\n",
       "\n",
       "    .dataframe thead th {\n",
       "        text-align: right;\n",
       "    }\n",
       "</style>\n",
       "<table border=\"1\" class=\"dataframe\">\n",
       "  <thead>\n",
       "    <tr style=\"text-align: right;\">\n",
       "      <th></th>\n",
       "      <th>model</th>\n",
       "      <th>ood 10th_percentile_acc</th>\n",
       "      <th>ood 10th_percentile_acc_std</th>\n",
       "      <th>ood accuracy</th>\n",
       "      <th>ood accuracy_std</th>\n",
       "      <th>ood log likelihood</th>\n",
       "      <th>ood log likelihood_std</th>\n",
       "      <th>ood sece</th>\n",
       "      <th>ood sece_std</th>\n",
       "      <th>ood ece</th>\n",
       "      <th>...</th>\n",
       "      <th>id 10th_percentile_acc</th>\n",
       "      <th>id 10th_percentile_acc_std</th>\n",
       "      <th>id accuracy</th>\n",
       "      <th>id accuracy_std</th>\n",
       "      <th>id log likelihood</th>\n",
       "      <th>id log likelihood_std</th>\n",
       "      <th>id sece</th>\n",
       "      <th>id sece_std</th>\n",
       "      <th>id ece</th>\n",
       "      <th>id ece_std</th>\n",
       "    </tr>\n",
       "    <tr>\n",
       "      <th>model</th>\n",
       "      <th></th>\n",
       "      <th></th>\n",
       "      <th></th>\n",
       "      <th></th>\n",
       "      <th></th>\n",
       "      <th></th>\n",
       "      <th></th>\n",
       "      <th></th>\n",
       "      <th></th>\n",
       "      <th></th>\n",
       "      <th></th>\n",
       "      <th></th>\n",
       "      <th></th>\n",
       "      <th></th>\n",
       "      <th></th>\n",
       "      <th></th>\n",
       "      <th></th>\n",
       "      <th></th>\n",
       "      <th></th>\n",
       "      <th></th>\n",
       "      <th></th>\n",
       "    </tr>\n",
       "  </thead>\n",
       "  <tbody>\n",
       "    <tr>\n",
       "      <th>bbb</th>\n",
       "      <td>bbb</td>\n",
       "      <td>0.526667</td>\n",
       "      <td>0.005963</td>\n",
       "      <td>0.695284</td>\n",
       "      <td>0.007430</td>\n",
       "      <td>-0.897627</td>\n",
       "      <td>0.018957</td>\n",
       "      <td>-0.154253</td>\n",
       "      <td>0.005337</td>\n",
       "      <td>0.154268</td>\n",
       "      <td>...</td>\n",
       "      <td>0.560000</td>\n",
       "      <td>0.000000</td>\n",
       "      <td>0.730401</td>\n",
       "      <td>0.006394</td>\n",
       "      <td>-0.778404</td>\n",
       "      <td>0.014730</td>\n",
       "      <td>-0.127717</td>\n",
       "      <td>0.003822</td>\n",
       "      <td>0.127719</td>\n",
       "      <td>0.003823</td>\n",
       "    </tr>\n",
       "    <tr>\n",
       "      <th>bbb_5</th>\n",
       "      <td>bbb_5</td>\n",
       "      <td>0.533333</td>\n",
       "      <td>0.000000</td>\n",
       "      <td>0.709237</td>\n",
       "      <td>0.001719</td>\n",
       "      <td>-0.747748</td>\n",
       "      <td>0.001311</td>\n",
       "      <td>-0.105061</td>\n",
       "      <td>0.001206</td>\n",
       "      <td>0.105078</td>\n",
       "      <td>...</td>\n",
       "      <td>0.573333</td>\n",
       "      <td>0.000000</td>\n",
       "      <td>0.746454</td>\n",
       "      <td>0.001248</td>\n",
       "      <td>-0.647611</td>\n",
       "      <td>0.001506</td>\n",
       "      <td>-0.078813</td>\n",
       "      <td>0.001608</td>\n",
       "      <td>0.078843</td>\n",
       "      <td>0.001599</td>\n",
       "    </tr>\n",
       "    <tr>\n",
       "      <th>laplace_1</th>\n",
       "      <td>laplace_1</td>\n",
       "      <td>0.455000</td>\n",
       "      <td>0.009344</td>\n",
       "      <td>0.653856</td>\n",
       "      <td>0.002768</td>\n",
       "      <td>-0.816272</td>\n",
       "      <td>0.006181</td>\n",
       "      <td>-0.067162</td>\n",
       "      <td>0.006139</td>\n",
       "      <td>0.067172</td>\n",
       "      <td>...</td>\n",
       "      <td>0.481667</td>\n",
       "      <td>0.009344</td>\n",
       "      <td>0.677654</td>\n",
       "      <td>0.001722</td>\n",
       "      <td>-0.756493</td>\n",
       "      <td>0.004184</td>\n",
       "      <td>-0.048184</td>\n",
       "      <td>0.006952</td>\n",
       "      <td>0.048225</td>\n",
       "      <td>0.006972</td>\n",
       "    </tr>\n",
       "    <tr>\n",
       "      <th>laplace_5</th>\n",
       "      <td>laplace_5</td>\n",
       "      <td>0.453333</td>\n",
       "      <td>0.000000</td>\n",
       "      <td>0.658836</td>\n",
       "      <td>0.000594</td>\n",
       "      <td>-0.800253</td>\n",
       "      <td>0.001207</td>\n",
       "      <td>-0.058317</td>\n",
       "      <td>0.001397</td>\n",
       "      <td>0.058317</td>\n",
       "      <td>...</td>\n",
       "      <td>0.480000</td>\n",
       "      <td>0.000000</td>\n",
       "      <td>0.681944</td>\n",
       "      <td>0.000324</td>\n",
       "      <td>-0.741925</td>\n",
       "      <td>0.000799</td>\n",
       "      <td>-0.040416</td>\n",
       "      <td>0.001691</td>\n",
       "      <td>0.040422</td>\n",
       "      <td>0.001695</td>\n",
       "    </tr>\n",
       "    <tr>\n",
       "      <th>ll_ivon</th>\n",
       "      <td>ll_ivon</td>\n",
       "      <td>0.458444</td>\n",
       "      <td>0.010452</td>\n",
       "      <td>0.661316</td>\n",
       "      <td>0.002213</td>\n",
       "      <td>-0.793888</td>\n",
       "      <td>0.008097</td>\n",
       "      <td>-0.053443</td>\n",
       "      <td>0.010477</td>\n",
       "      <td>0.053455</td>\n",
       "      <td>...</td>\n",
       "      <td>0.484444</td>\n",
       "      <td>0.008889</td>\n",
       "      <td>0.683862</td>\n",
       "      <td>0.002238</td>\n",
       "      <td>-0.736763</td>\n",
       "      <td>0.005636</td>\n",
       "      <td>-0.037241</td>\n",
       "      <td>0.010398</td>\n",
       "      <td>0.037436</td>\n",
       "      <td>0.010355</td>\n",
       "    </tr>\n",
       "    <tr>\n",
       "      <th>ll_ivon_5</th>\n",
       "      <td>ll_ivon_5</td>\n",
       "      <td>0.458667</td>\n",
       "      <td>0.006532</td>\n",
       "      <td>0.664740</td>\n",
       "      <td>0.000736</td>\n",
       "      <td>-0.779269</td>\n",
       "      <td>0.001075</td>\n",
       "      <td>-0.044756</td>\n",
       "      <td>0.002133</td>\n",
       "      <td>0.044756</td>\n",
       "      <td>...</td>\n",
       "      <td>0.484000</td>\n",
       "      <td>0.005333</td>\n",
       "      <td>0.687353</td>\n",
       "      <td>0.000992</td>\n",
       "      <td>-0.723780</td>\n",
       "      <td>0.000549</td>\n",
       "      <td>-0.028628</td>\n",
       "      <td>0.002169</td>\n",
       "      <td>0.029258</td>\n",
       "      <td>0.002528</td>\n",
       "    </tr>\n",
       "    <tr>\n",
       "      <th>ll_swag</th>\n",
       "      <td>ll_swag</td>\n",
       "      <td>0.451778</td>\n",
       "      <td>0.011734</td>\n",
       "      <td>0.655690</td>\n",
       "      <td>0.002916</td>\n",
       "      <td>-0.801564</td>\n",
       "      <td>0.006417</td>\n",
       "      <td>-0.047702</td>\n",
       "      <td>0.008718</td>\n",
       "      <td>0.047731</td>\n",
       "      <td>...</td>\n",
       "      <td>0.474444</td>\n",
       "      <td>0.009988</td>\n",
       "      <td>0.678619</td>\n",
       "      <td>0.001914</td>\n",
       "      <td>-0.746732</td>\n",
       "      <td>0.004581</td>\n",
       "      <td>-0.029870</td>\n",
       "      <td>0.009171</td>\n",
       "      <td>0.031185</td>\n",
       "      <td>0.008184</td>\n",
       "    </tr>\n",
       "    <tr>\n",
       "      <th>map</th>\n",
       "      <td>map</td>\n",
       "      <td>0.453333</td>\n",
       "      <td>0.009737</td>\n",
       "      <td>0.655169</td>\n",
       "      <td>0.003163</td>\n",
       "      <td>-0.814966</td>\n",
       "      <td>0.007054</td>\n",
       "      <td>-0.067469</td>\n",
       "      <td>0.006492</td>\n",
       "      <td>0.067495</td>\n",
       "      <td>...</td>\n",
       "      <td>0.476667</td>\n",
       "      <td>0.008255</td>\n",
       "      <td>0.678346</td>\n",
       "      <td>0.001974</td>\n",
       "      <td>-0.755257</td>\n",
       "      <td>0.005475</td>\n",
       "      <td>-0.049262</td>\n",
       "      <td>0.007244</td>\n",
       "      <td>0.049316</td>\n",
       "      <td>0.007245</td>\n",
       "    </tr>\n",
       "    <tr>\n",
       "      <th>map_5</th>\n",
       "      <td>map_5</td>\n",
       "      <td>0.453333</td>\n",
       "      <td>0.000000</td>\n",
       "      <td>0.658803</td>\n",
       "      <td>0.000723</td>\n",
       "      <td>-0.800404</td>\n",
       "      <td>0.001484</td>\n",
       "      <td>-0.058439</td>\n",
       "      <td>0.001605</td>\n",
       "      <td>0.058439</td>\n",
       "      <td>...</td>\n",
       "      <td>0.480000</td>\n",
       "      <td>0.000000</td>\n",
       "      <td>0.682126</td>\n",
       "      <td>0.000439</td>\n",
       "      <td>-0.741926</td>\n",
       "      <td>0.001058</td>\n",
       "      <td>-0.040308</td>\n",
       "      <td>0.001994</td>\n",
       "      <td>0.040308</td>\n",
       "      <td>0.001994</td>\n",
       "    </tr>\n",
       "    <tr>\n",
       "      <th>mcd</th>\n",
       "      <td>mcd</td>\n",
       "      <td>0.446667</td>\n",
       "      <td>0.013333</td>\n",
       "      <td>0.656633</td>\n",
       "      <td>0.002001</td>\n",
       "      <td>-0.788582</td>\n",
       "      <td>0.003969</td>\n",
       "      <td>-0.019232</td>\n",
       "      <td>0.012343</td>\n",
       "      <td>0.020422</td>\n",
       "      <td>...</td>\n",
       "      <td>0.472222</td>\n",
       "      <td>0.012131</td>\n",
       "      <td>0.678289</td>\n",
       "      <td>0.001208</td>\n",
       "      <td>-0.740641</td>\n",
       "      <td>0.002757</td>\n",
       "      <td>-0.002382</td>\n",
       "      <td>0.013184</td>\n",
       "      <td>0.014871</td>\n",
       "      <td>0.006280</td>\n",
       "    </tr>\n",
       "    <tr>\n",
       "      <th>mcd_5</th>\n",
       "      <td>mcd_5</td>\n",
       "      <td>0.450667</td>\n",
       "      <td>0.005333</td>\n",
       "      <td>0.660276</td>\n",
       "      <td>0.000643</td>\n",
       "      <td>-0.779840</td>\n",
       "      <td>0.000506</td>\n",
       "      <td>-0.011671</td>\n",
       "      <td>0.002732</td>\n",
       "      <td>0.011671</td>\n",
       "      <td>...</td>\n",
       "      <td>0.474667</td>\n",
       "      <td>0.006532</td>\n",
       "      <td>0.682075</td>\n",
       "      <td>0.000457</td>\n",
       "      <td>-0.732513</td>\n",
       "      <td>0.000500</td>\n",
       "      <td>0.005164</td>\n",
       "      <td>0.003287</td>\n",
       "      <td>0.006730</td>\n",
       "      <td>0.002343</td>\n",
       "    </tr>\n",
       "    <tr>\n",
       "      <th>mcd_ll</th>\n",
       "      <td>mcd_ll</td>\n",
       "      <td>0.451111</td>\n",
       "      <td>0.008195</td>\n",
       "      <td>0.656035</td>\n",
       "      <td>0.002874</td>\n",
       "      <td>-0.816185</td>\n",
       "      <td>0.011163</td>\n",
       "      <td>-0.069109</td>\n",
       "      <td>0.008458</td>\n",
       "      <td>0.069109</td>\n",
       "      <td>...</td>\n",
       "      <td>0.477778</td>\n",
       "      <td>0.010704</td>\n",
       "      <td>0.678598</td>\n",
       "      <td>0.002242</td>\n",
       "      <td>-0.756239</td>\n",
       "      <td>0.008859</td>\n",
       "      <td>-0.051306</td>\n",
       "      <td>0.009000</td>\n",
       "      <td>0.051342</td>\n",
       "      <td>0.009055</td>\n",
       "    </tr>\n",
       "    <tr>\n",
       "      <th>rank1</th>\n",
       "      <td>rank1</td>\n",
       "      <td>0.527333</td>\n",
       "      <td>0.005497</td>\n",
       "      <td>0.695152</td>\n",
       "      <td>0.002530</td>\n",
       "      <td>-0.922821</td>\n",
       "      <td>0.015020</td>\n",
       "      <td>-0.173005</td>\n",
       "      <td>0.004350</td>\n",
       "      <td>0.173010</td>\n",
       "      <td>...</td>\n",
       "      <td>0.557778</td>\n",
       "      <td>0.004444</td>\n",
       "      <td>0.728857</td>\n",
       "      <td>0.003210</td>\n",
       "      <td>-0.800650</td>\n",
       "      <td>0.009632</td>\n",
       "      <td>-0.147267</td>\n",
       "      <td>0.003639</td>\n",
       "      <td>0.147267</td>\n",
       "      <td>0.003639</td>\n",
       "    </tr>\n",
       "    <tr>\n",
       "      <th>svgd</th>\n",
       "      <td>svgd</td>\n",
       "      <td>0.456000</td>\n",
       "      <td>0.009978</td>\n",
       "      <td>0.661351</td>\n",
       "      <td>0.002788</td>\n",
       "      <td>-0.792610</td>\n",
       "      <td>0.011076</td>\n",
       "      <td>-0.049391</td>\n",
       "      <td>0.004866</td>\n",
       "      <td>0.049391</td>\n",
       "      <td>...</td>\n",
       "      <td>0.477333</td>\n",
       "      <td>0.009978</td>\n",
       "      <td>0.681772</td>\n",
       "      <td>0.002257</td>\n",
       "      <td>-0.739563</td>\n",
       "      <td>0.008227</td>\n",
       "      <td>-0.034301</td>\n",
       "      <td>0.005000</td>\n",
       "      <td>0.034529</td>\n",
       "      <td>0.005144</td>\n",
       "    </tr>\n",
       "    <tr>\n",
       "      <th>swag</th>\n",
       "      <td>swag</td>\n",
       "      <td>0.435556</td>\n",
       "      <td>0.011244</td>\n",
       "      <td>0.638832</td>\n",
       "      <td>0.006322</td>\n",
       "      <td>-0.840478</td>\n",
       "      <td>0.014007</td>\n",
       "      <td>0.031195</td>\n",
       "      <td>0.003524</td>\n",
       "      <td>0.031723</td>\n",
       "      <td>...</td>\n",
       "      <td>0.460000</td>\n",
       "      <td>0.009737</td>\n",
       "      <td>0.657742</td>\n",
       "      <td>0.006482</td>\n",
       "      <td>-0.806643</td>\n",
       "      <td>0.015010</td>\n",
       "      <td>0.046828</td>\n",
       "      <td>0.003703</td>\n",
       "      <td>0.047022</td>\n",
       "      <td>0.003762</td>\n",
       "    </tr>\n",
       "    <tr>\n",
       "      <th>swag_5</th>\n",
       "      <td>swag_5</td>\n",
       "      <td>0.442667</td>\n",
       "      <td>0.005333</td>\n",
       "      <td>0.646319</td>\n",
       "      <td>0.001469</td>\n",
       "      <td>-0.827720</td>\n",
       "      <td>0.002232</td>\n",
       "      <td>0.039765</td>\n",
       "      <td>0.001047</td>\n",
       "      <td>0.039922</td>\n",
       "      <td>...</td>\n",
       "      <td>0.469333</td>\n",
       "      <td>0.005333</td>\n",
       "      <td>0.666586</td>\n",
       "      <td>0.001217</td>\n",
       "      <td>-0.795502</td>\n",
       "      <td>0.002891</td>\n",
       "      <td>0.056509</td>\n",
       "      <td>0.000677</td>\n",
       "      <td>0.056613</td>\n",
       "      <td>0.000776</td>\n",
       "    </tr>\n",
       "  </tbody>\n",
       "</table>\n",
       "<p>16 rows × 21 columns</p>\n",
       "</div>"
      ],
      "text/plain": [
       "               model  ood 10th_percentile_acc  ood 10th_percentile_acc_std  \\\n",
       "model                                                                        \n",
       "bbb              bbb                 0.526667                     0.005963   \n",
       "bbb_5          bbb_5                 0.533333                     0.000000   \n",
       "laplace_1  laplace_1                 0.455000                     0.009344   \n",
       "laplace_5  laplace_5                 0.453333                     0.000000   \n",
       "ll_ivon      ll_ivon                 0.458444                     0.010452   \n",
       "ll_ivon_5  ll_ivon_5                 0.458667                     0.006532   \n",
       "ll_swag      ll_swag                 0.451778                     0.011734   \n",
       "map              map                 0.453333                     0.009737   \n",
       "map_5          map_5                 0.453333                     0.000000   \n",
       "mcd              mcd                 0.446667                     0.013333   \n",
       "mcd_5          mcd_5                 0.450667                     0.005333   \n",
       "mcd_ll        mcd_ll                 0.451111                     0.008195   \n",
       "rank1          rank1                 0.527333                     0.005497   \n",
       "svgd            svgd                 0.456000                     0.009978   \n",
       "swag            swag                 0.435556                     0.011244   \n",
       "swag_5        swag_5                 0.442667                     0.005333   \n",
       "\n",
       "           ood accuracy  ood accuracy_std  ood log likelihood  \\\n",
       "model                                                           \n",
       "bbb            0.695284          0.007430           -0.897627   \n",
       "bbb_5          0.709237          0.001719           -0.747748   \n",
       "laplace_1      0.653856          0.002768           -0.816272   \n",
       "laplace_5      0.658836          0.000594           -0.800253   \n",
       "ll_ivon        0.661316          0.002213           -0.793888   \n",
       "ll_ivon_5      0.664740          0.000736           -0.779269   \n",
       "ll_swag        0.655690          0.002916           -0.801564   \n",
       "map            0.655169          0.003163           -0.814966   \n",
       "map_5          0.658803          0.000723           -0.800404   \n",
       "mcd            0.656633          0.002001           -0.788582   \n",
       "mcd_5          0.660276          0.000643           -0.779840   \n",
       "mcd_ll         0.656035          0.002874           -0.816185   \n",
       "rank1          0.695152          0.002530           -0.922821   \n",
       "svgd           0.661351          0.002788           -0.792610   \n",
       "swag           0.638832          0.006322           -0.840478   \n",
       "swag_5         0.646319          0.001469           -0.827720   \n",
       "\n",
       "           ood log likelihood_std  ood sece  ood sece_std   ood ece  ...  \\\n",
       "model                                                                ...   \n",
       "bbb                      0.018957 -0.154253      0.005337  0.154268  ...   \n",
       "bbb_5                    0.001311 -0.105061      0.001206  0.105078  ...   \n",
       "laplace_1                0.006181 -0.067162      0.006139  0.067172  ...   \n",
       "laplace_5                0.001207 -0.058317      0.001397  0.058317  ...   \n",
       "ll_ivon                  0.008097 -0.053443      0.010477  0.053455  ...   \n",
       "ll_ivon_5                0.001075 -0.044756      0.002133  0.044756  ...   \n",
       "ll_swag                  0.006417 -0.047702      0.008718  0.047731  ...   \n",
       "map                      0.007054 -0.067469      0.006492  0.067495  ...   \n",
       "map_5                    0.001484 -0.058439      0.001605  0.058439  ...   \n",
       "mcd                      0.003969 -0.019232      0.012343  0.020422  ...   \n",
       "mcd_5                    0.000506 -0.011671      0.002732  0.011671  ...   \n",
       "mcd_ll                   0.011163 -0.069109      0.008458  0.069109  ...   \n",
       "rank1                    0.015020 -0.173005      0.004350  0.173010  ...   \n",
       "svgd                     0.011076 -0.049391      0.004866  0.049391  ...   \n",
       "swag                     0.014007  0.031195      0.003524  0.031723  ...   \n",
       "swag_5                   0.002232  0.039765      0.001047  0.039922  ...   \n",
       "\n",
       "           id 10th_percentile_acc  id 10th_percentile_acc_std  id accuracy  \\\n",
       "model                                                                        \n",
       "bbb                      0.560000                    0.000000     0.730401   \n",
       "bbb_5                    0.573333                    0.000000     0.746454   \n",
       "laplace_1                0.481667                    0.009344     0.677654   \n",
       "laplace_5                0.480000                    0.000000     0.681944   \n",
       "ll_ivon                  0.484444                    0.008889     0.683862   \n",
       "ll_ivon_5                0.484000                    0.005333     0.687353   \n",
       "ll_swag                  0.474444                    0.009988     0.678619   \n",
       "map                      0.476667                    0.008255     0.678346   \n",
       "map_5                    0.480000                    0.000000     0.682126   \n",
       "mcd                      0.472222                    0.012131     0.678289   \n",
       "mcd_5                    0.474667                    0.006532     0.682075   \n",
       "mcd_ll                   0.477778                    0.010704     0.678598   \n",
       "rank1                    0.557778                    0.004444     0.728857   \n",
       "svgd                     0.477333                    0.009978     0.681772   \n",
       "swag                     0.460000                    0.009737     0.657742   \n",
       "swag_5                   0.469333                    0.005333     0.666586   \n",
       "\n",
       "           id accuracy_std  id log likelihood  id log likelihood_std  \\\n",
       "model                                                                  \n",
       "bbb               0.006394          -0.778404               0.014730   \n",
       "bbb_5             0.001248          -0.647611               0.001506   \n",
       "laplace_1         0.001722          -0.756493               0.004184   \n",
       "laplace_5         0.000324          -0.741925               0.000799   \n",
       "ll_ivon           0.002238          -0.736763               0.005636   \n",
       "ll_ivon_5         0.000992          -0.723780               0.000549   \n",
       "ll_swag           0.001914          -0.746732               0.004581   \n",
       "map               0.001974          -0.755257               0.005475   \n",
       "map_5             0.000439          -0.741926               0.001058   \n",
       "mcd               0.001208          -0.740641               0.002757   \n",
       "mcd_5             0.000457          -0.732513               0.000500   \n",
       "mcd_ll            0.002242          -0.756239               0.008859   \n",
       "rank1             0.003210          -0.800650               0.009632   \n",
       "svgd              0.002257          -0.739563               0.008227   \n",
       "swag              0.006482          -0.806643               0.015010   \n",
       "swag_5            0.001217          -0.795502               0.002891   \n",
       "\n",
       "            id sece  id sece_std    id ece  id ece_std  \n",
       "model                                                   \n",
       "bbb       -0.127717     0.003822  0.127719    0.003823  \n",
       "bbb_5     -0.078813     0.001608  0.078843    0.001599  \n",
       "laplace_1 -0.048184     0.006952  0.048225    0.006972  \n",
       "laplace_5 -0.040416     0.001691  0.040422    0.001695  \n",
       "ll_ivon   -0.037241     0.010398  0.037436    0.010355  \n",
       "ll_ivon_5 -0.028628     0.002169  0.029258    0.002528  \n",
       "ll_swag   -0.029870     0.009171  0.031185    0.008184  \n",
       "map       -0.049262     0.007244  0.049316    0.007245  \n",
       "map_5     -0.040308     0.001994  0.040308    0.001994  \n",
       "mcd       -0.002382     0.013184  0.014871    0.006280  \n",
       "mcd_5      0.005164     0.003287  0.006730    0.002343  \n",
       "mcd_ll    -0.051306     0.009000  0.051342    0.009055  \n",
       "rank1     -0.147267     0.003639  0.147267    0.003639  \n",
       "svgd      -0.034301     0.005000  0.034529    0.005144  \n",
       "swag       0.046828     0.003703  0.047022    0.003762  \n",
       "swag_5     0.056509     0.000677  0.056613    0.000776  \n",
       "\n",
       "[16 rows x 21 columns]"
      ]
     },
     "execution_count": 7,
     "metadata": {},
     "output_type": "execute_result"
    }
   ],
   "source": [
    "data"
   ]
  },
  {
   "cell_type": "code",
   "execution_count": 8,
   "metadata": {},
   "outputs": [
    {
     "data": {
      "application/vnd.plotly.v1+json": {
       "config": {
        "plotlyServerURL": "https://plot.ly"
       },
       "data": [
        {
         "error_x": {
          "array": [
           0.005962868909391993
          ]
         },
         "error_y": {
          "array": [
           0.0053372576004840945
          ]
         },
         "hovertemplate": "model=bbb<br>ood 10th_percentile_acc=%{x}<br>ood sece=%{y}<extra></extra>",
         "legendgroup": "bbb",
         "marker": {
          "color": "#636efa",
          "symbol": "circle"
         },
         "mode": "markers",
         "name": "bbb",
         "orientation": "v",
         "showlegend": true,
         "type": "scatter",
         "x": [
          0.526666671037674
         ],
         "xaxis": "x",
         "y": [
          -0.1542534022557225
         ],
         "yaxis": "y"
        },
        {
         "error_x": {
          "array": [
           0
          ]
         },
         "error_y": {
          "array": [
           0.0012057160544015242
          ]
         },
         "hovertemplate": "model=bbb_5<br>ood 10th_percentile_acc=%{x}<br>ood sece=%{y}<extra></extra>",
         "legendgroup": "bbb_5",
         "marker": {
          "color": "#EF553B",
          "symbol": "circle"
         },
         "mode": "markers",
         "name": "bbb_5",
         "orientation": "v",
         "showlegend": true,
         "type": "scatter",
         "x": [
          0.5333333611488342
         ],
         "xaxis": "x",
         "y": [
          -0.10506073958474
         ],
         "yaxis": "y"
        },
        {
         "error_x": {
          "array": [
           0.009343533184689718
          ]
         },
         "error_y": {
          "array": [
           0.0061389661816314426
          ]
         },
         "hovertemplate": "model=laplace_1<br>ood 10th_percentile_acc=%{x}<br>ood sece=%{y}<extra></extra>",
         "legendgroup": "laplace_1",
         "marker": {
          "color": "#00cc96",
          "symbol": "circle"
         },
         "mode": "markers",
         "name": "laplace_1",
         "orientation": "v",
         "showlegend": true,
         "type": "scatter",
         "x": [
          0.45500000193715096
         ],
         "xaxis": "x",
         "y": [
          -0.0671622140144651
         ],
         "yaxis": "y"
        },
        {
         "error_x": {
          "array": [
           0
          ]
         },
         "error_y": {
          "array": [
           0.0013968851051445537
          ]
         },
         "hovertemplate": "model=laplace_5<br>ood 10th_percentile_acc=%{x}<br>ood sece=%{y}<extra></extra>",
         "legendgroup": "laplace_5",
         "marker": {
          "color": "#ab63fa",
          "symbol": "circle"
         },
         "mode": "markers",
         "name": "laplace_5",
         "orientation": "v",
         "showlegend": true,
         "type": "scatter",
         "x": [
          0.4533333480358124
         ],
         "xaxis": "x",
         "y": [
          -0.058316683030391454
         ],
         "yaxis": "y"
        },
        {
         "error_x": {
          "array": [
           0.01045153512609504
          ]
         },
         "error_y": {
          "array": [
           0.010477033952890605
          ]
         },
         "hovertemplate": "model=ll_ivon<br>ood 10th_percentile_acc=%{x}<br>ood sece=%{y}<extra></extra>",
         "legendgroup": "ll_ivon",
         "marker": {
          "color": "#FFA15A",
          "symbol": "circle"
         },
         "mode": "markers",
         "name": "ll_ivon",
         "orientation": "v",
         "showlegend": true,
         "type": "scatter",
         "x": [
          0.4584444458285968
         ],
         "xaxis": "x",
         "y": [
          -0.053443242825484565
         ],
         "yaxis": "y"
        },
        {
         "error_x": {
          "array": [
           0.006531966418047266
          ]
         },
         "error_y": {
          "array": [
           0.002133354489072062
          ]
         },
         "hovertemplate": "model=ll_ivon_5<br>ood 10th_percentile_acc=%{x}<br>ood sece=%{y}<extra></extra>",
         "legendgroup": "ll_ivon_5",
         "marker": {
          "color": "#19d3f3",
          "symbol": "circle"
         },
         "mode": "markers",
         "name": "ll_ivon_5",
         "orientation": "v",
         "showlegend": true,
         "type": "scatter",
         "x": [
          0.4586666762828827
         ],
         "xaxis": "x",
         "y": [
          -0.04475562251394597
         ],
         "yaxis": "y"
        },
        {
         "error_x": {
          "array": [
           0.011733669976662944
          ]
         },
         "error_y": {
          "array": [
           0.00871829851073035
          ]
         },
         "hovertemplate": "model=ll_swag<br>ood 10th_percentile_acc=%{x}<br>ood sece=%{y}<extra></extra>",
         "legendgroup": "ll_swag",
         "marker": {
          "color": "#FF6692",
          "symbol": "circle"
         },
         "mode": "markers",
         "name": "ll_swag",
         "orientation": "v",
         "showlegend": true,
         "type": "scatter",
         "x": [
          0.4517777840296428
         ],
         "xaxis": "x",
         "y": [
          -0.047701638547600296
         ],
         "yaxis": "y"
        },
        {
         "error_x": {
          "array": [
           0.00973729150727117
          ]
         },
         "error_y": {
          "array": [
           0.006491595755687658
          ]
         },
         "hovertemplate": "model=map<br>ood 10th_percentile_acc=%{x}<br>ood sece=%{y}<extra></extra>",
         "legendgroup": "map",
         "marker": {
          "color": "#B6E880",
          "symbol": "circle"
         },
         "mode": "markers",
         "name": "map",
         "orientation": "v",
         "showlegend": true,
         "type": "scatter",
         "x": [
          0.4533333381017049
         ],
         "xaxis": "x",
         "y": [
          -0.06746903253020137
         ],
         "yaxis": "y"
        },
        {
         "error_x": {
          "array": [
           0
          ]
         },
         "error_y": {
          "array": [
           0.0016050763784140058
          ]
         },
         "hovertemplate": "model=map_5<br>ood 10th_percentile_acc=%{x}<br>ood sece=%{y}<extra></extra>",
         "legendgroup": "map_5",
         "marker": {
          "color": "#FF97FF",
          "symbol": "circle"
         },
         "mode": "markers",
         "name": "map_5",
         "orientation": "v",
         "showlegend": true,
         "type": "scatter",
         "x": [
          0.4533333480358124
         ],
         "xaxis": "x",
         "y": [
          -0.05843872119277075
         ],
         "yaxis": "y"
        },
        {
         "error_x": {
          "array": [
           0.013333332538605334
          ]
         },
         "error_y": {
          "array": [
           0.012343487033335834
          ]
         },
         "hovertemplate": "model=mcd<br>ood 10th_percentile_acc=%{x}<br>ood sece=%{y}<extra></extra>",
         "legendgroup": "mcd",
         "marker": {
          "color": "#FECB52",
          "symbol": "circle"
         },
         "mode": "markers",
         "name": "mcd",
         "orientation": "v",
         "showlegend": true,
         "type": "scatter",
         "x": [
          0.446666677792867
         ],
         "xaxis": "x",
         "y": [
          -0.019232059775536884
         ],
         "yaxis": "y"
        },
        {
         "error_x": {
          "array": [
           0.005333340167999267
          ]
         },
         "error_y": {
          "array": [
           0.0027318543163322947
          ]
         },
         "hovertemplate": "model=mcd_5<br>ood 10th_percentile_acc=%{x}<br>ood sece=%{y}<extra></extra>",
         "legendgroup": "mcd_5",
         "marker": {
          "color": "#636efa",
          "symbol": "circle"
         },
         "mode": "markers",
         "name": "mcd_5",
         "orientation": "v",
         "showlegend": true,
         "type": "scatter",
         "x": [
          0.45066667795181276
         ],
         "xaxis": "x",
         "y": [
          -0.011670562507002904
         ],
         "yaxis": "y"
        },
        {
         "error_x": {
          "array": [
           0.008195153588255066
          ]
         },
         "error_y": {
          "array": [
           0.008457591606669273
          ]
         },
         "hovertemplate": "model=mcd_ll<br>ood 10th_percentile_acc=%{x}<br>ood sece=%{y}<extra></extra>",
         "legendgroup": "mcd_ll",
         "marker": {
          "color": "#EF553B",
          "symbol": "circle"
         },
         "mode": "markers",
         "name": "mcd_ll",
         "orientation": "v",
         "showlegend": true,
         "type": "scatter",
         "x": [
          0.45111111799875897
         ],
         "xaxis": "x",
         "y": [
          -0.06910873627220315
         ],
         "yaxis": "y"
        },
        {
         "error_x": {
          "array": [
           0.00549749350031491
          ]
         },
         "error_y": {
          "array": [
           0.0043498630352614195
          ]
         },
         "hovertemplate": "model=rank1<br>ood 10th_percentile_acc=%{x}<br>ood sece=%{y}<extra></extra>",
         "legendgroup": "rank1",
         "marker": {
          "color": "#00cc96",
          "symbol": "circle"
         },
         "mode": "markers",
         "name": "rank1",
         "orientation": "v",
         "showlegend": true,
         "type": "scatter",
         "x": [
          0.52733334004879
         ],
         "xaxis": "x",
         "y": [
          -0.17300499889713547
         ],
         "yaxis": "y"
        },
        {
         "error_x": {
          "array": [
           0.009977753073879754
          ]
         },
         "error_y": {
          "array": [
           0.004866099292841409
          ]
         },
         "hovertemplate": "model=svgd<br>ood 10th_percentile_acc=%{x}<br>ood sece=%{y}<extra></extra>",
         "legendgroup": "svgd",
         "marker": {
          "color": "#ab63fa",
          "symbol": "circle"
         },
         "mode": "markers",
         "name": "svgd",
         "orientation": "v",
         "showlegend": true,
         "type": "scatter",
         "x": [
          0.45600000619888303
         ],
         "xaxis": "x",
         "y": [
          -0.04939130754592358
         ],
         "yaxis": "y"
        },
        {
         "error_x": {
          "array": [
           0.011243657316521351
          ]
         },
         "error_y": {
          "array": [
           0.0035244380406889604
          ]
         },
         "hovertemplate": "model=swag<br>ood 10th_percentile_acc=%{x}<br>ood sece=%{y}<extra></extra>",
         "legendgroup": "swag",
         "marker": {
          "color": "#FFA15A",
          "symbol": "circle"
         },
         "mode": "markers",
         "name": "swag",
         "orientation": "v",
         "showlegend": true,
         "type": "scatter",
         "x": [
          0.4355555574099223
         ],
         "xaxis": "x",
         "y": [
          0.031194759289930013
         ],
         "yaxis": "y"
        },
        {
         "error_x": {
          "array": [
           0.005333340167999267
          ]
         },
         "error_y": {
          "array": [
           0.0010473043778026969
          ]
         },
         "hovertemplate": "model=swag_5<br>ood 10th_percentile_acc=%{x}<br>ood sece=%{y}<extra></extra>",
         "legendgroup": "swag_5",
         "marker": {
          "color": "#19d3f3",
          "symbol": "circle"
         },
         "mode": "markers",
         "name": "swag_5",
         "orientation": "v",
         "showlegend": true,
         "type": "scatter",
         "x": [
          0.44266666769981383
         ],
         "xaxis": "x",
         "y": [
          0.03976513140032376
         ],
         "yaxis": "y"
        }
       ],
       "layout": {
        "legend": {
         "title": {
          "text": "model"
         },
         "tracegroupgap": 0
        },
        "margin": {
         "t": 60
        },
        "template": {
         "data": {
          "bar": [
           {
            "error_x": {
             "color": "#2a3f5f"
            },
            "error_y": {
             "color": "#2a3f5f"
            },
            "marker": {
             "line": {
              "color": "#E5ECF6",
              "width": 0.5
             },
             "pattern": {
              "fillmode": "overlay",
              "size": 10,
              "solidity": 0.2
             }
            },
            "type": "bar"
           }
          ],
          "barpolar": [
           {
            "marker": {
             "line": {
              "color": "#E5ECF6",
              "width": 0.5
             },
             "pattern": {
              "fillmode": "overlay",
              "size": 10,
              "solidity": 0.2
             }
            },
            "type": "barpolar"
           }
          ],
          "carpet": [
           {
            "aaxis": {
             "endlinecolor": "#2a3f5f",
             "gridcolor": "white",
             "linecolor": "white",
             "minorgridcolor": "white",
             "startlinecolor": "#2a3f5f"
            },
            "baxis": {
             "endlinecolor": "#2a3f5f",
             "gridcolor": "white",
             "linecolor": "white",
             "minorgridcolor": "white",
             "startlinecolor": "#2a3f5f"
            },
            "type": "carpet"
           }
          ],
          "choropleth": [
           {
            "colorbar": {
             "outlinewidth": 0,
             "ticks": ""
            },
            "type": "choropleth"
           }
          ],
          "contour": [
           {
            "colorbar": {
             "outlinewidth": 0,
             "ticks": ""
            },
            "colorscale": [
             [
              0,
              "#0d0887"
             ],
             [
              0.1111111111111111,
              "#46039f"
             ],
             [
              0.2222222222222222,
              "#7201a8"
             ],
             [
              0.3333333333333333,
              "#9c179e"
             ],
             [
              0.4444444444444444,
              "#bd3786"
             ],
             [
              0.5555555555555556,
              "#d8576b"
             ],
             [
              0.6666666666666666,
              "#ed7953"
             ],
             [
              0.7777777777777778,
              "#fb9f3a"
             ],
             [
              0.8888888888888888,
              "#fdca26"
             ],
             [
              1,
              "#f0f921"
             ]
            ],
            "type": "contour"
           }
          ],
          "contourcarpet": [
           {
            "colorbar": {
             "outlinewidth": 0,
             "ticks": ""
            },
            "type": "contourcarpet"
           }
          ],
          "heatmap": [
           {
            "colorbar": {
             "outlinewidth": 0,
             "ticks": ""
            },
            "colorscale": [
             [
              0,
              "#0d0887"
             ],
             [
              0.1111111111111111,
              "#46039f"
             ],
             [
              0.2222222222222222,
              "#7201a8"
             ],
             [
              0.3333333333333333,
              "#9c179e"
             ],
             [
              0.4444444444444444,
              "#bd3786"
             ],
             [
              0.5555555555555556,
              "#d8576b"
             ],
             [
              0.6666666666666666,
              "#ed7953"
             ],
             [
              0.7777777777777778,
              "#fb9f3a"
             ],
             [
              0.8888888888888888,
              "#fdca26"
             ],
             [
              1,
              "#f0f921"
             ]
            ],
            "type": "heatmap"
           }
          ],
          "heatmapgl": [
           {
            "colorbar": {
             "outlinewidth": 0,
             "ticks": ""
            },
            "colorscale": [
             [
              0,
              "#0d0887"
             ],
             [
              0.1111111111111111,
              "#46039f"
             ],
             [
              0.2222222222222222,
              "#7201a8"
             ],
             [
              0.3333333333333333,
              "#9c179e"
             ],
             [
              0.4444444444444444,
              "#bd3786"
             ],
             [
              0.5555555555555556,
              "#d8576b"
             ],
             [
              0.6666666666666666,
              "#ed7953"
             ],
             [
              0.7777777777777778,
              "#fb9f3a"
             ],
             [
              0.8888888888888888,
              "#fdca26"
             ],
             [
              1,
              "#f0f921"
             ]
            ],
            "type": "heatmapgl"
           }
          ],
          "histogram": [
           {
            "marker": {
             "pattern": {
              "fillmode": "overlay",
              "size": 10,
              "solidity": 0.2
             }
            },
            "type": "histogram"
           }
          ],
          "histogram2d": [
           {
            "colorbar": {
             "outlinewidth": 0,
             "ticks": ""
            },
            "colorscale": [
             [
              0,
              "#0d0887"
             ],
             [
              0.1111111111111111,
              "#46039f"
             ],
             [
              0.2222222222222222,
              "#7201a8"
             ],
             [
              0.3333333333333333,
              "#9c179e"
             ],
             [
              0.4444444444444444,
              "#bd3786"
             ],
             [
              0.5555555555555556,
              "#d8576b"
             ],
             [
              0.6666666666666666,
              "#ed7953"
             ],
             [
              0.7777777777777778,
              "#fb9f3a"
             ],
             [
              0.8888888888888888,
              "#fdca26"
             ],
             [
              1,
              "#f0f921"
             ]
            ],
            "type": "histogram2d"
           }
          ],
          "histogram2dcontour": [
           {
            "colorbar": {
             "outlinewidth": 0,
             "ticks": ""
            },
            "colorscale": [
             [
              0,
              "#0d0887"
             ],
             [
              0.1111111111111111,
              "#46039f"
             ],
             [
              0.2222222222222222,
              "#7201a8"
             ],
             [
              0.3333333333333333,
              "#9c179e"
             ],
             [
              0.4444444444444444,
              "#bd3786"
             ],
             [
              0.5555555555555556,
              "#d8576b"
             ],
             [
              0.6666666666666666,
              "#ed7953"
             ],
             [
              0.7777777777777778,
              "#fb9f3a"
             ],
             [
              0.8888888888888888,
              "#fdca26"
             ],
             [
              1,
              "#f0f921"
             ]
            ],
            "type": "histogram2dcontour"
           }
          ],
          "mesh3d": [
           {
            "colorbar": {
             "outlinewidth": 0,
             "ticks": ""
            },
            "type": "mesh3d"
           }
          ],
          "parcoords": [
           {
            "line": {
             "colorbar": {
              "outlinewidth": 0,
              "ticks": ""
             }
            },
            "type": "parcoords"
           }
          ],
          "pie": [
           {
            "automargin": true,
            "type": "pie"
           }
          ],
          "scatter": [
           {
            "fillpattern": {
             "fillmode": "overlay",
             "size": 10,
             "solidity": 0.2
            },
            "type": "scatter"
           }
          ],
          "scatter3d": [
           {
            "line": {
             "colorbar": {
              "outlinewidth": 0,
              "ticks": ""
             }
            },
            "marker": {
             "colorbar": {
              "outlinewidth": 0,
              "ticks": ""
             }
            },
            "type": "scatter3d"
           }
          ],
          "scattercarpet": [
           {
            "marker": {
             "colorbar": {
              "outlinewidth": 0,
              "ticks": ""
             }
            },
            "type": "scattercarpet"
           }
          ],
          "scattergeo": [
           {
            "marker": {
             "colorbar": {
              "outlinewidth": 0,
              "ticks": ""
             }
            },
            "type": "scattergeo"
           }
          ],
          "scattergl": [
           {
            "marker": {
             "colorbar": {
              "outlinewidth": 0,
              "ticks": ""
             }
            },
            "type": "scattergl"
           }
          ],
          "scattermapbox": [
           {
            "marker": {
             "colorbar": {
              "outlinewidth": 0,
              "ticks": ""
             }
            },
            "type": "scattermapbox"
           }
          ],
          "scatterpolar": [
           {
            "marker": {
             "colorbar": {
              "outlinewidth": 0,
              "ticks": ""
             }
            },
            "type": "scatterpolar"
           }
          ],
          "scatterpolargl": [
           {
            "marker": {
             "colorbar": {
              "outlinewidth": 0,
              "ticks": ""
             }
            },
            "type": "scatterpolargl"
           }
          ],
          "scatterternary": [
           {
            "marker": {
             "colorbar": {
              "outlinewidth": 0,
              "ticks": ""
             }
            },
            "type": "scatterternary"
           }
          ],
          "surface": [
           {
            "colorbar": {
             "outlinewidth": 0,
             "ticks": ""
            },
            "colorscale": [
             [
              0,
              "#0d0887"
             ],
             [
              0.1111111111111111,
              "#46039f"
             ],
             [
              0.2222222222222222,
              "#7201a8"
             ],
             [
              0.3333333333333333,
              "#9c179e"
             ],
             [
              0.4444444444444444,
              "#bd3786"
             ],
             [
              0.5555555555555556,
              "#d8576b"
             ],
             [
              0.6666666666666666,
              "#ed7953"
             ],
             [
              0.7777777777777778,
              "#fb9f3a"
             ],
             [
              0.8888888888888888,
              "#fdca26"
             ],
             [
              1,
              "#f0f921"
             ]
            ],
            "type": "surface"
           }
          ],
          "table": [
           {
            "cells": {
             "fill": {
              "color": "#EBF0F8"
             },
             "line": {
              "color": "white"
             }
            },
            "header": {
             "fill": {
              "color": "#C8D4E3"
             },
             "line": {
              "color": "white"
             }
            },
            "type": "table"
           }
          ]
         },
         "layout": {
          "annotationdefaults": {
           "arrowcolor": "#2a3f5f",
           "arrowhead": 0,
           "arrowwidth": 1
          },
          "autotypenumbers": "strict",
          "coloraxis": {
           "colorbar": {
            "outlinewidth": 0,
            "ticks": ""
           }
          },
          "colorscale": {
           "diverging": [
            [
             0,
             "#8e0152"
            ],
            [
             0.1,
             "#c51b7d"
            ],
            [
             0.2,
             "#de77ae"
            ],
            [
             0.3,
             "#f1b6da"
            ],
            [
             0.4,
             "#fde0ef"
            ],
            [
             0.5,
             "#f7f7f7"
            ],
            [
             0.6,
             "#e6f5d0"
            ],
            [
             0.7,
             "#b8e186"
            ],
            [
             0.8,
             "#7fbc41"
            ],
            [
             0.9,
             "#4d9221"
            ],
            [
             1,
             "#276419"
            ]
           ],
           "sequential": [
            [
             0,
             "#0d0887"
            ],
            [
             0.1111111111111111,
             "#46039f"
            ],
            [
             0.2222222222222222,
             "#7201a8"
            ],
            [
             0.3333333333333333,
             "#9c179e"
            ],
            [
             0.4444444444444444,
             "#bd3786"
            ],
            [
             0.5555555555555556,
             "#d8576b"
            ],
            [
             0.6666666666666666,
             "#ed7953"
            ],
            [
             0.7777777777777778,
             "#fb9f3a"
            ],
            [
             0.8888888888888888,
             "#fdca26"
            ],
            [
             1,
             "#f0f921"
            ]
           ],
           "sequentialminus": [
            [
             0,
             "#0d0887"
            ],
            [
             0.1111111111111111,
             "#46039f"
            ],
            [
             0.2222222222222222,
             "#7201a8"
            ],
            [
             0.3333333333333333,
             "#9c179e"
            ],
            [
             0.4444444444444444,
             "#bd3786"
            ],
            [
             0.5555555555555556,
             "#d8576b"
            ],
            [
             0.6666666666666666,
             "#ed7953"
            ],
            [
             0.7777777777777778,
             "#fb9f3a"
            ],
            [
             0.8888888888888888,
             "#fdca26"
            ],
            [
             1,
             "#f0f921"
            ]
           ]
          },
          "colorway": [
           "#636efa",
           "#EF553B",
           "#00cc96",
           "#ab63fa",
           "#FFA15A",
           "#19d3f3",
           "#FF6692",
           "#B6E880",
           "#FF97FF",
           "#FECB52"
          ],
          "font": {
           "color": "#2a3f5f"
          },
          "geo": {
           "bgcolor": "white",
           "lakecolor": "white",
           "landcolor": "#E5ECF6",
           "showlakes": true,
           "showland": true,
           "subunitcolor": "white"
          },
          "hoverlabel": {
           "align": "left"
          },
          "hovermode": "closest",
          "mapbox": {
           "style": "light"
          },
          "paper_bgcolor": "white",
          "plot_bgcolor": "#E5ECF6",
          "polar": {
           "angularaxis": {
            "gridcolor": "white",
            "linecolor": "white",
            "ticks": ""
           },
           "bgcolor": "#E5ECF6",
           "radialaxis": {
            "gridcolor": "white",
            "linecolor": "white",
            "ticks": ""
           }
          },
          "scene": {
           "xaxis": {
            "backgroundcolor": "#E5ECF6",
            "gridcolor": "white",
            "gridwidth": 2,
            "linecolor": "white",
            "showbackground": true,
            "ticks": "",
            "zerolinecolor": "white"
           },
           "yaxis": {
            "backgroundcolor": "#E5ECF6",
            "gridcolor": "white",
            "gridwidth": 2,
            "linecolor": "white",
            "showbackground": true,
            "ticks": "",
            "zerolinecolor": "white"
           },
           "zaxis": {
            "backgroundcolor": "#E5ECF6",
            "gridcolor": "white",
            "gridwidth": 2,
            "linecolor": "white",
            "showbackground": true,
            "ticks": "",
            "zerolinecolor": "white"
           }
          },
          "shapedefaults": {
           "line": {
            "color": "#2a3f5f"
           }
          },
          "ternary": {
           "aaxis": {
            "gridcolor": "white",
            "linecolor": "white",
            "ticks": ""
           },
           "baxis": {
            "gridcolor": "white",
            "linecolor": "white",
            "ticks": ""
           },
           "bgcolor": "#E5ECF6",
           "caxis": {
            "gridcolor": "white",
            "linecolor": "white",
            "ticks": ""
           }
          },
          "title": {
           "x": 0.05
          },
          "xaxis": {
           "automargin": true,
           "gridcolor": "white",
           "linecolor": "white",
           "ticks": "",
           "title": {
            "standoff": 15
           },
           "zerolinecolor": "white",
           "zerolinewidth": 2
          },
          "yaxis": {
           "automargin": true,
           "gridcolor": "white",
           "linecolor": "white",
           "ticks": "",
           "title": {
            "standoff": 15
           },
           "zerolinecolor": "white",
           "zerolinewidth": 2
          }
         }
        },
        "xaxis": {
         "anchor": "y",
         "domain": [
          0,
          1
         ],
         "title": {
          "text": "ood 10th_percentile_acc"
         }
        },
        "yaxis": {
         "anchor": "x",
         "domain": [
          0,
          1
         ],
         "title": {
          "text": "ood sece"
         }
        }
       }
      }
     },
     "metadata": {},
     "output_type": "display_data"
    }
   ],
   "source": [
    "pareto_plot(data, \"ood 10th_percentile_acc\", \"ood sece\")"
   ]
  },
  {
   "cell_type": "code",
   "execution_count": 9,
   "metadata": {},
   "outputs": [
    {
     "data": {
      "application/vnd.plotly.v1+json": {
       "config": {
        "plotlyServerURL": "https://plot.ly"
       },
       "data": [
        {
         "error_x": {
          "array": [
           0.0074301630236107774
          ]
         },
         "error_y": {
          "array": [
           0.0053372576004840945
          ]
         },
         "hovertemplate": "model=bbb<br>ood accuracy=%{x}<br>ood sece=%{y}<extra></extra>",
         "legendgroup": "bbb",
         "marker": {
          "color": "#636efa",
          "symbol": "circle"
         },
         "mode": "markers",
         "name": "bbb",
         "orientation": "v",
         "showlegend": true,
         "type": "scatter",
         "x": [
          0.6952840288480123
         ],
         "xaxis": "x",
         "y": [
          -0.1542534022557225
         ],
         "yaxis": "y"
        },
        {
         "error_x": {
          "array": [
           0.0017189139319656723
          ]
         },
         "error_y": {
          "array": [
           0.0012057160544015242
          ]
         },
         "hovertemplate": "model=bbb_5<br>ood accuracy=%{x}<br>ood sece=%{y}<extra></extra>",
         "legendgroup": "bbb_5",
         "marker": {
          "color": "#EF553B",
          "symbol": "circle"
         },
         "mode": "markers",
         "name": "bbb_5",
         "orientation": "v",
         "showlegend": true,
         "type": "scatter",
         "x": [
          0.7092373847961426
         ],
         "xaxis": "x",
         "y": [
          -0.10506073958474
         ],
         "yaxis": "y"
        },
        {
         "error_x": {
          "array": [
           0.0027675886960508256
          ]
         },
         "error_y": {
          "array": [
           0.0061389661816314426
          ]
         },
         "hovertemplate": "model=laplace_1<br>ood accuracy=%{x}<br>ood sece=%{y}<extra></extra>",
         "legendgroup": "laplace_1",
         "marker": {
          "color": "#00cc96",
          "symbol": "circle"
         },
         "mode": "markers",
         "name": "laplace_1",
         "orientation": "v",
         "showlegend": true,
         "type": "scatter",
         "x": [
          0.6538555696606636
         ],
         "xaxis": "x",
         "y": [
          -0.0671622140144651
         ],
         "yaxis": "y"
        },
        {
         "error_x": {
          "array": [
           0.0005940546426287896
          ]
         },
         "error_y": {
          "array": [
           0.0013968851051445537
          ]
         },
         "hovertemplate": "model=laplace_5<br>ood accuracy=%{x}<br>ood sece=%{y}<extra></extra>",
         "legendgroup": "laplace_5",
         "marker": {
          "color": "#ab63fa",
          "symbol": "circle"
         },
         "mode": "markers",
         "name": "laplace_5",
         "orientation": "v",
         "showlegend": true,
         "type": "scatter",
         "x": [
          0.6588362966264997
         ],
         "xaxis": "x",
         "y": [
          -0.058316683030391454
         ],
         "yaxis": "y"
        },
        {
         "error_x": {
          "array": [
           0.0022131204276908596
          ]
         },
         "error_y": {
          "array": [
           0.010477033952890605
          ]
         },
         "hovertemplate": "model=ll_ivon<br>ood accuracy=%{x}<br>ood sece=%{y}<extra></extra>",
         "legendgroup": "ll_ivon",
         "marker": {
          "color": "#FFA15A",
          "symbol": "circle"
         },
         "mode": "markers",
         "name": "ll_ivon",
         "orientation": "v",
         "showlegend": true,
         "type": "scatter",
         "x": [
          0.6613159974416097
         ],
         "xaxis": "x",
         "y": [
          -0.053443242825484565
         ],
         "yaxis": "y"
        },
        {
         "error_x": {
          "array": [
           0.0007358689300146806
          ]
         },
         "error_y": {
          "array": [
           0.002133354489072062
          ]
         },
         "hovertemplate": "model=ll_ivon_5<br>ood accuracy=%{x}<br>ood sece=%{y}<extra></extra>",
         "legendgroup": "ll_ivon_5",
         "marker": {
          "color": "#19d3f3",
          "symbol": "circle"
         },
         "mode": "markers",
         "name": "ll_ivon_5",
         "orientation": "v",
         "showlegend": true,
         "type": "scatter",
         "x": [
          0.6647396326065064
         ],
         "xaxis": "x",
         "y": [
          -0.04475562251394597
         ],
         "yaxis": "y"
        },
        {
         "error_x": {
          "array": [
           0.0029157135866144366
          ]
         },
         "error_y": {
          "array": [
           0.00871829851073035
          ]
         },
         "hovertemplate": "model=ll_swag<br>ood accuracy=%{x}<br>ood sece=%{y}<extra></extra>",
         "legendgroup": "ll_swag",
         "marker": {
          "color": "#FF6692",
          "symbol": "circle"
         },
         "mode": "markers",
         "name": "ll_swag",
         "orientation": "v",
         "showlegend": true,
         "type": "scatter",
         "x": [
          0.655690481265386
         ],
         "xaxis": "x",
         "y": [
          -0.047701638547600296
         ],
         "yaxis": "y"
        },
        {
         "error_x": {
          "array": [
           0.0031630071390983706
          ]
         },
         "error_y": {
          "array": [
           0.006491595755687658
          ]
         },
         "hovertemplate": "model=map<br>ood accuracy=%{x}<br>ood sece=%{y}<extra></extra>",
         "legendgroup": "map",
         "marker": {
          "color": "#B6E880",
          "symbol": "circle"
         },
         "mode": "markers",
         "name": "map",
         "orientation": "v",
         "showlegend": true,
         "type": "scatter",
         "x": [
          0.6551690797011057
         ],
         "xaxis": "x",
         "y": [
          -0.06746903253020137
         ],
         "yaxis": "y"
        },
        {
         "error_x": {
          "array": [
           0.0007228895172461732
          ]
         },
         "error_y": {
          "array": [
           0.0016050763784140058
          ]
         },
         "hovertemplate": "model=map_5<br>ood accuracy=%{x}<br>ood sece=%{y}<extra></extra>",
         "legendgroup": "map_5",
         "marker": {
          "color": "#FF97FF",
          "symbol": "circle"
         },
         "mode": "markers",
         "name": "map_5",
         "orientation": "v",
         "showlegend": true,
         "type": "scatter",
         "x": [
          0.658802604675293
         ],
         "xaxis": "x",
         "y": [
          -0.05843872119277075
         ],
         "yaxis": "y"
        },
        {
         "error_x": {
          "array": [
           0.00200144344384959
          ]
         },
         "error_y": {
          "array": [
           0.012343487033335834
          ]
         },
         "hovertemplate": "model=mcd<br>ood accuracy=%{x}<br>ood sece=%{y}<extra></extra>",
         "legendgroup": "mcd",
         "marker": {
          "color": "#FECB52",
          "symbol": "circle"
         },
         "mode": "markers",
         "name": "mcd",
         "orientation": "v",
         "showlegend": true,
         "type": "scatter",
         "x": [
          0.6566333472728729
         ],
         "xaxis": "x",
         "y": [
          -0.019232059775536884
         ],
         "yaxis": "y"
        },
        {
         "error_x": {
          "array": [
           0.0006428765701784854
          ]
         },
         "error_y": {
          "array": [
           0.0027318543163322947
          ]
         },
         "hovertemplate": "model=mcd_5<br>ood accuracy=%{x}<br>ood sece=%{y}<extra></extra>",
         "legendgroup": "mcd_5",
         "marker": {
          "color": "#636efa",
          "symbol": "circle"
         },
         "mode": "markers",
         "name": "mcd_5",
         "orientation": "v",
         "showlegend": true,
         "type": "scatter",
         "x": [
          0.6602758765220642
         ],
         "xaxis": "x",
         "y": [
          -0.011670562507002904
         ],
         "yaxis": "y"
        },
        {
         "error_x": {
          "array": [
           0.002874353033215636
          ]
         },
         "error_y": {
          "array": [
           0.008457591606669273
          ]
         },
         "hovertemplate": "model=mcd_ll<br>ood accuracy=%{x}<br>ood sece=%{y}<extra></extra>",
         "legendgroup": "mcd_ll",
         "marker": {
          "color": "#EF553B",
          "symbol": "circle"
         },
         "mode": "markers",
         "name": "mcd_ll",
         "orientation": "v",
         "showlegend": true,
         "type": "scatter",
         "x": [
          0.656035304069519
         ],
         "xaxis": "x",
         "y": [
          -0.06910873627220315
         ],
         "yaxis": "y"
        },
        {
         "error_x": {
          "array": [
           0.002530089072699315
          ]
         },
         "error_y": {
          "array": [
           0.0043498630352614195
          ]
         },
         "hovertemplate": "model=rank1<br>ood accuracy=%{x}<br>ood sece=%{y}<extra></extra>",
         "legendgroup": "rank1",
         "marker": {
          "color": "#00cc96",
          "symbol": "circle"
         },
         "mode": "markers",
         "name": "rank1",
         "orientation": "v",
         "showlegend": true,
         "type": "scatter",
         "x": [
          0.6951524217923483
         ],
         "xaxis": "x",
         "y": [
          -0.17300499889713547
         ],
         "yaxis": "y"
        },
        {
         "error_x": {
          "array": [
           0.0027881140001650914
          ]
         },
         "error_y": {
          "array": [
           0.004866099292841409
          ]
         },
         "hovertemplate": "model=svgd<br>ood accuracy=%{x}<br>ood sece=%{y}<extra></extra>",
         "legendgroup": "svgd",
         "marker": {
          "color": "#ab63fa",
          "symbol": "circle"
         },
         "mode": "markers",
         "name": "svgd",
         "orientation": "v",
         "showlegend": true,
         "type": "scatter",
         "x": [
          0.6613513231277466
         ],
         "xaxis": "x",
         "y": [
          -0.04939130754592358
         ],
         "yaxis": "y"
        },
        {
         "error_x": {
          "array": [
           0.006322120224000572
          ]
         },
         "error_y": {
          "array": [
           0.0035244380406889604
          ]
         },
         "hovertemplate": "model=swag<br>ood accuracy=%{x}<br>ood sece=%{y}<extra></extra>",
         "legendgroup": "swag",
         "marker": {
          "color": "#FFA15A",
          "symbol": "circle"
         },
         "mode": "markers",
         "name": "swag",
         "orientation": "v",
         "showlegend": true,
         "type": "scatter",
         "x": [
          0.6388322512308756
         ],
         "xaxis": "x",
         "y": [
          0.031194759289930013
         ],
         "yaxis": "y"
        },
        {
         "error_x": {
          "array": [
           0.0014688021691901334
          ]
         },
         "error_y": {
          "array": [
           0.0010473043778026969
          ]
         },
         "hovertemplate": "model=swag_5<br>ood accuracy=%{x}<br>ood sece=%{y}<extra></extra>",
         "legendgroup": "swag_5",
         "marker": {
          "color": "#19d3f3",
          "symbol": "circle"
         },
         "mode": "markers",
         "name": "swag_5",
         "orientation": "v",
         "showlegend": true,
         "type": "scatter",
         "x": [
          0.6463188529014587
         ],
         "xaxis": "x",
         "y": [
          0.03976513140032376
         ],
         "yaxis": "y"
        }
       ],
       "layout": {
        "legend": {
         "title": {
          "text": "model"
         },
         "tracegroupgap": 0
        },
        "margin": {
         "t": 60
        },
        "template": {
         "data": {
          "bar": [
           {
            "error_x": {
             "color": "#2a3f5f"
            },
            "error_y": {
             "color": "#2a3f5f"
            },
            "marker": {
             "line": {
              "color": "#E5ECF6",
              "width": 0.5
             },
             "pattern": {
              "fillmode": "overlay",
              "size": 10,
              "solidity": 0.2
             }
            },
            "type": "bar"
           }
          ],
          "barpolar": [
           {
            "marker": {
             "line": {
              "color": "#E5ECF6",
              "width": 0.5
             },
             "pattern": {
              "fillmode": "overlay",
              "size": 10,
              "solidity": 0.2
             }
            },
            "type": "barpolar"
           }
          ],
          "carpet": [
           {
            "aaxis": {
             "endlinecolor": "#2a3f5f",
             "gridcolor": "white",
             "linecolor": "white",
             "minorgridcolor": "white",
             "startlinecolor": "#2a3f5f"
            },
            "baxis": {
             "endlinecolor": "#2a3f5f",
             "gridcolor": "white",
             "linecolor": "white",
             "minorgridcolor": "white",
             "startlinecolor": "#2a3f5f"
            },
            "type": "carpet"
           }
          ],
          "choropleth": [
           {
            "colorbar": {
             "outlinewidth": 0,
             "ticks": ""
            },
            "type": "choropleth"
           }
          ],
          "contour": [
           {
            "colorbar": {
             "outlinewidth": 0,
             "ticks": ""
            },
            "colorscale": [
             [
              0,
              "#0d0887"
             ],
             [
              0.1111111111111111,
              "#46039f"
             ],
             [
              0.2222222222222222,
              "#7201a8"
             ],
             [
              0.3333333333333333,
              "#9c179e"
             ],
             [
              0.4444444444444444,
              "#bd3786"
             ],
             [
              0.5555555555555556,
              "#d8576b"
             ],
             [
              0.6666666666666666,
              "#ed7953"
             ],
             [
              0.7777777777777778,
              "#fb9f3a"
             ],
             [
              0.8888888888888888,
              "#fdca26"
             ],
             [
              1,
              "#f0f921"
             ]
            ],
            "type": "contour"
           }
          ],
          "contourcarpet": [
           {
            "colorbar": {
             "outlinewidth": 0,
             "ticks": ""
            },
            "type": "contourcarpet"
           }
          ],
          "heatmap": [
           {
            "colorbar": {
             "outlinewidth": 0,
             "ticks": ""
            },
            "colorscale": [
             [
              0,
              "#0d0887"
             ],
             [
              0.1111111111111111,
              "#46039f"
             ],
             [
              0.2222222222222222,
              "#7201a8"
             ],
             [
              0.3333333333333333,
              "#9c179e"
             ],
             [
              0.4444444444444444,
              "#bd3786"
             ],
             [
              0.5555555555555556,
              "#d8576b"
             ],
             [
              0.6666666666666666,
              "#ed7953"
             ],
             [
              0.7777777777777778,
              "#fb9f3a"
             ],
             [
              0.8888888888888888,
              "#fdca26"
             ],
             [
              1,
              "#f0f921"
             ]
            ],
            "type": "heatmap"
           }
          ],
          "heatmapgl": [
           {
            "colorbar": {
             "outlinewidth": 0,
             "ticks": ""
            },
            "colorscale": [
             [
              0,
              "#0d0887"
             ],
             [
              0.1111111111111111,
              "#46039f"
             ],
             [
              0.2222222222222222,
              "#7201a8"
             ],
             [
              0.3333333333333333,
              "#9c179e"
             ],
             [
              0.4444444444444444,
              "#bd3786"
             ],
             [
              0.5555555555555556,
              "#d8576b"
             ],
             [
              0.6666666666666666,
              "#ed7953"
             ],
             [
              0.7777777777777778,
              "#fb9f3a"
             ],
             [
              0.8888888888888888,
              "#fdca26"
             ],
             [
              1,
              "#f0f921"
             ]
            ],
            "type": "heatmapgl"
           }
          ],
          "histogram": [
           {
            "marker": {
             "pattern": {
              "fillmode": "overlay",
              "size": 10,
              "solidity": 0.2
             }
            },
            "type": "histogram"
           }
          ],
          "histogram2d": [
           {
            "colorbar": {
             "outlinewidth": 0,
             "ticks": ""
            },
            "colorscale": [
             [
              0,
              "#0d0887"
             ],
             [
              0.1111111111111111,
              "#46039f"
             ],
             [
              0.2222222222222222,
              "#7201a8"
             ],
             [
              0.3333333333333333,
              "#9c179e"
             ],
             [
              0.4444444444444444,
              "#bd3786"
             ],
             [
              0.5555555555555556,
              "#d8576b"
             ],
             [
              0.6666666666666666,
              "#ed7953"
             ],
             [
              0.7777777777777778,
              "#fb9f3a"
             ],
             [
              0.8888888888888888,
              "#fdca26"
             ],
             [
              1,
              "#f0f921"
             ]
            ],
            "type": "histogram2d"
           }
          ],
          "histogram2dcontour": [
           {
            "colorbar": {
             "outlinewidth": 0,
             "ticks": ""
            },
            "colorscale": [
             [
              0,
              "#0d0887"
             ],
             [
              0.1111111111111111,
              "#46039f"
             ],
             [
              0.2222222222222222,
              "#7201a8"
             ],
             [
              0.3333333333333333,
              "#9c179e"
             ],
             [
              0.4444444444444444,
              "#bd3786"
             ],
             [
              0.5555555555555556,
              "#d8576b"
             ],
             [
              0.6666666666666666,
              "#ed7953"
             ],
             [
              0.7777777777777778,
              "#fb9f3a"
             ],
             [
              0.8888888888888888,
              "#fdca26"
             ],
             [
              1,
              "#f0f921"
             ]
            ],
            "type": "histogram2dcontour"
           }
          ],
          "mesh3d": [
           {
            "colorbar": {
             "outlinewidth": 0,
             "ticks": ""
            },
            "type": "mesh3d"
           }
          ],
          "parcoords": [
           {
            "line": {
             "colorbar": {
              "outlinewidth": 0,
              "ticks": ""
             }
            },
            "type": "parcoords"
           }
          ],
          "pie": [
           {
            "automargin": true,
            "type": "pie"
           }
          ],
          "scatter": [
           {
            "fillpattern": {
             "fillmode": "overlay",
             "size": 10,
             "solidity": 0.2
            },
            "type": "scatter"
           }
          ],
          "scatter3d": [
           {
            "line": {
             "colorbar": {
              "outlinewidth": 0,
              "ticks": ""
             }
            },
            "marker": {
             "colorbar": {
              "outlinewidth": 0,
              "ticks": ""
             }
            },
            "type": "scatter3d"
           }
          ],
          "scattercarpet": [
           {
            "marker": {
             "colorbar": {
              "outlinewidth": 0,
              "ticks": ""
             }
            },
            "type": "scattercarpet"
           }
          ],
          "scattergeo": [
           {
            "marker": {
             "colorbar": {
              "outlinewidth": 0,
              "ticks": ""
             }
            },
            "type": "scattergeo"
           }
          ],
          "scattergl": [
           {
            "marker": {
             "colorbar": {
              "outlinewidth": 0,
              "ticks": ""
             }
            },
            "type": "scattergl"
           }
          ],
          "scattermapbox": [
           {
            "marker": {
             "colorbar": {
              "outlinewidth": 0,
              "ticks": ""
             }
            },
            "type": "scattermapbox"
           }
          ],
          "scatterpolar": [
           {
            "marker": {
             "colorbar": {
              "outlinewidth": 0,
              "ticks": ""
             }
            },
            "type": "scatterpolar"
           }
          ],
          "scatterpolargl": [
           {
            "marker": {
             "colorbar": {
              "outlinewidth": 0,
              "ticks": ""
             }
            },
            "type": "scatterpolargl"
           }
          ],
          "scatterternary": [
           {
            "marker": {
             "colorbar": {
              "outlinewidth": 0,
              "ticks": ""
             }
            },
            "type": "scatterternary"
           }
          ],
          "surface": [
           {
            "colorbar": {
             "outlinewidth": 0,
             "ticks": ""
            },
            "colorscale": [
             [
              0,
              "#0d0887"
             ],
             [
              0.1111111111111111,
              "#46039f"
             ],
             [
              0.2222222222222222,
              "#7201a8"
             ],
             [
              0.3333333333333333,
              "#9c179e"
             ],
             [
              0.4444444444444444,
              "#bd3786"
             ],
             [
              0.5555555555555556,
              "#d8576b"
             ],
             [
              0.6666666666666666,
              "#ed7953"
             ],
             [
              0.7777777777777778,
              "#fb9f3a"
             ],
             [
              0.8888888888888888,
              "#fdca26"
             ],
             [
              1,
              "#f0f921"
             ]
            ],
            "type": "surface"
           }
          ],
          "table": [
           {
            "cells": {
             "fill": {
              "color": "#EBF0F8"
             },
             "line": {
              "color": "white"
             }
            },
            "header": {
             "fill": {
              "color": "#C8D4E3"
             },
             "line": {
              "color": "white"
             }
            },
            "type": "table"
           }
          ]
         },
         "layout": {
          "annotationdefaults": {
           "arrowcolor": "#2a3f5f",
           "arrowhead": 0,
           "arrowwidth": 1
          },
          "autotypenumbers": "strict",
          "coloraxis": {
           "colorbar": {
            "outlinewidth": 0,
            "ticks": ""
           }
          },
          "colorscale": {
           "diverging": [
            [
             0,
             "#8e0152"
            ],
            [
             0.1,
             "#c51b7d"
            ],
            [
             0.2,
             "#de77ae"
            ],
            [
             0.3,
             "#f1b6da"
            ],
            [
             0.4,
             "#fde0ef"
            ],
            [
             0.5,
             "#f7f7f7"
            ],
            [
             0.6,
             "#e6f5d0"
            ],
            [
             0.7,
             "#b8e186"
            ],
            [
             0.8,
             "#7fbc41"
            ],
            [
             0.9,
             "#4d9221"
            ],
            [
             1,
             "#276419"
            ]
           ],
           "sequential": [
            [
             0,
             "#0d0887"
            ],
            [
             0.1111111111111111,
             "#46039f"
            ],
            [
             0.2222222222222222,
             "#7201a8"
            ],
            [
             0.3333333333333333,
             "#9c179e"
            ],
            [
             0.4444444444444444,
             "#bd3786"
            ],
            [
             0.5555555555555556,
             "#d8576b"
            ],
            [
             0.6666666666666666,
             "#ed7953"
            ],
            [
             0.7777777777777778,
             "#fb9f3a"
            ],
            [
             0.8888888888888888,
             "#fdca26"
            ],
            [
             1,
             "#f0f921"
            ]
           ],
           "sequentialminus": [
            [
             0,
             "#0d0887"
            ],
            [
             0.1111111111111111,
             "#46039f"
            ],
            [
             0.2222222222222222,
             "#7201a8"
            ],
            [
             0.3333333333333333,
             "#9c179e"
            ],
            [
             0.4444444444444444,
             "#bd3786"
            ],
            [
             0.5555555555555556,
             "#d8576b"
            ],
            [
             0.6666666666666666,
             "#ed7953"
            ],
            [
             0.7777777777777778,
             "#fb9f3a"
            ],
            [
             0.8888888888888888,
             "#fdca26"
            ],
            [
             1,
             "#f0f921"
            ]
           ]
          },
          "colorway": [
           "#636efa",
           "#EF553B",
           "#00cc96",
           "#ab63fa",
           "#FFA15A",
           "#19d3f3",
           "#FF6692",
           "#B6E880",
           "#FF97FF",
           "#FECB52"
          ],
          "font": {
           "color": "#2a3f5f"
          },
          "geo": {
           "bgcolor": "white",
           "lakecolor": "white",
           "landcolor": "#E5ECF6",
           "showlakes": true,
           "showland": true,
           "subunitcolor": "white"
          },
          "hoverlabel": {
           "align": "left"
          },
          "hovermode": "closest",
          "mapbox": {
           "style": "light"
          },
          "paper_bgcolor": "white",
          "plot_bgcolor": "#E5ECF6",
          "polar": {
           "angularaxis": {
            "gridcolor": "white",
            "linecolor": "white",
            "ticks": ""
           },
           "bgcolor": "#E5ECF6",
           "radialaxis": {
            "gridcolor": "white",
            "linecolor": "white",
            "ticks": ""
           }
          },
          "scene": {
           "xaxis": {
            "backgroundcolor": "#E5ECF6",
            "gridcolor": "white",
            "gridwidth": 2,
            "linecolor": "white",
            "showbackground": true,
            "ticks": "",
            "zerolinecolor": "white"
           },
           "yaxis": {
            "backgroundcolor": "#E5ECF6",
            "gridcolor": "white",
            "gridwidth": 2,
            "linecolor": "white",
            "showbackground": true,
            "ticks": "",
            "zerolinecolor": "white"
           },
           "zaxis": {
            "backgroundcolor": "#E5ECF6",
            "gridcolor": "white",
            "gridwidth": 2,
            "linecolor": "white",
            "showbackground": true,
            "ticks": "",
            "zerolinecolor": "white"
           }
          },
          "shapedefaults": {
           "line": {
            "color": "#2a3f5f"
           }
          },
          "ternary": {
           "aaxis": {
            "gridcolor": "white",
            "linecolor": "white",
            "ticks": ""
           },
           "baxis": {
            "gridcolor": "white",
            "linecolor": "white",
            "ticks": ""
           },
           "bgcolor": "#E5ECF6",
           "caxis": {
            "gridcolor": "white",
            "linecolor": "white",
            "ticks": ""
           }
          },
          "title": {
           "x": 0.05
          },
          "xaxis": {
           "automargin": true,
           "gridcolor": "white",
           "linecolor": "white",
           "ticks": "",
           "title": {
            "standoff": 15
           },
           "zerolinecolor": "white",
           "zerolinewidth": 2
          },
          "yaxis": {
           "automargin": true,
           "gridcolor": "white",
           "linecolor": "white",
           "ticks": "",
           "title": {
            "standoff": 15
           },
           "zerolinecolor": "white",
           "zerolinewidth": 2
          }
         }
        },
        "xaxis": {
         "anchor": "y",
         "domain": [
          0,
          1
         ],
         "title": {
          "text": "ood accuracy"
         }
        },
        "yaxis": {
         "anchor": "x",
         "domain": [
          0,
          1
         ],
         "title": {
          "text": "ood sece"
         }
        }
       }
      }
     },
     "metadata": {},
     "output_type": "display_data"
    }
   ],
   "source": [
    "pareto_plot(data, \"ood accuracy\", \"ood sece\")"
   ]
  },
  {
   "cell_type": "code",
   "execution_count": 10,
   "metadata": {},
   "outputs": [
    {
     "data": {
      "application/vnd.plotly.v1+json": {
       "config": {
        "plotlyServerURL": "https://plot.ly"
       },
       "data": [
        {
         "error_x": {
          "array": [
           0
          ]
         },
         "error_y": {
          "array": [
           0.0038216606073879565
          ]
         },
         "hovertemplate": "model=bbb<br>id 10th_percentile_acc=%{x}<br>id sece=%{y}<extra></extra>",
         "legendgroup": "bbb",
         "marker": {
          "color": "#636efa",
          "symbol": "circle"
         },
         "mode": "markers",
         "name": "bbb",
         "orientation": "v",
         "showlegend": true,
         "type": "scatter",
         "x": [
          0.5600000023841858
         ],
         "xaxis": "x",
         "y": [
          -0.12771731354798732
         ],
         "yaxis": "y"
        },
        {
         "error_x": {
          "array": [
           0
          ]
         },
         "error_y": {
          "array": [
           0.0016084724163617325
          ]
         },
         "hovertemplate": "model=bbb_5<br>id 10th_percentile_acc=%{x}<br>id sece=%{y}<extra></extra>",
         "legendgroup": "bbb_5",
         "marker": {
          "color": "#EF553B",
          "symbol": "circle"
         },
         "mode": "markers",
         "name": "bbb_5",
         "orientation": "v",
         "showlegend": true,
         "type": "scatter",
         "x": [
          0.5733333230018616
         ],
         "xaxis": "x",
         "y": [
          -0.07881282040556145
         ],
         "yaxis": "y"
        },
        {
         "error_x": {
          "array": [
           0.009343533564406462
          ]
         },
         "error_y": {
          "array": [
           0.006951837440037223
          ]
         },
         "hovertemplate": "model=laplace_1<br>id 10th_percentile_acc=%{x}<br>id sece=%{y}<extra></extra>",
         "legendgroup": "laplace_1",
         "marker": {
          "color": "#00cc96",
          "symbol": "circle"
         },
         "mode": "markers",
         "name": "laplace_1",
         "orientation": "v",
         "showlegend": true,
         "type": "scatter",
         "x": [
          0.4816666692495346
         ],
         "xaxis": "x",
         "y": [
          -0.04818365475676629
         ],
         "yaxis": "y"
        },
        {
         "error_x": {
          "array": [
           0
          ]
         },
         "error_y": {
          "array": [
           0.001690682648318642
          ]
         },
         "hovertemplate": "model=laplace_5<br>id 10th_percentile_acc=%{x}<br>id sece=%{y}<extra></extra>",
         "legendgroup": "laplace_5",
         "marker": {
          "color": "#ab63fa",
          "symbol": "circle"
         },
         "mode": "markers",
         "name": "laplace_5",
         "orientation": "v",
         "showlegend": true,
         "type": "scatter",
         "x": [
          0.47999998927116394
         ],
         "xaxis": "x",
         "y": [
          -0.040415932998553124
         ],
         "yaxis": "y"
        },
        {
         "error_x": {
          "array": [
           0.008888892332714816
          ]
         },
         "error_y": {
          "array": [
           0.010398140416996384
          ]
         },
         "hovertemplate": "model=ll_ivon<br>id 10th_percentile_acc=%{x}<br>id sece=%{y}<extra></extra>",
         "legendgroup": "ll_ivon",
         "marker": {
          "color": "#FFA15A",
          "symbol": "circle"
         },
         "mode": "markers",
         "name": "ll_ivon",
         "orientation": "v",
         "showlegend": true,
         "type": "scatter",
         "x": [
          0.48444444437821704
         ],
         "xaxis": "x",
         "y": [
          -0.03724130562594227
         ],
         "yaxis": "y"
        },
        {
         "error_x": {
          "array": [
           0.005333340167999267
          ]
         },
         "error_y": {
          "array": [
           0.002169336899844546
          ]
         },
         "hovertemplate": "model=ll_ivon_5<br>id 10th_percentile_acc=%{x}<br>id sece=%{y}<extra></extra>",
         "legendgroup": "ll_ivon_5",
         "marker": {
          "color": "#19d3f3",
          "symbol": "circle"
         },
         "mode": "markers",
         "name": "ll_ivon_5",
         "orientation": "v",
         "showlegend": true,
         "type": "scatter",
         "x": [
          0.4839999943971634
         ],
         "xaxis": "x",
         "y": [
          -0.028628446381059065
         ],
         "yaxis": "y"
        },
        {
         "error_x": {
          "array": [
           0.009987644680868867
          ]
         },
         "error_y": {
          "array": [
           0.009171023622876253
          ]
         },
         "hovertemplate": "model=ll_swag<br>id 10th_percentile_acc=%{x}<br>id sece=%{y}<extra></extra>",
         "legendgroup": "ll_swag",
         "marker": {
          "color": "#FF6692",
          "symbol": "circle"
         },
         "mode": "markers",
         "name": "ll_swag",
         "orientation": "v",
         "showlegend": true,
         "type": "scatter",
         "x": [
          0.4744444439808528
         ],
         "xaxis": "x",
         "y": [
          -0.02986969216515462
         ],
         "yaxis": "y"
        },
        {
         "error_x": {
          "array": [
           0.008255189314647573
          ]
         },
         "error_y": {
          "array": [
           0.007244170013625019
          ]
         },
         "hovertemplate": "model=map<br>id 10th_percentile_acc=%{x}<br>id sece=%{y}<extra></extra>",
         "legendgroup": "map",
         "marker": {
          "color": "#B6E880",
          "symbol": "circle"
         },
         "mode": "markers",
         "name": "map",
         "orientation": "v",
         "showlegend": true,
         "type": "scatter",
         "x": [
          0.4766666640837987
         ],
         "xaxis": "x",
         "y": [
          -0.04926172413913164
         ],
         "yaxis": "y"
        },
        {
         "error_x": {
          "array": [
           0
          ]
         },
         "error_y": {
          "array": [
           0.001993864486195351
          ]
         },
         "hovertemplate": "model=map_5<br>id 10th_percentile_acc=%{x}<br>id sece=%{y}<extra></extra>",
         "legendgroup": "map_5",
         "marker": {
          "color": "#FF97FF",
          "symbol": "circle"
         },
         "mode": "markers",
         "name": "map_5",
         "orientation": "v",
         "showlegend": true,
         "type": "scatter",
         "x": [
          0.47999998927116394
         ],
         "xaxis": "x",
         "y": [
          -0.040308007882489436
         ],
         "yaxis": "y"
        },
        {
         "error_x": {
          "array": [
           0.012130967847492775
          ]
         },
         "error_y": {
          "array": [
           0.013184100068455695
          ]
         },
         "hovertemplate": "model=mcd<br>id 10th_percentile_acc=%{x}<br>id sece=%{y}<extra></extra>",
         "legendgroup": "mcd",
         "marker": {
          "color": "#FECB52",
          "symbol": "circle"
         },
         "mode": "markers",
         "name": "mcd",
         "orientation": "v",
         "showlegend": true,
         "type": "scatter",
         "x": [
          0.4722222238779068
         ],
         "xaxis": "x",
         "y": [
          -0.0023821545048178113
         ],
         "yaxis": "y"
        },
        {
         "error_x": {
          "array": [
           0.006531966418047261
          ]
         },
         "error_y": {
          "array": [
           0.0032874851002606593
          ]
         },
         "hovertemplate": "model=mcd_5<br>id 10th_percentile_acc=%{x}<br>id sece=%{y}<extra></extra>",
         "legendgroup": "mcd_5",
         "marker": {
          "color": "#636efa",
          "symbol": "circle"
         },
         "mode": "markers",
         "name": "mcd_5",
         "orientation": "v",
         "showlegend": true,
         "type": "scatter",
         "x": [
          0.4746666610240936
         ],
         "xaxis": "x",
         "y": [
          0.0051642301507905134
         ],
         "yaxis": "y"
        },
        {
         "error_x": {
          "array": [
           0.010703640967566192
          ]
         },
         "error_y": {
          "array": [
           0.00899994578994842
          ]
         },
         "hovertemplate": "model=mcd_ll<br>id 10th_percentile_acc=%{x}<br>id sece=%{y}<extra></extra>",
         "legendgroup": "mcd_ll",
         "marker": {
          "color": "#EF553B",
          "symbol": "circle"
         },
         "mode": "markers",
         "name": "mcd_ll",
         "orientation": "v",
         "showlegend": true,
         "type": "scatter",
         "x": [
          0.47777777910232544
         ],
         "xaxis": "x",
         "y": [
          -0.05130557149701564
         ],
         "yaxis": "y"
        },
        {
         "error_x": {
          "array": [
           0.0044444402058919285
          ]
         },
         "error_y": {
          "array": [
           0.0036388826785956783
          ]
         },
         "hovertemplate": "model=rank1<br>id 10th_percentile_acc=%{x}<br>id sece=%{y}<extra></extra>",
         "legendgroup": "rank1",
         "marker": {
          "color": "#00cc96",
          "symbol": "circle"
         },
         "mode": "markers",
         "name": "rank1",
         "orientation": "v",
         "showlegend": true,
         "type": "scatter",
         "x": [
          0.5577777822812399
         ],
         "xaxis": "x",
         "y": [
          -0.14726689917422542
         ],
         "yaxis": "y"
        },
        {
         "error_x": {
          "array": [
           0.009977753073879754
          ]
         },
         "error_y": {
          "array": [
           0.005000109966542319
          ]
         },
         "hovertemplate": "model=svgd<br>id 10th_percentile_acc=%{x}<br>id sece=%{y}<extra></extra>",
         "legendgroup": "svgd",
         "marker": {
          "color": "#ab63fa",
          "symbol": "circle"
         },
         "mode": "markers",
         "name": "svgd",
         "orientation": "v",
         "showlegend": true,
         "type": "scatter",
         "x": [
          0.4773333311080933
         ],
         "xaxis": "x",
         "y": [
          -0.03430070721131925
         ],
         "yaxis": "y"
        },
        {
         "error_x": {
          "array": [
           0.009737288786703423
          ]
         },
         "error_y": {
          "array": [
           0.0037033931935341385
          ]
         },
         "hovertemplate": "model=swag<br>id 10th_percentile_acc=%{x}<br>id sece=%{y}<extra></extra>",
         "legendgroup": "swag",
         "marker": {
          "color": "#FFA15A",
          "symbol": "circle"
         },
         "mode": "markers",
         "name": "swag",
         "orientation": "v",
         "showlegend": true,
         "type": "scatter",
         "x": [
          0.46000000337759656
         ],
         "xaxis": "x",
         "y": [
          0.04682777528252676
         ],
         "yaxis": "y"
        },
        {
         "error_x": {
          "array": [
           0.0053333282470703165
          ]
         },
         "error_y": {
          "array": [
           0.000677465973289363
          ]
         },
         "hovertemplate": "model=swag_5<br>id 10th_percentile_acc=%{x}<br>id sece=%{y}<extra></extra>",
         "legendgroup": "swag_5",
         "marker": {
          "color": "#19d3f3",
          "symbol": "circle"
         },
         "mode": "markers",
         "name": "swag_5",
         "orientation": "v",
         "showlegend": true,
         "type": "scatter",
         "x": [
          0.4693333327770233
         ],
         "xaxis": "x",
         "y": [
          0.056509053372092645
         ],
         "yaxis": "y"
        }
       ],
       "layout": {
        "legend": {
         "title": {
          "text": "model"
         },
         "tracegroupgap": 0
        },
        "margin": {
         "t": 60
        },
        "template": {
         "data": {
          "bar": [
           {
            "error_x": {
             "color": "#2a3f5f"
            },
            "error_y": {
             "color": "#2a3f5f"
            },
            "marker": {
             "line": {
              "color": "#E5ECF6",
              "width": 0.5
             },
             "pattern": {
              "fillmode": "overlay",
              "size": 10,
              "solidity": 0.2
             }
            },
            "type": "bar"
           }
          ],
          "barpolar": [
           {
            "marker": {
             "line": {
              "color": "#E5ECF6",
              "width": 0.5
             },
             "pattern": {
              "fillmode": "overlay",
              "size": 10,
              "solidity": 0.2
             }
            },
            "type": "barpolar"
           }
          ],
          "carpet": [
           {
            "aaxis": {
             "endlinecolor": "#2a3f5f",
             "gridcolor": "white",
             "linecolor": "white",
             "minorgridcolor": "white",
             "startlinecolor": "#2a3f5f"
            },
            "baxis": {
             "endlinecolor": "#2a3f5f",
             "gridcolor": "white",
             "linecolor": "white",
             "minorgridcolor": "white",
             "startlinecolor": "#2a3f5f"
            },
            "type": "carpet"
           }
          ],
          "choropleth": [
           {
            "colorbar": {
             "outlinewidth": 0,
             "ticks": ""
            },
            "type": "choropleth"
           }
          ],
          "contour": [
           {
            "colorbar": {
             "outlinewidth": 0,
             "ticks": ""
            },
            "colorscale": [
             [
              0,
              "#0d0887"
             ],
             [
              0.1111111111111111,
              "#46039f"
             ],
             [
              0.2222222222222222,
              "#7201a8"
             ],
             [
              0.3333333333333333,
              "#9c179e"
             ],
             [
              0.4444444444444444,
              "#bd3786"
             ],
             [
              0.5555555555555556,
              "#d8576b"
             ],
             [
              0.6666666666666666,
              "#ed7953"
             ],
             [
              0.7777777777777778,
              "#fb9f3a"
             ],
             [
              0.8888888888888888,
              "#fdca26"
             ],
             [
              1,
              "#f0f921"
             ]
            ],
            "type": "contour"
           }
          ],
          "contourcarpet": [
           {
            "colorbar": {
             "outlinewidth": 0,
             "ticks": ""
            },
            "type": "contourcarpet"
           }
          ],
          "heatmap": [
           {
            "colorbar": {
             "outlinewidth": 0,
             "ticks": ""
            },
            "colorscale": [
             [
              0,
              "#0d0887"
             ],
             [
              0.1111111111111111,
              "#46039f"
             ],
             [
              0.2222222222222222,
              "#7201a8"
             ],
             [
              0.3333333333333333,
              "#9c179e"
             ],
             [
              0.4444444444444444,
              "#bd3786"
             ],
             [
              0.5555555555555556,
              "#d8576b"
             ],
             [
              0.6666666666666666,
              "#ed7953"
             ],
             [
              0.7777777777777778,
              "#fb9f3a"
             ],
             [
              0.8888888888888888,
              "#fdca26"
             ],
             [
              1,
              "#f0f921"
             ]
            ],
            "type": "heatmap"
           }
          ],
          "heatmapgl": [
           {
            "colorbar": {
             "outlinewidth": 0,
             "ticks": ""
            },
            "colorscale": [
             [
              0,
              "#0d0887"
             ],
             [
              0.1111111111111111,
              "#46039f"
             ],
             [
              0.2222222222222222,
              "#7201a8"
             ],
             [
              0.3333333333333333,
              "#9c179e"
             ],
             [
              0.4444444444444444,
              "#bd3786"
             ],
             [
              0.5555555555555556,
              "#d8576b"
             ],
             [
              0.6666666666666666,
              "#ed7953"
             ],
             [
              0.7777777777777778,
              "#fb9f3a"
             ],
             [
              0.8888888888888888,
              "#fdca26"
             ],
             [
              1,
              "#f0f921"
             ]
            ],
            "type": "heatmapgl"
           }
          ],
          "histogram": [
           {
            "marker": {
             "pattern": {
              "fillmode": "overlay",
              "size": 10,
              "solidity": 0.2
             }
            },
            "type": "histogram"
           }
          ],
          "histogram2d": [
           {
            "colorbar": {
             "outlinewidth": 0,
             "ticks": ""
            },
            "colorscale": [
             [
              0,
              "#0d0887"
             ],
             [
              0.1111111111111111,
              "#46039f"
             ],
             [
              0.2222222222222222,
              "#7201a8"
             ],
             [
              0.3333333333333333,
              "#9c179e"
             ],
             [
              0.4444444444444444,
              "#bd3786"
             ],
             [
              0.5555555555555556,
              "#d8576b"
             ],
             [
              0.6666666666666666,
              "#ed7953"
             ],
             [
              0.7777777777777778,
              "#fb9f3a"
             ],
             [
              0.8888888888888888,
              "#fdca26"
             ],
             [
              1,
              "#f0f921"
             ]
            ],
            "type": "histogram2d"
           }
          ],
          "histogram2dcontour": [
           {
            "colorbar": {
             "outlinewidth": 0,
             "ticks": ""
            },
            "colorscale": [
             [
              0,
              "#0d0887"
             ],
             [
              0.1111111111111111,
              "#46039f"
             ],
             [
              0.2222222222222222,
              "#7201a8"
             ],
             [
              0.3333333333333333,
              "#9c179e"
             ],
             [
              0.4444444444444444,
              "#bd3786"
             ],
             [
              0.5555555555555556,
              "#d8576b"
             ],
             [
              0.6666666666666666,
              "#ed7953"
             ],
             [
              0.7777777777777778,
              "#fb9f3a"
             ],
             [
              0.8888888888888888,
              "#fdca26"
             ],
             [
              1,
              "#f0f921"
             ]
            ],
            "type": "histogram2dcontour"
           }
          ],
          "mesh3d": [
           {
            "colorbar": {
             "outlinewidth": 0,
             "ticks": ""
            },
            "type": "mesh3d"
           }
          ],
          "parcoords": [
           {
            "line": {
             "colorbar": {
              "outlinewidth": 0,
              "ticks": ""
             }
            },
            "type": "parcoords"
           }
          ],
          "pie": [
           {
            "automargin": true,
            "type": "pie"
           }
          ],
          "scatter": [
           {
            "fillpattern": {
             "fillmode": "overlay",
             "size": 10,
             "solidity": 0.2
            },
            "type": "scatter"
           }
          ],
          "scatter3d": [
           {
            "line": {
             "colorbar": {
              "outlinewidth": 0,
              "ticks": ""
             }
            },
            "marker": {
             "colorbar": {
              "outlinewidth": 0,
              "ticks": ""
             }
            },
            "type": "scatter3d"
           }
          ],
          "scattercarpet": [
           {
            "marker": {
             "colorbar": {
              "outlinewidth": 0,
              "ticks": ""
             }
            },
            "type": "scattercarpet"
           }
          ],
          "scattergeo": [
           {
            "marker": {
             "colorbar": {
              "outlinewidth": 0,
              "ticks": ""
             }
            },
            "type": "scattergeo"
           }
          ],
          "scattergl": [
           {
            "marker": {
             "colorbar": {
              "outlinewidth": 0,
              "ticks": ""
             }
            },
            "type": "scattergl"
           }
          ],
          "scattermapbox": [
           {
            "marker": {
             "colorbar": {
              "outlinewidth": 0,
              "ticks": ""
             }
            },
            "type": "scattermapbox"
           }
          ],
          "scatterpolar": [
           {
            "marker": {
             "colorbar": {
              "outlinewidth": 0,
              "ticks": ""
             }
            },
            "type": "scatterpolar"
           }
          ],
          "scatterpolargl": [
           {
            "marker": {
             "colorbar": {
              "outlinewidth": 0,
              "ticks": ""
             }
            },
            "type": "scatterpolargl"
           }
          ],
          "scatterternary": [
           {
            "marker": {
             "colorbar": {
              "outlinewidth": 0,
              "ticks": ""
             }
            },
            "type": "scatterternary"
           }
          ],
          "surface": [
           {
            "colorbar": {
             "outlinewidth": 0,
             "ticks": ""
            },
            "colorscale": [
             [
              0,
              "#0d0887"
             ],
             [
              0.1111111111111111,
              "#46039f"
             ],
             [
              0.2222222222222222,
              "#7201a8"
             ],
             [
              0.3333333333333333,
              "#9c179e"
             ],
             [
              0.4444444444444444,
              "#bd3786"
             ],
             [
              0.5555555555555556,
              "#d8576b"
             ],
             [
              0.6666666666666666,
              "#ed7953"
             ],
             [
              0.7777777777777778,
              "#fb9f3a"
             ],
             [
              0.8888888888888888,
              "#fdca26"
             ],
             [
              1,
              "#f0f921"
             ]
            ],
            "type": "surface"
           }
          ],
          "table": [
           {
            "cells": {
             "fill": {
              "color": "#EBF0F8"
             },
             "line": {
              "color": "white"
             }
            },
            "header": {
             "fill": {
              "color": "#C8D4E3"
             },
             "line": {
              "color": "white"
             }
            },
            "type": "table"
           }
          ]
         },
         "layout": {
          "annotationdefaults": {
           "arrowcolor": "#2a3f5f",
           "arrowhead": 0,
           "arrowwidth": 1
          },
          "autotypenumbers": "strict",
          "coloraxis": {
           "colorbar": {
            "outlinewidth": 0,
            "ticks": ""
           }
          },
          "colorscale": {
           "diverging": [
            [
             0,
             "#8e0152"
            ],
            [
             0.1,
             "#c51b7d"
            ],
            [
             0.2,
             "#de77ae"
            ],
            [
             0.3,
             "#f1b6da"
            ],
            [
             0.4,
             "#fde0ef"
            ],
            [
             0.5,
             "#f7f7f7"
            ],
            [
             0.6,
             "#e6f5d0"
            ],
            [
             0.7,
             "#b8e186"
            ],
            [
             0.8,
             "#7fbc41"
            ],
            [
             0.9,
             "#4d9221"
            ],
            [
             1,
             "#276419"
            ]
           ],
           "sequential": [
            [
             0,
             "#0d0887"
            ],
            [
             0.1111111111111111,
             "#46039f"
            ],
            [
             0.2222222222222222,
             "#7201a8"
            ],
            [
             0.3333333333333333,
             "#9c179e"
            ],
            [
             0.4444444444444444,
             "#bd3786"
            ],
            [
             0.5555555555555556,
             "#d8576b"
            ],
            [
             0.6666666666666666,
             "#ed7953"
            ],
            [
             0.7777777777777778,
             "#fb9f3a"
            ],
            [
             0.8888888888888888,
             "#fdca26"
            ],
            [
             1,
             "#f0f921"
            ]
           ],
           "sequentialminus": [
            [
             0,
             "#0d0887"
            ],
            [
             0.1111111111111111,
             "#46039f"
            ],
            [
             0.2222222222222222,
             "#7201a8"
            ],
            [
             0.3333333333333333,
             "#9c179e"
            ],
            [
             0.4444444444444444,
             "#bd3786"
            ],
            [
             0.5555555555555556,
             "#d8576b"
            ],
            [
             0.6666666666666666,
             "#ed7953"
            ],
            [
             0.7777777777777778,
             "#fb9f3a"
            ],
            [
             0.8888888888888888,
             "#fdca26"
            ],
            [
             1,
             "#f0f921"
            ]
           ]
          },
          "colorway": [
           "#636efa",
           "#EF553B",
           "#00cc96",
           "#ab63fa",
           "#FFA15A",
           "#19d3f3",
           "#FF6692",
           "#B6E880",
           "#FF97FF",
           "#FECB52"
          ],
          "font": {
           "color": "#2a3f5f"
          },
          "geo": {
           "bgcolor": "white",
           "lakecolor": "white",
           "landcolor": "#E5ECF6",
           "showlakes": true,
           "showland": true,
           "subunitcolor": "white"
          },
          "hoverlabel": {
           "align": "left"
          },
          "hovermode": "closest",
          "mapbox": {
           "style": "light"
          },
          "paper_bgcolor": "white",
          "plot_bgcolor": "#E5ECF6",
          "polar": {
           "angularaxis": {
            "gridcolor": "white",
            "linecolor": "white",
            "ticks": ""
           },
           "bgcolor": "#E5ECF6",
           "radialaxis": {
            "gridcolor": "white",
            "linecolor": "white",
            "ticks": ""
           }
          },
          "scene": {
           "xaxis": {
            "backgroundcolor": "#E5ECF6",
            "gridcolor": "white",
            "gridwidth": 2,
            "linecolor": "white",
            "showbackground": true,
            "ticks": "",
            "zerolinecolor": "white"
           },
           "yaxis": {
            "backgroundcolor": "#E5ECF6",
            "gridcolor": "white",
            "gridwidth": 2,
            "linecolor": "white",
            "showbackground": true,
            "ticks": "",
            "zerolinecolor": "white"
           },
           "zaxis": {
            "backgroundcolor": "#E5ECF6",
            "gridcolor": "white",
            "gridwidth": 2,
            "linecolor": "white",
            "showbackground": true,
            "ticks": "",
            "zerolinecolor": "white"
           }
          },
          "shapedefaults": {
           "line": {
            "color": "#2a3f5f"
           }
          },
          "ternary": {
           "aaxis": {
            "gridcolor": "white",
            "linecolor": "white",
            "ticks": ""
           },
           "baxis": {
            "gridcolor": "white",
            "linecolor": "white",
            "ticks": ""
           },
           "bgcolor": "#E5ECF6",
           "caxis": {
            "gridcolor": "white",
            "linecolor": "white",
            "ticks": ""
           }
          },
          "title": {
           "x": 0.05
          },
          "xaxis": {
           "automargin": true,
           "gridcolor": "white",
           "linecolor": "white",
           "ticks": "",
           "title": {
            "standoff": 15
           },
           "zerolinecolor": "white",
           "zerolinewidth": 2
          },
          "yaxis": {
           "automargin": true,
           "gridcolor": "white",
           "linecolor": "white",
           "ticks": "",
           "title": {
            "standoff": 15
           },
           "zerolinecolor": "white",
           "zerolinewidth": 2
          }
         }
        },
        "xaxis": {
         "anchor": "y",
         "domain": [
          0,
          1
         ],
         "title": {
          "text": "id 10th_percentile_acc"
         }
        },
        "yaxis": {
         "anchor": "x",
         "domain": [
          0,
          1
         ],
         "title": {
          "text": "id sece"
         }
        }
       }
      }
     },
     "metadata": {},
     "output_type": "display_data"
    }
   ],
   "source": [
    "pareto_plot(data, \"id 10th_percentile_acc\", \"id sece\")"
   ]
  },
  {
   "cell_type": "code",
   "execution_count": 11,
   "metadata": {},
   "outputs": [
    {
     "data": {
      "text/plain": [
       "'model,model,ood 10th_percentile_acc,ood 10th_percentile_acc_std,ood accuracy,ood accuracy_std,ood log likelihood,ood log likelihood_std,ood sece,ood sece_std,ood ece,ood ece_std,id 10th_percentile_acc,id 10th_percentile_acc_std,id accuracy,id accuracy_std,id log likelihood,id log likelihood_std,id sece,id sece_std,id ece,id ece_std\\nbbb,bbb,0.526666671037674,0.005962868909391993,0.6952840288480123,0.0074301630236107774,-0.8976268370946249,0.018957477938627728,-0.1542534022557225,0.0053372576004840945,0.15426780016148625,0.005334186039254019,0.5600000023841858,0.0,0.7304011285305023,0.006394461072875588,-0.778404027223587,0.014730367097626311,-0.12771731354798732,0.0038216606073879565,0.127718534245611,0.0038234245204340936\\nbbb_5,bbb_5,0.5333333611488342,0.0,0.7092373847961426,0.0017189139319656723,-0.7477477192878723,0.0013106337875799705,-0.10506073958474,0.0012057160544015242,0.10507805465207228,0.0012006995731298447,0.5733333230018616,0.0,0.7464536786079407,0.0012479995936486932,-0.6476107478141785,0.001506455473896474,-0.07881282040556145,0.0016084724163617325,0.07884341927731253,0.0015994024004366823\\nlaplace_1,laplace_1,0.45500000193715096,0.009343533184689718,0.6538555696606636,0.0027675886960508256,-0.8162718117237091,0.006180984890090054,-0.0671622140144651,0.0061389661816314426,0.06717186475895914,0.006132405137228728,0.4816666692495346,0.009343533564406462,0.6776544153690338,0.0017217540037392396,-0.7564932256937027,0.004184002603182532,-0.04818365475676629,0.006951837440037223,0.04822484902513865,0.00697230231749963\\nlaplace_5,laplace_5,0.4533333480358124,0.0,0.6588362966264997,0.0005940546426287896,-0.8002534253256661,0.0012069681238422684,-0.058316683030391454,0.0013968851051445537,0.058316683030391454,0.0013968851051445537,0.47999998927116394,0.0,0.6819443191800799,0.0003235806738160838,-0.7419245498520988,0.0007993827583381322,-0.040415932998553124,0.001690682648318642,0.04042172582390173,0.0016952206160413667\\nll_ivon,ll_ivon,0.4584444458285968,0.01045153512609504,0.6613159974416097,0.0022131204276908596,-0.7938878039518992,0.008097205437040846,-0.053443242825484565,0.010477033952890605,0.053454617555267946,0.010470431290555597,0.48444444437821704,0.008888892332714816,0.6838622589906057,0.002238435175534332,-0.7367633382479349,0.005635564317447004,-0.03724130562594227,0.010398140416996384,0.03743610533535544,0.010355024500247985\\nll_ivon_5,ll_ivon_5,0.4586666762828827,0.006531966418047266,0.6647396326065064,0.0007358689300146806,-0.779268741607666,0.0010750304670438218,-0.04475562251394597,0.002133354489072062,0.04475562251394597,0.002133354489072062,0.4839999943971634,0.005333340167999267,0.6873525142669678,0.0009922251927750138,-0.7237802028656006,0.0005489977476927899,-0.028628446381059065,0.002169336899844546,0.02925766177642079,0.0025281640819430863\\nll_swag,ll_swag,0.4517777840296428,0.011733669976662944,0.655690481265386,0.0029157135866144366,-0.8015644550323486,0.006416733109766244,-0.047701638547600296,0.00871829851073035,0.04773104805849938,0.00871979100738168,0.4744444439808528,0.009987644680868867,0.6786190966765085,0.0019135271740896235,-0.746731678644816,0.004581210811536007,-0.02986969216515462,0.009171023622876253,0.031184905421439747,0.00818411814867412\\nmap,map,0.4533333381017049,0.00973729150727117,0.6551690797011057,0.0031630071390983706,-0.8149656653404236,0.007054073649513725,-0.06746903253020137,0.006491595755687658,0.06749480899849693,0.0064695888537291465,0.4766666640837987,0.008255189314647573,0.6783457696437836,0.0019742448040936987,-0.7552566528320312,0.005474876985838011,-0.04926172413913164,0.007244170013625019,0.04931563290015239,0.00724548315417883\\nmap_5,map_5,0.4533333480358124,0.0,0.658802604675293,0.0007228895172461732,-0.8004043579101563,0.0014837870788407899,-0.05843872119277075,0.0016050763784140058,0.05843872119277075,0.0016050763784140058,0.47999998927116394,0.0,0.6821256637573242,0.0004392681457776624,-0.7419256329536438,0.0010576269980514395,-0.040308007882489436,0.001993864486195351,0.040308007882489436,0.001993864486195351\\nmcd,mcd,0.446666677792867,0.013333332538605334,0.6566333472728729,0.00200144344384959,-0.7885820468266805,0.003968863674055034,-0.019232059775536884,0.012343487033335834,0.020421867086408575,0.01134041963617672,0.4722222238779068,0.012130967847492775,0.6782889664173126,0.0012080060130097432,-0.7406408687432607,0.0027571570880914782,-0.0023821545048178113,0.013184100068455695,0.014871030093657027,0.006280252252149056\\nmcd_5,mcd_5,0.45066667795181276,0.005333340167999267,0.6602758765220642,0.0006428765701784854,-0.779840350151062,0.0005056919437451382,-0.011670562507002904,0.0027318543163322947,0.011670562507002904,0.0027318543163322947,0.4746666610240936,0.006531966418047261,0.6820745468139648,0.0004569217923620477,-0.7325128078460693,0.0004998317850385519,0.0051642301507905134,0.0032874851002606593,0.006729515375928504,0.002343431057737117\\nmcd_ll,mcd_ll,0.45111111799875897,0.008195153588255066,0.656035304069519,0.002874353033215636,-0.8161853551864624,0.011162845112523058,-0.06910873627220315,0.008457591606669273,0.06910873627220315,0.008457591606669273,0.47777777910232544,0.010703640967566192,0.6785977979501089,0.0022419920266709354,-0.7562393645445505,0.008858649301190472,-0.05130557149701564,0.00899994578994842,0.05134235974698783,0.009055034618657384\\nrank1,rank1,0.52733334004879,0.00549749350031491,0.6951524217923483,0.002530089072699315,-0.9228206475575765,0.015020278439090476,-0.17300499889713547,0.0043498630352614195,0.1730099965225984,0.004349625680957399,0.5577777822812399,0.0044444402058919285,0.7288569410641988,0.0032098454154479484,-0.8006502290566763,0.009631757993518321,-0.14726689917422542,0.0036388826785956783,0.14726689917422542,0.0036388826785956783\\nsvgd,svgd,0.45600000619888303,0.009977753073879754,0.6613513231277466,0.0027881140001650914,-0.7926101088523865,0.011075620549419239,-0.04939130754592358,0.004866099292841409,0.04939130754592358,0.004866099292841409,0.4773333311080933,0.009977753073879754,0.6817721009254456,0.00225673744290396,-0.7395626425743103,0.008227353808643674,-0.03430070721131925,0.005000109966542319,0.034529074694592356,0.005143808467178209\\nswag,swag,0.4355555574099223,0.011243657316521351,0.6388322512308756,0.006322120224000572,-0.8404782712459564,0.01400703640354587,0.031194759289930013,0.0035244380406889604,0.0317233766969613,0.003119149589876297,0.46000000337759656,0.009737288786703423,0.6577422817548116,0.0064820205770627385,-0.8066433966159821,0.015010464590502332,0.04682777528252676,0.0037033931935341385,0.047021745717510666,0.0037623238605571253\\nswag_5,swag_5,0.44266666769981383,0.005333340167999267,0.6463188529014587,0.0014688021691901334,-0.8277197480201721,0.0022320180379262543,0.03976513140032376,0.0010473043778026969,0.03992169925172826,0.000977804468693478,0.4693333327770233,0.0053333282470703165,0.6665857315063477,0.0012174871993129984,-0.7955023288726807,0.002890555564991607,0.056509053372092645,0.000677465973289363,0.05661340186402948,0.0007759548150123491\\n'"
      ]
     },
     "execution_count": 11,
     "metadata": {},
     "output_type": "execute_result"
    }
   ],
   "source": [
    "data.to_csv(sep=\",\", header=True)"
   ]
  },
  {
   "cell_type": "code",
   "execution_count": 13,
   "metadata": {},
   "outputs": [
    {
     "name": "stdout",
     "output_type": "stream",
     "text": [
      "\\begin{tabular}{l|rrrrrrrr}\n",
      "    \\multicolumn{1}{l}{Model} & \\multicolumn{1}{c}{o.o.d. 10 Accuracy} & \\multicolumn{1}{c}{o.o.d. Accuracy} & \\multicolumn{1}{c}{o.o.d. ECE} & \\multicolumn{1}{c}{o.o.d. sECE} & \\multicolumn{1}{c}{i.d. 10 Accuracy} & \\multicolumn{1}{c}{i.d. Avg Accuracy} & \\multicolumn{1}{c}{i.d. Avg ECE} & \\multicolumn{1}{c}{i.d. Avg sECE} \\\\\n",
      "    \\hline\n",
      "    MAP & $0.453 \\pm 0.010$ & $0.655 \\pm 0.003$ & $0.067 \\pm 0.006$ & $-0.067 \\pm 0.006$ & $0.477 \\pm 0.008$ & $0.678 \\pm 0.002$ & $0.049 \\pm 0.007$ & $-0.049 \\pm 0.007$ \\\\\n",
      "    Deep Ensemble & $0.453 \\pm 0.000$ & $0.659 \\pm 0.001$ & $0.058 \\pm 0.002$ & $-0.058 \\pm 0.002$ & $0.480 \\pm 0.000$ & $0.682 \\pm 0.000$ & $0.040 \\pm 0.002$ & $-0.040 \\pm 0.002$ \\\\\n",
      "    MCD & $0.447 \\pm 0.013$ & $0.657 \\pm 0.002$ & $0.020 \\pm 0.011$ & $-0.019 \\pm 0.012$ & $0.472 \\pm 0.012$ & $0.678 \\pm 0.001$ & $0.015 \\pm 0.006$ & $\\bm{-0.002 \\pm 0.013}$ \\\\\n",
      "    MultiMCD & $0.451 \\pm 0.005$ & $0.660 \\pm 0.001$ & $\\bm{0.012 \\pm 0.003}$ & $\\bm{-0.012 \\pm 0.003}$ & $0.475 \\pm 0.007$ & $0.682 \\pm 0.000$ & $\\bm{0.007 \\pm 0.002}$ & $\\bm{0.005 \\pm 0.003}$ \\\\\n",
      "    LL MCD & $0.451 \\pm 0.008$ & $0.656 \\pm 0.003$ & $0.069 \\pm 0.008$ & $-0.069 \\pm 0.008$ & $0.478 \\pm 0.011$ & $0.679 \\pm 0.002$ & $0.051 \\pm 0.009$ & $-0.051 \\pm 0.009$ \\\\\n",
      "    SWAG & $0.436 \\pm 0.011$ & $0.639 \\pm 0.006$ & $0.032 \\pm 0.003$ & $0.031 \\pm 0.004$ & $0.460 \\pm 0.010$ & $0.658 \\pm 0.006$ & $0.047 \\pm 0.004$ & $0.047 \\pm 0.004$ \\\\\n",
      "    MultiSWAG & $0.443 \\pm 0.005$ & $0.646 \\pm 0.001$ & $0.040 \\pm 0.001$ & $0.040 \\pm 0.001$ & $0.469 \\pm 0.005$ & $0.667 \\pm 0.001$ & $0.057 \\pm 0.001$ & $0.057 \\pm 0.001$ \\\\\n",
      "    LL SWAG & $0.452 \\pm 0.012$ & $0.656 \\pm 0.003$ & $0.048 \\pm 0.009$ & $-0.048 \\pm 0.009$ & $0.474 \\pm 0.010$ & $0.679 \\pm 0.002$ & $0.031 \\pm 0.008$ & $-0.030 \\pm 0.009$ \\\\\n",
      "    LL Laplace & $0.455 \\pm 0.009$ & $0.654 \\pm 0.003$ & $0.067 \\pm 0.006$ & $-0.067 \\pm 0.006$ & $0.482 \\pm 0.009$ & $0.678 \\pm 0.002$ & $0.048 \\pm 0.007$ & $-0.048 \\pm 0.007$ \\\\\n",
      "    LL MultiLaplace & $0.453 \\pm 0.000$ & $0.659 \\pm 0.001$ & $0.058 \\pm 0.001$ & $-0.058 \\pm 0.001$ & $0.480 \\pm 0.000$ & $0.682 \\pm 0.000$ & $0.040 \\pm 0.002$ & $-0.040 \\pm 0.002$ \\\\\n",
      "    LL BBB & $0.527 \\pm 0.006$ & $0.695 \\pm 0.007$ & $0.154 \\pm 0.005$ & $-0.154 \\pm 0.005$ & $0.560 \\pm 0.000$ & $0.730 \\pm 0.006$ & $0.128 \\pm 0.004$ & $-0.128 \\pm 0.004$ \\\\\n",
      "    LL MultiBBB & $\\bm{0.533 \\pm 0.000}$ & $\\bm{0.709 \\pm 0.002}$ & $0.105 \\pm 0.001$ & $-0.105 \\pm 0.001$ & $\\bm{0.573 \\pm 0.000}$ & $\\bm{0.746 \\pm 0.001}$ & $0.079 \\pm 0.002$ & $-0.079 \\pm 0.002$ \\\\\n",
      "    Rank-1 VI & $0.527 \\pm 0.005$ & $0.695 \\pm 0.003$ & $0.173 \\pm 0.004$ & $-0.173 \\pm 0.004$ & $0.558 \\pm 0.004$ & $0.729 \\pm 0.003$ & $0.147 \\pm 0.004$ & $-0.147 \\pm 0.004$ \\\\\n",
      "    LL iVON & $0.458 \\pm 0.010$ & $0.661 \\pm 0.002$ & $0.053 \\pm 0.010$ & $-0.053 \\pm 0.010$ & $0.484 \\pm 0.009$ & $0.684 \\pm 0.002$ & $0.037 \\pm 0.010$ & $-0.037 \\pm 0.010$ \\\\\n",
      "    LL MultiiVON & $0.459 \\pm 0.007$ & $0.665 \\pm 0.001$ & $0.045 \\pm 0.002$ & $-0.045 \\pm 0.002$ & $0.484 \\pm 0.005$ & $0.687 \\pm 0.001$ & $0.029 \\pm 0.003$ & $-0.029 \\pm 0.002$ \\\\\n",
      "    SVGD & $0.456 \\pm 0.010$ & $0.661 \\pm 0.003$ & $0.049 \\pm 0.005$ & $-0.049 \\pm 0.005$ & $0.477 \\pm 0.010$ & $0.682 \\pm 0.002$ & $0.035 \\pm 0.005$ & $-0.034 \\pm 0.005$ \\\\\n",
      "\\end{tabular}\n"
     ]
    }
   ],
   "source": [
    "algo_names = [\n",
    "    (\"map\", \"MAP\"),\n",
    "    (\"map_5\", \"Deep Ensemble\"),\n",
    "    (\"mcd\", \"MCD\"),\n",
    "    (\"mcd_5\", \"MultiMCD\"),\n",
    "    (\"mcd_ll\", \"LL MCD\"),\n",
    "    (\"swag\", \"SWAG\"),\n",
    "    (\"swag_5\", \"MultiSWAG\"),\n",
    "    (\"ll_swag\", \"LL SWAG\"),\n",
    "    (\"laplace_1\", \"LL Laplace\"),\n",
    "    (\"laplace_5\", \"LL MultiLaplace\"),\n",
    "    (\"bbb\", \"LL BBB\"),\n",
    "    (\"bbb_5\", \"LL MultiBBB\"),\n",
    "    (\"rank1\", \"Rank-1 VI\"),\n",
    "    (\"ll_ivon\", \"LL iVON\"),\n",
    "    (\"ll_ivon_5\", \"LL MultiiVON\"),\n",
    "    (\"svgd\", \"SVGD\"),\n",
    "]\n",
    "\n",
    "def num(value, std, best=None, ty=None):\n",
    "    value = float(value)\n",
    "    std = float(std)\n",
    "    num_string = f\"{value:.3f} \\\\pm {std:.3f}\"\n",
    "\n",
    "    if best is None or ty is None:\n",
    "        return f\"${num_string}$\"\n",
    "\n",
    "    if ty == \"max\":\n",
    "        if value >= best:\n",
    "            num_string = f\"\\\\bm{{{num_string}}}\"\n",
    "    elif ty == \"min\":\n",
    "        if value <= best:\n",
    "            num_string = f\"\\\\bm{{{num_string}}}\"\n",
    "    elif ty == \"zero\":\n",
    "        if abs(value) <= best:\n",
    "            num_string = f\"\\\\bm{{{num_string}}}\"\n",
    "    return f\"${num_string}$\"\n",
    "\n",
    "def col_name(name, align):\n",
    "    return f\"\\\\multicolumn{{1}}{{{align}}}{{{name}}}\"\n",
    "\n",
    "def create_table(data, prefix):\n",
    "    print(\"\\\\begin{tabular}{l|rrrrrrrr}\")\n",
    "    print(f\"    {col_name('Model', 'l')} & {col_name('o.o.d. 10 Accuracy', 'c')} & {col_name('o.o.d. Accuracy', 'c')} & {col_name('o.o.d. ECE', 'c')} & {col_name('o.o.d. sECE', 'c')} & {col_name('i.d. 10 Accuracy', 'c')} & {col_name('i.d. Avg Accuracy', 'c')} & {col_name('i.d. Avg ECE', 'c')} & {col_name('i.d. Avg sECE', 'c')} \\\\\\\\\")\n",
    "    print(\"    \\\\hline\")\n",
    "\n",
    "    best_perc, best_perc_std = 0, 0\n",
    "    best_acc, best_acc_std = 0, 0\n",
    "    best_ece, best_ece_std = 1000, 0\n",
    "    best_sece, best_sece_std = 1000, 0\n",
    "    best_avg_perc, best_avg_perc_std = 0, 0\n",
    "    best_avg_acc, best_avg_acc_std = 0, 0\n",
    "    best_avg_ece, best_avg_ece_std = 1000, 0\n",
    "    best_avg_sece, best_avg_sece_std = 1000, 0\n",
    "\n",
    "    for algo, name in algo_names:\n",
    "        row = data[data[\"model\"] == algo]\n",
    "\n",
    "        if float(row[prefix + \"ood 10th_percentile_acc\"]) > best_perc:\n",
    "            best_perc = float(row[prefix + \"ood 10th_percentile_acc\"])\n",
    "            best_perc_std = float(row[prefix + \"ood 10th_percentile_acc_std\"])\n",
    "\n",
    "        if float(row[prefix + \"ood accuracy\"]) > best_acc:\n",
    "            best_acc = float(row[prefix + \"ood accuracy\"])\n",
    "            best_acc_std = float(row[prefix + \"ood accuracy_std\"])\n",
    "        \n",
    "        if float(row[prefix + \"ood ece\"]) < best_ece:\n",
    "            best_ece = float(row[prefix + \"ood ece\"])\n",
    "            best_ece_std = float(row[prefix + \"ood ece_std\"])\n",
    "        \n",
    "        if abs(float(row[prefix + \"ood sece\"])) < best_sece:\n",
    "            best_sece = abs(float(row[prefix + \"ood sece\"]))\n",
    "            best_sece_std = float(row[prefix + \"ood sece_std\"])\n",
    "\n",
    "        if float(row[prefix + \"id 10th_percentile_acc\"]) > best_avg_perc:\n",
    "            best_avg_perc = float(row[prefix + \"id 10th_percentile_acc\"])\n",
    "            best_avg_perc_std = float(row[prefix + \"id 10th_percentile_acc_std\"])\n",
    "        \n",
    "        if float(row[prefix + \"id accuracy\"]) > best_avg_acc:\n",
    "            best_avg_acc = float(row[prefix + \"id accuracy\"])\n",
    "            best_avg_acc_std = float(row[prefix + \"id accuracy_std\"])\n",
    "        \n",
    "        if float(row[prefix + \"id ece\"]) < best_avg_ece:\n",
    "            best_avg_ece = float(row[prefix + \"id ece\"])\n",
    "            best_avg_ece_std = float(row[prefix + \"id ece_std\"])\n",
    "        \n",
    "        if abs(float(row[prefix + \"id sece\"])) < best_avg_sece:\n",
    "            best_avg_sece = abs(float(row[prefix + \"id sece\"]))\n",
    "            best_avg_sece_std = float(row[prefix + \"id sece_std\"])\n",
    "\n",
    "    best_perc -= best_perc_std\n",
    "    best_acc -= best_acc_std\n",
    "    best_ece += best_ece_std\n",
    "    best_sece = abs(best_sece) + best_sece_std\n",
    "\n",
    "    best_avg_perc -= best_avg_perc_std\n",
    "    best_avg_acc -= best_avg_acc_std\n",
    "    best_avg_ece += best_avg_ece_std\n",
    "    best_avg_sece = abs(best_avg_sece) + best_avg_sece_std\n",
    "\n",
    "    for algo, name in algo_names:\n",
    "        row = data[data[\"model\"] == algo]\n",
    "        print(f\"    {name} & {num(row[prefix + 'ood 10th_percentile_acc'], row[prefix + 'ood 10th_percentile_acc_std'], best_perc, 'max')} & {num(row[prefix + 'ood accuracy'], row[prefix + 'ood accuracy_std'], best_acc, 'max')} & {num(row[prefix + 'ood ece'], row[prefix + 'ood ece_std'], best_ece, 'min')} & {num(row[prefix + 'ood sece'], row[prefix + 'ood sece_std'], best_sece, 'zero')} & {num(row[prefix + 'id 10th_percentile_acc'], row[prefix + 'id 10th_percentile_acc_std'], best_avg_perc, 'max')} & {num(row[prefix + 'id accuracy'], row[prefix + 'id accuracy_std'], best_avg_acc, 'max')} & {num(row[prefix + 'id ece'], row[prefix + 'id ece_std'], best_avg_ece, 'min')} & {num(row[prefix + 'id sece'], row[prefix + 'id sece_std'], best_avg_sece, 'zero')} \\\\\\\\\")\n",
    "    print(\"\\\\end{tabular}\")\n",
    "create_table(data, \"\")"
   ]
  },
  {
   "cell_type": "code",
   "execution_count": null,
   "metadata": {},
   "outputs": [],
   "source": []
  }
 ],
 "metadata": {
  "kernelspec": {
   "display_name": "bdl2",
   "language": "python",
   "name": "python3"
  },
  "language_info": {
   "codemirror_mode": {
    "name": "ipython",
    "version": 3
   },
   "file_extension": ".py",
   "mimetype": "text/x-python",
   "name": "python",
   "nbconvert_exporter": "python",
   "pygments_lexer": "ipython3",
   "version": "3.10.10"
  },
  "orig_nbformat": 4
 },
 "nbformat": 4,
 "nbformat_minor": 2
}
