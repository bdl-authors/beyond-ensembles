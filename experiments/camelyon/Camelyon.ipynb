{
 "cells": [
  {
   "cell_type": "code",
   "execution_count": 1,
   "metadata": {},
   "outputs": [
    {
     "name": "stderr",
     "output_type": "stream",
     "text": [
      "Failed to detect the name of this notebook, you can set it manually with the WANDB_NOTEBOOK_NAME environment variable to enable code saving.\n"
     ]
    }
   ],
   "source": [
    "%load_ext autoreload\n",
    "%autoreload 2\n",
    "\n",
    "import sys\n",
    "sys.path.append(\"../../\")\n",
    "\n",
    "import torch\n",
    "import torch.nn as nn\n",
    "import torch.nn.functional as F\n",
    "\n",
    "\n",
    "if torch.cuda.is_available():\n",
    "    device = torch.device(\"cuda\")\n",
    "else:\n",
    "    device = torch.device(\"cpu\")\n",
    "\n",
    "from src.log_mock import PrintLog\n",
    "log = PrintLog()\n",
    "\n",
    "import wandb\n",
    "wandb.init(mode=\"disabled\")\n",
    "\n",
    "import experiments.base.multiclass_classification as exp"
   ]
  },
  {
   "cell_type": "code",
   "execution_count": 2,
   "metadata": {},
   "outputs": [],
   "source": [
    "wapi = wandb.Api()\n",
    "runs = wapi.runs(\"foobar/camelyon17\")"
   ]
  },
  {
   "cell_type": "code",
   "execution_count": 13,
   "metadata": {},
   "outputs": [],
   "source": [
    "import plotly.express as px\n",
    "import pandas as pd\n",
    "import dateutil\n",
    "import datetime\n",
    "import json\n",
    "\n",
    "def create_plot_data_for_run(run):\n",
    "    model_name = run.name.split(\"-\")[0]\n",
    "    if \"bn-static\" in run.tags:\n",
    "        model_name += \" (static bn)\"\n",
    "\n",
    "    results = run.summary[\"test_results\"]\n",
    "\n",
    "    return {\n",
    "        \"model\": model_name,\n",
    "        \"accuracy\": results[\"accuracy\"],\n",
    "        \"ece\": results[\"ece\"],\n",
    "        \"sece\": results[\"sece\"],\n",
    "        \"log likelihood\": results[\"log_likelihood\"]\n",
    "    }\n",
    "\n",
    "def plot(data, value):\n",
    "    plot = px.box(data, x=\"model\", y=value, color=\"model\")\n",
    "    return plot\n",
    "\n",
    "def pareto_plot(data):\n",
    "    plot = px.scatter(data, x=f\"accuracy\", error_x=f\"accuracy_std\", y=f\"sece\", error_y=f\"sece_std\", color=\"model\")\n",
    "    return plot\n",
    "\n",
    "def build_data(runs):\n",
    "    rows = []\n",
    "    for run in runs:\n",
    "        if dateutil.parser.parse(run.created_at) < datetime.datetime(2023, 3, 10, 10, 0):\n",
    "            continue\n",
    "        if run.state != \"finished\":\n",
    "            continue\n",
    "        if \"old\" in run.tags:\n",
    "            continue\n",
    "        # if not \"bn-static\" in run.tags:\n",
    "        #     continue\n",
    "        if \"swag\" in run.name or \"ivon\" in run.name:\n",
    "            continue\n",
    "        rows.append(create_plot_data_for_run(run))\n",
    "    return pd.DataFrame.from_dict(rows)\n",
    "\n",
    "def aggregate_data(data):\n",
    "    aggregated_data = data.groupby([\"model\"]).agg({\n",
    "        \"model\": \"first\",\n",
    "        \"accuracy\": [\"mean\", \"sem\"], \n",
    "        \"sece\": [\"mean\", \"sem\"],\n",
    "        \"ece\": [\"mean\", \"sem\"], \n",
    "        \"log likelihood\": [\"mean\", \"sem\"]\n",
    "    })\n",
    "    aggregated_data.columns = [a[0] + \"_std\" if a[1] == \"sem\" else a[0] for a in aggregated_data.columns.to_flat_index()]\n",
    "    aggregated_data[\"accuracy_std\"] *= 2.0\n",
    "    aggregated_data[\"sece_std\"] *= 2.0\n",
    "    aggregated_data[\"ece_std\"] *= 2.0\n",
    "    aggregated_data[\"log likelihood_std\"] *= 2.0\n",
    "    return aggregated_data"
   ]
  },
  {
   "cell_type": "code",
   "execution_count": 14,
   "metadata": {},
   "outputs": [],
   "source": [
    "data = aggregate_data(build_data(runs))\n"
   ]
  },
  {
   "cell_type": "code",
   "execution_count": 16,
   "metadata": {},
   "outputs": [
    {
     "data": {
      "text/html": [
       "<div>\n",
       "<style scoped>\n",
       "    .dataframe tbody tr th:only-of-type {\n",
       "        vertical-align: middle;\n",
       "    }\n",
       "\n",
       "    .dataframe tbody tr th {\n",
       "        vertical-align: top;\n",
       "    }\n",
       "\n",
       "    .dataframe thead th {\n",
       "        text-align: right;\n",
       "    }\n",
       "</style>\n",
       "<table border=\"1\" class=\"dataframe\">\n",
       "  <thead>\n",
       "    <tr style=\"text-align: right;\">\n",
       "      <th></th>\n",
       "      <th>model</th>\n",
       "      <th>accuracy</th>\n",
       "      <th>accuracy_std</th>\n",
       "      <th>sece</th>\n",
       "      <th>sece_std</th>\n",
       "      <th>ece</th>\n",
       "      <th>ece_std</th>\n",
       "      <th>log likelihood</th>\n",
       "      <th>log likelihood_std</th>\n",
       "    </tr>\n",
       "    <tr>\n",
       "      <th>model</th>\n",
       "      <th></th>\n",
       "      <th></th>\n",
       "      <th></th>\n",
       "      <th></th>\n",
       "      <th></th>\n",
       "      <th></th>\n",
       "      <th></th>\n",
       "      <th></th>\n",
       "      <th></th>\n",
       "    </tr>\n",
       "  </thead>\n",
       "  <tbody>\n",
       "    <tr>\n",
       "      <th>bbb</th>\n",
       "      <td>bbb</td>\n",
       "      <td>0.647771</td>\n",
       "      <td>0.116195</td>\n",
       "      <td>-0.191454</td>\n",
       "      <td>0.095488</td>\n",
       "      <td>0.191454</td>\n",
       "      <td>0.095488</td>\n",
       "      <td>-0.920021</td>\n",
       "      <td>0.292906</td>\n",
       "    </tr>\n",
       "    <tr>\n",
       "      <th>bbb (static bn)</th>\n",
       "      <td>bbb (static bn)</td>\n",
       "      <td>0.882211</td>\n",
       "      <td>0.008239</td>\n",
       "      <td>-0.053401</td>\n",
       "      <td>0.004032</td>\n",
       "      <td>0.053401</td>\n",
       "      <td>0.004032</td>\n",
       "      <td>-0.370274</td>\n",
       "      <td>0.021842</td>\n",
       "    </tr>\n",
       "    <tr>\n",
       "      <th>map</th>\n",
       "      <td>map</td>\n",
       "      <td>0.716446</td>\n",
       "      <td>0.084545</td>\n",
       "      <td>-0.170425</td>\n",
       "      <td>0.082888</td>\n",
       "      <td>0.170425</td>\n",
       "      <td>0.082888</td>\n",
       "      <td>-0.778738</td>\n",
       "      <td>0.299164</td>\n",
       "    </tr>\n",
       "    <tr>\n",
       "      <th>map (static bn)</th>\n",
       "      <td>map (static bn)</td>\n",
       "      <td>0.898100</td>\n",
       "      <td>0.011371</td>\n",
       "      <td>-0.041259</td>\n",
       "      <td>0.007412</td>\n",
       "      <td>0.041259</td>\n",
       "      <td>0.007412</td>\n",
       "      <td>-0.271398</td>\n",
       "      <td>0.025764</td>\n",
       "    </tr>\n",
       "    <tr>\n",
       "      <th>mcd</th>\n",
       "      <td>mcd</td>\n",
       "      <td>0.535775</td>\n",
       "      <td>0.068229</td>\n",
       "      <td>-0.352887</td>\n",
       "      <td>0.074514</td>\n",
       "      <td>0.353839</td>\n",
       "      <td>0.075575</td>\n",
       "      <td>-1.224998</td>\n",
       "      <td>0.315817</td>\n",
       "    </tr>\n",
       "    <tr>\n",
       "      <th>mcd (static bn)</th>\n",
       "      <td>mcd (static bn)</td>\n",
       "      <td>0.880525</td>\n",
       "      <td>0.038901</td>\n",
       "      <td>-0.048554</td>\n",
       "      <td>0.027276</td>\n",
       "      <td>0.048554</td>\n",
       "      <td>0.027276</td>\n",
       "      <td>-0.305738</td>\n",
       "      <td>0.084126</td>\n",
       "    </tr>\n",
       "  </tbody>\n",
       "</table>\n",
       "</div>"
      ],
      "text/plain": [
       "                           model  accuracy  accuracy_std      sece  sece_std  \\\n",
       "model                                                                          \n",
       "bbb                          bbb  0.647771      0.116195 -0.191454  0.095488   \n",
       "bbb (static bn)  bbb (static bn)  0.882211      0.008239 -0.053401  0.004032   \n",
       "map                          map  0.716446      0.084545 -0.170425  0.082888   \n",
       "map (static bn)  map (static bn)  0.898100      0.011371 -0.041259  0.007412   \n",
       "mcd                          mcd  0.535775      0.068229 -0.352887  0.074514   \n",
       "mcd (static bn)  mcd (static bn)  0.880525      0.038901 -0.048554  0.027276   \n",
       "\n",
       "                      ece   ece_std  log likelihood  log likelihood_std  \n",
       "model                                                                    \n",
       "bbb              0.191454  0.095488       -0.920021            0.292906  \n",
       "bbb (static bn)  0.053401  0.004032       -0.370274            0.021842  \n",
       "map              0.170425  0.082888       -0.778738            0.299164  \n",
       "map (static bn)  0.041259  0.007412       -0.271398            0.025764  \n",
       "mcd              0.353839  0.075575       -1.224998            0.315817  \n",
       "mcd (static bn)  0.048554  0.027276       -0.305738            0.084126  "
      ]
     },
     "execution_count": 16,
     "metadata": {},
     "output_type": "execute_result"
    }
   ],
   "source": [
    "data"
   ]
  },
  {
   "cell_type": "code",
   "execution_count": 15,
   "metadata": {},
   "outputs": [
    {
     "data": {
      "application/vnd.plotly.v1+json": {
       "config": {
        "plotlyServerURL": "https://plot.ly"
       },
       "data": [
        {
         "error_x": {
          "array": [
           0.11619548774672096
          ]
         },
         "error_y": {
          "array": [
           0.09548827986660918
          ]
         },
         "hovertemplate": "model=bbb<br>accuracy=%{x}<br>sece=%{y}<extra></extra>",
         "legendgroup": "bbb",
         "marker": {
          "color": "#636efa",
          "symbol": "circle"
         },
         "mode": "markers",
         "name": "bbb",
         "orientation": "v",
         "showlegend": true,
         "type": "scatter",
         "x": [
          0.6477708294987679
         ],
         "xaxis": "x",
         "y": [
          -0.1914536475463901
         ],
         "yaxis": "y"
        },
        {
         "error_x": {
          "array": [
           0.008238810462651921
          ]
         },
         "error_y": {
          "array": [
           0.004032207628767647
          ]
         },
         "hovertemplate": "model=bbb (static bn)<br>accuracy=%{x}<br>sece=%{y}<extra></extra>",
         "legendgroup": "bbb (static bn)",
         "marker": {
          "color": "#EF553B",
          "symbol": "circle"
         },
         "mode": "markers",
         "name": "bbb (static bn)",
         "orientation": "v",
         "showlegend": true,
         "type": "scatter",
         "x": [
          0.8822112917900086
         ],
         "xaxis": "x",
         "y": [
          -0.05340051291245522
         ],
         "yaxis": "y"
        },
        {
         "error_x": {
          "array": [
           0.08454457952379268
          ]
         },
         "error_y": {
          "array": [
           0.0828880979714297
          ]
         },
         "hovertemplate": "model=map<br>accuracy=%{x}<br>sece=%{y}<extra></extra>",
         "legendgroup": "map",
         "marker": {
          "color": "#00cc96",
          "symbol": "circle"
         },
         "mode": "markers",
         "name": "map",
         "orientation": "v",
         "showlegend": true,
         "type": "scatter",
         "x": [
          0.7164460182189941
         ],
         "xaxis": "x",
         "y": [
          -0.1704253447360098
         ],
         "yaxis": "y"
        },
        {
         "error_x": {
          "array": [
           0.011371484588535367
          ]
         },
         "error_y": {
          "array": [
           0.0074122148518345875
          ]
         },
         "hovertemplate": "model=map (static bn)<br>accuracy=%{x}<br>sece=%{y}<extra></extra>",
         "legendgroup": "map (static bn)",
         "marker": {
          "color": "#ab63fa",
          "symbol": "circle"
         },
         "mode": "markers",
         "name": "map (static bn)",
         "orientation": "v",
         "showlegend": true,
         "type": "scatter",
         "x": [
          0.8981000304222106
         ],
         "xaxis": "x",
         "y": [
          -0.04125916456176607
         ],
         "yaxis": "y"
        },
        {
         "error_x": {
          "array": [
           0.06822935492386381
          ]
         },
         "error_y": {
          "array": [
           0.07451372095386893
          ]
         },
         "hovertemplate": "model=mcd<br>accuracy=%{x}<br>sece=%{y}<extra></extra>",
         "legendgroup": "mcd",
         "marker": {
          "color": "#FFA15A",
          "symbol": "circle"
         },
         "mode": "markers",
         "name": "mcd",
         "orientation": "v",
         "showlegend": true,
         "type": "scatter",
         "x": [
          0.5357749164104462
         ],
         "xaxis": "x",
         "y": [
          -0.35288667537975044
         ],
         "yaxis": "y"
        },
        {
         "error_x": {
          "array": [
           0.03890078799077669
          ]
         },
         "error_y": {
          "array": [
           0.02727623958668127
          ]
         },
         "hovertemplate": "model=mcd (static bn)<br>accuracy=%{x}<br>sece=%{y}<extra></extra>",
         "legendgroup": "mcd (static bn)",
         "marker": {
          "color": "#19d3f3",
          "symbol": "circle"
         },
         "mode": "markers",
         "name": "mcd (static bn)",
         "orientation": "v",
         "showlegend": true,
         "type": "scatter",
         "x": [
          0.8805253148078919
         ],
         "xaxis": "x",
         "y": [
          -0.04855363955994347
         ],
         "yaxis": "y"
        }
       ],
       "layout": {
        "legend": {
         "title": {
          "text": "model"
         },
         "tracegroupgap": 0
        },
        "margin": {
         "t": 60
        },
        "template": {
         "data": {
          "bar": [
           {
            "error_x": {
             "color": "#2a3f5f"
            },
            "error_y": {
             "color": "#2a3f5f"
            },
            "marker": {
             "line": {
              "color": "#E5ECF6",
              "width": 0.5
             },
             "pattern": {
              "fillmode": "overlay",
              "size": 10,
              "solidity": 0.2
             }
            },
            "type": "bar"
           }
          ],
          "barpolar": [
           {
            "marker": {
             "line": {
              "color": "#E5ECF6",
              "width": 0.5
             },
             "pattern": {
              "fillmode": "overlay",
              "size": 10,
              "solidity": 0.2
             }
            },
            "type": "barpolar"
           }
          ],
          "carpet": [
           {
            "aaxis": {
             "endlinecolor": "#2a3f5f",
             "gridcolor": "white",
             "linecolor": "white",
             "minorgridcolor": "white",
             "startlinecolor": "#2a3f5f"
            },
            "baxis": {
             "endlinecolor": "#2a3f5f",
             "gridcolor": "white",
             "linecolor": "white",
             "minorgridcolor": "white",
             "startlinecolor": "#2a3f5f"
            },
            "type": "carpet"
           }
          ],
          "choropleth": [
           {
            "colorbar": {
             "outlinewidth": 0,
             "ticks": ""
            },
            "type": "choropleth"
           }
          ],
          "contour": [
           {
            "colorbar": {
             "outlinewidth": 0,
             "ticks": ""
            },
            "colorscale": [
             [
              0,
              "#0d0887"
             ],
             [
              0.1111111111111111,
              "#46039f"
             ],
             [
              0.2222222222222222,
              "#7201a8"
             ],
             [
              0.3333333333333333,
              "#9c179e"
             ],
             [
              0.4444444444444444,
              "#bd3786"
             ],
             [
              0.5555555555555556,
              "#d8576b"
             ],
             [
              0.6666666666666666,
              "#ed7953"
             ],
             [
              0.7777777777777778,
              "#fb9f3a"
             ],
             [
              0.8888888888888888,
              "#fdca26"
             ],
             [
              1,
              "#f0f921"
             ]
            ],
            "type": "contour"
           }
          ],
          "contourcarpet": [
           {
            "colorbar": {
             "outlinewidth": 0,
             "ticks": ""
            },
            "type": "contourcarpet"
           }
          ],
          "heatmap": [
           {
            "colorbar": {
             "outlinewidth": 0,
             "ticks": ""
            },
            "colorscale": [
             [
              0,
              "#0d0887"
             ],
             [
              0.1111111111111111,
              "#46039f"
             ],
             [
              0.2222222222222222,
              "#7201a8"
             ],
             [
              0.3333333333333333,
              "#9c179e"
             ],
             [
              0.4444444444444444,
              "#bd3786"
             ],
             [
              0.5555555555555556,
              "#d8576b"
             ],
             [
              0.6666666666666666,
              "#ed7953"
             ],
             [
              0.7777777777777778,
              "#fb9f3a"
             ],
             [
              0.8888888888888888,
              "#fdca26"
             ],
             [
              1,
              "#f0f921"
             ]
            ],
            "type": "heatmap"
           }
          ],
          "heatmapgl": [
           {
            "colorbar": {
             "outlinewidth": 0,
             "ticks": ""
            },
            "colorscale": [
             [
              0,
              "#0d0887"
             ],
             [
              0.1111111111111111,
              "#46039f"
             ],
             [
              0.2222222222222222,
              "#7201a8"
             ],
             [
              0.3333333333333333,
              "#9c179e"
             ],
             [
              0.4444444444444444,
              "#bd3786"
             ],
             [
              0.5555555555555556,
              "#d8576b"
             ],
             [
              0.6666666666666666,
              "#ed7953"
             ],
             [
              0.7777777777777778,
              "#fb9f3a"
             ],
             [
              0.8888888888888888,
              "#fdca26"
             ],
             [
              1,
              "#f0f921"
             ]
            ],
            "type": "heatmapgl"
           }
          ],
          "histogram": [
           {
            "marker": {
             "pattern": {
              "fillmode": "overlay",
              "size": 10,
              "solidity": 0.2
             }
            },
            "type": "histogram"
           }
          ],
          "histogram2d": [
           {
            "colorbar": {
             "outlinewidth": 0,
             "ticks": ""
            },
            "colorscale": [
             [
              0,
              "#0d0887"
             ],
             [
              0.1111111111111111,
              "#46039f"
             ],
             [
              0.2222222222222222,
              "#7201a8"
             ],
             [
              0.3333333333333333,
              "#9c179e"
             ],
             [
              0.4444444444444444,
              "#bd3786"
             ],
             [
              0.5555555555555556,
              "#d8576b"
             ],
             [
              0.6666666666666666,
              "#ed7953"
             ],
             [
              0.7777777777777778,
              "#fb9f3a"
             ],
             [
              0.8888888888888888,
              "#fdca26"
             ],
             [
              1,
              "#f0f921"
             ]
            ],
            "type": "histogram2d"
           }
          ],
          "histogram2dcontour": [
           {
            "colorbar": {
             "outlinewidth": 0,
             "ticks": ""
            },
            "colorscale": [
             [
              0,
              "#0d0887"
             ],
             [
              0.1111111111111111,
              "#46039f"
             ],
             [
              0.2222222222222222,
              "#7201a8"
             ],
             [
              0.3333333333333333,
              "#9c179e"
             ],
             [
              0.4444444444444444,
              "#bd3786"
             ],
             [
              0.5555555555555556,
              "#d8576b"
             ],
             [
              0.6666666666666666,
              "#ed7953"
             ],
             [
              0.7777777777777778,
              "#fb9f3a"
             ],
             [
              0.8888888888888888,
              "#fdca26"
             ],
             [
              1,
              "#f0f921"
             ]
            ],
            "type": "histogram2dcontour"
           }
          ],
          "mesh3d": [
           {
            "colorbar": {
             "outlinewidth": 0,
             "ticks": ""
            },
            "type": "mesh3d"
           }
          ],
          "parcoords": [
           {
            "line": {
             "colorbar": {
              "outlinewidth": 0,
              "ticks": ""
             }
            },
            "type": "parcoords"
           }
          ],
          "pie": [
           {
            "automargin": true,
            "type": "pie"
           }
          ],
          "scatter": [
           {
            "fillpattern": {
             "fillmode": "overlay",
             "size": 10,
             "solidity": 0.2
            },
            "type": "scatter"
           }
          ],
          "scatter3d": [
           {
            "line": {
             "colorbar": {
              "outlinewidth": 0,
              "ticks": ""
             }
            },
            "marker": {
             "colorbar": {
              "outlinewidth": 0,
              "ticks": ""
             }
            },
            "type": "scatter3d"
           }
          ],
          "scattercarpet": [
           {
            "marker": {
             "colorbar": {
              "outlinewidth": 0,
              "ticks": ""
             }
            },
            "type": "scattercarpet"
           }
          ],
          "scattergeo": [
           {
            "marker": {
             "colorbar": {
              "outlinewidth": 0,
              "ticks": ""
             }
            },
            "type": "scattergeo"
           }
          ],
          "scattergl": [
           {
            "marker": {
             "colorbar": {
              "outlinewidth": 0,
              "ticks": ""
             }
            },
            "type": "scattergl"
           }
          ],
          "scattermapbox": [
           {
            "marker": {
             "colorbar": {
              "outlinewidth": 0,
              "ticks": ""
             }
            },
            "type": "scattermapbox"
           }
          ],
          "scatterpolar": [
           {
            "marker": {
             "colorbar": {
              "outlinewidth": 0,
              "ticks": ""
             }
            },
            "type": "scatterpolar"
           }
          ],
          "scatterpolargl": [
           {
            "marker": {
             "colorbar": {
              "outlinewidth": 0,
              "ticks": ""
             }
            },
            "type": "scatterpolargl"
           }
          ],
          "scatterternary": [
           {
            "marker": {
             "colorbar": {
              "outlinewidth": 0,
              "ticks": ""
             }
            },
            "type": "scatterternary"
           }
          ],
          "surface": [
           {
            "colorbar": {
             "outlinewidth": 0,
             "ticks": ""
            },
            "colorscale": [
             [
              0,
              "#0d0887"
             ],
             [
              0.1111111111111111,
              "#46039f"
             ],
             [
              0.2222222222222222,
              "#7201a8"
             ],
             [
              0.3333333333333333,
              "#9c179e"
             ],
             [
              0.4444444444444444,
              "#bd3786"
             ],
             [
              0.5555555555555556,
              "#d8576b"
             ],
             [
              0.6666666666666666,
              "#ed7953"
             ],
             [
              0.7777777777777778,
              "#fb9f3a"
             ],
             [
              0.8888888888888888,
              "#fdca26"
             ],
             [
              1,
              "#f0f921"
             ]
            ],
            "type": "surface"
           }
          ],
          "table": [
           {
            "cells": {
             "fill": {
              "color": "#EBF0F8"
             },
             "line": {
              "color": "white"
             }
            },
            "header": {
             "fill": {
              "color": "#C8D4E3"
             },
             "line": {
              "color": "white"
             }
            },
            "type": "table"
           }
          ]
         },
         "layout": {
          "annotationdefaults": {
           "arrowcolor": "#2a3f5f",
           "arrowhead": 0,
           "arrowwidth": 1
          },
          "autotypenumbers": "strict",
          "coloraxis": {
           "colorbar": {
            "outlinewidth": 0,
            "ticks": ""
           }
          },
          "colorscale": {
           "diverging": [
            [
             0,
             "#8e0152"
            ],
            [
             0.1,
             "#c51b7d"
            ],
            [
             0.2,
             "#de77ae"
            ],
            [
             0.3,
             "#f1b6da"
            ],
            [
             0.4,
             "#fde0ef"
            ],
            [
             0.5,
             "#f7f7f7"
            ],
            [
             0.6,
             "#e6f5d0"
            ],
            [
             0.7,
             "#b8e186"
            ],
            [
             0.8,
             "#7fbc41"
            ],
            [
             0.9,
             "#4d9221"
            ],
            [
             1,
             "#276419"
            ]
           ],
           "sequential": [
            [
             0,
             "#0d0887"
            ],
            [
             0.1111111111111111,
             "#46039f"
            ],
            [
             0.2222222222222222,
             "#7201a8"
            ],
            [
             0.3333333333333333,
             "#9c179e"
            ],
            [
             0.4444444444444444,
             "#bd3786"
            ],
            [
             0.5555555555555556,
             "#d8576b"
            ],
            [
             0.6666666666666666,
             "#ed7953"
            ],
            [
             0.7777777777777778,
             "#fb9f3a"
            ],
            [
             0.8888888888888888,
             "#fdca26"
            ],
            [
             1,
             "#f0f921"
            ]
           ],
           "sequentialminus": [
            [
             0,
             "#0d0887"
            ],
            [
             0.1111111111111111,
             "#46039f"
            ],
            [
             0.2222222222222222,
             "#7201a8"
            ],
            [
             0.3333333333333333,
             "#9c179e"
            ],
            [
             0.4444444444444444,
             "#bd3786"
            ],
            [
             0.5555555555555556,
             "#d8576b"
            ],
            [
             0.6666666666666666,
             "#ed7953"
            ],
            [
             0.7777777777777778,
             "#fb9f3a"
            ],
            [
             0.8888888888888888,
             "#fdca26"
            ],
            [
             1,
             "#f0f921"
            ]
           ]
          },
          "colorway": [
           "#636efa",
           "#EF553B",
           "#00cc96",
           "#ab63fa",
           "#FFA15A",
           "#19d3f3",
           "#FF6692",
           "#B6E880",
           "#FF97FF",
           "#FECB52"
          ],
          "font": {
           "color": "#2a3f5f"
          },
          "geo": {
           "bgcolor": "white",
           "lakecolor": "white",
           "landcolor": "#E5ECF6",
           "showlakes": true,
           "showland": true,
           "subunitcolor": "white"
          },
          "hoverlabel": {
           "align": "left"
          },
          "hovermode": "closest",
          "mapbox": {
           "style": "light"
          },
          "paper_bgcolor": "white",
          "plot_bgcolor": "#E5ECF6",
          "polar": {
           "angularaxis": {
            "gridcolor": "white",
            "linecolor": "white",
            "ticks": ""
           },
           "bgcolor": "#E5ECF6",
           "radialaxis": {
            "gridcolor": "white",
            "linecolor": "white",
            "ticks": ""
           }
          },
          "scene": {
           "xaxis": {
            "backgroundcolor": "#E5ECF6",
            "gridcolor": "white",
            "gridwidth": 2,
            "linecolor": "white",
            "showbackground": true,
            "ticks": "",
            "zerolinecolor": "white"
           },
           "yaxis": {
            "backgroundcolor": "#E5ECF6",
            "gridcolor": "white",
            "gridwidth": 2,
            "linecolor": "white",
            "showbackground": true,
            "ticks": "",
            "zerolinecolor": "white"
           },
           "zaxis": {
            "backgroundcolor": "#E5ECF6",
            "gridcolor": "white",
            "gridwidth": 2,
            "linecolor": "white",
            "showbackground": true,
            "ticks": "",
            "zerolinecolor": "white"
           }
          },
          "shapedefaults": {
           "line": {
            "color": "#2a3f5f"
           }
          },
          "ternary": {
           "aaxis": {
            "gridcolor": "white",
            "linecolor": "white",
            "ticks": ""
           },
           "baxis": {
            "gridcolor": "white",
            "linecolor": "white",
            "ticks": ""
           },
           "bgcolor": "#E5ECF6",
           "caxis": {
            "gridcolor": "white",
            "linecolor": "white",
            "ticks": ""
           }
          },
          "title": {
           "x": 0.05
          },
          "xaxis": {
           "automargin": true,
           "gridcolor": "white",
           "linecolor": "white",
           "ticks": "",
           "title": {
            "standoff": 15
           },
           "zerolinecolor": "white",
           "zerolinewidth": 2
          },
          "yaxis": {
           "automargin": true,
           "gridcolor": "white",
           "linecolor": "white",
           "ticks": "",
           "title": {
            "standoff": 15
           },
           "zerolinecolor": "white",
           "zerolinewidth": 2
          }
         }
        },
        "xaxis": {
         "anchor": "y",
         "domain": [
          0,
          1
         ],
         "title": {
          "text": "accuracy"
         }
        },
        "yaxis": {
         "anchor": "x",
         "domain": [
          0,
          1
         ],
         "title": {
          "text": "sece"
         }
        }
       }
      }
     },
     "metadata": {},
     "output_type": "display_data"
    }
   ],
   "source": [
    "pareto_plot(data)"
   ]
  },
  {
   "cell_type": "code",
   "execution_count": 17,
   "metadata": {},
   "outputs": [
    {
     "data": {
      "text/plain": [
       "'model,model,accuracy,accuracy_std,sece,sece_std,ece,ece_std,log likelihood,log likelihood_std\\nbbb,bbb,0.6477708294987679,0.11619548774672096,-0.1914536475463901,0.09548827986660918,0.1914536475463901,0.09548827986660918,-0.9200212806463242,0.2929063013263442\\nbbb (static bn),bbb (static bn),0.8822112917900086,0.008238810462651921,-0.05340051291245522,0.004032207628767647,0.05340051291245522,0.004032207628767647,-0.3702742099761963,0.02184178707226432\\nmap,map,0.7164460182189941,0.08454457952379268,-0.1704253447360098,0.0828880979714297,0.1704253447360098,0.0828880979714297,-0.7787383675575257,0.2991642775475501\\nmap (static bn),map (static bn),0.8981000304222106,0.011371484588535367,-0.04125916456176607,0.0074122148518345875,0.04125916456176607,0.0074122148518345875,-0.27139833867549895,0.025764400508158872\\nmcd,mcd,0.5357749164104462,0.06822935492386381,-0.35288667537975044,0.07451372095386893,0.3538387210388676,0.07557506295087237,-1.2249982476234436,0.31581661498507224\\nmcd (static bn),mcd (static bn),0.8805253148078919,0.03890078799077669,-0.04855363955994347,0.02727623958668127,0.04855363955994347,0.02727623958668127,-0.30573763251304625,0.08412644238800163\\n'"
      ]
     },
     "execution_count": 17,
     "metadata": {},
     "output_type": "execute_result"
    }
   ],
   "source": [
    "data.to_csv(sep=\",\", header=True)"
   ]
  },
  {
   "cell_type": "code",
   "execution_count": 15,
   "metadata": {},
   "outputs": [
    {
     "name": "stdout",
     "output_type": "stream",
     "text": [
      "swag-1-(3) {'ece': 'NaN', 'sece': 'NaN', 'wilds': [{'acc_slide:39': 0, 'count_slide:4': 0, 'count_slide:30': 0, 'acc_slide:3': 0, 'acc_slide:11': 0, 'acc_slide:12': 0, 'acc_slide:18': 0, 'acc_slide:35': 0, 'count_slide:34': 0, 'count_slide:24': 7727, 'count_slide:27': 4556, 'count_slide:40': 0, 'count_slide:44': 0, 'acc_slide:6': 0, 'count_slide:8': 0, 'count_slide:11': 0, 'count_slide:21': 3694, 'acc_wg': 0, 'acc_slide:24': 0, 'count_slide:25': 4334, 'count_slide:35': 0, 'acc_slide:19': 0, 'acc_slide:31': 0, 'acc_slide:44': 0, 'count_slide:1': 0, 'count_slide:29': 12742, 'count_slide:41': 0, 'count_slide:49': 0, 'acc_avg': 0, 'acc_slide:13': 0, 'acc_slide:47': 0, 'count_slide:2': 0, 'count_slide:9': 0, 'count_slide:14': 0, 'count_slide:36': 0, 'count_slide:38': 0, 'acc_slide:10': 0, 'acc_slide:26': 0, 'acc_slide:34': 0, 'acc_slide:42': 0, 'count_slide:12': 0, 'acc_slide:48': 0, 'acc_slide:29': 0, 'count_slide:13': 0, 'count_slide:17': 0, 'count_slide:33': 0, 'count_slide:37': 0, 'acc_slide:49': 0, 'count_slide:16': 0, 'acc_slide:16': 0, 'acc_slide:20': 0, 'acc_slide:27': 0, 'acc_slide:37': 0, 'acc_slide:43': 0, 'count_slide:22': 7210, 'count_slide:42': 0, 'acc_slide:2': 0, 'acc_slide:7': 0, 'acc_slide:17': 0, 'acc_slide:28': 0, 'count_slide:7': 0, 'acc_slide:0': 0, 'count_slide:43': 0, 'count_slide:48': 0, 'count_slide:32': 0, 'count_slide:46': 0, 'acc_slide:5': 0, 'acc_slide:14': 0, 'acc_slide:25': 0, 'acc_slide:32': 0, 'count_slide:23': 5288, 'acc_slide:23': 0, 'acc_slide:30': 0, 'count_slide:3': 0, 'acc_slide:4': 0, 'acc_slide:8': 0, 'acc_slide:9': 0, 'acc_slide:21': 0, 'acc_slide:22': 0, 'count_slide:31': 0, 'count_slide:45': 0, 'count_slide:47': 0, 'count_slide:15': 0, 'count_slide:18': 0, 'count_slide:19': 0, 'count_slide:20': 3810, 'count_slide:26': 3815, 'acc_slide:46': 0, 'count_slide:5': 0, 'count_slide:6': 0, 'acc_slide:15': 0, 'acc_slide:33': 0, 'acc_slide:36': 0, 'acc_slide:41': 0, 'acc_slide:45': 0, 'count_slide:28': 31878, 'count_slide:39': 0, 'acc_slide:1': 0, 'acc_slide:38': 0, 'acc_slide:40': 0, 'count_slide:0': 0, 'count_slide:10': 0}, 'Average acc: 0.000\\n  slide = 20  [n =   3810]:\\tacc = 0.000\\n  slide = 21  [n =   3694]:\\tacc = 0.000\\n  slide = 22  [n =   7210]:\\tacc = 0.000\\n  slide = 23  [n =   5288]:\\tacc = 0.000\\n  slide = 24  [n =   7727]:\\tacc = 0.000\\n  slide = 25  [n =   4334]:\\tacc = 0.000\\n  slide = 26  [n =   3815]:\\tacc = 0.000\\n  slide = 27  [n =   4556]:\\tacc = 0.000\\n  slide = 28  [n =  31878]:\\tacc = 0.000\\n  slide = 29  [n =  12742]:\\tacc = 0.000\\nWorst-group acc: 0.000\\n'], 'accuracy': 0.5, 'bin_counts': [85054, 0, 0, 0, 0, 0, 0, 0, 0, 0], 'bin_accuracies': [0.5, 0, 0, 0, 0, 0, 0, 0, 0, 0], 'log_likelihood': 'NaN', 'bin_confidences': ['NaN', 0, 0, 0, 0, 0, 0, 0, 0, 0]}\n",
      "swag-1-(2) {'wilds': [{'acc_slide:0': 0, 'acc_slide:6': 0, 'acc_slide:24': 0, 'count_slide:9': 0, 'count_slide:15': 0, 'count_slide:23': 5288, 'count_slide:29': 12742, 'count_slide:46': 0, 'acc_slide:28': 0, 'acc_slide:36': 0, 'count_slide:17': 0, 'count_slide:36': 0, 'count_slide:42': 0, 'acc_slide:10': 0, 'acc_slide:11': 0, 'acc_slide:45': 0, 'count_slide:19': 0, 'count_slide:38': 0, 'count_slide:47': 0, 'acc_wg': 0, 'count_slide:49': 0, 'acc_slide:4': 0, 'acc_slide:8': 0, 'acc_slide:23': 0, 'acc_slide:44': 0, 'count_slide:13': 0, 'acc_slide:5': 0, 'acc_slide:34': 0, 'acc_slide:35': 0, 'count_slide:10': 0, 'count_slide:14': 0, 'count_slide:24': 7727, 'acc_slide:7': 0, 'acc_slide:9': 0, 'acc_slide:49': 0, 'count_slide:44': 0, 'acc_slide:41': 0, 'count_slide:5': 0, 'count_slide:6': 0, 'count_slide:18': 0, 'count_slide:20': 3810, 'count_slide:22': 7210, 'count_slide:39': 0, 'acc_slide:15': 0, 'acc_slide:27': 0, 'acc_slide:29': 0, 'acc_slide:31': 0, 'acc_slide:38': 0, 'count_slide:21': 3694, 'count_slide:32': 0, 'count_slide:34': 0, 'count_slide:35': 0, 'count_slide:37': 0, 'acc_slide:39': 0, 'acc_slide:40': 0, 'acc_slide:46': 0, 'acc_slide:48': 0, 'count_slide:45': 0, 'acc_avg': 0, 'acc_slide:12': 0, 'acc_slide:33': 0, 'acc_slide:37': 0, 'count_slide:1': 0, 'count_slide:4': 0, 'count_slide:31': 0, 'acc_slide:3': 0, 'acc_slide:14': 0, 'acc_slide:26': 0, 'acc_slide:30': 0, 'acc_slide:43': 0, 'acc_slide:47': 0, 'count_slide:2': 0, 'count_slide:16': 0, 'count_slide:40': 0, 'count_slide:43': 0, 'acc_slide:42': 0, 'count_slide:25': 4334, 'count_slide:27': 4556, 'count_slide:28': 31878, 'count_slide:41': 0, 'acc_slide:17': 0, 'acc_slide:18': 0, 'acc_slide:19': 0, 'acc_slide:22': 0, 'count_slide:3': 0, 'count_slide:12': 0, 'count_slide:26': 3815, 'count_slide:48': 0, 'acc_slide:2': 0, 'acc_slide:16': 0, 'acc_slide:20': 0, 'acc_slide:32': 0, 'count_slide:0': 0, 'count_slide:7': 0, 'count_slide:11': 0, 'count_slide:33': 0, 'acc_slide:1': 0, 'acc_slide:13': 0, 'acc_slide:21': 0, 'acc_slide:25': 0, 'count_slide:8': 0, 'count_slide:30': 0}, 'Average acc: 0.000\\n  slide = 20  [n =   3810]:\\tacc = 0.000\\n  slide = 21  [n =   3694]:\\tacc = 0.000\\n  slide = 22  [n =   7210]:\\tacc = 0.000\\n  slide = 23  [n =   5288]:\\tacc = 0.000\\n  slide = 24  [n =   7727]:\\tacc = 0.000\\n  slide = 25  [n =   4334]:\\tacc = 0.000\\n  slide = 26  [n =   3815]:\\tacc = 0.000\\n  slide = 27  [n =   4556]:\\tacc = 0.000\\n  slide = 28  [n =  31878]:\\tacc = 0.000\\n  slide = 29  [n =  12742]:\\tacc = 0.000\\nWorst-group acc: 0.000\\n'], 'accuracy': 0.5, 'bin_counts': [85054, 0, 0, 0, 0, 0, 0, 0, 0, 0], 'bin_accuracies': [0.5, 0, 0, 0, 0, 0, 0, 0, 0, 0], 'log_likelihood': 'NaN', 'bin_confidences': ['NaN', 0, 0, 0, 0, 0, 0, 0, 0, 0], 'ece': 'NaN', 'sece': 'NaN'}\n",
      "swag-1-(1) {'wilds': [{'acc_slide:10': 0, 'count_slide:24': 7727, 'count_slide:39': 0, 'count_slide:45': 0, 'acc_slide:3': 0, 'acc_slide:28': 0, 'acc_slide:48': 0, 'count_slide:3': 0, 'count_slide:11': 0, 'count_slide:32': 0, 'acc_slide:19': 0, 'acc_slide:41': 0, 'acc_slide:0': 0, 'acc_slide:21': 0, 'acc_slide:25': 0, 'acc_slide:36': 0, 'acc_slide:44': 0, 'acc_slide:45': 0, 'count_slide:2': 0, 'count_slide:13': 0, 'acc_slide:11': 0, 'acc_slide:14': 0, 'acc_slide:23': 0, 'acc_slide:24': 0, 'acc_slide:30': 0, 'acc_slide:33': 0, 'count_slide:5': 0, 'count_slide:16': 0, 'count_slide:25': 4334, 'count_slide:42': 0, 'acc_slide:17': 0, 'acc_slide:29': 0, 'count_slide:49': 0, 'acc_slide:18': 0, 'acc_slide:46': 0, 'count_slide:6': 0, 'count_slide:29': 12742, 'count_slide:31': 0, 'count_slide:37': 0, 'count_slide:48': 0, 'acc_slide:35': 0, 'acc_slide:40': 0, 'acc_slide:43': 0, 'count_slide:18': 0, 'count_slide:21': 3694, 'count_slide:36': 0, 'count_slide:44': 0, 'acc_slide:20': 0, 'acc_slide:26': 0, 'acc_slide:37': 0, 'acc_slide:49': 0, 'count_slide:17': 0, 'count_slide:26': 3815, 'count_slide:27': 4556, 'count_slide:40': 0, 'acc_slide:4': 0, 'acc_slide:6': 0, 'acc_slide:7': 0, 'acc_slide:15': 0, 'acc_slide:38': 0, 'count_slide:0': 0, 'count_slide:15': 0, 'count_slide:30': 0, 'count_slide:33': 0, 'count_slide:38': 0, 'acc_avg': 0, 'acc_slide:1': 0, 'acc_slide:8': 0, 'count_slide:7': 0, 'count_slide:8': 0, 'count_slide:41': 0, 'acc_slide:5': 0, 'acc_slide:13': 0, 'acc_slide:22': 0, 'acc_slide:39': 0, 'count_slide:14': 0, 'count_slide:20': 3810, 'acc_wg': 0, 'acc_slide:31': 0, 'acc_slide:32': 0, 'acc_slide:47': 0, 'count_slide:12': 0, 'count_slide:28': 31878, 'count_slide:35': 0, 'acc_slide:16': 0, 'count_slide:1': 0, 'count_slide:4': 0, 'count_slide:43': 0, 'acc_slide:9': 0, 'acc_slide:12': 0, 'count_slide:10': 0, 'count_slide:22': 7210, 'count_slide:47': 0, 'acc_slide:2': 0, 'acc_slide:27': 0, 'acc_slide:34': 0, 'acc_slide:42': 0, 'count_slide:9': 0, 'count_slide:19': 0, 'count_slide:23': 5288, 'count_slide:34': 0, 'count_slide:46': 0}, 'Average acc: 0.000\\n  slide = 20  [n =   3810]:\\tacc = 0.000\\n  slide = 21  [n =   3694]:\\tacc = 0.000\\n  slide = 22  [n =   7210]:\\tacc = 0.000\\n  slide = 23  [n =   5288]:\\tacc = 0.000\\n  slide = 24  [n =   7727]:\\tacc = 0.000\\n  slide = 25  [n =   4334]:\\tacc = 0.000\\n  slide = 26  [n =   3815]:\\tacc = 0.000\\n  slide = 27  [n =   4556]:\\tacc = 0.000\\n  slide = 28  [n =  31878]:\\tacc = 0.000\\n  slide = 29  [n =  12742]:\\tacc = 0.000\\nWorst-group acc: 0.000\\n'], 'accuracy': 0.5, 'bin_counts': [85054, 0, 0, 0, 0, 0, 0, 0, 0, 0], 'bin_accuracies': [0.5, 0, 0, 0, 0, 0, 0, 0, 0, 0], 'log_likelihood': 'NaN', 'bin_confidences': ['NaN', 0, 0, 0, 0, 0, 0, 0, 0, 0], 'ece': 'NaN', 'sece': 'NaN'}\n",
      "swag-1-(0) {'bin_counts': [85054, 0, 0, 0, 0, 0, 0, 0, 0, 0], 'bin_accuracies': [0.5, 0, 0, 0, 0, 0, 0, 0, 0, 0], 'log_likelihood': 'NaN', 'bin_confidences': ['NaN', 0, 0, 0, 0, 0, 0, 0, 0, 0], 'ece': 'NaN', 'sece': 'NaN', 'wilds': [{'count_slide:46': 0, 'acc_wg': 0, 'acc_slide:25': 0, 'acc_slide:35': 0, 'count_slide:30': 0, 'count_slide:47': 0, 'acc_slide:37': 0, 'acc_slide:39': 0, 'acc_slide:47': 0, 'count_slide:17': 0, 'count_slide:21': 3694, 'count_slide:38': 0, 'count_slide:43': 0, 'acc_slide:2': 0, 'acc_slide:11': 0, 'count_slide:9': 0, 'count_slide:20': 3810, 'count_slide:24': 7727, 'count_slide:26': 3815, 'count_slide:37': 0, 'acc_slide:44': 0, 'count_slide:1': 0, 'count_slide:8': 0, 'count_slide:15': 0, 'count_slide:2': 0, 'count_slide:11': 0, 'count_slide:12': 0, 'count_slide:13': 0, 'acc_slide:12': 0, 'acc_slide:22': 0, 'acc_slide:30': 0, 'acc_slide:48': 0, 'count_slide:39': 0, 'count_slide:27': 4556, 'count_slide:31': 0, 'count_slide:35': 0, 'count_slide:36': 0, 'acc_slide:33': 0, 'acc_slide:42': 0, 'count_slide:7': 0, 'count_slide:18': 0, 'acc_slide:29': 0, 'acc_slide:43': 0, 'count_slide:19': 0, 'count_slide:45': 0, 'acc_slide:3': 0, 'acc_slide:4': 0, 'acc_slide:15': 0, 'acc_slide:19': 0, 'count_slide:32': 0, 'acc_slide:0': 0, 'acc_slide:14': 0, 'acc_slide:16': 0, 'acc_slide:38': 0, 'acc_slide:5': 0, 'count_slide:0': 0, 'count_slide:5': 0, 'count_slide:25': 4334, 'count_slide:4': 0, 'count_slide:22': 7210, 'count_slide:33': 0, 'count_slide:41': 0, 'acc_slide:1': 0, 'acc_slide:24': 0, 'acc_slide:49': 0, 'count_slide:3': 0, 'count_slide:48': 0, 'count_slide:10': 0, 'count_slide:29': 12742, 'count_slide:34': 0, 'count_slide:49': 0, 'acc_slide:9': 0, 'acc_slide:23': 0, 'acc_slide:26': 0, 'acc_slide:46': 0, 'count_slide:6': 0, 'count_slide:28': 31878, 'count_slide:40': 0, 'count_slide:42': 0, 'acc_slide:21': 0, 'acc_slide:28': 0, 'acc_slide:32': 0, 'acc_slide:36': 0, 'count_slide:44': 0, 'acc_slide:40': 0, 'acc_slide:41': 0, 'count_slide:16': 0, 'acc_slide:8': 0, 'acc_slide:13': 0, 'acc_slide:27': 0, 'acc_slide:34': 0, 'acc_slide:31': 0, 'count_slide:14': 0, 'count_slide:23': 5288, 'acc_avg': 0, 'acc_slide:7': 0, 'acc_slide:10': 0, 'acc_slide:17': 0, 'acc_slide:6': 0, 'acc_slide:18': 0, 'acc_slide:20': 0, 'acc_slide:45': 0}, 'Average acc: 0.000\\n  slide = 20  [n =   3810]:\\tacc = 0.000\\n  slide = 21  [n =   3694]:\\tacc = 0.000\\n  slide = 22  [n =   7210]:\\tacc = 0.000\\n  slide = 23  [n =   5288]:\\tacc = 0.000\\n  slide = 24  [n =   7727]:\\tacc = 0.000\\n  slide = 25  [n =   4334]:\\tacc = 0.000\\n  slide = 26  [n =   3815]:\\tacc = 0.000\\n  slide = 27  [n =   4556]:\\tacc = 0.000\\n  slide = 28  [n =  31878]:\\tacc = 0.000\\n  slide = 29  [n =  12742]:\\tacc = 0.000\\nWorst-group acc: 0.000\\n'], 'accuracy': 0.5}\n",
      "mcd-1-(4) {'bin_accuracies': [0, 0, 0, 0, 0, 0.4814184010028839, 0.43109408020973206, 0.3756398856639862, 0.33418914675712585, 0.5351853370666504], 'log_likelihood': -1.1369949579238892, 'bin_confidences': [0, 0, 0, 0, 0, 0.5506793856620789, 0.6510577201843262, 0.7517800331115723, 0.8543666005134583, 0.9428460597991944], 'ece': 0.3619173130070737, 'sece': -0.3619173130070737, 'wilds': [{'count_slide:37': 0, 'acc_slide:0': 0, 'acc_slide:21': 0.7162966728210449, 'acc_slide:28': 0.2776522934436798, 'acc_slide:36': 0, 'count_slide:27': 4556, 'count_slide:36': 0, 'acc_slide:37': 0, 'acc_slide:40': 0, 'count_slide:26': 3815, 'count_slide:5': 0, 'count_slide:13': 0, 'acc_slide:12': 0, 'acc_slide:17': 0, 'acc_slide:39': 0, 'count_slide:1': 0, 'count_slide:2': 0, 'count_slide:3': 0, 'count_slide:16': 0, 'acc_slide:49': 0, 'count_slide:17': 0, 'acc_slide:1': 0, 'acc_slide:16': 0, 'acc_slide:26': 0.7711664438247681, 'acc_slide:30': 0, 'acc_slide:41': 0, 'acc_slide:44': 0, 'count_slide:23': 5288, 'count_slide:33': 0, 'count_slide:38': 0, 'acc_slide:5': 0, 'acc_slide:10': 0, 'acc_slide:32': 0, 'acc_slide:48': 0, 'count_slide:28': 31878, 'acc_slide:43': 0, 'acc_slide:46': 0, 'acc_slide:2': 0, 'acc_slide:8': 0, 'acc_slide:11': 0, 'acc_slide:22': 0.31955617666244507, 'acc_slide:24': 0.7964280843734741, 'acc_slide:35': 0, 'count_slide:20': 3810, 'acc_slide:34': 0, 'count_slide:12': 0, 'count_slide:42': 0, 'acc_slide:45': 0, 'acc_slide:47': 0, 'count_slide:34': 0, 'count_slide:35': 0, 'acc_wg': 0.2776522934436798, 'acc_slide:9': 0, 'acc_slide:13': 0, 'acc_slide:20': 0.7997375130653381, 'acc_slide:38': 0, 'count_slide:22': 7210, 'count_slide:48': 0, 'acc_slide:19': 0, 'count_slide:7': 0, 'count_slide:39': 0, 'count_slide:43': 0, 'count_slide:29': 12742, 'count_slide:32': 0, 'acc_slide:6': 0, 'acc_slide:7': 0, 'acc_slide:18': 0, 'acc_slide:42': 0, 'count_slide:14': 0, 'count_slide:15': 0, 'count_slide:10': 0, 'count_slide:18': 0, 'acc_slide:3': 0, 'acc_slide:14': 0, 'acc_slide:15': 0, 'acc_slide:25': 0.6762805581092834, 'acc_slide:27': 0.6780070066452026, 'count_slide:9': 0, 'count_slide:24': 7727, 'count_slide:31': 0, 'count_slide:46': 0, 'count_slide:47': 0, 'acc_slide:23': 0.41263237595558167, 'count_slide:4': 0, 'count_slide:19': 0, 'count_slide:40': 0, 'acc_avg': 0.4531121551990509, 'acc_slide:33': 0, 'count_slide:44': 0, 'count_slide:45': 0, 'acc_slide:4': 0, 'count_slide:0': 0, 'count_slide:6': 0, 'count_slide:8': 0, 'count_slide:21': 3694, 'count_slide:41': 0, 'acc_slide:29': 0.3447653353214264, 'acc_slide:31': 0, 'count_slide:11': 0, 'count_slide:25': 4334, 'count_slide:30': 0, 'count_slide:49': 0}, 'Average acc: 0.453\\n  slide = 20  [n =   3810]:\\tacc = 0.800\\n  slide = 21  [n =   3694]:\\tacc = 0.716\\n  slide = 22  [n =   7210]:\\tacc = 0.320\\n  slide = 23  [n =   5288]:\\tacc = 0.413\\n  slide = 24  [n =   7727]:\\tacc = 0.796\\n  slide = 25  [n =   4334]:\\tacc = 0.676\\n  slide = 26  [n =   3815]:\\tacc = 0.771\\n  slide = 27  [n =   4556]:\\tacc = 0.678\\n  slide = 28  [n =  31878]:\\tacc = 0.278\\n  slide = 29  [n =  12742]:\\tacc = 0.345\\nWorst-group acc: 0.278\\n'], 'accuracy': 0.4531121551990509, 'bin_counts': [0, 0, 0, 0, 0, 9983, 10703, 12307, 16748, 35313]}\n",
      "mcd-1-(3) {'sece': -0.4320993837545796, 'wilds': [{'acc_slide:29': 0.4752001166343689, 'count_slide:0': 0, 'count_slide:2': 0, 'count_slide:25': 4334, 'count_slide:9': 0, 'count_slide:27': 4556, 'count_slide:29': 12742, 'count_slide:33': 0, 'count_slide:34': 0, 'count_slide:44': 0, 'acc_slide:2': 0, 'acc_slide:8': 0, 'acc_slide:37': 0, 'count_slide:1': 0, 'count_slide:6': 0, 'count_slide:7': 0, 'count_slide:22': 7210, 'count_slide:46': 0, 'acc_slide:10': 0, 'acc_slide:15': 0, 'acc_slide:25': 0.758421778678894, 'acc_slide:34': 0, 'acc_slide:38': 0, 'acc_slide:40': 0, 'acc_slide:43': 0, 'count_slide:30': 0, 'count_slide:31': 0, 'count_slide:17': 0, 'acc_slide:3': 0, 'acc_slide:13': 0, 'acc_slide:21': 0.9959393739700316, 'acc_slide:32': 0, 'acc_slide:39': 0, 'count_slide:14': 0, 'count_slide:16': 0, 'acc_slide:12': 0, 'acc_slide:23': 0.47787442803382874, 'acc_slide:27': 0.9732221364974976, 'acc_slide:49': 0, 'acc_slide:5': 0, 'acc_slide:19': 0, 'acc_slide:22': 0.41428571939468384, 'count_slide:4': 0, 'count_slide:32': 0, 'count_slide:36': 0, 'count_slide:45': 0, 'acc_slide:1': 0, 'acc_slide:11': 0, 'acc_slide:48': 0, 'count_slide:20': 3810, 'count_slide:23': 5288, 'count_slide:24': 7727, 'count_slide:40': 0, 'count_slide:18': 0, 'acc_avg': 0.4995767474174499, 'acc_slide:20': 0.9837270379066468, 'acc_slide:36': 0, 'acc_slide:44': 0, 'count_slide:5': 0, 'count_slide:11': 0, 'count_slide:12': 0, 'count_slide:28': 31878, 'count_slide:42': 0, 'count_slide:47': 0, 'acc_wg': 0.1543070524930954, 'acc_slide:4': 0, 'acc_slide:24': 0.9754108786582948, 'count_slide:13': 0, 'count_slide:15': 0, 'count_slide:49': 0, 'count_slide:3': 0, 'acc_slide:6': 0, 'acc_slide:28': 0.1543070524930954, 'acc_slide:30': 0, 'acc_slide:33': 0, 'acc_slide:42': 0, 'acc_slide:45': 0, 'acc_slide:47': 0, 'count_slide:35': 0, 'count_slide:48': 0, 'acc_slide:18': 0, 'acc_slide:31': 0, 'acc_slide:41': 0, 'acc_slide:46': 0, 'count_slide:10': 0, 'count_slide:26': 3815, 'count_slide:37': 0, 'acc_slide:17': 0, 'acc_slide:35': 0, 'count_slide:8': 0, 'count_slide:19': 0, 'count_slide:39': 0, 'acc_slide:9': 0, 'acc_slide:16': 0, 'count_slide:38': 0, 'count_slide:43': 0, 'acc_slide:0': 0, 'acc_slide:7': 0, 'acc_slide:14': 0, 'acc_slide:26': 0.8697247505187988, 'count_slide:21': 3694, 'count_slide:41': 0}, 'Average acc: 0.500\\n  slide = 20  [n =   3810]:\\tacc = 0.984\\n  slide = 21  [n =   3694]:\\tacc = 0.996\\n  slide = 22  [n =   7210]:\\tacc = 0.414\\n  slide = 23  [n =   5288]:\\tacc = 0.478\\n  slide = 24  [n =   7727]:\\tacc = 0.975\\n  slide = 25  [n =   4334]:\\tacc = 0.758\\n  slide = 26  [n =   3815]:\\tacc = 0.870\\n  slide = 27  [n =   4556]:\\tacc = 0.973\\n  slide = 28  [n =  31878]:\\tacc = 0.154\\n  slide = 29  [n =  12742]:\\tacc = 0.475\\nWorst-group acc: 0.154\\n'], 'accuracy': 0.4995767474174499, 'bin_counts': [0, 0, 0, 0, 0, 274, 750, 2435, 11178, 70417], 'bin_accuracies': [0, 0, 0, 0, 0, 0.4671532809734345, 0.36266666650772095, 0.28090348839759827, 0.27858293056488037, 0.543803334236145], 'log_likelihood': -1.387342929840088, 'bin_confidences': [0, 0, 0, 0, 0, 0.5556783080101013, 0.6582324504852295, 0.7612340450286865, 0.8633837103843689, 0.952786147594452], 'ece': 0.4320993837545796}\n",
      "mcd-1-(2) {'wilds': [{'acc_slide:7': 0, 'acc_slide:14': 0, 'acc_slide:30': 0, 'count_slide:28': 31878, 'count_slide:47': 0, 'count_slide:37': 0, 'acc_slide:4': 0, 'acc_slide:21': 0.9269084930419922, 'acc_slide:24': 0.9607868790626526, 'acc_slide:27': 0.934811234474182, 'count_slide:7': 0, 'count_slide:19': 0, 'count_slide:34': 0, 'acc_slide:37': 0, 'acc_slide:38': 0, 'count_slide:14': 0, 'acc_slide:10': 0, 'acc_slide:49': 0, 'count_slide:2': 0, 'count_slide:13': 0, 'acc_slide:0': 0, 'acc_slide:2': 0, 'acc_slide:13': 0, 'acc_slide:16': 0, 'acc_slide:34': 0, 'count_slide:0': 0, 'count_slide:5': 0, 'count_slide:17': 0, 'count_slide:23': 5288, 'acc_slide:25': 0.7531148791313171, 'acc_slide:28': 0.1569107174873352, 'count_slide:24': 7727, 'count_slide:31': 0, 'count_slide:41': 0, 'acc_slide:23': 0.4748487174510956, 'acc_slide:36': 0, 'count_slide:36': 0, 'count_slide:43': 0, 'count_slide:9': 0, 'acc_slide:5': 0, 'acc_slide:9': 0, 'acc_slide:15': 0, 'acc_slide:26': 0.8668414354324341, 'acc_slide:35': 0, 'acc_slide:43': 0, 'count_slide:6': 0, 'count_slide:12': 0, 'count_slide:33': 0, 'count_slide:39': 0, 'count_slide:42': 0, 'acc_slide:47': 0, 'acc_slide:11': 0, 'acc_slide:17': 0, 'acc_slide:18': 0, 'acc_slide:20': 0.969816267490387, 'acc_slide:29': 0.46633180975914, 'acc_slide:40': 0, 'acc_slide:44': 0, 'acc_slide:48': 0, 'count_slide:1': 0, 'count_slide:22': 7210, 'count_slide:30': 0, 'count_slide:38': 0, 'acc_slide:45': 0, 'count_slide:8': 0, 'count_slide:11': 0, 'count_slide:18': 0, 'count_slide:21': 3694, 'count_slide:27': 4556, 'count_slide:29': 12742, 'acc_slide:12': 0, 'acc_slide:19': 0, 'acc_slide:22': 0.425104022026062, 'acc_slide:31': 0, 'acc_slide:41': 0, 'count_slide:16': 0, 'acc_wg': 0.1569107174873352, 'acc_avg': 0.4925459027290344, 'acc_slide:1': 0, 'acc_slide:46': 0, 'count_slide:40': 0, 'count_slide:46': 0, 'count_slide:49': 0, 'acc_slide:3': 0, 'acc_slide:32': 0, 'count_slide:3': 0, 'count_slide:4': 0, 'count_slide:15': 0, 'count_slide:26': 3815, 'count_slide:44': 0, 'acc_slide:6': 0, 'acc_slide:33': 0, 'acc_slide:42': 0, 'count_slide:10': 0, 'count_slide:25': 4334, 'acc_slide:8': 0, 'acc_slide:39': 0, 'count_slide:20': 3810, 'count_slide:32': 0, 'count_slide:35': 0, 'count_slide:45': 0, 'count_slide:48': 0}, 'Average acc: 0.493\\n  slide = 20  [n =   3810]:\\tacc = 0.970\\n  slide = 21  [n =   3694]:\\tacc = 0.927\\n  slide = 22  [n =   7210]:\\tacc = 0.425\\n  slide = 23  [n =   5288]:\\tacc = 0.475\\n  slide = 24  [n =   7727]:\\tacc = 0.961\\n  slide = 25  [n =   4334]:\\tacc = 0.753\\n  slide = 26  [n =   3815]:\\tacc = 0.867\\n  slide = 27  [n =   4556]:\\tacc = 0.935\\n  slide = 28  [n =  31878]:\\tacc = 0.157\\n  slide = 29  [n =  12742]:\\tacc = 0.466\\nWorst-group acc: 0.157\\n'], 'accuracy': 0.4925459027290344, 'bin_counts': [0, 0, 0, 0, 0, 1665, 2255, 4177, 10307, 66650], 'bin_accuracies': [0, 0, 0, 0, 0, 0.5945945978164673, 0.7117516398429871, 0.7136700749397278, 0.690986692905426, 0.4380345046520233], 'log_likelihood': -1.7553446292877195, 'bin_confidences': [0, 0, 0, 0, 0, 0.5509008765220642, 0.6542402505874634, 0.755721926689148, 0.8588936924934387, 0.967130184173584], 'ece': 0.4394024184441576, 'sece': -0.4346421901485716}\n",
      "mcd-1-(1) {'bin_accuracies': [0, 0, 0, 0, 0, 0.48191308975219727, 0.3997894823551178, 0.35138267278671265, 0.3365698754787445, 0.711514413356781], 'log_likelihood': -0.9386130571365356, 'bin_confidences': [0, 0, 0, 0, 0, 0.5497063398361206, 0.6517537832260132, 0.7527471780776978, 0.8570228219032288, 0.950674057006836], 'ece': 0.27953835955670114, 'sece': -0.27953835955670114, 'wilds': [{'acc_slide:42': 0, 'count_slide:6': 0, 'count_slide:12': 0, 'count_slide:20': 3810, 'acc_slide:5': 0, 'acc_slide:8': 0, 'acc_slide:26': 0.8702490329742432, 'acc_slide:37': 0, 'count_slide:24': 7727, 'count_slide:25': 4334, 'count_slide:42': 0, 'count_slide:43': 0, 'count_slide:34': 0, 'acc_slide:10': 0, 'acc_slide:19': 0, 'acc_slide:45': 0, 'count_slide:27': 4556, 'count_slide:2': 0, 'count_slide:28': 31878, 'acc_slide:6': 0, 'acc_slide:11': 0, 'acc_slide:14': 0, 'acc_slide:41': 0, 'acc_slide:49': 0, 'count_slide:39': 0, 'count_slide:41': 0, 'count_slide:46': 0, 'acc_slide:13': 0, 'acc_slide:24': 0.9757991433143616, 'acc_slide:39': 0, 'acc_slide:46': 0, 'count_slide:47': 0, 'count_slide:48': 0, 'acc_slide:7': 0, 'acc_slide:30': 0, 'count_slide:26': 3815, 'count_slide:45': 0, 'acc_slide:33': 0, 'count_slide:4': 0, 'count_slide:11': 0, 'count_slide:18': 0, 'acc_avg': 0.6088367104530334, 'acc_slide:9': 0, 'acc_slide:21': 0.9935029745101928, 'acc_slide:31': 0, 'count_slide:21': 3694, 'count_slide:29': 12742, 'count_slide:40': 0, 'count_slide:10': 0, 'acc_slide:20': 0.9929133653640748, 'acc_slide:44': 0, 'count_slide:3': 0, 'count_slide:7': 0, 'acc_slide:3': 0, 'acc_slide:34': 0, 'count_slide:30': 0, 'count_slide:32': 0, 'count_slide:22': 7210, 'count_slide:31': 0, 'count_slide:49': 0, 'acc_slide:15': 0, 'acc_slide:36': 0, 'count_slide:13': 0, 'count_slide:16': 0, 'acc_slide:12': 0, 'acc_slide:35': 0, 'count_slide:36': 0, 'count_slide:19': 0, 'acc_slide:4': 0, 'acc_slide:43': 0, 'acc_slide:48': 0, 'count_slide:15': 0, 'acc_slide:28': 0.4218583405017853, 'count_slide:8': 0, 'count_slide:14': 0, 'count_slide:44': 0, 'acc_slide:18': 0, 'acc_slide:25': 0.7653437852859497, 'acc_slide:27': 0.9758560061454772, 'acc_slide:29': 0.5233087539672852, 'acc_slide:32': 0, 'acc_slide:38': 0, 'count_slide:5': 0, 'acc_slide:1': 0, 'acc_slide:16': 0, 'acc_slide:22': 0.42371705174446106, 'acc_slide:23': 0.4797655045986175, 'count_slide:17': 0, 'count_slide:33': 0, 'count_slide:1': 0, 'count_slide:9': 0, 'count_slide:23': 5288, 'count_slide:35': 0, 'acc_wg': 0.4218583405017853, 'acc_slide:2': 0, 'acc_slide:40': 0, 'acc_slide:47': 0, 'count_slide:38': 0, 'acc_slide:0': 0, 'acc_slide:17': 0, 'count_slide:0': 0, 'count_slide:37': 0}, 'Average acc: 0.609\\n  slide = 20  [n =   3810]:\\tacc = 0.993\\n  slide = 21  [n =   3694]:\\tacc = 0.994\\n  slide = 22  [n =   7210]:\\tacc = 0.424\\n  slide = 23  [n =   5288]:\\tacc = 0.480\\n  slide = 24  [n =   7727]:\\tacc = 0.976\\n  slide = 25  [n =   4334]:\\tacc = 0.765\\n  slide = 26  [n =   3815]:\\tacc = 0.870\\n  slide = 27  [n =   4556]:\\tacc = 0.976\\n  slide = 28  [n =  31878]:\\tacc = 0.422\\n  slide = 29  [n =  12742]:\\tacc = 0.523\\nWorst-group acc: 0.422\\n'], 'accuracy': 0.6088367104530334, 'bin_counts': [0, 0, 0, 0, 0, 4119, 4750, 6039, 11020, 59126]}\n",
      "mcd-1-(0) {'wilds': [{'count_slide:49': 0, 'acc_slide:10': 0, 'count_slide:3': 0, 'count_slide:28': 31878, 'count_slide:39': 0, 'count_slide:40': 0, 'count_slide:13': 0, 'count_slide:15': 0, 'count_slide:25': 4334, 'acc_slide:19': 0, 'acc_slide:30': 0, 'acc_slide:33': 0, 'acc_slide:36': 0, 'count_slide:4': 0, 'count_slide:33': 0, 'count_slide:35': 0, 'count_slide:45': 0, 'acc_slide:9': 0, 'acc_slide:23': 0.4809001386165619, 'count_slide:5': 0, 'count_slide:19': 0, 'count_slide:41': 0, 'acc_slide:1': 0, 'acc_slide:11': 0, 'acc_slide:12': 0, 'acc_slide:24': 0.9482334852218628, 'acc_slide:31': 0, 'acc_slide:47': 0, 'count_slide:24': 7727, 'count_slide:30': 0, 'acc_slide:6': 0, 'acc_slide:14': 0, 'acc_slide:18': 0, 'acc_slide:32': 0, 'acc_slide:38': 0, 'count_slide:31': 0, 'acc_slide:49': 0, 'count_slide:8': 0, 'count_slide:17': 0, 'count_slide:46': 0, 'count_slide:48': 0, 'acc_slide:3': 0, 'count_slide:6': 0, 'count_slide:32': 0, 'acc_slide:7': 0, 'count_slide:1': 0, 'count_slide:38': 0, 'count_slide:43': 0, 'count_slide:37': 0, 'count_slide:42': 0, 'acc_slide:21': 0.9786139726638794, 'acc_slide:28': 0.4942593574523926, 'acc_slide:29': 0.48234185576438904, 'acc_slide:44': 0, 'acc_slide:45': 0, 'acc_slide:34': 0, 'acc_slide:43': 0, 'count_slide:34': 0, 'count_slide:2': 0, 'count_slide:26': 3815, 'count_slide:27': 4556, 'acc_slide:0': 0, 'acc_slide:4': 0, 'acc_slide:26': 0.8602883219718933, 'acc_slide:39': 0, 'acc_slide:41': 0, 'acc_avg': 0.6248030662536621, 'acc_slide:16': 0, 'acc_slide:35': 0, 'acc_slide:40': 0, 'acc_slide:42': 0, 'count_slide:10': 0, 'count_slide:11': 0, 'count_slide:22': 7210, 'acc_slide:8': 0, 'acc_slide:13': 0, 'acc_slide:20': 0.9881889820098876, 'acc_slide:37': 0, 'count_slide:0': 0, 'count_slide:29': 12742, 'count_slide:36': 0, 'count_slide:7': 0, 'count_slide:9': 0, 'count_slide:12': 0, 'count_slide:14': 0, 'count_slide:16': 0, 'count_slide:18': 0, 'count_slide:20': 3810, 'acc_wg': 0.41858530044555664, 'acc_slide:2': 0, 'acc_slide:22': 0.41858530044555664, 'acc_slide:27': 0.9694907665252686, 'acc_slide:48': 0, 'count_slide:21': 3694, 'count_slide:23': 5288, 'count_slide:44': 0, 'count_slide:47': 0, 'acc_slide:5': 0, 'acc_slide:15': 0, 'acc_slide:17': 0, 'acc_slide:25': 0.7551915049552917, 'acc_slide:46': 0}, 'Average acc: 0.625\\n  slide = 20  [n =   3810]:\\tacc = 0.988\\n  slide = 21  [n =   3694]:\\tacc = 0.979\\n  slide = 22  [n =   7210]:\\tacc = 0.419\\n  slide = 23  [n =   5288]:\\tacc = 0.481\\n  slide = 24  [n =   7727]:\\tacc = 0.948\\n  slide = 25  [n =   4334]:\\tacc = 0.755\\n  slide = 26  [n =   3815]:\\tacc = 0.860\\n  slide = 27  [n =   4556]:\\tacc = 0.969\\n  slide = 28  [n =  31878]:\\tacc = 0.494\\n  slide = 29  [n =  12742]:\\tacc = 0.482\\nWorst-group acc: 0.419\\n'], 'accuracy': 0.6248030662536621, 'bin_counts': [0, 0, 0, 0, 0, 4526, 5093, 6440, 11827, 57168], 'bin_accuracies': [0, 0, 0, 0, 0, 0.49403446912765503, 0.4961712062358856, 0.479968935251236, 0.4455905854701996, 0.7000070214271545], 'log_likelihood': -0.9066956639289856, 'bin_confidences': [0, 0, 0, 0, 0, 0.5504527688026428, 0.6519535183906555, 0.7522538900375366, 0.8574658036231995, 0.9470052719116212], 'ece': 0.25623613043182597, 'sece': -0.25623613043182597}\n",
      "map-1-(4) {'ece': 0.20808591752803607, 'sece': -0.20808591752803607, 'wilds': [{'acc_slide:23': 0.5404689908027649, 'acc_slide:24': 0.914067566394806, 'acc_slide:29': 0.5067493319511414, 'acc_slide:36': 0, 'acc_wg': 0.5067493319511414, 'acc_slide:3': 0, 'acc_slide:14': 0, 'acc_slide:21': 0.8968597650527954, 'acc_slide:39': 0, 'count_slide:19': 0, 'count_slide:27': 4556, 'count_slide:28': 31878, 'count_slide:34': 0, 'count_slide:40': 0, 'count_slide:4': 0, 'count_slide:14': 0, 'count_slide:23': 5288, 'count_slide:24': 7727, 'count_slide:29': 12742, 'acc_slide:12': 0, 'acc_slide:18': 0, 'acc_slide:27': 0.9372256398200988, 'acc_slide:35': 0, 'count_slide:43': 0, 'count_slide:48': 0, 'acc_slide:5': 0, 'acc_slide:20': 0.8782151937484741, 'acc_slide:43': 0, 'count_slide:30': 0, 'acc_slide:49': 0, 'count_slide:3': 0, 'count_slide:11': 0, 'count_slide:25': 4334, 'acc_slide:4': 0, 'acc_slide:37': 0, 'acc_slide:40': 0, 'acc_slide:44': 0, 'acc_slide:38': 0, 'count_slide:39': 0, 'acc_slide:15': 0, 'acc_slide:22': 0.912343978881836, 'acc_slide:25': 0.725196123123169, 'acc_slide:33': 0, 'acc_slide:0': 0, 'count_slide:45': 0, 'count_slide:47': 0, 'acc_slide:41': 0, 'acc_slide:42': 0, 'acc_slide:47': 0, 'count_slide:22': 7210, 'acc_slide:6': 0, 'acc_slide:13': 0, 'acc_slide:17': 0, 'acc_slide:30': 0, 'count_slide:26': 3815, 'count_slide:42': 0, 'count_slide:0': 0, 'count_slide:5': 0, 'count_slide:6': 0, 'count_slide:10': 0, 'acc_slide:16': 0, 'acc_slide:26': 0.8288335800170898, 'acc_slide:32': 0, 'acc_slide:45': 0, 'count_slide:18': 0, 'count_slide:21': 3694, 'count_slide:35': 0, 'acc_slide:1': 0, 'acc_slide:2': 0, 'acc_slide:9': 0, 'count_slide:20': 3810, 'count_slide:32': 0, 'count_slide:36': 0, 'count_slide:38': 0, 'count_slide:46': 0, 'acc_slide:31': 0, 'count_slide:8': 0, 'count_slide:13': 0, 'count_slide:31': 0, 'count_slide:41': 0, 'count_slide:44': 0, 'acc_avg': 0.6864109635353088, 'acc_slide:11': 0, 'count_slide:1': 0, 'count_slide:9': 0, 'count_slide:15': 0, 'acc_slide:8': 0, 'acc_slide:46': 0, 'count_slide:2': 0, 'count_slide:12': 0, 'acc_slide:48': 0, 'count_slide:7': 0, 'count_slide:37': 0, 'count_slide:49': 0, 'acc_slide:7': 0, 'acc_slide:19': 0, 'acc_slide:28': 0.5706757307052612, 'acc_slide:34': 0, 'count_slide:17': 0, 'count_slide:33': 0, 'acc_slide:10': 0, 'count_slide:16': 0}, 'Average acc: 0.686\\n  slide = 20  [n =   3810]:\\tacc = 0.878\\n  slide = 21  [n =   3694]:\\tacc = 0.897\\n  slide = 22  [n =   7210]:\\tacc = 0.912\\n  slide = 23  [n =   5288]:\\tacc = 0.540\\n  slide = 24  [n =   7727]:\\tacc = 0.914\\n  slide = 25  [n =   4334]:\\tacc = 0.725\\n  slide = 26  [n =   3815]:\\tacc = 0.829\\n  slide = 27  [n =   4556]:\\tacc = 0.937\\n  slide = 28  [n =  31878]:\\tacc = 0.571\\n  slide = 29  [n =  12742]:\\tacc = 0.507\\nWorst-group acc: 0.507\\n'], 'accuracy': 0.6864109635353088, 'bin_counts': [0, 0, 0, 0, 0, 4563, 5032, 6900, 10850, 57709], 'bin_accuracies': [0, 0, 0, 0, 0, 0.48937103152275085, 0.4924483299255371, 0.49521738290786743, 0.5492165684700012, 0.7675579190254211], 'log_likelihood': -0.8119381070137024, 'bin_confidences': [0, 0, 0, 0, 0, 0.5510393381118774, 0.6514301300048828, 0.7526326775550842, 0.8549150228500366, 0.9672521948814392]}\n",
      "map-1-(3) {'wilds': [{'acc_slide:31': 0, 'acc_slide:35': 0, 'acc_slide:49': 0, 'count_slide:8': 0, 'count_slide:14': 0, 'count_slide:35': 0, 'acc_slide:7': 0, 'acc_slide:48': 0, 'count_slide:34': 0, 'acc_slide:36': 0, 'acc_slide:27': 0.9716857075691224, 'acc_slide:28': 0.5194805264472961, 'acc_slide:41': 0, 'acc_slide:46': 0, 'count_slide:4': 0, 'count_slide:29': 12742, 'count_slide:39': 0, 'acc_slide:23': 0.704046905040741, 'acc_slide:25': 0.7551915049552917, 'acc_slide:34': 0, 'count_slide:5': 0, 'count_slide:40': 0, 'acc_slide:10': 0, 'acc_slide:15': 0, 'count_slide:7': 0, 'count_slide:15': 0, 'count_slide:19': 0, 'count_slide:21': 3694, 'acc_slide:0': 0, 'acc_slide:39': 0, 'acc_slide:40': 0, 'count_slide:28': 31878, 'acc_slide:11': 0, 'acc_slide:13': 0, 'acc_slide:26': 0.8503276705741882, 'count_slide:42': 0, 'acc_slide:12': 0, 'count_slide:9': 0, 'count_slide:12': 0, 'count_slide:25': 4334, 'count_slide:37': 0, 'count_slide:44': 0, 'acc_slide:16': 0, 'acc_slide:20': 0.983464539051056, 'acc_slide:21': 0.9780725240707396, 'acc_slide:29': 0.4814785718917846, 'acc_slide:33': 0, 'count_slide:1': 0, 'count_slide:11': 0, 'count_slide:20': 3810, 'acc_slide:9': 0, 'acc_slide:8': 0, 'acc_slide:22': 0.41622745990753174, 'acc_slide:30': 0, 'acc_slide:32': 0, 'acc_slide:44': 0, 'acc_slide:45': 0, 'count_slide:13': 0, 'acc_slide:4': 0, 'count_slide:47': 0, 'count_slide:16': 0, 'acc_slide:3': 0, 'acc_slide:18': 0, 'acc_slide:19': 0, 'acc_slide:42': 0, 'acc_slide:43': 0, 'count_slide:2': 0, 'count_slide:24': 7727, 'acc_slide:1': 0, 'count_slide:48': 0, 'count_slide:43': 0, 'count_slide:0': 0, 'count_slide:3': 0, 'count_slide:6': 0, 'count_slide:23': 5288, 'count_slide:32': 0, 'count_slide:45': 0, 'acc_slide:2': 0, 'acc_slide:24': 0.9439627528190612, 'acc_slide:37': 0, 'count_slide:17': 0, 'count_slide:31': 0, 'acc_avg': 0.6468479037284851, 'count_slide:18': 0, 'count_slide:26': 3815, 'count_slide:41': 0, 'acc_slide:17': 0, 'acc_slide:6': 0, 'acc_slide:47': 0, 'count_slide:22': 7210, 'count_slide:27': 4556, 'count_slide:30': 0, 'count_slide:33': 0, 'count_slide:38': 0, 'acc_slide:5': 0, 'count_slide:46': 0, 'acc_slide:14': 0, 'acc_slide:38': 0, 'count_slide:10': 0, 'count_slide:36': 0, 'count_slide:49': 0, 'acc_wg': 0.41622745990753174}, 'Average acc: 0.647\\n  slide = 20  [n =   3810]:\\tacc = 0.983\\n  slide = 21  [n =   3694]:\\tacc = 0.978\\n  slide = 22  [n =   7210]:\\tacc = 0.416\\n  slide = 23  [n =   5288]:\\tacc = 0.704\\n  slide = 24  [n =   7727]:\\tacc = 0.944\\n  slide = 25  [n =   4334]:\\tacc = 0.755\\n  slide = 26  [n =   3815]:\\tacc = 0.850\\n  slide = 27  [n =   4556]:\\tacc = 0.972\\n  slide = 28  [n =  31878]:\\tacc = 0.519\\n  slide = 29  [n =  12742]:\\tacc = 0.481\\nWorst-group acc: 0.416\\n'], 'accuracy': 0.6468479037284851, 'bin_counts': [0, 0, 0, 0, 0, 4784, 5252, 5866, 6762, 62390], 'bin_accuracies': [0, 0, 0, 0, 0, 0.5480769276618958, 0.6011043190956116, 0.627344012260437, 0.5903578996658325, 0.6662285327911377], 'log_likelihood': -1.1782459020614624, 'bin_confidences': [0, 0, 0, 0, 0, 0.5511578321456909, 0.6508318781852722, 0.7510061264038086, 0.8527886271476746, 0.980638325214386], 'ece': 0.2632667914204278, 'sece': -0.2632667914204278}\n",
      "map-1-(2) {'ece': 0.07465822682053382, 'sece': -0.07465822682053382, 'wilds': [{'count_slide:46': 0, 'acc_slide:4': 0, 'acc_slide:34': 0, 'count_slide:13': 0, 'count_slide:20': 3810, 'count_slide:36': 0, 'count_slide:42': 0, 'acc_slide:37': 0, 'acc_slide:40': 0, 'count_slide:3': 0, 'count_slide:8': 0, 'count_slide:33': 0, 'acc_slide:17': 0, 'acc_slide:41': 0, 'acc_slide:43': 0, 'count_slide:29': 12742, 'count_slide:49': 0, 'count_slide:6': 0, 'count_slide:26': 3815, 'count_slide:30': 0, 'acc_slide:7': 0, 'acc_slide:9': 0, 'acc_slide:44': 0, 'acc_slide:48': 0, 'count_slide:4': 0, 'count_slide:37': 0, 'count_slide:5': 0, 'count_slide:11': 0, 'count_slide:17': 0, 'acc_avg': 0.8241352438926697, 'acc_slide:1': 0, 'acc_slide:15': 0, 'acc_slide:21': 0.720357358455658, 'acc_slide:26': 0.6941022276878357, 'count_slide:28': 31878, 'count_slide:47': 0, 'acc_slide:35': 0, 'count_slide:18': 0, 'count_slide:38': 0, 'acc_slide:8': 0, 'acc_slide:23': 0.819213330745697, 'acc_slide:28': 0.8949118256568909, 'acc_slide:29': 0.7618113160133362, 'acc_slide:31': 0, 'count_slide:27': 4556, 'count_slide:35': 0, 'acc_slide:3': 0, 'acc_slide:5': 0, 'acc_slide:16': 0, 'acc_slide:36': 0, 'acc_slide:46': 0, 'acc_slide:2': 0, 'count_slide:1': 0, 'count_slide:12': 0, 'count_slide:32': 0, 'acc_wg': 0.6941022276878357, 'acc_slide:0': 0, 'acc_slide:30': 0, 'acc_slide:32': 0, 'acc_slide:47': 0, 'count_slide:41': 0, 'acc_slide:25': 0.8191047310829163, 'count_slide:2': 0, 'count_slide:7': 0, 'count_slide:25': 4334, 'count_slide:40': 0, 'count_slide:34': 0, 'count_slide:39': 0, 'acc_slide:6': 0, 'acc_slide:14': 0, 'count_slide:15': 0, 'count_slide:21': 3694, 'count_slide:31': 0, 'count_slide:0': 0, 'count_slide:9': 0, 'count_slide:10': 0, 'acc_slide:13': 0, 'acc_slide:19': 0, 'acc_slide:27': 0.7993854284286499, 'acc_slide:38': 0, 'acc_slide:42': 0, 'count_slide:19': 0, 'count_slide:24': 7727, 'acc_slide:20': 0.7606298923492432, 'acc_slide:24': 0.743496835231781, 'acc_slide:33': 0, 'acc_slide:22': 0.8855755925178528, 'acc_slide:39': 0, 'acc_slide:45': 0, 'count_slide:23': 5288, 'count_slide:45': 0, 'count_slide:43': 0, 'count_slide:48': 0, 'acc_slide:10': 0, 'acc_slide:18': 0, 'count_slide:14': 0, 'count_slide:16': 0, 'count_slide:22': 7210, 'acc_slide:11': 0, 'acc_slide:12': 0, 'acc_slide:49': 0, 'count_slide:44': 0}, 'Average acc: 0.824\\n  slide = 20  [n =   3810]:\\tacc = 0.761\\n  slide = 21  [n =   3694]:\\tacc = 0.720\\n  slide = 22  [n =   7210]:\\tacc = 0.886\\n  slide = 23  [n =   5288]:\\tacc = 0.819\\n  slide = 24  [n =   7727]:\\tacc = 0.743\\n  slide = 25  [n =   4334]:\\tacc = 0.819\\n  slide = 26  [n =   3815]:\\tacc = 0.694\\n  slide = 27  [n =   4556]:\\tacc = 0.799\\n  slide = 28  [n =  31878]:\\tacc = 0.895\\n  slide = 29  [n =  12742]:\\tacc = 0.762\\nWorst-group acc: 0.694\\n'], 'accuracy': 0.8241352438926697, 'bin_counts': [0, 0, 0, 0, 0, 4844, 5185, 5988, 9211, 59826], 'bin_accuracies': [0, 0, 0, 0, 0, 0.5220891833305359, 0.5681774616241455, 0.6062124371528625, 0.6884160041809082, 0.913482427597046], 'log_likelihood': -0.424397885799408, 'bin_confidences': [0, 0, 0, 0, 0, 0.5497568845748901, 0.6506332159042358, 0.7524179220199585, 0.854968786239624, 0.9699600338935852]}\n",
      "map-1-(1) {'accuracy': 0.616596519947052, 'bin_counts': [0, 0, 0, 0, 0, 9097, 8554, 8708, 11104, 47591], 'bin_accuracies': [0, 0, 0, 0, 0, 0.5372100472450256, 0.6170212626457214, 0.6110473275184631, 0.5750179886817932, 0.6424113512039185], 'log_likelihood': -1.0207666158676147, 'bin_confidences': [0, 0, 0, 0, 0, 0.5496927499771118, 0.6496775150299072, 0.7507650852203369, 0.8537721037864685, 0.9694762229919434], 'ece': 0.2383214072366054, 'sece': -0.2383214072366054, 'wilds': [{'count_slide:38': 0, 'count_slide:39': 0, 'acc_slide:20': 0.9713910818099976, 'acc_slide:35': 0, 'count_slide:8': 0, 'count_slide:28': 31878, 'acc_slide:21': 0.8909041881561279, 'count_slide:35': 0, 'count_slide:25': 4334, 'count_slide:29': 12742, 'count_slide:33': 0, 'count_slide:44': 0, 'acc_slide:23': 0.5364977121353149, 'acc_slide:28': 0.49796098470687866, 'count_slide:3': 0, 'count_slide:19': 0, 'count_slide:13': 0, 'count_slide:37': 0, 'count_slide:43': 0, 'acc_slide:8': 0, 'acc_slide:36': 0, 'count_slide:10': 0, 'count_slide:12': 0, 'count_slide:4': 0, 'count_slide:22': 7210, 'count_slide:40': 0, 'acc_slide:9': 0, 'acc_slide:10': 0, 'acc_slide:24': 0.7886631488800049, 'acc_slide:42': 0, 'count_slide:5': 0, 'count_slide:9': 0, 'count_slide:15': 0, 'count_slide:26': 3815, 'acc_slide:12': 0, 'acc_slide:15': 0, 'acc_slide:37': 0, 'acc_slide:47': 0, 'count_slide:46': 0, 'count_slide:47': 0, 'acc_slide:29': 0.4747292399406433, 'acc_slide:25': 0.7494231462478638, 'count_slide:7': 0, 'count_slide:18': 0, 'count_slide:27': 4556, 'count_slide:30': 0, 'count_slide:31': 0, 'acc_slide:38': 0, 'acc_slide:43': 0, 'acc_slide:44': 0, 'count_slide:24': 7727, 'acc_slide:0': 0, 'acc_slide:30': 0, 'acc_slide:49': 0, 'count_slide:34': 0, 'count_slide:1': 0, 'count_slide:11': 0, 'count_slide:32': 0, 'acc_slide:4': 0, 'acc_slide:11': 0, 'acc_slide:13': 0, 'acc_slide:33': 0, 'acc_slide:40': 0, 'count_slide:23': 5288, 'count_slide:36': 0, 'count_slide:45': 0, 'acc_slide:5': 0, 'acc_slide:7': 0, 'acc_slide:19': 0, 'acc_slide:34': 0, 'acc_wg': 0.4747292399406433, 'acc_slide:18': 0, 'acc_slide:41': 0, 'count_slide:48': 0, 'count_slide:49': 0, 'acc_avg': 0.616596519947052, 'acc_slide:2': 0, 'acc_slide:45': 0, 'count_slide:42': 0, 'acc_slide:48': 0, 'count_slide:6': 0, 'count_slide:16': 0, 'count_slide:17': 0, 'acc_slide:14': 0, 'acc_slide:17': 0, 'acc_slide:27': 0.9337137937545776, 'acc_slide:39': 0, 'count_slide:20': 3810, 'count_slide:41': 0, 'acc_slide:22': 0.5844660401344299, 'acc_slide:26': 0.755439043045044, 'acc_slide:31': 0, 'acc_slide:32': 0, 'acc_slide:1': 0, 'acc_slide:3': 0, 'acc_slide:6': 0, 'acc_slide:16': 0, 'count_slide:21': 3694, 'acc_slide:46': 0, 'count_slide:0': 0, 'count_slide:2': 0, 'count_slide:14': 0}, 'Average acc: 0.617\\n  slide = 20  [n =   3810]:\\tacc = 0.971\\n  slide = 21  [n =   3694]:\\tacc = 0.891\\n  slide = 22  [n =   7210]:\\tacc = 0.584\\n  slide = 23  [n =   5288]:\\tacc = 0.536\\n  slide = 24  [n =   7727]:\\tacc = 0.789\\n  slide = 25  [n =   4334]:\\tacc = 0.749\\n  slide = 26  [n =   3815]:\\tacc = 0.755\\n  slide = 27  [n =   4556]:\\tacc = 0.934\\n  slide = 28  [n =  31878]:\\tacc = 0.498\\n  slide = 29  [n =  12742]:\\tacc = 0.475\\nWorst-group acc: 0.475\\n']}\n",
      "map-1-(0) {'bin_confidences': [0, 0, 0, 0, 0, 0.5509598255157471, 0.6518468260765076, 0.7514660954475403, 0.8569826483726501, 0.9638428092002868], 'ece': 0.06779438067444583, 'sece': -0.06779438067444583, 'wilds': [{'acc_slide:42': 0, 'count_slide:26': 3815, 'acc_slide:8': 0, 'acc_slide:18': 0, 'acc_slide:25': 0.8188740015029907, 'acc_slide:27': 0.9111062288284302, 'acc_slide:36': 0, 'acc_slide:40': 0, 'acc_slide:46': 0, 'count_slide:1': 0, 'acc_slide:1': 0, 'acc_slide:4': 0, 'acc_slide:13': 0, 'acc_slide:16': 0, 'count_slide:25': 4334, 'count_slide:30': 0, 'count_slide:35': 0, 'count_slide:17': 0, 'count_slide:41': 0, 'count_slide:42': 0, 'acc_wg': 0.6771307587623596, 'acc_slide:22': 0.7760055661201477, 'count_slide:14': 0, 'count_slide:16': 0, 'count_slide:5': 0, 'count_slide:9': 0, 'count_slide:19': 0, 'acc_slide:2': 0, 'acc_slide:21': 0.8684353232383728, 'acc_slide:37': 0, 'acc_slide:45': 0, 'count_slide:0': 0, 'count_slide:29': 12742, 'count_slide:46': 0, 'count_slide:47': 0, 'acc_slide:3': 0, 'acc_slide:15': 0, 'acc_slide:20': 0.8805774450302124, 'acc_slide:23': 0.7721255421638489, 'count_slide:34': 0, 'acc_slide:19': 0, 'acc_slide:48': 0, 'count_slide:3': 0, 'count_slide:7': 0, 'count_slide:4': 0, 'count_slide:6': 0, 'acc_avg': 0.8082394599914551, 'acc_slide:30': 0, 'acc_slide:43': 0, 'acc_slide:44': 0, 'count_slide:49': 0, 'acc_slide:0': 0, 'acc_slide:5': 0, 'acc_slide:32': 0, 'count_slide:38': 0, 'acc_slide:35': 0, 'acc_slide:38': 0, 'acc_slide:41': 0, 'count_slide:8': 0, 'acc_slide:10': 0, 'acc_slide:24': 0.8049696087837219, 'acc_slide:26': 0.7184796929359436, 'acc_slide:29': 0.6771307587623596, 'count_slide:13': 0, 'count_slide:39': 0, 'count_slide:28': 31878, 'count_slide:31': 0, 'acc_slide:7': 0, 'acc_slide:9': 0, 'acc_slide:17': 0, 'count_slide:24': 7727, 'count_slide:18': 0, 'count_slide:48': 0, 'acc_slide:6': 0, 'acc_slide:14': 0, 'acc_slide:39': 0, 'count_slide:15': 0, 'count_slide:32': 0, 'acc_slide:28': 0.8536921739578247, 'acc_slide:31': 0, 'acc_slide:49': 0, 'count_slide:21': 3694, 'acc_slide:11': 0, 'count_slide:20': 3810, 'count_slide:36': 0, 'count_slide:37': 0, 'acc_slide:47': 0, 'count_slide:27': 4556, 'count_slide:40': 0, 'count_slide:44': 0, 'count_slide:45': 0, 'acc_slide:12': 0, 'count_slide:11': 0, 'count_slide:22': 7210, 'count_slide:33': 0, 'count_slide:12': 0, 'count_slide:23': 5288, 'count_slide:43': 0, 'acc_slide:33': 0, 'acc_slide:34': 0, 'count_slide:2': 0, 'count_slide:10': 0}, 'Average acc: 0.808\\n  slide = 20  [n =   3810]:\\tacc = 0.881\\n  slide = 21  [n =   3694]:\\tacc = 0.868\\n  slide = 22  [n =   7210]:\\tacc = 0.776\\n  slide = 23  [n =   5288]:\\tacc = 0.772\\n  slide = 24  [n =   7727]:\\tacc = 0.805\\n  slide = 25  [n =   4334]:\\tacc = 0.819\\n  slide = 26  [n =   3815]:\\tacc = 0.718\\n  slide = 27  [n =   4556]:\\tacc = 0.911\\n  slide = 28  [n =  31878]:\\tacc = 0.854\\n  slide = 29  [n =  12742]:\\tacc = 0.677\\nWorst-group acc: 0.677\\n'], 'accuracy': 0.8082394599914551, 'bin_counts': [0, 0, 0, 0, 0, 5621, 6565, 7986, 13133, 51749], 'bin_accuracies': [0, 0, 0, 0, 0, 0.5166340470314026, 0.5701447129249573, 0.6553969383239746, 0.7754511833190918, 0.9020270705223083], 'log_likelihood': -0.4583433270454407}\n"
     ]
    }
   ],
   "source": [
    "for run in runs:\n",
    "    if dateutil.parser.parse(run.created_at) < datetime.datetime(2023, 3, 10, 10, 0):\n",
    "        continue\n",
    "    if run.state != \"finished\":\n",
    "        continue\n",
    "    if \"test_results\" not in run.summary:\n",
    "        continue\n",
    "    print(run.name, run.summary[\"test_results\"])"
   ]
  },
  {
   "cell_type": "code",
   "execution_count": 8,
   "metadata": {},
   "outputs": [
    {
     "data": {
      "text/plain": [
       "[{'name': 'SLURM',\n",
       "  'partition': 'gpu_4',\n",
       "  'job-name': 'camelyon',\n",
       "  'num_parallel_jobs': 120,\n",
       "  'ntasks': 1,\n",
       "  'cpus-per-task': 16,\n",
       "  'mem-per-cpu': 8000,\n",
       "  'time': 400,\n",
       "  'sbatch_args': {'gres': 'gpu:1',\n",
       "   'container-image': './../../../bdl_container.sqsh',\n",
       "   'container-mounts': './../..:/work,/etc/slurm/task_prolog:/etc/slurm/task_prolog',\n",
       "   'container-workdir': '/work/experiments/camelyon',\n",
       "   'container-writable': ''}},\n",
       " {'name': 'DEFAULT',\n",
       "  'path': 'results',\n",
       "  'repetitions': 1,\n",
       "  'reps_per_job': 1,\n",
       "  'reps_in_parallel': 1,\n",
       "  'params': {'batch_size': 32,\n",
       "   'data_path': '/mnt/d/Uni/Bachelorarbeit/linux/data',\n",
       "   'epochs': 2,\n",
       "   'use_amp': True,\n",
       "   'eval_samples': 10,\n",
       "   'ece_bins': 10,\n",
       "   'train_on_val': True,\n",
       "   'disable_wandb': True,\n",
       "   'eval_while_train': True,\n",
       "   'subsample': 0,\n",
       "   'test_subsample': 0}},\n",
       " {'name': 'BBB',\n",
       "  'params': {'model': 'bbb',\n",
       "   'members': 1,\n",
       "   'prior_std': 1.0,\n",
       "   'optimizer': {'base': {'lr': 0.001, 'momentum': 0.9, 'weight_decay': 0.01},\n",
       "    'bbb': {'dataset_size': 34912, 'mc_samples': 2, 'kl_rescaling': 1.0}}}}]"
      ]
     },
     "execution_count": 8,
     "metadata": {},
     "output_type": "execute_result"
    }
   ],
   "source": [
    "import yaml\n",
    "from pathlib import Path\n",
    "\n",
    "list(yaml.safe_load_all(Path(\"camelyon_tune.yaml\").read_text()))"
   ]
  },
  {
   "cell_type": "code",
   "execution_count": 24,
   "metadata": {},
   "outputs": [
    {
     "data": {
      "text/plain": [
       "<matplotlib.image.AxesImage at 0x7f3a4b0ee0d0>"
      ]
     },
     "execution_count": 24,
     "metadata": {},
     "output_type": "execute_result"
    },
    {
     "data": {
      "image/png": "[encoded data removed]",
      "text/plain": [
       "<Figure size 640x480 with 1 Axes>"
      ]
     },
     "metadata": {},
     "output_type": "display_data"
    }
   ],
   "source": [
    "from experiments.base import wilds1\n",
    "testloader = wilds1.camelyon_loader(wilds1.camelyon_split(DATA_PATH, \"test\"), 1)\n",
    "\n",
    "wilds1.imshow(next(iter(testloader))[0][0])"
   ]
  },
  {
   "cell_type": "code",
   "execution_count": 23,
   "metadata": {},
   "outputs": [
    {
     "data": {
      "text/plain": [
       "<matplotlib.image.AxesImage at 0x7f3a4fb20820>"
      ]
     },
     "execution_count": 23,
     "metadata": {},
     "output_type": "execute_result"
    },
    {
     "data": {
      "image/png": "[encoded data removed]",
      "text/plain": [
       "<Figure size 640x480 with 1 Axes>"
      ]
     },
     "metadata": {},
     "output_type": "display_data"
    }
   ],
   "source": [
    "trainloader = wilds1.camelyon_loader(wilds1.camelyon_split(DATA_PATH, \"train\"), 1)\n",
    "\n",
    "wilds1.imshow(next(iter(trainloader))[0][0])"
   ]
  },
  {
   "cell_type": "code",
   "execution_count": 8,
   "metadata": {},
   "outputs": [],
   "source": [
    "from experiments.camelyon.models import get_model\n",
    "from experiments.camelyon.camelyon import train_model, eval_model\n",
    "\n",
    "config = {\n",
    "    \"model\": \"bbb\",\n",
    "    \"batch_size\": 32,\n",
    "    \"data_path\": DATA_PATH,\n",
    "    \"epochs\": 1,\n",
    "    \"use_amp\": True,\n",
    "    \"eval_samples\": 10,\n",
    "    \"ece_bins\": 10,\n",
    "    \"train_on_val\": True,\n",
    "    \"disable_wandb\": True,\n",
    "\n",
    "    \"members\": 1,\n",
    "    \"prior_std\": 1.0,\n",
    "    \"optimizer\": {\n",
    "        \"base\": {\n",
    "            \"lr\": 0.001,\n",
    "            \"momentum\": 0.9,\n",
    "            \"weight_decay\": 0.0\n",
    "        },\n",
    "        \"bbb\": {\n",
    "            \"dataset_size\": 33568,\n",
    "            \"mc_samples\": 2,\n",
    "            \"kl_rescaling\": 1.0\n",
    "        }\n",
    "    }\n",
    "}"
   ]
  },
  {
   "cell_type": "code",
   "execution_count": null,
   "metadata": {},
   "outputs": [],
   "source": [
    "model = get_model(\"bbb\", config, device)\n",
    "\n",
    "train_model(model, device, config, log, \"results/\")"
   ]
  },
  {
   "cell_type": "code",
   "execution_count": 23,
   "metadata": {},
   "outputs": [],
   "source": [
    "from experiments.camelyon.models import get_model\n",
    "\n",
    "config = {\n",
    "    \"batch_size\": 32,\n",
    "    \"data_path\": DATA_PATH,\n",
    "    \"disable_wandb\": True,\n",
    "    \"use_amp\": True,\n",
    "    \"eval_samples\": 10,\n",
    "    \"ece_bins\": 10,\n",
    "\n",
    "    \"members\": 1,\n",
    "    \"optimizer\": {\n",
    "        \"base\": {\n",
    "            \"lr\": 0.001,\n",
    "            \"momentum\": 0.9,\n",
    "            \"weight_decay\": 0.01\n",
    "        },\n",
    "        \"swag\": {\n",
    "            \"update_interval\": 630,\n",
    "            \"start_epoch\": 3,\n",
    "            \"deviation_samples\": 30\n",
    "        }\n",
    "    }\n",
    "}\n",
    "\n",
    "swag_model = get_model(\"swag\", config, device)\n",
    "swag_model.load_state_dict(torch.load(\"/mnt/d/Uni/PdF/results/camelyon/SWAG/rep_00swag_final.tar\"))"
   ]
  },
  {
   "cell_type": "code",
   "execution_count": 3,
   "metadata": {},
   "outputs": [],
   "source": [
    "map_model = get_model(\"map\", config, device)\n",
    "map_model.load_state_dict(torch.load(\"/mnt/d/Uni/PdF/results/camelyon/MAP/rep_00map_final.tar\"))"
   ]
  },
  {
   "cell_type": "code",
   "execution_count": null,
   "metadata": {},
   "outputs": [],
   "source": [
    "from src.algos.util import patch_batchnorm\n",
    "\n",
    "patch_batchnorm(swag_model.models[0], track_running_stats=False)\n",
    "swag_model.models[0]"
   ]
  },
  {
   "cell_type": "code",
   "execution_count": null,
   "metadata": {},
   "outputs": [],
   "source": [
    "def check_norm(module):\n",
    "    if \"BatchNorm\" in module.__class__.__name__:\n",
    "        print(module.running_mean.min())\n",
    "\n",
    "swag_model.models[0].apply(check_norm)"
   ]
  },
  {
   "cell_type": "code",
   "execution_count": 26,
   "metadata": {},
   "outputs": [
    {
     "name": "stdout",
     "output_type": "stream",
     "text": [
      "tensor(-0.7290)\n"
     ]
    },
    {
     "data": {
      "text/plain": [
       "{'wilds': ({'acc_avg': 0.6087499856948853,\n",
       "   'acc_slide:0': 0.0,\n",
       "   'count_slide:0': 0.0,\n",
       "   'acc_slide:1': 0.0,\n",
       "   'count_slide:1': 0.0,\n",
       "   'acc_slide:2': 0.0,\n",
       "   'count_slide:2': 0.0,\n",
       "   'acc_slide:3': 0.0,\n",
       "   'count_slide:3': 0.0,\n",
       "   'acc_slide:4': 0.0,\n",
       "   'count_slide:4': 0.0,\n",
       "   'acc_slide:5': 0.0,\n",
       "   'count_slide:5': 0.0,\n",
       "   'acc_slide:6': 0.0,\n",
       "   'count_slide:6': 0.0,\n",
       "   'acc_slide:7': 0.0,\n",
       "   'count_slide:7': 0.0,\n",
       "   'acc_slide:8': 0.0,\n",
       "   'count_slide:8': 0.0,\n",
       "   'acc_slide:9': 0.0,\n",
       "   'count_slide:9': 0.0,\n",
       "   'acc_slide:10': 0.0,\n",
       "   'count_slide:10': 0.0,\n",
       "   'acc_slide:11': 0.0,\n",
       "   'count_slide:11': 0.0,\n",
       "   'acc_slide:12': 0.0,\n",
       "   'count_slide:12': 0.0,\n",
       "   'acc_slide:13': 0.0,\n",
       "   'count_slide:13': 0.0,\n",
       "   'acc_slide:14': 0.0,\n",
       "   'count_slide:14': 0.0,\n",
       "   'acc_slide:15': 0.0,\n",
       "   'count_slide:15': 0.0,\n",
       "   'acc_slide:16': 0.0,\n",
       "   'count_slide:16': 0.0,\n",
       "   'acc_slide:17': 0.0,\n",
       "   'count_slide:17': 0.0,\n",
       "   'acc_slide:18': 0.0,\n",
       "   'count_slide:18': 0.0,\n",
       "   'acc_slide:19': 0.0,\n",
       "   'count_slide:19': 0.0,\n",
       "   'acc_slide:20': 0.40740740299224854,\n",
       "   'count_slide:20': 27.0,\n",
       "   'acc_slide:21': 1.0,\n",
       "   'count_slide:21': 10.0,\n",
       "   'acc_slide:22': 0.6092317700386047,\n",
       "   'count_slide:22': 3163.0,\n",
       "   'acc_slide:23': 0.0,\n",
       "   'count_slide:23': 0.0,\n",
       "   'acc_slide:24': 0.0,\n",
       "   'count_slide:24': 0.0,\n",
       "   'acc_slide:25': 0.0,\n",
       "   'count_slide:25': 0.0,\n",
       "   'acc_slide:26': 0.0,\n",
       "   'count_slide:26': 0.0,\n",
       "   'acc_slide:27': 0.0,\n",
       "   'count_slide:27': 0.0,\n",
       "   'acc_slide:28': 0.0,\n",
       "   'count_slide:28': 0.0,\n",
       "   'acc_slide:29': 0.0,\n",
       "   'count_slide:29': 0.0,\n",
       "   'acc_slide:30': 0.0,\n",
       "   'count_slide:30': 0.0,\n",
       "   'acc_slide:31': 0.0,\n",
       "   'count_slide:31': 0.0,\n",
       "   'acc_slide:32': 0.0,\n",
       "   'count_slide:32': 0.0,\n",
       "   'acc_slide:33': 0.0,\n",
       "   'count_slide:33': 0.0,\n",
       "   'acc_slide:34': 0.0,\n",
       "   'count_slide:34': 0.0,\n",
       "   'acc_slide:35': 0.0,\n",
       "   'count_slide:35': 0.0,\n",
       "   'acc_slide:36': 0.0,\n",
       "   'count_slide:36': 0.0,\n",
       "   'acc_slide:37': 0.0,\n",
       "   'count_slide:37': 0.0,\n",
       "   'acc_slide:38': 0.0,\n",
       "   'count_slide:38': 0.0,\n",
       "   'acc_slide:39': 0.0,\n",
       "   'count_slide:39': 0.0,\n",
       "   'acc_slide:40': 0.0,\n",
       "   'count_slide:40': 0.0,\n",
       "   'acc_slide:41': 0.0,\n",
       "   'count_slide:41': 0.0,\n",
       "   'acc_slide:42': 0.0,\n",
       "   'count_slide:42': 0.0,\n",
       "   'acc_slide:43': 0.0,\n",
       "   'count_slide:43': 0.0,\n",
       "   'acc_slide:44': 0.0,\n",
       "   'count_slide:44': 0.0,\n",
       "   'acc_slide:45': 0.0,\n",
       "   'count_slide:45': 0.0,\n",
       "   'acc_slide:46': 0.0,\n",
       "   'count_slide:46': 0.0,\n",
       "   'acc_slide:47': 0.0,\n",
       "   'count_slide:47': 0.0,\n",
       "   'acc_slide:48': 0.0,\n",
       "   'count_slide:48': 0.0,\n",
       "   'acc_slide:49': 0.0,\n",
       "   'count_slide:49': 0.0,\n",
       "   'acc_wg': 0.40740740299224854},\n",
       "  'Average acc: 0.609\\n  slide = 20  [n =     27]:\\tacc = 0.407\\n  slide = 21  [n =     10]:\\tacc = 1.000\\n  slide = 22  [n =   3163]:\\tacc = 0.609\\nWorst-group acc: 0.407\\n'),\n",
       " 'accuracy': tensor(0.6087),\n",
       " 'log_likelihood': tensor(-0.6595),\n",
       " 'ece': 0.012053762674331664,\n",
       " 'sece': 0.0076026592403650286,\n",
       " 'bin_accuracies': array([0.        , 0.        , 0.        , 0.        , 0.        ,\n",
       "        0.56257045, 0.64312267, 0.71476507, 0.86274511, 1.        ]),\n",
       " 'bin_confidences': array([0.        , 0.        , 0.        , 0.        , 0.        ,\n",
       "        0.54572827, 0.64301497, 0.73866361, 0.8351714 , 0.94991386]),\n",
       " 'bin_counts': [0, 0, 0, 0, 0, 1774, 1076, 298, 51, 1]}"
      ]
     },
     "execution_count": 26,
     "metadata": {},
     "output_type": "execute_result"
    }
   ],
   "source": [
    "from experiments.camelyon.camelyon import eval_model\n",
    "\n",
    "eval_model(swag_model, config, device, subsample=100)"
   ]
  },
  {
   "cell_type": "code",
   "execution_count": 10,
   "metadata": {},
   "outputs": [
    {
     "data": {
      "text/plain": [
       "tensor([[ 2.2165e-02,  1.3912e-02,  4.7901e-03,  ...,  6.6772e-03,\n",
       "          1.0793e-02,  2.2088e-03],\n",
       "        [-4.0652e-02, -2.8253e-02, -2.3070e-02,  ..., -1.9375e-03,\n",
       "          4.5299e-03, -2.4099e-03],\n",
       "        [-4.1332e-02, -2.9972e-02, -2.1521e-02,  ..., -3.7937e-03,\n",
       "          1.8733e-03, -4.1334e-03],\n",
       "        ...,\n",
       "        [-2.5996e-02, -1.7828e-02, -1.3659e-02,  ..., -5.0741e-03,\n",
       "         -5.6074e-03, -5.3395e-03],\n",
       "        [-1.9012e-03, -1.4884e-03, -5.1615e-03,  ..., -8.0732e-03,\n",
       "         -1.1713e-03, -3.3557e-03],\n",
       "        [-9.9659e-03, -6.4794e-03, -8.7379e-04,  ...,  6.8125e-03,\n",
       "         -6.2278e-05,  2.1478e-03]], device='cuda:0')"
      ]
     },
     "execution_count": 10,
     "metadata": {},
     "output_type": "execute_result"
    }
   ],
   "source": [
    "swag_model.optimizers[0].state[\"__deviations\"]"
   ]
  }
 ],
 "metadata": {
  "kernelspec": {
   "display_name": "bdl2",
   "language": "python",
   "name": "python3"
  },
  "language_info": {
   "codemirror_mode": {
    "name": "ipython",
    "version": 3
   },
   "file_extension": ".py",
   "mimetype": "text/x-python",
   "name": "python",
   "nbconvert_exporter": "python",
   "pygments_lexer": "ipython3",
   "version": "3.10.10"
  },
  "orig_nbformat": 4
 },
 "nbformat": 4,
 "nbformat_minor": 2
}
