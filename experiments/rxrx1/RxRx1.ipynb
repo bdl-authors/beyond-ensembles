{
 "cells": [
  {
   "cell_type": "code",
   "execution_count": 1,
   "metadata": {},
   "outputs": [
    {
     "name": "stderr",
     "output_type": "stream",
     "text": [
      "Failed to detect the name of this notebook, you can set it manually with the WANDB_NOTEBOOK_NAME environment variable to enable code saving.\n"
     ]
    },
    {
     "data": {
      "text/plain": []
     },
     "execution_count": 1,
     "metadata": {},
     "output_type": "execute_result"
    }
   ],
   "source": [
    "%load_ext autoreload\n",
    "%autoreload 2\n",
    "\n",
    "import sys\n",
    "sys.path.append(\"../../\")\n",
    "\n",
    "import torch\n",
    "import torch.nn as nn\n",
    "import torch.nn.functional as F\n",
    "import math\n",
    "\n",
    "DATA_PATH = \"../../data\"\n",
    "\n",
    "if torch.cuda.is_available():\n",
    "    device = torch.device(\"cuda\")\n",
    "else:\n",
    "    device = torch.device(\"cpu\")\n",
    "\n",
    "from src.log_mock import PrintLog\n",
    "log = PrintLog()\n",
    "\n",
    "import wandb\n",
    "\n",
    "wandb.init(mode=\"disabled\")"
   ]
  },
  {
   "cell_type": "code",
   "execution_count": 2,
   "metadata": {},
   "outputs": [],
   "source": [
    "wapi = wandb.Api()\n",
    "runs = wapi.runs(\"foobar/rxrx1\")"
   ]
  },
  {
   "cell_type": "code",
   "execution_count": 3,
   "metadata": {},
   "outputs": [
    {
     "name": "stdout",
     "output_type": "stream",
     "text": [
      "ll_ivon_1-(5) dict_keys(['_timestamp', 'train_loss', 'test_results', 'id_test_results', 'eval', '_step', '_wandb', '_runtime'])\n",
      "ll_ivon_1-(4) dict_keys(['_step', '_wandb', '_runtime', '_timestamp', 'train_loss', 'test_results', 'id_test_results', 'eval'])\n",
      "ll_ivon_1-(3) dict_keys(['_timestamp', 'train_loss', 'test_results', 'id_test_results', 'eval', '_step', '_wandb', '_runtime'])\n",
      "ll_ivon_1-(2) dict_keys(['eval', '_step', '_wandb', '_runtime', '_timestamp', 'train_loss', 'test_results', 'id_test_results'])\n",
      "ll_ivon_1-(0) dict_keys(['test_results', 'id_test_results', 'eval', '_step', '_wandb', '_runtime', '_timestamp', 'train_loss'])\n",
      "ll_ivon_1-(1) dict_keys(['test_results', 'id_test_results', 'eval', '_step', '_wandb', '_runtime', '_timestamp', 'train_loss'])\n",
      "laplace-5-1 dict_keys([])\n",
      "laplace-1-(1) dict_keys(['_step', '_wandb', '_runtime', '_timestamp', 'test_results', 'id_test_results'])\n",
      "laplace-5-0 dict_keys(['_step', '_wandb', '_runtime', '_timestamp', 'test_results', 'id_test_results'])\n",
      "svgd_1-(4) dict_keys(['eval', '_step', '_wandb', '_runtime', '_timestamp', 'train_loss', 'test_results', 'id_test_results'])\n",
      "svgd_1-(3) dict_keys(['eval', '_step', '_wandb', '_runtime', '_timestamp', 'train_loss', 'test_results', 'id_test_results'])\n",
      "svgd_1-(1) dict_keys(['_wandb', '_runtime', '_timestamp', 'train_loss', 'test_results', 'id_test_results', 'eval', '_step'])\n",
      "svgd_1-(2) dict_keys(['_runtime', '_timestamp', 'train_loss', 'test_results', 'id_test_results', 'eval', '_step', '_wandb'])\n",
      "svgd_1-(0) dict_keys(['_wandb', '_runtime', '_timestamp', 'train_loss', 'test_results', 'id_test_results', 'eval', '_step'])\n",
      "laplace-1-(0) dict_keys(['_runtime', '_timestamp', 'test_results', 'id_test_results', '_step', '_wandb'])\n",
      "laplace_1-(3) dict_keys(['_wandb', '_runtime', '_timestamp', 'test_results', 'id_test_results', '_step'])\n",
      "laplace_1-(4) dict_keys(['_runtime', '_timestamp', 'test_results', 'id_test_results', '_step', '_wandb'])\n",
      "laplace_1-(5) dict_keys(['_step', '_wandb', '_runtime', '_timestamp', 'test_results', 'id_test_results'])\n",
      "laplace_1-(1) dict_keys(['_step', '_wandb', '_runtime', '_timestamp', 'test_results', 'id_test_results'])\n",
      "laplace_1-(0) dict_keys(['_runtime', '_timestamp', 'test_results', 'id_test_results', '_step', '_wandb'])\n",
      "laplace_1-(2) dict_keys(['_runtime', '_timestamp', 'test_results', 'id_test_results', '_step', '_wandb'])\n",
      "bbb_prior0.5_1-(1) dict_keys(['_timestamp', 'train_loss', 'test_results', 'id_test_results', 'eval', '_step', '_wandb', '_runtime'])\n",
      "bbb_prior0.1_1-(0) dict_keys(['id_test_results', 'eval', '_step', '_wandb', '_runtime', '_timestamp', 'train_loss', 'test_results'])\n",
      "bbb_prior0.5_1-(4) dict_keys(['_runtime', '_timestamp', 'train_loss', 'test_results', 'id_test_results', 'eval', '_step', '_wandb'])\n",
      "bbb_prior0.1_1-(3) dict_keys(['_step', '_wandb', '_runtime', '_timestamp', 'train_loss', 'test_results', 'id_test_results', 'eval'])\n",
      "bbb_prior0.5_1-(0) dict_keys(['_step', '_wandb', '_runtime', '_timestamp', 'train_loss', 'test_results', 'id_test_results', 'eval'])\n",
      "bbb_prior0.1_1-(2) dict_keys(['test_results', 'id_test_results', 'eval', '_step', '_wandb', '_runtime', '_timestamp', 'train_loss'])\n",
      "bbb_prior0.5_1-(5) dict_keys(['_runtime', '_timestamp', 'train_loss', 'test_results', 'id_test_results', 'eval', '_step', '_wandb'])\n",
      "bbb_prior0.5_1-(3) dict_keys(['eval', '_step', '_wandb', '_runtime', '_timestamp', 'train_loss', 'test_results', 'id_test_results'])\n",
      "bbb_prior0.5_1-(2) dict_keys(['test_results', 'id_test_results', 'eval', '_step', '_wandb', '_runtime', '_timestamp', 'train_loss'])\n",
      "bbb_prior0.1_1-(5) dict_keys(['train_loss', 'test_results', 'id_test_results', 'eval', '_step', '_wandb', '_runtime', '_timestamp'])\n",
      "bbb_prior0.1_1-(1) dict_keys(['test_results', 'id_test_results', 'eval', '_step', '_wandb', '_runtime', '_timestamp', 'train_loss'])\n",
      "bbb_prior0.1_1-(4) dict_keys(['_step', '_wandb', '_runtime', '_timestamp', 'train_loss', 'test_results', 'id_test_results', 'eval'])\n",
      "rank1_1-(4) dict_keys(['_timestamp', 'train_loss', 'test_results', 'id_test_results', 'eval', '_step', '_wandb', '_runtime'])\n",
      "rank1_1-(3) dict_keys(['_step', '_wandb', '_runtime', '_timestamp', 'train_loss', 'test_results', 'id_test_results', 'eval'])\n",
      "rank1_1-(2) dict_keys(['_timestamp', 'train_loss', 'test_results', 'id_test_results', 'eval', '_step', '_wandb', '_runtime'])\n",
      "rank1_1-(1) dict_keys(['_step', '_wandb', '_runtime', '_timestamp', 'train_loss', 'test_results', 'id_test_results', 'eval'])\n",
      "rank1_1-(0) dict_keys(['_wandb', '_runtime', '_timestamp', 'train_loss', 'test_results', 'id_test_results', 'eval', '_step'])\n",
      "swag_5-(3) dict_keys(['_step', '_wandb', '_runtime', '_timestamp', 'test_results', 'id_test_results'])\n",
      "mcd_5-(4) dict_keys(['_step', '_wandb', '_runtime', '_timestamp', 'test_results', 'id_test_results'])\n",
      "mcd_5-(0) dict_keys(['_timestamp', 'test_results', 'id_test_results', '_step', '_wandb', '_runtime'])\n",
      "swag_5-(4) dict_keys(['_timestamp', 'test_results', 'id_test_results', '_step', '_wandb', '_runtime'])\n",
      "swag_5-(2) dict_keys(['_step', '_wandb', '_runtime', '_timestamp', 'test_results', 'id_test_results'])\n",
      "mcd_5-(1) dict_keys(['_step', '_wandb', '_runtime', '_timestamp', 'test_results', 'id_test_results'])\n",
      "mcd_5-(3) dict_keys(['_wandb', '_runtime', '_timestamp', 'test_results', 'id_test_results', '_step'])\n",
      "swag_5-(1) dict_keys(['_step', '_wandb', '_runtime', '_timestamp', 'test_results', 'id_test_results'])\n",
      "mcd_5-(2) dict_keys(['id_test_results', '_step', '_wandb', '_runtime', '_timestamp', 'test_results'])\n",
      "swag_5-(0) dict_keys(['_timestamp', 'test_results', 'id_test_results', '_step', '_wandb', '_runtime'])\n",
      "rank_1-(5) dict_keys(['_wandb'])\n",
      "rank_1-(4) dict_keys(['_wandb'])\n",
      "rank_1-(3) dict_keys(['_wandb'])\n",
      "rank_1-(1) dict_keys(['_wandb'])\n",
      "rank_1-(2) dict_keys(['_wandb'])\n",
      "bbb_kl0.2_1-(5) dict_keys(['eval', '_step', '_wandb', '_runtime', '_timestamp', 'train_loss', 'test_results', 'id_test_results'])\n",
      "bbb_kl0.2_1-(4) dict_keys(['train_loss', 'test_results', 'id_test_results', 'eval', '_step', '_wandb', '_runtime', '_timestamp'])\n",
      "rank_1-(0) dict_keys(['_wandb'])\n",
      "bbb_kl0.2_1-(1) dict_keys(['eval', '_step', '_wandb', '_runtime', '_timestamp', 'train_loss', 'test_results', 'id_test_results'])\n",
      "bbb_kl0.2_1-(0) dict_keys(['id_test_results', 'eval', '_step', '_wandb', '_runtime', '_timestamp', 'train_loss', 'test_results'])\n",
      "bbb_kl0.2_1-(3) dict_keys(['_timestamp', 'train_loss', 'test_results', 'id_test_results', 'eval', '_step', '_wandb', '_runtime'])\n",
      "bbb_kl0.2_1-(2) dict_keys(['_timestamp', 'train_loss', 'test_results', 'id_test_results', 'eval', '_step', '_wandb', '_runtime'])\n",
      "bbb_1-(5) dict_keys(['eval', '_step', '_wandb', '_runtime', '_timestamp', 'train_loss', 'test_results', 'id_test_results'])\n",
      "bbb_1-(2) dict_keys(['_runtime', '_timestamp', 'train_loss', 'test_results', 'id_test_results', 'eval', '_step', '_wandb'])\n",
      "bbb_1-(4) dict_keys(['id_test_results', 'eval', '_step', '_wandb', '_runtime', '_timestamp', 'train_loss', 'test_results'])\n",
      "bbb_1-(1) dict_keys(['_runtime', '_timestamp', 'train_loss', 'test_results', 'id_test_results', 'eval', '_step', '_wandb'])\n",
      "bbb_1-(3) dict_keys(['_timestamp', 'train_loss', 'test_results', 'id_test_results', 'eval', '_step', '_wandb', '_runtime'])\n",
      "bbb_1-(0) dict_keys(['_timestamp', 'train_loss', 'test_results', 'id_test_results', 'eval', '_step', '_wandb', '_runtime'])\n",
      "swag_1-(4) dict_keys(['_runtime', '_timestamp', 'train_loss', 'test_results', 'id_test_results', 'eval', '_step', '_wandb'])\n",
      "swag_1-(2) dict_keys(['_timestamp', 'train_loss', 'test_results', 'id_test_results', 'eval', '_step', '_wandb', '_runtime'])\n",
      "swag_1-(5) dict_keys(['eval', '_step', '_wandb', '_runtime', '_timestamp', 'train_loss', 'test_results', 'id_test_results'])\n",
      "swag_1-(3) dict_keys(['eval', '_step', '_wandb', '_runtime', '_timestamp', 'train_loss', 'test_results', 'id_test_results'])\n",
      "swag_1-(1) dict_keys(['_step', '_wandb', '_runtime', '_timestamp', 'train_loss', 'test_results', 'id_test_results', 'eval'])\n",
      "swag_1-(0) dict_keys(['train_loss', 'test_results', 'id_test_results', 'eval', '_step', '_wandb', '_runtime', '_timestamp'])\n",
      "map_5-(4) dict_keys(['_wandb', '_runtime', '_timestamp', 'test_results', 'id_test_results', '_step'])\n",
      "map_5-(3) dict_keys(['_timestamp', 'test_results', 'id_test_results', '_step', '_wandb', '_runtime'])\n",
      "map_5-(2) dict_keys(['_runtime', '_timestamp', 'test_results', 'id_test_results', '_step', '_wandb'])\n",
      "map_5-(1) dict_keys(['_step', '_wandb', '_runtime', '_timestamp', 'test_results', 'id_test_results'])\n",
      "map_5-(0) dict_keys(['_step', '_wandb', '_runtime', '_timestamp', 'test_results', 'id_test_results'])\n",
      "mcd_1-(5) dict_keys(['id_test_results', 'eval', '_step', '_wandb', '_runtime', '_timestamp', 'train_loss', 'test_results'])\n",
      "mcd_1-(4) dict_keys(['_step', '_wandb', '_runtime', '_timestamp', 'train_loss', 'test_results', 'id_test_results', 'eval'])\n",
      "mcd_1-(3) dict_keys(['_step', '_wandb', '_runtime', '_timestamp', 'train_loss', 'test_results', 'id_test_results', 'eval'])\n",
      "mcd_1-(2) dict_keys(['_runtime', '_timestamp', 'train_loss', 'test_results', 'id_test_results', 'eval', '_step', '_wandb'])\n",
      "mcd_1-(1) dict_keys(['_runtime', '_timestamp', 'train_loss', 'test_results', 'id_test_results', 'eval', '_step', '_wandb'])\n",
      "mcd_1-(0) dict_keys(['eval', '_step', '_wandb', '_runtime', '_timestamp', 'train_loss', 'test_results', 'id_test_results'])\n",
      "map_1-(4) dict_keys(['_runtime', '_timestamp', 'train_loss', 'test_results', 'id_test_results', 'eval', '_step', '_wandb'])\n",
      "map_1-(2) dict_keys(['_timestamp', 'train_loss', 'test_results', 'id_test_results', 'eval', '_step', '_wandb', '_runtime'])\n",
      "map_1-(3) dict_keys(['_step', '_wandb', '_runtime', '_timestamp', 'train_loss', 'test_results', 'id_test_results', 'eval'])\n",
      "map_1-(5) dict_keys(['train_loss', 'test_results', 'id_test_results', 'eval', '_step', '_wandb', '_runtime', '_timestamp'])\n",
      "map_1-(1) dict_keys(['_timestamp', 'train_loss', 'test_results', 'id_test_results', 'eval', '_step', '_wandb', '_runtime'])\n",
      "map_1-(0) dict_keys(['train_loss', 'test_results', 'id_test_results', 'eval', '_step', '_wandb', '_runtime', '_timestamp'])\n",
      "map_1-(0) dict_keys(['_timestamp', 'train_loss', 'test_results', 'id_test_results', 'eval', '_step', '_wandb', '_runtime'])\n"
     ]
    }
   ],
   "source": [
    "for run in runs:\n",
    "    print(run.name, run.summary.keys())"
   ]
  },
  {
   "cell_type": "code",
   "execution_count": 4,
   "metadata": {},
   "outputs": [],
   "source": [
    "import plotly.express as px\n",
    "import pandas as pd\n",
    "import dateutil\n",
    "import datetime\n",
    "\n",
    "def create_plot_data_for_run(run):\n",
    "    parts = run.name.split(\"-\")\n",
    "    if len(parts) > 2:\n",
    "        model_name = parts[0] + \"-\" + parts[1]\n",
    "    else:\n",
    "        model_name = parts[0]\n",
    "\n",
    "    return {\n",
    "        \"model\": model_name,\n",
    "        \"ood accuracy\": run.summary[\"test_results\"][\"accuracy\"],\n",
    "        \"ood log likelihood\": run.summary[\"test_results\"][\"log_likelihood\"],\n",
    "        \"ood ece\": run.summary[\"test_results\"][\"ece\"],\n",
    "        \"ood sece\": run.summary[\"test_results\"][\"sece\"],\n",
    "        \"id accuracy\": run.summary[\"id_test_results\"][\"accuracy\"],\n",
    "        \"id log likelihood\": run.summary[\"id_test_results\"][\"log_likelihood\"],\n",
    "        \"id ece\": run.summary[\"id_test_results\"][\"ece\"],\n",
    "        \"id sece\": run.summary[\"id_test_results\"][\"sece\"],\n",
    "    }\n",
    "\n",
    "def plot(data, value):\n",
    "    plot = px.box(data, x=\"model\", y=value, color=\"model\")\n",
    "    return plot\n",
    "\n",
    "def pareto_plot(data, x, y):\n",
    "    plot = px.scatter(data, x=x, error_x=f\"{x}_std\", y=y, error_y=f\"{y}_std\", color=\"model\")\n",
    "    return plot\n",
    "\n",
    "def build_data(runs):\n",
    "    rows = []\n",
    "    for run in runs:\n",
    "        if dateutil.parser.parse(run.created_at) < datetime.datetime(2023, 3, 10, 10, 0):\n",
    "            continue\n",
    "        if run.state != \"finished\":\n",
    "            continue\n",
    "        if \"old\" in run.tags:\n",
    "            print(\"Skipping old run \" + run.name)\n",
    "            continue\n",
    "        if \"test_results\" not in run.summary:\n",
    "            print(\"Skipping crashed run \" + run.name)\n",
    "            continue\n",
    "        rows.append(create_plot_data_for_run(run))\n",
    "    return pd.DataFrame.from_dict(rows)\n",
    "\n",
    "def aggregate_data(data):\n",
    "    aggregated_data = data.groupby([\"model\"]).agg({\n",
    "        \"model\": \"first\",\n",
    "        \"ood accuracy\": [\"mean\", \"sem\"],\n",
    "        \"ood log likelihood\": [\"mean\", \"sem\"], \n",
    "        \"ood sece\": [\"mean\", \"sem\"],\n",
    "        \"ood ece\": [\"mean\", \"sem\"],\n",
    "        \"id accuracy\": [\"mean\", \"sem\"],\n",
    "        \"id log likelihood\": [\"mean\", \"sem\"], \n",
    "        \"id sece\": [\"mean\", \"sem\"],\n",
    "        \"id ece\": [\"mean\", \"sem\"],\n",
    "    })\n",
    "    aggregated_data.columns = [a[0] + \"_std\" if a[1] == \"sem\" else a[0] for a in aggregated_data.columns.to_flat_index()]\n",
    "    aggregated_data[\"ood accuracy_std\"] *= 2.0\n",
    "    aggregated_data[\"ood log likelihood_std\"] *= 2.0\n",
    "    aggregated_data[\"ood sece_std\"] *= 2.0\n",
    "    aggregated_data[\"ood ece_std\"] *= 2.0\n",
    "    aggregated_data[\"id accuracy_std\"] *= 2.0\n",
    "    aggregated_data[\"id log likelihood_std\"] *= 2.0\n",
    "    aggregated_data[\"id sece_std\"] *= 2.0\n",
    "    aggregated_data[\"id ece_std\"] *= 2.0\n",
    "    return aggregated_data"
   ]
  },
  {
   "cell_type": "code",
   "execution_count": 5,
   "metadata": {},
   "outputs": [
    {
     "name": "stdout",
     "output_type": "stream",
     "text": [
      "Skipping old run laplace_1-(3)\n",
      "Skipping old run laplace_1-(4)\n",
      "Skipping old run laplace_1-(5)\n",
      "Skipping old run laplace_1-(1)\n",
      "Skipping old run laplace_1-(0)\n",
      "Skipping old run laplace_1-(2)\n",
      "Skipping crashed run rank_1-(5)\n",
      "Skipping crashed run rank_1-(4)\n",
      "Skipping crashed run rank_1-(3)\n",
      "Skipping crashed run rank_1-(1)\n",
      "Skipping crashed run rank_1-(2)\n",
      "Skipping crashed run rank_1-(0)\n",
      "Skipping old run map_1-(0)\n"
     ]
    }
   ],
   "source": [
    "data = aggregate_data(build_data(runs))"
   ]
  },
  {
   "cell_type": "code",
   "execution_count": 6,
   "metadata": {},
   "outputs": [
    {
     "data": {
      "text/html": [
       "<div>\n",
       "<style scoped>\n",
       "    .dataframe tbody tr th:only-of-type {\n",
       "        vertical-align: middle;\n",
       "    }\n",
       "\n",
       "    .dataframe tbody tr th {\n",
       "        vertical-align: top;\n",
       "    }\n",
       "\n",
       "    .dataframe thead th {\n",
       "        text-align: right;\n",
       "    }\n",
       "</style>\n",
       "<table border=\"1\" class=\"dataframe\">\n",
       "  <thead>\n",
       "    <tr style=\"text-align: right;\">\n",
       "      <th></th>\n",
       "      <th>model</th>\n",
       "      <th>ood accuracy</th>\n",
       "      <th>ood accuracy_std</th>\n",
       "      <th>ood log likelihood</th>\n",
       "      <th>ood log likelihood_std</th>\n",
       "      <th>ood sece</th>\n",
       "      <th>ood sece_std</th>\n",
       "      <th>ood ece</th>\n",
       "      <th>ood ece_std</th>\n",
       "      <th>id accuracy</th>\n",
       "      <th>id accuracy_std</th>\n",
       "      <th>id log likelihood</th>\n",
       "      <th>id log likelihood_std</th>\n",
       "      <th>id sece</th>\n",
       "      <th>id sece_std</th>\n",
       "      <th>id ece</th>\n",
       "      <th>id ece_std</th>\n",
       "    </tr>\n",
       "    <tr>\n",
       "      <th>model</th>\n",
       "      <th></th>\n",
       "      <th></th>\n",
       "      <th></th>\n",
       "      <th></th>\n",
       "      <th></th>\n",
       "      <th></th>\n",
       "      <th></th>\n",
       "      <th></th>\n",
       "      <th></th>\n",
       "      <th></th>\n",
       "      <th></th>\n",
       "      <th></th>\n",
       "      <th></th>\n",
       "      <th></th>\n",
       "      <th></th>\n",
       "      <th></th>\n",
       "      <th></th>\n",
       "    </tr>\n",
       "  </thead>\n",
       "  <tbody>\n",
       "    <tr>\n",
       "      <th>bbb_1</th>\n",
       "      <td>bbb_1</td>\n",
       "      <td>0.038419</td>\n",
       "      <td>0.000462</td>\n",
       "      <td>-6.837261</td>\n",
       "      <td>0.011627</td>\n",
       "      <td>-0.045138</td>\n",
       "      <td>0.002370</td>\n",
       "      <td>0.045138</td>\n",
       "      <td>0.002370</td>\n",
       "      <td>0.045824</td>\n",
       "      <td>0.000914</td>\n",
       "      <td>-6.657397</td>\n",
       "      <td>0.018955</td>\n",
       "      <td>-0.031804</td>\n",
       "      <td>0.002484</td>\n",
       "      <td>0.031804</td>\n",
       "      <td>0.002484</td>\n",
       "    </tr>\n",
       "    <tr>\n",
       "      <th>bbb_kl0.2_1</th>\n",
       "      <td>bbb_kl0.2_1</td>\n",
       "      <td>0.046115</td>\n",
       "      <td>0.000590</td>\n",
       "      <td>-7.956930</td>\n",
       "      <td>0.050442</td>\n",
       "      <td>-0.117012</td>\n",
       "      <td>0.002304</td>\n",
       "      <td>0.117012</td>\n",
       "      <td>0.002304</td>\n",
       "      <td>0.054200</td>\n",
       "      <td>0.001119</td>\n",
       "      <td>-7.597903</td>\n",
       "      <td>0.044255</td>\n",
       "      <td>-0.102450</td>\n",
       "      <td>0.001880</td>\n",
       "      <td>0.102450</td>\n",
       "      <td>0.001880</td>\n",
       "    </tr>\n",
       "    <tr>\n",
       "      <th>bbb_prior0.1_1</th>\n",
       "      <td>bbb_prior0.1_1</td>\n",
       "      <td>0.031245</td>\n",
       "      <td>0.001481</td>\n",
       "      <td>-6.680904</td>\n",
       "      <td>0.020499</td>\n",
       "      <td>-0.005616</td>\n",
       "      <td>0.003754</td>\n",
       "      <td>0.008236</td>\n",
       "      <td>0.001644</td>\n",
       "      <td>0.035650</td>\n",
       "      <td>0.001681</td>\n",
       "      <td>-6.618399</td>\n",
       "      <td>0.017035</td>\n",
       "      <td>0.002831</td>\n",
       "      <td>0.003979</td>\n",
       "      <td>0.009908</td>\n",
       "      <td>0.001207</td>\n",
       "    </tr>\n",
       "    <tr>\n",
       "      <th>bbb_prior0.5_1</th>\n",
       "      <td>bbb_prior0.5_1</td>\n",
       "      <td>0.034609</td>\n",
       "      <td>0.001202</td>\n",
       "      <td>-6.737007</td>\n",
       "      <td>0.015326</td>\n",
       "      <td>-0.015129</td>\n",
       "      <td>0.003086</td>\n",
       "      <td>0.015129</td>\n",
       "      <td>0.003087</td>\n",
       "      <td>0.039582</td>\n",
       "      <td>0.001369</td>\n",
       "      <td>-6.631842</td>\n",
       "      <td>0.016928</td>\n",
       "      <td>-0.006364</td>\n",
       "      <td>0.002733</td>\n",
       "      <td>0.007343</td>\n",
       "      <td>0.001914</td>\n",
       "    </tr>\n",
       "    <tr>\n",
       "      <th>laplace-1</th>\n",
       "      <td>laplace-1</td>\n",
       "      <td>0.061425</td>\n",
       "      <td>0.002323</td>\n",
       "      <td>-6.909185</td>\n",
       "      <td>0.270710</td>\n",
       "      <td>-0.027876</td>\n",
       "      <td>0.007075</td>\n",
       "      <td>0.036969</td>\n",
       "      <td>0.006790</td>\n",
       "      <td>0.077391</td>\n",
       "      <td>0.000246</td>\n",
       "      <td>-6.624318</td>\n",
       "      <td>0.205962</td>\n",
       "      <td>-0.011021</td>\n",
       "      <td>0.009276</td>\n",
       "      <td>0.033845</td>\n",
       "      <td>0.004239</td>\n",
       "    </tr>\n",
       "    <tr>\n",
       "      <th>laplace-5</th>\n",
       "      <td>laplace-5</td>\n",
       "      <td>0.091368</td>\n",
       "      <td>NaN</td>\n",
       "      <td>-6.013787</td>\n",
       "      <td>NaN</td>\n",
       "      <td>0.036116</td>\n",
       "      <td>NaN</td>\n",
       "      <td>0.036116</td>\n",
       "      <td>NaN</td>\n",
       "      <td>0.115385</td>\n",
       "      <td>NaN</td>\n",
       "      <td>-5.736875</td>\n",
       "      <td>NaN</td>\n",
       "      <td>0.060952</td>\n",
       "      <td>NaN</td>\n",
       "      <td>0.060952</td>\n",
       "      <td>NaN</td>\n",
       "    </tr>\n",
       "    <tr>\n",
       "      <th>ll_ivon_1</th>\n",
       "      <td>ll_ivon_1</td>\n",
       "      <td>0.002812</td>\n",
       "      <td>0.000191</td>\n",
       "      <td>-7.213479</td>\n",
       "      <td>0.013037</td>\n",
       "      <td>-0.008676</td>\n",
       "      <td>0.000579</td>\n",
       "      <td>0.008680</td>\n",
       "      <td>0.000577</td>\n",
       "      <td>0.002959</td>\n",
       "      <td>0.000271</td>\n",
       "      <td>-7.176245</td>\n",
       "      <td>0.011567</td>\n",
       "      <td>-0.008217</td>\n",
       "      <td>0.000405</td>\n",
       "      <td>0.008221</td>\n",
       "      <td>0.000404</td>\n",
       "    </tr>\n",
       "    <tr>\n",
       "      <th>map_1</th>\n",
       "      <td>map_1</td>\n",
       "      <td>0.082815</td>\n",
       "      <td>0.001258</td>\n",
       "      <td>-7.197267</td>\n",
       "      <td>0.148738</td>\n",
       "      <td>-0.262187</td>\n",
       "      <td>0.015402</td>\n",
       "      <td>0.262187</td>\n",
       "      <td>0.015402</td>\n",
       "      <td>0.104649</td>\n",
       "      <td>0.001560</td>\n",
       "      <td>-6.668784</td>\n",
       "      <td>0.120867</td>\n",
       "      <td>-0.232259</td>\n",
       "      <td>0.014672</td>\n",
       "      <td>0.232259</td>\n",
       "      <td>0.014672</td>\n",
       "    </tr>\n",
       "    <tr>\n",
       "      <th>map_5</th>\n",
       "      <td>map_5</td>\n",
       "      <td>0.122392</td>\n",
       "      <td>0.000452</td>\n",
       "      <td>-5.676773</td>\n",
       "      <td>0.018626</td>\n",
       "      <td>-0.061040</td>\n",
       "      <td>0.001684</td>\n",
       "      <td>0.071099</td>\n",
       "      <td>0.001494</td>\n",
       "      <td>0.155934</td>\n",
       "      <td>0.000936</td>\n",
       "      <td>-5.211211</td>\n",
       "      <td>0.011806</td>\n",
       "      <td>-0.026425</td>\n",
       "      <td>0.001606</td>\n",
       "      <td>0.065685</td>\n",
       "      <td>0.001497</td>\n",
       "    </tr>\n",
       "    <tr>\n",
       "      <th>mcd_1</th>\n",
       "      <td>mcd_1</td>\n",
       "      <td>0.082612</td>\n",
       "      <td>0.001065</td>\n",
       "      <td>-7.502937</td>\n",
       "      <td>0.043494</td>\n",
       "      <td>-0.288195</td>\n",
       "      <td>0.003563</td>\n",
       "      <td>0.288195</td>\n",
       "      <td>0.003563</td>\n",
       "      <td>0.105884</td>\n",
       "      <td>0.001173</td>\n",
       "      <td>-6.924071</td>\n",
       "      <td>0.035038</td>\n",
       "      <td>-0.256920</td>\n",
       "      <td>0.003104</td>\n",
       "      <td>0.256920</td>\n",
       "      <td>0.003104</td>\n",
       "    </tr>\n",
       "    <tr>\n",
       "      <th>mcd_5</th>\n",
       "      <td>mcd_5</td>\n",
       "      <td>0.121126</td>\n",
       "      <td>0.000264</td>\n",
       "      <td>-5.835532</td>\n",
       "      <td>0.008083</td>\n",
       "      <td>-0.072786</td>\n",
       "      <td>0.000483</td>\n",
       "      <td>0.080880</td>\n",
       "      <td>0.000760</td>\n",
       "      <td>0.157781</td>\n",
       "      <td>0.000690</td>\n",
       "      <td>-5.327012</td>\n",
       "      <td>0.003260</td>\n",
       "      <td>-0.035290</td>\n",
       "      <td>0.000872</td>\n",
       "      <td>0.069003</td>\n",
       "      <td>0.001101</td>\n",
       "    </tr>\n",
       "    <tr>\n",
       "      <th>rank1_1</th>\n",
       "      <td>rank1_1</td>\n",
       "      <td>0.043041</td>\n",
       "      <td>0.001285</td>\n",
       "      <td>-7.576699</td>\n",
       "      <td>0.013567</td>\n",
       "      <td>-0.078314</td>\n",
       "      <td>0.000378</td>\n",
       "      <td>0.078314</td>\n",
       "      <td>0.000378</td>\n",
       "      <td>0.052728</td>\n",
       "      <td>0.001175</td>\n",
       "      <td>-7.388602</td>\n",
       "      <td>0.022930</td>\n",
       "      <td>-0.067644</td>\n",
       "      <td>0.000579</td>\n",
       "      <td>0.067644</td>\n",
       "      <td>0.000579</td>\n",
       "    </tr>\n",
       "    <tr>\n",
       "      <th>svgd_1</th>\n",
       "      <td>svgd_1</td>\n",
       "      <td>0.080658</td>\n",
       "      <td>0.001640</td>\n",
       "      <td>-8.935991</td>\n",
       "      <td>0.087652</td>\n",
       "      <td>-0.382477</td>\n",
       "      <td>0.005432</td>\n",
       "      <td>0.382477</td>\n",
       "      <td>0.005432</td>\n",
       "      <td>0.102014</td>\n",
       "      <td>0.000762</td>\n",
       "      <td>-8.253790</td>\n",
       "      <td>0.080074</td>\n",
       "      <td>-0.353876</td>\n",
       "      <td>0.004828</td>\n",
       "      <td>0.353876</td>\n",
       "      <td>0.004828</td>\n",
       "    </tr>\n",
       "    <tr>\n",
       "      <th>swag_1</th>\n",
       "      <td>swag_1</td>\n",
       "      <td>0.086189</td>\n",
       "      <td>0.001389</td>\n",
       "      <td>-7.549382</td>\n",
       "      <td>0.108541</td>\n",
       "      <td>-0.301148</td>\n",
       "      <td>0.010022</td>\n",
       "      <td>0.301148</td>\n",
       "      <td>0.010022</td>\n",
       "      <td>0.110193</td>\n",
       "      <td>0.001487</td>\n",
       "      <td>-6.947478</td>\n",
       "      <td>0.087620</td>\n",
       "      <td>-0.268835</td>\n",
       "      <td>0.009464</td>\n",
       "      <td>0.268835</td>\n",
       "      <td>0.009464</td>\n",
       "    </tr>\n",
       "    <tr>\n",
       "      <th>swag_5</th>\n",
       "      <td>swag_5</td>\n",
       "      <td>0.126162</td>\n",
       "      <td>0.001036</td>\n",
       "      <td>-5.823702</td>\n",
       "      <td>0.017467</td>\n",
       "      <td>-0.078080</td>\n",
       "      <td>0.000887</td>\n",
       "      <td>0.084763</td>\n",
       "      <td>0.000811</td>\n",
       "      <td>0.160888</td>\n",
       "      <td>0.000706</td>\n",
       "      <td>-5.299350</td>\n",
       "      <td>0.009265</td>\n",
       "      <td>-0.042357</td>\n",
       "      <td>0.000769</td>\n",
       "      <td>0.075109</td>\n",
       "      <td>0.001707</td>\n",
       "    </tr>\n",
       "  </tbody>\n",
       "</table>\n",
       "</div>"
      ],
      "text/plain": [
       "                         model  ood accuracy  ood accuracy_std  \\\n",
       "model                                                            \n",
       "bbb_1                    bbb_1      0.038419          0.000462   \n",
       "bbb_kl0.2_1        bbb_kl0.2_1      0.046115          0.000590   \n",
       "bbb_prior0.1_1  bbb_prior0.1_1      0.031245          0.001481   \n",
       "bbb_prior0.5_1  bbb_prior0.5_1      0.034609          0.001202   \n",
       "laplace-1            laplace-1      0.061425          0.002323   \n",
       "laplace-5            laplace-5      0.091368               NaN   \n",
       "ll_ivon_1            ll_ivon_1      0.002812          0.000191   \n",
       "map_1                    map_1      0.082815          0.001258   \n",
       "map_5                    map_5      0.122392          0.000452   \n",
       "mcd_1                    mcd_1      0.082612          0.001065   \n",
       "mcd_5                    mcd_5      0.121126          0.000264   \n",
       "rank1_1                rank1_1      0.043041          0.001285   \n",
       "svgd_1                  svgd_1      0.080658          0.001640   \n",
       "swag_1                  swag_1      0.086189          0.001389   \n",
       "swag_5                  swag_5      0.126162          0.001036   \n",
       "\n",
       "                ood log likelihood  ood log likelihood_std  ood sece  \\\n",
       "model                                                                  \n",
       "bbb_1                    -6.837261                0.011627 -0.045138   \n",
       "bbb_kl0.2_1              -7.956930                0.050442 -0.117012   \n",
       "bbb_prior0.1_1           -6.680904                0.020499 -0.005616   \n",
       "bbb_prior0.5_1           -6.737007                0.015326 -0.015129   \n",
       "laplace-1                -6.909185                0.270710 -0.027876   \n",
       "laplace-5                -6.013787                     NaN  0.036116   \n",
       "ll_ivon_1                -7.213479                0.013037 -0.008676   \n",
       "map_1                    -7.197267                0.148738 -0.262187   \n",
       "map_5                    -5.676773                0.018626 -0.061040   \n",
       "mcd_1                    -7.502937                0.043494 -0.288195   \n",
       "mcd_5                    -5.835532                0.008083 -0.072786   \n",
       "rank1_1                  -7.576699                0.013567 -0.078314   \n",
       "svgd_1                   -8.935991                0.087652 -0.382477   \n",
       "swag_1                   -7.549382                0.108541 -0.301148   \n",
       "swag_5                   -5.823702                0.017467 -0.078080   \n",
       "\n",
       "                ood sece_std   ood ece  ood ece_std  id accuracy  \\\n",
       "model                                                              \n",
       "bbb_1               0.002370  0.045138     0.002370     0.045824   \n",
       "bbb_kl0.2_1         0.002304  0.117012     0.002304     0.054200   \n",
       "bbb_prior0.1_1      0.003754  0.008236     0.001644     0.035650   \n",
       "bbb_prior0.5_1      0.003086  0.015129     0.003087     0.039582   \n",
       "laplace-1           0.007075  0.036969     0.006790     0.077391   \n",
       "laplace-5                NaN  0.036116          NaN     0.115385   \n",
       "ll_ivon_1           0.000579  0.008680     0.000577     0.002959   \n",
       "map_1               0.015402  0.262187     0.015402     0.104649   \n",
       "map_5               0.001684  0.071099     0.001494     0.155934   \n",
       "mcd_1               0.003563  0.288195     0.003563     0.105884   \n",
       "mcd_5               0.000483  0.080880     0.000760     0.157781   \n",
       "rank1_1             0.000378  0.078314     0.000378     0.052728   \n",
       "svgd_1              0.005432  0.382477     0.005432     0.102014   \n",
       "swag_1              0.010022  0.301148     0.010022     0.110193   \n",
       "swag_5              0.000887  0.084763     0.000811     0.160888   \n",
       "\n",
       "                id accuracy_std  id log likelihood  id log likelihood_std  \\\n",
       "model                                                                       \n",
       "bbb_1                  0.000914          -6.657397               0.018955   \n",
       "bbb_kl0.2_1            0.001119          -7.597903               0.044255   \n",
       "bbb_prior0.1_1         0.001681          -6.618399               0.017035   \n",
       "bbb_prior0.5_1         0.001369          -6.631842               0.016928   \n",
       "laplace-1              0.000246          -6.624318               0.205962   \n",
       "laplace-5                   NaN          -5.736875                    NaN   \n",
       "ll_ivon_1              0.000271          -7.176245               0.011567   \n",
       "map_1                  0.001560          -6.668784               0.120867   \n",
       "map_5                  0.000936          -5.211211               0.011806   \n",
       "mcd_1                  0.001173          -6.924071               0.035038   \n",
       "mcd_5                  0.000690          -5.327012               0.003260   \n",
       "rank1_1                0.001175          -7.388602               0.022930   \n",
       "svgd_1                 0.000762          -8.253790               0.080074   \n",
       "swag_1                 0.001487          -6.947478               0.087620   \n",
       "swag_5                 0.000706          -5.299350               0.009265   \n",
       "\n",
       "                 id sece  id sece_std    id ece  id ece_std  \n",
       "model                                                        \n",
       "bbb_1          -0.031804     0.002484  0.031804    0.002484  \n",
       "bbb_kl0.2_1    -0.102450     0.001880  0.102450    0.001880  \n",
       "bbb_prior0.1_1  0.002831     0.003979  0.009908    0.001207  \n",
       "bbb_prior0.5_1 -0.006364     0.002733  0.007343    0.001914  \n",
       "laplace-1      -0.011021     0.009276  0.033845    0.004239  \n",
       "laplace-5       0.060952          NaN  0.060952         NaN  \n",
       "ll_ivon_1      -0.008217     0.000405  0.008221    0.000404  \n",
       "map_1          -0.232259     0.014672  0.232259    0.014672  \n",
       "map_5          -0.026425     0.001606  0.065685    0.001497  \n",
       "mcd_1          -0.256920     0.003104  0.256920    0.003104  \n",
       "mcd_5          -0.035290     0.000872  0.069003    0.001101  \n",
       "rank1_1        -0.067644     0.000579  0.067644    0.000579  \n",
       "svgd_1         -0.353876     0.004828  0.353876    0.004828  \n",
       "swag_1         -0.268835     0.009464  0.268835    0.009464  \n",
       "swag_5         -0.042357     0.000769  0.075109    0.001707  "
      ]
     },
     "execution_count": 6,
     "metadata": {},
     "output_type": "execute_result"
    }
   ],
   "source": [
    "data"
   ]
  },
  {
   "cell_type": "code",
   "execution_count": 7,
   "metadata": {},
   "outputs": [
    {
     "data": {
      "application/vnd.plotly.v1+json": {
       "config": {
        "plotlyServerURL": "https://plot.ly"
       },
       "data": [
        {
         "error_x": {
          "array": [
           0.00046235824352025464
          ]
         },
         "error_y": {
          "array": [
           0.0023704270226309826
          ]
         },
         "hovertemplate": "model=bbb_1<br>ood accuracy=%{x}<br>ood sece=%{y}<extra></extra>",
         "legendgroup": "bbb_1",
         "marker": {
          "color": "#636efa",
          "symbol": "circle"
         },
         "mode": "markers",
         "name": "bbb_1",
         "orientation": "v",
         "showlegend": true,
         "type": "scatter",
         "x": [
          0.03841871892412504
         ],
         "xaxis": "x",
         "y": [
          -0.0451375101337201
         ],
         "yaxis": "y"
        },
        {
         "error_x": {
          "array": [
           0.000589582319979473
          ]
         },
         "error_y": {
          "array": [
           0.0023043171070491787
          ]
         },
         "hovertemplate": "model=bbb_kl0.2_1<br>ood accuracy=%{x}<br>ood sece=%{y}<extra></extra>",
         "legendgroup": "bbb_kl0.2_1",
         "marker": {
          "color": "#EF553B",
          "symbol": "circle"
         },
         "mode": "markers",
         "name": "bbb_kl0.2_1",
         "orientation": "v",
         "showlegend": true,
         "type": "scatter",
         "x": [
          0.04611504760881265
         ],
         "xaxis": "x",
         "y": [
          -0.11701159709280855
         ],
         "yaxis": "y"
        },
        {
         "error_x": {
          "array": [
           0.0014810028060359508
          ]
         },
         "error_y": {
          "array": [
           0.0037543472705969
          ]
         },
         "hovertemplate": "model=bbb_prior0.1_1<br>ood accuracy=%{x}<br>ood sece=%{y}<extra></extra>",
         "legendgroup": "bbb_prior0.1_1",
         "marker": {
          "color": "#00cc96",
          "symbol": "circle"
         },
         "mode": "markers",
         "name": "bbb_prior0.1_1",
         "orientation": "v",
         "showlegend": true,
         "type": "scatter",
         "x": [
          0.03124515898525715
         ],
         "xaxis": "x",
         "y": [
          -0.005615897716328925
         ],
         "yaxis": "y"
        },
        {
         "error_x": {
          "array": [
           0.001202305528239787
          ]
         },
         "error_y": {
          "array": [
           0.003086288438923655
          ]
         },
         "hovertemplate": "model=bbb_prior0.5_1<br>ood accuracy=%{x}<br>ood sece=%{y}<extra></extra>",
         "legendgroup": "bbb_prior0.5_1",
         "marker": {
          "color": "#ab63fa",
          "symbol": "circle"
         },
         "mode": "markers",
         "name": "bbb_prior0.5_1",
         "orientation": "v",
         "showlegend": true,
         "type": "scatter",
         "x": [
          0.03460927804311117
         ],
         "xaxis": "x",
         "y": [
          -0.015128672090163922
         ],
         "yaxis": "y"
        },
        {
         "error_x": {
          "array": [
           0.0023234188556671143
          ]
         },
         "error_y": {
          "array": [
           0.00707537609641094
          ]
         },
         "hovertemplate": "model=laplace-1<br>ood accuracy=%{x}<br>ood sece=%{y}<extra></extra>",
         "legendgroup": "laplace-1",
         "marker": {
          "color": "#FFA15A",
          "symbol": "circle"
         },
         "mode": "markers",
         "name": "laplace-1",
         "orientation": "v",
         "showlegend": true,
         "type": "scatter",
         "x": [
          0.06142541766166687
         ],
         "xaxis": "x",
         "y": [
          -0.02787646027520986
         ],
         "yaxis": "y"
        },
        {
         "error_x": {
          "array": [
           null
          ]
         },
         "error_y": {
          "array": [
           null
          ]
         },
         "hovertemplate": "model=laplace-5<br>ood accuracy=%{x}<br>ood sece=%{y}<extra></extra>",
         "legendgroup": "laplace-5",
         "marker": {
          "color": "#19d3f3",
          "symbol": "circle"
         },
         "mode": "markers",
         "name": "laplace-5",
         "orientation": "v",
         "showlegend": true,
         "type": "scatter",
         "x": [
          0.09136849641799928
         ],
         "xaxis": "x",
         "y": [
          0.036115659780360646
         ],
         "yaxis": "y"
        },
        {
         "error_x": {
          "array": [
           0.00019113377532068573
          ]
         },
         "error_y": {
          "array": [
           0.0005787210129711187
          ]
         },
         "hovertemplate": "model=ll_ivon_1<br>ood accuracy=%{x}<br>ood sece=%{y}<extra></extra>",
         "legendgroup": "ll_ivon_1",
         "marker": {
          "color": "#FF6692",
          "symbol": "circle"
         },
         "mode": "markers",
         "name": "ll_ivon_1",
         "orientation": "v",
         "showlegend": true,
         "type": "scatter",
         "x": [
          0.002812306396663189
         ],
         "xaxis": "x",
         "y": [
          -0.008676179931889549
         ],
         "yaxis": "y"
        },
        {
         "error_x": {
          "array": [
           0.0012576325136277762
          ]
         },
         "error_y": {
          "array": [
           0.015401979127186322
          ]
         },
         "hovertemplate": "model=map_1<br>ood accuracy=%{x}<br>ood sece=%{y}<extra></extra>",
         "legendgroup": "map_1",
         "marker": {
          "color": "#B6E880",
          "symbol": "circle"
         },
         "mode": "markers",
         "name": "map_1",
         "orientation": "v",
         "showlegend": true,
         "type": "scatter",
         "x": [
          0.08281540622313817
         ],
         "xaxis": "x",
         "y": [
          -0.2621873899389236
         ],
         "yaxis": "y"
        },
        {
         "error_x": {
          "array": [
           0.0004519480057736392
          ]
         },
         "error_y": {
          "array": [
           0.0016843373059418235
          ]
         },
         "hovertemplate": "model=map_5<br>ood accuracy=%{x}<br>ood sece=%{y}<extra></extra>",
         "legendgroup": "map_5",
         "marker": {
          "color": "#FF97FF",
          "symbol": "circle"
         },
         "mode": "markers",
         "name": "map_5",
         "orientation": "v",
         "showlegend": true,
         "type": "scatter",
         "x": [
          0.12239196002483368
         ],
         "xaxis": "x",
         "y": [
          -0.0610402671244172
         ],
         "yaxis": "y"
        },
        {
         "error_x": {
          "array": [
           0.0010648028023610573
          ]
         },
         "error_y": {
          "array": [
           0.0035626476329039835
          ]
         },
         "hovertemplate": "model=mcd_1<br>ood accuracy=%{x}<br>ood sece=%{y}<extra></extra>",
         "legendgroup": "mcd_1",
         "marker": {
          "color": "#FECB52",
          "symbol": "circle"
         },
         "mode": "markers",
         "name": "mcd_1",
         "orientation": "v",
         "showlegend": true,
         "type": "scatter",
         "x": [
          0.0826121059556802
         ],
         "xaxis": "x",
         "y": [
          -0.28819480147561843
         ],
         "yaxis": "y"
        },
        {
         "error_x": {
          "array": [
           0.00026401818857390755
          ]
         },
         "error_y": {
          "array": [
           0.0004831590503184782
          ]
         },
         "hovertemplate": "model=mcd_5<br>ood accuracy=%{x}<br>ood sece=%{y}<extra></extra>",
         "legendgroup": "mcd_5",
         "marker": {
          "color": "#636efa",
          "symbol": "circle"
         },
         "mode": "markers",
         "name": "mcd_5",
         "orientation": "v",
         "showlegend": true,
         "type": "scatter",
         "x": [
          0.1211256965994835
         ],
         "xaxis": "x",
         "y": [
          -0.07278583263091183
         ],
         "yaxis": "y"
        },
        {
         "error_x": {
          "array": [
           0.0012851215879105694
          ]
         },
         "error_y": {
          "array": [
           0.0003777107625598452
          ]
         },
         "hovertemplate": "model=rank1_1<br>ood accuracy=%{x}<br>ood sece=%{y}<extra></extra>",
         "legendgroup": "rank1_1",
         "marker": {
          "color": "#EF553B",
          "symbol": "circle"
         },
         "mode": "markers",
         "name": "rank1_1",
         "orientation": "v",
         "showlegend": true,
         "type": "scatter",
         "x": [
          0.04304135665297508
         ],
         "xaxis": "x",
         "y": [
          -0.07831387130663034
         ],
         "yaxis": "y"
        },
        {
         "error_x": {
          "array": [
           0.0016399686836174197
          ]
         },
         "error_y": {
          "array": [
           0.0054322340732339165
          ]
         },
         "hovertemplate": "model=svgd_1<br>ood accuracy=%{x}<br>ood sece=%{y}<extra></extra>",
         "legendgroup": "svgd_1",
         "marker": {
          "color": "#00cc96",
          "symbol": "circle"
         },
         "mode": "markers",
         "name": "svgd_1",
         "orientation": "v",
         "showlegend": true,
         "type": "scatter",
         "x": [
          0.08065752834081649
         ],
         "xaxis": "x",
         "y": [
          -0.382476523538816
         ],
         "yaxis": "y"
        },
        {
         "error_x": {
          "array": [
           0.0013894187621364541
          ]
         },
         "error_y": {
          "array": [
           0.010021532105161476
          ]
         },
         "hovertemplate": "model=swag_1<br>ood accuracy=%{x}<br>ood sece=%{y}<extra></extra>",
         "legendgroup": "swag_1",
         "marker": {
          "color": "#ab63fa",
          "symbol": "circle"
         },
         "mode": "markers",
         "name": "swag_1",
         "orientation": "v",
         "showlegend": true,
         "type": "scatter",
         "x": [
          0.0861892042060693
         ],
         "xaxis": "x",
         "y": [
          -0.3011477657242449
         ],
         "yaxis": "y"
        },
        {
         "error_x": {
          "array": [
           0.0010356488770409933
          ]
         },
         "error_y": {
          "array": [
           0.000886632618373399
          ]
         },
         "hovertemplate": "model=swag_5<br>ood accuracy=%{x}<br>ood sece=%{y}<extra></extra>",
         "legendgroup": "swag_5",
         "marker": {
          "color": "#FFA15A",
          "symbol": "circle"
         },
         "mode": "markers",
         "name": "swag_5",
         "orientation": "v",
         "showlegend": true,
         "type": "scatter",
         "x": [
          0.12616170942783356
         ],
         "xaxis": "x",
         "y": [
          -0.07807989060674485
         ],
         "yaxis": "y"
        }
       ],
       "layout": {
        "legend": {
         "title": {
          "text": "model"
         },
         "tracegroupgap": 0
        },
        "margin": {
         "t": 60
        },
        "template": {
         "data": {
          "bar": [
           {
            "error_x": {
             "color": "#2a3f5f"
            },
            "error_y": {
             "color": "#2a3f5f"
            },
            "marker": {
             "line": {
              "color": "#E5ECF6",
              "width": 0.5
             },
             "pattern": {
              "fillmode": "overlay",
              "size": 10,
              "solidity": 0.2
             }
            },
            "type": "bar"
           }
          ],
          "barpolar": [
           {
            "marker": {
             "line": {
              "color": "#E5ECF6",
              "width": 0.5
             },
             "pattern": {
              "fillmode": "overlay",
              "size": 10,
              "solidity": 0.2
             }
            },
            "type": "barpolar"
           }
          ],
          "carpet": [
           {
            "aaxis": {
             "endlinecolor": "#2a3f5f",
             "gridcolor": "white",
             "linecolor": "white",
             "minorgridcolor": "white",
             "startlinecolor": "#2a3f5f"
            },
            "baxis": {
             "endlinecolor": "#2a3f5f",
             "gridcolor": "white",
             "linecolor": "white",
             "minorgridcolor": "white",
             "startlinecolor": "#2a3f5f"
            },
            "type": "carpet"
           }
          ],
          "choropleth": [
           {
            "colorbar": {
             "outlinewidth": 0,
             "ticks": ""
            },
            "type": "choropleth"
           }
          ],
          "contour": [
           {
            "colorbar": {
             "outlinewidth": 0,
             "ticks": ""
            },
            "colorscale": [
             [
              0,
              "#0d0887"
             ],
             [
              0.1111111111111111,
              "#46039f"
             ],
             [
              0.2222222222222222,
              "#7201a8"
             ],
             [
              0.3333333333333333,
              "#9c179e"
             ],
             [
              0.4444444444444444,
              "#bd3786"
             ],
             [
              0.5555555555555556,
              "#d8576b"
             ],
             [
              0.6666666666666666,
              "#ed7953"
             ],
             [
              0.7777777777777778,
              "#fb9f3a"
             ],
             [
              0.8888888888888888,
              "#fdca26"
             ],
             [
              1,
              "#f0f921"
             ]
            ],
            "type": "contour"
           }
          ],
          "contourcarpet": [
           {
            "colorbar": {
             "outlinewidth": 0,
             "ticks": ""
            },
            "type": "contourcarpet"
           }
          ],
          "heatmap": [
           {
            "colorbar": {
             "outlinewidth": 0,
             "ticks": ""
            },
            "colorscale": [
             [
              0,
              "#0d0887"
             ],
             [
              0.1111111111111111,
              "#46039f"
             ],
             [
              0.2222222222222222,
              "#7201a8"
             ],
             [
              0.3333333333333333,
              "#9c179e"
             ],
             [
              0.4444444444444444,
              "#bd3786"
             ],
             [
              0.5555555555555556,
              "#d8576b"
             ],
             [
              0.6666666666666666,
              "#ed7953"
             ],
             [
              0.7777777777777778,
              "#fb9f3a"
             ],
             [
              0.8888888888888888,
              "#fdca26"
             ],
             [
              1,
              "#f0f921"
             ]
            ],
            "type": "heatmap"
           }
          ],
          "heatmapgl": [
           {
            "colorbar": {
             "outlinewidth": 0,
             "ticks": ""
            },
            "colorscale": [
             [
              0,
              "#0d0887"
             ],
             [
              0.1111111111111111,
              "#46039f"
             ],
             [
              0.2222222222222222,
              "#7201a8"
             ],
             [
              0.3333333333333333,
              "#9c179e"
             ],
             [
              0.4444444444444444,
              "#bd3786"
             ],
             [
              0.5555555555555556,
              "#d8576b"
             ],
             [
              0.6666666666666666,
              "#ed7953"
             ],
             [
              0.7777777777777778,
              "#fb9f3a"
             ],
             [
              0.8888888888888888,
              "#fdca26"
             ],
             [
              1,
              "#f0f921"
             ]
            ],
            "type": "heatmapgl"
           }
          ],
          "histogram": [
           {
            "marker": {
             "pattern": {
              "fillmode": "overlay",
              "size": 10,
              "solidity": 0.2
             }
            },
            "type": "histogram"
           }
          ],
          "histogram2d": [
           {
            "colorbar": {
             "outlinewidth": 0,
             "ticks": ""
            },
            "colorscale": [
             [
              0,
              "#0d0887"
             ],
             [
              0.1111111111111111,
              "#46039f"
             ],
             [
              0.2222222222222222,
              "#7201a8"
             ],
             [
              0.3333333333333333,
              "#9c179e"
             ],
             [
              0.4444444444444444,
              "#bd3786"
             ],
             [
              0.5555555555555556,
              "#d8576b"
             ],
             [
              0.6666666666666666,
              "#ed7953"
             ],
             [
              0.7777777777777778,
              "#fb9f3a"
             ],
             [
              0.8888888888888888,
              "#fdca26"
             ],
             [
              1,
              "#f0f921"
             ]
            ],
            "type": "histogram2d"
           }
          ],
          "histogram2dcontour": [
           {
            "colorbar": {
             "outlinewidth": 0,
             "ticks": ""
            },
            "colorscale": [
             [
              0,
              "#0d0887"
             ],
             [
              0.1111111111111111,
              "#46039f"
             ],
             [
              0.2222222222222222,
              "#7201a8"
             ],
             [
              0.3333333333333333,
              "#9c179e"
             ],
             [
              0.4444444444444444,
              "#bd3786"
             ],
             [
              0.5555555555555556,
              "#d8576b"
             ],
             [
              0.6666666666666666,
              "#ed7953"
             ],
             [
              0.7777777777777778,
              "#fb9f3a"
             ],
             [
              0.8888888888888888,
              "#fdca26"
             ],
             [
              1,
              "#f0f921"
             ]
            ],
            "type": "histogram2dcontour"
           }
          ],
          "mesh3d": [
           {
            "colorbar": {
             "outlinewidth": 0,
             "ticks": ""
            },
            "type": "mesh3d"
           }
          ],
          "parcoords": [
           {
            "line": {
             "colorbar": {
              "outlinewidth": 0,
              "ticks": ""
             }
            },
            "type": "parcoords"
           }
          ],
          "pie": [
           {
            "automargin": true,
            "type": "pie"
           }
          ],
          "scatter": [
           {
            "fillpattern": {
             "fillmode": "overlay",
             "size": 10,
             "solidity": 0.2
            },
            "type": "scatter"
           }
          ],
          "scatter3d": [
           {
            "line": {
             "colorbar": {
              "outlinewidth": 0,
              "ticks": ""
             }
            },
            "marker": {
             "colorbar": {
              "outlinewidth": 0,
              "ticks": ""
             }
            },
            "type": "scatter3d"
           }
          ],
          "scattercarpet": [
           {
            "marker": {
             "colorbar": {
              "outlinewidth": 0,
              "ticks": ""
             }
            },
            "type": "scattercarpet"
           }
          ],
          "scattergeo": [
           {
            "marker": {
             "colorbar": {
              "outlinewidth": 0,
              "ticks": ""
             }
            },
            "type": "scattergeo"
           }
          ],
          "scattergl": [
           {
            "marker": {
             "colorbar": {
              "outlinewidth": 0,
              "ticks": ""
             }
            },
            "type": "scattergl"
           }
          ],
          "scattermapbox": [
           {
            "marker": {
             "colorbar": {
              "outlinewidth": 0,
              "ticks": ""
             }
            },
            "type": "scattermapbox"
           }
          ],
          "scatterpolar": [
           {
            "marker": {
             "colorbar": {
              "outlinewidth": 0,
              "ticks": ""
             }
            },
            "type": "scatterpolar"
           }
          ],
          "scatterpolargl": [
           {
            "marker": {
             "colorbar": {
              "outlinewidth": 0,
              "ticks": ""
             }
            },
            "type": "scatterpolargl"
           }
          ],
          "scatterternary": [
           {
            "marker": {
             "colorbar": {
              "outlinewidth": 0,
              "ticks": ""
             }
            },
            "type": "scatterternary"
           }
          ],
          "surface": [
           {
            "colorbar": {
             "outlinewidth": 0,
             "ticks": ""
            },
            "colorscale": [
             [
              0,
              "#0d0887"
             ],
             [
              0.1111111111111111,
              "#46039f"
             ],
             [
              0.2222222222222222,
              "#7201a8"
             ],
             [
              0.3333333333333333,
              "#9c179e"
             ],
             [
              0.4444444444444444,
              "#bd3786"
             ],
             [
              0.5555555555555556,
              "#d8576b"
             ],
             [
              0.6666666666666666,
              "#ed7953"
             ],
             [
              0.7777777777777778,
              "#fb9f3a"
             ],
             [
              0.8888888888888888,
              "#fdca26"
             ],
             [
              1,
              "#f0f921"
             ]
            ],
            "type": "surface"
           }
          ],
          "table": [
           {
            "cells": {
             "fill": {
              "color": "#EBF0F8"
             },
             "line": {
              "color": "white"
             }
            },
            "header": {
             "fill": {
              "color": "#C8D4E3"
             },
             "line": {
              "color": "white"
             }
            },
            "type": "table"
           }
          ]
         },
         "layout": {
          "annotationdefaults": {
           "arrowcolor": "#2a3f5f",
           "arrowhead": 0,
           "arrowwidth": 1
          },
          "autotypenumbers": "strict",
          "coloraxis": {
           "colorbar": {
            "outlinewidth": 0,
            "ticks": ""
           }
          },
          "colorscale": {
           "diverging": [
            [
             0,
             "#8e0152"
            ],
            [
             0.1,
             "#c51b7d"
            ],
            [
             0.2,
             "#de77ae"
            ],
            [
             0.3,
             "#f1b6da"
            ],
            [
             0.4,
             "#fde0ef"
            ],
            [
             0.5,
             "#f7f7f7"
            ],
            [
             0.6,
             "#e6f5d0"
            ],
            [
             0.7,
             "#b8e186"
            ],
            [
             0.8,
             "#7fbc41"
            ],
            [
             0.9,
             "#4d9221"
            ],
            [
             1,
             "#276419"
            ]
           ],
           "sequential": [
            [
             0,
             "#0d0887"
            ],
            [
             0.1111111111111111,
             "#46039f"
            ],
            [
             0.2222222222222222,
             "#7201a8"
            ],
            [
             0.3333333333333333,
             "#9c179e"
            ],
            [
             0.4444444444444444,
             "#bd3786"
            ],
            [
             0.5555555555555556,
             "#d8576b"
            ],
            [
             0.6666666666666666,
             "#ed7953"
            ],
            [
             0.7777777777777778,
             "#fb9f3a"
            ],
            [
             0.8888888888888888,
             "#fdca26"
            ],
            [
             1,
             "#f0f921"
            ]
           ],
           "sequentialminus": [
            [
             0,
             "#0d0887"
            ],
            [
             0.1111111111111111,
             "#46039f"
            ],
            [
             0.2222222222222222,
             "#7201a8"
            ],
            [
             0.3333333333333333,
             "#9c179e"
            ],
            [
             0.4444444444444444,
             "#bd3786"
            ],
            [
             0.5555555555555556,
             "#d8576b"
            ],
            [
             0.6666666666666666,
             "#ed7953"
            ],
            [
             0.7777777777777778,
             "#fb9f3a"
            ],
            [
             0.8888888888888888,
             "#fdca26"
            ],
            [
             1,
             "#f0f921"
            ]
           ]
          },
          "colorway": [
           "#636efa",
           "#EF553B",
           "#00cc96",
           "#ab63fa",
           "#FFA15A",
           "#19d3f3",
           "#FF6692",
           "#B6E880",
           "#FF97FF",
           "#FECB52"
          ],
          "font": {
           "color": "#2a3f5f"
          },
          "geo": {
           "bgcolor": "white",
           "lakecolor": "white",
           "landcolor": "#E5ECF6",
           "showlakes": true,
           "showland": true,
           "subunitcolor": "white"
          },
          "hoverlabel": {
           "align": "left"
          },
          "hovermode": "closest",
          "mapbox": {
           "style": "light"
          },
          "paper_bgcolor": "white",
          "plot_bgcolor": "#E5ECF6",
          "polar": {
           "angularaxis": {
            "gridcolor": "white",
            "linecolor": "white",
            "ticks": ""
           },
           "bgcolor": "#E5ECF6",
           "radialaxis": {
            "gridcolor": "white",
            "linecolor": "white",
            "ticks": ""
           }
          },
          "scene": {
           "xaxis": {
            "backgroundcolor": "#E5ECF6",
            "gridcolor": "white",
            "gridwidth": 2,
            "linecolor": "white",
            "showbackground": true,
            "ticks": "",
            "zerolinecolor": "white"
           },
           "yaxis": {
            "backgroundcolor": "#E5ECF6",
            "gridcolor": "white",
            "gridwidth": 2,
            "linecolor": "white",
            "showbackground": true,
            "ticks": "",
            "zerolinecolor": "white"
           },
           "zaxis": {
            "backgroundcolor": "#E5ECF6",
            "gridcolor": "white",
            "gridwidth": 2,
            "linecolor": "white",
            "showbackground": true,
            "ticks": "",
            "zerolinecolor": "white"
           }
          },
          "shapedefaults": {
           "line": {
            "color": "#2a3f5f"
           }
          },
          "ternary": {
           "aaxis": {
            "gridcolor": "white",
            "linecolor": "white",
            "ticks": ""
           },
           "baxis": {
            "gridcolor": "white",
            "linecolor": "white",
            "ticks": ""
           },
           "bgcolor": "#E5ECF6",
           "caxis": {
            "gridcolor": "white",
            "linecolor": "white",
            "ticks": ""
           }
          },
          "title": {
           "x": 0.05
          },
          "xaxis": {
           "automargin": true,
           "gridcolor": "white",
           "linecolor": "white",
           "ticks": "",
           "title": {
            "standoff": 15
           },
           "zerolinecolor": "white",
           "zerolinewidth": 2
          },
          "yaxis": {
           "automargin": true,
           "gridcolor": "white",
           "linecolor": "white",
           "ticks": "",
           "title": {
            "standoff": 15
           },
           "zerolinecolor": "white",
           "zerolinewidth": 2
          }
         }
        },
        "xaxis": {
         "anchor": "y",
         "domain": [
          0,
          1
         ],
         "title": {
          "text": "ood accuracy"
         }
        },
        "yaxis": {
         "anchor": "x",
         "domain": [
          0,
          1
         ],
         "title": {
          "text": "ood sece"
         }
        }
       }
      }
     },
     "metadata": {},
     "output_type": "display_data"
    }
   ],
   "source": [
    "pareto_plot(data, \"ood accuracy\", \"ood sece\")"
   ]
  },
  {
   "cell_type": "code",
   "execution_count": 8,
   "metadata": {},
   "outputs": [
    {
     "data": {
      "application/vnd.plotly.v1+json": {
       "config": {
        "plotlyServerURL": "https://plot.ly"
       },
       "data": [
        {
         "error_x": {
          "array": [
           0.000913740403228948
          ]
         },
         "error_y": {
          "array": [
           0.002484118713351236
          ]
         },
         "hovertemplate": "model=bbb_1<br>id accuracy=%{x}<br>id sece=%{y}<extra></extra>",
         "legendgroup": "bbb_1",
         "marker": {
          "color": "#636efa",
          "symbol": "circle"
         },
         "mode": "markers",
         "name": "bbb_1",
         "orientation": "v",
         "showlegend": true,
         "type": "scatter",
         "x": [
          0.04582389506200949
         ],
         "xaxis": "x",
         "y": [
          -0.03180355972813914
         ],
         "yaxis": "y"
        },
        {
         "error_x": {
          "array": [
           0.00111934630261978
          ]
         },
         "error_y": {
          "array": [
           0.0018796998496521603
          ]
         },
         "hovertemplate": "model=bbb_kl0.2_1<br>id accuracy=%{x}<br>id sece=%{y}<extra></extra>",
         "legendgroup": "bbb_kl0.2_1",
         "marker": {
          "color": "#EF553B",
          "symbol": "circle"
         },
         "mode": "markers",
         "name": "bbb_kl0.2_1",
         "orientation": "v",
         "showlegend": true,
         "type": "scatter",
         "x": [
          0.05419990854958693
         ],
         "xaxis": "x",
         "y": [
          -0.10244980697090511
         ],
         "yaxis": "y"
        },
        {
         "error_x": {
          "array": [
           0.0016812919862457633
          ]
         },
         "error_y": {
          "array": [
           0.003979139159255492
          ]
         },
         "hovertemplate": "model=bbb_prior0.1_1<br>id accuracy=%{x}<br>id sece=%{y}<extra></extra>",
         "legendgroup": "bbb_prior0.1_1",
         "marker": {
          "color": "#00cc96",
          "symbol": "circle"
         },
         "mode": "markers",
         "name": "bbb_prior0.1_1",
         "orientation": "v",
         "showlegend": true,
         "type": "scatter",
         "x": [
          0.03565038243929545
         ],
         "xaxis": "x",
         "y": [
          0.002830991429531037
         ],
         "yaxis": "y"
        },
        {
         "error_x": {
          "array": [
           0.0013690619940159834
          ]
         },
         "error_y": {
          "array": [
           0.0027333217502284834
          ]
         },
         "hovertemplate": "model=bbb_prior0.5_1<br>id accuracy=%{x}<br>id sece=%{y}<extra></extra>",
         "legendgroup": "bbb_prior0.5_1",
         "marker": {
          "color": "#ab63fa",
          "symbol": "circle"
         },
         "mode": "markers",
         "name": "bbb_prior0.5_1",
         "orientation": "v",
         "showlegend": true,
         "type": "scatter",
         "x": [
          0.03958189735809962
         ],
         "xaxis": "x",
         "y": [
          -0.006364070942788131
         ],
         "yaxis": "y"
        },
        {
         "error_x": {
          "array": [
           0.0002462342381477356
          ]
         },
         "error_y": {
          "array": [
           0.009275580293686152
          ]
         },
         "hovertemplate": "model=laplace-1<br>id accuracy=%{x}<br>id sece=%{y}<extra></extra>",
         "legendgroup": "laplace-1",
         "marker": {
          "color": "#FFA15A",
          "symbol": "circle"
         },
         "mode": "markers",
         "name": "laplace-1",
         "orientation": "v",
         "showlegend": true,
         "type": "scatter",
         "x": [
          0.07739092037081718
         ],
         "xaxis": "x",
         "y": [
          -0.011021458421149792
         ],
         "yaxis": "y"
        },
        {
         "error_x": {
          "array": [
           null
          ]
         },
         "error_y": {
          "array": [
           null
          ]
         },
         "hovertemplate": "model=laplace-5<br>id accuracy=%{x}<br>id sece=%{y}<extra></extra>",
         "legendgroup": "laplace-5",
         "marker": {
          "color": "#19d3f3",
          "symbol": "circle"
         },
         "mode": "markers",
         "name": "laplace-5",
         "orientation": "v",
         "showlegend": true,
         "type": "scatter",
         "x": [
          0.11538461595773696
         ],
         "xaxis": "x",
         "y": [
          0.06095192553859843
         ],
         "yaxis": "y"
        },
        {
         "error_x": {
          "array": [
           0.00027105484657174306
          ]
         },
         "error_y": {
          "array": [
           0.00040545546422736693
          ]
         },
         "hovertemplate": "model=ll_ivon_1<br>id accuracy=%{x}<br>id sece=%{y}<extra></extra>",
         "legendgroup": "ll_ivon_1",
         "marker": {
          "color": "#FF6692",
          "symbol": "circle"
         },
         "mode": "markers",
         "name": "ll_ivon_1",
         "orientation": "v",
         "showlegend": true,
         "type": "scatter",
         "x": [
          0.002958895560974876
         ],
         "xaxis": "x",
         "y": [
          -0.008216836135735503
         ],
         "yaxis": "y"
        },
        {
         "error_x": {
          "array": [
           0.0015603193748586546
          ]
         },
         "error_y": {
          "array": [
           0.014671877168733492
          ]
         },
         "hovertemplate": "model=map_1<br>id accuracy=%{x}<br>id sece=%{y}<extra></extra>",
         "legendgroup": "map_1",
         "marker": {
          "color": "#B6E880",
          "symbol": "circle"
         },
         "mode": "markers",
         "name": "map_1",
         "orientation": "v",
         "showlegend": true,
         "type": "scatter",
         "x": [
          0.10464887320995331
         ],
         "xaxis": "x",
         "y": [
          -0.23225915655213658
         ],
         "yaxis": "y"
        },
        {
         "error_x": {
          "array": [
           0.0009361252800350173
          ]
         },
         "error_y": {
          "array": [
           0.0016060544432787804
          ]
         },
         "hovertemplate": "model=map_5<br>id accuracy=%{x}<br>id sece=%{y}<extra></extra>",
         "legendgroup": "map_5",
         "marker": {
          "color": "#FF97FF",
          "symbol": "circle"
         },
         "mode": "markers",
         "name": "map_5",
         "orientation": "v",
         "showlegend": true,
         "type": "scatter",
         "x": [
          0.15593420565128327
         ],
         "xaxis": "x",
         "y": [
          -0.02642469336135181
         ],
         "yaxis": "y"
        },
        {
         "error_x": {
          "array": [
           0.0011731581322688151
          ]
         },
         "error_y": {
          "array": [
           0.0031037120039375367
          ]
         },
         "hovertemplate": "model=mcd_1<br>id accuracy=%{x}<br>id sece=%{y}<extra></extra>",
         "legendgroup": "mcd_1",
         "marker": {
          "color": "#FECB52",
          "symbol": "circle"
         },
         "mode": "markers",
         "name": "mcd_1",
         "orientation": "v",
         "showlegend": true,
         "type": "scatter",
         "x": [
          0.10588413849473
         ],
         "xaxis": "x",
         "y": [
          -0.25692001893970123
         ],
         "yaxis": "y"
        },
        {
         "error_x": {
          "array": [
           0.0006902281467820224
          ]
         },
         "error_y": {
          "array": [
           0.0008718728119610904
          ]
         },
         "hovertemplate": "model=mcd_5<br>id accuracy=%{x}<br>id sece=%{y}<extra></extra>",
         "legendgroup": "mcd_5",
         "marker": {
          "color": "#636efa",
          "symbol": "circle"
         },
         "mode": "markers",
         "name": "mcd_5",
         "orientation": "v",
         "showlegend": true,
         "type": "scatter",
         "x": [
          0.15778095424175262
         ],
         "xaxis": "x",
         "y": [
          -0.03528999635456413
         ],
         "yaxis": "y"
        },
        {
         "error_x": {
          "array": [
           0.0011749814852115065
          ]
         },
         "error_y": {
          "array": [
           0.0005791744262597419
          ]
         },
         "hovertemplate": "model=rank1_1<br>id accuracy=%{x}<br>id sece=%{y}<extra></extra>",
         "legendgroup": "rank1_1",
         "marker": {
          "color": "#EF553B",
          "symbol": "circle"
         },
         "mode": "markers",
         "name": "rank1_1",
         "orientation": "v",
         "showlegend": true,
         "type": "scatter",
         "x": [
          0.052728258073329926
         ],
         "xaxis": "x",
         "y": [
          -0.06764383740439875
         ],
         "yaxis": "y"
        },
        {
         "error_x": {
          "array": [
           0.0007618107265162808
          ]
         },
         "error_y": {
          "array": [
           0.004828240853190587
          ]
         },
         "hovertemplate": "model=svgd_1<br>id accuracy=%{x}<br>id sece=%{y}<extra></extra>",
         "legendgroup": "svgd_1",
         "marker": {
          "color": "#00cc96",
          "symbol": "circle"
         },
         "mode": "markers",
         "name": "svgd_1",
         "orientation": "v",
         "showlegend": true,
         "type": "scatter",
         "x": [
          0.10201418399810791
         ],
         "xaxis": "x",
         "y": [
          -0.3538763425049583
         ],
         "yaxis": "y"
        },
        {
         "error_x": {
          "array": [
           0.001486527987246025
          ]
         },
         "error_y": {
          "array": [
           0.009463660262852648
          ]
         },
         "hovertemplate": "model=swag_1<br>id accuracy=%{x}<br>id sece=%{y}<extra></extra>",
         "legendgroup": "swag_1",
         "marker": {
          "color": "#ab63fa",
          "symbol": "circle"
         },
         "mode": "markers",
         "name": "swag_1",
         "orientation": "v",
         "showlegend": true,
         "type": "scatter",
         "x": [
          0.11019321158528328
         ],
         "xaxis": "x",
         "y": [
          -0.26883544096794565
         ],
         "yaxis": "y"
        },
        {
         "error_x": {
          "array": [
           0.0007056198953040547
          ]
         },
         "error_y": {
          "array": [
           0.0007687817401644683
          ]
         },
         "hovertemplate": "model=swag_5<br>id accuracy=%{x}<br>id sece=%{y}<extra></extra>",
         "legendgroup": "swag_5",
         "marker": {
          "color": "#FFA15A",
          "symbol": "circle"
         },
         "mode": "markers",
         "name": "swag_5",
         "orientation": "v",
         "showlegend": true,
         "type": "scatter",
         "x": [
          0.16088840663433074
         ],
         "xaxis": "x",
         "y": [
          -0.04235697785849397
         ],
         "yaxis": "y"
        }
       ],
       "layout": {
        "legend": {
         "title": {
          "text": "model"
         },
         "tracegroupgap": 0
        },
        "margin": {
         "t": 60
        },
        "template": {
         "data": {
          "bar": [
           {
            "error_x": {
             "color": "#2a3f5f"
            },
            "error_y": {
             "color": "#2a3f5f"
            },
            "marker": {
             "line": {
              "color": "#E5ECF6",
              "width": 0.5
             },
             "pattern": {
              "fillmode": "overlay",
              "size": 10,
              "solidity": 0.2
             }
            },
            "type": "bar"
           }
          ],
          "barpolar": [
           {
            "marker": {
             "line": {
              "color": "#E5ECF6",
              "width": 0.5
             },
             "pattern": {
              "fillmode": "overlay",
              "size": 10,
              "solidity": 0.2
             }
            },
            "type": "barpolar"
           }
          ],
          "carpet": [
           {
            "aaxis": {
             "endlinecolor": "#2a3f5f",
             "gridcolor": "white",
             "linecolor": "white",
             "minorgridcolor": "white",
             "startlinecolor": "#2a3f5f"
            },
            "baxis": {
             "endlinecolor": "#2a3f5f",
             "gridcolor": "white",
             "linecolor": "white",
             "minorgridcolor": "white",
             "startlinecolor": "#2a3f5f"
            },
            "type": "carpet"
           }
          ],
          "choropleth": [
           {
            "colorbar": {
             "outlinewidth": 0,
             "ticks": ""
            },
            "type": "choropleth"
           }
          ],
          "contour": [
           {
            "colorbar": {
             "outlinewidth": 0,
             "ticks": ""
            },
            "colorscale": [
             [
              0,
              "#0d0887"
             ],
             [
              0.1111111111111111,
              "#46039f"
             ],
             [
              0.2222222222222222,
              "#7201a8"
             ],
             [
              0.3333333333333333,
              "#9c179e"
             ],
             [
              0.4444444444444444,
              "#bd3786"
             ],
             [
              0.5555555555555556,
              "#d8576b"
             ],
             [
              0.6666666666666666,
              "#ed7953"
             ],
             [
              0.7777777777777778,
              "#fb9f3a"
             ],
             [
              0.8888888888888888,
              "#fdca26"
             ],
             [
              1,
              "#f0f921"
             ]
            ],
            "type": "contour"
           }
          ],
          "contourcarpet": [
           {
            "colorbar": {
             "outlinewidth": 0,
             "ticks": ""
            },
            "type": "contourcarpet"
           }
          ],
          "heatmap": [
           {
            "colorbar": {
             "outlinewidth": 0,
             "ticks": ""
            },
            "colorscale": [
             [
              0,
              "#0d0887"
             ],
             [
              0.1111111111111111,
              "#46039f"
             ],
             [
              0.2222222222222222,
              "#7201a8"
             ],
             [
              0.3333333333333333,
              "#9c179e"
             ],
             [
              0.4444444444444444,
              "#bd3786"
             ],
             [
              0.5555555555555556,
              "#d8576b"
             ],
             [
              0.6666666666666666,
              "#ed7953"
             ],
             [
              0.7777777777777778,
              "#fb9f3a"
             ],
             [
              0.8888888888888888,
              "#fdca26"
             ],
             [
              1,
              "#f0f921"
             ]
            ],
            "type": "heatmap"
           }
          ],
          "heatmapgl": [
           {
            "colorbar": {
             "outlinewidth": 0,
             "ticks": ""
            },
            "colorscale": [
             [
              0,
              "#0d0887"
             ],
             [
              0.1111111111111111,
              "#46039f"
             ],
             [
              0.2222222222222222,
              "#7201a8"
             ],
             [
              0.3333333333333333,
              "#9c179e"
             ],
             [
              0.4444444444444444,
              "#bd3786"
             ],
             [
              0.5555555555555556,
              "#d8576b"
             ],
             [
              0.6666666666666666,
              "#ed7953"
             ],
             [
              0.7777777777777778,
              "#fb9f3a"
             ],
             [
              0.8888888888888888,
              "#fdca26"
             ],
             [
              1,
              "#f0f921"
             ]
            ],
            "type": "heatmapgl"
           }
          ],
          "histogram": [
           {
            "marker": {
             "pattern": {
              "fillmode": "overlay",
              "size": 10,
              "solidity": 0.2
             }
            },
            "type": "histogram"
           }
          ],
          "histogram2d": [
           {
            "colorbar": {
             "outlinewidth": 0,
             "ticks": ""
            },
            "colorscale": [
             [
              0,
              "#0d0887"
             ],
             [
              0.1111111111111111,
              "#46039f"
             ],
             [
              0.2222222222222222,
              "#7201a8"
             ],
             [
              0.3333333333333333,
              "#9c179e"
             ],
             [
              0.4444444444444444,
              "#bd3786"
             ],
             [
              0.5555555555555556,
              "#d8576b"
             ],
             [
              0.6666666666666666,
              "#ed7953"
             ],
             [
              0.7777777777777778,
              "#fb9f3a"
             ],
             [
              0.8888888888888888,
              "#fdca26"
             ],
             [
              1,
              "#f0f921"
             ]
            ],
            "type": "histogram2d"
           }
          ],
          "histogram2dcontour": [
           {
            "colorbar": {
             "outlinewidth": 0,
             "ticks": ""
            },
            "colorscale": [
             [
              0,
              "#0d0887"
             ],
             [
              0.1111111111111111,
              "#46039f"
             ],
             [
              0.2222222222222222,
              "#7201a8"
             ],
             [
              0.3333333333333333,
              "#9c179e"
             ],
             [
              0.4444444444444444,
              "#bd3786"
             ],
             [
              0.5555555555555556,
              "#d8576b"
             ],
             [
              0.6666666666666666,
              "#ed7953"
             ],
             [
              0.7777777777777778,
              "#fb9f3a"
             ],
             [
              0.8888888888888888,
              "#fdca26"
             ],
             [
              1,
              "#f0f921"
             ]
            ],
            "type": "histogram2dcontour"
           }
          ],
          "mesh3d": [
           {
            "colorbar": {
             "outlinewidth": 0,
             "ticks": ""
            },
            "type": "mesh3d"
           }
          ],
          "parcoords": [
           {
            "line": {
             "colorbar": {
              "outlinewidth": 0,
              "ticks": ""
             }
            },
            "type": "parcoords"
           }
          ],
          "pie": [
           {
            "automargin": true,
            "type": "pie"
           }
          ],
          "scatter": [
           {
            "fillpattern": {
             "fillmode": "overlay",
             "size": 10,
             "solidity": 0.2
            },
            "type": "scatter"
           }
          ],
          "scatter3d": [
           {
            "line": {
             "colorbar": {
              "outlinewidth": 0,
              "ticks": ""
             }
            },
            "marker": {
             "colorbar": {
              "outlinewidth": 0,
              "ticks": ""
             }
            },
            "type": "scatter3d"
           }
          ],
          "scattercarpet": [
           {
            "marker": {
             "colorbar": {
              "outlinewidth": 0,
              "ticks": ""
             }
            },
            "type": "scattercarpet"
           }
          ],
          "scattergeo": [
           {
            "marker": {
             "colorbar": {
              "outlinewidth": 0,
              "ticks": ""
             }
            },
            "type": "scattergeo"
           }
          ],
          "scattergl": [
           {
            "marker": {
             "colorbar": {
              "outlinewidth": 0,
              "ticks": ""
             }
            },
            "type": "scattergl"
           }
          ],
          "scattermapbox": [
           {
            "marker": {
             "colorbar": {
              "outlinewidth": 0,
              "ticks": ""
             }
            },
            "type": "scattermapbox"
           }
          ],
          "scatterpolar": [
           {
            "marker": {
             "colorbar": {
              "outlinewidth": 0,
              "ticks": ""
             }
            },
            "type": "scatterpolar"
           }
          ],
          "scatterpolargl": [
           {
            "marker": {
             "colorbar": {
              "outlinewidth": 0,
              "ticks": ""
             }
            },
            "type": "scatterpolargl"
           }
          ],
          "scatterternary": [
           {
            "marker": {
             "colorbar": {
              "outlinewidth": 0,
              "ticks": ""
             }
            },
            "type": "scatterternary"
           }
          ],
          "surface": [
           {
            "colorbar": {
             "outlinewidth": 0,
             "ticks": ""
            },
            "colorscale": [
             [
              0,
              "#0d0887"
             ],
             [
              0.1111111111111111,
              "#46039f"
             ],
             [
              0.2222222222222222,
              "#7201a8"
             ],
             [
              0.3333333333333333,
              "#9c179e"
             ],
             [
              0.4444444444444444,
              "#bd3786"
             ],
             [
              0.5555555555555556,
              "#d8576b"
             ],
             [
              0.6666666666666666,
              "#ed7953"
             ],
             [
              0.7777777777777778,
              "#fb9f3a"
             ],
             [
              0.8888888888888888,
              "#fdca26"
             ],
             [
              1,
              "#f0f921"
             ]
            ],
            "type": "surface"
           }
          ],
          "table": [
           {
            "cells": {
             "fill": {
              "color": "#EBF0F8"
             },
             "line": {
              "color": "white"
             }
            },
            "header": {
             "fill": {
              "color": "#C8D4E3"
             },
             "line": {
              "color": "white"
             }
            },
            "type": "table"
           }
          ]
         },
         "layout": {
          "annotationdefaults": {
           "arrowcolor": "#2a3f5f",
           "arrowhead": 0,
           "arrowwidth": 1
          },
          "autotypenumbers": "strict",
          "coloraxis": {
           "colorbar": {
            "outlinewidth": 0,
            "ticks": ""
           }
          },
          "colorscale": {
           "diverging": [
            [
             0,
             "#8e0152"
            ],
            [
             0.1,
             "#c51b7d"
            ],
            [
             0.2,
             "#de77ae"
            ],
            [
             0.3,
             "#f1b6da"
            ],
            [
             0.4,
             "#fde0ef"
            ],
            [
             0.5,
             "#f7f7f7"
            ],
            [
             0.6,
             "#e6f5d0"
            ],
            [
             0.7,
             "#b8e186"
            ],
            [
             0.8,
             "#7fbc41"
            ],
            [
             0.9,
             "#4d9221"
            ],
            [
             1,
             "#276419"
            ]
           ],
           "sequential": [
            [
             0,
             "#0d0887"
            ],
            [
             0.1111111111111111,
             "#46039f"
            ],
            [
             0.2222222222222222,
             "#7201a8"
            ],
            [
             0.3333333333333333,
             "#9c179e"
            ],
            [
             0.4444444444444444,
             "#bd3786"
            ],
            [
             0.5555555555555556,
             "#d8576b"
            ],
            [
             0.6666666666666666,
             "#ed7953"
            ],
            [
             0.7777777777777778,
             "#fb9f3a"
            ],
            [
             0.8888888888888888,
             "#fdca26"
            ],
            [
             1,
             "#f0f921"
            ]
           ],
           "sequentialminus": [
            [
             0,
             "#0d0887"
            ],
            [
             0.1111111111111111,
             "#46039f"
            ],
            [
             0.2222222222222222,
             "#7201a8"
            ],
            [
             0.3333333333333333,
             "#9c179e"
            ],
            [
             0.4444444444444444,
             "#bd3786"
            ],
            [
             0.5555555555555556,
             "#d8576b"
            ],
            [
             0.6666666666666666,
             "#ed7953"
            ],
            [
             0.7777777777777778,
             "#fb9f3a"
            ],
            [
             0.8888888888888888,
             "#fdca26"
            ],
            [
             1,
             "#f0f921"
            ]
           ]
          },
          "colorway": [
           "#636efa",
           "#EF553B",
           "#00cc96",
           "#ab63fa",
           "#FFA15A",
           "#19d3f3",
           "#FF6692",
           "#B6E880",
           "#FF97FF",
           "#FECB52"
          ],
          "font": {
           "color": "#2a3f5f"
          },
          "geo": {
           "bgcolor": "white",
           "lakecolor": "white",
           "landcolor": "#E5ECF6",
           "showlakes": true,
           "showland": true,
           "subunitcolor": "white"
          },
          "hoverlabel": {
           "align": "left"
          },
          "hovermode": "closest",
          "mapbox": {
           "style": "light"
          },
          "paper_bgcolor": "white",
          "plot_bgcolor": "#E5ECF6",
          "polar": {
           "angularaxis": {
            "gridcolor": "white",
            "linecolor": "white",
            "ticks": ""
           },
           "bgcolor": "#E5ECF6",
           "radialaxis": {
            "gridcolor": "white",
            "linecolor": "white",
            "ticks": ""
           }
          },
          "scene": {
           "xaxis": {
            "backgroundcolor": "#E5ECF6",
            "gridcolor": "white",
            "gridwidth": 2,
            "linecolor": "white",
            "showbackground": true,
            "ticks": "",
            "zerolinecolor": "white"
           },
           "yaxis": {
            "backgroundcolor": "#E5ECF6",
            "gridcolor": "white",
            "gridwidth": 2,
            "linecolor": "white",
            "showbackground": true,
            "ticks": "",
            "zerolinecolor": "white"
           },
           "zaxis": {
            "backgroundcolor": "#E5ECF6",
            "gridcolor": "white",
            "gridwidth": 2,
            "linecolor": "white",
            "showbackground": true,
            "ticks": "",
            "zerolinecolor": "white"
           }
          },
          "shapedefaults": {
           "line": {
            "color": "#2a3f5f"
           }
          },
          "ternary": {
           "aaxis": {
            "gridcolor": "white",
            "linecolor": "white",
            "ticks": ""
           },
           "baxis": {
            "gridcolor": "white",
            "linecolor": "white",
            "ticks": ""
           },
           "bgcolor": "#E5ECF6",
           "caxis": {
            "gridcolor": "white",
            "linecolor": "white",
            "ticks": ""
           }
          },
          "title": {
           "x": 0.05
          },
          "xaxis": {
           "automargin": true,
           "gridcolor": "white",
           "linecolor": "white",
           "ticks": "",
           "title": {
            "standoff": 15
           },
           "zerolinecolor": "white",
           "zerolinewidth": 2
          },
          "yaxis": {
           "automargin": true,
           "gridcolor": "white",
           "linecolor": "white",
           "ticks": "",
           "title": {
            "standoff": 15
           },
           "zerolinecolor": "white",
           "zerolinewidth": 2
          }
         }
        },
        "xaxis": {
         "anchor": "y",
         "domain": [
          0,
          1
         ],
         "title": {
          "text": "id accuracy"
         }
        },
        "yaxis": {
         "anchor": "x",
         "domain": [
          0,
          1
         ],
         "title": {
          "text": "id sece"
         }
        }
       }
      }
     },
     "metadata": {},
     "output_type": "display_data"
    }
   ],
   "source": [
    "pareto_plot(data, \"id accuracy\", \"id sece\")"
   ]
  },
  {
   "cell_type": "code",
   "execution_count": 9,
   "metadata": {},
   "outputs": [
    {
     "data": {
      "text/plain": [
       "'model,model,ood accuracy,ood accuracy_std,ood log likelihood,ood log likelihood_std,ood sece,ood sece_std,ood ece,ood ece_std,id accuracy,id accuracy_std,id log likelihood,id log likelihood_std,id sece,id sece_std,id ece,id ece_std\\nbbb_1,bbb_1,0.03841871892412504,0.00046235824352025464,-6.837260961532593,0.011626799455830054,-0.0451375101337201,0.0023704270226309826,0.0451375101337201,0.0023704270226309826,0.04582389506200949,0.000913740403228948,-6.657396713892619,0.01895532059172637,-0.03180355972813914,0.002484118713351236,0.03180355972813914,0.002484118713351236\\nbbb_kl0.2_1,bbb_kl0.2_1,0.04611504760881265,0.000589582319979473,-7.95693023999532,0.050442203277153326,-0.11701159709280855,0.0023043171070491787,0.11701159709280855,0.0023043171070491787,0.05419990854958693,0.00111934630261978,-7.59790317217509,0.04425474582900856,-0.10244980697090511,0.0018796998496521603,0.10244980697090511,0.0018796998496521603\\nbbb_prior0.1_1,bbb_prior0.1_1,0.03124515898525715,0.0014810028060359508,-6.680903911590576,0.020499101985793404,-0.005615897716328925,0.0037543472705969,0.008236072966342435,0.0016435399306355882,0.03565038243929545,0.0016812919862457633,-6.618398904800415,0.017035482859579794,0.002830991429531037,0.003979139159255492,0.0099075765231,0.0012074310391087116\\nbbb_prior0.5_1,bbb_prior0.5_1,0.03460927804311117,0.001202305528239787,-6.7370067437489825,0.015326395114970913,-0.015128672090163922,0.003086288438923655,0.015129476726902147,0.0030868134018822917,0.03958189735809962,0.0013690619940159834,-6.631842374801636,0.01692803863214888,-0.006364070942788131,0.0027333217502284834,0.007342764710458143,0.001914051779120967\\nlaplace-1,laplace-1,0.06142541766166687,0.0023234188556671143,-6.909185171127319,0.2707095146179199,-0.02787646027520986,0.00707537609641094,0.036968597047843235,0.006789979325078586,0.07739092037081718,0.0002462342381477356,-6.62431788444519,0.20596170425415036,-0.011021458421149792,0.009275580293686152,0.0338451729239917,0.0042389024834792585\\nlaplace-5,laplace-5,0.09136849641799928,,-6.013787269592285,,0.036115659780360646,,0.036115659780360646,,0.11538461595773696,,-5.736875057220459,,0.06095192553859843,,0.06095192553859843,\\nll_ivon_1,ll_ivon_1,0.002812306396663189,0.00019113377532068573,-7.213479121526082,0.013036879418886647,-0.008676179931889549,0.0005787210129711187,0.008679679555342228,0.000576867134924617,0.002958895560974876,0.00027105484657174306,-7.176245292027791,0.01156677649117419,-0.008216836135735503,0.00040545546422736693,0.008221158641718242,0.0004039103488712989\\nmap_1,map_1,0.08281540622313817,0.0012576325136277762,-7.197267134984334,0.148737827094565,-0.2621873899389236,0.015401979127186322,0.2621873899389236,0.015401979127186322,0.10464887320995331,0.0015603193748586546,-6.6687843799591064,0.12086651998471355,-0.23225915655213658,0.014671877168733492,0.23225915655213658,0.014671877168733492\\nmap_5,map_5,0.12239196002483368,0.0004519480057736392,-5.676773262023926,0.018625673844179277,-0.0610402671244172,0.0016843373059418235,0.07109871630441764,0.0014940200794307087,0.15593420565128327,0.0009361252800350173,-5.211210632324219,0.011805620120752609,-0.02642469336135181,0.0016060544432787804,0.06568539310391637,0.0014974152855904308\\nmcd_1,mcd_1,0.0826121059556802,0.0010648028023610573,-7.502936601638794,0.043493835055350254,-0.28819480147561843,0.0035626476329039835,0.28819480147561843,0.0035626476329039835,0.10588413849473,0.0011731581322688151,-6.924071470896403,0.03503765444145618,-0.25692001893970123,0.0031037120039375367,0.25692001893970123,0.0031037120039375367\\nmcd_5,mcd_5,0.1211256965994835,0.00026401818857390755,-5.835531997680664,0.00808268036559276,-0.07278583263091183,0.0004831590503184782,0.08087969147353555,0.0007600687794879488,0.15778095424175262,0.0006902281467820224,-5.327012348175049,0.0032602284236784144,-0.03528999635456413,0.0008718728119610904,0.0690030998420926,0.0011007016793693192\\nrank1_1,rank1_1,0.04304135665297508,0.0012851215879105694,-7.576698589324951,0.013566664918609335,-0.07831387130663034,0.0003777107625598452,0.07831387130663034,0.0003777107625598452,0.052728258073329926,0.0011749814852115065,-7.388601779937744,0.02293038755413246,-0.06764383740439875,0.0005791744262597419,0.06764383740439875,0.0005791744262597419\\nsvgd_1,svgd_1,0.08065752834081649,0.0016399686836174197,-8.935991096496583,0.08765221506093197,-0.382476523538816,0.0054322340732339165,0.382476523538816,0.0054322340732339165,0.10201418399810791,0.0007618107265162808,-8.253790092468261,0.08007379054014013,-0.3538763425049583,0.004828240853190587,0.3538763425049583,0.004828240853190587\\nswag_1,swag_1,0.0861892042060693,0.0013894187621364541,-7.549382130304973,0.10854093061810226,-0.3011477657242449,0.010021532105161476,0.3011477657242449,0.010021532105161476,0.11019321158528328,0.001486527987246025,-6.94747797648112,0.0876204949092494,-0.26883544096794565,0.009463660262852648,0.26883544096794565,0.009463660262852648\\nswag_5,swag_5,0.12616170942783356,0.0010356488770409933,-5.823701667785644,0.017467216274166295,-0.07807989060674485,0.000886632618373399,0.08476304717164583,0.0008108666874863777,0.16088840663433074,0.0007056198953040547,-5.299350357055664,0.009264765046100602,-0.04235697785849397,0.0007687817401644683,0.0751093152724445,0.0017071679397715983\\n'"
      ]
     },
     "execution_count": 9,
     "metadata": {},
     "output_type": "execute_result"
    }
   ],
   "source": [
    "data.to_csv(sep=\",\", header=True)"
   ]
  },
  {
   "cell_type": "code",
   "execution_count": 10,
   "metadata": {},
   "outputs": [
    {
     "name": "stdout",
     "output_type": "stream",
     "text": [
      "\\begin{tabular}{l|rrrrrr}\n",
      "    \\multicolumn{1}{l}{Model} & \\multicolumn{1}{c}{i.d. Accuracy} & \\multicolumn{1}{c}{i.d. ECE} & \\multicolumn{1}{c}{i.d. sECE}& \\multicolumn{1}{c}{o.o.d. Accuracy} & \\multicolumn{1}{c}{o.o.d. ECE} & \\multicolumn{1}{c}{o.o.d. sECE} \\\\\n",
      "    \\hline\n",
      "    MAP & $0.105 \\pm 0.002$ & $0.232 \\pm 0.015$ & $-0.232 \\pm 0.015$ & $0.083 \\pm 0.001$ & $0.262 \\pm 0.015$ & $-0.262 \\pm 0.015$ \\\\\n",
      "    Deep Ensemble & $0.156 \\pm 0.001$ & $0.066 \\pm 0.001$ & $-0.026 \\pm 0.002$ & $0.122 \\pm 0.000$ & $0.071 \\pm 0.001$ & $-0.061 \\pm 0.002$ \\\\\n",
      "    MCD & $0.106 \\pm 0.001$ & $0.257 \\pm 0.003$ & $-0.257 \\pm 0.003$ & $0.083 \\pm 0.001$ & $0.288 \\pm 0.004$ & $-0.288 \\pm 0.004$ \\\\\n",
      "    MultiMCD & $0.158 \\pm 0.001$ & $0.069 \\pm 0.001$ & $-0.035 \\pm 0.001$ & $0.121 \\pm 0.000$ & $0.081 \\pm 0.001$ & $-0.073 \\pm 0.000$ \\\\\n",
      "    SWAG & $0.110 \\pm 0.001$ & $0.269 \\pm 0.009$ & $-0.269 \\pm 0.009$ & $0.086 \\pm 0.001$ & $0.301 \\pm 0.010$ & $-0.301 \\pm 0.010$ \\\\\n",
      "    MultiSWAG & $\\bm{0.161 \\pm 0.001}$ & $0.075 \\pm 0.002$ & $-0.042 \\pm 0.001$ & $\\bm{0.126 \\pm 0.001}$ & $0.085 \\pm 0.001$ & $-0.078 \\pm 0.001$ \\\\\n",
      "    LL Laplace & $0.077 \\pm 0.000$ & $0.034 \\pm 0.004$ & $-0.011 \\pm 0.009$ & $0.061 \\pm 0.002$ & $0.037 \\pm 0.007$ & $-0.028 \\pm 0.007$ \\\\\n",
      "    LL BBB ($\\sigma=1.0, \\lambda=1.0$) & $0.046 \\pm 0.001$ & $0.032 \\pm 0.002$ & $-0.032 \\pm 0.002$ & $0.038 \\pm 0.000$ & $0.045 \\pm 0.002$ & $-0.045 \\pm 0.002$ \\\\\n",
      "    LL BBB ($\\sigma=0.5, \\lambda=1.0$) & $0.040 \\pm 0.001$ & $\\bm{0.007 \\pm 0.002}$ & $\\bm{-0.006 \\pm 0.003}$ & $0.035 \\pm 0.001$ & $0.015 \\pm 0.003$ & $-0.015 \\pm 0.003$ \\\\\n",
      "    LL BBB ($\\sigma=0.1, \\lambda=1.0$) & $0.036 \\pm 0.002$ & $0.010 \\pm 0.001$ & $\\bm{0.003 \\pm 0.004}$ & $0.031 \\pm 0.001$ & $\\bm{0.008 \\pm 0.002}$ & $\\bm{-0.006 \\pm 0.004}$ \\\\\n",
      "    LL BBB ($\\sigma=1.0, \\lambda=0.2$) & $0.054 \\pm 0.001$ & $0.102 \\pm 0.002$ & $-0.102 \\pm 0.002$ & $0.046 \\pm 0.001$ & $0.117 \\pm 0.002$ & $-0.117 \\pm 0.002$ \\\\\n",
      "    Rank-1 VI & $0.053 \\pm 0.001$ & $0.068 \\pm 0.001$ & $-0.068 \\pm 0.001$ & $0.043 \\pm 0.001$ & $0.078 \\pm 0.000$ & $-0.078 \\pm 0.000$ \\\\\n",
      "    LL iVON & $0.003 \\pm 0.000$ & $\\bm{0.008 \\pm 0.000}$ & $-0.008 \\pm 0.000$ & $0.003 \\pm 0.000$ & $\\bm{0.009 \\pm 0.001}$ & $\\bm{-0.009 \\pm 0.001}$ \\\\\n",
      "    SVGD & $0.102 \\pm 0.001$ & $0.354 \\pm 0.005$ & $-0.354 \\pm 0.005$ & $0.081 \\pm 0.002$ & $0.382 \\pm 0.005$ & $-0.382 \\pm 0.005$ \\\\\n",
      "\\end{tabular}\n"
     ]
    }
   ],
   "source": [
    "algo_names = [\n",
    "    (\"map_1\", \"MAP\"),\n",
    "    (\"map_5\", \"Deep Ensemble\"),\n",
    "    (\"mcd_1\", \"MCD\"),\n",
    "    (\"mcd_5\", \"MultiMCD\"),\n",
    "    (\"swag_1\", \"SWAG\"),\n",
    "    (\"swag_5\", \"MultiSWAG\"),\n",
    "    # (\"swag_ll-1\", \"LL SWAG\"),\n",
    "    (\"laplace-1\", \"LL Laplace\"),\n",
    "    # (\"laplace-5\", \"LL MultiLaplace\"),\n",
    "    (\"bbb_1\", \"LL BBB ($\\\\sigma=1.0, \\\\lambda=1.0$)\"),\n",
    "    (\"bbb_prior0.5_1\", \"LL BBB ($\\\\sigma=0.5, \\\\lambda=1.0$)\"),\n",
    "    (\"bbb_prior0.1_1\", \"LL BBB ($\\\\sigma=0.1, \\\\lambda=1.0$)\"),\n",
    "    (\"bbb_kl0.2_1\", \"LL BBB ($\\\\sigma=1.0, \\\\lambda=0.2$)\"),\n",
    "    # (\"bbb_5\", \"LL MultiBBB\"),\n",
    "    (\"rank1_1\", \"Rank-1 VI\"),\n",
    "    (\"ll_ivon_1\", \"LL iVON\"),\n",
    "    # (\"ll_ivon_5\", \"LL MultiiVON\"),\n",
    "    (\"svgd_1\", \"SVGD\"),\n",
    "    # (\"ll_svgd-1\", \"LL SVGD\"),\n",
    "]\n",
    "\n",
    "def num(value, std, best=None, ty=None):\n",
    "    value = float(value)\n",
    "    std = float(std)\n",
    "    num_string = f\"{value:.3f} \\\\pm {std:.3f}\"\n",
    "\n",
    "    if best is None or ty is None:\n",
    "        return f\"${num_string}$\"\n",
    "\n",
    "    if ty == \"max\":\n",
    "        if value >= best:\n",
    "            num_string = f\"\\\\bm{{{num_string}}}\"\n",
    "    elif ty == \"min\":\n",
    "        if value <= best:\n",
    "            num_string = f\"\\\\bm{{{num_string}}}\"\n",
    "    elif ty == \"zero\":\n",
    "        if abs(value) <= best:\n",
    "            num_string = f\"\\\\bm{{{num_string}}}\"\n",
    "    return f\"${num_string}$\"\n",
    "\n",
    "def col_name(name, align):\n",
    "    return f\"\\\\multicolumn{{1}}{{{align}}}{{{name}}}\"\n",
    "\n",
    "def create_table(data, prefix):\n",
    "    print(\"\\\\begin{tabular}{l|rrrrrr}\")\n",
    "    print(f\"    {col_name('Model', 'l')} & {col_name('i.d. Accuracy', 'c')} & {col_name('i.d. ECE', 'c')} & {col_name('i.d. sECE', 'c')}& {col_name('o.o.d. Accuracy', 'c')} & {col_name('o.o.d. ECE', 'c')} & {col_name('o.o.d. sECE', 'c')} \\\\\\\\\")\n",
    "    print(\"    \\\\hline\")\n",
    "\n",
    "    best_acc, best_acc_std = 0, 0\n",
    "    best_ece, best_ece_std = 1000, 0\n",
    "    best_sece, best_sece_std = 1000, 0\n",
    "\n",
    "    best_id_acc, best_id_acc_std = 0, 0\n",
    "    best_id_ece, best_id_ece_std = 1000, 0\n",
    "    best_id_sece, best_id_sece_std = 1000, 0\n",
    "\n",
    "    for algo, name in algo_names:\n",
    "        row = data[data[\"model\"] == algo]\n",
    "        if (row.empty):\n",
    "            continue\n",
    "        \n",
    "        if float(row[prefix + \"ood accuracy\"]) > best_acc:\n",
    "            best_acc = float(row[prefix + \"ood accuracy\"])\n",
    "            best_acc_std = float(row[prefix + \"ood accuracy_std\"])\n",
    "        \n",
    "        if float(row[prefix + \"ood ece\"]) < best_ece:\n",
    "            best_ece = float(row[prefix + \"ood ece\"])\n",
    "            best_ece_std = float(row[prefix + \"ood ece_std\"])\n",
    "        \n",
    "        if abs(float(row[prefix + \"ood ece\"])) < best_sece:\n",
    "            best_sece = abs(float(row[prefix + \"ood sece\"]))\n",
    "            best_sece_std = float(row[prefix + \"ood sece_std\"])\n",
    "        \n",
    "        if float(row[prefix + \"id accuracy\"]) > best_acc:\n",
    "            best_id_acc = float(row[prefix + \"id accuracy\"])\n",
    "            best_id_acc_std = float(row[prefix + \"id accuracy_std\"])\n",
    "        \n",
    "        if float(row[prefix + \"id ece\"]) < best_ece:\n",
    "            best_id_ece = float(row[prefix + \"id ece\"])\n",
    "            best_id_ece_std = float(row[prefix + \"id ece_std\"])\n",
    "        \n",
    "        if abs(float(row[prefix + \"id sece\"])) < best_sece:\n",
    "            best_id_sece = abs(float(row[prefix + \"id sece\"]))\n",
    "            best_id_sece_std = float(row[prefix + \"id sece_std\"])\n",
    "\n",
    "    best_acc -= best_acc_std\n",
    "    best_ece += best_ece_std\n",
    "    best_sece = abs(best_sece) + best_sece_std\n",
    "\n",
    "    best_id_acc -= best_id_acc_std\n",
    "    best_id_ece += best_id_ece_std\n",
    "    best_id_sece = abs(best_id_sece) + best_id_sece_std\n",
    "\n",
    "    for algo, name in algo_names:\n",
    "        row = data[data[\"model\"] == algo]\n",
    "        if row.empty:\n",
    "            continue\n",
    "        print(f\"    {name} & {num(row[prefix + 'id accuracy'], row[prefix + 'id accuracy_std'], best_id_acc, 'max')} & {num(row[prefix + 'id ece'], row[prefix + 'id ece_std'], best_id_ece, 'min')} & {num(row[prefix + 'id sece'], row[prefix + 'id sece_std'], best_id_sece, 'zero')} & {num(row[prefix + 'ood accuracy'], row[prefix + 'ood accuracy_std'], best_acc, 'max')} & {num(row[prefix + 'ood ece'], row[prefix + 'ood ece_std'], best_ece, 'min')} & {num(row[prefix + 'ood sece'], row[prefix + 'ood sece_std'], best_sece, 'zero')} \\\\\\\\\")\n",
    "    print(\"\\\\end{tabular}\")\n",
    "create_table(data, \"\")"
   ]
  },
  {
   "cell_type": "code",
   "execution_count": null,
   "metadata": {},
   "outputs": [],
   "source": []
  }
 ],
 "metadata": {
  "kernelspec": {
   "display_name": "bdl2",
   "language": "python",
   "name": "python3"
  },
  "language_info": {
   "codemirror_mode": {
    "name": "ipython",
    "version": 3
   },
   "file_extension": ".py",
   "mimetype": "text/x-python",
   "name": "python",
   "nbconvert_exporter": "python",
   "pygments_lexer": "ipython3",
   "version": "3.10.10"
  },
  "orig_nbformat": 4
 },
 "nbformat": 4,
 "nbformat_minor": 2
}
