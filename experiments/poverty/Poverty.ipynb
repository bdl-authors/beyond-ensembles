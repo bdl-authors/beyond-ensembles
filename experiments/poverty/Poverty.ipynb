{
 "cells": [
  {
   "cell_type": "code",
   "execution_count": 2,
   "metadata": {},
   "outputs": [
    {
     "name": "stderr",
     "output_type": "stream",
     "text": [
      "Failed to detect the name of this notebook, you can set it manually with the WANDB_NOTEBOOK_NAME environment variable to enable code saving.\n"
     ]
    },
    {
     "data": {
      "text/plain": []
     },
     "execution_count": 2,
     "metadata": {},
     "output_type": "execute_result"
    }
   ],
   "source": [
    "%load_ext autoreload\n",
    "%autoreload 2\n",
    "\n",
    "import sys\n",
    "sys.path.append(\"../../\")\n",
    "\n",
    "import torch\n",
    "import torch.nn as nn\n",
    "import torch.nn.functional as F\n",
    "import math\n",
    "\n",
    "DATA_PATH = \"../data\"\n",
    "\n",
    "if torch.cuda.is_available():\n",
    "    device = torch.device(\"cuda\")\n",
    "else:\n",
    "    device = torch.device(\"cpu\")\n",
    "\n",
    "from src.log_mock import PrintLog\n",
    "log = PrintLog()\n",
    "\n",
    "import wandb\n",
    "\n",
    "wandb.init(mode=\"disabled\")"
   ]
  },
  {
   "cell_type": "code",
   "execution_count": 3,
   "metadata": {},
   "outputs": [],
   "source": [
    "wapi = wandb.Api()\n",
    "runs = wapi.runs(\"foobar/poverty\")"
   ]
  },
  {
   "cell_type": "code",
   "execution_count": 4,
   "metadata": {},
   "outputs": [
    {
     "name": "stdout",
     "output_type": "stream",
     "text": [
      "bbb-5-(E) dict_keys(['mse', 'wilds', 'id', 'sqce', '_wandb', 'avg_ll', '_timestamp', 'train_loss', 'ood', '_step', 'pearson', 'qce', 'avg_lml', '_runtime'])\n",
      "bbb-5-(D) dict_keys(['ood', '_wandb', 'avg_lml', 'pearson', '_timestamp', 'wilds', 'train_loss', 'avg_ll', '_runtime', 'id', 'mse', 'qce', 'sqce', '_step'])\n",
      "bbb-5-(C) dict_keys(['sqce', 'train_loss', 'mse', '_runtime', 'avg_lml', '_step', 'wilds', 'id', 'qce', '_wandb', 'avg_ll', 'pearson', '_timestamp', 'ood'])\n",
      "bbb-5-(B) dict_keys(['_step', 'train_loss', 'mse', 'ood', 'avg_ll', 'avg_lml', '_runtime', 'id', '_timestamp', 'sqce', 'wilds', '_wandb', 'pearson', 'qce'])\n",
      "bbb-5-(A) dict_keys(['_step', '_timestamp', 'sqce', 'avg_lml', 'mse', 'ood', 'wilds', 'pearson', '_wandb', 'avg_ll', '_runtime', 'train_loss', 'id', 'qce'])\n",
      "ivon_p100-1-(A) dict_keys(['sqce', '_wandb', 'avg_lml', 'train_loss', 'mse', 'pearson', 'ood', 'qce', 'wilds', 'avg_ll', '_runtime', 'id', '_timestamp', '_step'])\n",
      "ivon_p1-1-(A) dict_keys(['_wandb'])\n",
      "ivon_p10-1-(A) dict_keys(['_wandb'])\n",
      "ivon_p500-1-(A) dict_keys(['_runtime', 'train_loss', 'wilds', 'avg_lml', 'avg_ll', 'ood', '_step', 'sqce', '_timestamp', 'id', 'mse', 'pearson', 'qce', '_wandb'])\n",
      "laplace-5-(D) dict_keys(['_step', '_wandb', '_runtime', '_timestamp', 'id', 'ood'])\n",
      "laplace-5-(C) dict_keys(['_timestamp', 'id', 'ood', '_step', '_wandb', '_runtime'])\n",
      "laplace-5-(A) dict_keys(['ood', '_step', '_wandb', '_runtime', '_timestamp', 'id'])\n",
      "laplace-5-(B) dict_keys(['id', 'ood', '_step', '_wandb', '_runtime', '_timestamp'])\n",
      "laplace-5-(E) dict_keys(['_timestamp', 'id', 'ood', '_step', '_wandb', '_runtime'])\n",
      "laplace-1-(E) dict_keys(['ood', '_step', '_wandb', '_runtime', '_timestamp', 'id'])\n",
      "laplace-1-(D) dict_keys(['id', 'ood', '_step', '_wandb', '_runtime', '_timestamp'])\n",
      "laplace-1-(C) dict_keys(['_wandb', '_runtime', '_timestamp', 'id', 'ood', '_step'])\n",
      "laplace-1-(B) dict_keys(['id', 'ood', '_step', '_wandb', '_runtime', '_timestamp'])\n",
      "laplace-1-(A) dict_keys(['id', 'ood', '_step', '_wandb', '_runtime', '_timestamp'])\n",
      "bbb-5-(E) dict_keys(['qce', 'sqce', '_step', 'wilds', 'pearson', '_runtime', '_timestamp', 'mse', '_wandb', 'avg_ll', 'avg_lml', 'train_loss'])\n",
      "bbb-5-(D) dict_keys(['avg_ll', 'pearson', 'train_loss', 'sqce', '_step', 'wilds', '_wandb', 'avg_lml', '_runtime', '_timestamp', 'mse', 'qce'])\n",
      "bbb-5-(C) dict_keys(['mse', 'wilds', 'avg_lml', 'pearson', '_runtime', '_timestamp', 'train_loss', 'qce', 'sqce', '_step', '_wandb', 'avg_ll'])\n",
      "bbb-5-(B) dict_keys(['pearson', 'mse', 'sqce', '_step', 'wilds', 'avg_ll', 'train_loss', 'qce', '_wandb', 'avg_lml', '_runtime', '_timestamp'])\n",
      "bbb-5-(A) dict_keys(['_step', '_runtime', '_timestamp', 'train_loss'])\n",
      "swag-5-(E) dict_keys(['id', 'ood', 'sqce', 'wilds', '_wandb', '_timestamp', '_step', 'mse', 'avg_lml', 'pearson', '_runtime', 'qce', 'avg_ll', 'train_loss'])\n",
      "swag-5-(D) dict_keys(['mse', 'sqce', '_wandb', 'pearson', '_timestamp', 'train_loss', '_step', 'wilds', 'id', 'qce', 'avg_lml', 'ood', 'avg_ll', '_runtime'])\n",
      "swag-5-(C) dict_keys(['_runtime', 'id', 'avg_ll', 'avg_lml', 'ood', '_step', 'mse', 'wilds', 'pearson', '_timestamp', 'train_loss', 'qce', 'sqce', '_wandb'])\n",
      "swag-5-(B) dict_keys(['sqce', 'avg_lml', 'qce', '_runtime', 'wilds', 'ood', 'pearson', 'train_loss', 'mse', '_step', '_wandb', 'avg_ll', '_timestamp', 'id'])\n",
      "swag-5-(A) dict_keys(['wilds', 'avg_ll', 'sqce', '_step', 'mse', 'pearson', '_timestamp', 'train_loss', 'qce', 'avg_lml', '_wandb', '_runtime', 'id', 'ood'])\n",
      "mcd-5-(E) dict_keys(['wilds', '_wandb', 'avg_ll', 'qce', 'ood', '_step', 'train_loss', 'id', 'avg_lml', 'pearson', '_timestamp', 'mse', '_runtime', 'sqce'])\n",
      "mcd-5-(D) dict_keys(['id', 'sqce', 'avg_lml', 'pearson', '_timestamp', 'qce', 'avg_ll', 'mse', 'ood', '_step', 'wilds', '_wandb', '_runtime', 'train_loss'])\n",
      "mcd-5-(C) dict_keys(['_step', 'pearson', '_wandb', '_runtime', '_timestamp', 'id', 'qce', 'wilds', 'avg_lml', 'mse', 'ood', 'sqce', 'avg_ll', 'train_loss'])\n",
      "mcd-5-(B) dict_keys(['wilds', '_wandb', '_timestamp', 'sqce', '_step', 'avg_ll', 'id', 'mse', 'qce', 'ood', 'train_loss', 'avg_lml', 'pearson', '_runtime'])\n",
      "mcd-5-(A) dict_keys(['mse', 'ood', 'pearson', 'train_loss', 'avg_ll', 'avg_lml', 'qce', '_step', 'wilds', '_wandb', 'id', '_timestamp', 'sqce', '_runtime'])\n",
      "map-5-(E) dict_keys(['_wandb', 'avg_lml', 'train_loss', 'sqce', 'avg_ll', 'pearson', '_runtime', '_timestamp', '_step', 'wilds', 'mse', 'ood', 'qce', 'id'])\n",
      "map-5-(D) dict_keys(['mse', 'ood', 'sqce', 'train_loss', 'id', 'qce', 'wilds', '_runtime', '_timestamp', '_step', '_wandb', 'avg_ll', 'avg_lml', 'pearson'])\n",
      "map-5-(B) dict_keys(['_runtime', 'id', 'mse', 'sqce', '_step', 'avg_ll', 'qce', 'avg_lml', 'pearson', 'ood', '_timestamp', 'train_loss', 'wilds', '_wandb'])\n",
      "map-5-(C) dict_keys(['train_loss', 'wilds', 'avg_lml', '_runtime', '_timestamp', 'mse', 'sqce', '_step', 'id', 'ood', 'qce', 'pearson', '_wandb', 'avg_ll'])\n",
      "map-5-(A) dict_keys(['mse', 'ood', 'qce', 'sqce', '_wandb', '_runtime', '_timestamp', 'id', '_step', 'wilds', 'avg_lml', 'pearson', 'train_loss', 'avg_ll'])\n",
      "svgd-1-(E) dict_keys(['id', 'train_loss', '_timestamp', 'mse', 'ood', 'avg_ll', 'pearson', '_runtime', 'qce', 'sqce', '_step', 'wilds', '_wandb', 'avg_lml'])\n",
      "svgd-1-(B) dict_keys(['train_loss', 'ood', '_runtime', 'avg_ll', '_timestamp', 'mse', '_wandb', 'id', 'pearson', '_step', 'wilds', 'avg_lml', 'qce', 'sqce'])\n",
      "svgd-1-(D) dict_keys(['_wandb', 'avg_ll', '_runtime', 'id', '_step', 'sqce', 'wilds', '_timestamp', 'train_loss', 'ood', 'qce', 'pearson', 'mse', 'avg_lml'])\n",
      "svgd-1-(C) dict_keys(['id', 'mse', 'ood', '_timestamp', '_step', 'train_loss', 'sqce', 'wilds', '_wandb', 'avg_lml', '_runtime', 'qce', 'avg_ll', 'pearson'])\n",
      "svgd-1-(A) dict_keys(['_timestamp', 'id', 'mse', '_step', 'wilds', 'avg_lml', 'ood', '_wandb', 'pearson', 'qce', 'avg_ll', '_runtime', 'train_loss', 'sqce'])\n",
      "swag-1-(E) dict_keys(['avg_ll', 'pearson', '_timestamp', 'wilds', '_wandb', '_step', 'avg_lml', '_runtime', 'ood', 'sqce', 'qce', 'train_loss', 'id', 'mse'])\n",
      "swag-1-(D) dict_keys(['id', '_step', 'pearson', 'sqce', 'wilds', '_wandb', '_runtime', 'mse', 'ood', 'qce', 'avg_ll', 'train_loss', 'avg_lml', '_timestamp'])\n",
      "swag-1-(C) dict_keys(['ood', 'avg_lml', 'pearson', 'id', 'avg_ll', '_timestamp', 'sqce', 'qce', '_step', 'wilds', '_wandb', '_runtime', 'train_loss', 'mse'])\n",
      "swag-1-(B) dict_keys(['qce', 'sqce', '_step', '_timestamp', 'id', 'wilds', 'avg_lml', 'pearson', '_runtime', 'mse', 'ood', 'train_loss', '_wandb', 'avg_ll'])\n",
      "swag-1-(A) dict_keys(['wilds', 'pearson', 'id', 'avg_ll', 'train_loss', 'avg_lml', '_runtime', 'mse', 'ood', 'qce', 'sqce', '_step', '_wandb', '_timestamp'])\n",
      "rank1-1-(E) dict_keys(['sqce', 'avg_lml', 'mse', 'qce', 'wilds', 'avg_ll', 'pearson', 'id', '_wandb', 'train_loss', 'ood', '_step', '_runtime', '_timestamp'])\n",
      "rank1-1-(C) dict_keys(['wilds', '_wandb', 'avg_ll', 'pearson', 'train_loss', 'id', 'mse', 'ood', 'qce', 'sqce', '_step', 'avg_lml', '_runtime', '_timestamp'])\n",
      "rank1-1-(D) dict_keys(['id', 'wilds', '_runtime', 'train_loss', 'mse', '_wandb', 'pearson', 'ood', 'qce', 'sqce', '_step', 'avg_ll', 'avg_lml', '_timestamp'])\n",
      "rank1-1-(B) dict_keys(['_step', 'avg_ll', 'pearson', 'ood', 'avg_lml', '_timestamp', 'wilds', '_wandb', '_runtime', 'mse', 'qce', 'sqce', 'train_loss', 'id'])\n",
      "rank1-1-(A) dict_keys(['_timestamp', 'ood', 'qce', 'sqce', '_step', '_runtime', 'wilds', 'avg_ll', 'avg_lml', 'pearson', 'id', 'mse', '_wandb', 'train_loss'])\n",
      "bbb-1-(E) dict_keys(['avg_lml', '_runtime', 'id', '_wandb', 'train_loss', 'mse', 'avg_ll', 'sqce', '_step', '_timestamp', 'ood', 'qce', 'wilds', 'pearson'])\n",
      "bbb-1-(D) dict_keys(['_runtime', '_timestamp', 'id', 'sqce', '_step', 'avg_lml', '_wandb', 'pearson', 'train_loss', 'avg_ll', 'mse', 'ood', 'qce', 'wilds'])\n",
      "bbb-1-(B) dict_keys(['ood', 'sqce', 'wilds', '_runtime', '_timestamp', 'id', 'mse', '_step', 'avg_lml', 'pearson', 'train_loss', 'qce', '_wandb', 'avg_ll'])\n",
      "bbb-1-(C) dict_keys(['sqce', 'pearson', 'train_loss', 'ood', 'qce', 'avg_lml', 'wilds', '_wandb', '_runtime', 'avg_ll', '_timestamp', 'id', 'mse', '_step'])\n",
      "bbb-1-(A) dict_keys(['_runtime', 'mse', 'avg_ll', 'avg_lml', 'pearson', '_timestamp', 'ood', 'qce', '_step', 'wilds', '_wandb', 'train_loss', 'id', 'sqce'])\n",
      "swag-1-(E) dict_keys(['avg_ll', 'pearson', 'id', 'qce', 'avg_lml', 'train_loss', 'wilds', '_wandb', '_timestamp', 'mse', '_runtime', '_step', 'ood', 'sqce'])\n",
      "swag-1-(D) dict_keys(['id', 'sqce', 'pearson', 'ood', 'wilds', 'avg_lml', '_runtime', 'train_loss', 'mse', '_wandb', 'avg_ll', '_timestamp', 'qce', '_step'])\n",
      "swag-1-(C) dict_keys(['sqce', 'avg_ll', 'qce', 'wilds', 'avg_lml', 'pearson', 'id', 'ood', '_step', '_runtime', '_timestamp', 'train_loss', 'mse', '_wandb'])\n",
      "swag-1-(B) dict_keys(['id', '_runtime', 'sqce', '_wandb', 'train_loss', 'ood', '_step', 'wilds', 'pearson', '_timestamp', 'mse', 'qce', 'avg_ll', 'avg_lml'])\n",
      "swag-1-(A) dict_keys(['_wandb', 'avg_lml', 'mse', 'wilds', '_timestamp', 'train_loss', 'qce', '_step', 'avg_ll', '_runtime', 'id', 'ood', 'sqce', 'pearson'])\n",
      "mcd-1-(E) dict_keys(['id', 'qce', '_wandb', 'avg_ll', 'avg_lml', 'sqce', '_step', 'wilds', '_timestamp', 'train_loss', 'mse', 'ood', 'pearson', '_runtime'])\n",
      "mcd-1-(C) dict_keys(['id', 'mse', '_wandb', 'pearson', 'sqce', 'avg_lml', '_timestamp', 'train_loss', 'ood', '_step', 'avg_ll', '_runtime', 'qce', 'wilds'])\n",
      "mcd-1-(B) dict_keys(['sqce', '_step', 'pearson', 'id', 'ood', 'wilds', '_wandb', 'avg_lml', 'qce', '_runtime', '_timestamp', 'mse', 'avg_ll', 'train_loss'])\n",
      "mcd-1-(A) dict_keys(['sqce', 'wilds', 'avg_lml', '_step', 'pearson', 'id', 'ood', 'qce', 'avg_ll', 'mse', '_wandb', '_runtime', '_timestamp', 'train_loss'])\n",
      "mcd-1-(D) dict_keys(['ood', 'wilds', 'train_loss', 'id', 'sqce', 'avg_lml', 'pearson', 'mse', '_step', '_runtime', '_timestamp', 'qce', '_wandb', 'avg_ll'])\n",
      "map-1-(E) dict_keys(['id', '_runtime', '_timestamp', 'avg_ll', 'avg_lml', 'pearson', 'train_loss', 'qce', 'wilds', '_wandb', 'mse', 'ood', 'sqce', '_step'])\n",
      "map-1-(B) dict_keys(['avg_ll', 'ood', '_step', 'wilds', 'avg_lml', '_timestamp', 'mse', '_wandb', '_runtime', 'train_loss', 'sqce', 'qce', 'pearson', 'id'])\n",
      "map-1-(A) dict_keys(['mse', 'train_loss', 'ood', 'avg_ll', 'pearson', '_runtime', 'qce', '_step', '_wandb', 'avg_lml', '_timestamp', 'id', 'sqce', 'wilds'])\n",
      "map-1-(C) dict_keys(['mse', 'ood', '_wandb', 'avg_ll', 'sqce', 'avg_lml', 'id', 'qce', 'pearson', '_runtime', 'train_loss', '_step', 'wilds', '_timestamp'])\n",
      "map-1-(D) dict_keys(['_runtime', '_timestamp', 'id', 'wilds', 'avg_ll', 'qce', 'sqce', 'train_loss', '_step', '_wandb', 'pearson', 'mse', 'ood', 'avg_lml'])\n",
      "map-1-(0) dict_keys(['_runtime', 'id', 'avg_ll', 'pearson', '_timestamp', 'mse', 'qce', '_step', 'avg_lml', 'train_loss', 'ood', 'sqce', 'wilds', '_wandb'])\n",
      "map-1-(0) dict_keys(['_wandb', 'avg_lml', '_step', '_runtime', 'train_loss', 'mse', 'sqce', 'id', 'wilds', 'avg_ll', 'pearson', '_timestamp', 'ood', 'qce'])\n",
      "map-1-(0) dict_keys(['pearson', '_step', 'avg_ll', 'qce', 'wilds', '_runtime', '_timestamp', 'train_loss', 'mse', 'ood', 'sqce', 'avg_lml', 'id', '_wandb'])\n",
      "map-1-(0) dict_keys(['id', 'mse', 'avg_ll', 'train_loss', 'qce', 'ood', '_step', '_wandb', '_timestamp', '_runtime', 'sqce', 'wilds', 'avg_lml', 'pearson'])\n",
      "map-1-(0) dict_keys(['avg_ll', 'mse', '_wandb', '_runtime', 'train_loss', 'ood', 'wilds', 'avg_lml', '_timestamp', 'id', 'qce', 'sqce', '_step', 'pearson'])\n"
     ]
    }
   ],
   "source": [
    "for run in runs:\n",
    "    print(run.name, run.summary.keys())"
   ]
  },
  {
   "cell_type": "code",
   "execution_count": 5,
   "metadata": {},
   "outputs": [],
   "source": [
    "import plotly.express as px\n",
    "import pandas as pd\n",
    "import dateutil\n",
    "import datetime\n",
    "\n",
    "def create_plot_data_for_run(run):\n",
    "    model_name = run.name.split(\"-\")[0]\n",
    "    return {\n",
    "        \"model\": model_name + \"-\" + run.name.split(\"-\")[1],\n",
    "        \"ood mse\": run.summary[\"ood\"][\"mse\"],\n",
    "        \"ood pearson\": run.summary[\"ood\"][\"pearson\"],\n",
    "        \"ood ll\": run.summary[\"ood\"][\"avg_ll\"],\n",
    "        \"ood lml\": run.summary[\"ood\"][\"avg_lml\"],\n",
    "        \"ood qce\": run.summary[\"ood\"][\"qce\"],\n",
    "        \"ood sqce\": run.summary[\"ood\"][\"sqce\"],\n",
    "        \"id mse\": run.summary[\"id\"][\"mse\"],\n",
    "        \"id pearson\": run.summary[\"id\"][\"pearson\"],\n",
    "        \"id ll\": run.summary[\"id\"][\"avg_ll\"],\n",
    "        \"id lml\": run.summary[\"id\"][\"avg_lml\"],\n",
    "        \"id qce\": run.summary[\"id\"][\"qce\"],\n",
    "        \"id sqce\": run.summary[\"id\"][\"sqce\"],\n",
    "    }\n",
    "\n",
    "def plot(data, value):\n",
    "    plot = px.box(data, x=\"model\", y=value, color=\"model\")\n",
    "    return plot\n",
    "\n",
    "def pareto_plot(data, x, y):\n",
    "    plot = px.scatter(data, x=x, error_x=f\"{x}_std\", y=y, error_y=f\"{y}_std\", color=\"model\")\n",
    "    return plot\n",
    "\n",
    "def build_data(runs):\n",
    "    rows = []\n",
    "    for run in runs:\n",
    "        if run.state != \"finished\":\n",
    "            continue\n",
    "        if \"old\" in run.tags:\n",
    "            print(\"Skipping old run \" + run.name)\n",
    "            continue\n",
    "        if \"ood\" not in run.summary:\n",
    "            print(\"Skipping failed run \" + run.name)\n",
    "            continue\n",
    "        rows.append(create_plot_data_for_run(run))\n",
    "    return pd.DataFrame.from_dict(rows)\n",
    "\n",
    "def aggregate_data(data):\n",
    "    aggregated_data = data.groupby([\"model\"]).agg({\n",
    "        \"model\": \"first\",\n",
    "        \"ood mse\": [\"mean\", \"sem\"], \n",
    "        \"ood pearson\": [\"mean\", \"sem\"], \n",
    "        \"ood ll\": [\"mean\", \"sem\"], \n",
    "        \"ood lml\": [\"mean\", \"sem\"],\n",
    "        \"ood qce\": [\"mean\", \"sem\"],\n",
    "        \"ood sqce\": [\"mean\", \"sem\"],\n",
    "        \"id mse\": [\"mean\", \"sem\"], \n",
    "        \"id pearson\": [\"mean\", \"sem\"], \n",
    "        \"id ll\": [\"mean\", \"sem\"], \n",
    "        \"id lml\": [\"mean\", \"sem\"],\n",
    "        \"id qce\": [\"mean\", \"sem\"],\n",
    "        \"id sqce\": [\"mean\", \"sem\"],\n",
    "    })\n",
    "    aggregated_data.columns = [a[0] + \"_std\" if a[1] == \"sem\" else a[0] for a in aggregated_data.columns.to_flat_index()]\n",
    "    aggregated_data[\"ood mse_std\"] *= 2.0\n",
    "    aggregated_data[\"ood pearson_std\"] *= 2.0\n",
    "    aggregated_data[\"ood ll_std\"] *= 2.0\n",
    "    aggregated_data[\"ood lml_std\"] *= 2.0\n",
    "    aggregated_data[\"ood qce_std\"] *= 2.0\n",
    "    aggregated_data[\"ood sqce_std\"] *= 2.0\n",
    "    aggregated_data[\"id mse_std\"] *= 2.0\n",
    "    aggregated_data[\"id pearson_std\"] *= 2.0\n",
    "    aggregated_data[\"id ll_std\"] *= 2.0\n",
    "    aggregated_data[\"id lml_std\"] *= 2.0\n",
    "    aggregated_data[\"id qce_std\"] *= 2.0\n",
    "    aggregated_data[\"id sqce_std\"] *= 2.0\n",
    "    return aggregated_data"
   ]
  },
  {
   "cell_type": "code",
   "execution_count": 6,
   "metadata": {},
   "outputs": [
    {
     "name": "stdout",
     "output_type": "stream",
     "text": [
      "Skipping failed run ivon_p1-1-(A)\n",
      "Skipping failed run ivon_p10-1-(A)\n",
      "Skipping failed run bbb-5-(E)\n",
      "Skipping failed run bbb-5-(D)\n",
      "Skipping failed run bbb-5-(C)\n",
      "Skipping failed run bbb-5-(B)\n",
      "Skipping old run swag-1-(E)\n",
      "Skipping old run swag-1-(D)\n",
      "Skipping old run swag-1-(C)\n",
      "Skipping old run swag-1-(B)\n",
      "Skipping old run swag-1-(A)\n",
      "Skipping old run map-1-(0)\n",
      "Skipping old run map-1-(0)\n",
      "Skipping old run map-1-(0)\n",
      "Skipping old run map-1-(0)\n",
      "Skipping old run map-1-(0)\n"
     ]
    }
   ],
   "source": [
    "data = aggregate_data(build_data(runs))"
   ]
  },
  {
   "cell_type": "code",
   "execution_count": 7,
   "metadata": {},
   "outputs": [
    {
     "data": {
      "text/html": [
       "<div>\n",
       "<style scoped>\n",
       "    .dataframe tbody tr th:only-of-type {\n",
       "        vertical-align: middle;\n",
       "    }\n",
       "\n",
       "    .dataframe tbody tr th {\n",
       "        vertical-align: top;\n",
       "    }\n",
       "\n",
       "    .dataframe thead th {\n",
       "        text-align: right;\n",
       "    }\n",
       "</style>\n",
       "<table border=\"1\" class=\"dataframe\">\n",
       "  <thead>\n",
       "    <tr style=\"text-align: right;\">\n",
       "      <th></th>\n",
       "      <th>model</th>\n",
       "      <th>ood mse</th>\n",
       "      <th>ood mse_std</th>\n",
       "      <th>ood pearson</th>\n",
       "      <th>ood pearson_std</th>\n",
       "      <th>ood ll</th>\n",
       "      <th>ood ll_std</th>\n",
       "      <th>ood lml</th>\n",
       "      <th>ood lml_std</th>\n",
       "      <th>ood qce</th>\n",
       "      <th>...</th>\n",
       "      <th>id pearson</th>\n",
       "      <th>id pearson_std</th>\n",
       "      <th>id ll</th>\n",
       "      <th>id ll_std</th>\n",
       "      <th>id lml</th>\n",
       "      <th>id lml_std</th>\n",
       "      <th>id qce</th>\n",
       "      <th>id qce_std</th>\n",
       "      <th>id sqce</th>\n",
       "      <th>id sqce_std</th>\n",
       "    </tr>\n",
       "    <tr>\n",
       "      <th>model</th>\n",
       "      <th></th>\n",
       "      <th></th>\n",
       "      <th></th>\n",
       "      <th></th>\n",
       "      <th></th>\n",
       "      <th></th>\n",
       "      <th></th>\n",
       "      <th></th>\n",
       "      <th></th>\n",
       "      <th></th>\n",
       "      <th></th>\n",
       "      <th></th>\n",
       "      <th></th>\n",
       "      <th></th>\n",
       "      <th></th>\n",
       "      <th></th>\n",
       "      <th></th>\n",
       "      <th></th>\n",
       "      <th></th>\n",
       "      <th></th>\n",
       "      <th></th>\n",
       "    </tr>\n",
       "  </thead>\n",
       "  <tbody>\n",
       "    <tr>\n",
       "      <th>bbb-1</th>\n",
       "      <td>bbb-1</td>\n",
       "      <td>0.264414</td>\n",
       "      <td>0.054177</td>\n",
       "      <td>0.499581</td>\n",
       "      <td>0.071628</td>\n",
       "      <td>-7.881385</td>\n",
       "      <td>2.289589</td>\n",
       "      <td>-12.074589</td>\n",
       "      <td>2.469800</td>\n",
       "      <td>0.333063</td>\n",
       "      <td>...</td>\n",
       "      <td>0.679819</td>\n",
       "      <td>0.019468</td>\n",
       "      <td>-4.507808</td>\n",
       "      <td>0.269432</td>\n",
       "      <td>-7.224426</td>\n",
       "      <td>0.754106</td>\n",
       "      <td>0.28620</td>\n",
       "      <td>0.014265</td>\n",
       "      <td>-0.28620</td>\n",
       "      <td>0.014265</td>\n",
       "    </tr>\n",
       "    <tr>\n",
       "      <th>bbb-5</th>\n",
       "      <td>bbb-5</td>\n",
       "      <td>0.251532</td>\n",
       "      <td>0.047954</td>\n",
       "      <td>0.517792</td>\n",
       "      <td>0.074439</td>\n",
       "      <td>-6.256722</td>\n",
       "      <td>1.461637</td>\n",
       "      <td>-11.498457</td>\n",
       "      <td>2.299434</td>\n",
       "      <td>0.309490</td>\n",
       "      <td>...</td>\n",
       "      <td>0.694331</td>\n",
       "      <td>0.013835</td>\n",
       "      <td>-3.619075</td>\n",
       "      <td>0.343549</td>\n",
       "      <td>-7.159320</td>\n",
       "      <td>0.585912</td>\n",
       "      <td>0.25596</td>\n",
       "      <td>0.012439</td>\n",
       "      <td>-0.25596</td>\n",
       "      <td>0.012439</td>\n",
       "    </tr>\n",
       "    <tr>\n",
       "      <th>ivon_p100-1</th>\n",
       "      <td>ivon_p100-1</td>\n",
       "      <td>0.358961</td>\n",
       "      <td>NaN</td>\n",
       "      <td>0.212930</td>\n",
       "      <td>NaN</td>\n",
       "      <td>-4.328319</td>\n",
       "      <td>NaN</td>\n",
       "      <td>-21.933134</td>\n",
       "      <td>NaN</td>\n",
       "      <td>0.212894</td>\n",
       "      <td>...</td>\n",
       "      <td>0.539511</td>\n",
       "      <td>NaN</td>\n",
       "      <td>-3.693469</td>\n",
       "      <td>NaN</td>\n",
       "      <td>-17.517288</td>\n",
       "      <td>NaN</td>\n",
       "      <td>0.16580</td>\n",
       "      <td>NaN</td>\n",
       "      <td>-0.16580</td>\n",
       "      <td>NaN</td>\n",
       "    </tr>\n",
       "    <tr>\n",
       "      <th>ivon_p500-1</th>\n",
       "      <td>ivon_p500-1</td>\n",
       "      <td>0.346865</td>\n",
       "      <td>NaN</td>\n",
       "      <td>0.249217</td>\n",
       "      <td>NaN</td>\n",
       "      <td>-4.657480</td>\n",
       "      <td>NaN</td>\n",
       "      <td>-19.787493</td>\n",
       "      <td>NaN</td>\n",
       "      <td>0.235705</td>\n",
       "      <td>...</td>\n",
       "      <td>0.570705</td>\n",
       "      <td>NaN</td>\n",
       "      <td>-3.887586</td>\n",
       "      <td>NaN</td>\n",
       "      <td>-15.832489</td>\n",
       "      <td>NaN</td>\n",
       "      <td>0.20100</td>\n",
       "      <td>NaN</td>\n",
       "      <td>-0.20100</td>\n",
       "      <td>NaN</td>\n",
       "    </tr>\n",
       "    <tr>\n",
       "      <th>laplace-1</th>\n",
       "      <td>laplace-1</td>\n",
       "      <td>0.279661</td>\n",
       "      <td>0.043824</td>\n",
       "      <td>0.473024</td>\n",
       "      <td>0.072380</td>\n",
       "      <td>-12.599394</td>\n",
       "      <td>2.191216</td>\n",
       "      <td>-12.599394</td>\n",
       "      <td>2.191216</td>\n",
       "      <td>0.386503</td>\n",
       "      <td>...</td>\n",
       "      <td>0.663531</td>\n",
       "      <td>0.018175</td>\n",
       "      <td>-7.823242</td>\n",
       "      <td>0.736995</td>\n",
       "      <td>-7.823242</td>\n",
       "      <td>0.736995</td>\n",
       "      <td>0.35688</td>\n",
       "      <td>0.006419</td>\n",
       "      <td>-0.35688</td>\n",
       "      <td>0.006419</td>\n",
       "    </tr>\n",
       "    <tr>\n",
       "      <th>laplace-5</th>\n",
       "      <td>laplace-5</td>\n",
       "      <td>0.250690</td>\n",
       "      <td>0.044219</td>\n",
       "      <td>0.515964</td>\n",
       "      <td>0.079857</td>\n",
       "      <td>-5.614497</td>\n",
       "      <td>1.271065</td>\n",
       "      <td>-12.323619</td>\n",
       "      <td>2.141291</td>\n",
       "      <td>0.264577</td>\n",
       "      <td>...</td>\n",
       "      <td>0.701742</td>\n",
       "      <td>0.022955</td>\n",
       "      <td>-3.233737</td>\n",
       "      <td>0.539446</td>\n",
       "      <td>-7.474223</td>\n",
       "      <td>0.828127</td>\n",
       "      <td>0.20598</td>\n",
       "      <td>0.004448</td>\n",
       "      <td>-0.20598</td>\n",
       "      <td>0.004448</td>\n",
       "    </tr>\n",
       "    <tr>\n",
       "      <th>map-1</th>\n",
       "      <td>map-1</td>\n",
       "      <td>0.266579</td>\n",
       "      <td>0.040839</td>\n",
       "      <td>0.486679</td>\n",
       "      <td>0.074388</td>\n",
       "      <td>-11.945303</td>\n",
       "      <td>2.041965</td>\n",
       "      <td>-11.945304</td>\n",
       "      <td>2.041965</td>\n",
       "      <td>0.382362</td>\n",
       "      <td>...</td>\n",
       "      <td>0.672504</td>\n",
       "      <td>0.019290</td>\n",
       "      <td>-7.445338</td>\n",
       "      <td>0.761398</td>\n",
       "      <td>-7.445338</td>\n",
       "      <td>0.761398</td>\n",
       "      <td>0.34772</td>\n",
       "      <td>0.008277</td>\n",
       "      <td>-0.34772</td>\n",
       "      <td>0.008277</td>\n",
       "    </tr>\n",
       "    <tr>\n",
       "      <th>map-5</th>\n",
       "      <td>map-5</td>\n",
       "      <td>0.249124</td>\n",
       "      <td>0.043270</td>\n",
       "      <td>0.520412</td>\n",
       "      <td>0.075467</td>\n",
       "      <td>-6.126161</td>\n",
       "      <td>1.421901</td>\n",
       "      <td>-12.113140</td>\n",
       "      <td>2.074442</td>\n",
       "      <td>0.283459</td>\n",
       "      <td>...</td>\n",
       "      <td>0.703414</td>\n",
       "      <td>0.021684</td>\n",
       "      <td>-3.438219</td>\n",
       "      <td>0.568580</td>\n",
       "      <td>-7.092774</td>\n",
       "      <td>0.744104</td>\n",
       "      <td>0.22808</td>\n",
       "      <td>0.010000</td>\n",
       "      <td>-0.22808</td>\n",
       "      <td>0.010000</td>\n",
       "    </tr>\n",
       "    <tr>\n",
       "      <th>mcd-1</th>\n",
       "      <td>mcd-1</td>\n",
       "      <td>0.258931</td>\n",
       "      <td>0.049335</td>\n",
       "      <td>0.491167</td>\n",
       "      <td>0.078773</td>\n",
       "      <td>-6.867588</td>\n",
       "      <td>1.719686</td>\n",
       "      <td>-12.175314</td>\n",
       "      <td>2.398080</td>\n",
       "      <td>0.315976</td>\n",
       "      <td>...</td>\n",
       "      <td>0.694990</td>\n",
       "      <td>0.010089</td>\n",
       "      <td>-3.603860</td>\n",
       "      <td>0.482835</td>\n",
       "      <td>-7.236589</td>\n",
       "      <td>0.673005</td>\n",
       "      <td>0.26696</td>\n",
       "      <td>0.013712</td>\n",
       "      <td>-0.26696</td>\n",
       "      <td>0.013712</td>\n",
       "    </tr>\n",
       "    <tr>\n",
       "      <th>mcd-5</th>\n",
       "      <td>mcd-5</td>\n",
       "      <td>0.252501</td>\n",
       "      <td>0.052059</td>\n",
       "      <td>0.515799</td>\n",
       "      <td>0.078222</td>\n",
       "      <td>-5.053148</td>\n",
       "      <td>1.517709</td>\n",
       "      <td>-12.289998</td>\n",
       "      <td>2.409389</td>\n",
       "      <td>0.271066</td>\n",
       "      <td>...</td>\n",
       "      <td>0.710906</td>\n",
       "      <td>0.023509</td>\n",
       "      <td>-2.679998</td>\n",
       "      <td>0.358236</td>\n",
       "      <td>-7.382924</td>\n",
       "      <td>0.615272</td>\n",
       "      <td>0.22034</td>\n",
       "      <td>0.014400</td>\n",
       "      <td>-0.22034</td>\n",
       "      <td>0.014400</td>\n",
       "    </tr>\n",
       "    <tr>\n",
       "      <th>rank1-1</th>\n",
       "      <td>rank1-1</td>\n",
       "      <td>0.245579</td>\n",
       "      <td>0.042987</td>\n",
       "      <td>0.508681</td>\n",
       "      <td>0.069047</td>\n",
       "      <td>-3.567510</td>\n",
       "      <td>1.053231</td>\n",
       "      <td>-13.276042</td>\n",
       "      <td>1.977907</td>\n",
       "      <td>0.211843</td>\n",
       "      <td>...</td>\n",
       "      <td>0.668927</td>\n",
       "      <td>0.010865</td>\n",
       "      <td>-2.076793</td>\n",
       "      <td>0.322645</td>\n",
       "      <td>-9.629894</td>\n",
       "      <td>1.165631</td>\n",
       "      <td>0.16244</td>\n",
       "      <td>0.015630</td>\n",
       "      <td>-0.16244</td>\n",
       "      <td>0.015630</td>\n",
       "    </tr>\n",
       "    <tr>\n",
       "      <th>svgd-1</th>\n",
       "      <td>svgd-1</td>\n",
       "      <td>0.254134</td>\n",
       "      <td>0.040710</td>\n",
       "      <td>0.497046</td>\n",
       "      <td>0.069640</td>\n",
       "      <td>-5.415666</td>\n",
       "      <td>1.269668</td>\n",
       "      <td>-12.523552</td>\n",
       "      <td>2.223858</td>\n",
       "      <td>0.255024</td>\n",
       "      <td>...</td>\n",
       "      <td>0.694263</td>\n",
       "      <td>0.026227</td>\n",
       "      <td>-3.057138</td>\n",
       "      <td>0.610677</td>\n",
       "      <td>-7.564011</td>\n",
       "      <td>1.016767</td>\n",
       "      <td>0.19994</td>\n",
       "      <td>0.008092</td>\n",
       "      <td>-0.19994</td>\n",
       "      <td>0.008092</td>\n",
       "    </tr>\n",
       "    <tr>\n",
       "      <th>swag-1</th>\n",
       "      <td>swag-1</td>\n",
       "      <td>0.280356</td>\n",
       "      <td>0.040064</td>\n",
       "      <td>0.473347</td>\n",
       "      <td>0.077599</td>\n",
       "      <td>-12.551127</td>\n",
       "      <td>1.994286</td>\n",
       "      <td>-12.621440</td>\n",
       "      <td>1.999557</td>\n",
       "      <td>0.385927</td>\n",
       "      <td>...</td>\n",
       "      <td>0.664382</td>\n",
       "      <td>0.021303</td>\n",
       "      <td>-7.719293</td>\n",
       "      <td>0.715784</td>\n",
       "      <td>-7.752035</td>\n",
       "      <td>0.722802</td>\n",
       "      <td>0.35512</td>\n",
       "      <td>0.003112</td>\n",
       "      <td>-0.35512</td>\n",
       "      <td>0.003112</td>\n",
       "    </tr>\n",
       "    <tr>\n",
       "      <th>swag-5</th>\n",
       "      <td>swag-5</td>\n",
       "      <td>0.250359</td>\n",
       "      <td>0.041830</td>\n",
       "      <td>0.512139</td>\n",
       "      <td>0.077551</td>\n",
       "      <td>-6.010440</td>\n",
       "      <td>1.373197</td>\n",
       "      <td>-12.166862</td>\n",
       "      <td>1.988650</td>\n",
       "      <td>0.280340</td>\n",
       "      <td>...</td>\n",
       "      <td>0.704685</td>\n",
       "      <td>0.022830</td>\n",
       "      <td>-3.331404</td>\n",
       "      <td>0.438950</td>\n",
       "      <td>-7.220819</td>\n",
       "      <td>0.625426</td>\n",
       "      <td>0.22274</td>\n",
       "      <td>0.008192</td>\n",
       "      <td>-0.22274</td>\n",
       "      <td>0.008192</td>\n",
       "    </tr>\n",
       "  </tbody>\n",
       "</table>\n",
       "<p>14 rows × 25 columns</p>\n",
       "</div>"
      ],
      "text/plain": [
       "                   model   ood mse  ood mse_std  ood pearson  ood pearson_std  \\\n",
       "model                                                                           \n",
       "bbb-1              bbb-1  0.264414     0.054177     0.499581         0.071628   \n",
       "bbb-5              bbb-5  0.251532     0.047954     0.517792         0.074439   \n",
       "ivon_p100-1  ivon_p100-1  0.358961          NaN     0.212930              NaN   \n",
       "ivon_p500-1  ivon_p500-1  0.346865          NaN     0.249217              NaN   \n",
       "laplace-1      laplace-1  0.279661     0.043824     0.473024         0.072380   \n",
       "laplace-5      laplace-5  0.250690     0.044219     0.515964         0.079857   \n",
       "map-1              map-1  0.266579     0.040839     0.486679         0.074388   \n",
       "map-5              map-5  0.249124     0.043270     0.520412         0.075467   \n",
       "mcd-1              mcd-1  0.258931     0.049335     0.491167         0.078773   \n",
       "mcd-5              mcd-5  0.252501     0.052059     0.515799         0.078222   \n",
       "rank1-1          rank1-1  0.245579     0.042987     0.508681         0.069047   \n",
       "svgd-1            svgd-1  0.254134     0.040710     0.497046         0.069640   \n",
       "swag-1            swag-1  0.280356     0.040064     0.473347         0.077599   \n",
       "swag-5            swag-5  0.250359     0.041830     0.512139         0.077551   \n",
       "\n",
       "                ood ll  ood ll_std    ood lml  ood lml_std   ood qce  ...  \\\n",
       "model                                                                 ...   \n",
       "bbb-1        -7.881385    2.289589 -12.074589     2.469800  0.333063  ...   \n",
       "bbb-5        -6.256722    1.461637 -11.498457     2.299434  0.309490  ...   \n",
       "ivon_p100-1  -4.328319         NaN -21.933134          NaN  0.212894  ...   \n",
       "ivon_p500-1  -4.657480         NaN -19.787493          NaN  0.235705  ...   \n",
       "laplace-1   -12.599394    2.191216 -12.599394     2.191216  0.386503  ...   \n",
       "laplace-5    -5.614497    1.271065 -12.323619     2.141291  0.264577  ...   \n",
       "map-1       -11.945303    2.041965 -11.945304     2.041965  0.382362  ...   \n",
       "map-5        -6.126161    1.421901 -12.113140     2.074442  0.283459  ...   \n",
       "mcd-1        -6.867588    1.719686 -12.175314     2.398080  0.315976  ...   \n",
       "mcd-5        -5.053148    1.517709 -12.289998     2.409389  0.271066  ...   \n",
       "rank1-1      -3.567510    1.053231 -13.276042     1.977907  0.211843  ...   \n",
       "svgd-1       -5.415666    1.269668 -12.523552     2.223858  0.255024  ...   \n",
       "swag-1      -12.551127    1.994286 -12.621440     1.999557  0.385927  ...   \n",
       "swag-5       -6.010440    1.373197 -12.166862     1.988650  0.280340  ...   \n",
       "\n",
       "             id pearson  id pearson_std     id ll  id ll_std     id lml  \\\n",
       "model                                                                     \n",
       "bbb-1          0.679819        0.019468 -4.507808   0.269432  -7.224426   \n",
       "bbb-5          0.694331        0.013835 -3.619075   0.343549  -7.159320   \n",
       "ivon_p100-1    0.539511             NaN -3.693469        NaN -17.517288   \n",
       "ivon_p500-1    0.570705             NaN -3.887586        NaN -15.832489   \n",
       "laplace-1      0.663531        0.018175 -7.823242   0.736995  -7.823242   \n",
       "laplace-5      0.701742        0.022955 -3.233737   0.539446  -7.474223   \n",
       "map-1          0.672504        0.019290 -7.445338   0.761398  -7.445338   \n",
       "map-5          0.703414        0.021684 -3.438219   0.568580  -7.092774   \n",
       "mcd-1          0.694990        0.010089 -3.603860   0.482835  -7.236589   \n",
       "mcd-5          0.710906        0.023509 -2.679998   0.358236  -7.382924   \n",
       "rank1-1        0.668927        0.010865 -2.076793   0.322645  -9.629894   \n",
       "svgd-1         0.694263        0.026227 -3.057138   0.610677  -7.564011   \n",
       "swag-1         0.664382        0.021303 -7.719293   0.715784  -7.752035   \n",
       "swag-5         0.704685        0.022830 -3.331404   0.438950  -7.220819   \n",
       "\n",
       "             id lml_std   id qce  id qce_std  id sqce  id sqce_std  \n",
       "model                                                               \n",
       "bbb-1          0.754106  0.28620    0.014265 -0.28620     0.014265  \n",
       "bbb-5          0.585912  0.25596    0.012439 -0.25596     0.012439  \n",
       "ivon_p100-1         NaN  0.16580         NaN -0.16580          NaN  \n",
       "ivon_p500-1         NaN  0.20100         NaN -0.20100          NaN  \n",
       "laplace-1      0.736995  0.35688    0.006419 -0.35688     0.006419  \n",
       "laplace-5      0.828127  0.20598    0.004448 -0.20598     0.004448  \n",
       "map-1          0.761398  0.34772    0.008277 -0.34772     0.008277  \n",
       "map-5          0.744104  0.22808    0.010000 -0.22808     0.010000  \n",
       "mcd-1          0.673005  0.26696    0.013712 -0.26696     0.013712  \n",
       "mcd-5          0.615272  0.22034    0.014400 -0.22034     0.014400  \n",
       "rank1-1        1.165631  0.16244    0.015630 -0.16244     0.015630  \n",
       "svgd-1         1.016767  0.19994    0.008092 -0.19994     0.008092  \n",
       "swag-1         0.722802  0.35512    0.003112 -0.35512     0.003112  \n",
       "swag-5         0.625426  0.22274    0.008192 -0.22274     0.008192  \n",
       "\n",
       "[14 rows x 25 columns]"
      ]
     },
     "execution_count": 7,
     "metadata": {},
     "output_type": "execute_result"
    }
   ],
   "source": [
    "data"
   ]
  },
  {
   "cell_type": "code",
   "execution_count": 8,
   "metadata": {},
   "outputs": [
    {
     "data": {
      "application/vnd.plotly.v1+json": {
       "config": {
        "plotlyServerURL": "https://plot.ly"
       },
       "data": [
        {
         "error_x": {
          "array": [
           0.07162765526619304
          ]
         },
         "error_y": {
          "array": [
           0.03584951410287148
          ]
         },
         "hovertemplate": "model=bbb-1<br>ood pearson=%{x}<br>ood sqce=%{y}<extra></extra>",
         "legendgroup": "bbb-1",
         "marker": {
          "color": "#636efa",
          "symbol": "circle"
         },
         "mode": "markers",
         "name": "bbb-1",
         "orientation": "v",
         "showlegend": true,
         "type": "scatter",
         "x": [
          0.4995814644109208
         ],
         "xaxis": "x",
         "y": [
          -0.33306310772895814
         ],
         "yaxis": "y"
        },
        {
         "error_x": {
          "array": [
           0.0744388574691839
          ]
         },
         "error_y": {
          "array": [
           0.027268437630692182
          ]
         },
         "hovertemplate": "model=bbb-5<br>ood pearson=%{x}<br>ood sqce=%{y}<extra></extra>",
         "legendgroup": "bbb-5",
         "marker": {
          "color": "#EF553B",
          "symbol": "circle"
         },
         "mode": "markers",
         "name": "bbb-5",
         "orientation": "v",
         "showlegend": true,
         "type": "scatter",
         "x": [
          0.5177920572981668
         ],
         "xaxis": "x",
         "y": [
          -0.3094897150993347
         ],
         "yaxis": "y"
        },
        {
         "error_x": {
          "array": [
           null
          ]
         },
         "error_y": {
          "array": [
           null
          ]
         },
         "hovertemplate": "model=ivon_p100-1<br>ood pearson=%{x}<br>ood sqce=%{y}<extra></extra>",
         "legendgroup": "ivon_p100-1",
         "marker": {
          "color": "#00cc96",
          "symbol": "circle"
         },
         "mode": "markers",
         "name": "ivon_p100-1",
         "orientation": "v",
         "showlegend": true,
         "type": "scatter",
         "x": [
          0.21292998247558484
         ],
         "xaxis": "x",
         "y": [
          -0.2128942757844925
         ],
         "yaxis": "y"
        },
        {
         "error_x": {
          "array": [
           null
          ]
         },
         "error_y": {
          "array": [
           null
          ]
         },
         "hovertemplate": "model=ivon_p500-1<br>ood pearson=%{x}<br>ood sqce=%{y}<extra></extra>",
         "legendgroup": "ivon_p500-1",
         "marker": {
          "color": "#ab63fa",
          "symbol": "circle"
         },
         "mode": "markers",
         "name": "ivon_p500-1",
         "orientation": "v",
         "showlegend": true,
         "type": "scatter",
         "x": [
          0.24921662241434897
         ],
         "xaxis": "x",
         "y": [
          -0.23570528626441956
         ],
         "yaxis": "y"
        },
        {
         "error_x": {
          "array": [
           0.07237971738878436
          ]
         },
         "error_y": {
          "array": [
           0.012110040723636868
          ]
         },
         "hovertemplate": "model=laplace-1<br>ood pearson=%{x}<br>ood sqce=%{y}<extra></extra>",
         "legendgroup": "laplace-1",
         "marker": {
          "color": "#FFA15A",
          "symbol": "circle"
         },
         "mode": "markers",
         "name": "laplace-1",
         "orientation": "v",
         "showlegend": true,
         "type": "scatter",
         "x": [
          0.47302386406374614
         ],
         "xaxis": "x",
         "y": [
          -0.3865029036998749
         ],
         "yaxis": "y"
        },
        {
         "error_x": {
          "array": [
           0.07985714592288651
          ]
         },
         "error_y": {
          "array": [
           0.026258829284462305
          ]
         },
         "hovertemplate": "model=laplace-5<br>ood pearson=%{x}<br>ood sqce=%{y}<extra></extra>",
         "legendgroup": "laplace-5",
         "marker": {
          "color": "#19d3f3",
          "symbol": "circle"
         },
         "mode": "markers",
         "name": "laplace-5",
         "orientation": "v",
         "showlegend": true,
         "type": "scatter",
         "x": [
          0.515964299408394
         ],
         "xaxis": "x",
         "y": [
          -0.2645773947238922
         ],
         "yaxis": "y"
        },
        {
         "error_x": {
          "array": [
           0.0743875892013544
          ]
         },
         "error_y": {
          "array": [
           0.01186556984482644
          ]
         },
         "hovertemplate": "model=map-1<br>ood pearson=%{x}<br>ood sqce=%{y}<extra></extra>",
         "legendgroup": "map-1",
         "marker": {
          "color": "#FF6692",
          "symbol": "circle"
         },
         "mode": "markers",
         "name": "map-1",
         "orientation": "v",
         "showlegend": true,
         "type": "scatter",
         "x": [
          0.4866786697547164
         ],
         "xaxis": "x",
         "y": [
          -0.38236190676689147
         ],
         "yaxis": "y"
        },
        {
         "error_x": {
          "array": [
           0.07546748694913882
          ]
         },
         "error_y": {
          "array": [
           0.026881697419222216
          ]
         },
         "hovertemplate": "model=map-5<br>ood pearson=%{x}<br>ood sqce=%{y}<extra></extra>",
         "legendgroup": "map-5",
         "marker": {
          "color": "#B6E880",
          "symbol": "circle"
         },
         "mode": "markers",
         "name": "map-5",
         "orientation": "v",
         "showlegend": true,
         "type": "scatter",
         "x": [
          0.5204117332979324
         ],
         "xaxis": "x",
         "y": [
          -0.2834592223167419
         ],
         "yaxis": "y"
        },
        {
         "error_x": {
          "array": [
           0.07877279474862892
          ]
         },
         "error_y": {
          "array": [
           0.022978514642922696
          ]
         },
         "hovertemplate": "model=mcd-1<br>ood pearson=%{x}<br>ood sqce=%{y}<extra></extra>",
         "legendgroup": "mcd-1",
         "marker": {
          "color": "#FF97FF",
          "symbol": "circle"
         },
         "mode": "markers",
         "name": "mcd-1",
         "orientation": "v",
         "showlegend": true,
         "type": "scatter",
         "x": [
          0.49116711369402044
         ],
         "xaxis": "x",
         "y": [
          -0.31597564816474916
         ],
         "yaxis": "y"
        },
        {
         "error_x": {
          "array": [
           0.07822162144590317
          ]
         },
         "error_y": {
          "array": [
           0.03451091757745103
          ]
         },
         "hovertemplate": "model=mcd-5<br>ood pearson=%{x}<br>ood sqce=%{y}<extra></extra>",
         "legendgroup": "mcd-5",
         "marker": {
          "color": "#FECB52",
          "symbol": "circle"
         },
         "mode": "markers",
         "name": "mcd-5",
         "orientation": "v",
         "showlegend": true,
         "type": "scatter",
         "x": [
          0.5157990395020422
         ],
         "xaxis": "x",
         "y": [
          -0.27106647193431854
         ],
         "yaxis": "y"
        },
        {
         "error_x": {
          "array": [
           0.06904682425417413
          ]
         },
         "error_y": {
          "array": [
           0.0284658972989994
          ]
         },
         "hovertemplate": "model=rank1-1<br>ood pearson=%{x}<br>ood sqce=%{y}<extra></extra>",
         "legendgroup": "rank1-1",
         "marker": {
          "color": "#636efa",
          "symbol": "circle"
         },
         "mode": "markers",
         "name": "rank1-1",
         "orientation": "v",
         "showlegend": true,
         "type": "scatter",
         "x": [
          0.5086806813557432
         ],
         "xaxis": "x",
         "y": [
          -0.21184251308441163
         ],
         "yaxis": "y"
        },
        {
         "error_x": {
          "array": [
           0.06963957174182071
          ]
         },
         "error_y": {
          "array": [
           0.02567687806187152
          ]
         },
         "hovertemplate": "model=svgd-1<br>ood pearson=%{x}<br>ood sqce=%{y}<extra></extra>",
         "legendgroup": "svgd-1",
         "marker": {
          "color": "#EF553B",
          "symbol": "circle"
         },
         "mode": "markers",
         "name": "svgd-1",
         "orientation": "v",
         "showlegend": true,
         "type": "scatter",
         "x": [
          0.4970463380901296
         ],
         "xaxis": "x",
         "y": [
          -0.25502362847328186
         ],
         "yaxis": "y"
        },
        {
         "error_x": {
          "array": [
           0.07759867463098437
          ]
         },
         "error_y": {
          "array": [
           0.011788673118842699
          ]
         },
         "hovertemplate": "model=swag-1<br>ood pearson=%{x}<br>ood sqce=%{y}<extra></extra>",
         "legendgroup": "swag-1",
         "marker": {
          "color": "#00cc96",
          "symbol": "circle"
         },
         "mode": "markers",
         "name": "swag-1",
         "orientation": "v",
         "showlegend": true,
         "type": "scatter",
         "x": [
          0.4733472705123315
         ],
         "xaxis": "x",
         "y": [
          -0.38592746257781985
         ],
         "yaxis": "y"
        },
        {
         "error_x": {
          "array": [
           0.07755064973151421
          ]
         },
         "error_y": {
          "array": [
           0.026129506461774747
          ]
         },
         "hovertemplate": "model=swag-5<br>ood pearson=%{x}<br>ood sqce=%{y}<extra></extra>",
         "legendgroup": "swag-5",
         "marker": {
          "color": "#ab63fa",
          "symbol": "circle"
         },
         "mode": "markers",
         "name": "swag-5",
         "orientation": "v",
         "showlegend": true,
         "type": "scatter",
         "x": [
          0.51213914281209
         ],
         "xaxis": "x",
         "y": [
          -0.28034031987190244
         ],
         "yaxis": "y"
        }
       ],
       "layout": {
        "legend": {
         "title": {
          "text": "model"
         },
         "tracegroupgap": 0
        },
        "margin": {
         "t": 60
        },
        "template": {
         "data": {
          "bar": [
           {
            "error_x": {
             "color": "#2a3f5f"
            },
            "error_y": {
             "color": "#2a3f5f"
            },
            "marker": {
             "line": {
              "color": "#E5ECF6",
              "width": 0.5
             },
             "pattern": {
              "fillmode": "overlay",
              "size": 10,
              "solidity": 0.2
             }
            },
            "type": "bar"
           }
          ],
          "barpolar": [
           {
            "marker": {
             "line": {
              "color": "#E5ECF6",
              "width": 0.5
             },
             "pattern": {
              "fillmode": "overlay",
              "size": 10,
              "solidity": 0.2
             }
            },
            "type": "barpolar"
           }
          ],
          "carpet": [
           {
            "aaxis": {
             "endlinecolor": "#2a3f5f",
             "gridcolor": "white",
             "linecolor": "white",
             "minorgridcolor": "white",
             "startlinecolor": "#2a3f5f"
            },
            "baxis": {
             "endlinecolor": "#2a3f5f",
             "gridcolor": "white",
             "linecolor": "white",
             "minorgridcolor": "white",
             "startlinecolor": "#2a3f5f"
            },
            "type": "carpet"
           }
          ],
          "choropleth": [
           {
            "colorbar": {
             "outlinewidth": 0,
             "ticks": ""
            },
            "type": "choropleth"
           }
          ],
          "contour": [
           {
            "colorbar": {
             "outlinewidth": 0,
             "ticks": ""
            },
            "colorscale": [
             [
              0,
              "#0d0887"
             ],
             [
              0.1111111111111111,
              "#46039f"
             ],
             [
              0.2222222222222222,
              "#7201a8"
             ],
             [
              0.3333333333333333,
              "#9c179e"
             ],
             [
              0.4444444444444444,
              "#bd3786"
             ],
             [
              0.5555555555555556,
              "#d8576b"
             ],
             [
              0.6666666666666666,
              "#ed7953"
             ],
             [
              0.7777777777777778,
              "#fb9f3a"
             ],
             [
              0.8888888888888888,
              "#fdca26"
             ],
             [
              1,
              "#f0f921"
             ]
            ],
            "type": "contour"
           }
          ],
          "contourcarpet": [
           {
            "colorbar": {
             "outlinewidth": 0,
             "ticks": ""
            },
            "type": "contourcarpet"
           }
          ],
          "heatmap": [
           {
            "colorbar": {
             "outlinewidth": 0,
             "ticks": ""
            },
            "colorscale": [
             [
              0,
              "#0d0887"
             ],
             [
              0.1111111111111111,
              "#46039f"
             ],
             [
              0.2222222222222222,
              "#7201a8"
             ],
             [
              0.3333333333333333,
              "#9c179e"
             ],
             [
              0.4444444444444444,
              "#bd3786"
             ],
             [
              0.5555555555555556,
              "#d8576b"
             ],
             [
              0.6666666666666666,
              "#ed7953"
             ],
             [
              0.7777777777777778,
              "#fb9f3a"
             ],
             [
              0.8888888888888888,
              "#fdca26"
             ],
             [
              1,
              "#f0f921"
             ]
            ],
            "type": "heatmap"
           }
          ],
          "heatmapgl": [
           {
            "colorbar": {
             "outlinewidth": 0,
             "ticks": ""
            },
            "colorscale": [
             [
              0,
              "#0d0887"
             ],
             [
              0.1111111111111111,
              "#46039f"
             ],
             [
              0.2222222222222222,
              "#7201a8"
             ],
             [
              0.3333333333333333,
              "#9c179e"
             ],
             [
              0.4444444444444444,
              "#bd3786"
             ],
             [
              0.5555555555555556,
              "#d8576b"
             ],
             [
              0.6666666666666666,
              "#ed7953"
             ],
             [
              0.7777777777777778,
              "#fb9f3a"
             ],
             [
              0.8888888888888888,
              "#fdca26"
             ],
             [
              1,
              "#f0f921"
             ]
            ],
            "type": "heatmapgl"
           }
          ],
          "histogram": [
           {
            "marker": {
             "pattern": {
              "fillmode": "overlay",
              "size": 10,
              "solidity": 0.2
             }
            },
            "type": "histogram"
           }
          ],
          "histogram2d": [
           {
            "colorbar": {
             "outlinewidth": 0,
             "ticks": ""
            },
            "colorscale": [
             [
              0,
              "#0d0887"
             ],
             [
              0.1111111111111111,
              "#46039f"
             ],
             [
              0.2222222222222222,
              "#7201a8"
             ],
             [
              0.3333333333333333,
              "#9c179e"
             ],
             [
              0.4444444444444444,
              "#bd3786"
             ],
             [
              0.5555555555555556,
              "#d8576b"
             ],
             [
              0.6666666666666666,
              "#ed7953"
             ],
             [
              0.7777777777777778,
              "#fb9f3a"
             ],
             [
              0.8888888888888888,
              "#fdca26"
             ],
             [
              1,
              "#f0f921"
             ]
            ],
            "type": "histogram2d"
           }
          ],
          "histogram2dcontour": [
           {
            "colorbar": {
             "outlinewidth": 0,
             "ticks": ""
            },
            "colorscale": [
             [
              0,
              "#0d0887"
             ],
             [
              0.1111111111111111,
              "#46039f"
             ],
             [
              0.2222222222222222,
              "#7201a8"
             ],
             [
              0.3333333333333333,
              "#9c179e"
             ],
             [
              0.4444444444444444,
              "#bd3786"
             ],
             [
              0.5555555555555556,
              "#d8576b"
             ],
             [
              0.6666666666666666,
              "#ed7953"
             ],
             [
              0.7777777777777778,
              "#fb9f3a"
             ],
             [
              0.8888888888888888,
              "#fdca26"
             ],
             [
              1,
              "#f0f921"
             ]
            ],
            "type": "histogram2dcontour"
           }
          ],
          "mesh3d": [
           {
            "colorbar": {
             "outlinewidth": 0,
             "ticks": ""
            },
            "type": "mesh3d"
           }
          ],
          "parcoords": [
           {
            "line": {
             "colorbar": {
              "outlinewidth": 0,
              "ticks": ""
             }
            },
            "type": "parcoords"
           }
          ],
          "pie": [
           {
            "automargin": true,
            "type": "pie"
           }
          ],
          "scatter": [
           {
            "fillpattern": {
             "fillmode": "overlay",
             "size": 10,
             "solidity": 0.2
            },
            "type": "scatter"
           }
          ],
          "scatter3d": [
           {
            "line": {
             "colorbar": {
              "outlinewidth": 0,
              "ticks": ""
             }
            },
            "marker": {
             "colorbar": {
              "outlinewidth": 0,
              "ticks": ""
             }
            },
            "type": "scatter3d"
           }
          ],
          "scattercarpet": [
           {
            "marker": {
             "colorbar": {
              "outlinewidth": 0,
              "ticks": ""
             }
            },
            "type": "scattercarpet"
           }
          ],
          "scattergeo": [
           {
            "marker": {
             "colorbar": {
              "outlinewidth": 0,
              "ticks": ""
             }
            },
            "type": "scattergeo"
           }
          ],
          "scattergl": [
           {
            "marker": {
             "colorbar": {
              "outlinewidth": 0,
              "ticks": ""
             }
            },
            "type": "scattergl"
           }
          ],
          "scattermapbox": [
           {
            "marker": {
             "colorbar": {
              "outlinewidth": 0,
              "ticks": ""
             }
            },
            "type": "scattermapbox"
           }
          ],
          "scatterpolar": [
           {
            "marker": {
             "colorbar": {
              "outlinewidth": 0,
              "ticks": ""
             }
            },
            "type": "scatterpolar"
           }
          ],
          "scatterpolargl": [
           {
            "marker": {
             "colorbar": {
              "outlinewidth": 0,
              "ticks": ""
             }
            },
            "type": "scatterpolargl"
           }
          ],
          "scatterternary": [
           {
            "marker": {
             "colorbar": {
              "outlinewidth": 0,
              "ticks": ""
             }
            },
            "type": "scatterternary"
           }
          ],
          "surface": [
           {
            "colorbar": {
             "outlinewidth": 0,
             "ticks": ""
            },
            "colorscale": [
             [
              0,
              "#0d0887"
             ],
             [
              0.1111111111111111,
              "#46039f"
             ],
             [
              0.2222222222222222,
              "#7201a8"
             ],
             [
              0.3333333333333333,
              "#9c179e"
             ],
             [
              0.4444444444444444,
              "#bd3786"
             ],
             [
              0.5555555555555556,
              "#d8576b"
             ],
             [
              0.6666666666666666,
              "#ed7953"
             ],
             [
              0.7777777777777778,
              "#fb9f3a"
             ],
             [
              0.8888888888888888,
              "#fdca26"
             ],
             [
              1,
              "#f0f921"
             ]
            ],
            "type": "surface"
           }
          ],
          "table": [
           {
            "cells": {
             "fill": {
              "color": "#EBF0F8"
             },
             "line": {
              "color": "white"
             }
            },
            "header": {
             "fill": {
              "color": "#C8D4E3"
             },
             "line": {
              "color": "white"
             }
            },
            "type": "table"
           }
          ]
         },
         "layout": {
          "annotationdefaults": {
           "arrowcolor": "#2a3f5f",
           "arrowhead": 0,
           "arrowwidth": 1
          },
          "autotypenumbers": "strict",
          "coloraxis": {
           "colorbar": {
            "outlinewidth": 0,
            "ticks": ""
           }
          },
          "colorscale": {
           "diverging": [
            [
             0,
             "#8e0152"
            ],
            [
             0.1,
             "#c51b7d"
            ],
            [
             0.2,
             "#de77ae"
            ],
            [
             0.3,
             "#f1b6da"
            ],
            [
             0.4,
             "#fde0ef"
            ],
            [
             0.5,
             "#f7f7f7"
            ],
            [
             0.6,
             "#e6f5d0"
            ],
            [
             0.7,
             "#b8e186"
            ],
            [
             0.8,
             "#7fbc41"
            ],
            [
             0.9,
             "#4d9221"
            ],
            [
             1,
             "#276419"
            ]
           ],
           "sequential": [
            [
             0,
             "#0d0887"
            ],
            [
             0.1111111111111111,
             "#46039f"
            ],
            [
             0.2222222222222222,
             "#7201a8"
            ],
            [
             0.3333333333333333,
             "#9c179e"
            ],
            [
             0.4444444444444444,
             "#bd3786"
            ],
            [
             0.5555555555555556,
             "#d8576b"
            ],
            [
             0.6666666666666666,
             "#ed7953"
            ],
            [
             0.7777777777777778,
             "#fb9f3a"
            ],
            [
             0.8888888888888888,
             "#fdca26"
            ],
            [
             1,
             "#f0f921"
            ]
           ],
           "sequentialminus": [
            [
             0,
             "#0d0887"
            ],
            [
             0.1111111111111111,
             "#46039f"
            ],
            [
             0.2222222222222222,
             "#7201a8"
            ],
            [
             0.3333333333333333,
             "#9c179e"
            ],
            [
             0.4444444444444444,
             "#bd3786"
            ],
            [
             0.5555555555555556,
             "#d8576b"
            ],
            [
             0.6666666666666666,
             "#ed7953"
            ],
            [
             0.7777777777777778,
             "#fb9f3a"
            ],
            [
             0.8888888888888888,
             "#fdca26"
            ],
            [
             1,
             "#f0f921"
            ]
           ]
          },
          "colorway": [
           "#636efa",
           "#EF553B",
           "#00cc96",
           "#ab63fa",
           "#FFA15A",
           "#19d3f3",
           "#FF6692",
           "#B6E880",
           "#FF97FF",
           "#FECB52"
          ],
          "font": {
           "color": "#2a3f5f"
          },
          "geo": {
           "bgcolor": "white",
           "lakecolor": "white",
           "landcolor": "#E5ECF6",
           "showlakes": true,
           "showland": true,
           "subunitcolor": "white"
          },
          "hoverlabel": {
           "align": "left"
          },
          "hovermode": "closest",
          "mapbox": {
           "style": "light"
          },
          "paper_bgcolor": "white",
          "plot_bgcolor": "#E5ECF6",
          "polar": {
           "angularaxis": {
            "gridcolor": "white",
            "linecolor": "white",
            "ticks": ""
           },
           "bgcolor": "#E5ECF6",
           "radialaxis": {
            "gridcolor": "white",
            "linecolor": "white",
            "ticks": ""
           }
          },
          "scene": {
           "xaxis": {
            "backgroundcolor": "#E5ECF6",
            "gridcolor": "white",
            "gridwidth": 2,
            "linecolor": "white",
            "showbackground": true,
            "ticks": "",
            "zerolinecolor": "white"
           },
           "yaxis": {
            "backgroundcolor": "#E5ECF6",
            "gridcolor": "white",
            "gridwidth": 2,
            "linecolor": "white",
            "showbackground": true,
            "ticks": "",
            "zerolinecolor": "white"
           },
           "zaxis": {
            "backgroundcolor": "#E5ECF6",
            "gridcolor": "white",
            "gridwidth": 2,
            "linecolor": "white",
            "showbackground": true,
            "ticks": "",
            "zerolinecolor": "white"
           }
          },
          "shapedefaults": {
           "line": {
            "color": "#2a3f5f"
           }
          },
          "ternary": {
           "aaxis": {
            "gridcolor": "white",
            "linecolor": "white",
            "ticks": ""
           },
           "baxis": {
            "gridcolor": "white",
            "linecolor": "white",
            "ticks": ""
           },
           "bgcolor": "#E5ECF6",
           "caxis": {
            "gridcolor": "white",
            "linecolor": "white",
            "ticks": ""
           }
          },
          "title": {
           "x": 0.05
          },
          "xaxis": {
           "automargin": true,
           "gridcolor": "white",
           "linecolor": "white",
           "ticks": "",
           "title": {
            "standoff": 15
           },
           "zerolinecolor": "white",
           "zerolinewidth": 2
          },
          "yaxis": {
           "automargin": true,
           "gridcolor": "white",
           "linecolor": "white",
           "ticks": "",
           "title": {
            "standoff": 15
           },
           "zerolinecolor": "white",
           "zerolinewidth": 2
          }
         }
        },
        "xaxis": {
         "anchor": "y",
         "domain": [
          0,
          1
         ],
         "title": {
          "text": "ood pearson"
         }
        },
        "yaxis": {
         "anchor": "x",
         "domain": [
          0,
          1
         ],
         "title": {
          "text": "ood sqce"
         }
        }
       }
      }
     },
     "metadata": {},
     "output_type": "display_data"
    }
   ],
   "source": [
    "pareto_plot(data, \"ood pearson\", \"ood sqce\")"
   ]
  },
  {
   "cell_type": "code",
   "execution_count": 9,
   "metadata": {},
   "outputs": [
    {
     "data": {
      "application/vnd.plotly.v1+json": {
       "config": {
        "plotlyServerURL": "https://plot.ly"
       },
       "data": [
        {
         "error_x": {
          "array": [
           0.019467699594020126
          ]
         },
         "error_y": {
          "array": [
           0.014264783267151193
          ]
         },
         "hovertemplate": "model=bbb-1<br>id pearson=%{x}<br>id sqce=%{y}<extra></extra>",
         "legendgroup": "bbb-1",
         "marker": {
          "color": "#636efa",
          "symbol": "circle"
         },
         "mode": "markers",
         "name": "bbb-1",
         "orientation": "v",
         "showlegend": true,
         "type": "scatter",
         "x": [
          0.679818681723485
         ],
         "xaxis": "x",
         "y": [
          -0.28620001673698425
         ],
         "yaxis": "y"
        },
        {
         "error_x": {
          "array": [
           0.013834712192195576
          ]
         },
         "error_y": {
          "array": [
           0.012439071061091688
          ]
         },
         "hovertemplate": "model=bbb-5<br>id pearson=%{x}<br>id sqce=%{y}<extra></extra>",
         "legendgroup": "bbb-5",
         "marker": {
          "color": "#EF553B",
          "symbol": "circle"
         },
         "mode": "markers",
         "name": "bbb-5",
         "orientation": "v",
         "showlegend": true,
         "type": "scatter",
         "x": [
          0.6943312403894437
         ],
         "xaxis": "x",
         "y": [
          -0.255960014462471
         ],
         "yaxis": "y"
        },
        {
         "error_x": {
          "array": [
           null
          ]
         },
         "error_y": {
          "array": [
           null
          ]
         },
         "hovertemplate": "model=ivon_p100-1<br>id pearson=%{x}<br>id sqce=%{y}<extra></extra>",
         "legendgroup": "ivon_p100-1",
         "marker": {
          "color": "#00cc96",
          "symbol": "circle"
         },
         "mode": "markers",
         "name": "ivon_p100-1",
         "orientation": "v",
         "showlegend": true,
         "type": "scatter",
         "x": [
          0.5395114114563323
         ],
         "xaxis": "x",
         "y": [
          -0.16580002009868622
         ],
         "yaxis": "y"
        },
        {
         "error_x": {
          "array": [
           null
          ]
         },
         "error_y": {
          "array": [
           null
          ]
         },
         "hovertemplate": "model=ivon_p500-1<br>id pearson=%{x}<br>id sqce=%{y}<extra></extra>",
         "legendgroup": "ivon_p500-1",
         "marker": {
          "color": "#ab63fa",
          "symbol": "circle"
         },
         "mode": "markers",
         "name": "ivon_p500-1",
         "orientation": "v",
         "showlegend": true,
         "type": "scatter",
         "x": [
          0.5707051812390901
         ],
         "xaxis": "x",
         "y": [
          -0.20100000500679016
         ],
         "yaxis": "y"
        },
        {
         "error_x": {
          "array": [
           0.018175056325159075
          ]
         },
         "error_y": {
          "array": [
           0.006419156115716833
          ]
         },
         "hovertemplate": "model=laplace-1<br>id pearson=%{x}<br>id sqce=%{y}<extra></extra>",
         "legendgroup": "laplace-1",
         "marker": {
          "color": "#FFA15A",
          "symbol": "circle"
         },
         "mode": "markers",
         "name": "laplace-1",
         "orientation": "v",
         "showlegend": true,
         "type": "scatter",
         "x": [
          0.6635306133410326
         ],
         "xaxis": "x",
         "y": [
          -0.3568800091743469
         ],
         "yaxis": "y"
        },
        {
         "error_x": {
          "array": [
           0.022954658785156592
          ]
         },
         "error_y": {
          "array": [
           0.004447656238050734
          ]
         },
         "hovertemplate": "model=laplace-5<br>id pearson=%{x}<br>id sqce=%{y}<extra></extra>",
         "legendgroup": "laplace-5",
         "marker": {
          "color": "#19d3f3",
          "symbol": "circle"
         },
         "mode": "markers",
         "name": "laplace-5",
         "orientation": "v",
         "showlegend": true,
         "type": "scatter",
         "x": [
          0.7017416886202316
         ],
         "xaxis": "x",
         "y": [
          -0.20597999393939972
         ],
         "yaxis": "y"
        },
        {
         "error_x": {
          "array": [
           0.019289705596405464
          ]
         },
         "error_y": {
          "array": [
           0.008277035496338382
          ]
         },
         "hovertemplate": "model=map-1<br>id pearson=%{x}<br>id sqce=%{y}<extra></extra>",
         "legendgroup": "map-1",
         "marker": {
          "color": "#FF6692",
          "symbol": "circle"
         },
         "mode": "markers",
         "name": "map-1",
         "orientation": "v",
         "showlegend": true,
         "type": "scatter",
         "x": [
          0.6725038625665724
         ],
         "xaxis": "x",
         "y": [
          -0.3477199971675873
         ],
         "yaxis": "y"
        },
        {
         "error_x": {
          "array": [
           0.021683827070442478
          ]
         },
         "error_y": {
          "array": [
           0.009999679334335536
          ]
         },
         "hovertemplate": "model=map-5<br>id pearson=%{x}<br>id sqce=%{y}<extra></extra>",
         "legendgroup": "map-5",
         "marker": {
          "color": "#B6E880",
          "symbol": "circle"
         },
         "mode": "markers",
         "name": "map-5",
         "orientation": "v",
         "showlegend": true,
         "type": "scatter",
         "x": [
          0.7034138155533763
         ],
         "xaxis": "x",
         "y": [
          -0.22808001935482025
         ],
         "yaxis": "y"
        },
        {
         "error_x": {
          "array": [
           0.010088875226420001
          ]
         },
         "error_y": {
          "array": [
           0.013711682980166718
          ]
         },
         "hovertemplate": "model=mcd-1<br>id pearson=%{x}<br>id sqce=%{y}<extra></extra>",
         "legendgroup": "mcd-1",
         "marker": {
          "color": "#FF97FF",
          "symbol": "circle"
         },
         "mode": "markers",
         "name": "mcd-1",
         "orientation": "v",
         "showlegend": true,
         "type": "scatter",
         "x": [
          0.6949903045696213
         ],
         "xaxis": "x",
         "y": [
          -0.26696000099182127
         ],
         "yaxis": "y"
        },
        {
         "error_x": {
          "array": [
           0.02350890677456055
          ]
         },
         "error_y": {
          "array": [
           0.014399797828922416
          ]
         },
         "hovertemplate": "model=mcd-5<br>id pearson=%{x}<br>id sqce=%{y}<extra></extra>",
         "legendgroup": "mcd-5",
         "marker": {
          "color": "#FECB52",
          "symbol": "circle"
         },
         "mode": "markers",
         "name": "mcd-5",
         "orientation": "v",
         "showlegend": true,
         "type": "scatter",
         "x": [
          0.7109064013325663
         ],
         "xaxis": "x",
         "y": [
          -0.2203400045633316
         ],
         "yaxis": "y"
        },
        {
         "error_x": {
          "array": [
           0.01086544817494682
          ]
         },
         "error_y": {
          "array": [
           0.015630301611823605
          ]
         },
         "hovertemplate": "model=rank1-1<br>id pearson=%{x}<br>id sqce=%{y}<extra></extra>",
         "legendgroup": "rank1-1",
         "marker": {
          "color": "#636efa",
          "symbol": "circle"
         },
         "mode": "markers",
         "name": "rank1-1",
         "orientation": "v",
         "showlegend": true,
         "type": "scatter",
         "x": [
          0.6689274827893039
         ],
         "xaxis": "x",
         "y": [
          -0.16244000494480132
         ],
         "yaxis": "y"
        },
        {
         "error_x": {
          "array": [
           0.02622746729185134
          ]
         },
         "error_y": {
          "array": [
           0.008092123269513437
          ]
         },
         "hovertemplate": "model=svgd-1<br>id pearson=%{x}<br>id sqce=%{y}<extra></extra>",
         "legendgroup": "svgd-1",
         "marker": {
          "color": "#EF553B",
          "symbol": "circle"
         },
         "mode": "markers",
         "name": "svgd-1",
         "orientation": "v",
         "showlegend": true,
         "type": "scatter",
         "x": [
          0.6942628460498997
         ],
         "xaxis": "x",
         "y": [
          -0.19994000494480133
         ],
         "yaxis": "y"
        },
        {
         "error_x": {
          "array": [
           0.021303118328866652
          ]
         },
         "error_y": {
          "array": [
           0.0031121527826230826
          ]
         },
         "hovertemplate": "model=swag-1<br>id pearson=%{x}<br>id sqce=%{y}<extra></extra>",
         "legendgroup": "swag-1",
         "marker": {
          "color": "#00cc96",
          "symbol": "circle"
         },
         "mode": "markers",
         "name": "swag-1",
         "orientation": "v",
         "showlegend": true,
         "type": "scatter",
         "x": [
          0.6643820062581128
         ],
         "xaxis": "x",
         "y": [
          -0.3551200270652771
         ],
         "yaxis": "y"
        },
        {
         "error_x": {
          "array": [
           0.022829838905575963
          ]
         },
         "error_y": {
          "array": [
           0.008192100765989169
          ]
         },
         "hovertemplate": "model=swag-5<br>id pearson=%{x}<br>id sqce=%{y}<extra></extra>",
         "legendgroup": "swag-5",
         "marker": {
          "color": "#ab63fa",
          "symbol": "circle"
         },
         "mode": "markers",
         "name": "swag-5",
         "orientation": "v",
         "showlegend": true,
         "type": "scatter",
         "x": [
          0.7046854487713532
         ],
         "xaxis": "x",
         "y": [
          -0.2227400153875351
         ],
         "yaxis": "y"
        }
       ],
       "layout": {
        "legend": {
         "title": {
          "text": "model"
         },
         "tracegroupgap": 0
        },
        "margin": {
         "t": 60
        },
        "template": {
         "data": {
          "bar": [
           {
            "error_x": {
             "color": "#2a3f5f"
            },
            "error_y": {
             "color": "#2a3f5f"
            },
            "marker": {
             "line": {
              "color": "#E5ECF6",
              "width": 0.5
             },
             "pattern": {
              "fillmode": "overlay",
              "size": 10,
              "solidity": 0.2
             }
            },
            "type": "bar"
           }
          ],
          "barpolar": [
           {
            "marker": {
             "line": {
              "color": "#E5ECF6",
              "width": 0.5
             },
             "pattern": {
              "fillmode": "overlay",
              "size": 10,
              "solidity": 0.2
             }
            },
            "type": "barpolar"
           }
          ],
          "carpet": [
           {
            "aaxis": {
             "endlinecolor": "#2a3f5f",
             "gridcolor": "white",
             "linecolor": "white",
             "minorgridcolor": "white",
             "startlinecolor": "#2a3f5f"
            },
            "baxis": {
             "endlinecolor": "#2a3f5f",
             "gridcolor": "white",
             "linecolor": "white",
             "minorgridcolor": "white",
             "startlinecolor": "#2a3f5f"
            },
            "type": "carpet"
           }
          ],
          "choropleth": [
           {
            "colorbar": {
             "outlinewidth": 0,
             "ticks": ""
            },
            "type": "choropleth"
           }
          ],
          "contour": [
           {
            "colorbar": {
             "outlinewidth": 0,
             "ticks": ""
            },
            "colorscale": [
             [
              0,
              "#0d0887"
             ],
             [
              0.1111111111111111,
              "#46039f"
             ],
             [
              0.2222222222222222,
              "#7201a8"
             ],
             [
              0.3333333333333333,
              "#9c179e"
             ],
             [
              0.4444444444444444,
              "#bd3786"
             ],
             [
              0.5555555555555556,
              "#d8576b"
             ],
             [
              0.6666666666666666,
              "#ed7953"
             ],
             [
              0.7777777777777778,
              "#fb9f3a"
             ],
             [
              0.8888888888888888,
              "#fdca26"
             ],
             [
              1,
              "#f0f921"
             ]
            ],
            "type": "contour"
           }
          ],
          "contourcarpet": [
           {
            "colorbar": {
             "outlinewidth": 0,
             "ticks": ""
            },
            "type": "contourcarpet"
           }
          ],
          "heatmap": [
           {
            "colorbar": {
             "outlinewidth": 0,
             "ticks": ""
            },
            "colorscale": [
             [
              0,
              "#0d0887"
             ],
             [
              0.1111111111111111,
              "#46039f"
             ],
             [
              0.2222222222222222,
              "#7201a8"
             ],
             [
              0.3333333333333333,
              "#9c179e"
             ],
             [
              0.4444444444444444,
              "#bd3786"
             ],
             [
              0.5555555555555556,
              "#d8576b"
             ],
             [
              0.6666666666666666,
              "#ed7953"
             ],
             [
              0.7777777777777778,
              "#fb9f3a"
             ],
             [
              0.8888888888888888,
              "#fdca26"
             ],
             [
              1,
              "#f0f921"
             ]
            ],
            "type": "heatmap"
           }
          ],
          "heatmapgl": [
           {
            "colorbar": {
             "outlinewidth": 0,
             "ticks": ""
            },
            "colorscale": [
             [
              0,
              "#0d0887"
             ],
             [
              0.1111111111111111,
              "#46039f"
             ],
             [
              0.2222222222222222,
              "#7201a8"
             ],
             [
              0.3333333333333333,
              "#9c179e"
             ],
             [
              0.4444444444444444,
              "#bd3786"
             ],
             [
              0.5555555555555556,
              "#d8576b"
             ],
             [
              0.6666666666666666,
              "#ed7953"
             ],
             [
              0.7777777777777778,
              "#fb9f3a"
             ],
             [
              0.8888888888888888,
              "#fdca26"
             ],
             [
              1,
              "#f0f921"
             ]
            ],
            "type": "heatmapgl"
           }
          ],
          "histogram": [
           {
            "marker": {
             "pattern": {
              "fillmode": "overlay",
              "size": 10,
              "solidity": 0.2
             }
            },
            "type": "histogram"
           }
          ],
          "histogram2d": [
           {
            "colorbar": {
             "outlinewidth": 0,
             "ticks": ""
            },
            "colorscale": [
             [
              0,
              "#0d0887"
             ],
             [
              0.1111111111111111,
              "#46039f"
             ],
             [
              0.2222222222222222,
              "#7201a8"
             ],
             [
              0.3333333333333333,
              "#9c179e"
             ],
             [
              0.4444444444444444,
              "#bd3786"
             ],
             [
              0.5555555555555556,
              "#d8576b"
             ],
             [
              0.6666666666666666,
              "#ed7953"
             ],
             [
              0.7777777777777778,
              "#fb9f3a"
             ],
             [
              0.8888888888888888,
              "#fdca26"
             ],
             [
              1,
              "#f0f921"
             ]
            ],
            "type": "histogram2d"
           }
          ],
          "histogram2dcontour": [
           {
            "colorbar": {
             "outlinewidth": 0,
             "ticks": ""
            },
            "colorscale": [
             [
              0,
              "#0d0887"
             ],
             [
              0.1111111111111111,
              "#46039f"
             ],
             [
              0.2222222222222222,
              "#7201a8"
             ],
             [
              0.3333333333333333,
              "#9c179e"
             ],
             [
              0.4444444444444444,
              "#bd3786"
             ],
             [
              0.5555555555555556,
              "#d8576b"
             ],
             [
              0.6666666666666666,
              "#ed7953"
             ],
             [
              0.7777777777777778,
              "#fb9f3a"
             ],
             [
              0.8888888888888888,
              "#fdca26"
             ],
             [
              1,
              "#f0f921"
             ]
            ],
            "type": "histogram2dcontour"
           }
          ],
          "mesh3d": [
           {
            "colorbar": {
             "outlinewidth": 0,
             "ticks": ""
            },
            "type": "mesh3d"
           }
          ],
          "parcoords": [
           {
            "line": {
             "colorbar": {
              "outlinewidth": 0,
              "ticks": ""
             }
            },
            "type": "parcoords"
           }
          ],
          "pie": [
           {
            "automargin": true,
            "type": "pie"
           }
          ],
          "scatter": [
           {
            "fillpattern": {
             "fillmode": "overlay",
             "size": 10,
             "solidity": 0.2
            },
            "type": "scatter"
           }
          ],
          "scatter3d": [
           {
            "line": {
             "colorbar": {
              "outlinewidth": 0,
              "ticks": ""
             }
            },
            "marker": {
             "colorbar": {
              "outlinewidth": 0,
              "ticks": ""
             }
            },
            "type": "scatter3d"
           }
          ],
          "scattercarpet": [
           {
            "marker": {
             "colorbar": {
              "outlinewidth": 0,
              "ticks": ""
             }
            },
            "type": "scattercarpet"
           }
          ],
          "scattergeo": [
           {
            "marker": {
             "colorbar": {
              "outlinewidth": 0,
              "ticks": ""
             }
            },
            "type": "scattergeo"
           }
          ],
          "scattergl": [
           {
            "marker": {
             "colorbar": {
              "outlinewidth": 0,
              "ticks": ""
             }
            },
            "type": "scattergl"
           }
          ],
          "scattermapbox": [
           {
            "marker": {
             "colorbar": {
              "outlinewidth": 0,
              "ticks": ""
             }
            },
            "type": "scattermapbox"
           }
          ],
          "scatterpolar": [
           {
            "marker": {
             "colorbar": {
              "outlinewidth": 0,
              "ticks": ""
             }
            },
            "type": "scatterpolar"
           }
          ],
          "scatterpolargl": [
           {
            "marker": {
             "colorbar": {
              "outlinewidth": 0,
              "ticks": ""
             }
            },
            "type": "scatterpolargl"
           }
          ],
          "scatterternary": [
           {
            "marker": {
             "colorbar": {
              "outlinewidth": 0,
              "ticks": ""
             }
            },
            "type": "scatterternary"
           }
          ],
          "surface": [
           {
            "colorbar": {
             "outlinewidth": 0,
             "ticks": ""
            },
            "colorscale": [
             [
              0,
              "#0d0887"
             ],
             [
              0.1111111111111111,
              "#46039f"
             ],
             [
              0.2222222222222222,
              "#7201a8"
             ],
             [
              0.3333333333333333,
              "#9c179e"
             ],
             [
              0.4444444444444444,
              "#bd3786"
             ],
             [
              0.5555555555555556,
              "#d8576b"
             ],
             [
              0.6666666666666666,
              "#ed7953"
             ],
             [
              0.7777777777777778,
              "#fb9f3a"
             ],
             [
              0.8888888888888888,
              "#fdca26"
             ],
             [
              1,
              "#f0f921"
             ]
            ],
            "type": "surface"
           }
          ],
          "table": [
           {
            "cells": {
             "fill": {
              "color": "#EBF0F8"
             },
             "line": {
              "color": "white"
             }
            },
            "header": {
             "fill": {
              "color": "#C8D4E3"
             },
             "line": {
              "color": "white"
             }
            },
            "type": "table"
           }
          ]
         },
         "layout": {
          "annotationdefaults": {
           "arrowcolor": "#2a3f5f",
           "arrowhead": 0,
           "arrowwidth": 1
          },
          "autotypenumbers": "strict",
          "coloraxis": {
           "colorbar": {
            "outlinewidth": 0,
            "ticks": ""
           }
          },
          "colorscale": {
           "diverging": [
            [
             0,
             "#8e0152"
            ],
            [
             0.1,
             "#c51b7d"
            ],
            [
             0.2,
             "#de77ae"
            ],
            [
             0.3,
             "#f1b6da"
            ],
            [
             0.4,
             "#fde0ef"
            ],
            [
             0.5,
             "#f7f7f7"
            ],
            [
             0.6,
             "#e6f5d0"
            ],
            [
             0.7,
             "#b8e186"
            ],
            [
             0.8,
             "#7fbc41"
            ],
            [
             0.9,
             "#4d9221"
            ],
            [
             1,
             "#276419"
            ]
           ],
           "sequential": [
            [
             0,
             "#0d0887"
            ],
            [
             0.1111111111111111,
             "#46039f"
            ],
            [
             0.2222222222222222,
             "#7201a8"
            ],
            [
             0.3333333333333333,
             "#9c179e"
            ],
            [
             0.4444444444444444,
             "#bd3786"
            ],
            [
             0.5555555555555556,
             "#d8576b"
            ],
            [
             0.6666666666666666,
             "#ed7953"
            ],
            [
             0.7777777777777778,
             "#fb9f3a"
            ],
            [
             0.8888888888888888,
             "#fdca26"
            ],
            [
             1,
             "#f0f921"
            ]
           ],
           "sequentialminus": [
            [
             0,
             "#0d0887"
            ],
            [
             0.1111111111111111,
             "#46039f"
            ],
            [
             0.2222222222222222,
             "#7201a8"
            ],
            [
             0.3333333333333333,
             "#9c179e"
            ],
            [
             0.4444444444444444,
             "#bd3786"
            ],
            [
             0.5555555555555556,
             "#d8576b"
            ],
            [
             0.6666666666666666,
             "#ed7953"
            ],
            [
             0.7777777777777778,
             "#fb9f3a"
            ],
            [
             0.8888888888888888,
             "#fdca26"
            ],
            [
             1,
             "#f0f921"
            ]
           ]
          },
          "colorway": [
           "#636efa",
           "#EF553B",
           "#00cc96",
           "#ab63fa",
           "#FFA15A",
           "#19d3f3",
           "#FF6692",
           "#B6E880",
           "#FF97FF",
           "#FECB52"
          ],
          "font": {
           "color": "#2a3f5f"
          },
          "geo": {
           "bgcolor": "white",
           "lakecolor": "white",
           "landcolor": "#E5ECF6",
           "showlakes": true,
           "showland": true,
           "subunitcolor": "white"
          },
          "hoverlabel": {
           "align": "left"
          },
          "hovermode": "closest",
          "mapbox": {
           "style": "light"
          },
          "paper_bgcolor": "white",
          "plot_bgcolor": "#E5ECF6",
          "polar": {
           "angularaxis": {
            "gridcolor": "white",
            "linecolor": "white",
            "ticks": ""
           },
           "bgcolor": "#E5ECF6",
           "radialaxis": {
            "gridcolor": "white",
            "linecolor": "white",
            "ticks": ""
           }
          },
          "scene": {
           "xaxis": {
            "backgroundcolor": "#E5ECF6",
            "gridcolor": "white",
            "gridwidth": 2,
            "linecolor": "white",
            "showbackground": true,
            "ticks": "",
            "zerolinecolor": "white"
           },
           "yaxis": {
            "backgroundcolor": "#E5ECF6",
            "gridcolor": "white",
            "gridwidth": 2,
            "linecolor": "white",
            "showbackground": true,
            "ticks": "",
            "zerolinecolor": "white"
           },
           "zaxis": {
            "backgroundcolor": "#E5ECF6",
            "gridcolor": "white",
            "gridwidth": 2,
            "linecolor": "white",
            "showbackground": true,
            "ticks": "",
            "zerolinecolor": "white"
           }
          },
          "shapedefaults": {
           "line": {
            "color": "#2a3f5f"
           }
          },
          "ternary": {
           "aaxis": {
            "gridcolor": "white",
            "linecolor": "white",
            "ticks": ""
           },
           "baxis": {
            "gridcolor": "white",
            "linecolor": "white",
            "ticks": ""
           },
           "bgcolor": "#E5ECF6",
           "caxis": {
            "gridcolor": "white",
            "linecolor": "white",
            "ticks": ""
           }
          },
          "title": {
           "x": 0.05
          },
          "xaxis": {
           "automargin": true,
           "gridcolor": "white",
           "linecolor": "white",
           "ticks": "",
           "title": {
            "standoff": 15
           },
           "zerolinecolor": "white",
           "zerolinewidth": 2
          },
          "yaxis": {
           "automargin": true,
           "gridcolor": "white",
           "linecolor": "white",
           "ticks": "",
           "title": {
            "standoff": 15
           },
           "zerolinecolor": "white",
           "zerolinewidth": 2
          }
         }
        },
        "xaxis": {
         "anchor": "y",
         "domain": [
          0,
          1
         ],
         "title": {
          "text": "id pearson"
         }
        },
        "yaxis": {
         "anchor": "x",
         "domain": [
          0,
          1
         ],
         "title": {
          "text": "id sqce"
         }
        }
       }
      }
     },
     "metadata": {},
     "output_type": "display_data"
    }
   ],
   "source": [
    "pareto_plot(data, \"id pearson\", \"id sqce\")"
   ]
  },
  {
   "cell_type": "code",
   "execution_count": 10,
   "metadata": {},
   "outputs": [
    {
     "data": {
      "application/vnd.plotly.v1+json": {
       "config": {
        "plotlyServerURL": "https://plot.ly"
       },
       "data": [
        {
         "error_x": {
          "array": [
           2.469799686319503
          ]
         },
         "error_y": {
          "array": [
           2.289589118870818
          ]
         },
         "hovertemplate": "model=bbb-1<br>ood lml=%{x}<br>ood ll=%{y}<extra></extra>",
         "legendgroup": "bbb-1",
         "marker": {
          "color": "#636efa",
          "symbol": "circle"
         },
         "mode": "markers",
         "name": "bbb-1",
         "orientation": "v",
         "showlegend": true,
         "type": "scatter",
         "x": [
          -12.074589347839355
         ],
         "xaxis": "x",
         "y": [
          -7.881385374069214
         ],
         "yaxis": "y"
        },
        {
         "error_x": {
          "array": [
           2.2994338545696342
          ]
         },
         "error_y": {
          "array": [
           1.461636593417048
          ]
         },
         "hovertemplate": "model=bbb-5<br>ood lml=%{x}<br>ood ll=%{y}<extra></extra>",
         "legendgroup": "bbb-5",
         "marker": {
          "color": "#EF553B",
          "symbol": "circle"
         },
         "mode": "markers",
         "name": "bbb-5",
         "orientation": "v",
         "showlegend": true,
         "type": "scatter",
         "x": [
          -11.498457431793213
         ],
         "xaxis": "x",
         "y": [
          -6.256721687316895
         ],
         "yaxis": "y"
        },
        {
         "error_x": {
          "array": [
           null
          ]
         },
         "error_y": {
          "array": [
           null
          ]
         },
         "hovertemplate": "model=ivon_p100-1<br>ood lml=%{x}<br>ood ll=%{y}<extra></extra>",
         "legendgroup": "ivon_p100-1",
         "marker": {
          "color": "#00cc96",
          "symbol": "circle"
         },
         "mode": "markers",
         "name": "ivon_p100-1",
         "orientation": "v",
         "showlegend": true,
         "type": "scatter",
         "x": [
          -21.933134078979492
         ],
         "xaxis": "x",
         "y": [
          -4.3283185958862305
         ],
         "yaxis": "y"
        },
        {
         "error_x": {
          "array": [
           null
          ]
         },
         "error_y": {
          "array": [
           null
          ]
         },
         "hovertemplate": "model=ivon_p500-1<br>ood lml=%{x}<br>ood ll=%{y}<extra></extra>",
         "legendgroup": "ivon_p500-1",
         "marker": {
          "color": "#ab63fa",
          "symbol": "circle"
         },
         "mode": "markers",
         "name": "ivon_p500-1",
         "orientation": "v",
         "showlegend": true,
         "type": "scatter",
         "x": [
          -19.787492752075195
         ],
         "xaxis": "x",
         "y": [
          -4.657480239868164
         ],
         "yaxis": "y"
        },
        {
         "error_x": {
          "array": [
           2.1912158397863997
          ]
         },
         "error_y": {
          "array": [
           2.191215798529408
          ]
         },
         "hovertemplate": "model=laplace-1<br>ood lml=%{x}<br>ood ll=%{y}<extra></extra>",
         "legendgroup": "laplace-1",
         "marker": {
          "color": "#FFA15A",
          "symbol": "circle"
         },
         "mode": "markers",
         "name": "laplace-1",
         "orientation": "v",
         "showlegend": true,
         "type": "scatter",
         "x": [
          -12.599393844604492
         ],
         "xaxis": "x",
         "y": [
          -12.59939365386963
         ],
         "yaxis": "y"
        },
        {
         "error_x": {
          "array": [
           2.141290982725153
          ]
         },
         "error_y": {
          "array": [
           1.2710648933199542
          ]
         },
         "hovertemplate": "model=laplace-5<br>ood lml=%{x}<br>ood ll=%{y}<extra></extra>",
         "legendgroup": "laplace-5",
         "marker": {
          "color": "#19d3f3",
          "symbol": "circle"
         },
         "mode": "markers",
         "name": "laplace-5",
         "orientation": "v",
         "showlegend": true,
         "type": "scatter",
         "x": [
          -12.32361946105957
         ],
         "xaxis": "x",
         "y": [
          -5.614496803283691
         ],
         "yaxis": "y"
        },
        {
         "error_x": {
          "array": [
           2.0419645509982476
          ]
         },
         "error_y": {
          "array": [
           2.041964742360493
          ]
         },
         "hovertemplate": "model=map-1<br>ood lml=%{x}<br>ood ll=%{y}<extra></extra>",
         "legendgroup": "map-1",
         "marker": {
          "color": "#FF6692",
          "symbol": "circle"
         },
         "mode": "markers",
         "name": "map-1",
         "orientation": "v",
         "showlegend": true,
         "type": "scatter",
         "x": [
          -11.945303535461425
         ],
         "xaxis": "x",
         "y": [
          -11.945303344726563
         ],
         "yaxis": "y"
        },
        {
         "error_x": {
          "array": [
           2.07444177863592
          ]
         },
         "error_y": {
          "array": [
           1.4219014872966238
          ]
         },
         "hovertemplate": "model=map-5<br>ood lml=%{x}<br>ood ll=%{y}<extra></extra>",
         "legendgroup": "map-5",
         "marker": {
          "color": "#B6E880",
          "symbol": "circle"
         },
         "mode": "markers",
         "name": "map-5",
         "orientation": "v",
         "showlegend": true,
         "type": "scatter",
         "x": [
          -12.113140487670899
         ],
         "xaxis": "x",
         "y": [
          -6.126161384582519
         ],
         "yaxis": "y"
        },
        {
         "error_x": {
          "array": [
           2.39808035769082
          ]
         },
         "error_y": {
          "array": [
           1.7196861127901706
          ]
         },
         "hovertemplate": "model=mcd-1<br>ood lml=%{x}<br>ood ll=%{y}<extra></extra>",
         "legendgroup": "mcd-1",
         "marker": {
          "color": "#FF97FF",
          "symbol": "circle"
         },
         "mode": "markers",
         "name": "mcd-1",
         "orientation": "v",
         "showlegend": true,
         "type": "scatter",
         "x": [
          -12.17531442642212
         ],
         "xaxis": "x",
         "y": [
          -6.867587757110596
         ],
         "yaxis": "y"
        },
        {
         "error_x": {
          "array": [
           2.4093891348323573
          ]
         },
         "error_y": {
          "array": [
           1.517708752165777
          ]
         },
         "hovertemplate": "model=mcd-5<br>ood lml=%{x}<br>ood ll=%{y}<extra></extra>",
         "legendgroup": "mcd-5",
         "marker": {
          "color": "#FECB52",
          "symbol": "circle"
         },
         "mode": "markers",
         "name": "mcd-5",
         "orientation": "v",
         "showlegend": true,
         "type": "scatter",
         "x": [
          -12.289997768402099
         ],
         "xaxis": "x",
         "y": [
          -5.053147888183593
         ],
         "yaxis": "y"
        },
        {
         "error_x": {
          "array": [
           1.977907313315142
          ]
         },
         "error_y": {
          "array": [
           1.0532312566193671
          ]
         },
         "hovertemplate": "model=rank1-1<br>ood lml=%{x}<br>ood ll=%{y}<extra></extra>",
         "legendgroup": "rank1-1",
         "marker": {
          "color": "#636efa",
          "symbol": "circle"
         },
         "mode": "markers",
         "name": "rank1-1",
         "orientation": "v",
         "showlegend": true,
         "type": "scatter",
         "x": [
          -13.276041793823243
         ],
         "xaxis": "x",
         "y": [
          -3.567510485649109
         ],
         "yaxis": "y"
        },
        {
         "error_x": {
          "array": [
           2.2238578318517637
          ]
         },
         "error_y": {
          "array": [
           1.269667951637501
          ]
         },
         "hovertemplate": "model=svgd-1<br>ood lml=%{x}<br>ood ll=%{y}<extra></extra>",
         "legendgroup": "svgd-1",
         "marker": {
          "color": "#EF553B",
          "symbol": "circle"
         },
         "mode": "markers",
         "name": "svgd-1",
         "orientation": "v",
         "showlegend": true,
         "type": "scatter",
         "x": [
          -12.523552131652831
         ],
         "xaxis": "x",
         "y": [
          -5.4156664371490475
         ],
         "yaxis": "y"
        },
        {
         "error_x": {
          "array": [
           1.9995568628763476
          ]
         },
         "error_y": {
          "array": [
           1.9942855911546022
          ]
         },
         "hovertemplate": "model=swag-1<br>ood lml=%{x}<br>ood ll=%{y}<extra></extra>",
         "legendgroup": "swag-1",
         "marker": {
          "color": "#00cc96",
          "symbol": "circle"
         },
         "mode": "markers",
         "name": "swag-1",
         "orientation": "v",
         "showlegend": true,
         "type": "scatter",
         "x": [
          -12.621439552307129
         ],
         "xaxis": "x",
         "y": [
          -12.551127052307129
         ],
         "yaxis": "y"
        },
        {
         "error_x": {
          "array": [
           1.988650041709432
          ]
         },
         "error_y": {
          "array": [
           1.3731971430082182
          ]
         },
         "hovertemplate": "model=swag-5<br>ood lml=%{x}<br>ood ll=%{y}<extra></extra>",
         "legendgroup": "swag-5",
         "marker": {
          "color": "#ab63fa",
          "symbol": "circle"
         },
         "mode": "markers",
         "name": "swag-5",
         "orientation": "v",
         "showlegend": true,
         "type": "scatter",
         "x": [
          -12.16686191558838
         ],
         "xaxis": "x",
         "y": [
          -6.010439538955689
         ],
         "yaxis": "y"
        }
       ],
       "layout": {
        "legend": {
         "title": {
          "text": "model"
         },
         "tracegroupgap": 0
        },
        "margin": {
         "t": 60
        },
        "template": {
         "data": {
          "bar": [
           {
            "error_x": {
             "color": "#2a3f5f"
            },
            "error_y": {
             "color": "#2a3f5f"
            },
            "marker": {
             "line": {
              "color": "#E5ECF6",
              "width": 0.5
             },
             "pattern": {
              "fillmode": "overlay",
              "size": 10,
              "solidity": 0.2
             }
            },
            "type": "bar"
           }
          ],
          "barpolar": [
           {
            "marker": {
             "line": {
              "color": "#E5ECF6",
              "width": 0.5
             },
             "pattern": {
              "fillmode": "overlay",
              "size": 10,
              "solidity": 0.2
             }
            },
            "type": "barpolar"
           }
          ],
          "carpet": [
           {
            "aaxis": {
             "endlinecolor": "#2a3f5f",
             "gridcolor": "white",
             "linecolor": "white",
             "minorgridcolor": "white",
             "startlinecolor": "#2a3f5f"
            },
            "baxis": {
             "endlinecolor": "#2a3f5f",
             "gridcolor": "white",
             "linecolor": "white",
             "minorgridcolor": "white",
             "startlinecolor": "#2a3f5f"
            },
            "type": "carpet"
           }
          ],
          "choropleth": [
           {
            "colorbar": {
             "outlinewidth": 0,
             "ticks": ""
            },
            "type": "choropleth"
           }
          ],
          "contour": [
           {
            "colorbar": {
             "outlinewidth": 0,
             "ticks": ""
            },
            "colorscale": [
             [
              0,
              "#0d0887"
             ],
             [
              0.1111111111111111,
              "#46039f"
             ],
             [
              0.2222222222222222,
              "#7201a8"
             ],
             [
              0.3333333333333333,
              "#9c179e"
             ],
             [
              0.4444444444444444,
              "#bd3786"
             ],
             [
              0.5555555555555556,
              "#d8576b"
             ],
             [
              0.6666666666666666,
              "#ed7953"
             ],
             [
              0.7777777777777778,
              "#fb9f3a"
             ],
             [
              0.8888888888888888,
              "#fdca26"
             ],
             [
              1,
              "#f0f921"
             ]
            ],
            "type": "contour"
           }
          ],
          "contourcarpet": [
           {
            "colorbar": {
             "outlinewidth": 0,
             "ticks": ""
            },
            "type": "contourcarpet"
           }
          ],
          "heatmap": [
           {
            "colorbar": {
             "outlinewidth": 0,
             "ticks": ""
            },
            "colorscale": [
             [
              0,
              "#0d0887"
             ],
             [
              0.1111111111111111,
              "#46039f"
             ],
             [
              0.2222222222222222,
              "#7201a8"
             ],
             [
              0.3333333333333333,
              "#9c179e"
             ],
             [
              0.4444444444444444,
              "#bd3786"
             ],
             [
              0.5555555555555556,
              "#d8576b"
             ],
             [
              0.6666666666666666,
              "#ed7953"
             ],
             [
              0.7777777777777778,
              "#fb9f3a"
             ],
             [
              0.8888888888888888,
              "#fdca26"
             ],
             [
              1,
              "#f0f921"
             ]
            ],
            "type": "heatmap"
           }
          ],
          "heatmapgl": [
           {
            "colorbar": {
             "outlinewidth": 0,
             "ticks": ""
            },
            "colorscale": [
             [
              0,
              "#0d0887"
             ],
             [
              0.1111111111111111,
              "#46039f"
             ],
             [
              0.2222222222222222,
              "#7201a8"
             ],
             [
              0.3333333333333333,
              "#9c179e"
             ],
             [
              0.4444444444444444,
              "#bd3786"
             ],
             [
              0.5555555555555556,
              "#d8576b"
             ],
             [
              0.6666666666666666,
              "#ed7953"
             ],
             [
              0.7777777777777778,
              "#fb9f3a"
             ],
             [
              0.8888888888888888,
              "#fdca26"
             ],
             [
              1,
              "#f0f921"
             ]
            ],
            "type": "heatmapgl"
           }
          ],
          "histogram": [
           {
            "marker": {
             "pattern": {
              "fillmode": "overlay",
              "size": 10,
              "solidity": 0.2
             }
            },
            "type": "histogram"
           }
          ],
          "histogram2d": [
           {
            "colorbar": {
             "outlinewidth": 0,
             "ticks": ""
            },
            "colorscale": [
             [
              0,
              "#0d0887"
             ],
             [
              0.1111111111111111,
              "#46039f"
             ],
             [
              0.2222222222222222,
              "#7201a8"
             ],
             [
              0.3333333333333333,
              "#9c179e"
             ],
             [
              0.4444444444444444,
              "#bd3786"
             ],
             [
              0.5555555555555556,
              "#d8576b"
             ],
             [
              0.6666666666666666,
              "#ed7953"
             ],
             [
              0.7777777777777778,
              "#fb9f3a"
             ],
             [
              0.8888888888888888,
              "#fdca26"
             ],
             [
              1,
              "#f0f921"
             ]
            ],
            "type": "histogram2d"
           }
          ],
          "histogram2dcontour": [
           {
            "colorbar": {
             "outlinewidth": 0,
             "ticks": ""
            },
            "colorscale": [
             [
              0,
              "#0d0887"
             ],
             [
              0.1111111111111111,
              "#46039f"
             ],
             [
              0.2222222222222222,
              "#7201a8"
             ],
             [
              0.3333333333333333,
              "#9c179e"
             ],
             [
              0.4444444444444444,
              "#bd3786"
             ],
             [
              0.5555555555555556,
              "#d8576b"
             ],
             [
              0.6666666666666666,
              "#ed7953"
             ],
             [
              0.7777777777777778,
              "#fb9f3a"
             ],
             [
              0.8888888888888888,
              "#fdca26"
             ],
             [
              1,
              "#f0f921"
             ]
            ],
            "type": "histogram2dcontour"
           }
          ],
          "mesh3d": [
           {
            "colorbar": {
             "outlinewidth": 0,
             "ticks": ""
            },
            "type": "mesh3d"
           }
          ],
          "parcoords": [
           {
            "line": {
             "colorbar": {
              "outlinewidth": 0,
              "ticks": ""
             }
            },
            "type": "parcoords"
           }
          ],
          "pie": [
           {
            "automargin": true,
            "type": "pie"
           }
          ],
          "scatter": [
           {
            "fillpattern": {
             "fillmode": "overlay",
             "size": 10,
             "solidity": 0.2
            },
            "type": "scatter"
           }
          ],
          "scatter3d": [
           {
            "line": {
             "colorbar": {
              "outlinewidth": 0,
              "ticks": ""
             }
            },
            "marker": {
             "colorbar": {
              "outlinewidth": 0,
              "ticks": ""
             }
            },
            "type": "scatter3d"
           }
          ],
          "scattercarpet": [
           {
            "marker": {
             "colorbar": {
              "outlinewidth": 0,
              "ticks": ""
             }
            },
            "type": "scattercarpet"
           }
          ],
          "scattergeo": [
           {
            "marker": {
             "colorbar": {
              "outlinewidth": 0,
              "ticks": ""
             }
            },
            "type": "scattergeo"
           }
          ],
          "scattergl": [
           {
            "marker": {
             "colorbar": {
              "outlinewidth": 0,
              "ticks": ""
             }
            },
            "type": "scattergl"
           }
          ],
          "scattermapbox": [
           {
            "marker": {
             "colorbar": {
              "outlinewidth": 0,
              "ticks": ""
             }
            },
            "type": "scattermapbox"
           }
          ],
          "scatterpolar": [
           {
            "marker": {
             "colorbar": {
              "outlinewidth": 0,
              "ticks": ""
             }
            },
            "type": "scatterpolar"
           }
          ],
          "scatterpolargl": [
           {
            "marker": {
             "colorbar": {
              "outlinewidth": 0,
              "ticks": ""
             }
            },
            "type": "scatterpolargl"
           }
          ],
          "scatterternary": [
           {
            "marker": {
             "colorbar": {
              "outlinewidth": 0,
              "ticks": ""
             }
            },
            "type": "scatterternary"
           }
          ],
          "surface": [
           {
            "colorbar": {
             "outlinewidth": 0,
             "ticks": ""
            },
            "colorscale": [
             [
              0,
              "#0d0887"
             ],
             [
              0.1111111111111111,
              "#46039f"
             ],
             [
              0.2222222222222222,
              "#7201a8"
             ],
             [
              0.3333333333333333,
              "#9c179e"
             ],
             [
              0.4444444444444444,
              "#bd3786"
             ],
             [
              0.5555555555555556,
              "#d8576b"
             ],
             [
              0.6666666666666666,
              "#ed7953"
             ],
             [
              0.7777777777777778,
              "#fb9f3a"
             ],
             [
              0.8888888888888888,
              "#fdca26"
             ],
             [
              1,
              "#f0f921"
             ]
            ],
            "type": "surface"
           }
          ],
          "table": [
           {
            "cells": {
             "fill": {
              "color": "#EBF0F8"
             },
             "line": {
              "color": "white"
             }
            },
            "header": {
             "fill": {
              "color": "#C8D4E3"
             },
             "line": {
              "color": "white"
             }
            },
            "type": "table"
           }
          ]
         },
         "layout": {
          "annotationdefaults": {
           "arrowcolor": "#2a3f5f",
           "arrowhead": 0,
           "arrowwidth": 1
          },
          "autotypenumbers": "strict",
          "coloraxis": {
           "colorbar": {
            "outlinewidth": 0,
            "ticks": ""
           }
          },
          "colorscale": {
           "diverging": [
            [
             0,
             "#8e0152"
            ],
            [
             0.1,
             "#c51b7d"
            ],
            [
             0.2,
             "#de77ae"
            ],
            [
             0.3,
             "#f1b6da"
            ],
            [
             0.4,
             "#fde0ef"
            ],
            [
             0.5,
             "#f7f7f7"
            ],
            [
             0.6,
             "#e6f5d0"
            ],
            [
             0.7,
             "#b8e186"
            ],
            [
             0.8,
             "#7fbc41"
            ],
            [
             0.9,
             "#4d9221"
            ],
            [
             1,
             "#276419"
            ]
           ],
           "sequential": [
            [
             0,
             "#0d0887"
            ],
            [
             0.1111111111111111,
             "#46039f"
            ],
            [
             0.2222222222222222,
             "#7201a8"
            ],
            [
             0.3333333333333333,
             "#9c179e"
            ],
            [
             0.4444444444444444,
             "#bd3786"
            ],
            [
             0.5555555555555556,
             "#d8576b"
            ],
            [
             0.6666666666666666,
             "#ed7953"
            ],
            [
             0.7777777777777778,
             "#fb9f3a"
            ],
            [
             0.8888888888888888,
             "#fdca26"
            ],
            [
             1,
             "#f0f921"
            ]
           ],
           "sequentialminus": [
            [
             0,
             "#0d0887"
            ],
            [
             0.1111111111111111,
             "#46039f"
            ],
            [
             0.2222222222222222,
             "#7201a8"
            ],
            [
             0.3333333333333333,
             "#9c179e"
            ],
            [
             0.4444444444444444,
             "#bd3786"
            ],
            [
             0.5555555555555556,
             "#d8576b"
            ],
            [
             0.6666666666666666,
             "#ed7953"
            ],
            [
             0.7777777777777778,
             "#fb9f3a"
            ],
            [
             0.8888888888888888,
             "#fdca26"
            ],
            [
             1,
             "#f0f921"
            ]
           ]
          },
          "colorway": [
           "#636efa",
           "#EF553B",
           "#00cc96",
           "#ab63fa",
           "#FFA15A",
           "#19d3f3",
           "#FF6692",
           "#B6E880",
           "#FF97FF",
           "#FECB52"
          ],
          "font": {
           "color": "#2a3f5f"
          },
          "geo": {
           "bgcolor": "white",
           "lakecolor": "white",
           "landcolor": "#E5ECF6",
           "showlakes": true,
           "showland": true,
           "subunitcolor": "white"
          },
          "hoverlabel": {
           "align": "left"
          },
          "hovermode": "closest",
          "mapbox": {
           "style": "light"
          },
          "paper_bgcolor": "white",
          "plot_bgcolor": "#E5ECF6",
          "polar": {
           "angularaxis": {
            "gridcolor": "white",
            "linecolor": "white",
            "ticks": ""
           },
           "bgcolor": "#E5ECF6",
           "radialaxis": {
            "gridcolor": "white",
            "linecolor": "white",
            "ticks": ""
           }
          },
          "scene": {
           "xaxis": {
            "backgroundcolor": "#E5ECF6",
            "gridcolor": "white",
            "gridwidth": 2,
            "linecolor": "white",
            "showbackground": true,
            "ticks": "",
            "zerolinecolor": "white"
           },
           "yaxis": {
            "backgroundcolor": "#E5ECF6",
            "gridcolor": "white",
            "gridwidth": 2,
            "linecolor": "white",
            "showbackground": true,
            "ticks": "",
            "zerolinecolor": "white"
           },
           "zaxis": {
            "backgroundcolor": "#E5ECF6",
            "gridcolor": "white",
            "gridwidth": 2,
            "linecolor": "white",
            "showbackground": true,
            "ticks": "",
            "zerolinecolor": "white"
           }
          },
          "shapedefaults": {
           "line": {
            "color": "#2a3f5f"
           }
          },
          "ternary": {
           "aaxis": {
            "gridcolor": "white",
            "linecolor": "white",
            "ticks": ""
           },
           "baxis": {
            "gridcolor": "white",
            "linecolor": "white",
            "ticks": ""
           },
           "bgcolor": "#E5ECF6",
           "caxis": {
            "gridcolor": "white",
            "linecolor": "white",
            "ticks": ""
           }
          },
          "title": {
           "x": 0.05
          },
          "xaxis": {
           "automargin": true,
           "gridcolor": "white",
           "linecolor": "white",
           "ticks": "",
           "title": {
            "standoff": 15
           },
           "zerolinecolor": "white",
           "zerolinewidth": 2
          },
          "yaxis": {
           "automargin": true,
           "gridcolor": "white",
           "linecolor": "white",
           "ticks": "",
           "title": {
            "standoff": 15
           },
           "zerolinecolor": "white",
           "zerolinewidth": 2
          }
         }
        },
        "xaxis": {
         "anchor": "y",
         "domain": [
          0,
          1
         ],
         "title": {
          "text": "ood lml"
         }
        },
        "yaxis": {
         "anchor": "x",
         "domain": [
          0,
          1
         ],
         "title": {
          "text": "ood ll"
         }
        }
       }
      }
     },
     "metadata": {},
     "output_type": "display_data"
    }
   ],
   "source": [
    "pareto_plot(data, \"ood lml\", \"ood ll\")"
   ]
  },
  {
   "cell_type": "code",
   "execution_count": 11,
   "metadata": {},
   "outputs": [
    {
     "data": {
      "text/plain": [
       "'model,model,ood mse,ood mse_std,ood pearson,ood pearson_std,ood ll,ood ll_std,ood lml,ood lml_std,ood qce,ood qce_std,ood sqce,ood sqce_std,id mse,id mse_std,id pearson,id pearson_std,id ll,id ll_std,id lml,id lml_std,id qce,id qce_std,id sqce,id sqce_std\\nbbb-1,bbb-1,0.26441408395767213,0.054177201843491896,0.4995814644109208,0.07162765526619304,-7.881385374069214,2.289589118870818,-12.074589347839355,2.469799686319503,0.33306310772895814,0.03584951410287148,-0.33306310772895814,0.03584951410287148,0.16894285380840302,0.013531736044599648,0.679818681723485,0.019467699594020126,-4.5078083038330075,0.2694315314728759,-7.2244264602661135,0.754106256688152,0.28620001673698425,0.014264783267151193,-0.28620001673698425,0.014264783267151193\\nbbb-5,bbb-5,0.2515317678451538,0.04795432241944033,0.5177920572981668,0.0744388574691839,-6.256721687316895,1.461636593417048,-11.498457431793213,2.2994338545696342,0.3094897150993347,0.027268437630692182,-0.3094897150993347,0.027268437630692182,0.16070181429386138,0.010559864894786056,0.6943312403894437,0.013834712192195576,-3.619075345993042,0.34354924285811483,-7.159320259094239,0.5859124327840166,0.255960014462471,0.012439071061091688,-0.255960014462471,0.012439071061091688\\nivon_p100-1,ivon_p100-1,0.3589605391025543,,0.21292998247558484,,-4.3283185958862305,,-21.933134078979492,,0.2128942757844925,,-0.2128942757844925,,0.29331326484680176,,0.5395114114563323,,-3.693468809127808,,-17.517288208007812,,0.16580002009868622,,-0.16580002009868622,\\nivon_p500-1,ivon_p500-1,0.3468654155731201,,0.24921662241434897,,-4.657480239868164,,-19.787492752075195,,0.23570528626441956,,-0.23570528626441956,,0.2836293876171112,,0.5707051812390901,,-3.887585878372192,,-15.832489013671877,,0.20100000500679016,,-0.20100000500679016,\\nlaplace-1,laplace-1,0.27966112196445464,0.04382436621383775,0.47302386406374614,0.07237971738878436,-12.59939365386963,2.191215798529408,-12.599393844604492,2.1912158397863997,0.3865029036998749,0.012110040723636868,-0.3865029036998749,0.012110040723636868,0.18413796424865722,0.014739923022066483,0.6635306133410326,0.018175056325159075,-7.823242092132569,0.7369952497177906,-7.823241901397705,0.7369954288130659,0.3568800091743469,0.006419156115716833,-0.3568800091743469,0.006419156115716833\\nlaplace-5,laplace-5,0.25069033801555635,0.044219155829865055,0.515964299408394,0.07985714592288651,-5.614496803283691,1.2710648933199542,-12.32361946105957,2.141290982725153,0.2645773947238922,0.026258829284462305,-0.2645773947238922,0.026258829284462305,0.15698668956756592,0.013632872143985513,0.7017416886202316,0.022954658785156592,-3.2337368011474608,0.5394455945739817,-7.474223041534424,0.8281266097761837,0.20597999393939972,0.004447656238050734,-0.20597999393939972,0.004447656238050734\\nmap-1,map-1,0.2665792882442474,0.04083933337588652,0.4866786697547164,0.0743875892013544,-11.945303344726563,2.041964742360493,-11.945303535461425,2.0419645509982476,0.38236190676689147,0.01186556984482644,-0.38236190676689147,0.01186556984482644,0.17657988369464875,0.015227985635693518,0.6725038625665724,0.019289705596405464,-7.4453380584716795,0.7613977566041099,-7.4453380584716795,0.7613977566041099,0.3477199971675873,0.008277035496338382,-0.3477199971675873,0.008277035496338382\\nmap-5,map-5,0.24912445545196532,0.04327033237450747,0.5204117332979324,0.07546748694913882,-6.126161384582519,1.4219014872966238,-12.113140487670899,2.07444177863592,0.2834592223167419,0.026881697419222216,-0.2834592223167419,0.026881697419222216,0.15549399256706237,0.013778358035882253,0.7034138155533763,0.021683827070442478,-3.4382190704345703,0.5685795891594779,-7.092774391174316,0.7441042787471134,0.22808001935482025,0.009999679334335536,-0.22808001935482025,0.009999679334335536\\nmcd-1,mcd-1,0.2589306771755219,0.04933501019766921,0.49116711369402044,0.07877279474862892,-6.867587757110596,1.7196861127901706,-12.17531442642212,2.39808035769082,0.31597564816474916,0.022978514642922696,-0.31597564816474916,0.022978514642922696,0.1622564375400543,0.011957825858973592,0.6949903045696213,0.010088875226420001,-3.603859567642212,0.48283502132359135,-7.236588764190674,0.6730047004410655,0.26696000099182127,0.013711682980166718,-0.26696000099182127,0.013711682980166718\\nmcd-5,mcd-5,0.2525006890296936,0.05205940163932903,0.5157990395020422,0.07822162144590317,-5.053147888183593,1.517708752165777,-12.289997768402099,2.4093891348323573,0.27106647193431854,0.03451091757745103,-0.27106647193431854,0.03451091757745103,0.15621711313724518,0.011566329423728636,0.7109064013325663,0.02350890677456055,-2.6799975872039794,0.35823631792566996,-7.38292350769043,0.615272126596092,0.2203400045633316,0.014399797828922416,-0.2203400045633316,0.014399797828922416\\nrank1-1,rank1-1,0.24557891190052034,0.04298654968551089,0.5086806813557432,0.06904682425417413,-3.567510485649109,1.0532312566193671,-13.276041793823243,1.977907313315142,0.21184251308441163,0.0284658972989994,-0.21184251308441163,0.0284658972989994,0.1734004348516464,0.0156981973529846,0.6689274827893039,0.01086544817494682,-2.0767932653427126,0.32264532652885575,-9.629893684387207,1.1656310985552032,0.16244000494480132,0.015630301611823605,-0.16244000494480132,0.015630301611823605\\nsvgd-1,svgd-1,0.25413385331630706,0.040709565435528686,0.4970463380901296,0.06963957174182071,-5.4156664371490475,1.269667951637501,-12.523552131652831,2.2238578318517637,0.25502362847328186,0.02567687806187152,-0.25502362847328186,0.02567687806187152,0.1589934855699539,0.018285544020159562,0.6942628460498997,0.02622746729185134,-3.0571377277374268,0.6106766938070934,-7.5640106201171875,1.01676713595014,0.19994000494480133,0.008092123269513437,-0.19994000494480133,0.008092123269513437\\nswag-1,swag-1,0.2803564518690109,0.040063531616356375,0.4733472705123315,0.07759867463098437,-12.551127052307129,1.9942855911546022,-12.621439552307129,1.9995568628763476,0.38592746257781985,0.011788673118842699,-0.38592746257781985,0.011788673118842699,0.18305927515029907,0.014465517246770658,0.6643820062581128,0.021303118328866652,-7.719293308258057,0.7157842123570036,-7.752034854888916,0.7228019749444906,0.3551200270652771,0.0031121527826230826,-0.3551200270652771,0.0031121527826230826\\nswag-5,swag-5,0.250359246134758,0.041829511061810175,0.51213914281209,0.07755064973151421,-6.010439538955689,1.3731971430082182,-12.16686191558838,1.988650041709432,0.28034031987190244,0.026129506461774747,-0.28034031987190244,0.026129506461774747,0.1551262378692627,0.011797922860074266,0.7046854487713532,0.022829838905575963,-3.3314040660858155,0.4389503602899538,-7.220818710327149,0.625425670351235,0.2227400153875351,0.008192100765989169,-0.2227400153875351,0.008192100765989169\\n'"
      ]
     },
     "execution_count": 11,
     "metadata": {},
     "output_type": "execute_result"
    }
   ],
   "source": [
    "data.to_csv(sep=\",\", header=True)"
   ]
  },
  {
   "cell_type": "code",
   "execution_count": 12,
   "metadata": {},
   "outputs": [
    {
     "name": "stdout",
     "output_type": "stream",
     "text": [
      "\\begin{tabular}{l|rrrrrr}\n",
      "    \\multicolumn{1}{l}{Model} & \\multicolumn{1}{c}{Worst U/R Pearson} & \\multicolumn{1}{c}{psLML} & \\multicolumn{1}{c}{LML} & \\multicolumn{1}{c}{MSE} & \\multicolumn{1}{c}{QCE} & \\multicolumn{1}{c}{sQCE} \\\\\n",
      "    \\hline\n",
      "    MAP & $\\bm{0.487 \\pm 0.074}$ & $-11.945 \\pm 2.042$ & $\\bm{-11.945 \\pm 2.042}$ & $\\bm{0.267 \\pm 0.041}$ & $0.382 \\pm 0.012$ & $-0.382 \\pm 0.012$ \\\\\n",
      "    Deep Ensemble & $\\bm{0.520 \\pm 0.075}$ & $-6.126 \\pm 1.422$ & $\\bm{-12.113 \\pm 2.074}$ & $\\bm{0.249 \\pm 0.043}$ & $0.283 \\pm 0.027$ & $-0.283 \\pm 0.027$ \\\\\n",
      "    MCD & $\\bm{0.491 \\pm 0.079}$ & $-6.868 \\pm 1.720$ & $\\bm{-12.175 \\pm 2.398}$ & $\\bm{0.259 \\pm 0.049}$ & $0.316 \\pm 0.023$ & $-0.316 \\pm 0.023$ \\\\\n",
      "    MultiMCD & $\\bm{0.516 \\pm 0.078}$ & $-5.053 \\pm 1.518$ & $\\bm{-12.290 \\pm 2.409}$ & $\\bm{0.253 \\pm 0.052}$ & $0.271 \\pm 0.035$ & $-0.271 \\pm 0.035$ \\\\\n",
      "    SWAG & $\\bm{0.473 \\pm 0.078}$ & $-12.551 \\pm 1.994$ & $\\bm{-12.621 \\pm 2.000}$ & $\\bm{0.280 \\pm 0.040}$ & $0.386 \\pm 0.012$ & $-0.386 \\pm 0.012$ \\\\\n",
      "    MultiSWAG & $\\bm{0.512 \\pm 0.078}$ & $-6.010 \\pm 1.373$ & $\\bm{-12.167 \\pm 1.989}$ & $\\bm{0.250 \\pm 0.042}$ & $0.280 \\pm 0.026$ & $-0.280 \\pm 0.026$ \\\\\n",
      "    LL Laplace & $\\bm{0.473 \\pm 0.072}$ & $-12.599 \\pm 2.191$ & $\\bm{-12.599 \\pm 2.191}$ & $\\bm{0.280 \\pm 0.044}$ & $0.387 \\pm 0.012$ & $-0.387 \\pm 0.012$ \\\\\n",
      "    LL MultiLaplace & $\\bm{0.516 \\pm 0.080}$ & $-5.614 \\pm 1.271$ & $\\bm{-12.324 \\pm 2.141}$ & $\\bm{0.251 \\pm 0.044}$ & $0.265 \\pm 0.026$ & $-0.265 \\pm 0.026$ \\\\\n",
      "    BBB & $\\bm{0.500 \\pm 0.072}$ & $-7.881 \\pm 2.290$ & $\\bm{-12.075 \\pm 2.470}$ & $\\bm{0.264 \\pm 0.054}$ & $0.333 \\pm 0.036$ & $-0.333 \\pm 0.036$ \\\\\n",
      "    MultiBBB & $\\bm{0.518 \\pm 0.074}$ & $-6.257 \\pm 1.462$ & $\\bm{-11.498 \\pm 2.299}$ & $\\bm{0.252 \\pm 0.048}$ & $0.309 \\pm 0.027$ & $-0.309 \\pm 0.027$ \\\\\n",
      "    Rank-1 VI & $\\bm{0.509 \\pm 0.069}$ & $\\bm{-3.568 \\pm 1.053}$ & $\\bm{-13.276 \\pm 1.978}$ & $\\bm{0.246 \\pm 0.043}$ & $\\bm{0.212 \\pm 0.028}$ & $\\bm{-0.212 \\pm 0.028}$ \\\\\n",
      "    iVON & $0.249 \\pm -$ & $-4.657 \\pm -$ & $-19.787 \\pm -$ & $0.347 \\pm -$ & $0.236 \\pm -$ & $-0.236 \\pm -$ \\\\\n",
      "    SVGD & $\\bm{0.497 \\pm 0.070}$ & $-5.416 \\pm 1.270$ & $\\bm{-12.524 \\pm 2.224}$ & $\\bm{0.254 \\pm 0.041}$ & $0.255 \\pm 0.026$ & $-0.255 \\pm 0.026$ \\\\\n",
      "\\end{tabular}\n"
     ]
    }
   ],
   "source": [
    "algo_names = [\n",
    "    (\"map-1\", \"MAP\"),\n",
    "    (\"map-5\", \"Deep Ensemble\"),\n",
    "    (\"mcd-1\", \"MCD\"),\n",
    "    (\"mcd-5\", \"MultiMCD\"),\n",
    "    (\"swag-1\", \"SWAG\"),\n",
    "    (\"swag-5\", \"MultiSWAG\"),\n",
    "    (\"laplace-1\", \"LL Laplace\"),\n",
    "    (\"laplace-5\", \"LL MultiLaplace\"),\n",
    "    (\"bbb-1\", \"BBB\"),\n",
    "    (\"bbb-5\", \"MultiBBB\"),\n",
    "    (\"rank1-1\", \"Rank-1 VI\"),\n",
    "    (\"ivon_p500-1\", \"iVON\"),\n",
    "    (\"svgd-1\", \"SVGD\"),\n",
    "]\n",
    "\n",
    "def num(value, std, best=None, ty=None):\n",
    "    value = float(value)\n",
    "    std = float(std)\n",
    "\n",
    "    if not math.isnan(std):\n",
    "        num_string = f\"{value:.3f} \\\\pm {std:.3f}\"\n",
    "    else:\n",
    "        num_string = f\"{value:.3f} \\\\pm -\"\n",
    "\n",
    "    if best is None or ty is None or math.isnan(std):\n",
    "        return f\"${num_string}$\"\n",
    "\n",
    "    if ty == \"max\":\n",
    "        if value >= best:\n",
    "            num_string = f\"\\\\bm{{{num_string}}}\"\n",
    "    elif ty == \"min\":\n",
    "        if value <= best:\n",
    "            num_string = f\"\\\\bm{{{num_string}}}\"\n",
    "    elif ty == \"zero\":\n",
    "        if abs(value) <= best:\n",
    "            num_string = f\"\\\\bm{{{num_string}}}\"\n",
    "    return f\"${num_string}$\"\n",
    "\n",
    "def col_name(name, align):\n",
    "    return f\"\\\\multicolumn{{1}}{{{align}}}{{{name}}}\"\n",
    "\n",
    "def create_table(data, prefix):\n",
    "    print(\"\\\\begin{tabular}{l|rrrrrr}\")\n",
    "    print(f\"    {col_name('Model', 'l')} & {col_name('Worst U/R Pearson', 'c')} & {col_name('psLML', 'c')} & {col_name('LML', 'c')} & {col_name('MSE', 'c')} & {col_name('QCE', 'c')} & {col_name('sQCE', 'c')} \\\\\\\\\")\n",
    "    print(\"    \\\\hline\")\n",
    "\n",
    "    best_pearson, best_pearson_std = 0, 0\n",
    "    best_ll, best_ll_std = -1000, 0\n",
    "    best_lml, best_lml_std = -1000, 0\n",
    "    best_mse, best_mse_std = 1000, 0\n",
    "    best_qce, best_qce_std = 1000, 0\n",
    "    best_sqce, best_sqce_std = 1000, 0\n",
    "\n",
    "    for algo, name in algo_names:\n",
    "        row = data[data[\"model\"] == algo]\n",
    "        \n",
    "        if float(row[prefix + \"pearson\"]) > best_pearson:\n",
    "            best_pearson = float(row[prefix + \"pearson\"])\n",
    "            best_pearson_std = float(row[prefix + \"pearson_std\"])\n",
    "\n",
    "        if float(row[prefix + \"ll\"]) > best_ll:\n",
    "            best_ll = float(row[prefix + \"ll\"])\n",
    "            best_ll_std = float(row[prefix + \"ll_std\"])\n",
    "\n",
    "        if float(row[prefix + \"lml\"]) > best_lml:\n",
    "            best_lml = float(row[prefix + \"lml\"])\n",
    "            best_lml_std = float(row[prefix + \"lml_std\"])\n",
    "\n",
    "        if float(row[prefix + \"mse\"]) > best_mse:\n",
    "            best_mse = float(row[prefix + \"mse\"])\n",
    "            best_mse_std = float(row[prefix + \"mse_std\"])\n",
    "        \n",
    "        if float(row[prefix + \"qce\"]) < best_qce:\n",
    "            best_qce = float(row[prefix + \"qce\"])\n",
    "            best_qce_std = float(row[prefix + \"qce_std\"])\n",
    "        \n",
    "        if abs(float(row[prefix + \"sqce\"])) < best_sqce:\n",
    "            best_sqce = abs(float(row[prefix + \"sqce\"]))\n",
    "            best_sqce_std = float(row[prefix + \"sqce_std\"])\n",
    "\n",
    "    best_pearson -= best_pearson_std\n",
    "    best_ll -= best_ll_std\n",
    "    best_lml -= best_lml_std\n",
    "    best_mse += best_mse_std\n",
    "    best_qce += best_qce_std\n",
    "    best_sqce = abs(best_sqce) + best_sqce_std\n",
    "\n",
    "    for algo, name in algo_names:\n",
    "        row = data[data[\"model\"] == algo]\n",
    "        print(f\"    {name} & {num(row[prefix + 'pearson'], row[prefix + 'pearson_std'], best_pearson, 'max')} & {num(row[prefix + 'll'], row[prefix + 'll_std'], best_ll, 'max')} & {num(row[prefix + 'lml'], row[prefix + 'lml_std'], best_lml, 'max')} & {num(row[prefix + 'mse'], row[prefix + 'mse_std'], best_mse, 'min')} & {num(row[prefix + 'qce'], row[prefix + 'qce_std'], best_qce, 'min')} & {num(row[prefix + 'sqce'], row[prefix + 'sqce_std'], best_sqce, 'zero')} \\\\\\\\\")\n",
    "    print(\"\\\\end{tabular}\")\n",
    "create_table(data, \"ood \")"
   ]
  },
  {
   "cell_type": "code",
   "execution_count": null,
   "metadata": {},
   "outputs": [],
   "source": []
  }
 ],
 "metadata": {
  "kernelspec": {
   "display_name": "bdl2",
   "language": "python",
   "name": "python3"
  },
  "language_info": {
   "codemirror_mode": {
    "name": "ipython",
    "version": 3
   },
   "file_extension": ".py",
   "mimetype": "text/x-python",
   "name": "python",
   "nbconvert_exporter": "python",
   "pygments_lexer": "ipython3",
   "version": "3.10.10"
  },
  "orig_nbformat": 4
 },
 "nbformat": 4,
 "nbformat_minor": 2
}
