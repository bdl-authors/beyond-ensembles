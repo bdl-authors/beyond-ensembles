{
 "cells": [
  {
   "cell_type": "code",
   "execution_count": 1,
   "metadata": {},
   "outputs": [
    {
     "name": "stderr",
     "output_type": "stream",
     "text": [
      "Failed to detect the name of this notebook, you can set it manually with the WANDB_NOTEBOOK_NAME environment variable to enable code saving.\n"
     ]
    },
    {
     "data": {
      "text/plain": []
     },
     "execution_count": 1,
     "metadata": {},
     "output_type": "execute_result"
    }
   ],
   "source": [
    "%load_ext autoreload\n",
    "%autoreload 2\n",
    "\n",
    "import sys\n",
    "sys.path.append(\"../../\")\n",
    "\n",
    "import torch\n",
    "import torch.nn as nn\n",
    "import torch.nn.functional as F\n",
    "import math\n",
    "\n",
    "DATA_PATH = \"../data\"\n",
    "\n",
    "if torch.cuda.is_available():\n",
    "    device = torch.device(\"cuda\")\n",
    "else:\n",
    "    device = torch.device(\"cpu\")\n",
    "\n",
    "from src.log_mock import PrintLog\n",
    "log = PrintLog()\n",
    "\n",
    "import wandb\n",
    "\n",
    "wandb.init(mode=\"disabled\")"
   ]
  },
  {
   "cell_type": "code",
   "execution_count": 2,
   "metadata": {},
   "outputs": [],
   "source": [
    "wapi = wandb.Api()\n",
    "runs = wapi.runs(\"foobar/fmow\")"
   ]
  },
  {
   "cell_type": "code",
   "execution_count": 3,
   "metadata": {},
   "outputs": [
    {
     "name": "stdout",
     "output_type": "stream",
     "text": [
      "swag_ll-1-(3) dict_keys(['train_loss', 'val_results', 'test_results', 'id_val_results', 'eval', '_wandb', '_runtime', '_timestamp', '_step'])\n",
      "swag_ll-1-(2) dict_keys(['_timestamp', 'val_results', 'id_val_results', 'eval', '_step', '_wandb', '_runtime', 'train_loss', 'test_results'])\n",
      "swag_ll-1-(1) dict_keys(['_step', '_wandb', '_runtime', '_timestamp', 'train_loss', 'test_results', 'eval', 'val_results', 'id_val_results'])\n",
      "swag_ll-1-(0) dict_keys(['_step', 'val_results', 'test_results', 'eval', '_wandb', '_runtime', '_timestamp', 'train_loss', 'id_val_results'])\n",
      "swag_ll-1-(2) dict_keys(['_wandb'])\n",
      "swag_ll-1-(5) dict_keys(['_wandb'])\n",
      "swag_ll-1-(4) dict_keys(['_wandb'])\n",
      "swag_ll-1-(0) dict_keys(['_wandb'])\n",
      "swag_ll-1-(1) dict_keys(['_wandb'])\n",
      "swag_ll-1-(3) dict_keys(['_wandb'])\n",
      "ll_ivon-5-(3) dict_keys(['_step', '_wandb', '_runtime', '_timestamp', 'val_results', 'test_results', 'id_val_results'])\n",
      "ll_ivon-5-(1) dict_keys(['test_results', 'id_val_results', '_step', '_wandb', '_runtime', '_timestamp', 'val_results'])\n",
      "ll_ivon-5-(4) dict_keys(['_step', '_wandb', '_runtime', '_timestamp', 'val_results', 'test_results', 'id_val_results'])\n",
      "ll_ivon-5-(2) dict_keys(['test_results', 'id_val_results', '_step', '_wandb', '_runtime', '_timestamp', 'val_results'])\n",
      "ll_ivon-5-(0) dict_keys(['_step', '_wandb', '_runtime', '_timestamp', 'val_results', 'test_results', 'id_val_results'])\n",
      "ll_ivon-1-(0) dict_keys(['id_val_results', 'eval', '_timestamp', 'train_loss', 'val_results', '_step', '_wandb', '_runtime', 'test_results'])\n",
      "ll_ivon-1-(5) dict_keys(['_runtime', '_timestamp', 'train_loss', 'val_results', 'test_results', '_step', '_wandb', 'id_val_results', 'eval'])\n",
      "ll_ivon-1-(2) dict_keys(['_wandb', '_timestamp', 'val_results', 'id_val_results', 'eval', '_runtime', 'train_loss', 'test_results', '_step'])\n",
      "ll_ivon-1-(1) dict_keys(['_wandb', '_runtime', '_timestamp', 'test_results', 'id_val_results', 'eval', '_step', 'train_loss', 'val_results'])\n",
      "ll_ivon-1-(4) dict_keys(['val_results', 'test_results', '_wandb', '_runtime', '_timestamp', 'train_loss', 'id_val_results', 'eval', '_step'])\n",
      "ll_ivon-1-(3) dict_keys(['eval', '_step', 'train_loss', 'val_results', 'test_results', 'id_val_results', '_wandb', '_runtime', '_timestamp'])\n",
      "ll_ivon_p100-1-(0) dict_keys(['id_val_results', 'eval', '_wandb', '_runtime', 'train_loss', 'test_results', '_step', '_timestamp', 'val_results'])\n",
      "ll_ivon_p500-1-(0) dict_keys(['_step', 'val_results', 'test_results', 'id_val_results', 'train_loss', 'eval', '_wandb', '_runtime', '_timestamp'])\n",
      "laplace-5-0 dict_keys(['_wandb'])\n",
      "laplace-1-(0) dict_keys(['test_results', 'id_val_results', '_step', '_wandb', '_runtime', '_timestamp', 'val_results'])\n",
      "laplace-1-(5) dict_keys([])\n",
      "laplace-5-4 dict_keys(['val_results', 'test_results', 'id_val_results', '_step', '_wandb', '_runtime', '_timestamp'])\n",
      "laplace-1-(4) dict_keys(['test_results', 'id_val_results', '_step', '_wandb', '_runtime', '_timestamp', 'val_results'])\n",
      "laplace-5-3 dict_keys(['val_results', 'test_results', 'id_val_results', '_step', '_wandb', '_runtime', '_timestamp'])\n",
      "laplace-1-(3) dict_keys(['_step', '_wandb', '_runtime', '_timestamp', 'val_results', 'test_results', 'id_val_results'])\n",
      "laplace-5-2 dict_keys(['_runtime', '_timestamp', 'val_results', 'test_results', 'id_val_results', '_step', '_wandb'])\n",
      "laplace-1-(2) dict_keys(['val_results', 'test_results', 'id_val_results', '_step', '_wandb', '_runtime', '_timestamp'])\n",
      "laplace-5-1 dict_keys(['_wandb', '_runtime', '_timestamp', 'val_results', 'test_results', 'id_val_results', '_step'])\n",
      "laplace-1-(1) dict_keys(['id_val_results', '_step', '_wandb', '_runtime', '_timestamp', 'val_results', 'test_results'])\n",
      "laplace-5-0 dict_keys(['_step', '_wandb', '_runtime', '_timestamp', 'val_results', 'test_results', 'id_val_results'])\n",
      "laplace-1-(0) dict_keys(['_wandb', '_runtime', '_timestamp', 'val_results', 'test_results', 'id_val_results', '_step'])\n",
      "laplace-1-(0) dict_keys(['id_val_results', '_step', '_wandb', '_runtime', '_timestamp', 'val_results', 'test_results'])\n",
      "svgd-1-(3) dict_keys(['_runtime', '_timestamp', 'train_loss', 'val_results', 'test_results', 'eval', '_step', '_wandb', 'id_val_results'])\n",
      "svgd-1-(1) dict_keys(['eval', '_runtime', 'train_loss', 'val_results', 'id_val_results', '_step', '_wandb', '_timestamp', 'test_results'])\n",
      "svgd-1-(2) dict_keys(['eval', '_step', '_wandb', '_runtime', '_timestamp', 'train_loss', 'val_results', 'test_results', 'id_val_results'])\n",
      "svgd-1-(0) dict_keys(['val_results', '_step', '_wandb', '_runtime', '_timestamp', 'train_loss', 'eval', 'test_results', 'id_val_results'])\n",
      "svgd-1-(4) dict_keys(['_timestamp', '_step', '_wandb', 'train_loss', 'val_results', 'test_results', 'id_val_results', 'eval', '_runtime'])\n",
      "bbb-5-(1) dict_keys(['val_results', 'test_results', 'id_val_results', '_step', '_wandb', '_runtime', '_timestamp'])\n",
      "bbb-5-(0) dict_keys(['test_results', 'id_val_results', '_step', '_wandb', '_runtime', '_timestamp', 'val_results'])\n",
      "bbb-5-(4) dict_keys(['test_results', 'id_val_results', '_step', '_wandb', '_runtime', '_timestamp', 'val_results'])\n",
      "bbb-5-(3) dict_keys(['_timestamp', 'val_results', 'test_results', 'id_val_results', '_step', '_wandb', '_runtime'])\n",
      "bbb-5-(2) dict_keys(['val_results', 'test_results', 'id_val_results', '_step', '_wandb', '_runtime', '_timestamp'])\n",
      "svgd-1-(4) dict_keys(['_step', '_runtime', '_timestamp', 'train_loss'])\n",
      "svgd-1-(1) dict_keys(['_step', '_runtime', '_timestamp', 'train_loss'])\n",
      "svgd-1-(3) dict_keys(['_step', '_runtime', '_timestamp', 'train_loss'])\n",
      "svgd-1-(2) dict_keys(['_step', '_runtime', '_timestamp', 'train_loss'])\n",
      "rank1-1-(4) dict_keys(['_runtime', '_timestamp', 'val_results', 'test_results', '_wandb', '_step', 'train_loss', 'id_val_results', 'eval'])\n",
      "rank1-1-(3) dict_keys(['eval', '_step', '_wandb', '_runtime', '_timestamp', 'train_loss', 'val_results', 'test_results', 'id_val_results'])\n",
      "svgd-1-(0) dict_keys(['_runtime', '_timestamp', 'train_loss', '_step'])\n",
      "rank1-1-(2) dict_keys(['val_results', 'eval', '_timestamp', '_runtime', 'train_loss', 'test_results', 'id_val_results', '_step', '_wandb'])\n",
      "rank1-1-(1) dict_keys(['test_results', 'eval', '_timestamp', 'val_results', 'train_loss', 'id_val_results', '_step', '_wandb', '_runtime'])\n",
      "rank1-1-(0) dict_keys(['_wandb', '_runtime', '_timestamp', 'val_results', 'id_val_results', 'eval', '_step', 'train_loss', 'test_results'])\n",
      "swag-5-(4) dict_keys(['_runtime', '_timestamp', 'val_results', 'test_results', 'id_val_results', '_step', '_wandb'])\n",
      "swag-5-(3) dict_keys(['_step', '_wandb', '_runtime', '_timestamp', 'val_results', 'test_results', 'id_val_results'])\n",
      "swag-5-(1) dict_keys(['test_results', 'id_val_results', '_step', '_wandb', '_runtime', '_timestamp', 'val_results'])\n",
      "mcd-5-(2) dict_keys(['id_val_results', '_step', '_wandb', '_runtime', '_timestamp', 'val_results', 'test_results'])\n",
      "mcd-5-(1) dict_keys(['_runtime', '_timestamp', 'val_results', 'test_results', 'id_val_results', '_step', '_wandb'])\n",
      "swag-5-(2) dict_keys(['_timestamp', 'val_results', 'test_results', 'id_val_results', '_step', '_wandb', '_runtime'])\n",
      "swag-5-(0) dict_keys(['_step', '_wandb', '_runtime', '_timestamp', 'val_results', 'test_results', 'id_val_results'])\n",
      "mcd-5-(0) dict_keys(['_runtime', '_timestamp', 'val_results', 'test_results', 'id_val_results', '_step', '_wandb'])\n",
      "mcd-5-(4) dict_keys(['_step', '_wandb', '_runtime', '_timestamp', 'val_results', 'test_results', 'id_val_results'])\n",
      "mcd-5-(3) dict_keys(['_timestamp', 'val_results', 'test_results', 'id_val_results', '_step', '_wandb', '_runtime'])\n",
      "map-5-(4) dict_keys(['_runtime', '_timestamp', 'val_results', 'test_results', 'id_val_results', '_step', '_wandb'])\n",
      "map-5-(3) dict_keys(['_timestamp', 'val_results', 'test_results', 'id_val_results', '_step', '_wandb', '_runtime'])\n",
      "map-5-(1) dict_keys(['test_results', 'id_val_results', '_step', '_wandb', '_runtime', '_timestamp', 'val_results'])\n",
      "map-5-(2) dict_keys(['_timestamp', 'val_results', 'test_results', 'id_val_results', '_step', '_wandb', '_runtime'])\n",
      "map-5-(0) dict_keys(['id_val_results', '_step', '_wandb', '_runtime', '_timestamp', 'val_results', 'test_results'])\n",
      "laplace-1-(5) dict_keys(['val_results', 'test_results', 'id_val_results', '_step', '_wandb', '_runtime', '_timestamp'])\n",
      "laplace-1-(4) dict_keys(['_runtime', '_timestamp', 'val_results', 'test_results', 'id_val_results', '_step', '_wandb'])\n",
      "laplace-1-(3) dict_keys(['val_results', 'test_results', 'id_val_results', '_step', '_wandb', '_runtime', '_timestamp'])\n",
      "laplace-1-(0) dict_keys(['_timestamp', 'val_results', 'test_results', 'id_val_results', '_step', '_wandb', '_runtime'])\n",
      "laplace-1-(1) dict_keys(['_runtime', '_timestamp', 'val_results', 'test_results', 'id_val_results', '_step', '_wandb'])\n",
      "laplace-1-(2) dict_keys(['id_val_results', '_step', '_wandb', '_runtime', '_timestamp', 'val_results', 'test_results'])\n",
      "swag-1-(5) dict_keys(['val_results', '_step', '_wandb', '_runtime', '_timestamp', 'train_loss', 'eval', 'test_results', 'id_val_results'])\n",
      "swag-1-(0) dict_keys(['eval', '_step', 'train_loss', 'test_results', '_wandb', '_runtime', '_timestamp', 'val_results', 'id_val_results'])\n",
      "swag-1-(4) dict_keys(['_wandb', '_runtime', '_timestamp', 'train_loss', 'val_results', 'eval', '_step', 'test_results', 'id_val_results'])\n",
      "swag-1-(2) dict_keys(['eval', 'test_results', '_runtime', '_timestamp', 'train_loss', 'val_results', 'id_val_results', '_step', '_wandb'])\n",
      "swag-1-(3) dict_keys(['train_loss', 'id_val_results', '_step', '_wandb', '_runtime', 'test_results', 'eval', '_timestamp', 'val_results'])\n",
      "swag-1-(1) dict_keys(['val_results', 'test_results', '_wandb', '_runtime', 'train_loss', 'id_val_results', 'eval', '_step', '_timestamp'])\n",
      "bbb-1-(5) dict_keys(['id_val_results', 'eval', '_wandb', '_runtime', 'train_loss', 'test_results', '_step', '_timestamp', 'val_results'])\n",
      "bbb-1-(4) dict_keys(['_wandb', 'train_loss', 'id_val_results', '_step', '_runtime', '_timestamp', 'val_results', 'test_results', 'eval'])\n",
      "bbb-1-(3) dict_keys(['_step', '_timestamp', 'val_results', 'test_results', 'id_val_results', 'eval', '_wandb', '_runtime', 'train_loss'])\n",
      "bbb-1-(2) dict_keys(['eval', '_step', '_wandb', '_runtime', 'train_loss', '_timestamp', 'val_results', 'test_results', 'id_val_results'])\n",
      "bbb-1-(1) dict_keys(['_timestamp', 'val_results', 'test_results', 'train_loss', 'id_val_results', 'eval', '_step', '_wandb', '_runtime'])\n",
      "bbb-1-(0) dict_keys(['id_val_results', '_step', '_wandb', '_runtime', '_timestamp', 'test_results', 'eval', 'train_loss', 'val_results'])\n",
      "swag-1-(5) dict_keys(['eval', '_runtime', 'test_results', 'id_val_results', '_step', '_wandb', '_timestamp', 'train_loss', 'val_results'])\n",
      "swag-1-(4) dict_keys(['test_results', 'id_val_results', '_wandb', 'val_results', '_runtime', '_timestamp', 'train_loss', 'eval', '_step'])\n",
      "swag-1-(3) dict_keys(['_runtime', '_timestamp', 'train_loss', 'val_results', 'id_val_results', '_step', '_wandb', 'eval', 'test_results'])\n",
      "swag-1-(2) dict_keys(['eval', 'train_loss', 'val_results', 'test_results', '_step', '_wandb', '_runtime', '_timestamp', 'id_val_results'])\n",
      "swag-1-(1) dict_keys(['val_results', 'test_results', 'id_val_results', 'eval', '_step', '_wandb', '_runtime', 'train_loss', '_timestamp'])\n",
      "swag-1-(0) dict_keys(['_step', '_wandb', '_timestamp', 'train_loss', 'val_results', 'test_results', 'eval', '_runtime', 'id_val_results'])\n",
      "mcd_p0.1-1-(5) dict_keys(['eval', '_step', '_runtime', 'id_val_results', '_wandb', '_timestamp', 'train_loss', 'val_results', 'test_results'])\n",
      "mcd_p0.1-1-(4) dict_keys(['_step', '_runtime', '_timestamp', 'train_loss', 'test_results', 'eval', '_wandb', 'val_results', 'id_val_results'])\n",
      "mcd_p0.1-1-(3) dict_keys(['_runtime', '_timestamp', 'train_loss', 'val_results', 'test_results', 'eval', '_wandb', '_step', 'id_val_results'])\n",
      "mcd_p0.1-1-(2) dict_keys(['train_loss', 'val_results', 'eval', '_runtime', '_timestamp', 'id_val_results', '_step', '_wandb', 'test_results'])\n",
      "mcd_p0.1-1-(1) dict_keys(['id_val_results', '_runtime', 'train_loss', 'val_results', '_timestamp', 'test_results', 'eval', '_step', '_wandb'])\n",
      "mcd_p0.1-1-(0) dict_keys(['eval', '_step', '_runtime', '_timestamp', 'val_results', '_wandb', 'train_loss', 'test_results', 'id_val_results'])\n",
      "mcd_p0.2-1-(5) dict_keys(['eval', '_step', '_wandb', '_timestamp', 'val_results', '_runtime', 'train_loss', 'test_results', 'id_val_results'])\n",
      "mcd_p0.2-1-(4) dict_keys(['test_results', 'id_val_results', '_step', '_wandb', '_runtime', '_timestamp', 'train_loss', 'eval', 'val_results'])\n",
      "mcd_p0.2-1-(3) dict_keys(['id_val_results', '_wandb', '_runtime', '_timestamp', 'train_loss', 'eval', '_step', 'val_results', 'test_results'])\n",
      "mcd_p0.2-1-(2) dict_keys(['_runtime', '_timestamp', 'train_loss', 'val_results', 'id_val_results', 'eval', '_wandb', 'test_results', '_step'])\n",
      "mcd_p0.2-1-(1) dict_keys(['val_results', 'test_results', 'id_val_results', '_wandb', 'train_loss', '_runtime', '_timestamp', 'eval', '_step'])\n",
      "mcd_p0.2-1-(0) dict_keys(['_runtime', '_timestamp', 'train_loss', 'val_results', 'id_val_results', '_step', '_wandb', 'test_results', 'eval'])\n",
      "map-1-(5) dict_keys(['train_loss', 'val_results', 'test_results', 'id_val_results', 'eval', '_step', '_wandb', '_runtime', '_timestamp'])\n",
      "map-1-(4) dict_keys(['_step', '_runtime', 'val_results', 'id_val_results', 'eval', '_wandb', '_timestamp', 'train_loss', 'test_results'])\n",
      "map-1-(3) dict_keys(['eval', '_wandb', '_timestamp', 'train_loss', 'id_val_results', '_step', '_runtime', 'val_results', 'test_results'])\n",
      "map-1-(2) dict_keys(['id_val_results', '_runtime', 'val_results', 'test_results', '_timestamp', 'train_loss', 'eval', '_step', '_wandb'])\n",
      "map-1-(1) dict_keys(['eval', '_wandb', '_runtime', '_timestamp', 'train_loss', 'test_results', '_step', 'val_results', 'id_val_results'])\n",
      "map-1-(0) dict_keys(['id_val_results', 'eval', '_wandb', '_runtime', 'val_results', 'test_results', '_step', '_timestamp', 'train_loss'])\n",
      "swag_p-1-(0) dict_keys(['eval', '_step', '_runtime', '_timestamp', '_wandb', 'train_loss', 'val_results', 'test_results', 'id_val_results'])\n",
      "mcd_p0.2-1-(3) dict_keys(['eval', '_step', '_wandb', '_timestamp', 'id_val_results', '_runtime', 'train_loss', 'val_results', 'test_results'])\n",
      "mcd_p0.2-1-(5) dict_keys(['id_val_results', '_step', '_wandb', '_runtime', 'val_results', 'test_results', 'eval', '_timestamp', 'train_loss'])\n",
      "mcd_p0.2-1-(4) dict_keys(['_step', '_runtime', 'val_results', 'eval', '_timestamp', 'train_loss', 'test_results', 'id_val_results', '_wandb'])\n",
      "mcd_p0.2-1-(2) dict_keys(['id_val_results', '_step', 'train_loss', 'val_results', '_timestamp', 'test_results', 'eval', '_wandb', '_runtime'])\n",
      "mcd_p0.2-1-(0) dict_keys(['_timestamp', 'test_results', '_step', '_wandb', '_runtime', 'train_loss', 'val_results', 'id_val_results', 'eval'])\n",
      "mcd_p0.2-1-(1) dict_keys(['eval', '_wandb', 'train_loss', 'id_val_results', '_step', '_runtime', '_timestamp', 'val_results', 'test_results'])\n",
      "bbb-1-(5) dict_keys(['eval', '_step', 'train_loss', 'val_results', '_wandb', '_runtime', '_timestamp', 'test_results', 'id_val_results'])\n",
      "bbb-1-(4) dict_keys(['_wandb', '_runtime', 'test_results', 'eval', '_step', '_timestamp', 'train_loss', 'val_results', 'id_val_results'])\n",
      "bbb-1-(3) dict_keys(['val_results', 'test_results', 'id_val_results', 'eval', '_step', '_runtime', '_timestamp', 'train_loss', '_wandb'])\n",
      "bbb-1-(2) dict_keys(['_step', 'val_results', 'eval', '_wandb', '_runtime', '_timestamp', 'train_loss', 'test_results', 'id_val_results'])\n",
      "bbb-1-(1) dict_keys(['eval', '_step', '_wandb', '_timestamp', 'test_results', 'id_val_results', '_runtime', 'train_loss', 'val_results'])\n",
      "bbb-1-(0) dict_keys(['_timestamp', 'train_loss', 'test_results', 'id_val_results', '_step', '_wandb', '_runtime', 'val_results', 'eval'])\n",
      "mcd_p0.1-1-(5) dict_keys(['eval', '_wandb', 'val_results', 'test_results', 'id_val_results', '_step', '_runtime', '_timestamp', 'train_loss'])\n",
      "mcd_p0.1-1-(4) dict_keys(['_wandb', 'train_loss', 'val_results', 'test_results', 'id_val_results', 'eval', '_step', '_runtime', '_timestamp'])\n",
      "mcd_p0.1-1-(2) dict_keys(['val_results', 'test_results', 'id_val_results', '_step', '_wandb', '_runtime', '_timestamp', 'eval', 'train_loss'])\n",
      "mcd_p0.1-1-(3) dict_keys(['train_loss', 'val_results', 'test_results', '_step', '_wandb', '_runtime', '_timestamp', 'eval', 'id_val_results'])\n",
      "mcd_p0.1-1-(0) dict_keys(['_step', 'val_results', 'eval', '_wandb', '_runtime', '_timestamp', 'train_loss', 'test_results', 'id_val_results'])\n",
      "map-1-(2) dict_keys(['_step', '_wandb', 'train_loss', 'val_results', 'id_val_results', 'eval', '_timestamp', 'test_results', '_runtime'])\n",
      "mcd_p0.1-1-(1) dict_keys(['val_results', 'id_val_results', 'eval', '_step', '_wandb', '_timestamp', 'train_loss', '_runtime', 'test_results'])\n",
      "map-1-(4) dict_keys(['eval', '_timestamp', 'train_loss', 'val_results', 'id_val_results', '_step', '_wandb', '_runtime', 'test_results'])\n",
      "map-1-(5) dict_keys(['_timestamp', 'train_loss', 'val_results', 'test_results', 'id_val_results', 'eval', '_wandb', '_runtime', '_step'])\n",
      "map-1-(3) dict_keys(['_step', '_wandb', '_runtime', 'train_loss', 'test_results', 'id_val_results', 'eval', '_timestamp', 'val_results'])\n",
      "map-1-(1) dict_keys(['id_val_results', 'eval', 'val_results', 'test_results', '_timestamp', 'train_loss', '_step', '_wandb', '_runtime'])\n",
      "map-1-(0) dict_keys(['eval', 'val_results', 'test_results', 'id_val_results', '_step', '_wandb', '_runtime', '_timestamp', 'train_loss'])\n",
      "map-1-(0) dict_keys(['_step', '_wandb', '_runtime', 'val_results', 'test_results', 'id_val_results', 'eval', 'train_loss', '_timestamp'])\n"
     ]
    }
   ],
   "source": [
    "for run in runs:\n",
    "    print(run.name, run.summary.keys())"
   ]
  },
  {
   "cell_type": "code",
   "execution_count": 4,
   "metadata": {},
   "outputs": [],
   "source": [
    "import plotly.express as px\n",
    "import pandas as pd\n",
    "import dateutil\n",
    "import datetime\n",
    "\n",
    "def create_plot_data_for_run(run):\n",
    "    parts = run.name.split(\"-\")\n",
    "    if len(parts) > 2:\n",
    "        model_name = parts[0] + \"-\" + parts[1]\n",
    "    else:\n",
    "        model_name = parts[0]\n",
    "\n",
    "    worst_acc = 1\n",
    "    worst_acc_group = \"None\"\n",
    "    for name, results in run.summary[\"test_results\"].items():\n",
    "        if \"region\" in name and name != \"worst_region_acc\":\n",
    "            if results[\"accuracy\"] < worst_acc:\n",
    "                worst_acc = results[\"accuracy\"]\n",
    "                worst_acc_group = name\n",
    "\n",
    "    return {\n",
    "        \"model\": model_name,\n",
    "        \"worst_region_acc\": run.summary[\"test_results\"][\"worst_region_acc\"],\n",
    "        \"all accuracy\": run.summary[\"test_results\"][\"all\"][\"accuracy\"],\n",
    "        \"all log likelihood\": run.summary[\"test_results\"][\"all\"][\"log_likelihood\"],\n",
    "        \"all ece\": run.summary[\"test_results\"][\"all\"][\"ece\"],\n",
    "        \"all sece\": run.summary[\"test_results\"][\"all\"][\"sece\"],\n",
    "        \"worst_acc accuracy\": run.summary[\"test_results\"][worst_acc_group][\"accuracy\"],\n",
    "        \"worst_acc sece\": run.summary[\"test_results\"][worst_acc_group][\"sece\"],\n",
    "        \"worst_acc ece\": run.summary[\"test_results\"][worst_acc_group][\"ece\"],\n",
    "        \"worst_acc log_likelihood\": run.summary[\"test_results\"][worst_acc_group][\"log_likelihood\"]\n",
    "    }\n",
    "\n",
    "def plot(data, value):\n",
    "    plot = px.box(data, x=\"model\", y=value, color=\"model\")\n",
    "    return plot\n",
    "\n",
    "def pareto_plot(data, x, y):\n",
    "    plot = px.scatter(data, x=x, error_x=f\"{x}_std\", y=y, error_y=f\"{y}_std\", color=\"model\")\n",
    "    return plot\n",
    "\n",
    "def build_data(runs):\n",
    "    rows = []\n",
    "    for run in runs:\n",
    "        if dateutil.parser.parse(run.created_at) < datetime.datetime(2023, 3, 10, 10, 0):\n",
    "            continue\n",
    "        if run.state != \"finished\":\n",
    "            continue\n",
    "        if \"old\" in run.tags:\n",
    "            print(\"Skipping old run \" + run.name)\n",
    "            continue\n",
    "        if \"test_results\" not in run.summary:\n",
    "            print(\"Skipping crashed run \" + run.name)\n",
    "            continue\n",
    "        rows.append(create_plot_data_for_run(run))\n",
    "    return pd.DataFrame.from_dict(rows)\n",
    "\n",
    "def aggregate_data(data):\n",
    "    aggregated_data = data.groupby([\"model\"]).agg({\n",
    "        \"model\": \"first\",\n",
    "        \"worst_region_acc\": [\"mean\", \"sem\"],\n",
    "        \"all accuracy\": [\"mean\", \"sem\"],\n",
    "        \"all log likelihood\": [\"mean\", \"sem\"], \n",
    "        \"all sece\": [\"mean\", \"sem\"],\n",
    "        \"all ece\": [\"mean\", \"sem\"],\n",
    "        \"worst_acc accuracy\": [\"mean\", \"sem\"],\n",
    "        \"worst_acc sece\": [\"mean\", \"sem\"],\n",
    "        \"worst_acc ece\": [\"mean\", \"sem\"],\n",
    "        \"worst_acc log_likelihood\": [\"mean\", \"sem\"],\n",
    "    })\n",
    "    aggregated_data.columns = [a[0] + \"_std\" if a[1] == \"sem\" else a[0] for a in aggregated_data.columns.to_flat_index()]\n",
    "    aggregated_data[\"worst_region_acc_std\"] *= 2.0\n",
    "    aggregated_data[\"all accuracy_std\"] *= 2.0\n",
    "    aggregated_data[\"all log likelihood_std\"] *= 2.0\n",
    "    aggregated_data[\"all sece_std\"] *= 2.0\n",
    "    aggregated_data[\"all ece_std\"] *= 2.0\n",
    "    aggregated_data[\"worst_acc accuracy_std\"] *= 2.0\n",
    "    aggregated_data[\"worst_acc sece_std\"] *= 2.0\n",
    "    aggregated_data[\"worst_acc ece_std\"] *= 2.0\n",
    "    aggregated_data[\"worst_acc log_likelihood_std\"] *= 2.0\n",
    "    return aggregated_data"
   ]
  },
  {
   "cell_type": "code",
   "execution_count": 5,
   "metadata": {},
   "outputs": [
    {
     "name": "stdout",
     "output_type": "stream",
     "text": [
      "Skipping crashed run swag_ll-1-(2)\n",
      "Skipping crashed run swag_ll-1-(5)\n",
      "Skipping crashed run swag_ll-1-(4)\n",
      "Skipping crashed run swag_ll-1-(0)\n",
      "Skipping crashed run swag_ll-1-(1)\n",
      "Skipping crashed run swag_ll-1-(3)\n",
      "Skipping crashed run laplace-5-0\n",
      "Skipping old run laplace-1-(0)\n",
      "Skipping old run laplace-1-(5)\n",
      "Skipping old run laplace-1-(4)\n",
      "Skipping old run laplace-1-(3)\n",
      "Skipping old run laplace-1-(0)\n",
      "Skipping old run laplace-1-(1)\n",
      "Skipping old run laplace-1-(2)\n",
      "Skipping old run swag-1-(5)\n",
      "Skipping old run swag-1-(4)\n",
      "Skipping old run swag-1-(3)\n",
      "Skipping old run swag-1-(2)\n",
      "Skipping old run swag-1-(1)\n",
      "Skipping old run swag-1-(0)\n",
      "Skipping old run swag_p-1-(0)\n",
      "Skipping old run bbb-1-(5)\n",
      "Skipping old run bbb-1-(4)\n",
      "Skipping old run bbb-1-(3)\n",
      "Skipping old run bbb-1-(2)\n",
      "Skipping old run bbb-1-(1)\n",
      "Skipping old run bbb-1-(0)\n",
      "Skipping old run mcd_p0.1-1-(5)\n",
      "Skipping old run mcd_p0.1-1-(4)\n",
      "Skipping old run mcd_p0.1-1-(2)\n",
      "Skipping old run mcd_p0.1-1-(3)\n",
      "Skipping old run mcd_p0.1-1-(0)\n",
      "Skipping old run map-1-(2)\n",
      "Skipping old run mcd_p0.1-1-(1)\n",
      "Skipping old run map-1-(4)\n",
      "Skipping old run map-1-(5)\n",
      "Skipping old run map-1-(3)\n",
      "Skipping old run map-1-(1)\n",
      "Skipping old run map-1-(0)\n",
      "Skipping old run map-1-(0)\n"
     ]
    }
   ],
   "source": [
    "data = aggregate_data(build_data(runs))"
   ]
  },
  {
   "cell_type": "code",
   "execution_count": 6,
   "metadata": {},
   "outputs": [
    {
     "data": {
      "text/html": [
       "<div>\n",
       "<style scoped>\n",
       "    .dataframe tbody tr th:only-of-type {\n",
       "        vertical-align: middle;\n",
       "    }\n",
       "\n",
       "    .dataframe tbody tr th {\n",
       "        vertical-align: top;\n",
       "    }\n",
       "\n",
       "    .dataframe thead th {\n",
       "        text-align: right;\n",
       "    }\n",
       "</style>\n",
       "<table border=\"1\" class=\"dataframe\">\n",
       "  <thead>\n",
       "    <tr style=\"text-align: right;\">\n",
       "      <th></th>\n",
       "      <th>model</th>\n",
       "      <th>worst_region_acc</th>\n",
       "      <th>worst_region_acc_std</th>\n",
       "      <th>all accuracy</th>\n",
       "      <th>all accuracy_std</th>\n",
       "      <th>all log likelihood</th>\n",
       "      <th>all log likelihood_std</th>\n",
       "      <th>all sece</th>\n",
       "      <th>all sece_std</th>\n",
       "      <th>all ece</th>\n",
       "      <th>all ece_std</th>\n",
       "      <th>worst_acc accuracy</th>\n",
       "      <th>worst_acc accuracy_std</th>\n",
       "      <th>worst_acc sece</th>\n",
       "      <th>worst_acc sece_std</th>\n",
       "      <th>worst_acc ece</th>\n",
       "      <th>worst_acc ece_std</th>\n",
       "      <th>worst_acc log_likelihood</th>\n",
       "      <th>worst_acc log_likelihood_std</th>\n",
       "    </tr>\n",
       "    <tr>\n",
       "      <th>model</th>\n",
       "      <th></th>\n",
       "      <th></th>\n",
       "      <th></th>\n",
       "      <th></th>\n",
       "      <th></th>\n",
       "      <th></th>\n",
       "      <th></th>\n",
       "      <th></th>\n",
       "      <th></th>\n",
       "      <th></th>\n",
       "      <th></th>\n",
       "      <th></th>\n",
       "      <th></th>\n",
       "      <th></th>\n",
       "      <th></th>\n",
       "      <th></th>\n",
       "      <th></th>\n",
       "      <th></th>\n",
       "      <th></th>\n",
       "    </tr>\n",
       "  </thead>\n",
       "  <tbody>\n",
       "    <tr>\n",
       "      <th>bbb-1</th>\n",
       "      <td>bbb-1</td>\n",
       "      <td>0.305502</td>\n",
       "      <td>0.007895</td>\n",
       "      <td>0.508654</td>\n",
       "      <td>0.003198</td>\n",
       "      <td>-4.250698</td>\n",
       "      <td>0.052966</td>\n",
       "      <td>-0.292621</td>\n",
       "      <td>0.002660</td>\n",
       "      <td>0.292621</td>\n",
       "      <td>0.002660</td>\n",
       "      <td>0.305502</td>\n",
       "      <td>0.007895</td>\n",
       "      <td>-0.447760</td>\n",
       "      <td>0.009660</td>\n",
       "      <td>0.447876</td>\n",
       "      <td>0.009653</td>\n",
       "      <td>-6.673707</td>\n",
       "      <td>0.342666</td>\n",
       "    </tr>\n",
       "    <tr>\n",
       "      <th>bbb-5</th>\n",
       "      <td>bbb-5</td>\n",
       "      <td>0.339452</td>\n",
       "      <td>0.006172</td>\n",
       "      <td>0.561019</td>\n",
       "      <td>0.001310</td>\n",
       "      <td>-2.617455</td>\n",
       "      <td>0.007514</td>\n",
       "      <td>-0.101704</td>\n",
       "      <td>0.001357</td>\n",
       "      <td>0.101704</td>\n",
       "      <td>0.001357</td>\n",
       "      <td>0.339452</td>\n",
       "      <td>0.006172</td>\n",
       "      <td>-0.233121</td>\n",
       "      <td>0.007834</td>\n",
       "      <td>0.233121</td>\n",
       "      <td>0.007834</td>\n",
       "      <td>-4.174393</td>\n",
       "      <td>0.084816</td>\n",
       "    </tr>\n",
       "    <tr>\n",
       "      <th>laplace-1</th>\n",
       "      <td>laplace-1</td>\n",
       "      <td>0.217123</td>\n",
       "      <td>0.012019</td>\n",
       "      <td>0.373952</td>\n",
       "      <td>0.013472</td>\n",
       "      <td>-5.872745</td>\n",
       "      <td>0.300547</td>\n",
       "      <td>-0.445054</td>\n",
       "      <td>0.012131</td>\n",
       "      <td>0.445060</td>\n",
       "      <td>0.012130</td>\n",
       "      <td>0.217123</td>\n",
       "      <td>0.012019</td>\n",
       "      <td>-0.583118</td>\n",
       "      <td>0.014738</td>\n",
       "      <td>0.583223</td>\n",
       "      <td>0.014781</td>\n",
       "      <td>-8.141227</td>\n",
       "      <td>0.415136</td>\n",
       "    </tr>\n",
       "    <tr>\n",
       "      <th>laplace-5</th>\n",
       "      <td>laplace-5</td>\n",
       "      <td>0.301118</td>\n",
       "      <td>0.004135</td>\n",
       "      <td>0.516890</td>\n",
       "      <td>0.002044</td>\n",
       "      <td>-2.743831</td>\n",
       "      <td>0.017199</td>\n",
       "      <td>0.020211</td>\n",
       "      <td>0.001660</td>\n",
       "      <td>0.059305</td>\n",
       "      <td>0.002124</td>\n",
       "      <td>0.301118</td>\n",
       "      <td>0.004135</td>\n",
       "      <td>-0.123035</td>\n",
       "      <td>0.004166</td>\n",
       "      <td>0.123035</td>\n",
       "      <td>0.004166</td>\n",
       "      <td>-4.085591</td>\n",
       "      <td>0.046997</td>\n",
       "    </tr>\n",
       "    <tr>\n",
       "      <th>ll_ivon-1</th>\n",
       "      <td>ll_ivon-1</td>\n",
       "      <td>0.300296</td>\n",
       "      <td>0.008917</td>\n",
       "      <td>0.505262</td>\n",
       "      <td>0.002679</td>\n",
       "      <td>-3.106737</td>\n",
       "      <td>0.023407</td>\n",
       "      <td>-0.348323</td>\n",
       "      <td>0.002462</td>\n",
       "      <td>0.348331</td>\n",
       "      <td>0.002453</td>\n",
       "      <td>0.300296</td>\n",
       "      <td>0.008917</td>\n",
       "      <td>-0.514225</td>\n",
       "      <td>0.008780</td>\n",
       "      <td>0.514225</td>\n",
       "      <td>0.008780</td>\n",
       "      <td>-4.556923</td>\n",
       "      <td>0.112206</td>\n",
       "    </tr>\n",
       "    <tr>\n",
       "      <th>ll_ivon-5</th>\n",
       "      <td>ll_ivon-5</td>\n",
       "      <td>0.340609</td>\n",
       "      <td>0.004493</td>\n",
       "      <td>0.559662</td>\n",
       "      <td>0.001205</td>\n",
       "      <td>-2.060377</td>\n",
       "      <td>0.009235</td>\n",
       "      <td>-0.112013</td>\n",
       "      <td>0.001672</td>\n",
       "      <td>0.112013</td>\n",
       "      <td>0.001672</td>\n",
       "      <td>0.340609</td>\n",
       "      <td>0.004493</td>\n",
       "      <td>-0.241298</td>\n",
       "      <td>0.003980</td>\n",
       "      <td>0.241420</td>\n",
       "      <td>0.004038</td>\n",
       "      <td>-3.176987</td>\n",
       "      <td>0.022844</td>\n",
       "    </tr>\n",
       "    <tr>\n",
       "      <th>ll_ivon_p100-1</th>\n",
       "      <td>ll_ivon_p100-1</td>\n",
       "      <td>0.292325</td>\n",
       "      <td>NaN</td>\n",
       "      <td>0.506649</td>\n",
       "      <td>NaN</td>\n",
       "      <td>-3.438700</td>\n",
       "      <td>NaN</td>\n",
       "      <td>-0.342936</td>\n",
       "      <td>NaN</td>\n",
       "      <td>0.342936</td>\n",
       "      <td>NaN</td>\n",
       "      <td>0.292325</td>\n",
       "      <td>NaN</td>\n",
       "      <td>-0.513999</td>\n",
       "      <td>NaN</td>\n",
       "      <td>0.513999</td>\n",
       "      <td>NaN</td>\n",
       "      <td>-5.133786</td>\n",
       "      <td>NaN</td>\n",
       "    </tr>\n",
       "    <tr>\n",
       "      <th>ll_ivon_p500-1</th>\n",
       "      <td>ll_ivon_p500-1</td>\n",
       "      <td>0.313536</td>\n",
       "      <td>NaN</td>\n",
       "      <td>0.512529</td>\n",
       "      <td>NaN</td>\n",
       "      <td>-3.088313</td>\n",
       "      <td>NaN</td>\n",
       "      <td>-0.341564</td>\n",
       "      <td>NaN</td>\n",
       "      <td>0.341599</td>\n",
       "      <td>NaN</td>\n",
       "      <td>0.313536</td>\n",
       "      <td>NaN</td>\n",
       "      <td>-0.513990</td>\n",
       "      <td>NaN</td>\n",
       "      <td>0.513990</td>\n",
       "      <td>NaN</td>\n",
       "      <td>-4.645092</td>\n",
       "      <td>NaN</td>\n",
       "    </tr>\n",
       "    <tr>\n",
       "      <th>map-1</th>\n",
       "      <td>map-1</td>\n",
       "      <td>0.310066</td>\n",
       "      <td>0.007820</td>\n",
       "      <td>0.517882</td>\n",
       "      <td>0.003051</td>\n",
       "      <td>-3.502953</td>\n",
       "      <td>0.025069</td>\n",
       "      <td>-0.352619</td>\n",
       "      <td>0.002421</td>\n",
       "      <td>0.352622</td>\n",
       "      <td>0.002420</td>\n",
       "      <td>0.310066</td>\n",
       "      <td>0.007820</td>\n",
       "      <td>-0.526066</td>\n",
       "      <td>0.008797</td>\n",
       "      <td>0.526229</td>\n",
       "      <td>0.008710</td>\n",
       "      <td>-5.439209</td>\n",
       "      <td>0.116967</td>\n",
       "    </tr>\n",
       "    <tr>\n",
       "      <th>map-5</th>\n",
       "      <td>map-5</td>\n",
       "      <td>0.342383</td>\n",
       "      <td>0.003366</td>\n",
       "      <td>0.569341</td>\n",
       "      <td>0.001367</td>\n",
       "      <td>-2.140510</td>\n",
       "      <td>0.005768</td>\n",
       "      <td>-0.128129</td>\n",
       "      <td>0.001030</td>\n",
       "      <td>0.128129</td>\n",
       "      <td>0.001030</td>\n",
       "      <td>0.342383</td>\n",
       "      <td>0.003366</td>\n",
       "      <td>-0.270757</td>\n",
       "      <td>0.004468</td>\n",
       "      <td>0.270757</td>\n",
       "      <td>0.004468</td>\n",
       "      <td>-3.446131</td>\n",
       "      <td>0.007291</td>\n",
       "    </tr>\n",
       "    <tr>\n",
       "      <th>mcd-5</th>\n",
       "      <td>mcd-5</td>\n",
       "      <td>0.352642</td>\n",
       "      <td>0.004888</td>\n",
       "      <td>0.570789</td>\n",
       "      <td>0.000420</td>\n",
       "      <td>-2.149875</td>\n",
       "      <td>0.007204</td>\n",
       "      <td>-0.121717</td>\n",
       "      <td>0.001152</td>\n",
       "      <td>0.121717</td>\n",
       "      <td>0.001152</td>\n",
       "      <td>0.352642</td>\n",
       "      <td>0.004888</td>\n",
       "      <td>-0.253430</td>\n",
       "      <td>0.005067</td>\n",
       "      <td>0.253430</td>\n",
       "      <td>0.005067</td>\n",
       "      <td>-3.476759</td>\n",
       "      <td>0.029919</td>\n",
       "    </tr>\n",
       "    <tr>\n",
       "      <th>mcd_p0.1-1</th>\n",
       "      <td>mcd_p0.1-1</td>\n",
       "      <td>0.307237</td>\n",
       "      <td>0.009143</td>\n",
       "      <td>0.515055</td>\n",
       "      <td>0.002222</td>\n",
       "      <td>-3.489343</td>\n",
       "      <td>0.035537</td>\n",
       "      <td>-0.348806</td>\n",
       "      <td>0.003589</td>\n",
       "      <td>0.348806</td>\n",
       "      <td>0.003589</td>\n",
       "      <td>0.307237</td>\n",
       "      <td>0.009143</td>\n",
       "      <td>-0.520165</td>\n",
       "      <td>0.011325</td>\n",
       "      <td>0.520165</td>\n",
       "      <td>0.011325</td>\n",
       "      <td>-5.400000</td>\n",
       "      <td>0.118006</td>\n",
       "    </tr>\n",
       "    <tr>\n",
       "      <th>mcd_p0.2-1</th>\n",
       "      <td>mcd_p0.2-1</td>\n",
       "      <td>0.303606</td>\n",
       "      <td>0.005199</td>\n",
       "      <td>0.508952</td>\n",
       "      <td>0.003948</td>\n",
       "      <td>-3.512744</td>\n",
       "      <td>0.050396</td>\n",
       "      <td>-0.346176</td>\n",
       "      <td>0.002358</td>\n",
       "      <td>0.346177</td>\n",
       "      <td>0.002357</td>\n",
       "      <td>0.303606</td>\n",
       "      <td>0.005199</td>\n",
       "      <td>-0.512923</td>\n",
       "      <td>0.004991</td>\n",
       "      <td>0.512998</td>\n",
       "      <td>0.004964</td>\n",
       "      <td>-5.363067</td>\n",
       "      <td>0.126364</td>\n",
       "    </tr>\n",
       "    <tr>\n",
       "      <th>rank1-1</th>\n",
       "      <td>rank1-1</td>\n",
       "      <td>0.296182</td>\n",
       "      <td>0.006720</td>\n",
       "      <td>0.512475</td>\n",
       "      <td>0.003069</td>\n",
       "      <td>-2.995003</td>\n",
       "      <td>0.036858</td>\n",
       "      <td>-0.328213</td>\n",
       "      <td>0.003298</td>\n",
       "      <td>0.328213</td>\n",
       "      <td>0.003298</td>\n",
       "      <td>0.296182</td>\n",
       "      <td>0.006720</td>\n",
       "      <td>-0.497049</td>\n",
       "      <td>0.003743</td>\n",
       "      <td>0.497049</td>\n",
       "      <td>0.003743</td>\n",
       "      <td>-4.644519</td>\n",
       "      <td>0.146984</td>\n",
       "    </tr>\n",
       "    <tr>\n",
       "      <th>svgd-1</th>\n",
       "      <td>svgd-1</td>\n",
       "      <td>0.310374</td>\n",
       "      <td>0.006587</td>\n",
       "      <td>0.516564</td>\n",
       "      <td>0.003634</td>\n",
       "      <td>-3.558587</td>\n",
       "      <td>0.041493</td>\n",
       "      <td>-0.353513</td>\n",
       "      <td>0.003121</td>\n",
       "      <td>0.353555</td>\n",
       "      <td>0.003049</td>\n",
       "      <td>0.310374</td>\n",
       "      <td>0.006587</td>\n",
       "      <td>-0.525633</td>\n",
       "      <td>0.009193</td>\n",
       "      <td>0.525840</td>\n",
       "      <td>0.008957</td>\n",
       "      <td>-5.542445</td>\n",
       "      <td>0.082551</td>\n",
       "    </tr>\n",
       "    <tr>\n",
       "      <th>swag-1</th>\n",
       "      <td>swag-1</td>\n",
       "      <td>0.308459</td>\n",
       "      <td>0.009403</td>\n",
       "      <td>0.519518</td>\n",
       "      <td>0.003150</td>\n",
       "      <td>-3.149649</td>\n",
       "      <td>0.035409</td>\n",
       "      <td>-0.327381</td>\n",
       "      <td>0.002934</td>\n",
       "      <td>0.327381</td>\n",
       "      <td>0.002934</td>\n",
       "      <td>0.308459</td>\n",
       "      <td>0.009403</td>\n",
       "      <td>-0.500284</td>\n",
       "      <td>0.006757</td>\n",
       "      <td>0.500508</td>\n",
       "      <td>0.006702</td>\n",
       "      <td>-4.913188</td>\n",
       "      <td>0.074328</td>\n",
       "    </tr>\n",
       "    <tr>\n",
       "      <th>swag-5</th>\n",
       "      <td>swag-5</td>\n",
       "      <td>0.338064</td>\n",
       "      <td>0.003497</td>\n",
       "      <td>0.569504</td>\n",
       "      <td>0.001319</td>\n",
       "      <td>-2.015997</td>\n",
       "      <td>0.008152</td>\n",
       "      <td>-0.123512</td>\n",
       "      <td>0.001185</td>\n",
       "      <td>0.123512</td>\n",
       "      <td>0.001185</td>\n",
       "      <td>0.338064</td>\n",
       "      <td>0.003497</td>\n",
       "      <td>-0.270015</td>\n",
       "      <td>0.003327</td>\n",
       "      <td>0.270015</td>\n",
       "      <td>0.003327</td>\n",
       "      <td>-3.243122</td>\n",
       "      <td>0.016181</td>\n",
       "    </tr>\n",
       "    <tr>\n",
       "      <th>swag_ll-1</th>\n",
       "      <td>swag_ll-1</td>\n",
       "      <td>0.307462</td>\n",
       "      <td>0.006076</td>\n",
       "      <td>0.516193</td>\n",
       "      <td>0.004921</td>\n",
       "      <td>-3.264646</td>\n",
       "      <td>0.042278</td>\n",
       "      <td>-0.342640</td>\n",
       "      <td>0.004850</td>\n",
       "      <td>0.342640</td>\n",
       "      <td>0.004850</td>\n",
       "      <td>0.307462</td>\n",
       "      <td>0.006076</td>\n",
       "      <td>-0.513550</td>\n",
       "      <td>0.001503</td>\n",
       "      <td>0.513640</td>\n",
       "      <td>0.001413</td>\n",
       "      <td>-5.085281</td>\n",
       "      <td>0.053937</td>\n",
       "    </tr>\n",
       "  </tbody>\n",
       "</table>\n",
       "</div>"
      ],
      "text/plain": [
       "                         model  worst_region_acc  worst_region_acc_std  \\\n",
       "model                                                                    \n",
       "bbb-1                    bbb-1          0.305502              0.007895   \n",
       "bbb-5                    bbb-5          0.339452              0.006172   \n",
       "laplace-1            laplace-1          0.217123              0.012019   \n",
       "laplace-5            laplace-5          0.301118              0.004135   \n",
       "ll_ivon-1            ll_ivon-1          0.300296              0.008917   \n",
       "ll_ivon-5            ll_ivon-5          0.340609              0.004493   \n",
       "ll_ivon_p100-1  ll_ivon_p100-1          0.292325                   NaN   \n",
       "ll_ivon_p500-1  ll_ivon_p500-1          0.313536                   NaN   \n",
       "map-1                    map-1          0.310066              0.007820   \n",
       "map-5                    map-5          0.342383              0.003366   \n",
       "mcd-5                    mcd-5          0.352642              0.004888   \n",
       "mcd_p0.1-1          mcd_p0.1-1          0.307237              0.009143   \n",
       "mcd_p0.2-1          mcd_p0.2-1          0.303606              0.005199   \n",
       "rank1-1                rank1-1          0.296182              0.006720   \n",
       "svgd-1                  svgd-1          0.310374              0.006587   \n",
       "swag-1                  swag-1          0.308459              0.009403   \n",
       "swag-5                  swag-5          0.338064              0.003497   \n",
       "swag_ll-1            swag_ll-1          0.307462              0.006076   \n",
       "\n",
       "                all accuracy  all accuracy_std  all log likelihood  \\\n",
       "model                                                                \n",
       "bbb-1               0.508654          0.003198           -4.250698   \n",
       "bbb-5               0.561019          0.001310           -2.617455   \n",
       "laplace-1           0.373952          0.013472           -5.872745   \n",
       "laplace-5           0.516890          0.002044           -2.743831   \n",
       "ll_ivon-1           0.505262          0.002679           -3.106737   \n",
       "ll_ivon-5           0.559662          0.001205           -2.060377   \n",
       "ll_ivon_p100-1      0.506649               NaN           -3.438700   \n",
       "ll_ivon_p500-1      0.512529               NaN           -3.088313   \n",
       "map-1               0.517882          0.003051           -3.502953   \n",
       "map-5               0.569341          0.001367           -2.140510   \n",
       "mcd-5               0.570789          0.000420           -2.149875   \n",
       "mcd_p0.1-1          0.515055          0.002222           -3.489343   \n",
       "mcd_p0.2-1          0.508952          0.003948           -3.512744   \n",
       "rank1-1             0.512475          0.003069           -2.995003   \n",
       "svgd-1              0.516564          0.003634           -3.558587   \n",
       "swag-1              0.519518          0.003150           -3.149649   \n",
       "swag-5              0.569504          0.001319           -2.015997   \n",
       "swag_ll-1           0.516193          0.004921           -3.264646   \n",
       "\n",
       "                all log likelihood_std  all sece  all sece_std   all ece  \\\n",
       "model                                                                      \n",
       "bbb-1                         0.052966 -0.292621      0.002660  0.292621   \n",
       "bbb-5                         0.007514 -0.101704      0.001357  0.101704   \n",
       "laplace-1                     0.300547 -0.445054      0.012131  0.445060   \n",
       "laplace-5                     0.017199  0.020211      0.001660  0.059305   \n",
       "ll_ivon-1                     0.023407 -0.348323      0.002462  0.348331   \n",
       "ll_ivon-5                     0.009235 -0.112013      0.001672  0.112013   \n",
       "ll_ivon_p100-1                     NaN -0.342936           NaN  0.342936   \n",
       "ll_ivon_p500-1                     NaN -0.341564           NaN  0.341599   \n",
       "map-1                         0.025069 -0.352619      0.002421  0.352622   \n",
       "map-5                         0.005768 -0.128129      0.001030  0.128129   \n",
       "mcd-5                         0.007204 -0.121717      0.001152  0.121717   \n",
       "mcd_p0.1-1                    0.035537 -0.348806      0.003589  0.348806   \n",
       "mcd_p0.2-1                    0.050396 -0.346176      0.002358  0.346177   \n",
       "rank1-1                       0.036858 -0.328213      0.003298  0.328213   \n",
       "svgd-1                        0.041493 -0.353513      0.003121  0.353555   \n",
       "swag-1                        0.035409 -0.327381      0.002934  0.327381   \n",
       "swag-5                        0.008152 -0.123512      0.001185  0.123512   \n",
       "swag_ll-1                     0.042278 -0.342640      0.004850  0.342640   \n",
       "\n",
       "                all ece_std  worst_acc accuracy  worst_acc accuracy_std  \\\n",
       "model                                                                     \n",
       "bbb-1              0.002660            0.305502                0.007895   \n",
       "bbb-5              0.001357            0.339452                0.006172   \n",
       "laplace-1          0.012130            0.217123                0.012019   \n",
       "laplace-5          0.002124            0.301118                0.004135   \n",
       "ll_ivon-1          0.002453            0.300296                0.008917   \n",
       "ll_ivon-5          0.001672            0.340609                0.004493   \n",
       "ll_ivon_p100-1          NaN            0.292325                     NaN   \n",
       "ll_ivon_p500-1          NaN            0.313536                     NaN   \n",
       "map-1              0.002420            0.310066                0.007820   \n",
       "map-5              0.001030            0.342383                0.003366   \n",
       "mcd-5              0.001152            0.352642                0.004888   \n",
       "mcd_p0.1-1         0.003589            0.307237                0.009143   \n",
       "mcd_p0.2-1         0.002357            0.303606                0.005199   \n",
       "rank1-1            0.003298            0.296182                0.006720   \n",
       "svgd-1             0.003049            0.310374                0.006587   \n",
       "swag-1             0.002934            0.308459                0.009403   \n",
       "swag-5             0.001185            0.338064                0.003497   \n",
       "swag_ll-1          0.004850            0.307462                0.006076   \n",
       "\n",
       "                worst_acc sece  worst_acc sece_std  worst_acc ece  \\\n",
       "model                                                               \n",
       "bbb-1                -0.447760            0.009660       0.447876   \n",
       "bbb-5                -0.233121            0.007834       0.233121   \n",
       "laplace-1            -0.583118            0.014738       0.583223   \n",
       "laplace-5            -0.123035            0.004166       0.123035   \n",
       "ll_ivon-1            -0.514225            0.008780       0.514225   \n",
       "ll_ivon-5            -0.241298            0.003980       0.241420   \n",
       "ll_ivon_p100-1       -0.513999                 NaN       0.513999   \n",
       "ll_ivon_p500-1       -0.513990                 NaN       0.513990   \n",
       "map-1                -0.526066            0.008797       0.526229   \n",
       "map-5                -0.270757            0.004468       0.270757   \n",
       "mcd-5                -0.253430            0.005067       0.253430   \n",
       "mcd_p0.1-1           -0.520165            0.011325       0.520165   \n",
       "mcd_p0.2-1           -0.512923            0.004991       0.512998   \n",
       "rank1-1              -0.497049            0.003743       0.497049   \n",
       "svgd-1               -0.525633            0.009193       0.525840   \n",
       "swag-1               -0.500284            0.006757       0.500508   \n",
       "swag-5               -0.270015            0.003327       0.270015   \n",
       "swag_ll-1            -0.513550            0.001503       0.513640   \n",
       "\n",
       "                worst_acc ece_std  worst_acc log_likelihood  \\\n",
       "model                                                         \n",
       "bbb-1                    0.009653                 -6.673707   \n",
       "bbb-5                    0.007834                 -4.174393   \n",
       "laplace-1                0.014781                 -8.141227   \n",
       "laplace-5                0.004166                 -4.085591   \n",
       "ll_ivon-1                0.008780                 -4.556923   \n",
       "ll_ivon-5                0.004038                 -3.176987   \n",
       "ll_ivon_p100-1                NaN                 -5.133786   \n",
       "ll_ivon_p500-1                NaN                 -4.645092   \n",
       "map-1                    0.008710                 -5.439209   \n",
       "map-5                    0.004468                 -3.446131   \n",
       "mcd-5                    0.005067                 -3.476759   \n",
       "mcd_p0.1-1               0.011325                 -5.400000   \n",
       "mcd_p0.2-1               0.004964                 -5.363067   \n",
       "rank1-1                  0.003743                 -4.644519   \n",
       "svgd-1                   0.008957                 -5.542445   \n",
       "swag-1                   0.006702                 -4.913188   \n",
       "swag-5                   0.003327                 -3.243122   \n",
       "swag_ll-1                0.001413                 -5.085281   \n",
       "\n",
       "                worst_acc log_likelihood_std  \n",
       "model                                         \n",
       "bbb-1                               0.342666  \n",
       "bbb-5                               0.084816  \n",
       "laplace-1                           0.415136  \n",
       "laplace-5                           0.046997  \n",
       "ll_ivon-1                           0.112206  \n",
       "ll_ivon-5                           0.022844  \n",
       "ll_ivon_p100-1                           NaN  \n",
       "ll_ivon_p500-1                           NaN  \n",
       "map-1                               0.116967  \n",
       "map-5                               0.007291  \n",
       "mcd-5                               0.029919  \n",
       "mcd_p0.1-1                          0.118006  \n",
       "mcd_p0.2-1                          0.126364  \n",
       "rank1-1                             0.146984  \n",
       "svgd-1                              0.082551  \n",
       "swag-1                              0.074328  \n",
       "swag-5                              0.016181  \n",
       "swag_ll-1                           0.053937  "
      ]
     },
     "execution_count": 6,
     "metadata": {},
     "output_type": "execute_result"
    }
   ],
   "source": [
    "data"
   ]
  },
  {
   "cell_type": "code",
   "execution_count": 7,
   "metadata": {},
   "outputs": [
    {
     "data": {
      "application/vnd.plotly.v1+json": {
       "config": {
        "plotlyServerURL": "https://plot.ly"
       },
       "data": [
        {
         "error_x": {
          "array": [
           0.007894554664193006
          ]
         },
         "error_y": {
          "array": [
           0.009660342831999697
          ]
         },
         "hovertemplate": "model=bbb-1<br>worst_acc accuracy=%{x}<br>worst_acc sece=%{y}<extra></extra>",
         "legendgroup": "bbb-1",
         "marker": {
          "color": "#636efa",
          "symbol": "circle"
         },
         "mode": "markers",
         "name": "bbb-1",
         "orientation": "v",
         "showlegend": true,
         "type": "scatter",
         "x": [
          0.305501992503802
         ],
         "xaxis": "x",
         "y": [
          -0.44776048123221623
         ],
         "yaxis": "y"
        },
        {
         "error_x": {
          "array": [
           0.0061723829949812715
          ]
         },
         "error_y": {
          "array": [
           0.007833556076787854
          ]
         },
         "hovertemplate": "model=bbb-5<br>worst_acc accuracy=%{x}<br>worst_acc sece=%{y}<extra></extra>",
         "legendgroup": "bbb-5",
         "marker": {
          "color": "#EF553B",
          "symbol": "circle"
         },
         "mode": "markers",
         "name": "bbb-5",
         "orientation": "v",
         "showlegend": true,
         "type": "scatter",
         "x": [
          0.3394523739814758
         ],
         "xaxis": "x",
         "y": [
          -0.23312052044567802
         ],
         "yaxis": "y"
        },
        {
         "error_x": {
          "array": [
           0.012018543746862544
          ]
         },
         "error_y": {
          "array": [
           0.014738246175243061
          ]
         },
         "hovertemplate": "model=laplace-1<br>worst_acc accuracy=%{x}<br>worst_acc sece=%{y}<extra></extra>",
         "legendgroup": "laplace-1",
         "marker": {
          "color": "#00cc96",
          "symbol": "circle"
         },
         "mode": "markers",
         "name": "laplace-1",
         "orientation": "v",
         "showlegend": true,
         "type": "scatter",
         "x": [
          0.21712302416563034
         ],
         "xaxis": "x",
         "y": [
          -0.5831182534302518
         ],
         "yaxis": "y"
        },
        {
         "error_x": {
          "array": [
           0.004134959291874705
          ]
         },
         "error_y": {
          "array": [
           0.004166050513239557
          ]
         },
         "hovertemplate": "model=laplace-5<br>worst_acc accuracy=%{x}<br>worst_acc sece=%{y}<extra></extra>",
         "legendgroup": "laplace-5",
         "marker": {
          "color": "#ab63fa",
          "symbol": "circle"
         },
         "mode": "markers",
         "name": "laplace-5",
         "orientation": "v",
         "showlegend": true,
         "type": "scatter",
         "x": [
          0.30111839771270754
         ],
         "xaxis": "x",
         "y": [
          -0.12303457960222064
         ],
         "yaxis": "y"
        },
        {
         "error_x": {
          "array": [
           0.008916679204499438
          ]
         },
         "error_y": {
          "array": [
           0.008779511393719994
          ]
         },
         "hovertemplate": "model=ll_ivon-1<br>worst_acc accuracy=%{x}<br>worst_acc sece=%{y}<extra></extra>",
         "legendgroup": "ll_ivon-1",
         "marker": {
          "color": "#FFA15A",
          "symbol": "circle"
         },
         "mode": "markers",
         "name": "ll_ivon-1",
         "orientation": "v",
         "showlegend": true,
         "type": "scatter",
         "x": [
          0.3002956658601761
         ],
         "xaxis": "x",
         "y": [
          -0.5142245034927025
         ],
         "yaxis": "y"
        },
        {
         "error_x": {
          "array": [
           0.004493485885971437
          ]
         },
         "error_y": {
          "array": [
           0.0039803111393157935
          ]
         },
         "hovertemplate": "model=ll_ivon-5<br>worst_acc accuracy=%{x}<br>worst_acc sece=%{y}<extra></extra>",
         "legendgroup": "ll_ivon-5",
         "marker": {
          "color": "#19d3f3",
          "symbol": "circle"
         },
         "mode": "markers",
         "name": "ll_ivon-5",
         "orientation": "v",
         "showlegend": true,
         "type": "scatter",
         "x": [
          0.3406093239784241
         ],
         "xaxis": "x",
         "y": [
          -0.2412977131140356
         ],
         "yaxis": "y"
        },
        {
         "error_x": {
          "array": [
           null
          ]
         },
         "error_y": {
          "array": [
           null
          ]
         },
         "hovertemplate": "model=ll_ivon_p100-1<br>worst_acc accuracy=%{x}<br>worst_acc sece=%{y}<extra></extra>",
         "legendgroup": "ll_ivon_p100-1",
         "marker": {
          "color": "#FF6692",
          "symbol": "circle"
         },
         "mode": "markers",
         "name": "ll_ivon_p100-1",
         "orientation": "v",
         "showlegend": true,
         "type": "scatter",
         "x": [
          0.292325496673584
         ],
         "xaxis": "x",
         "y": [
          -0.5139986770001276
         ],
         "yaxis": "y"
        },
        {
         "error_x": {
          "array": [
           null
          ]
         },
         "error_y": {
          "array": [
           null
          ]
         },
         "hovertemplate": "model=ll_ivon_p500-1<br>worst_acc accuracy=%{x}<br>worst_acc sece=%{y}<extra></extra>",
         "legendgroup": "ll_ivon_p500-1",
         "marker": {
          "color": "#B6E880",
          "symbol": "circle"
         },
         "mode": "markers",
         "name": "ll_ivon_p500-1",
         "orientation": "v",
         "showlegend": true,
         "type": "scatter",
         "x": [
          0.3135364353656769
         ],
         "xaxis": "x",
         "y": [
          -0.5139900758701588
         ],
         "yaxis": "y"
        },
        {
         "error_x": {
          "array": [
           0.007820308344063293
          ]
         },
         "error_y": {
          "array": [
           0.00879697632041923
          ]
         },
         "hovertemplate": "model=map-1<br>worst_acc accuracy=%{x}<br>worst_acc sece=%{y}<extra></extra>",
         "legendgroup": "map-1",
         "marker": {
          "color": "#FF97FF",
          "symbol": "circle"
         },
         "mode": "markers",
         "name": "map-1",
         "orientation": "v",
         "showlegend": true,
         "type": "scatter",
         "x": [
          0.310065562526385
         ],
         "xaxis": "x",
         "y": [
          -0.5260662129952179
         ],
         "yaxis": "y"
        },
        {
         "error_x": {
          "array": [
           0.003365590721831243
          ]
         },
         "error_y": {
          "array": [
           0.00446841144941991
          ]
         },
         "hovertemplate": "model=map-5<br>worst_acc accuracy=%{x}<br>worst_acc sece=%{y}<extra></extra>",
         "legendgroup": "map-5",
         "marker": {
          "color": "#FECB52",
          "symbol": "circle"
         },
         "mode": "markers",
         "name": "map-5",
         "orientation": "v",
         "showlegend": true,
         "type": "scatter",
         "x": [
          0.3423833429813385
         ],
         "xaxis": "x",
         "y": [
          -0.27075719925378494
         ],
         "yaxis": "y"
        },
        {
         "error_x": {
          "array": [
           0.004887924284566088
          ]
         },
         "error_y": {
          "array": [
           0.005067492714573632
          ]
         },
         "hovertemplate": "model=mcd-5<br>worst_acc accuracy=%{x}<br>worst_acc sece=%{y}<extra></extra>",
         "legendgroup": "mcd-5",
         "marker": {
          "color": "#636efa",
          "symbol": "circle"
         },
         "mode": "markers",
         "name": "mcd-5",
         "orientation": "v",
         "showlegend": true,
         "type": "scatter",
         "x": [
          0.35264171957969664
         ],
         "xaxis": "x",
         "y": [
          -0.2534303104637835
         ],
         "yaxis": "y"
        },
        {
         "error_x": {
          "array": [
           0.009142875115807565
          ]
         },
         "error_y": {
          "array": [
           0.011324687207122689
          ]
         },
         "hovertemplate": "model=mcd_p0.1-1<br>worst_acc accuracy=%{x}<br>worst_acc sece=%{y}<extra></extra>",
         "legendgroup": "mcd_p0.1-1",
         "marker": {
          "color": "#EF553B",
          "symbol": "circle"
         },
         "mode": "markers",
         "name": "mcd_p0.1-1",
         "orientation": "v",
         "showlegend": true,
         "type": "scatter",
         "x": [
          0.3072374363740285
         ],
         "xaxis": "x",
         "y": [
          -0.5201648084339277
         ],
         "yaxis": "y"
        },
        {
         "error_x": {
          "array": [
           0.005199396480634909
          ]
         },
         "error_y": {
          "array": [
           0.004990873636432884
          ]
         },
         "hovertemplate": "model=mcd_p0.2-1<br>worst_acc accuracy=%{x}<br>worst_acc sece=%{y}<extra></extra>",
         "legendgroup": "mcd_p0.2-1",
         "marker": {
          "color": "#00cc96",
          "symbol": "circle"
         },
         "mode": "markers",
         "name": "mcd_p0.2-1",
         "orientation": "v",
         "showlegend": true,
         "type": "scatter",
         "x": [
          0.3036058619618416
         ],
         "xaxis": "x",
         "y": [
          -0.5129229396915437
         ],
         "yaxis": "y"
        },
        {
         "error_x": {
          "array": [
           0.0067196797859827625
          ]
         },
         "error_y": {
          "array": [
           0.0037430582020934982
          ]
         },
         "hovertemplate": "model=rank1-1<br>worst_acc accuracy=%{x}<br>worst_acc sece=%{y}<extra></extra>",
         "legendgroup": "rank1-1",
         "marker": {
          "color": "#ab63fa",
          "symbol": "circle"
         },
         "mode": "markers",
         "name": "rank1-1",
         "orientation": "v",
         "showlegend": true,
         "type": "scatter",
         "x": [
          0.29618203043937685
         ],
         "xaxis": "x",
         "y": [
          -0.49704888419402965
         ],
         "yaxis": "y"
        },
        {
         "error_x": {
          "array": [
           0.00658734585126914
          ]
         },
         "error_y": {
          "array": [
           0.009192609569474992
          ]
         },
         "hovertemplate": "model=svgd-1<br>worst_acc accuracy=%{x}<br>worst_acc sece=%{y}<extra></extra>",
         "legendgroup": "svgd-1",
         "marker": {
          "color": "#FFA15A",
          "symbol": "circle"
         },
         "mode": "markers",
         "name": "svgd-1",
         "orientation": "v",
         "showlegend": true,
         "type": "scatter",
         "x": [
          0.31037408113479614
         ],
         "xaxis": "x",
         "y": [
          -0.5256327300358705
         ],
         "yaxis": "y"
        },
        {
         "error_x": {
          "array": [
           0.009403243617814385
          ]
         },
         "error_y": {
          "array": [
           0.00675725067446196
          ]
         },
         "hovertemplate": "model=swag-1<br>worst_acc accuracy=%{x}<br>worst_acc sece=%{y}<extra></extra>",
         "legendgroup": "swag-1",
         "marker": {
          "color": "#19d3f3",
          "symbol": "circle"
         },
         "mode": "markers",
         "name": "swag-1",
         "orientation": "v",
         "showlegend": true,
         "type": "scatter",
         "x": [
          0.30845866600672406
         ],
         "xaxis": "x",
         "y": [
          -0.5002838768312083
         ],
         "yaxis": "y"
        },
        {
         "error_x": {
          "array": [
           0.0034973452328857335
          ]
         },
         "error_y": {
          "array": [
           0.0033274817951363693
          ]
         },
         "hovertemplate": "model=swag-5<br>worst_acc accuracy=%{x}<br>worst_acc sece=%{y}<extra></extra>",
         "legendgroup": "swag-5",
         "marker": {
          "color": "#FF6692",
          "symbol": "circle"
         },
         "mode": "markers",
         "name": "swag-5",
         "orientation": "v",
         "showlegend": true,
         "type": "scatter",
         "x": [
          0.3380640149116516
         ],
         "xaxis": "x",
         "y": [
          -0.27001467409238045
         ],
         "yaxis": "y"
        },
        {
         "error_x": {
          "array": [
           0.006076346361026085
          ]
         },
         "error_y": {
          "array": [
           0.0015030510749258503
          ]
         },
         "hovertemplate": "model=swag_ll-1<br>worst_acc accuracy=%{x}<br>worst_acc sece=%{y}<extra></extra>",
         "legendgroup": "swag_ll-1",
         "marker": {
          "color": "#B6E880",
          "symbol": "circle"
         },
         "mode": "markers",
         "name": "swag_ll-1",
         "orientation": "v",
         "showlegend": true,
         "type": "scatter",
         "x": [
          0.3074624016880989
         ],
         "xaxis": "x",
         "y": [
          -0.5135496245776876
         ],
         "yaxis": "y"
        }
       ],
       "layout": {
        "legend": {
         "title": {
          "text": "model"
         },
         "tracegroupgap": 0
        },
        "margin": {
         "t": 60
        },
        "template": {
         "data": {
          "bar": [
           {
            "error_x": {
             "color": "#2a3f5f"
            },
            "error_y": {
             "color": "#2a3f5f"
            },
            "marker": {
             "line": {
              "color": "#E5ECF6",
              "width": 0.5
             },
             "pattern": {
              "fillmode": "overlay",
              "size": 10,
              "solidity": 0.2
             }
            },
            "type": "bar"
           }
          ],
          "barpolar": [
           {
            "marker": {
             "line": {
              "color": "#E5ECF6",
              "width": 0.5
             },
             "pattern": {
              "fillmode": "overlay",
              "size": 10,
              "solidity": 0.2
             }
            },
            "type": "barpolar"
           }
          ],
          "carpet": [
           {
            "aaxis": {
             "endlinecolor": "#2a3f5f",
             "gridcolor": "white",
             "linecolor": "white",
             "minorgridcolor": "white",
             "startlinecolor": "#2a3f5f"
            },
            "baxis": {
             "endlinecolor": "#2a3f5f",
             "gridcolor": "white",
             "linecolor": "white",
             "minorgridcolor": "white",
             "startlinecolor": "#2a3f5f"
            },
            "type": "carpet"
           }
          ],
          "choropleth": [
           {
            "colorbar": {
             "outlinewidth": 0,
             "ticks": ""
            },
            "type": "choropleth"
           }
          ],
          "contour": [
           {
            "colorbar": {
             "outlinewidth": 0,
             "ticks": ""
            },
            "colorscale": [
             [
              0,
              "#0d0887"
             ],
             [
              0.1111111111111111,
              "#46039f"
             ],
             [
              0.2222222222222222,
              "#7201a8"
             ],
             [
              0.3333333333333333,
              "#9c179e"
             ],
             [
              0.4444444444444444,
              "#bd3786"
             ],
             [
              0.5555555555555556,
              "#d8576b"
             ],
             [
              0.6666666666666666,
              "#ed7953"
             ],
             [
              0.7777777777777778,
              "#fb9f3a"
             ],
             [
              0.8888888888888888,
              "#fdca26"
             ],
             [
              1,
              "#f0f921"
             ]
            ],
            "type": "contour"
           }
          ],
          "contourcarpet": [
           {
            "colorbar": {
             "outlinewidth": 0,
             "ticks": ""
            },
            "type": "contourcarpet"
           }
          ],
          "heatmap": [
           {
            "colorbar": {
             "outlinewidth": 0,
             "ticks": ""
            },
            "colorscale": [
             [
              0,
              "#0d0887"
             ],
             [
              0.1111111111111111,
              "#46039f"
             ],
             [
              0.2222222222222222,
              "#7201a8"
             ],
             [
              0.3333333333333333,
              "#9c179e"
             ],
             [
              0.4444444444444444,
              "#bd3786"
             ],
             [
              0.5555555555555556,
              "#d8576b"
             ],
             [
              0.6666666666666666,
              "#ed7953"
             ],
             [
              0.7777777777777778,
              "#fb9f3a"
             ],
             [
              0.8888888888888888,
              "#fdca26"
             ],
             [
              1,
              "#f0f921"
             ]
            ],
            "type": "heatmap"
           }
          ],
          "heatmapgl": [
           {
            "colorbar": {
             "outlinewidth": 0,
             "ticks": ""
            },
            "colorscale": [
             [
              0,
              "#0d0887"
             ],
             [
              0.1111111111111111,
              "#46039f"
             ],
             [
              0.2222222222222222,
              "#7201a8"
             ],
             [
              0.3333333333333333,
              "#9c179e"
             ],
             [
              0.4444444444444444,
              "#bd3786"
             ],
             [
              0.5555555555555556,
              "#d8576b"
             ],
             [
              0.6666666666666666,
              "#ed7953"
             ],
             [
              0.7777777777777778,
              "#fb9f3a"
             ],
             [
              0.8888888888888888,
              "#fdca26"
             ],
             [
              1,
              "#f0f921"
             ]
            ],
            "type": "heatmapgl"
           }
          ],
          "histogram": [
           {
            "marker": {
             "pattern": {
              "fillmode": "overlay",
              "size": 10,
              "solidity": 0.2
             }
            },
            "type": "histogram"
           }
          ],
          "histogram2d": [
           {
            "colorbar": {
             "outlinewidth": 0,
             "ticks": ""
            },
            "colorscale": [
             [
              0,
              "#0d0887"
             ],
             [
              0.1111111111111111,
              "#46039f"
             ],
             [
              0.2222222222222222,
              "#7201a8"
             ],
             [
              0.3333333333333333,
              "#9c179e"
             ],
             [
              0.4444444444444444,
              "#bd3786"
             ],
             [
              0.5555555555555556,
              "#d8576b"
             ],
             [
              0.6666666666666666,
              "#ed7953"
             ],
             [
              0.7777777777777778,
              "#fb9f3a"
             ],
             [
              0.8888888888888888,
              "#fdca26"
             ],
             [
              1,
              "#f0f921"
             ]
            ],
            "type": "histogram2d"
           }
          ],
          "histogram2dcontour": [
           {
            "colorbar": {
             "outlinewidth": 0,
             "ticks": ""
            },
            "colorscale": [
             [
              0,
              "#0d0887"
             ],
             [
              0.1111111111111111,
              "#46039f"
             ],
             [
              0.2222222222222222,
              "#7201a8"
             ],
             [
              0.3333333333333333,
              "#9c179e"
             ],
             [
              0.4444444444444444,
              "#bd3786"
             ],
             [
              0.5555555555555556,
              "#d8576b"
             ],
             [
              0.6666666666666666,
              "#ed7953"
             ],
             [
              0.7777777777777778,
              "#fb9f3a"
             ],
             [
              0.8888888888888888,
              "#fdca26"
             ],
             [
              1,
              "#f0f921"
             ]
            ],
            "type": "histogram2dcontour"
           }
          ],
          "mesh3d": [
           {
            "colorbar": {
             "outlinewidth": 0,
             "ticks": ""
            },
            "type": "mesh3d"
           }
          ],
          "parcoords": [
           {
            "line": {
             "colorbar": {
              "outlinewidth": 0,
              "ticks": ""
             }
            },
            "type": "parcoords"
           }
          ],
          "pie": [
           {
            "automargin": true,
            "type": "pie"
           }
          ],
          "scatter": [
           {
            "fillpattern": {
             "fillmode": "overlay",
             "size": 10,
             "solidity": 0.2
            },
            "type": "scatter"
           }
          ],
          "scatter3d": [
           {
            "line": {
             "colorbar": {
              "outlinewidth": 0,
              "ticks": ""
             }
            },
            "marker": {
             "colorbar": {
              "outlinewidth": 0,
              "ticks": ""
             }
            },
            "type": "scatter3d"
           }
          ],
          "scattercarpet": [
           {
            "marker": {
             "colorbar": {
              "outlinewidth": 0,
              "ticks": ""
             }
            },
            "type": "scattercarpet"
           }
          ],
          "scattergeo": [
           {
            "marker": {
             "colorbar": {
              "outlinewidth": 0,
              "ticks": ""
             }
            },
            "type": "scattergeo"
           }
          ],
          "scattergl": [
           {
            "marker": {
             "colorbar": {
              "outlinewidth": 0,
              "ticks": ""
             }
            },
            "type": "scattergl"
           }
          ],
          "scattermapbox": [
           {
            "marker": {
             "colorbar": {
              "outlinewidth": 0,
              "ticks": ""
             }
            },
            "type": "scattermapbox"
           }
          ],
          "scatterpolar": [
           {
            "marker": {
             "colorbar": {
              "outlinewidth": 0,
              "ticks": ""
             }
            },
            "type": "scatterpolar"
           }
          ],
          "scatterpolargl": [
           {
            "marker": {
             "colorbar": {
              "outlinewidth": 0,
              "ticks": ""
             }
            },
            "type": "scatterpolargl"
           }
          ],
          "scatterternary": [
           {
            "marker": {
             "colorbar": {
              "outlinewidth": 0,
              "ticks": ""
             }
            },
            "type": "scatterternary"
           }
          ],
          "surface": [
           {
            "colorbar": {
             "outlinewidth": 0,
             "ticks": ""
            },
            "colorscale": [
             [
              0,
              "#0d0887"
             ],
             [
              0.1111111111111111,
              "#46039f"
             ],
             [
              0.2222222222222222,
              "#7201a8"
             ],
             [
              0.3333333333333333,
              "#9c179e"
             ],
             [
              0.4444444444444444,
              "#bd3786"
             ],
             [
              0.5555555555555556,
              "#d8576b"
             ],
             [
              0.6666666666666666,
              "#ed7953"
             ],
             [
              0.7777777777777778,
              "#fb9f3a"
             ],
             [
              0.8888888888888888,
              "#fdca26"
             ],
             [
              1,
              "#f0f921"
             ]
            ],
            "type": "surface"
           }
          ],
          "table": [
           {
            "cells": {
             "fill": {
              "color": "#EBF0F8"
             },
             "line": {
              "color": "white"
             }
            },
            "header": {
             "fill": {
              "color": "#C8D4E3"
             },
             "line": {
              "color": "white"
             }
            },
            "type": "table"
           }
          ]
         },
         "layout": {
          "annotationdefaults": {
           "arrowcolor": "#2a3f5f",
           "arrowhead": 0,
           "arrowwidth": 1
          },
          "autotypenumbers": "strict",
          "coloraxis": {
           "colorbar": {
            "outlinewidth": 0,
            "ticks": ""
           }
          },
          "colorscale": {
           "diverging": [
            [
             0,
             "#8e0152"
            ],
            [
             0.1,
             "#c51b7d"
            ],
            [
             0.2,
             "#de77ae"
            ],
            [
             0.3,
             "#f1b6da"
            ],
            [
             0.4,
             "#fde0ef"
            ],
            [
             0.5,
             "#f7f7f7"
            ],
            [
             0.6,
             "#e6f5d0"
            ],
            [
             0.7,
             "#b8e186"
            ],
            [
             0.8,
             "#7fbc41"
            ],
            [
             0.9,
             "#4d9221"
            ],
            [
             1,
             "#276419"
            ]
           ],
           "sequential": [
            [
             0,
             "#0d0887"
            ],
            [
             0.1111111111111111,
             "#46039f"
            ],
            [
             0.2222222222222222,
             "#7201a8"
            ],
            [
             0.3333333333333333,
             "#9c179e"
            ],
            [
             0.4444444444444444,
             "#bd3786"
            ],
            [
             0.5555555555555556,
             "#d8576b"
            ],
            [
             0.6666666666666666,
             "#ed7953"
            ],
            [
             0.7777777777777778,
             "#fb9f3a"
            ],
            [
             0.8888888888888888,
             "#fdca26"
            ],
            [
             1,
             "#f0f921"
            ]
           ],
           "sequentialminus": [
            [
             0,
             "#0d0887"
            ],
            [
             0.1111111111111111,
             "#46039f"
            ],
            [
             0.2222222222222222,
             "#7201a8"
            ],
            [
             0.3333333333333333,
             "#9c179e"
            ],
            [
             0.4444444444444444,
             "#bd3786"
            ],
            [
             0.5555555555555556,
             "#d8576b"
            ],
            [
             0.6666666666666666,
             "#ed7953"
            ],
            [
             0.7777777777777778,
             "#fb9f3a"
            ],
            [
             0.8888888888888888,
             "#fdca26"
            ],
            [
             1,
             "#f0f921"
            ]
           ]
          },
          "colorway": [
           "#636efa",
           "#EF553B",
           "#00cc96",
           "#ab63fa",
           "#FFA15A",
           "#19d3f3",
           "#FF6692",
           "#B6E880",
           "#FF97FF",
           "#FECB52"
          ],
          "font": {
           "color": "#2a3f5f"
          },
          "geo": {
           "bgcolor": "white",
           "lakecolor": "white",
           "landcolor": "#E5ECF6",
           "showlakes": true,
           "showland": true,
           "subunitcolor": "white"
          },
          "hoverlabel": {
           "align": "left"
          },
          "hovermode": "closest",
          "mapbox": {
           "style": "light"
          },
          "paper_bgcolor": "white",
          "plot_bgcolor": "#E5ECF6",
          "polar": {
           "angularaxis": {
            "gridcolor": "white",
            "linecolor": "white",
            "ticks": ""
           },
           "bgcolor": "#E5ECF6",
           "radialaxis": {
            "gridcolor": "white",
            "linecolor": "white",
            "ticks": ""
           }
          },
          "scene": {
           "xaxis": {
            "backgroundcolor": "#E5ECF6",
            "gridcolor": "white",
            "gridwidth": 2,
            "linecolor": "white",
            "showbackground": true,
            "ticks": "",
            "zerolinecolor": "white"
           },
           "yaxis": {
            "backgroundcolor": "#E5ECF6",
            "gridcolor": "white",
            "gridwidth": 2,
            "linecolor": "white",
            "showbackground": true,
            "ticks": "",
            "zerolinecolor": "white"
           },
           "zaxis": {
            "backgroundcolor": "#E5ECF6",
            "gridcolor": "white",
            "gridwidth": 2,
            "linecolor": "white",
            "showbackground": true,
            "ticks": "",
            "zerolinecolor": "white"
           }
          },
          "shapedefaults": {
           "line": {
            "color": "#2a3f5f"
           }
          },
          "ternary": {
           "aaxis": {
            "gridcolor": "white",
            "linecolor": "white",
            "ticks": ""
           },
           "baxis": {
            "gridcolor": "white",
            "linecolor": "white",
            "ticks": ""
           },
           "bgcolor": "#E5ECF6",
           "caxis": {
            "gridcolor": "white",
            "linecolor": "white",
            "ticks": ""
           }
          },
          "title": {
           "x": 0.05
          },
          "xaxis": {
           "automargin": true,
           "gridcolor": "white",
           "linecolor": "white",
           "ticks": "",
           "title": {
            "standoff": 15
           },
           "zerolinecolor": "white",
           "zerolinewidth": 2
          },
          "yaxis": {
           "automargin": true,
           "gridcolor": "white",
           "linecolor": "white",
           "ticks": "",
           "title": {
            "standoff": 15
           },
           "zerolinecolor": "white",
           "zerolinewidth": 2
          }
         }
        },
        "xaxis": {
         "anchor": "y",
         "domain": [
          0,
          1
         ],
         "title": {
          "text": "worst_acc accuracy"
         }
        },
        "yaxis": {
         "anchor": "x",
         "domain": [
          0,
          1
         ],
         "title": {
          "text": "worst_acc sece"
         }
        }
       }
      }
     },
     "metadata": {},
     "output_type": "display_data"
    }
   ],
   "source": [
    "pareto_plot(data, \"worst_acc accuracy\", \"worst_acc sece\")"
   ]
  },
  {
   "cell_type": "code",
   "execution_count": 8,
   "metadata": {},
   "outputs": [
    {
     "data": {
      "application/vnd.plotly.v1+json": {
       "config": {
        "plotlyServerURL": "https://plot.ly"
       },
       "data": [
        {
         "error_x": {
          "array": [
           0.003197545213125401
          ]
         },
         "error_y": {
          "array": [
           0.002660070441326867
          ]
         },
         "hovertemplate": "model=bbb-1<br>all accuracy=%{x}<br>all sece=%{y}<extra></extra>",
         "legendgroup": "bbb-1",
         "marker": {
          "color": "#636efa",
          "symbol": "circle"
         },
         "mode": "markers",
         "name": "bbb-1",
         "orientation": "v",
         "showlegend": true,
         "type": "scatter",
         "x": [
          0.5086544851462046
         ],
         "xaxis": "x",
         "y": [
          -0.29262070674284074
         ],
         "yaxis": "y"
        },
        {
         "error_x": {
          "array": [
           0.0013100246226058216
          ]
         },
         "error_y": {
          "array": [
           0.0013571882710110338
          ]
         },
         "hovertemplate": "model=bbb-5<br>all accuracy=%{x}<br>all sece=%{y}<extra></extra>",
         "legendgroup": "bbb-5",
         "marker": {
          "color": "#EF553B",
          "symbol": "circle"
         },
         "mode": "markers",
         "name": "bbb-5",
         "orientation": "v",
         "showlegend": true,
         "type": "scatter",
         "x": [
          0.5610186457633972
         ],
         "xaxis": "x",
         "y": [
          -0.10170435984707427
         ],
         "yaxis": "y"
        },
        {
         "error_x": {
          "array": [
           0.013471931766613791
          ]
         },
         "error_y": {
          "array": [
           0.012130687080922376
          ]
         },
         "hovertemplate": "model=laplace-1<br>all accuracy=%{x}<br>all sece=%{y}<extra></extra>",
         "legendgroup": "laplace-1",
         "marker": {
          "color": "#00cc96",
          "symbol": "circle"
         },
         "mode": "markers",
         "name": "laplace-1",
         "orientation": "v",
         "showlegend": true,
         "type": "scatter",
         "x": [
          0.37395212054252625
         ],
         "xaxis": "x",
         "y": [
          -0.44505436874257237
         ],
         "yaxis": "y"
        },
        {
         "error_x": {
          "array": [
           0.0020437016153655105
          ]
         },
         "error_y": {
          "array": [
           0.0016601665160143263
          ]
         },
         "hovertemplate": "model=laplace-5<br>all accuracy=%{x}<br>all sece=%{y}<extra></extra>",
         "legendgroup": "laplace-5",
         "marker": {
          "color": "#ab63fa",
          "symbol": "circle"
         },
         "mode": "markers",
         "name": "laplace-5",
         "orientation": "v",
         "showlegend": true,
         "type": "scatter",
         "x": [
          0.5168898105621338
         ],
         "xaxis": "x",
         "y": [
          0.020210645139495075
         ],
         "yaxis": "y"
        },
        {
         "error_x": {
          "array": [
           0.002678915521695405
          ]
         },
         "error_y": {
          "array": [
           0.0024617456809902082
          ]
         },
         "hovertemplate": "model=ll_ivon-1<br>all accuracy=%{x}<br>all sece=%{y}<extra></extra>",
         "legendgroup": "ll_ivon-1",
         "marker": {
          "color": "#FFA15A",
          "symbol": "circle"
         },
         "mode": "markers",
         "name": "ll_ivon-1",
         "orientation": "v",
         "showlegend": true,
         "type": "scatter",
         "x": [
          0.505262037118276
         ],
         "xaxis": "x",
         "y": [
          -0.34832257296608954
         ],
         "yaxis": "y"
        },
        {
         "error_x": {
          "array": [
           0.0012045860244517905
          ]
         },
         "error_y": {
          "array": [
           0.0016719696673341959
          ]
         },
         "hovertemplate": "model=ll_ivon-5<br>all accuracy=%{x}<br>all sece=%{y}<extra></extra>",
         "legendgroup": "ll_ivon-5",
         "marker": {
          "color": "#19d3f3",
          "symbol": "circle"
         },
         "mode": "markers",
         "name": "ll_ivon-5",
         "orientation": "v",
         "showlegend": true,
         "type": "scatter",
         "x": [
          0.5596616625785827
         ],
         "xaxis": "x",
         "y": [
          -0.11201312765297104
         ],
         "yaxis": "y"
        },
        {
         "error_x": {
          "array": [
           null
          ]
         },
         "error_y": {
          "array": [
           null
          ]
         },
         "hovertemplate": "model=ll_ivon_p100-1<br>all accuracy=%{x}<br>all sece=%{y}<extra></extra>",
         "legendgroup": "ll_ivon_p100-1",
         "marker": {
          "color": "#FF6692",
          "symbol": "circle"
         },
         "mode": "markers",
         "name": "ll_ivon_p100-1",
         "orientation": "v",
         "showlegend": true,
         "type": "scatter",
         "x": [
          0.5066491961479187
         ],
         "xaxis": "x",
         "y": [
          -0.3429355792558353
         ],
         "yaxis": "y"
        },
        {
         "error_x": {
          "array": [
           null
          ]
         },
         "error_y": {
          "array": [
           null
          ]
         },
         "hovertemplate": "model=ll_ivon_p500-1<br>all accuracy=%{x}<br>all sece=%{y}<extra></extra>",
         "legendgroup": "ll_ivon_p500-1",
         "marker": {
          "color": "#B6E880",
          "symbol": "circle"
         },
         "mode": "markers",
         "name": "ll_ivon_p500-1",
         "orientation": "v",
         "showlegend": true,
         "type": "scatter",
         "x": [
          0.5125293731689453
         ],
         "xaxis": "x",
         "y": [
          -0.3415640081350257
         ],
         "yaxis": "y"
        },
        {
         "error_x": {
          "array": [
           0.003051476701629208
          ]
         },
         "error_y": {
          "array": [
           0.0024206921512287187
          ]
         },
         "hovertemplate": "model=map-1<br>all accuracy=%{x}<br>all sece=%{y}<extra></extra>",
         "legendgroup": "map-1",
         "marker": {
          "color": "#FF97FF",
          "symbol": "circle"
         },
         "mode": "markers",
         "name": "map-1",
         "orientation": "v",
         "showlegend": true,
         "type": "scatter",
         "x": [
          0.5178819199403127
         ],
         "xaxis": "x",
         "y": [
          -0.35261886301286705
         ],
         "yaxis": "y"
        },
        {
         "error_x": {
          "array": [
           0.0013665753691776313
          ]
         },
         "error_y": {
          "array": [
           0.0010301770524671825
          ]
         },
         "hovertemplate": "model=map-5<br>all accuracy=%{x}<br>all sece=%{y}<extra></extra>",
         "legendgroup": "map-5",
         "marker": {
          "color": "#FECB52",
          "symbol": "circle"
         },
         "mode": "markers",
         "name": "map-5",
         "orientation": "v",
         "showlegend": true,
         "type": "scatter",
         "x": [
          0.5693414092063904
         ],
         "xaxis": "x",
         "y": [
          -0.12812887503058984
         ],
         "yaxis": "y"
        },
        {
         "error_x": {
          "array": [
           0.0004204430919382813
          ]
         },
         "error_y": {
          "array": [
           0.0011515686197088209
          ]
         },
         "hovertemplate": "model=mcd-5<br>all accuracy=%{x}<br>all sece=%{y}<extra></extra>",
         "legendgroup": "mcd-5",
         "marker": {
          "color": "#636efa",
          "symbol": "circle"
         },
         "mode": "markers",
         "name": "mcd-5",
         "orientation": "v",
         "showlegend": true,
         "type": "scatter",
         "x": [
          0.5707888722419738
         ],
         "xaxis": "x",
         "y": [
          -0.12171677433197632
         ],
         "yaxis": "y"
        },
        {
         "error_x": {
          "array": [
           0.00222213135900898
          ]
         },
         "error_y": {
          "array": [
           0.003588978154476933
          ]
         },
         "hovertemplate": "model=mcd_p0.1-1<br>all accuracy=%{x}<br>all sece=%{y}<extra></extra>",
         "legendgroup": "mcd_p0.1-1",
         "marker": {
          "color": "#EF553B",
          "symbol": "circle"
         },
         "mode": "markers",
         "name": "mcd_p0.1-1",
         "orientation": "v",
         "showlegend": true,
         "type": "scatter",
         "x": [
          0.515054871638616
         ],
         "xaxis": "x",
         "y": [
          -0.3488064953339171
         ],
         "yaxis": "y"
        },
        {
         "error_x": {
          "array": [
           0.003947904691260996
          ]
         },
         "error_y": {
          "array": [
           0.002357743989049724
          ]
         },
         "hovertemplate": "model=mcd_p0.2-1<br>all accuracy=%{x}<br>all sece=%{y}<extra></extra>",
         "legendgroup": "mcd_p0.2-1",
         "marker": {
          "color": "#00cc96",
          "symbol": "circle"
         },
         "mode": "markers",
         "name": "mcd_p0.2-1",
         "orientation": "v",
         "showlegend": true,
         "type": "scatter",
         "x": [
          0.5089522699515024
         ],
         "xaxis": "x",
         "y": [
          -0.3461762416400553
         ],
         "yaxis": "y"
        },
        {
         "error_x": {
          "array": [
           0.003069065549264631
          ]
         },
         "error_y": {
          "array": [
           0.003297873643814448
          ]
         },
         "hovertemplate": "model=rank1-1<br>all accuracy=%{x}<br>all sece=%{y}<extra></extra>",
         "legendgroup": "rank1-1",
         "marker": {
          "color": "#ab63fa",
          "symbol": "circle"
         },
         "mode": "markers",
         "name": "rank1-1",
         "orientation": "v",
         "showlegend": true,
         "type": "scatter",
         "x": [
          0.5124751210212708
         ],
         "xaxis": "x",
         "y": [
          -0.3282131401023598
         ],
         "yaxis": "y"
        },
        {
         "error_x": {
          "array": [
           0.0036342239508406105
          ]
         },
         "error_y": {
          "array": [
           0.0031210665262774388
          ]
         },
         "hovertemplate": "model=svgd-1<br>all accuracy=%{x}<br>all sece=%{y}<extra></extra>",
         "legendgroup": "svgd-1",
         "marker": {
          "color": "#FFA15A",
          "symbol": "circle"
         },
         "mode": "markers",
         "name": "svgd-1",
         "orientation": "v",
         "showlegend": true,
         "type": "scatter",
         "x": [
          0.51656414270401
         ],
         "xaxis": "x",
         "y": [
          -0.3535128048663413
         ],
         "yaxis": "y"
        },
        {
         "error_x": {
          "array": [
           0.003150363211194273
          ]
         },
         "error_y": {
          "array": [
           0.0029338579962389253
          ]
         },
         "hovertemplate": "model=swag-1<br>all accuracy=%{x}<br>all sece=%{y}<extra></extra>",
         "legendgroup": "swag-1",
         "marker": {
          "color": "#19d3f3",
          "symbol": "circle"
         },
         "mode": "markers",
         "name": "swag-1",
         "orientation": "v",
         "showlegend": true,
         "type": "scatter",
         "x": [
          0.5195178290208181
         ],
         "xaxis": "x",
         "y": [
          -0.3273811178380422
         ],
         "yaxis": "y"
        },
        {
         "error_x": {
          "array": [
           0.0013192444488729523
          ]
         },
         "error_y": {
          "array": [
           0.0011846577375955452
          ]
         },
         "hovertemplate": "model=swag-5<br>all accuracy=%{x}<br>all sece=%{y}<extra></extra>",
         "legendgroup": "swag-5",
         "marker": {
          "color": "#FF6692",
          "symbol": "circle"
         },
         "mode": "markers",
         "name": "swag-5",
         "orientation": "v",
         "showlegend": true,
         "type": "scatter",
         "x": [
          0.5695042371749878
         ],
         "xaxis": "x",
         "y": [
          -0.1235119005784147
         ],
         "yaxis": "y"
        },
        {
         "error_x": {
          "array": [
           0.004921399666617946
          ]
         },
         "error_y": {
          "array": [
           0.004850189485173461
          ]
         },
         "hovertemplate": "model=swag_ll-1<br>all accuracy=%{x}<br>all sece=%{y}<extra></extra>",
         "legendgroup": "swag_ll-1",
         "marker": {
          "color": "#B6E880",
          "symbol": "circle"
         },
         "mode": "markers",
         "name": "swag_ll-1",
         "orientation": "v",
         "showlegend": true,
         "type": "scatter",
         "x": [
          0.516193225979805
         ],
         "xaxis": "x",
         "y": [
          -0.34263977628441866
         ],
         "yaxis": "y"
        }
       ],
       "layout": {
        "legend": {
         "title": {
          "text": "model"
         },
         "tracegroupgap": 0
        },
        "margin": {
         "t": 60
        },
        "template": {
         "data": {
          "bar": [
           {
            "error_x": {
             "color": "#2a3f5f"
            },
            "error_y": {
             "color": "#2a3f5f"
            },
            "marker": {
             "line": {
              "color": "#E5ECF6",
              "width": 0.5
             },
             "pattern": {
              "fillmode": "overlay",
              "size": 10,
              "solidity": 0.2
             }
            },
            "type": "bar"
           }
          ],
          "barpolar": [
           {
            "marker": {
             "line": {
              "color": "#E5ECF6",
              "width": 0.5
             },
             "pattern": {
              "fillmode": "overlay",
              "size": 10,
              "solidity": 0.2
             }
            },
            "type": "barpolar"
           }
          ],
          "carpet": [
           {
            "aaxis": {
             "endlinecolor": "#2a3f5f",
             "gridcolor": "white",
             "linecolor": "white",
             "minorgridcolor": "white",
             "startlinecolor": "#2a3f5f"
            },
            "baxis": {
             "endlinecolor": "#2a3f5f",
             "gridcolor": "white",
             "linecolor": "white",
             "minorgridcolor": "white",
             "startlinecolor": "#2a3f5f"
            },
            "type": "carpet"
           }
          ],
          "choropleth": [
           {
            "colorbar": {
             "outlinewidth": 0,
             "ticks": ""
            },
            "type": "choropleth"
           }
          ],
          "contour": [
           {
            "colorbar": {
             "outlinewidth": 0,
             "ticks": ""
            },
            "colorscale": [
             [
              0,
              "#0d0887"
             ],
             [
              0.1111111111111111,
              "#46039f"
             ],
             [
              0.2222222222222222,
              "#7201a8"
             ],
             [
              0.3333333333333333,
              "#9c179e"
             ],
             [
              0.4444444444444444,
              "#bd3786"
             ],
             [
              0.5555555555555556,
              "#d8576b"
             ],
             [
              0.6666666666666666,
              "#ed7953"
             ],
             [
              0.7777777777777778,
              "#fb9f3a"
             ],
             [
              0.8888888888888888,
              "#fdca26"
             ],
             [
              1,
              "#f0f921"
             ]
            ],
            "type": "contour"
           }
          ],
          "contourcarpet": [
           {
            "colorbar": {
             "outlinewidth": 0,
             "ticks": ""
            },
            "type": "contourcarpet"
           }
          ],
          "heatmap": [
           {
            "colorbar": {
             "outlinewidth": 0,
             "ticks": ""
            },
            "colorscale": [
             [
              0,
              "#0d0887"
             ],
             [
              0.1111111111111111,
              "#46039f"
             ],
             [
              0.2222222222222222,
              "#7201a8"
             ],
             [
              0.3333333333333333,
              "#9c179e"
             ],
             [
              0.4444444444444444,
              "#bd3786"
             ],
             [
              0.5555555555555556,
              "#d8576b"
             ],
             [
              0.6666666666666666,
              "#ed7953"
             ],
             [
              0.7777777777777778,
              "#fb9f3a"
             ],
             [
              0.8888888888888888,
              "#fdca26"
             ],
             [
              1,
              "#f0f921"
             ]
            ],
            "type": "heatmap"
           }
          ],
          "heatmapgl": [
           {
            "colorbar": {
             "outlinewidth": 0,
             "ticks": ""
            },
            "colorscale": [
             [
              0,
              "#0d0887"
             ],
             [
              0.1111111111111111,
              "#46039f"
             ],
             [
              0.2222222222222222,
              "#7201a8"
             ],
             [
              0.3333333333333333,
              "#9c179e"
             ],
             [
              0.4444444444444444,
              "#bd3786"
             ],
             [
              0.5555555555555556,
              "#d8576b"
             ],
             [
              0.6666666666666666,
              "#ed7953"
             ],
             [
              0.7777777777777778,
              "#fb9f3a"
             ],
             [
              0.8888888888888888,
              "#fdca26"
             ],
             [
              1,
              "#f0f921"
             ]
            ],
            "type": "heatmapgl"
           }
          ],
          "histogram": [
           {
            "marker": {
             "pattern": {
              "fillmode": "overlay",
              "size": 10,
              "solidity": 0.2
             }
            },
            "type": "histogram"
           }
          ],
          "histogram2d": [
           {
            "colorbar": {
             "outlinewidth": 0,
             "ticks": ""
            },
            "colorscale": [
             [
              0,
              "#0d0887"
             ],
             [
              0.1111111111111111,
              "#46039f"
             ],
             [
              0.2222222222222222,
              "#7201a8"
             ],
             [
              0.3333333333333333,
              "#9c179e"
             ],
             [
              0.4444444444444444,
              "#bd3786"
             ],
             [
              0.5555555555555556,
              "#d8576b"
             ],
             [
              0.6666666666666666,
              "#ed7953"
             ],
             [
              0.7777777777777778,
              "#fb9f3a"
             ],
             [
              0.8888888888888888,
              "#fdca26"
             ],
             [
              1,
              "#f0f921"
             ]
            ],
            "type": "histogram2d"
           }
          ],
          "histogram2dcontour": [
           {
            "colorbar": {
             "outlinewidth": 0,
             "ticks": ""
            },
            "colorscale": [
             [
              0,
              "#0d0887"
             ],
             [
              0.1111111111111111,
              "#46039f"
             ],
             [
              0.2222222222222222,
              "#7201a8"
             ],
             [
              0.3333333333333333,
              "#9c179e"
             ],
             [
              0.4444444444444444,
              "#bd3786"
             ],
             [
              0.5555555555555556,
              "#d8576b"
             ],
             [
              0.6666666666666666,
              "#ed7953"
             ],
             [
              0.7777777777777778,
              "#fb9f3a"
             ],
             [
              0.8888888888888888,
              "#fdca26"
             ],
             [
              1,
              "#f0f921"
             ]
            ],
            "type": "histogram2dcontour"
           }
          ],
          "mesh3d": [
           {
            "colorbar": {
             "outlinewidth": 0,
             "ticks": ""
            },
            "type": "mesh3d"
           }
          ],
          "parcoords": [
           {
            "line": {
             "colorbar": {
              "outlinewidth": 0,
              "ticks": ""
             }
            },
            "type": "parcoords"
           }
          ],
          "pie": [
           {
            "automargin": true,
            "type": "pie"
           }
          ],
          "scatter": [
           {
            "fillpattern": {
             "fillmode": "overlay",
             "size": 10,
             "solidity": 0.2
            },
            "type": "scatter"
           }
          ],
          "scatter3d": [
           {
            "line": {
             "colorbar": {
              "outlinewidth": 0,
              "ticks": ""
             }
            },
            "marker": {
             "colorbar": {
              "outlinewidth": 0,
              "ticks": ""
             }
            },
            "type": "scatter3d"
           }
          ],
          "scattercarpet": [
           {
            "marker": {
             "colorbar": {
              "outlinewidth": 0,
              "ticks": ""
             }
            },
            "type": "scattercarpet"
           }
          ],
          "scattergeo": [
           {
            "marker": {
             "colorbar": {
              "outlinewidth": 0,
              "ticks": ""
             }
            },
            "type": "scattergeo"
           }
          ],
          "scattergl": [
           {
            "marker": {
             "colorbar": {
              "outlinewidth": 0,
              "ticks": ""
             }
            },
            "type": "scattergl"
           }
          ],
          "scattermapbox": [
           {
            "marker": {
             "colorbar": {
              "outlinewidth": 0,
              "ticks": ""
             }
            },
            "type": "scattermapbox"
           }
          ],
          "scatterpolar": [
           {
            "marker": {
             "colorbar": {
              "outlinewidth": 0,
              "ticks": ""
             }
            },
            "type": "scatterpolar"
           }
          ],
          "scatterpolargl": [
           {
            "marker": {
             "colorbar": {
              "outlinewidth": 0,
              "ticks": ""
             }
            },
            "type": "scatterpolargl"
           }
          ],
          "scatterternary": [
           {
            "marker": {
             "colorbar": {
              "outlinewidth": 0,
              "ticks": ""
             }
            },
            "type": "scatterternary"
           }
          ],
          "surface": [
           {
            "colorbar": {
             "outlinewidth": 0,
             "ticks": ""
            },
            "colorscale": [
             [
              0,
              "#0d0887"
             ],
             [
              0.1111111111111111,
              "#46039f"
             ],
             [
              0.2222222222222222,
              "#7201a8"
             ],
             [
              0.3333333333333333,
              "#9c179e"
             ],
             [
              0.4444444444444444,
              "#bd3786"
             ],
             [
              0.5555555555555556,
              "#d8576b"
             ],
             [
              0.6666666666666666,
              "#ed7953"
             ],
             [
              0.7777777777777778,
              "#fb9f3a"
             ],
             [
              0.8888888888888888,
              "#fdca26"
             ],
             [
              1,
              "#f0f921"
             ]
            ],
            "type": "surface"
           }
          ],
          "table": [
           {
            "cells": {
             "fill": {
              "color": "#EBF0F8"
             },
             "line": {
              "color": "white"
             }
            },
            "header": {
             "fill": {
              "color": "#C8D4E3"
             },
             "line": {
              "color": "white"
             }
            },
            "type": "table"
           }
          ]
         },
         "layout": {
          "annotationdefaults": {
           "arrowcolor": "#2a3f5f",
           "arrowhead": 0,
           "arrowwidth": 1
          },
          "autotypenumbers": "strict",
          "coloraxis": {
           "colorbar": {
            "outlinewidth": 0,
            "ticks": ""
           }
          },
          "colorscale": {
           "diverging": [
            [
             0,
             "#8e0152"
            ],
            [
             0.1,
             "#c51b7d"
            ],
            [
             0.2,
             "#de77ae"
            ],
            [
             0.3,
             "#f1b6da"
            ],
            [
             0.4,
             "#fde0ef"
            ],
            [
             0.5,
             "#f7f7f7"
            ],
            [
             0.6,
             "#e6f5d0"
            ],
            [
             0.7,
             "#b8e186"
            ],
            [
             0.8,
             "#7fbc41"
            ],
            [
             0.9,
             "#4d9221"
            ],
            [
             1,
             "#276419"
            ]
           ],
           "sequential": [
            [
             0,
             "#0d0887"
            ],
            [
             0.1111111111111111,
             "#46039f"
            ],
            [
             0.2222222222222222,
             "#7201a8"
            ],
            [
             0.3333333333333333,
             "#9c179e"
            ],
            [
             0.4444444444444444,
             "#bd3786"
            ],
            [
             0.5555555555555556,
             "#d8576b"
            ],
            [
             0.6666666666666666,
             "#ed7953"
            ],
            [
             0.7777777777777778,
             "#fb9f3a"
            ],
            [
             0.8888888888888888,
             "#fdca26"
            ],
            [
             1,
             "#f0f921"
            ]
           ],
           "sequentialminus": [
            [
             0,
             "#0d0887"
            ],
            [
             0.1111111111111111,
             "#46039f"
            ],
            [
             0.2222222222222222,
             "#7201a8"
            ],
            [
             0.3333333333333333,
             "#9c179e"
            ],
            [
             0.4444444444444444,
             "#bd3786"
            ],
            [
             0.5555555555555556,
             "#d8576b"
            ],
            [
             0.6666666666666666,
             "#ed7953"
            ],
            [
             0.7777777777777778,
             "#fb9f3a"
            ],
            [
             0.8888888888888888,
             "#fdca26"
            ],
            [
             1,
             "#f0f921"
            ]
           ]
          },
          "colorway": [
           "#636efa",
           "#EF553B",
           "#00cc96",
           "#ab63fa",
           "#FFA15A",
           "#19d3f3",
           "#FF6692",
           "#B6E880",
           "#FF97FF",
           "#FECB52"
          ],
          "font": {
           "color": "#2a3f5f"
          },
          "geo": {
           "bgcolor": "white",
           "lakecolor": "white",
           "landcolor": "#E5ECF6",
           "showlakes": true,
           "showland": true,
           "subunitcolor": "white"
          },
          "hoverlabel": {
           "align": "left"
          },
          "hovermode": "closest",
          "mapbox": {
           "style": "light"
          },
          "paper_bgcolor": "white",
          "plot_bgcolor": "#E5ECF6",
          "polar": {
           "angularaxis": {
            "gridcolor": "white",
            "linecolor": "white",
            "ticks": ""
           },
           "bgcolor": "#E5ECF6",
           "radialaxis": {
            "gridcolor": "white",
            "linecolor": "white",
            "ticks": ""
           }
          },
          "scene": {
           "xaxis": {
            "backgroundcolor": "#E5ECF6",
            "gridcolor": "white",
            "gridwidth": 2,
            "linecolor": "white",
            "showbackground": true,
            "ticks": "",
            "zerolinecolor": "white"
           },
           "yaxis": {
            "backgroundcolor": "#E5ECF6",
            "gridcolor": "white",
            "gridwidth": 2,
            "linecolor": "white",
            "showbackground": true,
            "ticks": "",
            "zerolinecolor": "white"
           },
           "zaxis": {
            "backgroundcolor": "#E5ECF6",
            "gridcolor": "white",
            "gridwidth": 2,
            "linecolor": "white",
            "showbackground": true,
            "ticks": "",
            "zerolinecolor": "white"
           }
          },
          "shapedefaults": {
           "line": {
            "color": "#2a3f5f"
           }
          },
          "ternary": {
           "aaxis": {
            "gridcolor": "white",
            "linecolor": "white",
            "ticks": ""
           },
           "baxis": {
            "gridcolor": "white",
            "linecolor": "white",
            "ticks": ""
           },
           "bgcolor": "#E5ECF6",
           "caxis": {
            "gridcolor": "white",
            "linecolor": "white",
            "ticks": ""
           }
          },
          "title": {
           "x": 0.05
          },
          "xaxis": {
           "automargin": true,
           "gridcolor": "white",
           "linecolor": "white",
           "ticks": "",
           "title": {
            "standoff": 15
           },
           "zerolinecolor": "white",
           "zerolinewidth": 2
          },
          "yaxis": {
           "automargin": true,
           "gridcolor": "white",
           "linecolor": "white",
           "ticks": "",
           "title": {
            "standoff": 15
           },
           "zerolinecolor": "white",
           "zerolinewidth": 2
          }
         }
        },
        "xaxis": {
         "anchor": "y",
         "domain": [
          0,
          1
         ],
         "title": {
          "text": "all accuracy"
         }
        },
        "yaxis": {
         "anchor": "x",
         "domain": [
          0,
          1
         ],
         "title": {
          "text": "all sece"
         }
        }
       }
      }
     },
     "metadata": {},
     "output_type": "display_data"
    }
   ],
   "source": [
    "pareto_plot(data, \"all accuracy\", \"all sece\")"
   ]
  },
  {
   "cell_type": "code",
   "execution_count": 9,
   "metadata": {},
   "outputs": [
    {
     "data": {
      "text/plain": [
       "'model,model,worst_region_acc,worst_region_acc_std,all accuracy,all accuracy_std,all log likelihood,all log likelihood_std,all sece,all sece_std,all ece,all ece_std,worst_acc accuracy,worst_acc accuracy_std,worst_acc sece,worst_acc sece_std,worst_acc ece,worst_acc ece_std,worst_acc log_likelihood,worst_acc log_likelihood_std\\nbbb-1,bbb-1,0.305501992503802,0.007894554664193006,0.5086544851462046,0.003197545213125401,-4.2506983280181885,0.05296627858945722,-0.29262070674284074,0.002660070441326867,0.29262070674284074,0.002660070441326867,0.305501992503802,0.007894554664193006,-0.44776048123221623,0.009660342831999697,0.4478758809064889,0.009653120064726189,-6.673706690470378,0.342666161857036\\nbbb-5,bbb-5,0.3394523739814758,0.0061723829949812715,0.5610186457633972,0.0013100246226058216,-2.6174545764923094,0.007514391558887915,-0.10170435984707427,0.0013571882710110338,0.10170435984707427,0.0013571882710110338,0.3394523739814758,0.0061723829949812715,-0.23312052044567802,0.007833556076787854,0.23312052044567802,0.007833556076787854,-4.174393177032471,0.08481622693516791\\nlaplace-1,laplace-1,0.21712302416563034,0.012018543746862544,0.37395212054252625,0.013471931766613791,-5.872745196024577,0.3005469170622926,-0.44505436874257237,0.012130687080922376,0.44505957631422016,0.012129802607855072,0.21712302416563034,0.012018543746862544,-0.5831182534302518,0.014738246175243061,0.5832230606603507,0.014780873422262274,-8.141227086385092,0.415136177640735\\nlaplace-5,laplace-5,0.30111839771270754,0.004134959291874705,0.5168898105621338,0.0020437016153655105,-2.7438305854797362,0.01719861049847447,0.020210645139495075,0.0016601665160143263,0.05930515057564871,0.002124011769217914,0.30111839771270754,0.004134959291874705,-0.12303457960222064,0.004166050513239557,0.12303457960222064,0.004166050513239557,-4.085590744018555,0.04699729933350056\\nll_ivon-1,ll_ivon-1,0.3002956658601761,0.008916679204499438,0.505262037118276,0.002678915521695405,-3.1067366202672324,0.023406552240443017,-0.34832257296608954,0.0024617456809902082,0.3483307446254787,0.0024533503496186023,0.3002956658601761,0.008916679204499438,-0.5142245034927025,0.008779511393719994,0.5142245034927025,0.008779511393719994,-4.5569225152333575,0.1122064243094669\\nll_ivon-5,ll_ivon-5,0.3406093239784241,0.004493485885971437,0.5596616625785827,0.0012045860244517905,-2.0603766441345215,0.00923529725570556,-0.11201312765297104,0.0016719696673341959,0.11201312765297104,0.0016719696673341959,0.3406093239784241,0.004493485885971437,-0.2412977131140356,0.0039803111393157935,0.2414197033039171,0.004037883738839938,-3.1769872188568113,0.02284435006891997\\nll_ivon_p100-1,ll_ivon_p100-1,0.292325496673584,,0.5066491961479187,,-3.4387004375457764,,-0.3429355792558353,,0.3429355792558353,,0.292325496673584,,-0.5139986770001276,,0.5139986770001276,,-5.133785724639893,\\nll_ivon_p500-1,ll_ivon_p500-1,0.3135364353656769,,0.5125293731689453,,-3.088312864303589,,-0.3415640081350257,,0.34159883027699134,,0.3135364353656769,,-0.5139900758701588,,0.5139900758701588,,-4.645092487335205,\\nmap-1,map-1,0.310065562526385,0.007820308344063293,0.5178819199403127,0.003051476701629208,-3.5029534498850503,0.02506879960900937,-0.35261886301286705,0.0024206921512287187,0.352622199321388,0.002419760186707539,0.310065562526385,0.007820308344063293,-0.5260662129952179,0.00879697632041923,0.526228546498118,0.008709737551324646,-5.439208904902141,0.11696740645682659\\nmap-5,map-5,0.3423833429813385,0.003365590721831243,0.5693414092063904,0.0013665753691776313,-2.1405102729797365,0.005768333519152325,-0.12812887503058984,0.0010301770524671825,0.12812887503058984,0.0010301770524671825,0.3423833429813385,0.003365590721831243,-0.27075719925378494,0.00446841144941991,0.27075719925378494,0.00446841144941991,-3.4461310863494874,0.007291336335212692\\nmcd-5,mcd-5,0.35264171957969664,0.004887924284566088,0.5707888722419738,0.0004204430919382813,-2.14987473487854,0.007204397440944963,-0.12171677433197632,0.0011515686197088209,0.12171677433197632,0.0011515686197088209,0.35264171957969664,0.004887924284566088,-0.2534303104637835,0.005067492714573632,0.2534303104637835,0.005067492714573632,-3.476759147644043,0.02991932461353505\\nmcd_p0.1-1,mcd_p0.1-1,0.3072374363740285,0.009142875115807565,0.515054871638616,0.00222213135900898,-3.489343047142029,0.03553679052811039,-0.3488064953339171,0.003588978154476933,0.3488064953339171,0.003588978154476933,0.3072374363740285,0.009142875115807565,-0.5201648084339277,0.011324687207122689,0.5201648084339277,0.011324687207122689,-5.40000049273173,0.11800617780819231\\nmcd_p0.2-1,mcd_p0.2-1,0.3036058619618416,0.005199396480634909,0.5089522699515024,0.003947904691260996,-3.512743651866913,0.05039593422323979,-0.3461762416400553,0.002357743989049724,0.34617713341537404,0.002357037112129551,0.3036058619618416,0.005199396480634909,-0.5129229396915437,0.004990873636432884,0.512997757195938,0.00496414771818607,-5.363067348798116,0.1263636269302506\\nrank1-1,rank1-1,0.29618203043937685,0.0067196797859827625,0.5124751210212708,0.003069065549264631,-2.9950028896331786,0.03685798858284981,-0.3282131401023598,0.003297873643814448,0.3282131401023598,0.003297873643814448,0.29618203043937685,0.0067196797859827625,-0.49704888419402965,0.0037430582020934982,0.49704888419402965,0.0037430582020934982,-4.644518947601318,0.1469839518235487\\nsvgd-1,svgd-1,0.31037408113479614,0.00658734585126914,0.51656414270401,0.0036342239508406105,-3.558586835861206,0.04149319961952868,-0.3535128048663413,0.0031210665262774388,0.35355474995167785,0.0030485669173546254,0.31037408113479614,0.00658734585126914,-0.5256327300358705,0.009192609569474992,0.5258398579579382,0.008956712294775545,-5.542445087432862,0.08255091866706575\\nswag-1,swag-1,0.30845866600672406,0.009403243617814385,0.5195178290208181,0.003150363211194273,-3.1496488650639853,0.03540904665953184,-0.3273811178380422,0.0029338579962389253,0.3273811178380422,0.0029338579962389253,0.30845866600672406,0.009403243617814385,-0.5002838768312083,0.00675725067446196,0.5005083165005441,0.006701920973683046,-4.913188298543294,0.0743281313372345\\nswag-5,swag-5,0.3380640149116516,0.0034973452328857335,0.5695042371749878,0.0013192444488729523,-2.015996885299683,0.008152441140239481,-0.1235119005784147,0.0011846577375955452,0.1235119005784147,0.0011846577375955452,0.3380640149116516,0.0034973452328857335,-0.27001467409238045,0.0033274817951363693,0.27001467409238045,0.0033274817951363693,-3.2431219577789308,0.01618119726856446\\nswag_ll-1,swag_ll-1,0.3074624016880989,0.006076346361026085,0.516193225979805,0.004921399666617946,-3.2646458745002747,0.0422778700615043,-0.34263977628441866,0.004850189485173461,0.34263977628441866,0.004850189485173461,0.3074624016880989,0.006076346361026085,-0.5135496245776876,0.0015030510749258503,0.5136403910014052,0.0014129834952107255,-5.085281252861023,0.05393671687325515\\n'"
      ]
     },
     "execution_count": 9,
     "metadata": {},
     "output_type": "execute_result"
    }
   ],
   "source": [
    "data.to_csv(sep=\",\", header=True)"
   ]
  },
  {
   "cell_type": "code",
   "execution_count": 59,
   "metadata": {},
   "outputs": [
    {
     "name": "stdout",
     "output_type": "stream",
     "text": [
      "\\begin{tabular}{l|rrrrrr}\n",
      "    \\multicolumn{1}{l}{Model} & \\multicolumn{1}{c}{WR Accuracy} & \\multicolumn{1}{c}{WR ECE} & \\multicolumn{1}{c}{WR sECE} & \\multicolumn{1}{c}{Avg Accuracy} & \\multicolumn{1}{c}{Avg ECE} & \\multicolumn{1}{c}{Avg sECE} \\\\\n",
      "    \\hline\n",
      "    MAP & $0.310 \\pm 0.008$ & $0.526 \\pm 0.009$ & $-0.526 \\pm 0.009$ & $0.518 \\pm 0.003$ & $0.353 \\pm 0.002$ & $-0.353 \\pm 0.002$ \\\\\n",
      "    Deep Ensemble & $0.342 \\pm 0.003$ & $0.271 \\pm 0.004$ & $-0.271 \\pm 0.004$ & $0.569 \\pm 0.001$ & $0.128 \\pm 0.001$ & $-0.128 \\pm 0.001$ \\\\\n",
      "    MCD & $0.307 \\pm 0.009$ & $0.520 \\pm 0.011$ & $-0.520 \\pm 0.011$ & $0.515 \\pm 0.002$ & $0.349 \\pm 0.004$ & $-0.349 \\pm 0.004$ \\\\\n",
      "    MultiMCD & $\\bm{0.353 \\pm 0.005}$ & $0.253 \\pm 0.005$ & $-0.253 \\pm 0.005$ & $\\bm{0.571 \\pm 0.000}$ & $0.122 \\pm 0.001$ & $-0.122 \\pm 0.001$ \\\\\n",
      "    SWAG & $0.308 \\pm 0.009$ & $0.501 \\pm 0.007$ & $-0.500 \\pm 0.007$ & $0.520 \\pm 0.003$ & $0.327 \\pm 0.003$ & $-0.327 \\pm 0.003$ \\\\\n",
      "    MultiSWAG & $0.338 \\pm 0.003$ & $0.270 \\pm 0.003$ & $-0.270 \\pm 0.003$ & $0.570 \\pm 0.001$ & $0.124 \\pm 0.001$ & $-0.124 \\pm 0.001$ \\\\\n",
      "    LL SWAG & $0.307 \\pm 0.006$ & $0.514 \\pm 0.001$ & $-0.514 \\pm 0.002$ & $0.516 \\pm 0.005$ & $0.343 \\pm 0.005$ & $-0.343 \\pm 0.005$ \\\\\n",
      "    LL Laplace & $0.217 \\pm 0.012$ & $0.583 \\pm 0.015$ & $-0.583 \\pm 0.015$ & $0.374 \\pm 0.013$ & $0.445 \\pm 0.012$ & $-0.445 \\pm 0.012$ \\\\\n",
      "    LL MultiLaplace & $0.301 \\pm 0.004$ & $\\bm{0.123 \\pm 0.004}$ & $\\bm{-0.123 \\pm 0.004}$ & $0.517 \\pm 0.002$ & $\\bm{0.059 \\pm 0.002}$ & $\\bm{0.020 \\pm 0.002}$ \\\\\n",
      "    LL BBB & $0.306 \\pm 0.008$ & $0.448 \\pm 0.010$ & $-0.448 \\pm 0.010$ & $0.509 \\pm 0.003$ & $0.293 \\pm 0.003$ & $-0.293 \\pm 0.003$ \\\\\n",
      "    LL MultiBBB & $0.339 \\pm 0.006$ & $0.233 \\pm 0.008$ & $-0.233 \\pm 0.008$ & $0.561 \\pm 0.001$ & $0.102 \\pm 0.001$ & $-0.102 \\pm 0.001$ \\\\\n",
      "    Rank-1 VI & $0.296 \\pm 0.007$ & $0.497 \\pm 0.004$ & $-0.497 \\pm 0.004$ & $0.512 \\pm 0.003$ & $0.328 \\pm 0.003$ & $-0.328 \\pm 0.003$ \\\\\n",
      "    LL iVON & $0.300 \\pm 0.009$ & $0.514 \\pm 0.009$ & $-0.514 \\pm 0.009$ & $0.505 \\pm 0.003$ & $0.348 \\pm 0.002$ & $-0.348 \\pm 0.002$ \\\\\n",
      "    LL MultiiVON & $0.341 \\pm 0.004$ & $0.241 \\pm 0.004$ & $-0.241 \\pm 0.004$ & $0.560 \\pm 0.001$ & $0.112 \\pm 0.002$ & $-0.112 \\pm 0.002$ \\\\\n",
      "    SVGD & $0.310 \\pm 0.007$ & $0.526 \\pm 0.009$ & $-0.526 \\pm 0.009$ & $0.517 \\pm 0.004$ & $0.354 \\pm 0.003$ & $-0.354 \\pm 0.003$ \\\\\n",
      "\\end{tabular}\n"
     ]
    }
   ],
   "source": [
    "algo_names = [\n",
    "    (\"map-1\", \"MAP\"),\n",
    "    (\"map-5\", \"Deep Ensemble\"),\n",
    "    (\"mcd_p0.1-1\", \"MCD\"),\n",
    "    (\"mcd-5\", \"MultiMCD\"),\n",
    "    (\"swag-1\", \"SWAG\"),\n",
    "    (\"swag-5\", \"MultiSWAG\"),\n",
    "    (\"swag_ll-1\", \"LL SWAG\"),\n",
    "    (\"laplace-1\", \"LL Laplace\"),\n",
    "    (\"laplace-5\", \"LL MultiLaplace\"),\n",
    "    (\"bbb-1\", \"LL BBB\"),\n",
    "    (\"bbb-5\", \"LL MultiBBB\"),\n",
    "    (\"rank1-1\", \"Rank-1 VI\"),\n",
    "    (\"ll_ivon-1\", \"LL iVON\"),\n",
    "    (\"ll_ivon-5\", \"LL MultiiVON\"),\n",
    "    (\"svgd-1\", \"SVGD\"),\n",
    "]\n",
    "\n",
    "def num(value, std, best=None, ty=None):\n",
    "    value = float(value)\n",
    "    std = float(std)\n",
    "    num_string = f\"{value:.3f} \\\\pm {std:.3f}\"\n",
    "\n",
    "    if best is None or ty is None:\n",
    "        return f\"${num_string}$\"\n",
    "\n",
    "    if ty == \"max\":\n",
    "        if value >= best:\n",
    "            num_string = f\"\\\\bm{{{num_string}}}\"\n",
    "    elif ty == \"min\":\n",
    "        if value <= best:\n",
    "            num_string = f\"\\\\bm{{{num_string}}}\"\n",
    "    elif ty == \"zero\":\n",
    "        if abs(value) <= best:\n",
    "            num_string = f\"\\\\bm{{{num_string}}}\"\n",
    "    return f\"${num_string}$\"\n",
    "\n",
    "def col_name(name, align):\n",
    "    return f\"\\\\multicolumn{{1}}{{{align}}}{{{name}}}\"\n",
    "\n",
    "def create_table(data, prefix):\n",
    "    print(\"\\\\begin{tabular}{l|rrrrrr}\")\n",
    "    print(f\"    {col_name('Model', 'l')} & {col_name('WR Accuracy', 'c')} & {col_name('WR ECE', 'c')} & {col_name('WR sECE', 'c')} & {col_name('Avg Accuracy', 'c')} & {col_name('Avg ECE', 'c')} & {col_name('Avg sECE', 'c')} \\\\\\\\\")\n",
    "    print(\"    \\\\hline\")\n",
    "\n",
    "    best_acc, best_acc_std = 0, 0\n",
    "    best_ece, best_ece_std = 1000, 0\n",
    "    best_sece, best_sece_std = 1000, 0\n",
    "    best_avg_acc, best_avg_acc_std = 0, 0\n",
    "    best_avg_ece, best_avg_ece_std = 1000, 0\n",
    "    best_avg_sece, best_avg_sece_std = 1000, 0\n",
    "\n",
    "    for algo, name in algo_names:\n",
    "        row = data[data[\"model\"] == algo]\n",
    "\n",
    "        if float(row[prefix + \"worst_acc accuracy\"]) > best_acc:\n",
    "            best_acc = float(row[prefix + \"worst_acc accuracy\"])\n",
    "            best_acc_std = float(row[prefix + \"worst_acc accuracy_std\"])\n",
    "        \n",
    "        if float(row[prefix + \"worst_acc ece\"]) < best_ece:\n",
    "            best_ece = float(row[prefix + \"worst_acc ece\"])\n",
    "            best_ece_std = float(row[prefix + \"worst_acc ece_std\"])\n",
    "        \n",
    "        if abs(float(row[prefix + \"worst_acc sece\"])) < best_sece:\n",
    "            best_sece = abs(float(row[prefix + \"worst_acc sece\"]))\n",
    "            best_sece_std = float(row[prefix + \"worst_acc sece_std\"])\n",
    "        \n",
    "        if float(row[prefix + \"all accuracy\"]) > best_avg_acc:\n",
    "            best_avg_acc = float(row[prefix + \"all accuracy\"])\n",
    "            best_avg_acc_std = float(row[prefix + \"all accuracy_std\"])\n",
    "        \n",
    "        if float(row[prefix + \"all ece\"]) < best_avg_ece:\n",
    "            best_avg_ece = float(row[prefix + \"all ece\"])\n",
    "            best_avg_ece_std = float(row[prefix + \"all ece_std\"])\n",
    "        \n",
    "        if abs(float(row[prefix + \"all sece\"])) < best_avg_sece:\n",
    "            best_avg_sece = abs(float(row[prefix + \"all sece\"]))\n",
    "            best_avg_sece_std = float(row[prefix + \"all sece_std\"])\n",
    "\n",
    "    best_acc -= best_acc_std\n",
    "    best_ece += best_ece_std\n",
    "    best_sece = abs(best_sece) + best_sece_std\n",
    "\n",
    "    best_avg_acc -= best_avg_acc_std\n",
    "    best_avg_ece += best_avg_ece_std\n",
    "    best_avg_sece = abs(best_avg_sece) + best_avg_sece_std\n",
    "\n",
    "    for algo, name in algo_names:\n",
    "        row = data[data[\"model\"] == algo]\n",
    "        print(f\"    {name} & {num(row[prefix + 'worst_acc accuracy'], row[prefix + 'worst_acc accuracy_std'], best_acc, 'max')} & {num(row[prefix + 'worst_acc ece'], row[prefix + 'worst_acc ece_std'], best_ece, 'min')} & {num(row[prefix + 'worst_acc sece'], row[prefix + 'worst_acc sece_std'], best_sece, 'zero')} & {num(row[prefix + 'all accuracy'], row[prefix + 'all accuracy_std'], best_avg_acc, 'max')} & {num(row[prefix + 'all ece'], row[prefix + 'all ece_std'], best_avg_ece, 'min')} & {num(row[prefix + 'all sece'], row[prefix + 'all sece_std'], best_avg_sece, 'zero')} \\\\\\\\\")\n",
    "    print(\"\\\\end{tabular}\")\n",
    "create_table(data, \"\")"
   ]
  }
 ],
 "metadata": {
  "kernelspec": {
   "display_name": "bdl2",
   "language": "python",
   "name": "python3"
  },
  "language_info": {
   "codemirror_mode": {
    "name": "ipython",
    "version": 3
   },
   "file_extension": ".py",
   "mimetype": "text/x-python",
   "name": "python",
   "nbconvert_exporter": "python",
   "pygments_lexer": "ipython3",
   "version": "3.10.10"
  },
  "orig_nbformat": 4
 },
 "nbformat": 4,
 "nbformat_minor": 2
}
